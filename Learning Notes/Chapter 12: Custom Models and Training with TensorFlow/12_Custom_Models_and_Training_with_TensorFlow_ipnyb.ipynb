{
  "nbformat": 4,
  "nbformat_minor": 0,
  "metadata": {
    "colab": {
      "name": "12.Custom Models and Training with TensorFlow.ipnyb",
      "provenance": [],
      "authorship_tag": "ABX9TyNkNeCaal2cwlxZ94KrBE0/"
    },
    "kernelspec": {
      "name": "python3",
      "display_name": "Python 3"
    },
    "language_info": {
      "name": "python"
    }
  },
  "cells": [
    {
      "cell_type": "markdown",
      "metadata": {
        "id": "uLfhec5seyjI"
      },
      "source": [
        "# A Quick Tour of TensorFlow"
      ]
    },
    {
      "cell_type": "code",
      "metadata": {
        "id": "00WEigu4ej_8"
      },
      "source": [
        ""
      ],
      "execution_count": null,
      "outputs": []
    }
  ]
}