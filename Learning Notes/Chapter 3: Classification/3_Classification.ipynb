{
  "nbformat": 4,
  "nbformat_minor": 0,
  "metadata": {
    "colab": {
      "name": "3.Classification.ipynb",
      "provenance": [],
      "authorship_tag": "ABX9TyMEjt2bClWMYOR127pg9bWT"
    },
    "kernelspec": {
      "name": "python3",
      "display_name": "Python 3"
    },
    "language_info": {
      "name": "python"
    }
  },
  "cells": [
    {
      "cell_type": "markdown",
      "metadata": {
        "id": "N-fKXrcdrdVO"
      },
      "source": [
        "# MNIST"
      ]
    },
    {
      "cell_type": "markdown",
      "metadata": {
        "id": "EQoSpb5rrmbT"
      },
      "source": [
        "In this chapter, we will be using the MNIST dataset, which is a set of 70,000 small images of digits handwritten by high school students and employees of the US Census Bureau\n",
        "\n",
        "Each image is labeled with the digit it represents. This set has been stud ied so much that it is often called the “Hello World” of Machine Learning: whenever people come up with a new classification algorithm, they are curious to see how it will perform on MNIST"
      ]
    },
    {
      "cell_type": "markdown",
      "metadata": {
        "id": "p8NVyPxIr94K"
      },
      "source": [
        "Scikit-Learn provides many helper functions to download popular datasets. MNIST is one of them. The following code fetches the MNIST dataset"
      ]
    },
    {
      "cell_type": "code",
      "metadata": {
        "id": "UUFjQgdErTcQ"
      },
      "source": [
        "from sklearn.datasets import fetch_openml\n",
        "mnist = fetch_openml('mnist_784', version=1, cache=True)\n",
        "#mnist"
      ],
      "execution_count": 1,
      "outputs": []
    },
    {
      "cell_type": "markdown",
      "metadata": {
        "id": "aLB5GQyFv2Lo"
      },
      "source": [
        "Datasets loaded by Scikit-Learn generally have a similar dictionary structure including:\n",
        "*   A DESCR key describing the dataset \n",
        "*   A data key containing an array with one row per instance and one column per feature\n",
        "*   A target key containing an array with the labels \n"
      ]
    },
    {
      "cell_type": "markdown",
      "metadata": {
        "id": "v7wnJ6iJwOc5"
      },
      "source": [
        "Let’s look at these arrays:"
      ]
    },
    {
      "cell_type": "code",
      "metadata": {
        "colab": {
          "base_uri": "https://localhost:8080/"
        },
        "id": "SPh-_A9KwOCU",
        "outputId": "88156f1c-0be7-4b05-929d-e0330cbd76ed"
      },
      "source": [
        "X, y = mnist['data'], mnist['target']\n",
        "X.shape"
      ],
      "execution_count": 2,
      "outputs": [
        {
          "output_type": "execute_result",
          "data": {
            "text/plain": [
              "(70000, 784)"
            ]
          },
          "metadata": {
            "tags": []
          },
          "execution_count": 2
        }
      ]
    },
    {
      "cell_type": "code",
      "metadata": {
        "colab": {
          "base_uri": "https://localhost:8080/"
        },
        "id": "qKkbtQ9Dwhcy",
        "outputId": "a514a0a4-93c8-49a3-e637-cd32de9f910c"
      },
      "source": [
        "y.shape"
      ],
      "execution_count": 3,
      "outputs": [
        {
          "output_type": "execute_result",
          "data": {
            "text/plain": [
              "(70000,)"
            ]
          },
          "metadata": {
            "tags": []
          },
          "execution_count": 3
        }
      ]
    },
    {
      "cell_type": "markdown",
      "metadata": {
        "id": "zI4S-9qMwud3"
      },
      "source": [
        "There are 70,000 images, and each image has 784 features. This is because each image is 28x28 pixels, and each feature simply represents one pixel’s intensity, from 0 (white) to 255 (black)\n",
        "\n",
        "Let’s take a peek at one digit from the dataset. All you need to do is grab an instance’s feature vector, reshape it to a array, and display it using Matplotlib’s imshow() function "
      ]
    },
    {
      "cell_type": "code",
      "metadata": {
        "colab": {
          "base_uri": "https://localhost:8080/",
          "height": 265
        },
        "id": "yI0rleXewlui",
        "outputId": "fb3566e0-22fd-45dd-e037-05604b2df7d4"
      },
      "source": [
        "%matplotlib inline\n",
        "import matplotlib\n",
        "import matplotlib.pyplot as plt\n",
        "\n",
        "some_digit = X[0]\n",
        "some_digit_image = some_digit.reshape(28, 28)\n",
        "\n",
        "plt.imshow(some_digit_image, cmap = matplotlib.cm.binary,\n",
        "           interpolation='nearest')\n",
        "plt.axis('off')"
      ],
      "execution_count": 4,
      "outputs": [
        {
          "output_type": "execute_result",
          "data": {
            "text/plain": [
              "(-0.5, 27.5, 27.5, -0.5)"
            ]
          },
          "metadata": {
            "tags": []
          },
          "execution_count": 4
        },
        {
          "output_type": "display_data",
          "data": {
            "image/png": "[encoded data removed]",
            "text/plain": [
              "<Figure size 432x288 with 1 Axes>"
            ]
          },
          "metadata": {
            "tags": [],
            "needs_background": "light"
          }
        }
      ]
    },
    {
      "cell_type": "markdown",
      "metadata": {
        "id": "s7W_1mg_yIwT"
      },
      "source": [
        "This looks like a 5, and indeed that’s what the label tells us:"
      ]
    },
    {
      "cell_type": "code",
      "metadata": {
        "colab": {
          "base_uri": "https://localhost:8080/",
          "height": 35
        },
        "id": "uYmFOCcdyLDT",
        "outputId": "8cc8b2f4-e33e-4610-9695-17aa6388a50c"
      },
      "source": [
        "y[0]"
      ],
      "execution_count": 5,
      "outputs": [
        {
          "output_type": "execute_result",
          "data": {
            "application/vnd.google.colaboratory.intrinsic+json": {
              "type": "string"
            },
            "text/plain": [
              "'5'"
            ]
          },
          "metadata": {
            "tags": []
          },
          "execution_count": 5
        }
      ]
    },
    {
      "cell_type": "markdown",
      "metadata": {
        "id": "ZfPyOt7QyR-f"
      },
      "source": [
        "But wait! You should always create a test set and set it aside before inspecting the data closely. The MNIST dataset is actually already split into a training set (the first 60,000 images) and a test set (the last 10,000 images)"
      ]
    },
    {
      "cell_type": "code",
      "metadata": {
        "id": "d6x3auaGyWVH"
      },
      "source": [
        "X_train, X_test, y_train, y_test = X[:60000], X[60000:], y[:60000], y[60000:]"
      ],
      "execution_count": 6,
      "outputs": []
    },
    {
      "cell_type": "markdown",
      "metadata": {
        "id": "iq13P-3cyiUA"
      },
      "source": [
        "Let’s also shuffle the training set; this will guarantee that all cross-validation folds will be similar (you don’t want one fold to be missing some digits). Moreover, some learn ing algorithms are sensitive to the order of the training instances, and they perform poorly if they get many similar instances in a row. Shuffling the dataset ensures that this won’t happen"
      ]
    },
    {
      "cell_type": "code",
      "metadata": {
        "id": "iNoobRJeyn1e"
      },
      "source": [
        "import numpy as np\n",
        "\n",
        "shuffle_index = np.random.permutation(60000)\n",
        "X_train, y_train = X_train[shuffle_index], y_train[shuffle_index]"
      ],
      "execution_count": 7,
      "outputs": []
    },
    {
      "cell_type": "markdown",
      "metadata": {
        "id": "c4VE5EjZy7w3"
      },
      "source": [
        "# Training a Binary Classifier"
      ]
    },
    {
      "cell_type": "markdown",
      "metadata": {
        "id": "ntDeySxxy-Gk"
      },
      "source": [
        "Let’s simplify the problem for now and only try to identify one digit—for example, the number 5. This “5-detector” will be an example of a binary classifier, capable of distinguishing between just two classes, 5 and not-5. Let’s create the target vectors for this classification task"
      ]
    },
    {
      "cell_type": "code",
      "metadata": {
        "id": "-iaxu4dezL6c"
      },
      "source": [
        "y_train_5 = (y_train == '5')\n",
        "y_test_5 = (y_test == '5')"
      ],
      "execution_count": 8,
      "outputs": []
    },
    {
      "cell_type": "markdown",
      "metadata": {
        "id": "KbkzwlZOzFJc"
      },
      "source": [
        "Okay, now let’s pick a classifier and train it. A good place to start is with a Stochastic Gradient Descent (SGD) classifier, using Scikit-Learn's SGDClassifier class. This clas sifier has the advantage of being capable of handling very large datasets efficiently\n",
        "\n",
        "This is in part because SGD deals with training instances independently, one at a time (which also makes SGD well suited for online learning), as we will see later. Let’s create an SGDClassifier and train it on the whole training set \n",
        "\n",
        "\n"
      ]
    },
    {
      "cell_type": "code",
      "metadata": {
        "colab": {
          "base_uri": "https://localhost:8080/"
        },
        "id": "Y-lTBuPo0F97",
        "outputId": "b6911d14-2ef0-4f5f-b9f8-a53592967782"
      },
      "source": [
        "from sklearn.linear_model import SGDClassifier\n",
        "\n",
        "sgd_clf = SGDClassifier(random_state=42)\n",
        "sgd_clf.fit(X_train, y_train_5)"
      ],
      "execution_count": 9,
      "outputs": [
        {
          "output_type": "execute_result",
          "data": {
            "text/plain": [
              "SGDClassifier(alpha=0.0001, average=False, class_weight=None,\n",
              "              early_stopping=False, epsilon=0.1, eta0=0.0, fit_intercept=True,\n",
              "              l1_ratio=0.15, learning_rate='optimal', loss='hinge',\n",
              "              max_iter=1000, n_iter_no_change=5, n_jobs=None, penalty='l2',\n",
              "              power_t=0.5, random_state=42, shuffle=True, tol=0.001,\n",
              "              validation_fraction=0.1, verbose=0, warm_start=False)"
            ]
          },
          "metadata": {
            "tags": []
          },
          "execution_count": 9
        }
      ]
    },
    {
      "cell_type": "markdown",
      "metadata": {
        "id": "mlRmT2azXgZl"
      },
      "source": [
        "Now you can use it to detect images of the number 5"
      ]
    },
    {
      "cell_type": "code",
      "metadata": {
        "colab": {
          "base_uri": "https://localhost:8080/"
        },
        "id": "QY6sOxETXiNt",
        "outputId": "9f146fec-5283-4714-b3bf-4cd0bb6743ff"
      },
      "source": [
        "sgd_clf.predict([some_digit])"
      ],
      "execution_count": 10,
      "outputs": [
        {
          "output_type": "execute_result",
          "data": {
            "text/plain": [
              "array([ True])"
            ]
          },
          "metadata": {
            "tags": []
          },
          "execution_count": 10
        }
      ]
    },
    {
      "cell_type": "markdown",
      "metadata": {
        "id": "hPyOhx_6X8Aj"
      },
      "source": [
        "# Performance Measures"
      ]
    },
    {
      "cell_type": "markdown",
      "metadata": {
        "id": "5MFFUdVgYApz"
      },
      "source": [
        "Evaluating a classifier is often significantly trickier than evaluating a regressor, so we will spend a large part of this chapter on this topic. There are many performance measures available, so grab another coffee and get ready to learn many new concepts and acronyms!"
      ]
    },
    {
      "cell_type": "markdown",
      "metadata": {
        "id": "4vXhITV3YJUL"
      },
      "source": [
        "## Measuring Accuracy Using Cross-Validation"
      ]
    },
    {
      "cell_type": "markdown",
      "metadata": {
        "id": "BfabkYvpYS1j"
      },
      "source": [
        "Let’s use the cross_val_score() function to evaluate your SGDClassifier model using K-fold cross-validation, with three folds\n",
        "\n",
        "Remember that K-fold cross validation means splitting the training set into K-folds (in this case, three), then making predictions and evaluating them on each fold using a model trained on the remaining folds"
      ]
    },
    {
      "cell_type": "code",
      "metadata": {
        "colab": {
          "base_uri": "https://localhost:8080/"
        },
        "id": "NnVqMA_AYibq",
        "outputId": "2f45289a-7645-483f-9902-90e0ca52996f"
      },
      "source": [
        "from sklearn.model_selection import cross_val_score\n",
        "cross_val_score(sgd_clf, X_train, y_train_5, cv=3, scoring='accuracy')"
      ],
      "execution_count": 11,
      "outputs": [
        {
          "output_type": "execute_result",
          "data": {
            "text/plain": [
              "array([0.9453 , 0.9645 , 0.93365])"
            ]
          },
          "metadata": {
            "tags": []
          },
          "execution_count": 11
        }
      ]
    },
    {
      "cell_type": "markdown",
      "metadata": {
        "id": "Mi94bDGwZCnq"
      },
      "source": [
        "Wow! Above 95% accuracy (ratio of correct predictions) on all cross-validation folds? This looks amazing, doesn’t it?"
      ]
    },
    {
      "cell_type": "markdown",
      "metadata": {
        "id": "pmGe3jXxZGRR"
      },
      "source": [
        "Well, before you get too excited, let’s look at a very dumb classifier that just classifies every single image in the “not-5” class"
      ]
    },
    {
      "cell_type": "code",
      "metadata": {
        "id": "mOP0RLSvZI0j"
      },
      "source": [
        "from sklearn.base import BaseEstimator\n",
        "\n",
        "class Never5Classifier(BaseEstimator):\n",
        "  def fit(self, X, y=None):\n",
        "    pass\n",
        "  def predict(self, X):\n",
        "    return np.zeros((len(X), 1), dtype=bool)"
      ],
      "execution_count": 12,
      "outputs": []
    },
    {
      "cell_type": "markdown",
      "metadata": {
        "id": "vTHDAmVoZcs_"
      },
      "source": [
        "Can you guess this model’s accuracy? Let’s find out"
      ]
    },
    {
      "cell_type": "code",
      "metadata": {
        "colab": {
          "base_uri": "https://localhost:8080/"
        },
        "id": "Fe5xQFUhZcBr",
        "outputId": "6b749022-5723-4893-aa45-dfc136fde677"
      },
      "source": [
        "never_5_clf = Never5Classifier()\n",
        "cross_val_score(never_5_clf, X_train, y_train_5, cv=3, scoring='accuracy')"
      ],
      "execution_count": 13,
      "outputs": [
        {
          "output_type": "execute_result",
          "data": {
            "text/plain": [
              "array([0.9095 , 0.9116 , 0.90785])"
            ]
          },
          "metadata": {
            "tags": []
          },
          "execution_count": 13
        }
      ]
    },
    {
      "cell_type": "markdown",
      "metadata": {
        "id": "B7zmEC3KZqeN"
      },
      "source": [
        "That’s right, it has over 90% accuracy! This is simply because only about 10% of the images are 5s, so if you always guess that an image is not a 5, you will be right about 90% of the time. Beats Nostradamus\n",
        "\n",
        "This demonstrates why accuracy is generally not the preferred performance measure for classifiers, especially when you are dealing with skewed datasets (i.e., when some classes are much more frequent than others)"
      ]
    },
    {
      "cell_type": "markdown",
      "metadata": {
        "id": "53Db8-CsZvBS"
      },
      "source": [
        "## Confusion Matrix"
      ]
    },
    {
      "cell_type": "markdown",
      "metadata": {
        "id": "2Lzetq80bCsk"
      },
      "source": [
        "A much better way to evaluate the performance of a classifier is to look at the confu sion matrix. The general idea is to count the number of times instances of class A are classified as class B. For example, to know the number of times the classifier confused images of 5s with 3s, you would look in the 5th row and 3rd column of the confusion matrix"
      ]
    },
    {
      "cell_type": "markdown",
      "metadata": {
        "id": "g5nboMZqbfJM"
      },
      "source": [
        "To compute the confusion matrix, you first need to have a set of predictions, so they can be compared to the actual targets. You could make predictions on the test set, but let’s keep it untouched for now (remember that you want to use the test set only at the very end of your project, once you have a classifier that you are ready to launch). Instead, you can use the cross_val_predict() function "
      ]
    },
    {
      "cell_type": "code",
      "metadata": {
        "id": "epjPheHibjz_"
      },
      "source": [
        "from sklearn.model_selection import cross_val_predict\n",
        "\n",
        "y_train_pred = cross_val_predict(sgd_clf, X_train, y_train_5, cv=3)"
      ],
      "execution_count": 14,
      "outputs": []
    },
    {
      "cell_type": "markdown",
      "metadata": {
        "id": "1PD93BIkbxW6"
      },
      "source": [
        "Just like the cross_val_score() function, cross_val_predict() performs K-fold cross-validation, but instead of returning the evaluation scores, it returns the predictions made on each test fold. This means that you get a clean prediction for each instance in the training set (“clean” meaning that the prediction is made by a model that never saw the data during training)"
      ]
    },
    {
      "cell_type": "markdown",
      "metadata": {
        "id": "ik5H7DR1cGXI"
      },
      "source": [
        "Now you are ready to get the confusion matrix using the confusion_matrix() function. Just pass it the target classes (y_train_5) and the predicted classes (y_train_pred) "
      ]
    },
    {
      "cell_type": "code",
      "metadata": {
        "colab": {
          "base_uri": "https://localhost:8080/"
        },
        "id": "ph9VGpuKcUfC",
        "outputId": "87b1f80e-2e1b-424d-8d8a-84c446ab13c2"
      },
      "source": [
        "from sklearn.metrics import confusion_matrix\n",
        "confusion_matrix(y_train_5, y_train_pred)"
      ],
      "execution_count": 15,
      "outputs": [
        {
          "output_type": "execute_result",
          "data": {
            "text/plain": [
              "array([[53089,  1490],\n",
              "       [ 1641,  3780]])"
            ]
          },
          "metadata": {
            "tags": []
          },
          "execution_count": 15
        }
      ]
    },
    {
      "cell_type": "markdown",
      "metadata": {
        "id": "iijh-0JTcqSg"
      },
      "source": [
        "Each row in a confusion matrix represents an actual class, while each column represents a predicted class\n",
        "\n",
        "The first row of this matrix considers non-5 images (the nega tive class): 53,272 of them were correctly classified as non-5s (they are called true negatives), while the remaining 1,307 were wrongly classified as 5s (false positives)\n",
        "\n",
        "The second row considers the images of 5s (the positive class): 1,077 were wrongly classified as non-5s (false negatives), while the remaining 4,344 were correctly classi fied as 5s (true positives)"
      ]
    },
    {
      "cell_type": "markdown",
      "metadata": {
        "id": "29fZou6E4VyF"
      },
      "source": [
        "A perfect classifier would have only true positives and true negatives, so its confusion matrix would have nonzero values only on its main diagonal (top left to bottom right)"
      ]
    },
    {
      "cell_type": "code",
      "metadata": {
        "colab": {
          "base_uri": "https://localhost:8080/"
        },
        "id": "MQ-nXEeP4ZOk",
        "outputId": "53bc01c9-a5fe-404b-fdd4-7feff189889e"
      },
      "source": [
        "y_train_perfect_predictions = y_train_5\n",
        "confusion_matrix(y_train_5, y_train_perfect_predictions)"
      ],
      "execution_count": 17,
      "outputs": [
        {
          "output_type": "execute_result",
          "data": {
            "text/plain": [
              "array([[54579,     0],\n",
              "       [    0,  5421]])"
            ]
          },
          "metadata": {
            "tags": []
          },
          "execution_count": 17
        }
      ]
    },
    {
      "cell_type": "markdown",
      "metadata": {
        "id": "6qn2oP455mhy"
      },
      "source": [
        "## Precision and Recall"
      ]
    },
    {
      "cell_type": "markdown",
      "metadata": {
        "id": "6ClKCZrr5qxY"
      },
      "source": [
        "Scikit-Learn provides several functions to compute classifier metrics, including precision and recall"
      ]
    },
    {
      "cell_type": "code",
      "metadata": {
        "colab": {
          "base_uri": "https://localhost:8080/"
        },
        "id": "fPYXlrjz5uj9",
        "outputId": "5107728b-b3b5-4a35-c181-030bb5c1285b"
      },
      "source": [
        "from sklearn.metrics import precision_score, recall_score\n",
        "precision_score(y_train_5, y_train_pred)\n"
      ],
      "execution_count": 20,
      "outputs": [
        {
          "output_type": "execute_result",
          "data": {
            "text/plain": [
              "0.7172675521821632"
            ]
          },
          "metadata": {
            "tags": []
          },
          "execution_count": 20
        }
      ]
    },
    {
      "cell_type": "code",
      "metadata": {
        "colab": {
          "base_uri": "https://localhost:8080/"
        },
        "id": "zHqlKxzb6Ip0",
        "outputId": "fd0422a7-8e02-4238-8b98-acc94e5c5d41"
      },
      "source": [
        "recall_score(y_train_5, y_train_pred)"
      ],
      "execution_count": 21,
      "outputs": [
        {
          "output_type": "execute_result",
          "data": {
            "text/plain": [
              "0.6972883231876038"
            ]
          },
          "metadata": {
            "tags": []
          },
          "execution_count": 21
        }
      ]
    },
    {
      "cell_type": "markdown",
      "metadata": {
        "id": "S1q2wcPW6agr"
      },
      "source": [
        "Now your 5-detector does not look as shiny as it did when you looked at its accuracy. When it claims an image represents a 5, it is correct only 72% of the time. Moreover, it only detects 70% of the 5s"
      ]
    },
    {
      "cell_type": "markdown",
      "metadata": {
        "id": "j-TiENsk6yri"
      },
      "source": [
        "To compute the F1 score, simply call the f1_score() function"
      ]
    },
    {
      "cell_type": "code",
      "metadata": {
        "colab": {
          "base_uri": "https://localhost:8080/"
        },
        "id": "shAW2LS36yUH",
        "outputId": "4171a5ef-d810-4b61-e14a-b619e0b1ba38"
      },
      "source": [
        "from sklearn.metrics import f1_score\n",
        "f1_score(y_train_5, y_train_pred)"
      ],
      "execution_count": 22,
      "outputs": [
        {
          "output_type": "execute_result",
          "data": {
            "text/plain": [
              "0.7071368440744553"
            ]
          },
          "metadata": {
            "tags": []
          },
          "execution_count": 22
        }
      ]
    },
    {
      "cell_type": "markdown",
      "metadata": {
        "id": "1SS8SjLZDEyL"
      },
      "source": [
        "## Precision/Recall Tradeof"
      ]
    },
    {
      "cell_type": "markdown",
      "metadata": {
        "id": "D7OQqWvkDGbQ"
      },
      "source": [
        "To understand this tradeoff, let’s look at how the SGDClassifier makes its classifiction decisions\n",
        "\n",
        "For each instance, it computes a score based on a decision function, and if that score is greater than a threshold, it assigns the instance to the positive class, or else it assigns it to the negative class"
      ]
    },
    {
      "cell_type": "markdown",
      "metadata": {
        "id": "Q_PK5cbUDRsj"
      },
      "source": [
        "Scikit-Learn does not let you set the threshold directly, but it does give you access to the decision scores that it uses to make predictions. Instead of calling the classifier’ method, you can call its method, which returns a predict() decision_function() score for each instance, and then make predictions based on those scores using any threshold you want"
      ]
    },
    {
      "cell_type": "code",
      "metadata": {
        "colab": {
          "base_uri": "https://localhost:8080/"
        },
        "id": "ER6JCgrxDYkm",
        "outputId": "08c1c7be-aba7-426b-c828-163b0ac47b20"
      },
      "source": [
        "y_scores = sgd_clf.decision_function([some_digit])\n",
        "y_scores"
      ],
      "execution_count": 24,
      "outputs": [
        {
          "output_type": "execute_result",
          "data": {
            "text/plain": [
              "array([2761.08643554])"
            ]
          },
          "metadata": {
            "tags": []
          },
          "execution_count": 24
        }
      ]
    },
    {
      "cell_type": "code",
      "metadata": {
        "colab": {
          "base_uri": "https://localhost:8080/"
        },
        "id": "M4Lkm8d3DkBF",
        "outputId": "2427be6f-cdf5-45d1-ea40-73dc5ff52274"
      },
      "source": [
        "thershold = 0\n",
        "y_some_digit_pred = (y_scores > thershold)\n",
        "y_some_digit_pred"
      ],
      "execution_count": 28,
      "outputs": [
        {
          "output_type": "execute_result",
          "data": {
            "text/plain": [
              "array([ True])"
            ]
          },
          "metadata": {
            "tags": []
          },
          "execution_count": 28
        }
      ]
    },
    {
      "cell_type": "markdown",
      "metadata": {
        "id": "2GOJFwgQDwJG"
      },
      "source": [
        "The SGDClassifier uses a threshold equal to 0, so the previous code returns the same result as the predict() method (i.e., True). Let’s raise the threshold "
      ]
    },
    {
      "cell_type": "code",
      "metadata": {
        "colab": {
          "base_uri": "https://localhost:8080/"
        },
        "id": "ShsuoSIzDmbs",
        "outputId": "db1d51d5-1128-48d2-85be-43ccbf59db40"
      },
      "source": [
        "thershold = 200000\n",
        "y_some_digit_pred = (y_scores > thershold)\n",
        "y_some_digit_pred"
      ],
      "execution_count": 29,
      "outputs": [
        {
          "output_type": "execute_result",
          "data": {
            "text/plain": [
              "array([False])"
            ]
          },
          "metadata": {
            "tags": []
          },
          "execution_count": 29
        }
      ]
    },
    {
      "cell_type": "markdown",
      "metadata": {
        "id": "vptoSn5vD_Yn"
      },
      "source": [
        "This confirms that raising the threshold decreases recall. The image actually repre sents a 5, and the classifier detects it when the threshold is 0, but it misses it when the threshold is increased to 200,000"
      ]
    },
    {
      "cell_type": "markdown",
      "metadata": {
        "id": "KOV91NBgEFJU"
      },
      "source": [
        "So how can you decide which threshold to use? For this you will first need to get the scores of all instances in the training set using the cross_val_predict() function again, but this time specifying that you want it to return decision scores instead of predictions"
      ]
    },
    {
      "cell_type": "code",
      "metadata": {
        "id": "5bFnlx3KELy-"
      },
      "source": [
        "y_scores = cross_val_predict(sgd_clf, X_train, y_train_5, cv=3,\n",
        "                             method='decision_function')"
      ],
      "execution_count": 30,
      "outputs": []
    },
    {
      "cell_type": "code",
      "metadata": {
        "id": "mT6cd7NIGAKf"
      },
      "source": [
        "# hack to work around issue #9589 in Scikit-Learn 0.19.0\n",
        "if y_scores.ndim == 2:\n",
        "    y_scores = y_scores[:, 1]"
      ],
      "execution_count": 45,
      "outputs": []
    },
    {
      "cell_type": "markdown",
      "metadata": {
        "id": "7rEWBM-TES8U"
      },
      "source": [
        "Now with these scores you can compute precision and recall for all possible thresh olds using the precision_recall_curve() function "
      ]
    },
    {
      "cell_type": "code",
      "metadata": {
        "id": "r2z42xL7EXlu"
      },
      "source": [
        "from sklearn.metrics import precision_recall_curve\n",
        "\n",
        "precisions, recalls, thersholds = precision_recall_curve(y_train_5, y_scores)"
      ],
      "execution_count": 46,
      "outputs": []
    },
    {
      "cell_type": "markdown",
      "metadata": {
        "id": "Q_xXojopEf3i"
      },
      "source": [
        "Finally, you can plot precision and recall as functions of the threshold value using\n",
        "Matplotlib"
      ]
    },
    {
      "cell_type": "code",
      "metadata": {
        "id": "SW7XRCRuEh-y"
      },
      "source": [
        "def plot_precision_recall_vs_thershold(precisions, recalls, thersholds):\n",
        "  plt.plot(thersholds, precisions[:-1], 'b--', label='Precision')\n",
        "  plt.plot(thersholds, recalls[:-1], 'g-', label='Recall')\n",
        "  plt.xlabel('Thershold')\n",
        "  plt.legend(loc='upper left')\n",
        "  plt.ylim([0,1])\n",
        "  plt.xlim([-100000, 45000]) "
      ],
      "execution_count": 70,
      "outputs": []
    },
    {
      "cell_type": "code",
      "metadata": {
        "colab": {
          "base_uri": "https://localhost:8080/",
          "height": 283
        },
        "id": "XLR4f9GDE4Jj",
        "outputId": "80b4a8dc-168d-4fae-ca31-ea30a8ccfcf7"
      },
      "source": [
        "plot_precision_recall_vs_thershold(precisions, recalls, thersholds)\n",
        "plt.show()"
      ],
      "execution_count": 71,
      "outputs": [
        {
          "output_type": "display_data",
          "data": {
            "image/png": "[encoded data removed]",
            "text/plain": [
              "<Figure size 432x288 with 1 Axes>"
            ]
          },
          "metadata": {
            "tags": [],
            "needs_background": "light"
          }
        }
      ]
    },
    {
      "cell_type": "markdown",
      "metadata": {
        "id": "gFgka5WFI5w5"
      },
      "source": [
        "Now you can simply select the threshold value that gives you the best precision/recall tradeoff for your task. Another way to select a good precision/recall tradeoff is to plot precision directly against recall"
      ]
    },
    {
      "cell_type": "code",
      "metadata": {
        "id": "WHqDtKw1I-kX"
      },
      "source": [
        "def plot_precision_versus_recall(precisions, recalls):\n",
        "  plt.plot(recalls, precisions)\n",
        "  plt.xlabel('Recall')\n",
        "  plt.ylabel('Precisions')\n",
        "  plt.xlim(0, 1)\n",
        "  plt.ylim(0, 1)"
      ],
      "execution_count": 91,
      "outputs": []
    },
    {
      "cell_type": "code",
      "metadata": {
        "colab": {
          "base_uri": "https://localhost:8080/",
          "height": 283
        },
        "id": "wxuhDMdBJNkQ",
        "outputId": "0f40b301-8037-4abb-e3eb-52b96f0e0b91"
      },
      "source": [
        "plot_precision_versus_recall(precisions, recalls)"
      ],
      "execution_count": 92,
      "outputs": [
        {
          "output_type": "display_data",
          "data": {
            "image/png": "[encoded data removed]",
            "text/plain": [
              "<Figure size 432x288 with 1 Axes>"
            ]
          },
          "metadata": {
            "tags": [],
            "needs_background": "light"
          }
        }
      ]
    },
    {
      "cell_type": "markdown",
      "metadata": {
        "id": "Tgg0HjLLJxRn"
      },
      "source": [
        "You can see that precision really starts to fall sharply around 80% recall. You will probably want to select a precision/recall tradeoff just before that drop—for example, at around 60% recall. But of course the choice depends on your project"
      ]
    },
    {
      "cell_type": "markdown",
      "metadata": {
        "id": "dSZgLkuJJ0nB"
      },
      "source": [
        "So let’s suppose you decide to aim for 90% precision. You look up the first plot (zooming in a bit) and find that you need to use a threshold of about 70,000 (5,000 for this case). To make predictions (on the training set for now), instead of calling the classifier’s predict() method, you can just run this code"
      ]
    },
    {
      "cell_type": "code",
      "metadata": {
        "id": "TOp8Q2bwKdnq"
      },
      "source": [
        "y_train_pred_90 = (y_scores > 5000)"
      ],
      "execution_count": 108,
      "outputs": []
    },
    {
      "cell_type": "markdown",
      "metadata": {
        "id": "Q0Tk90Z7KiIo"
      },
      "source": [
        "Let’s check these predictions’ precision and recall"
      ]
    },
    {
      "cell_type": "code",
      "metadata": {
        "colab": {
          "base_uri": "https://localhost:8080/"
        },
        "id": "1MhjqsElKjVl",
        "outputId": "1368539f-e287-4812-fc0b-973c18fd7ba3"
      },
      "source": [
        "precision_score(y_train_5, y_train_pred_90)"
      ],
      "execution_count": 109,
      "outputs": [
        {
          "output_type": "execute_result",
          "data": {
            "text/plain": [
              "0.9092585761711546"
            ]
          },
          "metadata": {
            "tags": []
          },
          "execution_count": 109
        }
      ]
    },
    {
      "cell_type": "code",
      "metadata": {
        "colab": {
          "base_uri": "https://localhost:8080/"
        },
        "id": "8ZMlkR3uKrhi",
        "outputId": "4fc6b80f-7aaf-4121-9cc8-1b016eae25d0"
      },
      "source": [
        "recall_score(y_train_5, y_train_pred_90)"
      ],
      "execution_count": 110,
      "outputs": [
        {
          "output_type": "execute_result",
          "data": {
            "text/plain": [
              "0.45471315255487915"
            ]
          },
          "metadata": {
            "tags": []
          },
          "execution_count": 110
        }
      ]
    },
    {
      "cell_type": "markdown",
      "metadata": {
        "id": "GXNqfJpkKqfM"
      },
      "source": [
        "Great, you have a 90% precision classifier (or close enough)! As you can see, it is fairly easy to create a classifier with virtually any precision you want: just set a high enough threshold, and you’re done. Hmm, not so fast. A high-precision classifier is not very useful if its recall is too low"
      ]
    },
    {
      "cell_type": "markdown",
      "metadata": {
        "id": "J0uybJHxLjlU"
      },
      "source": [
        "## The ROC Curve"
      ]
    },
    {
      "cell_type": "markdown",
      "metadata": {
        "id": "6TOASnaHMB0q"
      },
      "source": [
        "The receiver operating characteristic (ROC) curve is another common tool used with binary classifiers. It is very similar to the precision/recall curve, but instead of plot ting precision versus recall, the ROC curve plots the true positive rate (another name for recall) against the false positive rate"
      ]
    },
    {
      "cell_type": "code",
      "metadata": {
        "id": "SjJ8fmrpLlId"
      },
      "source": [
        ""
      ],
      "execution_count": null,
      "outputs": []
    }
  ]
}