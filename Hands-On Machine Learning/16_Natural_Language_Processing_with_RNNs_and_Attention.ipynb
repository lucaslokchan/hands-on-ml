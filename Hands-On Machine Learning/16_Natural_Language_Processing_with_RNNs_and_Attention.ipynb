{
  "nbformat": 4,
  "nbformat_minor": 0,
  "metadata": {
    "colab": {
      "name": "16. Natural Language Processing with RNNs and Attention.ipynb",
      "provenance": [],
      "collapsed_sections": [],
      "authorship_tag": "ABX9TyOQAXrrEZCcKBIrYQoudZTX"
    },
    "kernelspec": {
      "name": "python3",
      "display_name": "Python 3"
    },
    "language_info": {
      "name": "python"
    }
  },
  "cells": [
    {
      "cell_type": "markdown",
      "source": [
        "# Generating Shakespearean Text Using a Character RNN"
      ],
      "metadata": {
        "id": "lluO0-MKIeT1"
      }
    },
    {
      "cell_type": "markdown",
      "source": [
        "In a famous [2015 blog post](https://karpathy.github.io/2015/05/21/rnn-effectiveness/) titled “The Unreasonable Effectiveness of Recurrent Neural Networks,” Andrej Karpathy showed how to train an RNN to predict the next character in a sentence\n",
        "\n",
        "This **Char-RNN** can then be used to generate novel text, one character at a time"
      ],
      "metadata": {
        "id": "JfPF18pCIg-5"
      }
    },
    {
      "cell_type": "markdown",
      "source": [
        "## Creating the Training Dataset"
      ],
      "metadata": {
        "id": "rz_zpqHTJCnq"
      }
    },
    {
      "cell_type": "markdown",
      "source": [
        "First, let’s download all of Shakespeare’s work, using Keras’s handy get_file() function and downloading the data from Andrej Karpathy’ [Char-RNN project](https://github.com/karpathy/char-rnn):"
      ],
      "metadata": {
        "id": "XlIC-lcqJJJb"
      }
    },
    {
      "cell_type": "code",
      "source": [
        "import tensorflow as tf\n",
        "import tensorflow.keras as keras"
      ],
      "metadata": {
        "id": "sX6rM0CXJo8q"
      },
      "execution_count": 17,
      "outputs": []
    },
    {
      "cell_type": "code",
      "execution_count": 18,
      "metadata": {
        "id": "B5TpAbqIHx2O"
      },
      "outputs": [],
      "source": [
        "shakespeare_url = 'https://raw.githubusercontent.com/karpathy/char-rnn/master/data/tinyshakespeare/input.txt'\n",
        "filepath = keras.utils.get_file('shakespeare.txt', shakespeare_url)\n",
        "with open(filepath) as f:\n",
        "  shakespeare_text = f.read()"
      ]
    },
    {
      "cell_type": "markdown",
      "source": [
        "Next, we must encode every character as an integer. One option is to create a custom preprocessing layer, as we did in Chapter 13\n",
        "\n",
        "But in this case, it will be simpler to use Keras’ Tokenizer class. First we need to fit a **tokenizer** to the text: **it will find all the characters used in the text and map each of them to a different character ID, from 1 to the number of distinct characters** (it does not start at 0, so we can use that value for masking, as we will see later in this chapter):"
      ],
      "metadata": {
        "id": "528552bvJ1q4"
      }
    },
    {
      "cell_type": "code",
      "source": [
        "tokenizer = keras.preprocessing.text.Tokenizer(char_level=True)\n",
        "tokenizer.fit_on_texts([shakespeare_text])"
      ],
      "metadata": {
        "id": "lNPR-xC2KWTK"
      },
      "execution_count": 19,
      "outputs": []
    },
    {
      "cell_type": "markdown",
      "source": [
        "We set **char_level=True** to get **character-level encoding rather than the default word-level encoding**. Note that this **tokenizer converts the text to lowercase by default** (but you can set lower=False if you do not want that)\n",
        "\n",
        "Now the tokenizer can encode a sentence (or a list of sentences) to a list of character IDs and back, and it tells us how many distinct characters there are and the total number of characters in the text:"
      ],
      "metadata": {
        "id": "4OWS860MKqEY"
      }
    },
    {
      "cell_type": "code",
      "source": [
        "tokenizer.texts_to_sequences([\"First\"])"
      ],
      "metadata": {
        "colab": {
          "base_uri": "https://localhost:8080/"
        },
        "id": "rj0hOHSmKpnt",
        "outputId": "8954cab3-019e-4c0b-9cb1-b018ae712bd3"
      },
      "execution_count": 20,
      "outputs": [
        {
          "output_type": "execute_result",
          "data": {
            "text/plain": [
              "[[20, 6, 9, 8, 3]]"
            ]
          },
          "metadata": {},
          "execution_count": 20
        }
      ]
    },
    {
      "cell_type": "code",
      "source": [
        "tokenizer.sequences_to_texts([[20, 6, 9, 8, 3]])"
      ],
      "metadata": {
        "colab": {
          "base_uri": "https://localhost:8080/"
        },
        "id": "8PpVqeHfLgP1",
        "outputId": "0c3ce27c-8797-43d0-e8a3-e9b59b25a750"
      },
      "execution_count": 21,
      "outputs": [
        {
          "output_type": "execute_result",
          "data": {
            "text/plain": [
              "['f i r s t']"
            ]
          },
          "metadata": {},
          "execution_count": 21
        }
      ]
    },
    {
      "cell_type": "code",
      "source": [
        "max_id = len(tokenizer.word_index) # number of distinct characters\n",
        "max_id"
      ],
      "metadata": {
        "colab": {
          "base_uri": "https://localhost:8080/"
        },
        "id": "3Da8bub2Lo41",
        "outputId": "715cb6b2-062d-4c46-d1c5-042889f25029"
      },
      "execution_count": 22,
      "outputs": [
        {
          "output_type": "execute_result",
          "data": {
            "text/plain": [
              "39"
            ]
          },
          "metadata": {},
          "execution_count": 22
        }
      ]
    },
    {
      "cell_type": "code",
      "source": [
        "dataset_size = tokenizer.document_count # total number of characters\n",
        "dataset_size"
      ],
      "metadata": {
        "colab": {
          "base_uri": "https://localhost:8080/"
        },
        "id": "asqyxRV5LwfL",
        "outputId": "9efba0c8-40c3-40ef-ed4f-23339d278fe0"
      },
      "execution_count": 23,
      "outputs": [
        {
          "output_type": "execute_result",
          "data": {
            "text/plain": [
              "1"
            ]
          },
          "metadata": {},
          "execution_count": 23
        }
      ]
    },
    {
      "cell_type": "markdown",
      "source": [
        "Let’s encode the full text so each character is represented by its ID (we subtract 1 to get IDs from 0 to 38, rather than from 1 to 39):"
      ],
      "metadata": {
        "id": "S7U2pVYz_-dz"
      }
    },
    {
      "cell_type": "code",
      "source": [
        "import numpy as np\n",
        "[encoded] = np.array(tokenizer.texts_to_sequences([shakespeare_text])) - 1"
      ],
      "metadata": {
        "id": "jf1N5p_S_4Aq"
      },
      "execution_count": 24,
      "outputs": []
    },
    {
      "cell_type": "markdown",
      "source": [
        "Before we continue, we need to split the dataset into a training set, a validation set, and a test set. We **can’t just shuffle all the characters in the text,** so how do you split a sequential dataset?"
      ],
      "metadata": {
        "id": "WilnAQNbAQC9"
      }
    },
    {
      "cell_type": "markdown",
      "source": [
        "## How to Split a Sequential Dataset"
      ],
      "metadata": {
        "id": "Saml8x0rAf0T"
      }
    },
    {
      "cell_type": "markdown",
      "source": [
        "For example, we can take the first 90% of the text for the training set, then the next 5% for the validation set, and the final 5% for the test set\n",
        "\n",
        "It would also be a good idea to **leave a gap between these sets** to **avoid** the risk of a **paragraph overlapping** over two sets\n",
        "\n",
        "When dealing with time series, you would in **general split across time,:** for example, you might take the years **2000 to 2012 for the training set, the years 2013 to 2015 for the validation set, and the years 2016 to 2018 for the test set.** However, in some cases you may be able to split along other dimensions, which will give you a longer time period to train on\n",
        "\n",
        "So, it is often safer to split across time—but this implicitly **assumes that the patterns the RNN can learn in the past** (in the training set) **will still exist in the future.** In other words, we assume that the time series is **stationary**\n",
        "\n",
        "For many time series this assumption is reasonable **(e.g., chemical reactions should be fine, since the laws of chemistry don’t change every day),** but f**or many others it is not (e.g., financial markets are notoriously not stationary since patterns disappear as soon as traders spot them and start exploiting them)**\n",
        "\n",
        "To **make sure** the time series is indeed sufficiently **stationary,** you can **plot the model’s errors on the validation set across time: if the model performs much better on the first part of the validation set than on the last part, then the time series may not be stationary enough,** and you might be **better off training the model on a shorter time span.**\n",
        "\n",
        "Now back to Shakespeare! Let’s take the first 90% of the text for the training set (keeping the rest for the validation set and the test set), and create a tf.data.Dataset that will return each character one by one from this set:"
      ],
      "metadata": {
        "id": "L7FYdN1VA1rU"
      }
    },
    {
      "cell_type": "code",
      "source": [
        "train_size = dataset_size * 90 // 100\n",
        "dataset = tf.data.Dataset.from_tensor_slices(encoded[:train_size])"
      ],
      "metadata": {
        "id": "eUMwdiLbAkiS"
      },
      "execution_count": 25,
      "outputs": []
    },
    {
      "cell_type": "markdown",
      "source": [
        "## Chopping the Sequential Dataset into Multiple Windows"
      ],
      "metadata": {
        "id": "mYBvevngDlDv"
      }
    },
    {
      "cell_type": "markdown",
      "source": [
        "The training set now consists of a single sequence of **over a million characters,** so we **can’t just train the neural network directly** on it: **the RNN would be equivalent to a deep net with over a million layers,** and we would have a single (very long) instance to train it\n",
        "\n",
        "Instead, we will use the dataset’s **window() method** to **convert** this long sequence of characters **into many smaller windows of text**\n",
        "\n",
        "**Every instance** in the dataset will be a **fairly short substring of the whole text,** and the **RNN will be unrolled only over the length of these substrings.** This is called **truncated backpropagation through time**\n",
        "\n",
        "Let's call the window() method to create a dataset of short text windows:"
      ],
      "metadata": {
        "id": "nbjhOncoDpsb"
      }
    },
    {
      "cell_type": "code",
      "source": [
        "n_steps = 100\n",
        "window_length = n_steps + 1 # target = input shifted 1 character ahead\n",
        "dataset = dataset.window(window_length, shift=1, drop_remainder=True)"
      ],
      "metadata": {
        "id": "6iMrvFwHDsdF"
      },
      "execution_count": 26,
      "outputs": []
    },
    {
      "cell_type": "markdown",
      "source": [
        "By **default,** the **window()** method **creates nonoverlapping windows,** but **to get the largest possible training set we use shift=1** so the **first window contains characters 0 to 100. the second contains characters 1 to 101,** and so on\n",
        "\n",
        "To **ensure that all windows are exactly 101 characters** long (which will allow us to create batches without having to do any padding), we set **drop_remainder=True** (otherwise the last 100 windows will contain 100 characters, 99 characters, and so on down to 1 character)\n",
        "\n",
        "The **window() method creates a dataset that contains windows, each of which is also represented as a dataset.** It’s a **nested dataset,** analogous to a list of lists\n",
        "\n",
        "This is useful when you want to transform each window by calling its dataset methods (e.g., to shuffle them or batch them). However, we **cannot use a nested dataset directly for training,** as our model will **expect tensors as input,** not datasets\n",
        "\n",
        "So, we must call the **flat_map() method:** it **converts a nested dataset into a flat dataset** (one that does not contain datasets). For example, suppose {1, 2, 3} represents a dataset containing the sequence of tensors 1, 2, and 3. **If you flatten the nested dataset {{1, 2}, {3, 4, 5, 6}}, you get back the flat dataset {1, 2, 3, 4, 5, 6}**\n",
        "\n",
        "Moreover, the **flat_map() method takes a function as an argument, which allows you to transform each dataset in the nested dataset before flattening.** For example, if you pass the function **lambda ds: ds.batch(2) to flat_map(),** then it will transform the nested dataset {{1, 2}, {3, 4, 5, 6}} into the flat dataset **{[1, 2], [3, 4], [5, 6]}:** it’s a dataset of tensors of size 2 \n",
        "\n",
        "With that in mind, we are ready to flatten our dataset:"
      ],
      "metadata": {
        "id": "Ciy0FcEWFvMh"
      }
    },
    {
      "cell_type": "code",
      "source": [
        "dataset = dataset.flat_map(lambda window: window.batch(window_length))"
      ],
      "metadata": {
        "id": "A2hjvmA7FWxL"
      },
      "execution_count": 27,
      "outputs": []
    },
    {
      "cell_type": "markdown",
      "source": [
        "Notice that we call batch(window_length) on each window: since all windows have exactly that length, we will get a single tensor for each of them. **Now the dataset contains consecutive windows of 101 characters each**\n",
        "\n",
        "Since **Gradient Descent** works best when the instances in the **training set are independent and identically distributed**, we need to shuffle these windows. Then we can batch the windows and separate the inputs (the first 100 characters) from the target (the last character):"
      ],
      "metadata": {
        "id": "ZTDzb_Ogr8Mk"
      }
    },
    {
      "cell_type": "code",
      "source": [
        "batch_size = 32\n",
        "dataset = dataset.shuffle(10000).batch(batch_size)\n",
        "dataset = dataset.map(lambda windows: (windows[:, :-1], windows[:, 1:]))"
      ],
      "metadata": {
        "id": "Q0QDHKTkznU6"
      },
      "execution_count": 28,
      "outputs": []
    },
    {
      "cell_type": "markdown",
      "source": [
        "Figure 16-1 summarizes the dataset preparation steps discussed so far (showing windows of length 11 rather than 101, and a batch size of 3 instead of 32)"
      ],
      "metadata": {
        "id": "IwftVQ6az1h1"
      }
    },
    {
      "cell_type": "markdown",
      "source": [
        "<p align='center'>\n",
        "<img src='data:image/png;base64,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'>\n",
        "</p>\n",
        "Figure 16-1. Preparing a dataset of shuffled windows"
      ],
      "metadata": {
        "id": "6OMD5nFm0CXc"
      }
    },
    {
      "cell_type": "markdown",
      "source": [
        "As discussed in Chapter 13, categorical input features should generally be encoded, usually as one-hot vectors or as embeddings. Here, we will encode each character using a one-hot vector because there are fairly few distinct characters (only 39):"
      ],
      "metadata": {
        "id": "38lOr9hZ0esv"
      }
    },
    {
      "cell_type": "code",
      "source": [
        "dataset = dataset.map(\n",
        "    lambda X_batch, Y_batch: (tf.one_hot(X_batch, depth=max_id), Y_batch))"
      ],
      "metadata": {
        "id": "VarJEuV30Brb"
      },
      "execution_count": 29,
      "outputs": []
    },
    {
      "cell_type": "markdown",
      "source": [
        "Finally, we just need to add prefetching:"
      ],
      "metadata": {
        "id": "OsH6CiXv04b6"
      }
    },
    {
      "cell_type": "code",
      "source": [
        "dataset = dataset.prefetch(1)"
      ],
      "metadata": {
        "id": "EQAVYRir039c"
      },
      "execution_count": 31,
      "outputs": []
    },
    {
      "cell_type": "markdown",
      "source": [
        "## Building and Training the Char-RNN Model"
      ],
      "metadata": {
        "id": "j4p54SDj097_"
      }
    }
  ]
}