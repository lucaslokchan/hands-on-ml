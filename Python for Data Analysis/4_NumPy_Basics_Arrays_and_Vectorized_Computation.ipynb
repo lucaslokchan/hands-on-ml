{
  "nbformat": 4,
  "nbformat_minor": 0,
  "metadata": {
    "colab": {
      "name": "4. NumPy Basics Arrays and Vectorized Computation.ipynb",
      "provenance": [],
      "collapsed_sections": [],
      "authorship_tag": "ABX9TyOl8xKZDdnqzW0CG13cOGJt"
    },
    "kernelspec": {
      "name": "python3",
      "display_name": "Python 3"
    },
    "language_info": {
      "name": "python"
    }
  },
  "cells": [
    {
      "cell_type": "markdown",
      "metadata": {
        "id": "7v4369REC1uE"
      },
      "source": [
        "To give you an idea of the performance difference, consider a NumPy array of one million integers, and the equivalent Python list:"
      ]
    },
    {
      "cell_type": "code",
      "metadata": {
        "id": "8mDCCOzXBcJu"
      },
      "source": [
        "import numpy as np\n",
        "my_arr = np.arange(1000000)\n",
        "my_list = list(range(1000000))"
      ],
      "execution_count": 381,
      "outputs": []
    },
    {
      "cell_type": "markdown",
      "metadata": {
        "id": "WvQtTJUuCmhu"
      },
      "source": [
        "Now let’s multiply each sequence by 2:"
      ]
    },
    {
      "cell_type": "code",
      "metadata": {
        "colab": {
          "base_uri": "https://localhost:8080/"
        },
        "id": "EKp3inzYCm1a",
        "outputId": "ccc8b1a6-b668-45ab-b221-b2f02e414157"
      },
      "source": [
        "%time for _ in range(10): my_arr2 = my_arr * 2"
      ],
      "execution_count": 382,
      "outputs": [
        {
          "output_type": "stream",
          "name": "stdout",
          "text": [
            "CPU times: user 24.4 ms, sys: 9.86 ms, total: 34.3 ms\n",
            "Wall time: 79.3 ms\n"
          ]
        }
      ]
    },
    {
      "cell_type": "code",
      "metadata": {
        "colab": {
          "base_uri": "https://localhost:8080/"
        },
        "id": "GimS9hZtCrlU",
        "outputId": "d3042116-fcf6-4133-dc47-963c545d6867"
      },
      "source": [
        "%time for _ in range(10): my_list2 = [x * 2 for x in my_list]"
      ],
      "execution_count": 383,
      "outputs": [
        {
          "output_type": "stream",
          "name": "stdout",
          "text": [
            "CPU times: user 989 ms, sys: 209 ms, total: 1.2 s\n",
            "Wall time: 1.2 s\n"
          ]
        }
      ]
    },
    {
      "cell_type": "markdown",
      "metadata": {
        "id": "vnAxhZ0QC3xI"
      },
      "source": [
        "# 4.1 The NumPy ndarray: A Multidimensional Array Object"
      ]
    },
    {
      "cell_type": "markdown",
      "metadata": {
        "id": "doIgoxKiC6JK"
      },
      "source": [
        "One of the key features of NumPy is its **N-dimensional** array object, or ndarray, which is a fast, flexible container for large datasets in Python. Arrays enable you to perform mathematical operations on whole blocks of data using similar syntax to the equivalent operations between scalar elements"
      ]
    },
    {
      "cell_type": "code",
      "metadata": {
        "colab": {
          "base_uri": "https://localhost:8080/"
        },
        "id": "wljyA63lC_nf",
        "outputId": "85d4a1d0-b363-40d6-87d2-49bd28f1e486"
      },
      "source": [
        "data = np.random.randn(2, 3)\n",
        "data"
      ],
      "execution_count": 384,
      "outputs": [
        {
          "output_type": "execute_result",
          "data": {
            "text/plain": [
              "array([[-1.15780973, -0.32409358, -0.28120767],\n",
              "       [-2.59768786, -0.76134052, -0.54247271]])"
            ]
          },
          "metadata": {},
          "execution_count": 384
        }
      ]
    },
    {
      "cell_type": "markdown",
      "metadata": {
        "id": "fbXIE3QFDO_K"
      },
      "source": [
        "I then write mathematical operations with data:"
      ]
    },
    {
      "cell_type": "code",
      "metadata": {
        "colab": {
          "base_uri": "https://localhost:8080/"
        },
        "id": "kAYPnc7ODCNp",
        "outputId": "600cd927-0ac2-4709-f131-7667e0f28aab"
      },
      "source": [
        "data * 10"
      ],
      "execution_count": 385,
      "outputs": [
        {
          "output_type": "execute_result",
          "data": {
            "text/plain": [
              "array([[-11.57809733,  -3.24093584,  -2.81207667],\n",
              "       [-25.9768786 ,  -7.61340524,  -5.42472712]])"
            ]
          },
          "metadata": {},
          "execution_count": 385
        }
      ]
    },
    {
      "cell_type": "code",
      "metadata": {
        "colab": {
          "base_uri": "https://localhost:8080/"
        },
        "id": "MIq-jfLSDSLm",
        "outputId": "33724e1e-5c3c-454c-89f3-04796fa38c19"
      },
      "source": [
        "data + data"
      ],
      "execution_count": 386,
      "outputs": [
        {
          "output_type": "execute_result",
          "data": {
            "text/plain": [
              "array([[-2.31561947, -0.64818717, -0.56241533],\n",
              "       [-5.19537572, -1.52268105, -1.08494542]])"
            ]
          },
          "metadata": {},
          "execution_count": 386
        }
      ]
    },
    {
      "cell_type": "markdown",
      "metadata": {
        "id": "n5E5sYTMDUf7"
      },
      "source": [
        "An ndarray is a generic multidimensional container for homogeneous data; that is, **all of the elements must be the same type**\n",
        "\n",
        "Every array has a shape, a tuple indicating the size of each dimension, and a dtype, an object describing the data type of the array:"
      ]
    },
    {
      "cell_type": "code",
      "metadata": {
        "colab": {
          "base_uri": "https://localhost:8080/"
        },
        "id": "4Q-wPvwIDe1f",
        "outputId": "a8a96b82-8230-4509-a7c6-5e8ed7622e46"
      },
      "source": [
        "data.shape"
      ],
      "execution_count": 387,
      "outputs": [
        {
          "output_type": "execute_result",
          "data": {
            "text/plain": [
              "(2, 3)"
            ]
          },
          "metadata": {},
          "execution_count": 387
        }
      ]
    },
    {
      "cell_type": "code",
      "metadata": {
        "colab": {
          "base_uri": "https://localhost:8080/"
        },
        "id": "_bFkVxNRDgUU",
        "outputId": "dd1d1317-72a7-40b3-aeb1-5fea7f3661e3"
      },
      "source": [
        "data.dtype"
      ],
      "execution_count": 388,
      "outputs": [
        {
          "output_type": "execute_result",
          "data": {
            "text/plain": [
              "dtype('float64')"
            ]
          },
          "metadata": {},
          "execution_count": 388
        }
      ]
    },
    {
      "cell_type": "markdown",
      "metadata": {
        "id": "OWDt1XeMDj8k"
      },
      "source": [
        "## Creating ndarrays"
      ]
    },
    {
      "cell_type": "markdown",
      "metadata": {
        "id": "Y5GeKQ9UDspz"
      },
      "source": [
        "The easiest way to create an array is to use the array function\n",
        "\n",
        "This accepts any sequence-like object (including other arrays) and produces a new NumPy array con taining the passed data\n",
        "\n",
        "For example, a list is a good candidate for conversion:"
      ]
    },
    {
      "cell_type": "code",
      "metadata": {
        "colab": {
          "base_uri": "https://localhost:8080/"
        },
        "id": "-MoAL8eIDp85",
        "outputId": "eee699c3-67d6-48e1-c442-5ca52676864f"
      },
      "source": [
        "data1 = [6, 7.5, 8, 0, 1]\n",
        "arr1 = np.array(data1)\n",
        "arr1"
      ],
      "execution_count": 389,
      "outputs": [
        {
          "output_type": "execute_result",
          "data": {
            "text/plain": [
              "array([6. , 7.5, 8. , 0. , 1. ])"
            ]
          },
          "metadata": {},
          "execution_count": 389
        }
      ]
    },
    {
      "cell_type": "markdown",
      "metadata": {
        "id": "aJAyOqZaD-Gz"
      },
      "source": [
        "Nested sequences, like a list of equal-length lists, will be converted into a multidimen sional array:"
      ]
    },
    {
      "cell_type": "code",
      "metadata": {
        "colab": {
          "base_uri": "https://localhost:8080/"
        },
        "id": "6DOgpSDtD7J1",
        "outputId": "16d55d09-21d1-45ca-ecc8-a5fba78255d0"
      },
      "source": [
        "data2 = [[1, 2, 3, 4], [5, 6, 7, 8]]\n",
        "arr2 = np.array(data2)\n",
        "arr2"
      ],
      "execution_count": 390,
      "outputs": [
        {
          "output_type": "execute_result",
          "data": {
            "text/plain": [
              "array([[1, 2, 3, 4],\n",
              "       [5, 6, 7, 8]])"
            ]
          },
          "metadata": {},
          "execution_count": 390
        }
      ]
    },
    {
      "cell_type": "markdown",
      "metadata": {
        "id": "k0KvUSBxEHMJ"
      },
      "source": [
        "Since data2 was a list of lists, the NumPy array arr2 has two dimensions with shape inferred from the data\n",
        "\n",
        "We can confirm this by inspecting the ndim and shape attributes:"
      ]
    },
    {
      "cell_type": "code",
      "metadata": {
        "colab": {
          "base_uri": "https://localhost:8080/"
        },
        "id": "LAfpLnoPEKAI",
        "outputId": "91a52117-77f2-4fb0-e05f-42d499e40be4"
      },
      "source": [
        "arr2.ndim"
      ],
      "execution_count": 391,
      "outputs": [
        {
          "output_type": "execute_result",
          "data": {
            "text/plain": [
              "2"
            ]
          },
          "metadata": {},
          "execution_count": 391
        }
      ]
    },
    {
      "cell_type": "code",
      "metadata": {
        "colab": {
          "base_uri": "https://localhost:8080/"
        },
        "id": "4KfX3CnUEbhT",
        "outputId": "2708a5c1-7a53-49a1-c7e8-3d681ae016ae"
      },
      "source": [
        "arr2.shape"
      ],
      "execution_count": 392,
      "outputs": [
        {
          "output_type": "execute_result",
          "data": {
            "text/plain": [
              "(2, 4)"
            ]
          },
          "metadata": {},
          "execution_count": 392
        }
      ]
    },
    {
      "cell_type": "markdown",
      "metadata": {
        "id": "g02IrEwSEdKw"
      },
      "source": [
        "Unless explicitly specified (more on this later), np.array tries to infer a good data type for the array that it creates\n",
        "\n",
        "The data type is stored in a special dtype metadata object; for example, in the previous two examples we have:"
      ]
    },
    {
      "cell_type": "code",
      "metadata": {
        "colab": {
          "base_uri": "https://localhost:8080/"
        },
        "id": "qvsWMuJcEnDF",
        "outputId": "f15c90bd-2cb9-41de-dc80-425a0428a70c"
      },
      "source": [
        "arr1.dtype"
      ],
      "execution_count": 393,
      "outputs": [
        {
          "output_type": "execute_result",
          "data": {
            "text/plain": [
              "dtype('float64')"
            ]
          },
          "metadata": {},
          "execution_count": 393
        }
      ]
    },
    {
      "cell_type": "code",
      "metadata": {
        "colab": {
          "base_uri": "https://localhost:8080/"
        },
        "id": "jacvd8RzEoeU",
        "outputId": "42ce4f65-7fef-4f4d-b5ed-33b17bde932f"
      },
      "source": [
        "arr2.dtype"
      ],
      "execution_count": 394,
      "outputs": [
        {
          "output_type": "execute_result",
          "data": {
            "text/plain": [
              "dtype('int64')"
            ]
          },
          "metadata": {},
          "execution_count": 394
        }
      ]
    },
    {
      "cell_type": "markdown",
      "metadata": {
        "id": "i1Qr9BU0EqEf"
      },
      "source": [
        "zeros and ones create arrays of 0s or 1s, respectively, with a given length or shape. empty creates an array without initializing its values to any particular value"
      ]
    },
    {
      "cell_type": "code",
      "metadata": {
        "colab": {
          "base_uri": "https://localhost:8080/"
        },
        "id": "pSoeJC-0Ez4D",
        "outputId": "e59a8768-4f04-4d41-aeb0-ba38a5b933cf"
      },
      "source": [
        "np.zeros(10)"
      ],
      "execution_count": 395,
      "outputs": [
        {
          "output_type": "execute_result",
          "data": {
            "text/plain": [
              "array([0., 0., 0., 0., 0., 0., 0., 0., 0., 0.])"
            ]
          },
          "metadata": {},
          "execution_count": 395
        }
      ]
    },
    {
      "cell_type": "code",
      "metadata": {
        "colab": {
          "base_uri": "https://localhost:8080/"
        },
        "id": "QDAguzYbE3ID",
        "outputId": "73c5566d-4812-406b-c2f1-d6f9554c4653"
      },
      "source": [
        "np.zeros((3, 6))"
      ],
      "execution_count": 396,
      "outputs": [
        {
          "output_type": "execute_result",
          "data": {
            "text/plain": [
              "array([[0., 0., 0., 0., 0., 0.],\n",
              "       [0., 0., 0., 0., 0., 0.],\n",
              "       [0., 0., 0., 0., 0., 0.]])"
            ]
          },
          "metadata": {},
          "execution_count": 396
        }
      ]
    },
    {
      "cell_type": "markdown",
      "metadata": {
        "id": "910KmbuxFTPv"
      },
      "source": [
        "It’s not safe to assume that np.empty will return an array of all zeros. In some cases, it may return uninitialized “garbage” values"
      ]
    },
    {
      "cell_type": "code",
      "metadata": {
        "colab": {
          "base_uri": "https://localhost:8080/"
        },
        "id": "jSMKZenhE5nC",
        "outputId": "ebff4cad-98c6-4e17-810d-358cbfc81004"
      },
      "source": [
        "np.empty((2, 3, 2))"
      ],
      "execution_count": 397,
      "outputs": [
        {
          "output_type": "execute_result",
          "data": {
            "text/plain": [
              "array([[[5., 5.],\n",
              "        [5., 5.],\n",
              "        [3., 3.]],\n",
              "\n",
              "       [[3., 3.],\n",
              "        [1., 1.],\n",
              "        [1., 1.]]])"
            ]
          },
          "metadata": {},
          "execution_count": 397
        }
      ]
    },
    {
      "cell_type": "markdown",
      "metadata": {
        "id": "fLju0sLSFY1C"
      },
      "source": [
        "arange is an array-valued version of the built-in Python range function:"
      ]
    },
    {
      "cell_type": "code",
      "metadata": {
        "colab": {
          "base_uri": "https://localhost:8080/"
        },
        "id": "FlCfiGgsFV9h",
        "outputId": "a6cbe80b-26ab-4c4f-96fd-eb1db9b7aef1"
      },
      "source": [
        "np.arange(15)"
      ],
      "execution_count": 398,
      "outputs": [
        {
          "output_type": "execute_result",
          "data": {
            "text/plain": [
              "array([ 0,  1,  2,  3,  4,  5,  6,  7,  8,  9, 10, 11, 12, 13, 14])"
            ]
          },
          "metadata": {},
          "execution_count": 398
        }
      ]
    },
    {
      "cell_type": "markdown",
      "metadata": {
        "id": "qTIwOpY7Fj4I"
      },
      "source": [
        "See Table 4-1 for a short list of standard array creation functions. Since NumPy is focused on numerical computing, the data type, if not specified, will in many cases be float64"
      ]
    },
    {
      "cell_type": "markdown",
      "metadata": {
        "id": "OX_45azkFpU-"
      },
      "source": [
        "Table 4-1. Array creation functions\n",
        "<p align='center'>\n",
        "<img src='data:image/png;base64,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'>\n",
        "</p>"
      ]
    },
    {
      "cell_type": "markdown",
      "metadata": {
        "id": "3vBZrYmFGHZc"
      },
      "source": [
        "## Data Types for ndarrays"
      ]
    },
    {
      "cell_type": "markdown",
      "metadata": {
        "id": "VZA7DN4RGKCT"
      },
      "source": [
        "The data type or dtype is a special object containing **the information (or metadata, data about data) the ndarray needs to interpret a chunk of memory as a particular type of data**:"
      ]
    },
    {
      "cell_type": "code",
      "metadata": {
        "id": "ph0jQmU6GNG3"
      },
      "source": [
        "arr1 = np.array([1, 2, 3], dtype=np.float64)\n",
        "arr2 = np.array([1, 2, 3], dtype=np.int32)"
      ],
      "execution_count": 399,
      "outputs": []
    },
    {
      "cell_type": "code",
      "metadata": {
        "colab": {
          "base_uri": "https://localhost:8080/"
        },
        "id": "nS5SD52YGaSE",
        "outputId": "75476944-1862-4777-f7b7-0fadd38555da"
      },
      "source": [
        "arr1.dtype"
      ],
      "execution_count": 400,
      "outputs": [
        {
          "output_type": "execute_result",
          "data": {
            "text/plain": [
              "dtype('float64')"
            ]
          },
          "metadata": {},
          "execution_count": 400
        }
      ]
    },
    {
      "cell_type": "code",
      "metadata": {
        "colab": {
          "base_uri": "https://localhost:8080/"
        },
        "id": "uz-iu0YQGgS8",
        "outputId": "e6da6311-9c04-4498-bfde-984206476062"
      },
      "source": [
        "arr2.dtype"
      ],
      "execution_count": 401,
      "outputs": [
        {
          "output_type": "execute_result",
          "data": {
            "text/plain": [
              "dtype('int32')"
            ]
          },
          "metadata": {},
          "execution_count": 401
        }
      ]
    },
    {
      "cell_type": "markdown",
      "metadata": {
        "id": "iWIhCFXBGvL1"
      },
      "source": [
        "See Table 4-2 for a full listing of NumPy’s supported data types"
      ]
    },
    {
      "cell_type": "markdown",
      "metadata": {
        "id": "s9RPNKNNGvjM"
      },
      "source": [
        "Table 4-2. NumPy data types\n",
        "<p align='center'>\n",
        "<img src='data:image/png;base64,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'>\n",
        "</p>"
      ]
    },
    {
      "cell_type": "markdown",
      "metadata": {
        "id": "kgYT32DkHFJ6"
      },
      "source": [
        "You can explicitly convert or cast an array from one dtype to another using ndarray’ astype method:"
      ]
    },
    {
      "cell_type": "code",
      "metadata": {
        "id": "84qwIuDdGcne"
      },
      "source": [
        "arr = np.array([1, 2, 3, 4, 5])"
      ],
      "execution_count": 402,
      "outputs": []
    },
    {
      "cell_type": "code",
      "metadata": {
        "colab": {
          "base_uri": "https://localhost:8080/"
        },
        "id": "UNhXj9o6HKr1",
        "outputId": "78652639-9960-4abe-8a1a-48cb2a55d9d7"
      },
      "source": [
        "arr.dtype"
      ],
      "execution_count": 403,
      "outputs": [
        {
          "output_type": "execute_result",
          "data": {
            "text/plain": [
              "dtype('int64')"
            ]
          },
          "metadata": {},
          "execution_count": 403
        }
      ]
    },
    {
      "cell_type": "code",
      "metadata": {
        "id": "j3X63f1VHMBB"
      },
      "source": [
        "float_arr = arr.astype(np.float64)"
      ],
      "execution_count": 404,
      "outputs": []
    },
    {
      "cell_type": "code",
      "metadata": {
        "colab": {
          "base_uri": "https://localhost:8080/"
        },
        "id": "k-71qGc-HPUT",
        "outputId": "01260529-c3d7-47be-801e-d150d422322a"
      },
      "source": [
        "float_arr.dtype"
      ],
      "execution_count": 405,
      "outputs": [
        {
          "output_type": "execute_result",
          "data": {
            "text/plain": [
              "dtype('float64')"
            ]
          },
          "metadata": {},
          "execution_count": 405
        }
      ]
    },
    {
      "cell_type": "markdown",
      "metadata": {
        "id": "-jCY9y7eHT5r"
      },
      "source": [
        "In this example, integers were cast to floating point. **If I cast some floating-point numbers to be of integer dtype, the decimal part will be truncated:**"
      ]
    },
    {
      "cell_type": "code",
      "metadata": {
        "id": "q4ynpYpZHXsc"
      },
      "source": [
        "arr = np.array([3.7, -1.2, -2.6, 0.5, 12.9, 10.1])"
      ],
      "execution_count": 406,
      "outputs": []
    },
    {
      "cell_type": "code",
      "metadata": {
        "colab": {
          "base_uri": "https://localhost:8080/"
        },
        "id": "_L2kfL2eHbUM",
        "outputId": "a434e705-8030-4995-dc33-e2a95b67f533"
      },
      "source": [
        "arr"
      ],
      "execution_count": 407,
      "outputs": [
        {
          "output_type": "execute_result",
          "data": {
            "text/plain": [
              "array([ 3.7, -1.2, -2.6,  0.5, 12.9, 10.1])"
            ]
          },
          "metadata": {},
          "execution_count": 407
        }
      ]
    },
    {
      "cell_type": "code",
      "metadata": {
        "colab": {
          "base_uri": "https://localhost:8080/"
        },
        "id": "YvNf8u2pHcHz",
        "outputId": "a020c26b-289b-423b-96a4-65ce1bce5380"
      },
      "source": [
        "arr.astype(np.int32)"
      ],
      "execution_count": 408,
      "outputs": [
        {
          "output_type": "execute_result",
          "data": {
            "text/plain": [
              "array([ 3, -1, -2,  0, 12, 10], dtype=int32)"
            ]
          },
          "metadata": {},
          "execution_count": 408
        }
      ]
    },
    {
      "cell_type": "markdown",
      "metadata": {
        "id": "YRSCkm6BHfhR"
      },
      "source": [
        "If you have an array of **strings** representing numbers, you can use astype to convert them to **numeric** form:"
      ]
    },
    {
      "cell_type": "code",
      "metadata": {
        "id": "Y-xzRwdHHjCF"
      },
      "source": [
        "numeric_strings = np.array(['1.25', '-9.6', '42'], dtype=np.string_)"
      ],
      "execution_count": 409,
      "outputs": []
    },
    {
      "cell_type": "code",
      "metadata": {
        "colab": {
          "base_uri": "https://localhost:8080/"
        },
        "id": "9zopZLUAHurQ",
        "outputId": "d72ae437-3017-4085-8e8b-1b7bff8bb68b"
      },
      "source": [
        "numeric_strings.astype(float)"
      ],
      "execution_count": 410,
      "outputs": [
        {
          "output_type": "execute_result",
          "data": {
            "text/plain": [
              "array([ 1.25, -9.6 , 42.  ])"
            ]
          },
          "metadata": {},
          "execution_count": 410
        }
      ]
    },
    {
      "cell_type": "markdown",
      "metadata": {
        "id": "xqL0knsUJhIy"
      },
      "source": [
        "If casting were to fail for some reason (like a string that cannot be converted to float64), a ValueError will be raised\n",
        "\n",
        "Here I was a bit lazy and wrote float instead of np .float64; **NumPy aliases the Python types to its own equivalent data dtypes**"
      ]
    },
    {
      "cell_type": "code",
      "metadata": {
        "id": "CmJSOSFPJrh8"
      },
      "source": [
        "int_array = np.arange(10)"
      ],
      "execution_count": 411,
      "outputs": []
    },
    {
      "cell_type": "code",
      "metadata": {
        "id": "xdDooslyJtzg"
      },
      "source": [
        "calibers = np.array([.22, .270, .357, .380, .44, .50], dtype=np.float64)"
      ],
      "execution_count": 412,
      "outputs": []
    },
    {
      "cell_type": "code",
      "metadata": {
        "colab": {
          "base_uri": "https://localhost:8080/"
        },
        "id": "yX3gFbmRJ1jN",
        "outputId": "2548a93f-a105-4c7c-ac18-32e52beea798"
      },
      "source": [
        "int_array.astype(calibers.dtype)"
      ],
      "execution_count": 413,
      "outputs": [
        {
          "output_type": "execute_result",
          "data": {
            "text/plain": [
              "array([0., 1., 2., 3., 4., 5., 6., 7., 8., 9.])"
            ]
          },
          "metadata": {},
          "execution_count": 413
        }
      ]
    },
    {
      "cell_type": "markdown",
      "metadata": {
        "id": "1FmWWdI-J80r"
      },
      "source": [
        "There are shorthand type code strings you can also use to refer to a dtype:"
      ]
    },
    {
      "cell_type": "code",
      "metadata": {
        "id": "0U-CZ7tgKAki"
      },
      "source": [
        "empty_uint32 = np.empty(8, dtype='u4')"
      ],
      "execution_count": 414,
      "outputs": []
    },
    {
      "cell_type": "code",
      "metadata": {
        "colab": {
          "base_uri": "https://localhost:8080/"
        },
        "id": "Gr34FVMDKFFE",
        "outputId": "54e7f9bc-5bcd-48c4-fdd6-e095457cc094"
      },
      "source": [
        "empty_uint32"
      ],
      "execution_count": 415,
      "outputs": [
        {
          "output_type": "execute_result",
          "data": {
            "text/plain": [
              "array([         0, 1075314688,          0, 1075707904,          0,\n",
              "       1075838976,          0, 1072693248], dtype=uint32)"
            ]
          },
          "metadata": {},
          "execution_count": 415
        }
      ]
    },
    {
      "cell_type": "markdown",
      "metadata": {
        "id": "DuL0Q8ZHKQ_d"
      },
      "source": [
        "Calling astype always creates a new array (a copy of the data), even if the new dtype is the same as the old dtype"
      ]
    },
    {
      "cell_type": "markdown",
      "metadata": {
        "id": "4UQUdDMYKSNK"
      },
      "source": [
        "## Arithmetic with NumPy Arrays"
      ]
    },
    {
      "cell_type": "markdown",
      "metadata": {
        "id": "uRMG9Wy7eJyR"
      },
      "source": [
        "Arrays are important because they enable you to **express batch operations on data without writing any for loops. NumPy users call this vectorization**\n",
        "\n",
        "Any arithmetic operations between equal-size arrays applies the operation element-wise:"
      ]
    },
    {
      "cell_type": "code",
      "metadata": {
        "id": "XwsPN__KedxO"
      },
      "source": [
        "arr = np.array([[1., 2., 3.], [4., 5., 6.]])"
      ],
      "execution_count": 416,
      "outputs": []
    },
    {
      "cell_type": "code",
      "metadata": {
        "colab": {
          "base_uri": "https://localhost:8080/"
        },
        "id": "XvSY6vvYeirL",
        "outputId": "f2d4a773-41d2-4ac9-a23d-1f3a99213703"
      },
      "source": [
        "arr"
      ],
      "execution_count": 417,
      "outputs": [
        {
          "output_type": "execute_result",
          "data": {
            "text/plain": [
              "array([[1., 2., 3.],\n",
              "       [4., 5., 6.]])"
            ]
          },
          "metadata": {},
          "execution_count": 417
        }
      ]
    },
    {
      "cell_type": "code",
      "metadata": {
        "colab": {
          "base_uri": "https://localhost:8080/"
        },
        "id": "je3Wzc-aejqC",
        "outputId": "c9d0c64d-a7d8-46a9-c400-47d4f8bc244e"
      },
      "source": [
        "arr * arr"
      ],
      "execution_count": 418,
      "outputs": [
        {
          "output_type": "execute_result",
          "data": {
            "text/plain": [
              "array([[ 1.,  4.,  9.],\n",
              "       [16., 25., 36.]])"
            ]
          },
          "metadata": {},
          "execution_count": 418
        }
      ]
    },
    {
      "cell_type": "code",
      "metadata": {
        "colab": {
          "base_uri": "https://localhost:8080/"
        },
        "id": "-s9l4uX-elS8",
        "outputId": "ff41fab9-18bf-479d-e40b-9ef80d81def5"
      },
      "source": [
        "arr - arr"
      ],
      "execution_count": 419,
      "outputs": [
        {
          "output_type": "execute_result",
          "data": {
            "text/plain": [
              "array([[0., 0., 0.],\n",
              "       [0., 0., 0.]])"
            ]
          },
          "metadata": {},
          "execution_count": 419
        }
      ]
    },
    {
      "cell_type": "markdown",
      "metadata": {
        "id": "rwFoJvajem4f"
      },
      "source": [
        "Arithmetic operations with scalars propagate the scalar argument to each element in the array:"
      ]
    },
    {
      "cell_type": "code",
      "metadata": {
        "colab": {
          "base_uri": "https://localhost:8080/"
        },
        "id": "heis1Neoesyf",
        "outputId": "4be06950-bfbc-45a3-daa4-cca18dac9605"
      },
      "source": [
        "1 / arr"
      ],
      "execution_count": 420,
      "outputs": [
        {
          "output_type": "execute_result",
          "data": {
            "text/plain": [
              "array([[1.        , 0.5       , 0.33333333],\n",
              "       [0.25      , 0.2       , 0.16666667]])"
            ]
          },
          "metadata": {},
          "execution_count": 420
        }
      ]
    },
    {
      "cell_type": "code",
      "metadata": {
        "colab": {
          "base_uri": "https://localhost:8080/"
        },
        "id": "Zsi7ED4eevXl",
        "outputId": "35dc7f3f-4e1f-4c45-bfec-2615dee1ad74"
      },
      "source": [
        "arr ** 0.5"
      ],
      "execution_count": 421,
      "outputs": [
        {
          "output_type": "execute_result",
          "data": {
            "text/plain": [
              "array([[1.        , 1.41421356, 1.73205081],\n",
              "       [2.        , 2.23606798, 2.44948974]])"
            ]
          },
          "metadata": {},
          "execution_count": 421
        }
      ]
    },
    {
      "cell_type": "markdown",
      "metadata": {
        "id": "1XStoQLcew6F"
      },
      "source": [
        "Comparisons between arrays of the same size yield boolean arrays:"
      ]
    },
    {
      "cell_type": "code",
      "metadata": {
        "id": "B94yt6a3eyjT"
      },
      "source": [
        "arr2 = np.array([[0., 4., 1.], [7., 2., 12.]])"
      ],
      "execution_count": 422,
      "outputs": []
    },
    {
      "cell_type": "code",
      "metadata": {
        "colab": {
          "base_uri": "https://localhost:8080/"
        },
        "id": "94j9h3gde0cE",
        "outputId": "8608abe0-bfb1-48d3-cc45-76556295be87"
      },
      "source": [
        "arr2"
      ],
      "execution_count": 423,
      "outputs": [
        {
          "output_type": "execute_result",
          "data": {
            "text/plain": [
              "array([[ 0.,  4.,  1.],\n",
              "       [ 7.,  2., 12.]])"
            ]
          },
          "metadata": {},
          "execution_count": 423
        }
      ]
    },
    {
      "cell_type": "code",
      "metadata": {
        "colab": {
          "base_uri": "https://localhost:8080/"
        },
        "id": "RQ_lJZ5Ge1nQ",
        "outputId": "7fc62f5e-970b-4a1c-8ac1-9dbddebbda80"
      },
      "source": [
        "arr2 > arr"
      ],
      "execution_count": 424,
      "outputs": [
        {
          "output_type": "execute_result",
          "data": {
            "text/plain": [
              "array([[False,  True, False],\n",
              "       [ True, False,  True]])"
            ]
          },
          "metadata": {},
          "execution_count": 424
        }
      ]
    },
    {
      "cell_type": "markdown",
      "metadata": {
        "id": "yX5w5F29e6Cl"
      },
      "source": [
        "Operations between differently sized arrays is called broadcasting"
      ]
    },
    {
      "cell_type": "markdown",
      "metadata": {
        "id": "myyK-qzMe6vN"
      },
      "source": [
        "## Basic Indexing and Slicing"
      ]
    },
    {
      "cell_type": "markdown",
      "metadata": {
        "id": "Ux805aYUfK1R"
      },
      "source": [
        "There are many ways you may want to select a subset of your data or individual elements\n",
        "\n",
        "One-dimensional arrays are simple; on the surface they act similarly to Python lists:"
      ]
    },
    {
      "cell_type": "code",
      "metadata": {
        "id": "Nl-F2658fRHg"
      },
      "source": [
        "arr = np.arange(10)"
      ],
      "execution_count": 425,
      "outputs": []
    },
    {
      "cell_type": "code",
      "metadata": {
        "colab": {
          "base_uri": "https://localhost:8080/"
        },
        "id": "yx3YyfHegGib",
        "outputId": "cde68fcc-175e-41e3-99d6-05c5b905be65"
      },
      "source": [
        "arr"
      ],
      "execution_count": 426,
      "outputs": [
        {
          "output_type": "execute_result",
          "data": {
            "text/plain": [
              "array([0, 1, 2, 3, 4, 5, 6, 7, 8, 9])"
            ]
          },
          "metadata": {},
          "execution_count": 426
        }
      ]
    },
    {
      "cell_type": "code",
      "metadata": {
        "colab": {
          "base_uri": "https://localhost:8080/"
        },
        "id": "XqaIWpCwgHfE",
        "outputId": "513a5866-8303-4329-d50d-688d97ad7dd9"
      },
      "source": [
        "arr[5]"
      ],
      "execution_count": 427,
      "outputs": [
        {
          "output_type": "execute_result",
          "data": {
            "text/plain": [
              "5"
            ]
          },
          "metadata": {},
          "execution_count": 427
        }
      ]
    },
    {
      "cell_type": "code",
      "metadata": {
        "colab": {
          "base_uri": "https://localhost:8080/"
        },
        "id": "LgC1cSldgIfU",
        "outputId": "c32fe552-4fed-4685-c290-25f3aef0feca"
      },
      "source": [
        "arr[5:8]"
      ],
      "execution_count": 428,
      "outputs": [
        {
          "output_type": "execute_result",
          "data": {
            "text/plain": [
              "array([5, 6, 7])"
            ]
          },
          "metadata": {},
          "execution_count": 428
        }
      ]
    },
    {
      "cell_type": "code",
      "metadata": {
        "id": "GBUc0HqggKkg"
      },
      "source": [
        "arr[5:8] = 12"
      ],
      "execution_count": 429,
      "outputs": []
    },
    {
      "cell_type": "code",
      "metadata": {
        "colab": {
          "base_uri": "https://localhost:8080/"
        },
        "id": "r8VpLRFtgMvA",
        "outputId": "3cf0ab4f-a13f-43a8-d5d9-9d1118a34344"
      },
      "source": [
        "arr"
      ],
      "execution_count": 430,
      "outputs": [
        {
          "output_type": "execute_result",
          "data": {
            "text/plain": [
              "array([ 0,  1,  2,  3,  4, 12, 12, 12,  8,  9])"
            ]
          },
          "metadata": {},
          "execution_count": 430
        }
      ]
    },
    {
      "cell_type": "markdown",
      "metadata": {
        "id": "iG6yJQQwgOYt"
      },
      "source": [
        "If you assign a scalar value to a slice, as in arr[5:8] = 12, the value is propageted (or broadcasted) to the entire selection\n",
        "\n",
        "An important first distinction from Python’s built-in lists is that array slices are views on the original array. This means that **the data is not copied, and any modifications to the view will be reflected in the source array**\n",
        "\n",
        "To give an example of this, I first create a slice of arr:"
      ]
    },
    {
      "cell_type": "code",
      "metadata": {
        "id": "IXWeUWT7grVP"
      },
      "source": [
        "arr_slice = arr[5:8]"
      ],
      "execution_count": 431,
      "outputs": []
    },
    {
      "cell_type": "code",
      "metadata": {
        "colab": {
          "base_uri": "https://localhost:8080/"
        },
        "id": "4UKnYMV-gtWT",
        "outputId": "74f696f2-5bee-41c9-d27a-c2c96f832b5d"
      },
      "source": [
        "arr_slice"
      ],
      "execution_count": 432,
      "outputs": [
        {
          "output_type": "execute_result",
          "data": {
            "text/plain": [
              "array([12, 12, 12])"
            ]
          },
          "metadata": {},
          "execution_count": 432
        }
      ]
    },
    {
      "cell_type": "markdown",
      "metadata": {
        "id": "uSZcH0higvhu"
      },
      "source": [
        "Now, when I change values in arr_slice, the mutations are reflected in the original array arr:"
      ]
    },
    {
      "cell_type": "code",
      "metadata": {
        "id": "nrp8oNNVgujm"
      },
      "source": [
        "arr_slice[1] = 12345"
      ],
      "execution_count": 433,
      "outputs": []
    },
    {
      "cell_type": "code",
      "metadata": {
        "colab": {
          "base_uri": "https://localhost:8080/"
        },
        "id": "2kpUdWuLg3b8",
        "outputId": "e3d8e150-e96e-45f1-f1f2-2aa8dd8e50a7"
      },
      "source": [
        "arr"
      ],
      "execution_count": 434,
      "outputs": [
        {
          "output_type": "execute_result",
          "data": {
            "text/plain": [
              "array([    0,     1,     2,     3,     4,    12, 12345,    12,     8,\n",
              "           9])"
            ]
          },
          "metadata": {},
          "execution_count": 434
        }
      ]
    },
    {
      "cell_type": "markdown",
      "metadata": {
        "id": "1pPcesyvg7mO"
      },
      "source": [
        "The “bare” slice [:] will assign to all values in an array:"
      ]
    },
    {
      "cell_type": "code",
      "metadata": {
        "id": "JKbPP2-6g_tx"
      },
      "source": [
        "arr_slice[:] = 64"
      ],
      "execution_count": 435,
      "outputs": []
    },
    {
      "cell_type": "code",
      "metadata": {
        "colab": {
          "base_uri": "https://localhost:8080/"
        },
        "id": "RMclwuSZhCGW",
        "outputId": "40e138d7-e452-42dc-f4ac-f89c20ce10ff"
      },
      "source": [
        "arr"
      ],
      "execution_count": 436,
      "outputs": [
        {
          "output_type": "execute_result",
          "data": {
            "text/plain": [
              "array([ 0,  1,  2,  3,  4, 64, 64, 64,  8,  9])"
            ]
          },
          "metadata": {},
          "execution_count": 436
        }
      ]
    },
    {
      "cell_type": "markdown",
      "metadata": {
        "id": "g7DPixVvhI7s"
      },
      "source": [
        "If you want a copy of a slice of an ndarray instead of a view, you will need to explicitly copy the array"
      ]
    },
    {
      "cell_type": "code",
      "metadata": {
        "colab": {
          "base_uri": "https://localhost:8080/"
        },
        "id": "JgQpBXDWhNu-",
        "outputId": "b744bc37-e6db-4a73-c220-2d7651ad5555"
      },
      "source": [
        "arr[5:8].copy()"
      ],
      "execution_count": 437,
      "outputs": [
        {
          "output_type": "execute_result",
          "data": {
            "text/plain": [
              "array([64, 64, 64])"
            ]
          },
          "metadata": {},
          "execution_count": 437
        }
      ]
    },
    {
      "cell_type": "markdown",
      "metadata": {
        "id": "U8X_lUzbhRJr"
      },
      "source": [
        "With higher dimensional arrays, you have many more options\n",
        "\n",
        "In a two-dimensional array, the elements at each index are no longer scalars but rather one-dimensional arrays:"
      ]
    },
    {
      "cell_type": "code",
      "metadata": {
        "id": "rDqgENLGhZpb"
      },
      "source": [
        "arr2d = np.array([[1, 2, 3], [4, 5, 6], [7, 8, 9]])"
      ],
      "execution_count": 438,
      "outputs": []
    },
    {
      "cell_type": "code",
      "metadata": {
        "colab": {
          "base_uri": "https://localhost:8080/"
        },
        "id": "1nV-yg-ihcY6",
        "outputId": "ebd202fe-cb09-41d7-f261-94a1dee5652e"
      },
      "source": [
        "arr2d[2]"
      ],
      "execution_count": 439,
      "outputs": [
        {
          "output_type": "execute_result",
          "data": {
            "text/plain": [
              "array([7, 8, 9])"
            ]
          },
          "metadata": {},
          "execution_count": 439
        }
      ]
    },
    {
      "cell_type": "markdown",
      "metadata": {
        "id": "jm736kZ1hfg4"
      },
      "source": [
        "Thus, individual elements can be accessed recursively\n",
        "\n",
        "But that is a bit too much work, so you can pass a comma-separated list of indices to select individual elements. So these are equivalent\n",
        "\n"
      ]
    },
    {
      "cell_type": "code",
      "metadata": {
        "colab": {
          "base_uri": "https://localhost:8080/"
        },
        "id": "wqSfA6K1hnx4",
        "outputId": "a05b7803-1f9f-4d4d-a88e-0791e1ab9b8d"
      },
      "source": [
        "arr2d[0][2]"
      ],
      "execution_count": 440,
      "outputs": [
        {
          "output_type": "execute_result",
          "data": {
            "text/plain": [
              "3"
            ]
          },
          "metadata": {},
          "execution_count": 440
        }
      ]
    },
    {
      "cell_type": "code",
      "metadata": {
        "colab": {
          "base_uri": "https://localhost:8080/"
        },
        "id": "H9GR8RTVhwj5",
        "outputId": "4e1d3dfc-eeb5-4786-f777-dd131ba45dc0"
      },
      "source": [
        "arr2d[0, 2]"
      ],
      "execution_count": 441,
      "outputs": [
        {
          "output_type": "execute_result",
          "data": {
            "text/plain": [
              "3"
            ]
          },
          "metadata": {},
          "execution_count": 441
        }
      ]
    },
    {
      "cell_type": "markdown",
      "metadata": {
        "id": "Gzp4smNCh0l7"
      },
      "source": [
        "See Figure 4-1 for an illustration of indexing on a two-dimensional array"
      ]
    },
    {
      "cell_type": "markdown",
      "metadata": {
        "id": "pFG3KNApiAN7"
      },
      "source": [
        "<p align='center'>\n",
        "<img src='data:image/png;base64,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'>\n",
        "</p>\n",
        "\n",
        "Figure 4-1. Indexing elements in a NumPy array"
      ]
    },
    {
      "cell_type": "markdown",
      "metadata": {
        "id": "obm5fhe_iMkB"
      },
      "source": [
        "In multidimensional arrays, if you omit later indices, the returned object will be a lower dimensional ndarray consisting of all the data along the higher dimensions\n",
        "\n",
        "So in the 2 x 2 x 3 array arr3d:"
      ]
    },
    {
      "cell_type": "code",
      "metadata": {
        "id": "rJ-ECr67jjEU"
      },
      "source": [
        "arr3d = np.array([[[1, 2, 3], [4, 5, 6]], [[7, 8, 9], [10, 11, 12]]])"
      ],
      "execution_count": 442,
      "outputs": []
    },
    {
      "cell_type": "code",
      "metadata": {
        "colab": {
          "base_uri": "https://localhost:8080/"
        },
        "id": "mtquKCzDjkuv",
        "outputId": "a9af3b53-9df8-4f94-a365-89e367a61636"
      },
      "source": [
        "arr3d"
      ],
      "execution_count": 443,
      "outputs": [
        {
          "output_type": "execute_result",
          "data": {
            "text/plain": [
              "array([[[ 1,  2,  3],\n",
              "        [ 4,  5,  6]],\n",
              "\n",
              "       [[ 7,  8,  9],\n",
              "        [10, 11, 12]]])"
            ]
          },
          "metadata": {},
          "execution_count": 443
        }
      ]
    },
    {
      "cell_type": "markdown",
      "metadata": {
        "id": "wh8NWHj3jujR"
      },
      "source": [
        "arr3d[0] is a 2 x 3 array"
      ]
    },
    {
      "cell_type": "code",
      "metadata": {
        "colab": {
          "base_uri": "https://localhost:8080/"
        },
        "id": "bisYbsWFjr5G",
        "outputId": "6fe15383-1f41-430d-a975-e7bd654978bc"
      },
      "source": [
        "arr3d[0]"
      ],
      "execution_count": 444,
      "outputs": [
        {
          "output_type": "execute_result",
          "data": {
            "text/plain": [
              "array([[1, 2, 3],\n",
              "       [4, 5, 6]])"
            ]
          },
          "metadata": {},
          "execution_count": 444
        }
      ]
    },
    {
      "cell_type": "markdown",
      "metadata": {
        "id": "ZLpToP68j10C"
      },
      "source": [
        "Both scalar values and arrays can be assigned to arr3d [0]:"
      ]
    },
    {
      "cell_type": "code",
      "metadata": {
        "id": "plcEhXhXj6Sb"
      },
      "source": [
        "old_values = arr3d[0].copy()"
      ],
      "execution_count": 445,
      "outputs": []
    },
    {
      "cell_type": "code",
      "metadata": {
        "id": "4Nq3H-94kBNb"
      },
      "source": [
        "arr3d[0] = 42"
      ],
      "execution_count": 446,
      "outputs": []
    },
    {
      "cell_type": "code",
      "metadata": {
        "colab": {
          "base_uri": "https://localhost:8080/"
        },
        "id": "qYW8Wi80kDF1",
        "outputId": "3c80e9a4-9a32-4628-ce7a-5890e6338b66"
      },
      "source": [
        "arr3d"
      ],
      "execution_count": 447,
      "outputs": [
        {
          "output_type": "execute_result",
          "data": {
            "text/plain": [
              "array([[[42, 42, 42],\n",
              "        [42, 42, 42]],\n",
              "\n",
              "       [[ 7,  8,  9],\n",
              "        [10, 11, 12]]])"
            ]
          },
          "metadata": {},
          "execution_count": 447
        }
      ]
    },
    {
      "cell_type": "code",
      "metadata": {
        "id": "4nliZFBYkEpe"
      },
      "source": [
        "arr3d[0] = old_values"
      ],
      "execution_count": 448,
      "outputs": []
    },
    {
      "cell_type": "code",
      "metadata": {
        "colab": {
          "base_uri": "https://localhost:8080/"
        },
        "id": "EQrziUTmkHA8",
        "outputId": "fe0cd116-a839-44d2-856a-35b14bafe657"
      },
      "source": [
        "arr3d"
      ],
      "execution_count": 449,
      "outputs": [
        {
          "output_type": "execute_result",
          "data": {
            "text/plain": [
              "array([[[ 1,  2,  3],\n",
              "        [ 4,  5,  6]],\n",
              "\n",
              "       [[ 7,  8,  9],\n",
              "        [10, 11, 12]]])"
            ]
          },
          "metadata": {},
          "execution_count": 449
        }
      ]
    },
    {
      "cell_type": "markdown",
      "metadata": {
        "id": "60DnBFKCkR3E"
      },
      "source": [
        "Similarly, arr3d[1, 0] gives you all of the values whose indices start with (1, 0), forming a 1-dimensional array:"
      ]
    },
    {
      "cell_type": "code",
      "metadata": {
        "colab": {
          "base_uri": "https://localhost:8080/"
        },
        "id": "Ga4s6sErkbfT",
        "outputId": "82bc0a87-a038-4b91-9357-418e2ed30531"
      },
      "source": [
        "arr3d[1, 0]"
      ],
      "execution_count": 450,
      "outputs": [
        {
          "output_type": "execute_result",
          "data": {
            "text/plain": [
              "array([7, 8, 9])"
            ]
          },
          "metadata": {},
          "execution_count": 450
        }
      ]
    },
    {
      "cell_type": "markdown",
      "metadata": {
        "id": "NxaaymvDkg5m"
      },
      "source": [
        "This expression is the same as though we had indexed in two steps:"
      ]
    },
    {
      "cell_type": "code",
      "metadata": {
        "id": "R46eudGPkimZ"
      },
      "source": [
        "x = arr3d[1]"
      ],
      "execution_count": 451,
      "outputs": []
    },
    {
      "cell_type": "code",
      "metadata": {
        "colab": {
          "base_uri": "https://localhost:8080/"
        },
        "id": "kKk0VjaNkj8c",
        "outputId": "6b55e559-6cfb-4fd3-867f-fbec69abf5f5"
      },
      "source": [
        "x"
      ],
      "execution_count": 452,
      "outputs": [
        {
          "output_type": "execute_result",
          "data": {
            "text/plain": [
              "array([[ 7,  8,  9],\n",
              "       [10, 11, 12]])"
            ]
          },
          "metadata": {},
          "execution_count": 452
        }
      ]
    },
    {
      "cell_type": "code",
      "metadata": {
        "colab": {
          "base_uri": "https://localhost:8080/"
        },
        "id": "_Op66NQIkk-h",
        "outputId": "b2c4e4dc-9e4f-484f-9f4b-fe7f974255bc"
      },
      "source": [
        "x[0]"
      ],
      "execution_count": 453,
      "outputs": [
        {
          "output_type": "execute_result",
          "data": {
            "text/plain": [
              "array([7, 8, 9])"
            ]
          },
          "metadata": {},
          "execution_count": 453
        }
      ]
    },
    {
      "cell_type": "markdown",
      "metadata": {
        "id": "p9VRfcFKkqYf"
      },
      "source": [
        "### Indexing with slices"
      ]
    },
    {
      "cell_type": "markdown",
      "metadata": {
        "id": "pnL-PPRsktTV"
      },
      "source": [
        "Like one-dimensional objects such as Python lists, ndarrays can be sliced with the familiar syntax:"
      ]
    },
    {
      "cell_type": "code",
      "metadata": {
        "colab": {
          "base_uri": "https://localhost:8080/"
        },
        "id": "GOGgravvkvZh",
        "outputId": "b9e1887e-52f2-436e-b9fc-7de4790291f6"
      },
      "source": [
        "arr"
      ],
      "execution_count": 454,
      "outputs": [
        {
          "output_type": "execute_result",
          "data": {
            "text/plain": [
              "array([ 0,  1,  2,  3,  4, 64, 64, 64,  8,  9])"
            ]
          },
          "metadata": {},
          "execution_count": 454
        }
      ]
    },
    {
      "cell_type": "code",
      "metadata": {
        "colab": {
          "base_uri": "https://localhost:8080/"
        },
        "id": "LuEhTM6RkxW6",
        "outputId": "3b3af8b5-1488-4438-a99a-32d314635d28"
      },
      "source": [
        "arr[1:6]"
      ],
      "execution_count": 455,
      "outputs": [
        {
          "output_type": "execute_result",
          "data": {
            "text/plain": [
              "array([ 1,  2,  3,  4, 64])"
            ]
          },
          "metadata": {},
          "execution_count": 455
        }
      ]
    },
    {
      "cell_type": "markdown",
      "metadata": {
        "id": "2dnf6zeYk0Q-"
      },
      "source": [
        "Consider the two-dimensional array from before, arr2d. Slicing this array is a bit different:"
      ]
    },
    {
      "cell_type": "code",
      "metadata": {
        "colab": {
          "base_uri": "https://localhost:8080/"
        },
        "id": "KeVnoauIk3x2",
        "outputId": "101d3ae0-36cf-4d71-b49e-8493b020dc45"
      },
      "source": [
        "arr2d"
      ],
      "execution_count": 456,
      "outputs": [
        {
          "output_type": "execute_result",
          "data": {
            "text/plain": [
              "array([[1, 2, 3],\n",
              "       [4, 5, 6],\n",
              "       [7, 8, 9]])"
            ]
          },
          "metadata": {},
          "execution_count": 456
        }
      ]
    },
    {
      "cell_type": "code",
      "metadata": {
        "colab": {
          "base_uri": "https://localhost:8080/"
        },
        "id": "1COaQQIbk6Tc",
        "outputId": "a79c3fbf-7510-48eb-8d46-7a693b8cca87"
      },
      "source": [
        "arr2d[:2]"
      ],
      "execution_count": 457,
      "outputs": [
        {
          "output_type": "execute_result",
          "data": {
            "text/plain": [
              "array([[1, 2, 3],\n",
              "       [4, 5, 6]])"
            ]
          },
          "metadata": {},
          "execution_count": 457
        }
      ]
    },
    {
      "cell_type": "markdown",
      "metadata": {
        "id": "0Oiz1XkfljjY"
      },
      "source": [
        "As you can see, it has sliced along axis 0, the first axis\n",
        "\n",
        "A slice, therefore, selects a range of elements along an axis. It can be helpful to read the expression **arr2d[:2] as “select the first two rows of arr2d.”**"
      ]
    },
    {
      "cell_type": "markdown",
      "metadata": {
        "id": "mwENx1gpl16g"
      },
      "source": [
        "You can pass multiple slices just like you can pass multiple indexes:"
      ]
    },
    {
      "cell_type": "code",
      "metadata": {
        "colab": {
          "base_uri": "https://localhost:8080/"
        },
        "id": "evLnu-mXl4Fq",
        "outputId": "1520d94c-b5ae-4b2d-d6bb-925b2857b778"
      },
      "source": [
        "arr2d[:2, 1:]"
      ],
      "execution_count": 458,
      "outputs": [
        {
          "output_type": "execute_result",
          "data": {
            "text/plain": [
              "array([[2, 3],\n",
              "       [5, 6]])"
            ]
          },
          "metadata": {},
          "execution_count": 458
        }
      ]
    },
    {
      "cell_type": "markdown",
      "metadata": {
        "id": "elLqB-kdl_Ai"
      },
      "source": [
        "When slicing like this, you always obtain array views of the same number of dimensions\n",
        "\n",
        "By mixing integer indexes and slices, you get lower dimensional slices\n",
        "\n",
        "For example, I can select the second row but only the first two columns like so:"
      ]
    },
    {
      "cell_type": "code",
      "metadata": {
        "colab": {
          "base_uri": "https://localhost:8080/"
        },
        "id": "o99FP1gYmy_C",
        "outputId": "b149b0a1-a000-4e91-8934-54f411e541b1"
      },
      "source": [
        "arr2d[1, :2]"
      ],
      "execution_count": 459,
      "outputs": [
        {
          "output_type": "execute_result",
          "data": {
            "text/plain": [
              "array([4, 5])"
            ]
          },
          "metadata": {},
          "execution_count": 459
        }
      ]
    },
    {
      "cell_type": "markdown",
      "metadata": {
        "id": "WaFdPqhFm5lj"
      },
      "source": [
        "Similarly, I can select the third column but only the first two rows like so:"
      ]
    },
    {
      "cell_type": "code",
      "metadata": {
        "colab": {
          "base_uri": "https://localhost:8080/"
        },
        "id": "gbt2Yltsm8DE",
        "outputId": "fba5352a-9ea4-43db-a3e3-b7c0da0a5bb4"
      },
      "source": [
        "arr2d[:2, 2]"
      ],
      "execution_count": 460,
      "outputs": [
        {
          "output_type": "execute_result",
          "data": {
            "text/plain": [
              "array([3, 6])"
            ]
          },
          "metadata": {},
          "execution_count": 460
        }
      ]
    },
    {
      "cell_type": "markdown",
      "metadata": {
        "id": "6xTcMOE0nJ2P"
      },
      "source": [
        "See Figure 4-2 for an illustration. Note that **a colon by itself means to take the entire axis**, so you can slice only higher dimensional axes by doing:"
      ]
    },
    {
      "cell_type": "code",
      "metadata": {
        "colab": {
          "base_uri": "https://localhost:8080/"
        },
        "id": "XdqhN8_znQQh",
        "outputId": "d4e72749-3add-407a-e469-23dbab5e217e"
      },
      "source": [
        "arr2d[:, :1]"
      ],
      "execution_count": 461,
      "outputs": [
        {
          "output_type": "execute_result",
          "data": {
            "text/plain": [
              "array([[1],\n",
              "       [4],\n",
              "       [7]])"
            ]
          },
          "metadata": {},
          "execution_count": 461
        }
      ]
    },
    {
      "cell_type": "markdown",
      "metadata": {
        "id": "5MmZPDSBnVwX"
      },
      "source": [
        "Of course, assigning to a slice expression assigns to the whole selection:"
      ]
    },
    {
      "cell_type": "code",
      "metadata": {
        "id": "ymi6z_e-nYtM"
      },
      "source": [
        "arr2d[:2, 1:] = 0"
      ],
      "execution_count": 462,
      "outputs": []
    },
    {
      "cell_type": "code",
      "metadata": {
        "colab": {
          "base_uri": "https://localhost:8080/"
        },
        "id": "GzQFilT3ng0G",
        "outputId": "36411c3b-289a-45a6-a065-dbc32cd25ec0"
      },
      "source": [
        "arr2d"
      ],
      "execution_count": 463,
      "outputs": [
        {
          "output_type": "execute_result",
          "data": {
            "text/plain": [
              "array([[1, 0, 0],\n",
              "       [4, 0, 0],\n",
              "       [7, 8, 9]])"
            ]
          },
          "metadata": {},
          "execution_count": 463
        }
      ]
    },
    {
      "cell_type": "markdown",
      "metadata": {
        "id": "y25EAkgDniP6"
      },
      "source": [
        "<p align='center'>\n",
        "<img src='data:image/png;base64,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'>\n",
        "</p>\n",
        "Figure 4-2. Two-dimensional array slicing"
      ]
    },
    {
      "cell_type": "markdown",
      "metadata": {
        "id": "tVmsT-Wgn41g"
      },
      "source": [
        "## Boolean Indexing"
      ]
    },
    {
      "cell_type": "markdown",
      "metadata": {
        "id": "IoAA7uthn7Q-"
      },
      "source": [
        "Let’s consider an example where we have some data in an array and an array of names with duplicates\n",
        "\n",
        "I’m going to use here the randn.random function in numpy to generate some random normally distributed data:"
      ]
    },
    {
      "cell_type": "code",
      "metadata": {
        "id": "ri1wRvH5n66y"
      },
      "source": [
        "names = np.array(['Bob', 'Joe', 'Will', 'Bob', 'Will', 'Joe', 'Joe'])"
      ],
      "execution_count": 464,
      "outputs": []
    },
    {
      "cell_type": "code",
      "metadata": {
        "id": "mM4il_nMoWFs"
      },
      "source": [
        "data = np.random.randn(7, 4)"
      ],
      "execution_count": 465,
      "outputs": []
    },
    {
      "cell_type": "code",
      "metadata": {
        "colab": {
          "base_uri": "https://localhost:8080/"
        },
        "id": "jrELdYcQoZRP",
        "outputId": "84936d2e-44ae-45ed-ffce-5d36ab4e1c79"
      },
      "source": [
        "names"
      ],
      "execution_count": 466,
      "outputs": [
        {
          "output_type": "execute_result",
          "data": {
            "text/plain": [
              "array(['Bob', 'Joe', 'Will', 'Bob', 'Will', 'Joe', 'Joe'], dtype='<U4')"
            ]
          },
          "metadata": {},
          "execution_count": 466
        }
      ]
    },
    {
      "cell_type": "code",
      "metadata": {
        "colab": {
          "base_uri": "https://localhost:8080/"
        },
        "id": "EQ-jaKU-oalU",
        "outputId": "791fdc49-1e45-4079-8071-edd697e5b100"
      },
      "source": [
        "data"
      ],
      "execution_count": 467,
      "outputs": [
        {
          "output_type": "execute_result",
          "data": {
            "text/plain": [
              "array([[ 0.38878452, -1.02748626,  0.5865103 , -1.2824554 ],\n",
              "       [-0.72773616, -0.466983  ,  0.03191736, -0.86296003],\n",
              "       [-0.72079429, -1.11170615, -0.5302076 , -1.51026184],\n",
              "       [-0.25636484,  0.41174148, -0.42822313, -0.10677195],\n",
              "       [ 1.70711665,  0.7590158 ,  0.92003409, -0.46021864],\n",
              "       [ 0.30760502,  0.37955507,  1.0688323 , -0.55996519],\n",
              "       [-0.81142337,  0.62647142, -1.94295234, -0.73168696]])"
            ]
          },
          "metadata": {},
          "execution_count": 467
        }
      ]
    },
    {
      "cell_type": "markdown",
      "metadata": {
        "id": "NcUVzarQzX2P"
      },
      "source": [
        "Suppose each name corresponds to a row in the data array and we wanted to select all the rows with corresponding name 'Bob'\n",
        "\n",
        "Like arithmetic operations, **comparisons (such as ==) with arrays are also vectorized. Thus, comparing names with the string 'Bob' yields a boolean array**:\n"
      ]
    },
    {
      "cell_type": "code",
      "metadata": {
        "colab": {
          "base_uri": "https://localhost:8080/"
        },
        "id": "JFSvkHbCz8Ql",
        "outputId": "38cc4770-7005-417b-9f1e-fa3808a27e40"
      },
      "source": [
        "names == 'Bob'"
      ],
      "execution_count": 468,
      "outputs": [
        {
          "output_type": "execute_result",
          "data": {
            "text/plain": [
              "array([ True, False, False,  True, False, False, False])"
            ]
          },
          "metadata": {},
          "execution_count": 468
        }
      ]
    },
    {
      "cell_type": "markdown",
      "metadata": {
        "id": "sbTkl5zZbBgv"
      },
      "source": [
        "This boolean array can be passed when indexing the array:"
      ]
    },
    {
      "cell_type": "code",
      "metadata": {
        "colab": {
          "base_uri": "https://localhost:8080/"
        },
        "id": "0L7mXmiyz-f9",
        "outputId": "8bb9b2fd-5b2c-4ed3-d1d4-ac2aa9b7883a"
      },
      "source": [
        "data[names == 'Bob'] # Row 0 and Row 3"
      ],
      "execution_count": 469,
      "outputs": [
        {
          "output_type": "execute_result",
          "data": {
            "text/plain": [
              "array([[ 0.38878452, -1.02748626,  0.5865103 , -1.2824554 ],\n",
              "       [-0.25636484,  0.41174148, -0.42822313, -0.10677195]])"
            ]
          },
          "metadata": {},
          "execution_count": 469
        }
      ]
    },
    {
      "cell_type": "markdown",
      "metadata": {
        "id": "s8vvpAnubDMg"
      },
      "source": [
        "**The boolean array must be of the same length as the array axis it’s indexing**. You can even mix and match boolean arrays with slices or integers (or sequences of integers)"
      ]
    },
    {
      "cell_type": "markdown",
      "metadata": {
        "id": "pIucnDt7bLFl"
      },
      "source": [
        "In these examples, I select from the rows where names == 'Bob' and index the columns, too:"
      ]
    },
    {
      "cell_type": "code",
      "metadata": {
        "colab": {
          "base_uri": "https://localhost:8080/"
        },
        "id": "A96RSZa9bW14",
        "outputId": "5111d61a-c60c-4544-a7a5-8490ff848cc2"
      },
      "source": [
        "data[names == 'Bob', 2:]"
      ],
      "execution_count": 470,
      "outputs": [
        {
          "output_type": "execute_result",
          "data": {
            "text/plain": [
              "array([[ 0.5865103 , -1.2824554 ],\n",
              "       [-0.42822313, -0.10677195]])"
            ]
          },
          "metadata": {},
          "execution_count": 470
        }
      ]
    },
    {
      "cell_type": "code",
      "metadata": {
        "colab": {
          "base_uri": "https://localhost:8080/"
        },
        "id": "WEEyAtnubj-E",
        "outputId": "8af7df19-3f76-4e41-b2a2-9f2e13c91ed3"
      },
      "source": [
        "data[names == 'Bob', 3]"
      ],
      "execution_count": 471,
      "outputs": [
        {
          "output_type": "execute_result",
          "data": {
            "text/plain": [
              "array([-1.2824554 , -0.10677195])"
            ]
          },
          "metadata": {},
          "execution_count": 471
        }
      ]
    },
    {
      "cell_type": "markdown",
      "metadata": {
        "id": "M5xLsPyGb3F8"
      },
      "source": [
        "To select everything but 'Bob', you can either use != or negate the condition using ~:"
      ]
    },
    {
      "cell_type": "code",
      "metadata": {
        "colab": {
          "base_uri": "https://localhost:8080/"
        },
        "id": "SE-iqTcub64Z",
        "outputId": "5ee84bfa-01cd-48f2-f94b-8d26aa818f15"
      },
      "source": [
        "names != 'Bob'"
      ],
      "execution_count": 472,
      "outputs": [
        {
          "output_type": "execute_result",
          "data": {
            "text/plain": [
              "array([False,  True,  True, False,  True,  True,  True])"
            ]
          },
          "metadata": {},
          "execution_count": 472
        }
      ]
    },
    {
      "cell_type": "code",
      "metadata": {
        "colab": {
          "base_uri": "https://localhost:8080/"
        },
        "id": "4rPEBiAVb-Ov",
        "outputId": "baec528c-a2ca-4beb-a8fc-73b9d3c604a4"
      },
      "source": [
        "data[~(names == 'Bob')]"
      ],
      "execution_count": 473,
      "outputs": [
        {
          "output_type": "execute_result",
          "data": {
            "text/plain": [
              "array([[-0.72773616, -0.466983  ,  0.03191736, -0.86296003],\n",
              "       [-0.72079429, -1.11170615, -0.5302076 , -1.51026184],\n",
              "       [ 1.70711665,  0.7590158 ,  0.92003409, -0.46021864],\n",
              "       [ 0.30760502,  0.37955507,  1.0688323 , -0.55996519],\n",
              "       [-0.81142337,  0.62647142, -1.94295234, -0.73168696]])"
            ]
          },
          "metadata": {},
          "execution_count": 473
        }
      ]
    },
    {
      "cell_type": "markdown",
      "metadata": {
        "id": "pJ9gwf1tcIkX"
      },
      "source": [
        "The ~ operator can be useful when you want to invert a general condition:"
      ]
    },
    {
      "cell_type": "code",
      "metadata": {
        "id": "R6fQADtHcLkP"
      },
      "source": [
        "cond = names == 'Bob'"
      ],
      "execution_count": 474,
      "outputs": []
    },
    {
      "cell_type": "code",
      "metadata": {
        "colab": {
          "base_uri": "https://localhost:8080/"
        },
        "id": "H0UYi_xfcNaP",
        "outputId": "6fbd9f6a-f452-42d7-dbdb-d50182449fac"
      },
      "source": [
        "data[~cond]"
      ],
      "execution_count": 475,
      "outputs": [
        {
          "output_type": "execute_result",
          "data": {
            "text/plain": [
              "array([[-0.72773616, -0.466983  ,  0.03191736, -0.86296003],\n",
              "       [-0.72079429, -1.11170615, -0.5302076 , -1.51026184],\n",
              "       [ 1.70711665,  0.7590158 ,  0.92003409, -0.46021864],\n",
              "       [ 0.30760502,  0.37955507,  1.0688323 , -0.55996519],\n",
              "       [-0.81142337,  0.62647142, -1.94295234, -0.73168696]])"
            ]
          },
          "metadata": {},
          "execution_count": 475
        }
      ]
    },
    {
      "cell_type": "markdown",
      "metadata": {
        "id": "WI7DBc5acUAP"
      },
      "source": [
        "Selecting two of the three names to combine multiple boolean conditions, use boolean arithmetic operators like **& (and) and | (or)**:"
      ]
    },
    {
      "cell_type": "code",
      "metadata": {
        "id": "Y-HTgmPYcm43"
      },
      "source": [
        "mask = (names == 'Bob') | (names == 'Will')"
      ],
      "execution_count": 476,
      "outputs": []
    },
    {
      "cell_type": "code",
      "metadata": {
        "colab": {
          "base_uri": "https://localhost:8080/"
        },
        "id": "LZlNY1XDcra4",
        "outputId": "a752d2a6-2a52-43b8-b796-e462c4cbbb5d"
      },
      "source": [
        "mask"
      ],
      "execution_count": 477,
      "outputs": [
        {
          "output_type": "execute_result",
          "data": {
            "text/plain": [
              "array([ True, False,  True,  True,  True, False, False])"
            ]
          },
          "metadata": {},
          "execution_count": 477
        }
      ]
    },
    {
      "cell_type": "code",
      "metadata": {
        "colab": {
          "base_uri": "https://localhost:8080/"
        },
        "id": "RJ6oUgAhcwvo",
        "outputId": "56afc486-4d0c-4733-a4c7-5e5d4df065ef"
      },
      "source": [
        "data[mask]"
      ],
      "execution_count": 478,
      "outputs": [
        {
          "output_type": "execute_result",
          "data": {
            "text/plain": [
              "array([[ 0.38878452, -1.02748626,  0.5865103 , -1.2824554 ],\n",
              "       [-0.72079429, -1.11170615, -0.5302076 , -1.51026184],\n",
              "       [-0.25636484,  0.41174148, -0.42822313, -0.10677195],\n",
              "       [ 1.70711665,  0.7590158 ,  0.92003409, -0.46021864]])"
            ]
          },
          "metadata": {},
          "execution_count": 478
        }
      ]
    },
    {
      "cell_type": "markdown",
      "metadata": {
        "id": "RQoDstrrdAFQ"
      },
      "source": [
        "Selecting data from an array by **boolean indexing always creates a copy of the data**, even if the returned array is unchanged"
      ]
    },
    {
      "cell_type": "markdown",
      "metadata": {
        "id": "qSOOr5pbdcrg"
      },
      "source": [
        "Setting values with boolean arrays works in a common-sense way. To set all of the negative values in data to 0 we need only do:"
      ]
    },
    {
      "cell_type": "code",
      "metadata": {
        "id": "NoCNyuqhdjQ7"
      },
      "source": [
        "data[data < 0] = 0"
      ],
      "execution_count": 479,
      "outputs": []
    },
    {
      "cell_type": "code",
      "metadata": {
        "colab": {
          "base_uri": "https://localhost:8080/"
        },
        "id": "HVdUXnQTdl_a",
        "outputId": "e208a640-f16d-49a1-cd85-0c14250f56a9"
      },
      "source": [
        "data"
      ],
      "execution_count": 480,
      "outputs": [
        {
          "output_type": "execute_result",
          "data": {
            "text/plain": [
              "array([[0.38878452, 0.        , 0.5865103 , 0.        ],\n",
              "       [0.        , 0.        , 0.03191736, 0.        ],\n",
              "       [0.        , 0.        , 0.        , 0.        ],\n",
              "       [0.        , 0.41174148, 0.        , 0.        ],\n",
              "       [1.70711665, 0.7590158 , 0.92003409, 0.        ],\n",
              "       [0.30760502, 0.37955507, 1.0688323 , 0.        ],\n",
              "       [0.        , 0.62647142, 0.        , 0.        ]])"
            ]
          },
          "metadata": {},
          "execution_count": 480
        }
      ]
    },
    {
      "cell_type": "markdown",
      "metadata": {
        "id": "7ugPjoB3dp7v"
      },
      "source": [
        "Setting whole rows or columns using a one-dimensional boolean array is also easy:"
      ]
    },
    {
      "cell_type": "code",
      "metadata": {
        "id": "PEegHeGPdsOh"
      },
      "source": [
        "data[names != 'Joe'] = 7"
      ],
      "execution_count": 481,
      "outputs": []
    },
    {
      "cell_type": "code",
      "metadata": {
        "colab": {
          "base_uri": "https://localhost:8080/"
        },
        "id": "MboHisO8d5wo",
        "outputId": "99d7bd48-547f-45f3-aceb-522a2679cec6"
      },
      "source": [
        "data"
      ],
      "execution_count": 482,
      "outputs": [
        {
          "output_type": "execute_result",
          "data": {
            "text/plain": [
              "array([[7.        , 7.        , 7.        , 7.        ],\n",
              "       [0.        , 0.        , 0.03191736, 0.        ],\n",
              "       [7.        , 7.        , 7.        , 7.        ],\n",
              "       [7.        , 7.        , 7.        , 7.        ],\n",
              "       [7.        , 7.        , 7.        , 7.        ],\n",
              "       [0.30760502, 0.37955507, 1.0688323 , 0.        ],\n",
              "       [0.        , 0.62647142, 0.        , 0.        ]])"
            ]
          },
          "metadata": {},
          "execution_count": 482
        }
      ]
    },
    {
      "cell_type": "markdown",
      "metadata": {
        "id": "GqEgc6Z3eAh_"
      },
      "source": [
        "## Fancy Indexing"
      ]
    },
    {
      "cell_type": "markdown",
      "metadata": {
        "id": "rrlf_tGdeDrZ"
      },
      "source": [
        "**Fancy indexing** is a term adopted by NumPy to **describe indexing using integer arrays**\n",
        "Suppose we had an 8 × 4 array:"
      ]
    },
    {
      "cell_type": "code",
      "metadata": {
        "id": "zp98ln-ReO2z"
      },
      "source": [
        "arr = np.empty((8, 4))"
      ],
      "execution_count": 483,
      "outputs": []
    },
    {
      "cell_type": "code",
      "metadata": {
        "id": "VHIcH2ldeVvl"
      },
      "source": [
        "for i in range(8):\n",
        "  arr[i] = i"
      ],
      "execution_count": 484,
      "outputs": []
    },
    {
      "cell_type": "code",
      "metadata": {
        "colab": {
          "base_uri": "https://localhost:8080/"
        },
        "id": "Hri7YdIoecM7",
        "outputId": "213f5bc3-e393-4016-c52f-686b50dbf319"
      },
      "source": [
        "arr"
      ],
      "execution_count": 485,
      "outputs": [
        {
          "output_type": "execute_result",
          "data": {
            "text/plain": [
              "array([[0., 0., 0., 0.],\n",
              "       [1., 1., 1., 1.],\n",
              "       [2., 2., 2., 2.],\n",
              "       [3., 3., 3., 3.],\n",
              "       [4., 4., 4., 4.],\n",
              "       [5., 5., 5., 5.],\n",
              "       [6., 6., 6., 6.],\n",
              "       [7., 7., 7., 7.]])"
            ]
          },
          "metadata": {},
          "execution_count": 485
        }
      ]
    },
    {
      "cell_type": "markdown",
      "metadata": {
        "id": "xsat90k4elgQ"
      },
      "source": [
        "To select out a subset of the rows in a particular order, you can simply pass a list or ndarray of integers specifying the desired order:"
      ]
    },
    {
      "cell_type": "code",
      "metadata": {
        "colab": {
          "base_uri": "https://localhost:8080/"
        },
        "id": "ewUB3b9eemqf",
        "outputId": "4112990b-d40f-4fe0-eeeb-ec856a97cf20"
      },
      "source": [
        "arr[[4, 3, 0, 6]]"
      ],
      "execution_count": 486,
      "outputs": [
        {
          "output_type": "execute_result",
          "data": {
            "text/plain": [
              "array([[4., 4., 4., 4.],\n",
              "       [3., 3., 3., 3.],\n",
              "       [0., 0., 0., 0.],\n",
              "       [6., 6., 6., 6.]])"
            ]
          },
          "metadata": {},
          "execution_count": 486
        }
      ]
    },
    {
      "cell_type": "markdown",
      "metadata": {
        "id": "10P0rQuJeqWQ"
      },
      "source": [
        "Using negative indices selects rows from the end:"
      ]
    },
    {
      "cell_type": "code",
      "metadata": {
        "colab": {
          "base_uri": "https://localhost:8080/"
        },
        "id": "7T69V-xpet1w",
        "outputId": "8cb38957-64e9-4a5b-86cb-bd6313f5bb49"
      },
      "source": [
        "arr[[-3, -5, -7]]"
      ],
      "execution_count": 487,
      "outputs": [
        {
          "output_type": "execute_result",
          "data": {
            "text/plain": [
              "array([[5., 5., 5., 5.],\n",
              "       [3., 3., 3., 3.],\n",
              "       [1., 1., 1., 1.]])"
            ]
          },
          "metadata": {},
          "execution_count": 487
        }
      ]
    },
    {
      "cell_type": "markdown",
      "metadata": {
        "id": "V4ekmSGLe0R5"
      },
      "source": [
        "Passing multiple index arrays does something slightly different; it selects a one dimensional array of elements corresponding to each tuple of indices:"
      ]
    },
    {
      "cell_type": "code",
      "metadata": {
        "id": "CI9qHqJpe_9A"
      },
      "source": [
        "arr = np.arange(32).reshape((8, 4))"
      ],
      "execution_count": 488,
      "outputs": []
    },
    {
      "cell_type": "code",
      "metadata": {
        "colab": {
          "base_uri": "https://localhost:8080/"
        },
        "id": "1C5fLwO1fNw9",
        "outputId": "202c64c9-684c-4c5a-9c4c-fdeb8a62a918"
      },
      "source": [
        "arr"
      ],
      "execution_count": 489,
      "outputs": [
        {
          "output_type": "execute_result",
          "data": {
            "text/plain": [
              "array([[ 0,  1,  2,  3],\n",
              "       [ 4,  5,  6,  7],\n",
              "       [ 8,  9, 10, 11],\n",
              "       [12, 13, 14, 15],\n",
              "       [16, 17, 18, 19],\n",
              "       [20, 21, 22, 23],\n",
              "       [24, 25, 26, 27],\n",
              "       [28, 29, 30, 31]])"
            ]
          },
          "metadata": {},
          "execution_count": 489
        }
      ]
    },
    {
      "cell_type": "code",
      "metadata": {
        "colab": {
          "base_uri": "https://localhost:8080/"
        },
        "id": "KMssh6ebfQiP",
        "outputId": "32df9710-f783-4542-9a0f-373ccaee7388"
      },
      "source": [
        "arr[[1, 5, 7, 2], [0, 3, 1, 2]]"
      ],
      "execution_count": 490,
      "outputs": [
        {
          "output_type": "execute_result",
          "data": {
            "text/plain": [
              "array([ 4, 23, 29, 10])"
            ]
          },
          "metadata": {},
          "execution_count": 490
        }
      ]
    },
    {
      "cell_type": "markdown",
      "metadata": {
        "id": "Ge9kfBsmfje6"
      },
      "source": [
        "Here the elements (1, 0), (5, 3), (7, 1), and (2, 2) were selected\n",
        "\n",
        "Regardless of how many dimensions the array has (here, only 2), the result of fancy indexing is always one-dimensional"
      ]
    },
    {
      "cell_type": "markdown",
      "metadata": {
        "id": "oUfDQcv9ftGo"
      },
      "source": [
        "The behavior of fancy indexing in this case is a bit different from what some users might have expected, which is the rectangular region formed by selecting a subset of the matrix’s rows and columns\n",
        "\n",
        "Here is one way to get that:"
      ]
    },
    {
      "cell_type": "code",
      "metadata": {
        "colab": {
          "base_uri": "https://localhost:8080/"
        },
        "id": "fqaK9dLSf_Fh",
        "outputId": "914d6335-7aba-4e6c-f0d7-6c9ef332a974"
      },
      "source": [
        "arr[[1, 5, 7, 2]][:, [0, 3, 1, 2]]"
      ],
      "execution_count": 491,
      "outputs": [
        {
          "output_type": "execute_result",
          "data": {
            "text/plain": [
              "array([[ 4,  7,  5,  6],\n",
              "       [20, 23, 21, 22],\n",
              "       [28, 31, 29, 30],\n",
              "       [ 8, 11,  9, 10]])"
            ]
          },
          "metadata": {},
          "execution_count": 491
        }
      ]
    },
    {
      "cell_type": "markdown",
      "metadata": {
        "id": "aLf_yt49Z-r2"
      },
      "source": [
        "Keep in mind that fancy indexing, unlike slicing, always copies the data into a new array"
      ]
    },
    {
      "cell_type": "markdown",
      "metadata": {
        "id": "WqPw9er3aiOu"
      },
      "source": [
        "## Transposing Arrays and Swapping Axes"
      ]
    },
    {
      "cell_type": "markdown",
      "metadata": {
        "id": "0pkyBrRvajy3"
      },
      "source": [
        "Transposing is a special form of reshaping that similarly returns a view on the underlying data without copying anything\n",
        "\n",
        "Arrays have the transpose method and also the special T attribute:"
      ]
    },
    {
      "cell_type": "code",
      "metadata": {
        "id": "Y7CIJG0VaBRI"
      },
      "source": [
        "arr = np.arange(15).reshape((3, 5))"
      ],
      "execution_count": 492,
      "outputs": []
    },
    {
      "cell_type": "code",
      "metadata": {
        "colab": {
          "base_uri": "https://localhost:8080/"
        },
        "id": "6aPyzxr0ar8j",
        "outputId": "c63bd150-f763-47b4-badd-644003a0bfe4"
      },
      "source": [
        "arr"
      ],
      "execution_count": 493,
      "outputs": [
        {
          "output_type": "execute_result",
          "data": {
            "text/plain": [
              "array([[ 0,  1,  2,  3,  4],\n",
              "       [ 5,  6,  7,  8,  9],\n",
              "       [10, 11, 12, 13, 14]])"
            ]
          },
          "metadata": {},
          "execution_count": 493
        }
      ]
    },
    {
      "cell_type": "code",
      "metadata": {
        "colab": {
          "base_uri": "https://localhost:8080/"
        },
        "id": "YDusk3IJatHK",
        "outputId": "a48612cc-0352-4500-c3e0-af006a1521a3"
      },
      "source": [
        "arr.T"
      ],
      "execution_count": 494,
      "outputs": [
        {
          "output_type": "execute_result",
          "data": {
            "text/plain": [
              "array([[ 0,  5, 10],\n",
              "       [ 1,  6, 11],\n",
              "       [ 2,  7, 12],\n",
              "       [ 3,  8, 13],\n",
              "       [ 4,  9, 14]])"
            ]
          },
          "metadata": {},
          "execution_count": 494
        }
      ]
    },
    {
      "cell_type": "markdown",
      "metadata": {
        "id": "dpuzXCOka1wc"
      },
      "source": [
        "When doing matrix computations, you may do this very often—for example, when computing the inner matrix product using np .dot:"
      ]
    },
    {
      "cell_type": "code",
      "metadata": {
        "id": "ZUWKKRwYa4RR"
      },
      "source": [
        "arr = np.random.randn(6, 3)"
      ],
      "execution_count": 495,
      "outputs": []
    },
    {
      "cell_type": "code",
      "metadata": {
        "colab": {
          "base_uri": "https://localhost:8080/"
        },
        "id": "bDKpZne4a6ok",
        "outputId": "52bfd354-7a49-4000-a86a-e1e94866857a"
      },
      "source": [
        "arr"
      ],
      "execution_count": 496,
      "outputs": [
        {
          "output_type": "execute_result",
          "data": {
            "text/plain": [
              "array([[-1.65500158, -0.68112244, -1.98203105],\n",
              "       [ 0.81439547,  0.15053726, -0.80449255],\n",
              "       [-0.72665247, -0.73231679,  1.56855008],\n",
              "       [-1.85932318,  0.66339929,  0.03647722],\n",
              "       [ 0.61049276,  1.5108909 ,  0.37331017],\n",
              "       [ 0.485883  ,  0.33681992,  0.87050917]])"
            ]
          },
          "metadata": {},
          "execution_count": 496
        }
      ]
    },
    {
      "cell_type": "code",
      "metadata": {
        "colab": {
          "base_uri": "https://localhost:8080/"
        },
        "id": "B3R6_BN2a7qU",
        "outputId": "a002d6b7-14a0-4aa7-be98-8678857630fd"
      },
      "source": [
        "np.dot(arr.T, arr)"
      ],
      "execution_count": 497,
      "outputs": [
        {
          "output_type": "execute_result",
          "data": {
            "text/plain": [
              "array([[7.99616044, 1.63456473, 2.06834445],\n",
              "       [1.63456473, 3.85921468, 0.96165889],\n",
              "       [2.06834445, 0.96165889, 7.93448196]])"
            ]
          },
          "metadata": {},
          "execution_count": 497
        }
      ]
    },
    {
      "cell_type": "markdown",
      "metadata": {
        "id": "ZxJAtCD_bFhY"
      },
      "source": [
        "For higher dimensional arrays, transpose will accept a tuple of axis numbers to permute the axes"
      ]
    },
    {
      "cell_type": "code",
      "metadata": {
        "id": "tgGW_vqJbS4t"
      },
      "source": [
        "arr = np.arange(16).reshape((2, 2, 4))"
      ],
      "execution_count": 498,
      "outputs": []
    },
    {
      "cell_type": "code",
      "metadata": {
        "colab": {
          "base_uri": "https://localhost:8080/"
        },
        "id": "gbOgq0G5bYjK",
        "outputId": "64007481-9437-4b5f-b9d9-236ffd22faff"
      },
      "source": [
        "arr"
      ],
      "execution_count": 499,
      "outputs": [
        {
          "output_type": "execute_result",
          "data": {
            "text/plain": [
              "array([[[ 0,  1,  2,  3],\n",
              "        [ 4,  5,  6,  7]],\n",
              "\n",
              "       [[ 8,  9, 10, 11],\n",
              "        [12, 13, 14, 15]]])"
            ]
          },
          "metadata": {},
          "execution_count": 499
        }
      ]
    },
    {
      "cell_type": "code",
      "metadata": {
        "colab": {
          "base_uri": "https://localhost:8080/"
        },
        "id": "1bh0ijdzbbh7",
        "outputId": "51211cb5-39ef-4ca4-dea7-11474c9fc0f2"
      },
      "source": [
        "arr.transpose((1, 0, 2))"
      ],
      "execution_count": 500,
      "outputs": [
        {
          "output_type": "execute_result",
          "data": {
            "text/plain": [
              "array([[[ 0,  1,  2,  3],\n",
              "        [ 8,  9, 10, 11]],\n",
              "\n",
              "       [[ 4,  5,  6,  7],\n",
              "        [12, 13, 14, 15]]])"
            ]
          },
          "metadata": {},
          "execution_count": 500
        }
      ]
    },
    {
      "cell_type": "markdown",
      "metadata": {
        "id": "rWNtCaBYbhej"
      },
      "source": [
        "Here, the axes have been reordered with the second axis first, the first axis second, and the last axis unchanged\n",
        "\n",
        "Simple transposing with .T is a special case of swapping axes\n",
        "\n",
        "ndarray has the method swapaxes, which takes a pair of axis numbers and switches the indicated axes to rear range the data:"
      ]
    },
    {
      "cell_type": "code",
      "metadata": {
        "colab": {
          "base_uri": "https://localhost:8080/"
        },
        "id": "XfBcv4zRcB8_",
        "outputId": "433ec0ff-1d41-4854-8cad-5d09b375698e"
      },
      "source": [
        "arr"
      ],
      "execution_count": 501,
      "outputs": [
        {
          "output_type": "execute_result",
          "data": {
            "text/plain": [
              "array([[[ 0,  1,  2,  3],\n",
              "        [ 4,  5,  6,  7]],\n",
              "\n",
              "       [[ 8,  9, 10, 11],\n",
              "        [12, 13, 14, 15]]])"
            ]
          },
          "metadata": {},
          "execution_count": 501
        }
      ]
    },
    {
      "cell_type": "code",
      "metadata": {
        "colab": {
          "base_uri": "https://localhost:8080/"
        },
        "id": "O9OXwlQWcD1Q",
        "outputId": "ed0fe428-9971-4073-eb6a-6b5364180e32"
      },
      "source": [
        "arr.swapaxes(1, 2)"
      ],
      "execution_count": 502,
      "outputs": [
        {
          "output_type": "execute_result",
          "data": {
            "text/plain": [
              "array([[[ 0,  4],\n",
              "        [ 1,  5],\n",
              "        [ 2,  6],\n",
              "        [ 3,  7]],\n",
              "\n",
              "       [[ 8, 12],\n",
              "        [ 9, 13],\n",
              "        [10, 14],\n",
              "        [11, 15]]])"
            ]
          },
          "metadata": {},
          "execution_count": 502
        }
      ]
    },
    {
      "cell_type": "markdown",
      "metadata": {
        "id": "-qZfhuwgcLT9"
      },
      "source": [
        "swapaxes similarly returns a view on the data without making a copy"
      ]
    },
    {
      "cell_type": "markdown",
      "metadata": {
        "id": "xL6AMz8JcMpA"
      },
      "source": [
        "# 4.2 Universal Functions: Fast Element-Wise Array Functions"
      ]
    },
    {
      "cell_type": "markdown",
      "metadata": {
        "id": "vJS0jaPKcZdU"
      },
      "source": [
        "A universal function, or **ufunc, is a function that performs element-wise operations on data in ndarrays**\n",
        "\n",
        "You can think of them as fast vectorized wrappers for simple functions that take one or more scalar values and produce one or more scalar results"
      ]
    },
    {
      "cell_type": "code",
      "metadata": {
        "id": "1LHqZr3ycOrD"
      },
      "source": [
        "arr = np.arange(10)"
      ],
      "execution_count": 503,
      "outputs": []
    },
    {
      "cell_type": "code",
      "metadata": {
        "colab": {
          "base_uri": "https://localhost:8080/"
        },
        "id": "3EUGvzotcjj4",
        "outputId": "7ac11931-86e2-4bcd-8c7e-cf6f8e583810"
      },
      "source": [
        "arr"
      ],
      "execution_count": 504,
      "outputs": [
        {
          "output_type": "execute_result",
          "data": {
            "text/plain": [
              "array([0, 1, 2, 3, 4, 5, 6, 7, 8, 9])"
            ]
          },
          "metadata": {},
          "execution_count": 504
        }
      ]
    },
    {
      "cell_type": "code",
      "metadata": {
        "colab": {
          "base_uri": "https://localhost:8080/"
        },
        "id": "9RjEYIOpcrfk",
        "outputId": "9501e016-b3c2-4ae8-83ec-9847e1641b03"
      },
      "source": [
        "np.sqrt(arr)"
      ],
      "execution_count": 505,
      "outputs": [
        {
          "output_type": "execute_result",
          "data": {
            "text/plain": [
              "array([0.        , 1.        , 1.41421356, 1.73205081, 2.        ,\n",
              "       2.23606798, 2.44948974, 2.64575131, 2.82842712, 3.        ])"
            ]
          },
          "metadata": {},
          "execution_count": 505
        }
      ]
    },
    {
      "cell_type": "code",
      "metadata": {
        "colab": {
          "base_uri": "https://localhost:8080/"
        },
        "id": "DiqVD4VRctqI",
        "outputId": "5244c7fd-83a2-47fc-8f45-61f7f9b043fe"
      },
      "source": [
        "np.exp(arr)"
      ],
      "execution_count": 506,
      "outputs": [
        {
          "output_type": "execute_result",
          "data": {
            "text/plain": [
              "array([1.00000000e+00, 2.71828183e+00, 7.38905610e+00, 2.00855369e+01,\n",
              "       5.45981500e+01, 1.48413159e+02, 4.03428793e+02, 1.09663316e+03,\n",
              "       2.98095799e+03, 8.10308393e+03])"
            ]
          },
          "metadata": {},
          "execution_count": 506
        }
      ]
    },
    {
      "cell_type": "markdown",
      "metadata": {
        "id": "QY8CQtq0cv5l"
      },
      "source": [
        "These are referred to as unary ufuncs. Others, such as add or maximum, take two arrays (thus, binary ufuncs) and return a single array as the result:"
      ]
    },
    {
      "cell_type": "code",
      "metadata": {
        "id": "-z1w1Yoac4uk"
      },
      "source": [
        "x = np.random.randn(8)"
      ],
      "execution_count": 507,
      "outputs": []
    },
    {
      "cell_type": "code",
      "metadata": {
        "id": "qvr4wKBCc6ph"
      },
      "source": [
        "y = np.random.randn(8)"
      ],
      "execution_count": 508,
      "outputs": []
    },
    {
      "cell_type": "code",
      "metadata": {
        "colab": {
          "base_uri": "https://localhost:8080/"
        },
        "id": "-DtjXF-Ic-H0",
        "outputId": "48d271d3-309c-4e4d-af9f-c2b4a68b117f"
      },
      "source": [
        "x"
      ],
      "execution_count": 509,
      "outputs": [
        {
          "output_type": "execute_result",
          "data": {
            "text/plain": [
              "array([-1.86276101, -0.12257763, -0.20800147, -0.0810525 , -0.30726976,\n",
              "       -0.34526932,  0.7002868 ,  1.7679603 ])"
            ]
          },
          "metadata": {},
          "execution_count": 509
        }
      ]
    },
    {
      "cell_type": "code",
      "metadata": {
        "colab": {
          "base_uri": "https://localhost:8080/"
        },
        "id": "pKl3XToedKC3",
        "outputId": "825e5cdd-8cde-40c4-c962-18502139f7bf"
      },
      "source": [
        "y"
      ],
      "execution_count": 510,
      "outputs": [
        {
          "output_type": "execute_result",
          "data": {
            "text/plain": [
              "array([-0.93027172,  0.83456206, -0.33284838,  3.10737039,  0.00596248,\n",
              "        0.89967005,  0.04127854, -0.39947651])"
            ]
          },
          "metadata": {},
          "execution_count": 510
        }
      ]
    },
    {
      "cell_type": "code",
      "metadata": {
        "colab": {
          "base_uri": "https://localhost:8080/"
        },
        "id": "GSi5SK4CdMVN",
        "outputId": "2b246412-8829-410e-d1ee-a2156a9f01e6"
      },
      "source": [
        "np.maximum(x, y)"
      ],
      "execution_count": 511,
      "outputs": [
        {
          "output_type": "execute_result",
          "data": {
            "text/plain": [
              "array([-0.93027172,  0.83456206, -0.20800147,  3.10737039,  0.00596248,\n",
              "        0.89967005,  0.7002868 ,  1.7679603 ])"
            ]
          },
          "metadata": {},
          "execution_count": 511
        }
      ]
    },
    {
      "cell_type": "markdown",
      "metadata": {
        "id": "NIlTfEzmc_TS"
      },
      "source": [
        "Here, numpy.maximum computed the element-wise maximum of the elements in x and y\n",
        "\n",
        "While not common, a ufunc can return multiple arrays. modf is one example, a vectorized version of the built-in Python divmod; it returns the fractional and integral parts of a floating-point array:"
      ]
    },
    {
      "cell_type": "code",
      "metadata": {
        "id": "zKD-NVR2dbkx"
      },
      "source": [
        "arr = np.random.randn(7) * 5"
      ],
      "execution_count": 512,
      "outputs": []
    },
    {
      "cell_type": "code",
      "metadata": {
        "colab": {
          "base_uri": "https://localhost:8080/"
        },
        "id": "ZAiPReiidd14",
        "outputId": "065b58b9-e1d9-47ea-b8a9-2b3181792b8b"
      },
      "source": [
        "arr"
      ],
      "execution_count": 513,
      "outputs": [
        {
          "output_type": "execute_result",
          "data": {
            "text/plain": [
              "array([ -4.85027525,  -3.62582184,   2.02915367,  -1.10668771,\n",
              "       -10.62028999,   4.03041517,   5.03844832])"
            ]
          },
          "metadata": {},
          "execution_count": 513
        }
      ]
    },
    {
      "cell_type": "code",
      "metadata": {
        "id": "eeCV5p_vde1F"
      },
      "source": [
        "remainder, whole_part = np.modf(arr)"
      ],
      "execution_count": 514,
      "outputs": []
    },
    {
      "cell_type": "code",
      "metadata": {
        "colab": {
          "base_uri": "https://localhost:8080/"
        },
        "id": "crXMgBnidide",
        "outputId": "379b0311-dece-4a66-e1d8-5d311cf21ba0"
      },
      "source": [
        "remainder"
      ],
      "execution_count": 515,
      "outputs": [
        {
          "output_type": "execute_result",
          "data": {
            "text/plain": [
              "array([-0.85027525, -0.62582184,  0.02915367, -0.10668771, -0.62028999,\n",
              "        0.03041517,  0.03844832])"
            ]
          },
          "metadata": {},
          "execution_count": 515
        }
      ]
    },
    {
      "cell_type": "code",
      "metadata": {
        "colab": {
          "base_uri": "https://localhost:8080/"
        },
        "id": "xAtxTJskdj4g",
        "outputId": "c6474bd8-1308-4c5a-a3cc-11c71e360fb2"
      },
      "source": [
        "whole_part"
      ],
      "execution_count": 516,
      "outputs": [
        {
          "output_type": "execute_result",
          "data": {
            "text/plain": [
              "array([ -4.,  -3.,   2.,  -1., -10.,   4.,   5.])"
            ]
          },
          "metadata": {},
          "execution_count": 516
        }
      ]
    },
    {
      "cell_type": "markdown",
      "metadata": {
        "id": "LTp64eWsd2yJ"
      },
      "source": [
        "Ufuncs accept an optional out argument that allows them to operate in-place on arrays:"
      ]
    },
    {
      "cell_type": "code",
      "metadata": {
        "colab": {
          "base_uri": "https://localhost:8080/"
        },
        "id": "TWH-o2Kkd58N",
        "outputId": "228630f5-0b00-468e-b37d-3f6b7d99cc25"
      },
      "source": [
        "arr"
      ],
      "execution_count": 517,
      "outputs": [
        {
          "output_type": "execute_result",
          "data": {
            "text/plain": [
              "array([ -4.85027525,  -3.62582184,   2.02915367,  -1.10668771,\n",
              "       -10.62028999,   4.03041517,   5.03844832])"
            ]
          },
          "metadata": {},
          "execution_count": 517
        }
      ]
    },
    {
      "cell_type": "code",
      "metadata": {
        "colab": {
          "base_uri": "https://localhost:8080/"
        },
        "id": "30IK1r6-d8zE",
        "outputId": "f0c08673-eeba-4b2d-b944-64b11c248794"
      },
      "source": [
        "np.sqrt(arr)"
      ],
      "execution_count": 518,
      "outputs": [
        {
          "output_type": "stream",
          "name": "stderr",
          "text": [
            "/usr/local/lib/python3.7/dist-packages/ipykernel_launcher.py:1: RuntimeWarning: invalid value encountered in sqrt\n",
            "  \"\"\"Entry point for launching an IPython kernel.\n"
          ]
        },
        {
          "output_type": "execute_result",
          "data": {
            "text/plain": [
              "array([       nan,        nan, 1.42448365,        nan,        nan,\n",
              "       2.00758939, 2.24464882])"
            ]
          },
          "metadata": {},
          "execution_count": 518
        }
      ]
    },
    {
      "cell_type": "code",
      "metadata": {
        "colab": {
          "base_uri": "https://localhost:8080/"
        },
        "id": "cfqraeggeDQ8",
        "outputId": "39194e00-736c-425a-e4b1-e3ac96b7f4b9"
      },
      "source": [
        "np.sqrt(arr, arr)"
      ],
      "execution_count": 519,
      "outputs": [
        {
          "output_type": "stream",
          "name": "stderr",
          "text": [
            "/usr/local/lib/python3.7/dist-packages/ipykernel_launcher.py:1: RuntimeWarning: invalid value encountered in sqrt\n",
            "  \"\"\"Entry point for launching an IPython kernel.\n"
          ]
        },
        {
          "output_type": "execute_result",
          "data": {
            "text/plain": [
              "array([       nan,        nan, 1.42448365,        nan,        nan,\n",
              "       2.00758939, 2.24464882])"
            ]
          },
          "metadata": {},
          "execution_count": 519
        }
      ]
    },
    {
      "cell_type": "code",
      "metadata": {
        "colab": {
          "base_uri": "https://localhost:8080/"
        },
        "id": "My8GDEvJeHme",
        "outputId": "cd91b20d-ed03-44d9-c5ac-7ed2ba5e3ec2"
      },
      "source": [
        "arr"
      ],
      "execution_count": 520,
      "outputs": [
        {
          "output_type": "execute_result",
          "data": {
            "text/plain": [
              "array([       nan,        nan, 1.42448365,        nan,        nan,\n",
              "       2.00758939, 2.24464882])"
            ]
          },
          "metadata": {},
          "execution_count": 520
        }
      ]
    },
    {
      "cell_type": "markdown",
      "metadata": {
        "id": "WNXjVtS4eNNN"
      },
      "source": [
        "See Tables 4-3 and 4-4 for a listing of available ufuncs"
      ]
    },
    {
      "cell_type": "markdown",
      "metadata": {
        "id": "jbWr4K0PePdo"
      },
      "source": [
        "Table 4-3. Unary ufuncs\n",
        "<p align='center'>\n",
        "<img src='data:image/png;base64,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'>\n",
        "</p>"
      ]
    },
    {
      "cell_type": "markdown",
      "metadata": {
        "id": "xlGrl4KneV8d"
      },
      "source": [
        "Table 4-4. Binary universal functions\n",
        "<p align='center'>\n",
        "<img src='data:image/png;base64,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'>\n",
        "</p>"
      ]
    },
    {
      "cell_type": "markdown",
      "metadata": {
        "id": "ihEdb-oDfarB"
      },
      "source": [
        "# 4.3 Array-Oriented Programming with Arrays"
      ]
    },
    {
      "cell_type": "markdown",
      "metadata": {
        "id": "cTavzSv1fd65"
      },
      "source": [
        "Using NumPy arrays enables you to express many kinds of data processing tasks as concise array expressions that might otherwise require writing loops\n",
        "\n",
        "**This practice of replacing explicit loops with array expressions is commonly referred to as vectorization**\n",
        "\n"
      ]
    },
    {
      "cell_type": "markdown",
      "metadata": {
        "id": "U4OG78AVfo9A"
      },
      "source": [
        "Suppose we wished to evaluate the function sqrt(x^2 + y^2) across a regular grid of values\n",
        "\n",
        "The np.meshgrid function takes two 1D arrays and produces two 2D matrices corresponding to all pairs of\n",
        "(x, y)\n",
        "in the two arrays:"
      ]
    },
    {
      "cell_type": "code",
      "metadata": {
        "id": "ipFSbhTYgE4h"
      },
      "source": [
        "points = np.arange(-5, 5, 0.01) # 1000 equally spaced points"
      ],
      "execution_count": 521,
      "outputs": []
    },
    {
      "cell_type": "code",
      "metadata": {
        "id": "MuYvAon7gJfI"
      },
      "source": [
        "xs, ys = np.meshgrid(points, points)"
      ],
      "execution_count": 522,
      "outputs": []
    },
    {
      "cell_type": "code",
      "metadata": {
        "colab": {
          "base_uri": "https://localhost:8080/"
        },
        "id": "apGRAcsVgMxL",
        "outputId": "e95cf5ef-9692-4ba3-bd81-6ec892764130"
      },
      "source": [
        "ys"
      ],
      "execution_count": 523,
      "outputs": [
        {
          "output_type": "execute_result",
          "data": {
            "text/plain": [
              "array([[-5.  , -5.  , -5.  , ..., -5.  , -5.  , -5.  ],\n",
              "       [-4.99, -4.99, -4.99, ..., -4.99, -4.99, -4.99],\n",
              "       [-4.98, -4.98, -4.98, ..., -4.98, -4.98, -4.98],\n",
              "       ...,\n",
              "       [ 4.97,  4.97,  4.97, ...,  4.97,  4.97,  4.97],\n",
              "       [ 4.98,  4.98,  4.98, ...,  4.98,  4.98,  4.98],\n",
              "       [ 4.99,  4.99,  4.99, ...,  4.99,  4.99,  4.99]])"
            ]
          },
          "metadata": {},
          "execution_count": 523
        }
      ]
    },
    {
      "cell_type": "markdown",
      "metadata": {
        "id": "PAGldCjRgWhp"
      },
      "source": [
        "Now, evaluating the function is a matter of writing the same expression you would write with two points:"
      ]
    },
    {
      "cell_type": "code",
      "metadata": {
        "id": "cd0YNBqSgWPc"
      },
      "source": [
        "z = np.sqrt(xs ** 2 + ys ** 2)"
      ],
      "execution_count": 524,
      "outputs": []
    },
    {
      "cell_type": "code",
      "metadata": {
        "colab": {
          "base_uri": "https://localhost:8080/"
        },
        "id": "FQcfZX-IgaCT",
        "outputId": "e6b36636-3e8d-4e80-e8f9-ebdb97a04b22"
      },
      "source": [
        "z"
      ],
      "execution_count": 525,
      "outputs": [
        {
          "output_type": "execute_result",
          "data": {
            "text/plain": [
              "array([[7.07106781, 7.06400028, 7.05693985, ..., 7.04988652, 7.05693985,\n",
              "        7.06400028],\n",
              "       [7.06400028, 7.05692568, 7.04985815, ..., 7.04279774, 7.04985815,\n",
              "        7.05692568],\n",
              "       [7.05693985, 7.04985815, 7.04278354, ..., 7.03571603, 7.04278354,\n",
              "        7.04985815],\n",
              "       ...,\n",
              "       [7.04988652, 7.04279774, 7.03571603, ..., 7.0286414 , 7.03571603,\n",
              "        7.04279774],\n",
              "       [7.05693985, 7.04985815, 7.04278354, ..., 7.03571603, 7.04278354,\n",
              "        7.04985815],\n",
              "       [7.06400028, 7.05692568, 7.04985815, ..., 7.04279774, 7.04985815,\n",
              "        7.05692568]])"
            ]
          },
          "metadata": {},
          "execution_count": 525
        }
      ]
    },
    {
      "cell_type": "markdown",
      "metadata": {
        "id": "odN7LC-RhEst"
      },
      "source": [
        "I use matplotlib to create visualizations of this two dimensional array:"
      ]
    },
    {
      "cell_type": "code",
      "metadata": {
        "id": "gviMFsPGhGLb"
      },
      "source": [
        "import matplotlib.pyplot as plt"
      ],
      "execution_count": 526,
      "outputs": []
    },
    {
      "cell_type": "code",
      "metadata": {
        "colab": {
          "base_uri": "https://localhost:8080/",
          "height": 305
        },
        "id": "g2vfwDRdhIwj",
        "outputId": "1260d747-4dbe-4d05-c4e5-fcd3ea571beb"
      },
      "source": [
        "plt.imshow(z, cmap=plt.cm.spring); plt.colorbar()\n",
        "plt.title(\"Image plot of $\\sqrt{x^2 + y^2}$ for a grid of values\")"
      ],
      "execution_count": 527,
      "outputs": [
        {
          "output_type": "execute_result",
          "data": {
            "text/plain": [
              "Text(0.5, 1.0, 'Image plot of $\\\\sqrt{x^2 + y^2}$ for a grid of values')"
            ]
          },
          "metadata": {},
          "execution_count": 527
        },
        {
          "output_type": "display_data",
          "data": {
            "image/png": "[encoded data removed]",
            "text/plain": [
              "<Figure size 432x288 with 2 Axes>"
            ]
          },
          "metadata": {
            "needs_background": "light"
          }
        }
      ]
    },
    {
      "cell_type": "markdown",
      "metadata": {
        "id": "Ohpa0TQ1hVL8"
      },
      "source": [
        "Here I used the matplotlib function imshow to create an image plot from a two-dimensional array of function values"
      ]
    },
    {
      "cell_type": "markdown",
      "metadata": {
        "id": "HggsOHK_kSlt"
      },
      "source": [
        "## Expressing Conditional Logic as Array Operations"
      ]
    },
    {
      "cell_type": "markdown",
      "metadata": {
        "id": "eIn6sd_MkVR_"
      },
      "source": [
        "**The numpy.where function is a vectorized version of the ternary expression x if condition else y**\n",
        "\n",
        "Suppose we had a boolean array and two arrays of values:"
      ]
    },
    {
      "cell_type": "code",
      "metadata": {
        "id": "7Qji4hfzne7l"
      },
      "source": [
        "xarr = np.array([1.1, 1.2, 1.3, 1.4, 1.5])"
      ],
      "execution_count": 528,
      "outputs": []
    },
    {
      "cell_type": "code",
      "metadata": {
        "id": "eACxMAoZnhl4"
      },
      "source": [
        "yarr = np.array([2.1, 2.2, 2.3, 2.4, 2.5])"
      ],
      "execution_count": 529,
      "outputs": []
    },
    {
      "cell_type": "code",
      "metadata": {
        "id": "PaaC2Asgni4M"
      },
      "source": [
        "cond = np.array([True, False, True, True, False])"
      ],
      "execution_count": 530,
      "outputs": []
    },
    {
      "cell_type": "markdown",
      "metadata": {
        "id": "gzu3SJaPnm8k"
      },
      "source": [
        "Suppose we wanted to take a value from xarr whenever the corresponding value in cond is True, and otherwise take the value from yarr\n",
        "\n",
        "A list comprehension doing this might look like:"
      ]
    },
    {
      "cell_type": "code",
      "metadata": {
        "id": "vHaXqmdLnslT"
      },
      "source": [
        "result = [(x if c else y) for x, y, c in zip(xarr, yarr, cond)]"
      ],
      "execution_count": 531,
      "outputs": []
    },
    {
      "cell_type": "code",
      "metadata": {
        "colab": {
          "base_uri": "https://localhost:8080/"
        },
        "id": "IVv75lgRnzLs",
        "outputId": "e4a0f2a1-e789-4d45-e94b-81e8a1d8aa4d"
      },
      "source": [
        "result"
      ],
      "execution_count": 532,
      "outputs": [
        {
          "output_type": "execute_result",
          "data": {
            "text/plain": [
              "[1.1, 2.2, 1.3, 1.4, 2.5]"
            ]
          },
          "metadata": {},
          "execution_count": 532
        }
      ]
    },
    {
      "cell_type": "markdown",
      "metadata": {
        "id": "ur2SkXJan3Oc"
      },
      "source": [
        "This has multiple problems. First, it will not be very fast for large arrays (because all the work is being done in interpreted Python code)\n",
        "\n",
        "Second, it will not work with multidimensional arrays. With np.where you can write this very concisely:"
      ]
    },
    {
      "cell_type": "code",
      "metadata": {
        "id": "lYyQurBGn2RZ"
      },
      "source": [
        "result = np.where(cond, xarr, yarr)"
      ],
      "execution_count": 533,
      "outputs": []
    },
    {
      "cell_type": "code",
      "metadata": {
        "colab": {
          "base_uri": "https://localhost:8080/"
        },
        "id": "A6nn82UuoD3k",
        "outputId": "8bc3d56e-aeee-4554-b8a7-c41610d93430"
      },
      "source": [
        "result"
      ],
      "execution_count": 534,
      "outputs": [
        {
          "output_type": "execute_result",
          "data": {
            "text/plain": [
              "array([1.1, 2.2, 1.3, 1.4, 2.5])"
            ]
          },
          "metadata": {},
          "execution_count": 534
        }
      ]
    },
    {
      "cell_type": "markdown",
      "metadata": {
        "id": "KTaEe2oxoFjy"
      },
      "source": [
        "**The second and third arguments to np.where don’t need to be arrays**; one or both of them can be scalars\n",
        "\n",
        "**A typical use of where in data analysis is to produce a new array of values based on another array**\n",
        "\n",
        "Suppose you had a matrix of randomly generated data and you wanted to replace all positive values with 2 and all negative values with –2. This is very easy to do with np .where:"
      ]
    },
    {
      "cell_type": "code",
      "metadata": {
        "id": "KwkT06RvoVpq"
      },
      "source": [
        "arr = np.random.randn(4, 4)"
      ],
      "execution_count": 535,
      "outputs": []
    },
    {
      "cell_type": "code",
      "metadata": {
        "colab": {
          "base_uri": "https://localhost:8080/"
        },
        "id": "yv0NEEOzoXk5",
        "outputId": "75be898c-898a-4066-d6eb-10e452d4f9c4"
      },
      "source": [
        "arr"
      ],
      "execution_count": 536,
      "outputs": [
        {
          "output_type": "execute_result",
          "data": {
            "text/plain": [
              "array([[ 4.59823749e-01,  2.06664958e+00,  5.74323488e-04,\n",
              "         3.55255532e-01],\n",
              "       [ 1.95820060e-01,  8.72284059e-01,  2.14823001e-01,\n",
              "        -1.41464877e+00],\n",
              "       [-2.37982088e-02, -4.37205576e-01, -1.16062571e-01,\n",
              "        -1.40719024e+00],\n",
              "       [ 1.44110532e+00,  6.44560302e-01,  1.41261678e+00,\n",
              "        -1.05196801e+00]])"
            ]
          },
          "metadata": {},
          "execution_count": 536
        }
      ]
    },
    {
      "cell_type": "code",
      "metadata": {
        "colab": {
          "base_uri": "https://localhost:8080/"
        },
        "id": "zwENQeDCoYcA",
        "outputId": "b5d2594e-6564-4dda-c0c4-fe65af6371fd"
      },
      "source": [
        "arr > 0"
      ],
      "execution_count": 537,
      "outputs": [
        {
          "output_type": "execute_result",
          "data": {
            "text/plain": [
              "array([[ True,  True,  True,  True],\n",
              "       [ True,  True,  True, False],\n",
              "       [False, False, False, False],\n",
              "       [ True,  True,  True, False]])"
            ]
          },
          "metadata": {},
          "execution_count": 537
        }
      ]
    },
    {
      "cell_type": "code",
      "metadata": {
        "colab": {
          "base_uri": "https://localhost:8080/"
        },
        "id": "dv80BOZJoaZn",
        "outputId": "bad18e10-4653-4dea-c7cc-43f1b9766fd9"
      },
      "source": [
        "np.where(arr > 0, 2, -2)"
      ],
      "execution_count": 538,
      "outputs": [
        {
          "output_type": "execute_result",
          "data": {
            "text/plain": [
              "array([[ 2,  2,  2,  2],\n",
              "       [ 2,  2,  2, -2],\n",
              "       [-2, -2, -2, -2],\n",
              "       [ 2,  2,  2, -2]])"
            ]
          },
          "metadata": {},
          "execution_count": 538
        }
      ]
    },
    {
      "cell_type": "markdown",
      "metadata": {
        "id": "toxUFHoIoh0L"
      },
      "source": [
        "You can combine scalars and arrays when using np. where\n",
        "\n",
        "For example, I can replace all positive values in arr with the constant 2 like so:"
      ]
    },
    {
      "cell_type": "code",
      "metadata": {
        "colab": {
          "base_uri": "https://localhost:8080/"
        },
        "id": "9b89gLpUonvX",
        "outputId": "37e923aa-08ca-4a5f-d96c-a4f98d6aa89d"
      },
      "source": [
        "np.where(arr > 0, 2, arr)"
      ],
      "execution_count": 539,
      "outputs": [
        {
          "output_type": "execute_result",
          "data": {
            "text/plain": [
              "array([[ 2.        ,  2.        ,  2.        ,  2.        ],\n",
              "       [ 2.        ,  2.        ,  2.        , -1.41464877],\n",
              "       [-0.02379821, -0.43720558, -0.11606257, -1.40719024],\n",
              "       [ 2.        ,  2.        ,  2.        , -1.05196801]])"
            ]
          },
          "metadata": {},
          "execution_count": 539
        }
      ]
    },
    {
      "cell_type": "markdown",
      "metadata": {
        "id": "StH33ze6otZS"
      },
      "source": [
        "**The arrays passed to np.where can be more than just equal-sized arrays or scalars**"
      ]
    },
    {
      "cell_type": "markdown",
      "metadata": {
        "id": "FjW6iIKzou_A"
      },
      "source": [
        "## Mathematical and Statistical Methods"
      ]
    },
    {
      "cell_type": "markdown",
      "metadata": {
        "id": "bpWtxGoGo-v2"
      },
      "source": [
        "A set of mathematical functions that compute statistics about an entire array or about the data along an axis are accessible as methods of the array class\n",
        "\n",
        "**You can use aggreations (often called reductions)** like sum, mean, and std (standard deviation) either **by calling the array instance method or using the top-level NumPy function**"
      ]
    },
    {
      "cell_type": "code",
      "metadata": {
        "id": "3YlDX03kowLe"
      },
      "source": [
        "arr = np.random.randn(5, 4)"
      ],
      "execution_count": 540,
      "outputs": []
    },
    {
      "cell_type": "code",
      "metadata": {
        "colab": {
          "base_uri": "https://localhost:8080/"
        },
        "id": "jtr3WNW1pIT5",
        "outputId": "d462d503-170c-43da-e7ec-3ab1400e6bdd"
      },
      "source": [
        "arr"
      ],
      "execution_count": 541,
      "outputs": [
        {
          "output_type": "execute_result",
          "data": {
            "text/plain": [
              "array([[-0.01874163, -1.85616614,  0.73809325, -0.44326447],\n",
              "       [-0.37069063, -0.55820329,  0.36048971,  0.61644341],\n",
              "       [ 0.88718848,  0.67013746, -0.77245312,  0.09568686],\n",
              "       [-0.10556531, -0.44519467,  0.7655989 ,  0.04219041],\n",
              "       [ 0.62933952,  1.98144881,  1.58668588,  0.77529264]])"
            ]
          },
          "metadata": {},
          "execution_count": 541
        }
      ]
    },
    {
      "cell_type": "code",
      "metadata": {
        "colab": {
          "base_uri": "https://localhost:8080/"
        },
        "id": "93pE4rMbpJWu",
        "outputId": "e7cc6de1-2ab2-4e7b-951c-f8bb2ef65204"
      },
      "source": [
        "arr.mean()"
      ],
      "execution_count": 542,
      "outputs": [
        {
          "output_type": "execute_result",
          "data": {
            "text/plain": [
              "0.228915803511814"
            ]
          },
          "metadata": {},
          "execution_count": 542
        }
      ]
    },
    {
      "cell_type": "code",
      "metadata": {
        "colab": {
          "base_uri": "https://localhost:8080/"
        },
        "id": "riQAqBgPpKoJ",
        "outputId": "0560697c-92a8-4498-b9ed-119f3f5083a4"
      },
      "source": [
        "np.mean(arr)"
      ],
      "execution_count": 543,
      "outputs": [
        {
          "output_type": "execute_result",
          "data": {
            "text/plain": [
              "0.228915803511814"
            ]
          },
          "metadata": {},
          "execution_count": 543
        }
      ]
    },
    {
      "cell_type": "code",
      "metadata": {
        "colab": {
          "base_uri": "https://localhost:8080/"
        },
        "id": "GT_vcWuppMBM",
        "outputId": "9c9196c6-b240-4a81-cf2b-14fc6f8d287f"
      },
      "source": [
        "arr.sum()"
      ],
      "execution_count": 544,
      "outputs": [
        {
          "output_type": "execute_result",
          "data": {
            "text/plain": [
              "4.57831607023628"
            ]
          },
          "metadata": {},
          "execution_count": 544
        }
      ]
    },
    {
      "cell_type": "markdown",
      "metadata": {
        "id": "aF0oYrQhpQ44"
      },
      "source": [
        ""
      ]
    },
    {
      "cell_type": "markdown",
      "metadata": {
        "id": "G5l1R4eApW8J"
      },
      "source": [
        "Functions like mean and sum take an optional axis argument that computes the statistic over the given axis, resulting in an array with one fewer dimension:"
      ]
    },
    {
      "cell_type": "code",
      "metadata": {
        "colab": {
          "base_uri": "https://localhost:8080/"
        },
        "id": "vvMCQyPGpNSL",
        "outputId": "830bc63a-6200-45d9-cb30-cafaf1e3b294"
      },
      "source": [
        "arr.mean(axis=1)"
      ],
      "execution_count": 545,
      "outputs": [
        {
          "output_type": "execute_result",
          "data": {
            "text/plain": [
              "array([-0.39501975,  0.0120098 ,  0.22013992,  0.06425733,  1.24319171])"
            ]
          },
          "metadata": {},
          "execution_count": 545
        }
      ]
    },
    {
      "cell_type": "code",
      "metadata": {
        "colab": {
          "base_uri": "https://localhost:8080/"
        },
        "id": "bfjjiG_Fpbv3",
        "outputId": "6d6b1161-9b4d-40cc-bc30-a6c8d8c6e3bd"
      },
      "source": [
        "arr.sum(axis=0)"
      ],
      "execution_count": 546,
      "outputs": [
        {
          "output_type": "execute_result",
          "data": {
            "text/plain": [
              "array([ 1.02153043, -0.20797783,  2.67841462,  1.08634885])"
            ]
          },
          "metadata": {},
          "execution_count": 546
        }
      ]
    },
    {
      "cell_type": "markdown",
      "metadata": {
        "id": "65DhWyS4peul"
      },
      "source": [
        "Here, arr.mean(1) means “compute mean across the columns” where arr.sum(0) means “compute sum down the rows.”"
      ]
    },
    {
      "cell_type": "code",
      "metadata": {
        "colab": {
          "base_uri": "https://localhost:8080/"
        },
        "id": "TyBQhL7zpjE4",
        "outputId": "2c844057-3214-493e-e563-e2b852df9832"
      },
      "source": [
        "arr.mean(1)"
      ],
      "execution_count": 547,
      "outputs": [
        {
          "output_type": "execute_result",
          "data": {
            "text/plain": [
              "array([-0.39501975,  0.0120098 ,  0.22013992,  0.06425733,  1.24319171])"
            ]
          },
          "metadata": {},
          "execution_count": 547
        }
      ]
    },
    {
      "cell_type": "code",
      "metadata": {
        "colab": {
          "base_uri": "https://localhost:8080/"
        },
        "id": "KON8EAUbpl1x",
        "outputId": "ca78b617-a632-4ce6-b5f1-50287f7d9323"
      },
      "source": [
        "arr.sum(0)"
      ],
      "execution_count": 548,
      "outputs": [
        {
          "output_type": "execute_result",
          "data": {
            "text/plain": [
              "array([ 1.02153043, -0.20797783,  2.67841462,  1.08634885])"
            ]
          },
          "metadata": {},
          "execution_count": 548
        }
      ]
    },
    {
      "cell_type": "markdown",
      "metadata": {
        "id": "T6BQ2RYFppXs"
      },
      "source": [
        "Other methods like cumsum and cumprod do not aggregate, instead producing an array of the intermediate results:"
      ]
    },
    {
      "cell_type": "code",
      "metadata": {
        "id": "1jflcY94psA4"
      },
      "source": [
        "arr = np.array([0, 1, 2, 3, 4, 5, 6, 7])"
      ],
      "execution_count": 549,
      "outputs": []
    },
    {
      "cell_type": "code",
      "metadata": {
        "colab": {
          "base_uri": "https://localhost:8080/"
        },
        "id": "-xQWCYXTpwYm",
        "outputId": "afa598ec-18b8-4d2c-a337-8f5b3aacce94"
      },
      "source": [
        "arr.cumsum()"
      ],
      "execution_count": 550,
      "outputs": [
        {
          "output_type": "execute_result",
          "data": {
            "text/plain": [
              "array([ 0,  1,  3,  6, 10, 15, 21, 28])"
            ]
          },
          "metadata": {},
          "execution_count": 550
        }
      ]
    },
    {
      "cell_type": "markdown",
      "metadata": {
        "id": "YNVhycL5p3yr"
      },
      "source": [
        "In multidimensional arrays, accumulation functions like cumsum return an array of the same size, but with the partial aggregates computed along the indicated axis according to each lower dimensional slice:"
      ]
    },
    {
      "cell_type": "code",
      "metadata": {
        "id": "kGSzcUr9vOUu"
      },
      "source": [
        "arr = np.array([[0, 1, 2], [3, 4, 5], [6, 7, 8]])"
      ],
      "execution_count": 551,
      "outputs": []
    },
    {
      "cell_type": "code",
      "metadata": {
        "colab": {
          "base_uri": "https://localhost:8080/"
        },
        "id": "Va0VWPiAvjC_",
        "outputId": "90950509-6d98-4a87-80c2-217e6faf8247"
      },
      "source": [
        "arr"
      ],
      "execution_count": 552,
      "outputs": [
        {
          "output_type": "execute_result",
          "data": {
            "text/plain": [
              "array([[0, 1, 2],\n",
              "       [3, 4, 5],\n",
              "       [6, 7, 8]])"
            ]
          },
          "metadata": {},
          "execution_count": 552
        }
      ]
    },
    {
      "cell_type": "code",
      "metadata": {
        "colab": {
          "base_uri": "https://localhost:8080/"
        },
        "id": "E27IeA3Fvk2c",
        "outputId": "dd8d69f2-1f82-4675-9a88-0d6d9c65d596"
      },
      "source": [
        "arr.cumsum(axis=0)"
      ],
      "execution_count": 553,
      "outputs": [
        {
          "output_type": "execute_result",
          "data": {
            "text/plain": [
              "array([[ 0,  1,  2],\n",
              "       [ 3,  5,  7],\n",
              "       [ 9, 12, 15]])"
            ]
          },
          "metadata": {},
          "execution_count": 553
        }
      ]
    },
    {
      "cell_type": "code",
      "metadata": {
        "colab": {
          "base_uri": "https://localhost:8080/"
        },
        "id": "HvRvT6rMv19g",
        "outputId": "593617c9-3916-49c7-9273-b6800e88121c"
      },
      "source": [
        "arr.cumprod(axis=1)"
      ],
      "execution_count": 554,
      "outputs": [
        {
          "output_type": "execute_result",
          "data": {
            "text/plain": [
              "array([[  0,   0,   0],\n",
              "       [  3,  12,  60],\n",
              "       [  6,  42, 336]])"
            ]
          },
          "metadata": {},
          "execution_count": 554
        }
      ]
    },
    {
      "cell_type": "markdown",
      "metadata": {
        "id": "MXuu_pVkwAtt"
      },
      "source": [
        "See Table 4-5 for a full listing"
      ]
    },
    {
      "cell_type": "markdown",
      "metadata": {
        "id": "qGLl8an9wCwk"
      },
      "source": [
        "Table 4-5. Basic array statistical methods\n",
        "<p align='center'>\n",
        "<img src='data:image/png;base64,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'>\n",
        "</p>"
      ]
    },
    {
      "cell_type": "markdown",
      "metadata": {
        "id": "rL5ITLS7wXjo"
      },
      "source": [
        "## Methods for Boolean Arrays"
      ]
    },
    {
      "cell_type": "markdown",
      "metadata": {
        "id": "shxAZsmIwc86"
      },
      "source": [
        "Boolean values are coerced to 1 (True) and 0 (False) in the preceding methods\n",
        "\n",
        "Thus, sum is often used as a means of counting True values in a boolean array:"
      ]
    },
    {
      "cell_type": "code",
      "metadata": {
        "id": "7Jm8w8N8wCh7"
      },
      "source": [
        "arr = np.random.randn(100)"
      ],
      "execution_count": 555,
      "outputs": []
    },
    {
      "cell_type": "code",
      "metadata": {
        "colab": {
          "base_uri": "https://localhost:8080/"
        },
        "id": "djjh-eeowqxd",
        "outputId": "6056fee3-b758-40b4-be7e-dc6d18de9587"
      },
      "source": [
        "(arr > 0).sum() # Number of positive values"
      ],
      "execution_count": 556,
      "outputs": [
        {
          "output_type": "execute_result",
          "data": {
            "text/plain": [
              "51"
            ]
          },
          "metadata": {},
          "execution_count": 556
        }
      ]
    },
    {
      "cell_type": "markdown",
      "metadata": {
        "id": "59EgJzojwwt0"
      },
      "source": [
        "There are two additional methods, any and all, useful especially for boolean arrays\n",
        "\n",
        "**any tests whether one or more values in an array is True, while all checks if every value is True:**"
      ]
    },
    {
      "cell_type": "code",
      "metadata": {
        "id": "vDsTS6NUw5lM"
      },
      "source": [
        "bools = np.array([False, False, True, False])"
      ],
      "execution_count": 557,
      "outputs": []
    },
    {
      "cell_type": "code",
      "metadata": {
        "colab": {
          "base_uri": "https://localhost:8080/"
        },
        "id": "o65oolx_w_P2",
        "outputId": "42a77ea3-b8bf-41a0-9304-68f46fff5de6"
      },
      "source": [
        "bools.any()"
      ],
      "execution_count": 558,
      "outputs": [
        {
          "output_type": "execute_result",
          "data": {
            "text/plain": [
              "True"
            ]
          },
          "metadata": {},
          "execution_count": 558
        }
      ]
    },
    {
      "cell_type": "code",
      "metadata": {
        "colab": {
          "base_uri": "https://localhost:8080/"
        },
        "id": "WxR-Fj0jxBJz",
        "outputId": "a66aff08-c539-444f-cebe-6ab55f1b5c60"
      },
      "source": [
        "bools.all()"
      ],
      "execution_count": 559,
      "outputs": [
        {
          "output_type": "execute_result",
          "data": {
            "text/plain": [
              "False"
            ]
          },
          "metadata": {},
          "execution_count": 559
        }
      ]
    },
    {
      "cell_type": "markdown",
      "metadata": {
        "id": "JG3aWtTbxCrD"
      },
      "source": [
        "These methods also work with non-boolean arrays, where **non-zero elements evaluate to True**"
      ]
    },
    {
      "cell_type": "markdown",
      "metadata": {
        "id": "NS7_UMf0xH9l"
      },
      "source": [
        "## Sorting"
      ]
    },
    {
      "cell_type": "markdown",
      "metadata": {
        "id": "Tf-Lyz3ixLJC"
      },
      "source": [
        "Like Python’s built-in list type, NumPy arrays can be sorted in-place with the sort method:"
      ]
    },
    {
      "cell_type": "code",
      "metadata": {
        "id": "k6u18w2pxI4_"
      },
      "source": [
        "arr = np.random.randn(6)"
      ],
      "execution_count": 560,
      "outputs": []
    },
    {
      "cell_type": "code",
      "metadata": {
        "colab": {
          "base_uri": "https://localhost:8080/"
        },
        "id": "8y0za33sxNfF",
        "outputId": "bfb90210-bad4-4baf-f3f1-f18b1071ce16"
      },
      "source": [
        "arr"
      ],
      "execution_count": 561,
      "outputs": [
        {
          "output_type": "execute_result",
          "data": {
            "text/plain": [
              "array([ 1.04235958, -0.73865283, -1.06014964, -0.32366719,  0.06320934,\n",
              "       -0.6192925 ])"
            ]
          },
          "metadata": {},
          "execution_count": 561
        }
      ]
    },
    {
      "cell_type": "code",
      "metadata": {
        "id": "RsFZFaJTxPHU"
      },
      "source": [
        "arr.sort()"
      ],
      "execution_count": 562,
      "outputs": []
    },
    {
      "cell_type": "code",
      "metadata": {
        "colab": {
          "base_uri": "https://localhost:8080/"
        },
        "id": "5R54u-IJxQvA",
        "outputId": "b4cb1946-81db-4505-f680-494ca2adc815"
      },
      "source": [
        "arr"
      ],
      "execution_count": 563,
      "outputs": [
        {
          "output_type": "execute_result",
          "data": {
            "text/plain": [
              "array([-1.06014964, -0.73865283, -0.6192925 , -0.32366719,  0.06320934,\n",
              "        1.04235958])"
            ]
          },
          "metadata": {},
          "execution_count": 563
        }
      ]
    },
    {
      "cell_type": "markdown",
      "metadata": {
        "id": "uoazFnC_xTug"
      },
      "source": [
        "You can sort each one-dimensional section of values in a multidimensional array inplace along an axis by passing the axis number to sort:"
      ]
    },
    {
      "cell_type": "code",
      "metadata": {
        "id": "iq__4n-IxaPA"
      },
      "source": [
        "arr = np.random.randn(5, 3)"
      ],
      "execution_count": 564,
      "outputs": []
    },
    {
      "cell_type": "code",
      "metadata": {
        "colab": {
          "base_uri": "https://localhost:8080/"
        },
        "id": "d9pPuG_YxddB",
        "outputId": "014bd2ce-269c-40a7-f39d-6e906a8b1403"
      },
      "source": [
        "arr"
      ],
      "execution_count": 565,
      "outputs": [
        {
          "output_type": "execute_result",
          "data": {
            "text/plain": [
              "array([[ 0.077423  ,  2.60179586, -0.67046989],\n",
              "       [-0.31383308,  0.15891405,  0.02403909],\n",
              "       [ 0.5040206 , -0.26663992,  0.26687785],\n",
              "       [-1.67824989, -1.81491805, -2.11301833],\n",
              "       [-0.12967786, -0.68213249, -0.46550284]])"
            ]
          },
          "metadata": {},
          "execution_count": 565
        }
      ]
    },
    {
      "cell_type": "code",
      "metadata": {
        "id": "Xrd6tlMaxeje"
      },
      "source": [
        "arr.sort(1)"
      ],
      "execution_count": 566,
      "outputs": []
    },
    {
      "cell_type": "code",
      "metadata": {
        "colab": {
          "base_uri": "https://localhost:8080/"
        },
        "id": "esXvbgiTyBrk",
        "outputId": "ef98c4bd-9503-4ec0-c195-4f06912f8785"
      },
      "source": [
        "arr"
      ],
      "execution_count": 567,
      "outputs": [
        {
          "output_type": "execute_result",
          "data": {
            "text/plain": [
              "array([[-0.67046989,  0.077423  ,  2.60179586],\n",
              "       [-0.31383308,  0.02403909,  0.15891405],\n",
              "       [-0.26663992,  0.26687785,  0.5040206 ],\n",
              "       [-2.11301833, -1.81491805, -1.67824989],\n",
              "       [-0.68213249, -0.46550284, -0.12967786]])"
            ]
          },
          "metadata": {},
          "execution_count": 567
        }
      ]
    },
    {
      "cell_type": "markdown",
      "metadata": {
        "id": "TZnOUq4QysVN"
      },
      "source": [
        "The top-level method np.sort returns a sorted copy of an array instead of modifying the array in-place\n",
        "\n",
        "**A quick-and-dirty way to compute the quantiles of an array is to sort it and select the value at a particular rank:**"
      ]
    },
    {
      "cell_type": "code",
      "metadata": {
        "id": "C-mDIen6y3yG"
      },
      "source": [
        "large_arr = np.random.randn(1000)"
      ],
      "execution_count": 568,
      "outputs": []
    },
    {
      "cell_type": "code",
      "metadata": {
        "id": "NaAIO6m-y5ta"
      },
      "source": [
        "large_arr.sort()"
      ],
      "execution_count": 569,
      "outputs": []
    },
    {
      "cell_type": "code",
      "metadata": {
        "colab": {
          "base_uri": "https://localhost:8080/"
        },
        "id": "2NPnhgany7rU",
        "outputId": "b664b759-505f-4d5d-f83c-d017c90fb9d3"
      },
      "source": [
        "large_arr[int(0.05 * len(large_arr))]"
      ],
      "execution_count": 570,
      "outputs": [
        {
          "output_type": "execute_result",
          "data": {
            "text/plain": [
              "-1.5153667713682262"
            ]
          },
          "metadata": {},
          "execution_count": 570
        }
      ]
    },
    {
      "cell_type": "markdown",
      "metadata": {
        "id": "jLsyNFHszE7H"
      },
      "source": [
        "## Unique and Other Set Logic"
      ]
    },
    {
      "cell_type": "markdown",
      "metadata": {
        "id": "xUffCEnXzGhc"
      },
      "source": [
        "NumPy has some basic set operations for one-dimensional ndarrays. A commonly used one is np .unique, which **returns the sorted unique values in an array:**"
      ]
    },
    {
      "cell_type": "code",
      "metadata": {
        "id": "y5XQZkbczLQS"
      },
      "source": [
        "names = np.array(['Bob', 'Joe', 'Will', 'Bob', 'Will', 'Joe', 'Joe'])"
      ],
      "execution_count": 571,
      "outputs": []
    },
    {
      "cell_type": "code",
      "metadata": {
        "colab": {
          "base_uri": "https://localhost:8080/"
        },
        "id": "4y9jRvCtzNqI",
        "outputId": "424e93c5-185f-4ebf-aaf6-ea91d9ac0d5a"
      },
      "source": [
        "np.unique(names)"
      ],
      "execution_count": 572,
      "outputs": [
        {
          "output_type": "execute_result",
          "data": {
            "text/plain": [
              "array(['Bob', 'Joe', 'Will'], dtype='<U4')"
            ]
          },
          "metadata": {},
          "execution_count": 572
        }
      ]
    },
    {
      "cell_type": "code",
      "metadata": {
        "id": "6PSyN2yNzPrK"
      },
      "source": [
        "ints = np.array([3, 3, 3, 2, 2, 1, 1, 4, 4])"
      ],
      "execution_count": 573,
      "outputs": []
    },
    {
      "cell_type": "code",
      "metadata": {
        "colab": {
          "base_uri": "https://localhost:8080/"
        },
        "id": "3gF4ITmlzUEy",
        "outputId": "30033c81-b919-4df6-9849-6cce3588216b"
      },
      "source": [
        "np.unique(ints)"
      ],
      "execution_count": 574,
      "outputs": [
        {
          "output_type": "execute_result",
          "data": {
            "text/plain": [
              "array([1, 2, 3, 4])"
            ]
          },
          "metadata": {},
          "execution_count": 574
        }
      ]
    },
    {
      "cell_type": "markdown",
      "metadata": {
        "id": "SDs_NHdZzaRu"
      },
      "source": [
        "Contrast np.unique with the pure Python alternative:"
      ]
    },
    {
      "cell_type": "code",
      "metadata": {
        "colab": {
          "base_uri": "https://localhost:8080/"
        },
        "id": "yD7sFsX3zdD1",
        "outputId": "9955f5ae-faad-4a8a-ddda-277d765a08f8"
      },
      "source": [
        "sorted(set(names))"
      ],
      "execution_count": 575,
      "outputs": [
        {
          "output_type": "execute_result",
          "data": {
            "text/plain": [
              "['Bob', 'Joe', 'Will']"
            ]
          },
          "metadata": {},
          "execution_count": 575
        }
      ]
    },
    {
      "cell_type": "markdown",
      "metadata": {
        "id": "7L2Sfp5Uzfef"
      },
      "source": [
        "Another function, **np.in1d, tests membership of the values in one array in another, returning a boolean array:**"
      ]
    },
    {
      "cell_type": "code",
      "metadata": {
        "id": "1FEH48_jzkJy"
      },
      "source": [
        "values = np.array([6, 0, 0, 3, 2, 5, 6])"
      ],
      "execution_count": 576,
      "outputs": []
    },
    {
      "cell_type": "code",
      "metadata": {
        "colab": {
          "base_uri": "https://localhost:8080/"
        },
        "id": "A91IhuhKzmFB",
        "outputId": "ff2a28df-cf5a-46b8-9910-0e991a008d80"
      },
      "source": [
        "np.in1d(values, [2, 3, 6])"
      ],
      "execution_count": 577,
      "outputs": [
        {
          "output_type": "execute_result",
          "data": {
            "text/plain": [
              "array([ True, False, False,  True,  True, False,  True])"
            ]
          },
          "metadata": {},
          "execution_count": 577
        }
      ]
    },
    {
      "cell_type": "markdown",
      "metadata": {
        "id": "rvkPZvMKz5Qz"
      },
      "source": [
        "See Table 4-6 for a listing of set functions in NumPy"
      ]
    },
    {
      "cell_type": "markdown",
      "metadata": {
        "id": "gsYQtbjGz7wt"
      },
      "source": [
        "Table 4-6. Array set operations\n",
        "<p align='center'>\n",
        "<img src='data:image/png;base64,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'>\n",
        "</p>"
      ]
    },
    {
      "cell_type": "markdown",
      "metadata": {
        "id": "C5YmKsAN0Vk8"
      },
      "source": [
        "# 4.4 File Input and Output with Arrays"
      ]
    },
    {
      "cell_type": "markdown",
      "metadata": {
        "id": "8SIFaoFU0XTe"
      },
      "source": [
        "NumPy is able to save and load data to and from disk either in text or binary format\n",
        "\n",
        "np.save and np.load are the two workhorse functions for efficiently saving and loading array data on disk\n",
        "\n",
        "Arrays are saved by default in an uncompressed raw binary format with file extension .npy:"
      ]
    },
    {
      "cell_type": "code",
      "metadata": {
        "id": "ZCBTfH0DsNCY"
      },
      "source": [
        "arr = np.arange(10)"
      ],
      "execution_count": 578,
      "outputs": []
    },
    {
      "cell_type": "code",
      "metadata": {
        "id": "9pegD2McsPcZ"
      },
      "source": [
        "np.save('some_array', arr)"
      ],
      "execution_count": 579,
      "outputs": []
    },
    {
      "cell_type": "markdown",
      "metadata": {
        "id": "mSX47cdJsb3U"
      },
      "source": [
        "**If the file path does not already end in .npy, the extension will be appended**\n",
        "\n",
        "The array on disk can then be loaded with np.load:"
      ]
    },
    {
      "cell_type": "code",
      "metadata": {
        "id": "O-F7FloTsiQ9"
      },
      "source": [
        "#np.load('some_array.npy')"
      ],
      "execution_count": 580,
      "outputs": []
    },
    {
      "cell_type": "markdown",
      "metadata": {
        "id": "B5_2I_ijs773"
      },
      "source": [
        "You save multiple arrays in an uncompressed archive using np.savez and passing the arrays as keyword arguments:"
      ]
    },
    {
      "cell_type": "code",
      "metadata": {
        "id": "8-ZGNSmFs-og"
      },
      "source": [
        "np.savez('array_archive.npz', a=arr, b=arr)"
      ],
      "execution_count": 581,
      "outputs": []
    },
    {
      "cell_type": "markdown",
      "metadata": {
        "id": "kVA19G6XtsX9"
      },
      "source": [
        "When loading an .npz file, you get back a dict-like object that loads the individual arrays lazily:"
      ]
    },
    {
      "cell_type": "code",
      "metadata": {
        "id": "KDFuohWUtvJc"
      },
      "source": [
        "arch = np.load('array_archive.npz')"
      ],
      "execution_count": 582,
      "outputs": []
    },
    {
      "cell_type": "code",
      "metadata": {
        "colab": {
          "base_uri": "https://localhost:8080/"
        },
        "id": "ViZyQFgetx-k",
        "outputId": "2f2d21b5-cacb-4c0d-ce7d-b7b48499cb8b"
      },
      "source": [
        "arch['b']"
      ],
      "execution_count": 583,
      "outputs": [
        {
          "output_type": "execute_result",
          "data": {
            "text/plain": [
              "array([0, 1, 2, 3, 4, 5, 6, 7, 8, 9])"
            ]
          },
          "metadata": {},
          "execution_count": 583
        }
      ]
    },
    {
      "cell_type": "markdown",
      "metadata": {
        "id": "7_rNN7Nbt0xy"
      },
      "source": [
        "If your data compresses well, you may wish to use numpy.savez_compressed instead:"
      ]
    },
    {
      "cell_type": "code",
      "metadata": {
        "id": "UOl5pLkbt3gM"
      },
      "source": [
        "np.savez_compressed('arrays_compressed.npz', a=arr, b=arr)"
      ],
      "execution_count": 584,
      "outputs": []
    },
    {
      "cell_type": "markdown",
      "metadata": {
        "id": "JxXxDZ3Yt73H"
      },
      "source": [
        "# 4.5 Linear Algebra"
      ]
    },
    {
      "cell_type": "markdown",
      "metadata": {
        "id": "HgygXDsyt9sf"
      },
      "source": [
        "Linear algebra, like matrix multiplication, decompositions, determinants, and other square matrix math, is an important part of any array library\n",
        "\n",
        "There is a function dot, both an array method and a function in the numpy namespace, for matrix multiplication:"
      ]
    },
    {
      "cell_type": "code",
      "metadata": {
        "id": "7rrqPFAYuYJ5"
      },
      "source": [
        "x = np.array([[1., 2., 3.], [4., 5., 6.]])"
      ],
      "execution_count": 585,
      "outputs": []
    },
    {
      "cell_type": "code",
      "metadata": {
        "id": "yoWl30EAua8Z"
      },
      "source": [
        "y = np.array([[6., 23.], [-1, 7], [8, 9]])"
      ],
      "execution_count": 586,
      "outputs": []
    },
    {
      "cell_type": "code",
      "metadata": {
        "colab": {
          "base_uri": "https://localhost:8080/"
        },
        "id": "fWBkVg4rucze",
        "outputId": "411029b1-1350-4d94-d8fd-59434f0552dc"
      },
      "source": [
        "x"
      ],
      "execution_count": 587,
      "outputs": [
        {
          "output_type": "execute_result",
          "data": {
            "text/plain": [
              "array([[1., 2., 3.],\n",
              "       [4., 5., 6.]])"
            ]
          },
          "metadata": {},
          "execution_count": 587
        }
      ]
    },
    {
      "cell_type": "code",
      "metadata": {
        "colab": {
          "base_uri": "https://localhost:8080/"
        },
        "id": "6whOQRAuudeN",
        "outputId": "ba0b5b2d-55c9-4b3e-e41f-dd9c442c7ba8"
      },
      "source": [
        "y"
      ],
      "execution_count": 588,
      "outputs": [
        {
          "output_type": "execute_result",
          "data": {
            "text/plain": [
              "array([[ 6., 23.],\n",
              "       [-1.,  7.],\n",
              "       [ 8.,  9.]])"
            ]
          },
          "metadata": {},
          "execution_count": 588
        }
      ]
    },
    {
      "cell_type": "code",
      "metadata": {
        "colab": {
          "base_uri": "https://localhost:8080/"
        },
        "id": "0bhxPTzhueX9",
        "outputId": "fbfcea86-edb6-4674-cb4b-75d6ebb3832f"
      },
      "source": [
        "x.dot(y)"
      ],
      "execution_count": 589,
      "outputs": [
        {
          "output_type": "execute_result",
          "data": {
            "text/plain": [
              "array([[ 28.,  64.],\n",
              "       [ 67., 181.]])"
            ]
          },
          "metadata": {},
          "execution_count": 589
        }
      ]
    },
    {
      "cell_type": "markdown",
      "metadata": {
        "id": "FinJHIA8ur3R"
      },
      "source": [
        "x.dot(y) is equivalent to np.dot(x, y):"
      ]
    },
    {
      "cell_type": "code",
      "metadata": {
        "colab": {
          "base_uri": "https://localhost:8080/"
        },
        "id": "uyZW7hw_ut_3",
        "outputId": "2b96e5e8-b439-469d-b925-d42ca9b5e760"
      },
      "source": [
        "np.dot(x, y)"
      ],
      "execution_count": 590,
      "outputs": [
        {
          "output_type": "execute_result",
          "data": {
            "text/plain": [
              "array([[ 28.,  64.],\n",
              "       [ 67., 181.]])"
            ]
          },
          "metadata": {},
          "execution_count": 590
        }
      ]
    },
    {
      "cell_type": "markdown",
      "metadata": {
        "id": "9WLk-Rd2uv1M"
      },
      "source": [
        "A matrix product between a two-dimensional array and a suitably sized one dimensional array results in a one-dimensional array:"
      ]
    },
    {
      "cell_type": "code",
      "metadata": {
        "colab": {
          "base_uri": "https://localhost:8080/"
        },
        "id": "jLuqOy2cu0Gb",
        "outputId": "84bc2eaf-d392-43b4-c106-9bf242b08889"
      },
      "source": [
        "np.dot(x, np.ones(3))"
      ],
      "execution_count": 591,
      "outputs": [
        {
          "output_type": "execute_result",
          "data": {
            "text/plain": [
              "array([ 6., 15.])"
            ]
          },
          "metadata": {},
          "execution_count": 591
        }
      ]
    },
    {
      "cell_type": "markdown",
      "metadata": {
        "id": "0af9sQHPvUJZ"
      },
      "source": [
        "The @ symbol (as of Python 3.5) also works as an infix operator that performs matrix multiplication:"
      ]
    },
    {
      "cell_type": "code",
      "metadata": {
        "colab": {
          "base_uri": "https://localhost:8080/"
        },
        "id": "-qT-mxrOvWfW",
        "outputId": "8ab001a7-bfde-4627-f453-9cdf893078a2"
      },
      "source": [
        "x @ np.ones(3)"
      ],
      "execution_count": 592,
      "outputs": [
        {
          "output_type": "execute_result",
          "data": {
            "text/plain": [
              "array([ 6., 15.])"
            ]
          },
          "metadata": {},
          "execution_count": 592
        }
      ]
    },
    {
      "cell_type": "markdown",
      "metadata": {
        "id": "M0s77JtjvYsq"
      },
      "source": [
        "numpy.linalg has a standard set of matrix decompositions and things like inverse and determinant\n",
        "\n"
      ]
    },
    {
      "cell_type": "code",
      "metadata": {
        "id": "r2_wooGBvfcq"
      },
      "source": [
        "from numpy.linalg import inv, qr"
      ],
      "execution_count": 593,
      "outputs": []
    },
    {
      "cell_type": "code",
      "metadata": {
        "id": "uQx23e2Vvh9R"
      },
      "source": [
        "X = np.random.randn(5, 5)"
      ],
      "execution_count": 594,
      "outputs": []
    },
    {
      "cell_type": "code",
      "metadata": {
        "id": "EMshCGiqvkJZ"
      },
      "source": [
        "mat = X.T.dot(X)"
      ],
      "execution_count": 595,
      "outputs": []
    },
    {
      "cell_type": "code",
      "metadata": {
        "colab": {
          "base_uri": "https://localhost:8080/"
        },
        "id": "usV1R1fivmkA",
        "outputId": "bc166839-2772-494b-fd1e-1b57c2b9e081"
      },
      "source": [
        "inv(mat)"
      ],
      "execution_count": 596,
      "outputs": [
        {
          "output_type": "execute_result",
          "data": {
            "text/plain": [
              "array([[ 3.20975709, -2.015813  ,  3.04823617, -2.18611063,  0.41496588],\n",
              "       [-2.015813  ,  3.13308776, -3.1596128 ,  2.84639178, -0.74193496],\n",
              "       [ 3.04823617, -3.1596128 ,  4.27238269, -3.44549979,  0.94843455],\n",
              "       [-2.18611063,  2.84639178, -3.44549979,  3.1127015 , -1.05518362],\n",
              "       [ 0.41496588, -0.74193496,  0.94843455, -1.05518362,  0.73482878]])"
            ]
          },
          "metadata": {},
          "execution_count": 596
        }
      ]
    },
    {
      "cell_type": "code",
      "metadata": {
        "colab": {
          "base_uri": "https://localhost:8080/"
        },
        "id": "fcT3CTnyvp7X",
        "outputId": "79cbedaf-e577-47bc-d925-3d1dd7d14498"
      },
      "source": [
        "mat.dot(inv(mat))"
      ],
      "execution_count": 597,
      "outputs": [
        {
          "output_type": "execute_result",
          "data": {
            "text/plain": [
              "array([[ 1.00000000e+00,  7.87517490e-16, -1.60410297e-15,\n",
              "         1.13862254e-15, -1.19597145e-16],\n",
              "       [ 1.98760079e-15,  1.00000000e+00,  2.67956839e-15,\n",
              "        -8.38716515e-16,  1.06075269e-15],\n",
              "       [ 2.46534547e-16,  7.24974063e-16,  1.00000000e+00,\n",
              "         5.09654928e-16,  3.87825065e-16],\n",
              "       [ 1.83454461e-15,  1.53447664e-15, -3.31407638e-15,\n",
              "         1.00000000e+00,  1.20728292e-16],\n",
              "       [ 1.92009704e-15, -1.74991881e-15,  1.78540769e-15,\n",
              "        -3.78675023e-15,  1.00000000e+00]])"
            ]
          },
          "metadata": {},
          "execution_count": 597
        }
      ]
    },
    {
      "cell_type": "code",
      "metadata": {
        "id": "X_4u2Vabvr5i"
      },
      "source": [
        "q, r = qr(mat)"
      ],
      "execution_count": 598,
      "outputs": []
    },
    {
      "cell_type": "markdown",
      "metadata": {
        "id": "c2vX1KvZvvon"
      },
      "source": [
        "The expression X.T.dot(X) computes the dot product of X with its transpose X .T\n",
        "\n",
        "See Table 4-7 for a list of some of the most commonly used linear algebra functions"
      ]
    },
    {
      "cell_type": "markdown",
      "metadata": {
        "id": "i3vmu2_5v0be"
      },
      "source": [
        "Table 4-7. Commonly used numpy.linalg functions\n",
        "\n",
        "<p align='center'>\n",
        "<img src='data:image/png;base64,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'>\n",
        "</p>"
      ]
    },
    {
      "cell_type": "markdown",
      "metadata": {
        "id": "FfTSWcR0waUq"
      },
      "source": [
        "# 4.6 Pseudorandom Number Generation"
      ]
    },
    {
      "cell_type": "markdown",
      "metadata": {
        "id": "_Re_AH0bwcwo"
      },
      "source": [
        "The numpy.random module supplements the built-in Python random with functions for efficiently generating whole arrays of sample values from many kinds of probability distributions\n",
        "\n",
        "For example, you can get a 4 4 array of samples from the standard normal distribution using normal:"
      ]
    },
    {
      "cell_type": "code",
      "metadata": {
        "id": "MWrwvPnZwtT-"
      },
      "source": [
        "samples = np.random.normal(size=(4, 4))"
      ],
      "execution_count": 599,
      "outputs": []
    },
    {
      "cell_type": "code",
      "metadata": {
        "colab": {
          "base_uri": "https://localhost:8080/"
        },
        "id": "_Tzosgmswvm6",
        "outputId": "0d6ed6a6-cd37-48cf-f6ae-f342ff6dcba1"
      },
      "source": [
        "samples"
      ],
      "execution_count": 600,
      "outputs": [
        {
          "output_type": "execute_result",
          "data": {
            "text/plain": [
              "array([[ 1.71231848,  1.20945814, -0.06172505,  0.39632253],\n",
              "       [-1.10714395,  2.06273818,  0.84444216,  1.44252016],\n",
              "       [-0.44546245, -1.26094725,  0.39826691, -0.63665564],\n",
              "       [-0.83864085,  1.12028365, -1.13599591,  1.83246206]])"
            ]
          },
          "metadata": {},
          "execution_count": 600
        }
      ]
    },
    {
      "cell_type": "markdown",
      "metadata": {
        "id": "MMvMqVjowyOs"
      },
      "source": [
        "Python’s built-in random module, by contrast, only samples one value at a time\n",
        "\n",
        "As you can see from this benchmark, numpy.random is well over an order of magnitude faster for generating very large samples:"
      ]
    },
    {
      "cell_type": "code",
      "metadata": {
        "id": "Bxxce319wxtQ"
      },
      "source": [
        "from random import normalvariate"
      ],
      "execution_count": 601,
      "outputs": []
    },
    {
      "cell_type": "code",
      "metadata": {
        "id": "uVfAhVB3w9aU"
      },
      "source": [
        "N = 1000000"
      ],
      "execution_count": 602,
      "outputs": []
    },
    {
      "cell_type": "code",
      "metadata": {
        "colab": {
          "base_uri": "https://localhost:8080/"
        },
        "id": "0Im8YFm0w_rS",
        "outputId": "68db9433-4861-4a6d-e8fd-963bdf4199ce"
      },
      "source": [
        "%timeit samples = [normalvariate(0, 1) for _ in range(N)]"
      ],
      "execution_count": 603,
      "outputs": [
        {
          "output_type": "stream",
          "name": "stdout",
          "text": [
            "1 loop, best of 5: 977 ms per loop\n"
          ]
        }
      ]
    },
    {
      "cell_type": "code",
      "metadata": {
        "colab": {
          "base_uri": "https://localhost:8080/"
        },
        "id": "HJySeYSVxD9o",
        "outputId": "8ce1b869-9616-4f84-e46a-0caaff201778"
      },
      "source": [
        "%timeit samples = np.random.normal(size=N)"
      ],
      "execution_count": 604,
      "outputs": [
        {
          "output_type": "stream",
          "name": "stdout",
          "text": [
            "10 loops, best of 5: 45.5 ms per loop\n"
          ]
        }
      ]
    },
    {
      "cell_type": "markdown",
      "metadata": {
        "id": "lmQ5j_XNxRph"
      },
      "source": [
        "We say that these are pseudorandom numbers because they are **generated by an algorithm with deterministic behavior based on the seed of the random number generator**\n",
        "\n",
        "You can change Numpy's random number generation seed using np.random.seed:"
      ]
    },
    {
      "cell_type": "code",
      "metadata": {
        "id": "BFdgHP4exe7d"
      },
      "source": [
        "np.random.seed(1234)"
      ],
      "execution_count": 605,
      "outputs": []
    },
    {
      "cell_type": "markdown",
      "metadata": {
        "id": "AerGI77-xhEM"
      },
      "source": [
        "**The data generation functions in numpy.random use a global random seed**\n",
        "\n",
        "To avoid global state, you can use numpy.random.RandomState to create a random number generator isolated from others:"
      ]
    },
    {
      "cell_type": "code",
      "metadata": {
        "id": "M7jyBp1MxrQx"
      },
      "source": [
        "rng = np.random.RandomState(1234)"
      ],
      "execution_count": 606,
      "outputs": []
    },
    {
      "cell_type": "code",
      "metadata": {
        "colab": {
          "base_uri": "https://localhost:8080/"
        },
        "id": "ZYpgOHeDxtbs",
        "outputId": "8ee720ac-22e8-4947-ab81-5fc5301cdb37"
      },
      "source": [
        "rng.randn(10)"
      ],
      "execution_count": 607,
      "outputs": [
        {
          "output_type": "execute_result",
          "data": {
            "text/plain": [
              "array([ 0.47143516, -1.19097569,  1.43270697, -0.3126519 , -0.72058873,\n",
              "        0.88716294,  0.85958841, -0.6365235 ,  0.01569637, -2.24268495])"
            ]
          },
          "metadata": {},
          "execution_count": 607
        }
      ]
    },
    {
      "cell_type": "markdown",
      "metadata": {
        "id": "gYOjxQsOxwAw"
      },
      "source": [
        "See Table 4-8 for a partial list of functions available in numpy. random"
      ]
    },
    {
      "cell_type": "markdown",
      "metadata": {
        "id": "f0UU3DYexzPa"
      },
      "source": [
        "Table 4-8. Partial list of numpy.random functions\n",
        "<p align='center'>\n",
        "<img src='data:image/png;base64,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'>\n",
        "</p>"
      ]
    },
    {
      "cell_type": "markdown",
      "metadata": {
        "id": "ag_hlJ1QyBmz"
      },
      "source": [
        "# 4.7 Example: Random Walks"
      ]
    },
    {
      "cell_type": "markdown",
      "metadata": {
        "id": "Zv8qF3JFyDsT"
      },
      "source": [
        "The simulation of random walks provides an illustrative application of utilizing array operations\n",
        "\n",
        "Let’s first consider a simple random walk starting at 0 with steps of 1 and –1 occurring with equal probability\n",
        "\n",
        "Here is a pure Python way to implement a single random walk with 1,000 steps using the built-in random module:"
      ]
    },
    {
      "cell_type": "code",
      "metadata": {
        "id": "5JksS3IjyUdx"
      },
      "source": [
        "import random\n",
        "\n",
        "position = 0\n",
        "walk = [position]\n",
        "steps = 1000\n",
        "for i in range(steps):\n",
        "  step = 1 if random.randint(0, 1) else -1\n",
        "  position += step\n",
        "  walk.append(position)"
      ],
      "execution_count": 608,
      "outputs": []
    },
    {
      "cell_type": "markdown",
      "metadata": {
        "id": "ukmxRX0py0Ne"
      },
      "source": [
        "See Figure 4-4 for an example plot of the first 100 values on one of these random walks:"
      ]
    },
    {
      "cell_type": "code",
      "metadata": {
        "colab": {
          "base_uri": "https://localhost:8080/",
          "height": 282
        },
        "id": "nZ21rT43yweG",
        "outputId": "49009265-0c61-49ac-f7ff-0cb1ea5eb246"
      },
      "source": [
        "plt.plot(walk[:100])"
      ],
      "execution_count": 609,
      "outputs": [
        {
          "output_type": "execute_result",
          "data": {
            "text/plain": [
              "[<matplotlib.lines.Line2D at 0x7f9682eeca10>]"
            ]
          },
          "metadata": {},
          "execution_count": 609
        },
        {
          "output_type": "display_data",
          "data": {
            "image/png": "[encoded data removed]",
            "text/plain": [
              "<Figure size 432x288 with 1 Axes>"
            ]
          },
          "metadata": {
            "needs_background": "light"
          }
        }
      ]
    },
    {
      "cell_type": "markdown",
      "metadata": {
        "id": "zhJptAdizPBo"
      },
      "source": [
        "Figure 4-4. A simple random walk"
      ]
    },
    {
      "cell_type": "markdown",
      "metadata": {
        "id": "Z81nNr4Fz1xu"
      },
      "source": [
        "You might make the observation that walk is simply the cumulative sum of the random steps and could be evaluated as an array expression\n",
        "\n",
        "Thus, I use the np.random module to draw 1,000 coin flips at once, set these to 1 and –1, and compute the cumulative sum:"
      ]
    },
    {
      "cell_type": "code",
      "metadata": {
        "id": "Z4ZLaatj1Isn"
      },
      "source": [
        "nsteps = 1000"
      ],
      "execution_count": 610,
      "outputs": []
    },
    {
      "cell_type": "code",
      "metadata": {
        "id": "UVEj_Jzh1LaY"
      },
      "source": [
        "draws = np.random.randint(0, 2, size=nsteps)"
      ],
      "execution_count": 611,
      "outputs": []
    },
    {
      "cell_type": "code",
      "metadata": {
        "id": "0Yaj1SWc1QBo"
      },
      "source": [
        "steps = np.where(draws > 0, 1, -1)"
      ],
      "execution_count": 612,
      "outputs": []
    },
    {
      "cell_type": "code",
      "metadata": {
        "id": "UP9oTySW1WQd"
      },
      "source": [
        "walk = steps.cumsum()"
      ],
      "execution_count": 613,
      "outputs": []
    },
    {
      "cell_type": "code",
      "metadata": {
        "colab": {
          "base_uri": "https://localhost:8080/",
          "height": 282
        },
        "id": "YaVCyFYi3OHR",
        "outputId": "6f126833-db19-4d86-dc19-d749adff60e4"
      },
      "source": [
        "plt.plot(walk)"
      ],
      "execution_count": 614,
      "outputs": [
        {
          "output_type": "execute_result",
          "data": {
            "text/plain": [
              "[<matplotlib.lines.Line2D at 0x7f9681e25890>]"
            ]
          },
          "metadata": {},
          "execution_count": 614
        },
        {
          "output_type": "display_data",
          "data": {
            "image/png": "[encoded data removed]",
            "text/plain": [
              "<Figure size 432x288 with 1 Axes>"
            ]
          },
          "metadata": {
            "needs_background": "light"
          }
        }
      ]
    },
    {
      "cell_type": "markdown",
      "metadata": {
        "id": "9-10z0h51llE"
      },
      "source": [
        "From this we can begin to extract statistics like the minimum and maximum value along the walk’s trajectory:"
      ]
    },
    {
      "cell_type": "code",
      "metadata": {
        "colab": {
          "base_uri": "https://localhost:8080/"
        },
        "id": "Zzo4jcA71Xyj",
        "outputId": "7531385a-7ce7-4068-effa-9bd8c112f201"
      },
      "source": [
        "walk.min()"
      ],
      "execution_count": 615,
      "outputs": [
        {
          "output_type": "execute_result",
          "data": {
            "text/plain": [
              "-9"
            ]
          },
          "metadata": {},
          "execution_count": 615
        }
      ]
    },
    {
      "cell_type": "code",
      "metadata": {
        "colab": {
          "base_uri": "https://localhost:8080/"
        },
        "id": "5oc7DkG41Y69",
        "outputId": "611bd306-6ee2-474e-c61e-54ad08109d4e"
      },
      "source": [
        "walk.max()"
      ],
      "execution_count": 616,
      "outputs": [
        {
          "output_type": "execute_result",
          "data": {
            "text/plain": [
              "60"
            ]
          },
          "metadata": {},
          "execution_count": 616
        }
      ]
    },
    {
      "cell_type": "markdown",
      "metadata": {
        "id": "PAq4NMmr1n0O"
      },
      "source": [
        "A more complicated statistic is the first crossing time, the step at which the random walk reaches a particular value. Here we might want to know how long it took the random walk to get at least 10 steps away from the origin 0 in either direction\n",
        "\n",
        "np.abs(walk) >= 10 gives us a boolean array indicating where the walk has reached or exceeded 10, but we want the index of the first 10 or –10. Turns out, we can compute this using argmax, which returns the first index of the maximum value in the boolean array (True is the maximum value):"
      ]
    },
    {
      "cell_type": "code",
      "metadata": {
        "colab": {
          "base_uri": "https://localhost:8080/"
        },
        "id": "9YdryX332sVl",
        "outputId": "114e0b8f-c14c-4e86-f841-efd5153549dc"
      },
      "source": [
        "(np.abs(walk) >= 10).argmax()"
      ],
      "execution_count": 617,
      "outputs": [
        {
          "output_type": "execute_result",
          "data": {
            "text/plain": [
              "297"
            ]
          },
          "metadata": {},
          "execution_count": 617
        }
      ]
    },
    {
      "cell_type": "markdown",
      "metadata": {
        "id": "VI6kl9dy3CYI"
      },
      "source": [
        "Note that using argmax here is not always efficient because it always makes a full scan of the array\n",
        "\n",
        "In this special case, once a True is observed we know it to be the maximum value"
      ]
    },
    {
      "cell_type": "markdown",
      "metadata": {
        "id": "AfXAoXqV5TuP"
      },
      "source": [
        "## Simulating Many Random Walks at Once"
      ]
    },
    {
      "cell_type": "markdown",
      "metadata": {
        "id": "ylir_FMY5Xt7"
      },
      "source": [
        "If your goal was to simulate many random walks, say 5,000 of them, you can generate all of the random walks with minor modifications to the preceding code\n",
        "\n",
        "If passed a 2-tuple, the numpy.random functions will generate a two-dimensional array of draws, and we can compute the cumulative sum across the rows to compute all 5,000 random walks in one shot:"
      ]
    },
    {
      "cell_type": "code",
      "metadata": {
        "id": "MVuCfD-H50O6"
      },
      "source": [
        "nwalks = 5000"
      ],
      "execution_count": 618,
      "outputs": []
    },
    {
      "cell_type": "code",
      "metadata": {
        "id": "_RF9CqLe51ob"
      },
      "source": [
        "nsteps = 1000"
      ],
      "execution_count": 619,
      "outputs": []
    },
    {
      "cell_type": "code",
      "metadata": {
        "id": "FD84rPi953HO"
      },
      "source": [
        "draws = np.random.randint(0, 2, size=(nwalks, nsteps)) # 0 or 1"
      ],
      "execution_count": 620,
      "outputs": []
    },
    {
      "cell_type": "code",
      "metadata": {
        "id": "wNaAQuVS572k"
      },
      "source": [
        "steps = np.where(draws > 0, 1, -1)"
      ],
      "execution_count": 621,
      "outputs": []
    },
    {
      "cell_type": "code",
      "metadata": {
        "id": "uHHCD-MZ5-4t"
      },
      "source": [
        "walks = steps.cumsum(1)"
      ],
      "execution_count": 622,
      "outputs": []
    },
    {
      "cell_type": "code",
      "metadata": {
        "colab": {
          "base_uri": "https://localhost:8080/"
        },
        "id": "SFtyvAN16A4o",
        "outputId": "4c5329ae-fda9-4c06-bbf3-c7043e360194"
      },
      "source": [
        "walks"
      ],
      "execution_count": 623,
      "outputs": [
        {
          "output_type": "execute_result",
          "data": {
            "text/plain": [
              "array([[  1,   2,   3, ...,  46,  47,  46],\n",
              "       [  1,   0,   1, ...,  40,  41,  42],\n",
              "       [  1,   2,   3, ..., -26, -27, -28],\n",
              "       ...,\n",
              "       [  1,   0,   1, ...,  64,  65,  66],\n",
              "       [  1,   2,   1, ...,   2,   1,   0],\n",
              "       [ -1,  -2,  -3, ...,  32,  33,  34]])"
            ]
          },
          "metadata": {},
          "execution_count": 623
        }
      ]
    },
    {
      "cell_type": "markdown",
      "metadata": {
        "id": "DbBuv8xL6XBl"
      },
      "source": [
        "Now, we can compute the maximum and minimum values obtained over all of the walks:"
      ]
    },
    {
      "cell_type": "code",
      "metadata": {
        "colab": {
          "base_uri": "https://localhost:8080/"
        },
        "id": "xc-AcTBM6WFu",
        "outputId": "f4265db6-22e4-4ee2-dfd2-a2e9bfb0d121"
      },
      "source": [
        "walks.max()"
      ],
      "execution_count": 624,
      "outputs": [
        {
          "output_type": "execute_result",
          "data": {
            "text/plain": [
              "122"
            ]
          },
          "metadata": {},
          "execution_count": 624
        }
      ]
    },
    {
      "cell_type": "code",
      "metadata": {
        "colab": {
          "base_uri": "https://localhost:8080/"
        },
        "id": "imzMle0V6dDW",
        "outputId": "e27e18d0-b435-434a-a2e3-de43d0cce17a"
      },
      "source": [
        "walks.min()"
      ],
      "execution_count": 625,
      "outputs": [
        {
          "output_type": "execute_result",
          "data": {
            "text/plain": [
              "-128"
            ]
          },
          "metadata": {},
          "execution_count": 625
        }
      ]
    },
    {
      "cell_type": "markdown",
      "metadata": {
        "id": "iFLl0jfq6fGJ"
      },
      "source": [
        "Out of these walks, let’s compute the minimum crossing time to 30 or –30\n",
        "\n",
        "This is slightly tricky because not all 5,000 of them reach 30. We can check this using the any method:"
      ]
    },
    {
      "cell_type": "code",
      "metadata": {
        "id": "pc5PvirJ6qkN"
      },
      "source": [
        "hits30 = (np.abs(walks) >= 30).any(1)"
      ],
      "execution_count": 626,
      "outputs": []
    },
    {
      "cell_type": "code",
      "metadata": {
        "colab": {
          "base_uri": "https://localhost:8080/"
        },
        "id": "yjb8U1wD6uqP",
        "outputId": "50125810-5326-4310-8491-53099841630a"
      },
      "source": [
        "hits30"
      ],
      "execution_count": 627,
      "outputs": [
        {
          "output_type": "execute_result",
          "data": {
            "text/plain": [
              "array([ True,  True,  True, ...,  True, False,  True])"
            ]
          },
          "metadata": {},
          "execution_count": 627
        }
      ]
    },
    {
      "cell_type": "code",
      "metadata": {
        "colab": {
          "base_uri": "https://localhost:8080/"
        },
        "id": "dhu-Lw9A6wYo",
        "outputId": "5395de75-8792-433a-861d-124257ebbcfa"
      },
      "source": [
        "hits30.sum()"
      ],
      "execution_count": 628,
      "outputs": [
        {
          "output_type": "execute_result",
          "data": {
            "text/plain": [
              "3368"
            ]
          },
          "metadata": {},
          "execution_count": 628
        }
      ]
    },
    {
      "cell_type": "markdown",
      "metadata": {
        "id": "bFR1vYAX6zu1"
      },
      "source": [
        "We can use this boolean array to select out the rows of walks that actually cross the absolute 30 level and call argmax across axis 1 to get the crossing times:"
      ]
    },
    {
      "cell_type": "code",
      "metadata": {
        "id": "d6i-S6E162fJ"
      },
      "source": [
        "crossing_times = (np.abs(walks[hits30]) >= 30).argmax(1)"
      ],
      "execution_count": 629,
      "outputs": []
    },
    {
      "cell_type": "code",
      "metadata": {
        "colab": {
          "base_uri": "https://localhost:8080/"
        },
        "id": "lcBx_EZ47A58",
        "outputId": "9524258a-6ebc-4a8e-e112-c0dea96d3f10"
      },
      "source": [
        "crossing_times.mean()"
      ],
      "execution_count": 630,
      "outputs": [
        {
          "output_type": "execute_result",
          "data": {
            "text/plain": [
              "509.99762470308787"
            ]
          },
          "metadata": {},
          "execution_count": 630
        }
      ]
    },
    {
      "cell_type": "markdown",
      "metadata": {
        "id": "EpNPVaE37Uag"
      },
      "source": [
        "You need only use a different random number generation function, like normal to generate normally distributed steps with some mean and standard deviation:"
      ]
    },
    {
      "cell_type": "code",
      "metadata": {
        "id": "otrDfWX_7WWg"
      },
      "source": [
        "steps = np.random.normal(loc=0, scale=0.25,\n",
        "                         size=(nwalks, nsteps))"
      ],
      "execution_count": 631,
      "outputs": []
    }
  ]
}