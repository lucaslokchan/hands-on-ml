{
  "nbformat": 4,
  "nbformat_minor": 0,
  "metadata": {
    "colab": {
      "name": "16. Natural Language Processing with RNNs and Attention.ipynb",
      "provenance": [],
      "collapsed_sections": [],
      "mount_file_id": "1j6yCtaNAJkeiIpDLsCKoQhmA6G5ASh6U",
      "authorship_tag": "ABX9TyOUOS+s35xz/OkN7m2M0vaa"
    },
    "kernelspec": {
      "name": "python3",
      "display_name": "Python 3"
    },
    "language_info": {
      "name": "python"
    },
    "accelerator": "GPU"
  },
  "cells": [
    {
      "cell_type": "markdown",
      "source": [
        "# Generating Shakespearean Text Using a Character RNN"
      ],
      "metadata": {
        "id": "lluO0-MKIeT1"
      }
    },
    {
      "cell_type": "markdown",
      "source": [
        "In a famous [2015 blog post](https://karpathy.github.io/2015/05/21/rnn-effectiveness/) titled “The Unreasonable Effectiveness of Recurrent Neural Networks,” Andrej Karpathy showed how to train an RNN to predict the next character in a sentence\n",
        "\n",
        "This **Char-RNN** can then be used to generate novel text, one character at a time"
      ],
      "metadata": {
        "id": "JfPF18pCIg-5"
      }
    },
    {
      "cell_type": "markdown",
      "source": [
        "## Creating the Training Dataset"
      ],
      "metadata": {
        "id": "rz_zpqHTJCnq"
      }
    },
    {
      "cell_type": "markdown",
      "source": [
        "First, let’s download all of Shakespeare’s work, using Keras’s handy get_file() function and downloading the data from Andrej Karpathy’ [Char-RNN project](https://github.com/karpathy/char-rnn):"
      ],
      "metadata": {
        "id": "XlIC-lcqJJJb"
      }
    },
    {
      "cell_type": "code",
      "source": [
        "import tensorflow as tf\n",
        "import tensorflow.keras as keras"
      ],
      "metadata": {
        "id": "sX6rM0CXJo8q"
      },
      "execution_count": null,
      "outputs": []
    },
    {
      "cell_type": "code",
      "execution_count": 60,
      "metadata": {
        "id": "B5TpAbqIHx2O"
      },
      "outputs": [],
      "source": [
        "shakespeare_url = \"https://raw.githubusercontent.com/karpathy/char-rnn/master/data/tinyshakespeare/input.txt\"\n",
        "filepath = keras.utils.get_file(\"shakespeare.txt\", shakespeare_url)\n",
        "with open(filepath) as f:\n",
        "    shakespeare_text = f.read()"
      ]
    },
    {
      "cell_type": "code",
      "source": [
        "print(shakespeare_text[:148])"
      ],
      "metadata": {
        "colab": {
          "base_uri": "https://localhost:8080/"
        },
        "id": "G3SGPfrN9h7j",
        "outputId": "6939393d-99a3-46e7-a76d-24f256779f10"
      },
      "execution_count": 61,
      "outputs": [
        {
          "output_type": "stream",
          "name": "stdout",
          "text": [
            "First Citizen:\n",
            "Before we proceed any further, hear me speak.\n",
            "\n",
            "All:\n",
            "Speak, speak.\n",
            "\n",
            "First Citizen:\n",
            "You are all resolved rather to die than to famish?\n",
            "\n"
          ]
        }
      ]
    },
    {
      "cell_type": "markdown",
      "source": [
        "Next, we must encode every character as an integer. One option is to create a custom preprocessing layer, as we did in Chapter 13\n",
        "\n",
        "But in this case, it will be simpler to use Keras’ Tokenizer class. First we need to fit a **tokenizer** to the text: **it will find all the characters used in the text and map each of them to a different character ID, from 1 to the number of distinct characters** (it does not start at 0, so we can use that value for masking, as we will see later in this chapter):"
      ],
      "metadata": {
        "id": "528552bvJ1q4"
      }
    },
    {
      "cell_type": "code",
      "source": [
        "tokenizer = keras.preprocessing.text.Tokenizer(char_level=True)\n",
        "tokenizer.fit_on_texts(shakespeare_text)"
      ],
      "metadata": {
        "id": "lNPR-xC2KWTK"
      },
      "execution_count": 62,
      "outputs": []
    },
    {
      "cell_type": "markdown",
      "source": [
        "We set **char_level=True** to get **character-level encoding rather than the default word-level encoding**. Note that this **tokenizer converts the text to lowercase by default** (but you can set lower=False if you do not want that)\n",
        "\n",
        "Now the tokenizer can encode a sentence (or a list of sentences) to a list of character IDs and back, and it tells us how many distinct characters there are and the total number of characters in the text:"
      ],
      "metadata": {
        "id": "4OWS860MKqEY"
      }
    },
    {
      "cell_type": "code",
      "source": [
        "tokenizer.texts_to_sequences([\"First\"])"
      ],
      "metadata": {
        "colab": {
          "base_uri": "https://localhost:8080/"
        },
        "id": "rj0hOHSmKpnt",
        "outputId": "58176ed3-7c53-4768-b0db-a2aa6284f944"
      },
      "execution_count": 63,
      "outputs": [
        {
          "output_type": "execute_result",
          "data": {
            "text/plain": [
              "[[20, 6, 9, 8, 3]]"
            ]
          },
          "metadata": {},
          "execution_count": 63
        }
      ]
    },
    {
      "cell_type": "code",
      "source": [
        "tokenizer.sequences_to_texts([[20, 6, 9, 8, 3]])"
      ],
      "metadata": {
        "colab": {
          "base_uri": "https://localhost:8080/"
        },
        "id": "8PpVqeHfLgP1",
        "outputId": "1a9f7ffb-f680-4f54-9141-77a804cf15a4"
      },
      "execution_count": 64,
      "outputs": [
        {
          "output_type": "execute_result",
          "data": {
            "text/plain": [
              "['f i r s t']"
            ]
          },
          "metadata": {},
          "execution_count": 64
        }
      ]
    },
    {
      "cell_type": "code",
      "source": [
        "max_id = len(tokenizer.word_index) # number of distinct characters\n",
        "max_id"
      ],
      "metadata": {
        "colab": {
          "base_uri": "https://localhost:8080/"
        },
        "id": "3Da8bub2Lo41",
        "outputId": "15adf6f7-8880-41d2-e33b-4bc655529766"
      },
      "execution_count": 65,
      "outputs": [
        {
          "output_type": "execute_result",
          "data": {
            "text/plain": [
              "39"
            ]
          },
          "metadata": {},
          "execution_count": 65
        }
      ]
    },
    {
      "cell_type": "code",
      "source": [
        "dataset_size = tokenizer.document_count # total number of characters\n",
        "dataset_size"
      ],
      "metadata": {
        "colab": {
          "base_uri": "https://localhost:8080/"
        },
        "id": "asqyxRV5LwfL",
        "outputId": "c91df4cb-d019-4a5d-e88b-d3293500b968"
      },
      "execution_count": 66,
      "outputs": [
        {
          "output_type": "execute_result",
          "data": {
            "text/plain": [
              "1115394"
            ]
          },
          "metadata": {},
          "execution_count": 66
        }
      ]
    },
    {
      "cell_type": "markdown",
      "source": [
        "Let’s encode the full text so each character is represented by its ID (we subtract 1 to get IDs from 0 to 38, rather than from 1 to 39):"
      ],
      "metadata": {
        "id": "S7U2pVYz_-dz"
      }
    },
    {
      "cell_type": "code",
      "source": [
        "import numpy as np\n",
        "[encoded] = np.array(tokenizer.texts_to_sequences([shakespeare_text])) - 1"
      ],
      "metadata": {
        "id": "jf1N5p_S_4Aq"
      },
      "execution_count": 67,
      "outputs": []
    },
    {
      "cell_type": "markdown",
      "source": [
        "Before we continue, we need to split the dataset into a training set, a validation set, and a test set. We **can’t just shuffle all the characters in the text,** so how do you split a sequential dataset?"
      ],
      "metadata": {
        "id": "WilnAQNbAQC9"
      }
    },
    {
      "cell_type": "markdown",
      "source": [
        "## How to Split a Sequential Dataset"
      ],
      "metadata": {
        "id": "Saml8x0rAf0T"
      }
    },
    {
      "cell_type": "markdown",
      "source": [
        "For example, we can take the first 90% of the text for the training set, then the next 5% for the validation set, and the final 5% for the test set\n",
        "\n",
        "It would also be a good idea to **leave a gap between these sets** to **avoid** the risk of a **paragraph overlapping** over two sets\n",
        "\n",
        "When dealing with time series, you would in **general split across time,:** for example, you might take the years **2000 to 2012 for the training set, the years 2013 to 2015 for the validation set, and the years 2016 to 2018 for the test set.** However, in some cases you may be able to split along other dimensions, which will give you a longer time period to train on\n",
        "\n",
        "So, it is often safer to split across time—but this implicitly **assumes that the patterns the RNN can learn in the past** (in the training set) **will still exist in the future.** In other words, we assume that the time series is **stationary**\n",
        "\n",
        "For many time series this assumption is reasonable **(e.g., chemical reactions should be fine, since the laws of chemistry don’t change every day),** but f**or many others it is not (e.g., financial markets are notoriously not stationary since patterns disappear as soon as traders spot them and start exploiting them)**\n",
        "\n",
        "To **make sure** the time series is indeed sufficiently **stationary,** you can **plot the model’s errors on the validation set across time: if the model performs much better on the first part of the validation set than on the last part, then the time series may not be stationary enough,** and you might be **better off training the model on a shorter time span.**\n",
        "\n",
        "Now back to Shakespeare! Let’s take the first 90% of the text for the training set (keeping the rest for the validation set and the test set), and create a tf.data.Dataset that will return each character one by one from this set:"
      ],
      "metadata": {
        "id": "L7FYdN1VA1rU"
      }
    },
    {
      "cell_type": "code",
      "source": [
        "train_size = dataset_size * 90 // 100\n",
        "dataset = tf.data.Dataset.from_tensor_slices(encoded[:train_size])"
      ],
      "metadata": {
        "id": "eUMwdiLbAkiS"
      },
      "execution_count": 68,
      "outputs": []
    },
    {
      "cell_type": "markdown",
      "source": [
        "## Chopping the Sequential Dataset into Multiple Windows"
      ],
      "metadata": {
        "id": "mYBvevngDlDv"
      }
    },
    {
      "cell_type": "markdown",
      "source": [
        "The training set now consists of a single sequence of **over a million characters,** so we **can’t just train the neural network directly** on it: **the RNN would be equivalent to a deep net with over a million layers,** and we would have a single (very long) instance to train it\n",
        "\n",
        "Instead, we will use the dataset’s **window() method** to **convert** this long sequence of characters **into many smaller windows of text**\n",
        "\n",
        "**Every instance** in the dataset will be a **fairly short substring of the whole text,** and the **RNN will be unrolled only over the length of these substrings.** This is called **truncated backpropagation through time**\n",
        "\n",
        "Let's call the window() method to create a dataset of short text windows:"
      ],
      "metadata": {
        "id": "nbjhOncoDpsb"
      }
    },
    {
      "cell_type": "code",
      "source": [
        "n_steps = 100\n",
        "window_length = n_steps + 1 # target = input shifted 1 character ahead\n",
        "dataset = dataset.window(window_length, shift=1, drop_remainder=True)"
      ],
      "metadata": {
        "id": "6iMrvFwHDsdF"
      },
      "execution_count": 69,
      "outputs": []
    },
    {
      "cell_type": "markdown",
      "source": [
        "By **default,** the **window()** method **creates nonoverlapping windows,** but **to get the largest possible training set we use shift=1** so the **first window contains characters 0 to 100. the second contains characters 1 to 101,** and so on\n",
        "\n",
        "To **ensure that all windows are exactly 101 characters** long (which will allow us to create batches without having to do any padding), we set **drop_remainder=True** (otherwise the last 100 windows will contain 100 characters, 99 characters, and so on down to 1 character)\n",
        "\n",
        "The **window() method creates a dataset that contains windows, each of which is also represented as a dataset.** It’s a **nested dataset,** analogous to a list of lists\n",
        "\n",
        "This is useful when you want to transform each window by calling its dataset methods (e.g., to shuffle them or batch them). However, we **cannot use a nested dataset directly for training,** as our model will **expect tensors as input,** not datasets\n",
        "\n",
        "So, we must call the **flat_map() method:** it **converts a nested dataset into a flat dataset** (one that does not contain datasets). For example, suppose {1, 2, 3} represents a dataset containing the sequence of tensors 1, 2, and 3. **If you flatten the nested dataset {{1, 2}, {3, 4, 5, 6}}, you get back the flat dataset {1, 2, 3, 4, 5, 6}**\n",
        "\n",
        "Moreover, the **flat_map() method takes a function as an argument, which allows you to transform each dataset in the nested dataset before flattening.** For example, if you pass the function **lambda ds: ds.batch(2) to flat_map(),** then it will transform the nested dataset {{1, 2}, {3, 4, 5, 6}} into the flat dataset **{[1, 2], [3, 4], [5, 6]}:** it’s a dataset of tensors of size 2 \n",
        "\n",
        "With that in mind, we are ready to flatten our dataset:"
      ],
      "metadata": {
        "id": "Ciy0FcEWFvMh"
      }
    },
    {
      "cell_type": "code",
      "source": [
        "dataset = dataset.flat_map(lambda window: window.batch(window_length))"
      ],
      "metadata": {
        "id": "A2hjvmA7FWxL"
      },
      "execution_count": 70,
      "outputs": []
    },
    {
      "cell_type": "markdown",
      "source": [
        "Notice that we call batch(window_length) on each window: since all windows have exactly that length, we will get a single tensor for each of them. **Now the dataset contains consecutive windows of 101 characters each**\n",
        "\n",
        "Since **Gradient Descent** works best when the instances in the **training set are independent and identically distributed**, we need to shuffle these windows. Then we can batch the windows and separate the inputs (the first 100 characters) from the target (the last character):"
      ],
      "metadata": {
        "id": "ZTDzb_Ogr8Mk"
      }
    },
    {
      "cell_type": "code",
      "source": [
        "batch_size = 32\n",
        "dataset = dataset.shuffle(10000).batch(batch_size)\n",
        "dataset = dataset.map(lambda windows: (windows[:, :-1], windows[:, 1:]))"
      ],
      "metadata": {
        "id": "Q0QDHKTkznU6"
      },
      "execution_count": 71,
      "outputs": []
    },
    {
      "cell_type": "markdown",
      "source": [
        "Figure 16-1 summarizes the dataset preparation steps discussed so far (showing windows of length 11 rather than 101, and a batch size of 3 instead of 32)"
      ],
      "metadata": {
        "id": "IwftVQ6az1h1"
      }
    },
    {
      "cell_type": "markdown",
      "source": [
        "<p align='center'>\n",
        "<img src='data:image/png;base64,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'>\n",
        "</p>\n",
        "Figure 16-1. Preparing a dataset of shuffled windows"
      ],
      "metadata": {
        "id": "6OMD5nFm0CXc"
      }
    },
    {
      "cell_type": "markdown",
      "source": [
        "As discussed in Chapter 13, categorical input features should generally be encoded, usually as one-hot vectors or as embeddings. Here, we will encode each character using a one-hot vector because there are fairly few distinct characters (only 39):"
      ],
      "metadata": {
        "id": "38lOr9hZ0esv"
      }
    },
    {
      "cell_type": "code",
      "source": [
        "dataset = dataset.map(\n",
        "    lambda X_batch, Y_batch: (tf.one_hot(X_batch, depth=max_id), Y_batch))"
      ],
      "metadata": {
        "id": "VarJEuV30Brb"
      },
      "execution_count": 72,
      "outputs": []
    },
    {
      "cell_type": "markdown",
      "source": [
        "Finally, we just need to add prefetching:"
      ],
      "metadata": {
        "id": "OsH6CiXv04b6"
      }
    },
    {
      "cell_type": "code",
      "source": [
        "dataset = dataset.prefetch(1)"
      ],
      "metadata": {
        "id": "EQAVYRir039c"
      },
      "execution_count": 73,
      "outputs": []
    },
    {
      "cell_type": "code",
      "source": [
        "for X_batch, Y_batch in dataset.take(1):\n",
        "    print(X_batch.shape, Y_batch.shape)"
      ],
      "metadata": {
        "colab": {
          "base_uri": "https://localhost:8080/"
        },
        "id": "wpvmIK_W8xu5",
        "outputId": "65ed252d-a17e-4a2e-d0e9-ab29f58b9286"
      },
      "execution_count": 74,
      "outputs": [
        {
          "output_type": "stream",
          "name": "stdout",
          "text": [
            "(32, 100, 39) (32, 100)\n"
          ]
        }
      ]
    },
    {
      "cell_type": "markdown",
      "source": [
        "## Building and Training the Char-RNN Model"
      ],
      "metadata": {
        "id": "j4p54SDj097_"
      }
    },
    {
      "cell_type": "markdown",
      "source": [
        "To **predict the next character based on the previous 100 characters,** we can use an **RNN with 2 GRU layers of 128 units** each and **20% dropout** on both the **inputs (dropout)** and the **hidden states (recurrent_dropout)**\n",
        "\n",
        "The output layer is a time distributed Dense layer like we saw in Chapter 15. This time this **layer must have 39 units** (max_id) **because there are 39 distinct characters in the text,** and we want to **output a probability for each possible character** (at each time step)\n",
        "\n",
        "The **output probabilities should sum up to 1** at each time step, so we apply the **softmax activation function** to the outputs of the Dense layer\n",
        "\n",
        "We can then compile this model, using the **'sparse_categorical_crossentropy' loss and an Adam optimizer.** Finally, we are ready to train the model for several epochs\n",
        "\n",
        "Finally, we are ready to train the model for several epochs (this may take many hours, depending on your hardware):"
      ],
      "metadata": {
        "id": "q7Cm6KaFvyZm"
      }
    },
    {
      "cell_type": "code",
      "source": [
        "model = keras.models.Sequential([\n",
        "    keras.layers.GRU(128, return_sequences=True, input_shape=[None, max_id],\n",
        "                     #dropout=0.2, recurrent_dropout=0.2),\n",
        "                     dropout=0.2),\n",
        "    keras.layers.GRU(128, return_sequences=True,\n",
        "                     #dropout=0.2, recurrent_dropout=0.2),\n",
        "                     dropout=0.2),\n",
        "    keras.layers.TimeDistributed(keras.layers.Dense(max_id,\n",
        "                                                    activation=\"softmax\"))\n",
        "])\n",
        "model.compile(loss=\"sparse_categorical_crossentropy\", optimizer=\"adam\")\n",
        "#history = model.fit(dataset, epochs=2) # 10 epochs originally, changed to 2 epochs for less training time since each epoch takes ~ 2 hours\n",
        "#model.save('ch16_char_rnn.h5')"
      ],
      "metadata": {
        "id": "4ipLNVkMvxh0"
      },
      "execution_count": 75,
      "outputs": []
    },
    {
      "cell_type": "markdown",
      "source": [
        "```\n",
        "Epoch 1/2\n",
        "31368/31368 [==============================] - 1632s 52ms/step - loss: 1.6199\n",
        "Epoch 2/2\n",
        "31368/31368 [==============================] - 1645s 52ms/step - loss: 1.5386\n",
        "```\n",
        "\n"
      ],
      "metadata": {
        "id": "JSAtX1onAF79"
      }
    },
    {
      "cell_type": "markdown",
      "source": [
        "Trained and Uploaded Model on Github"
      ],
      "metadata": {
        "id": "e13U9dpkEptd"
      }
    },
    {
      "cell_type": "code",
      "source": [
        "from urllib import request\n",
        "url = 'https://github.com/lucaslokchan/ml-journal/raw/master/Hands-On%20Machine%20Learning/Model/CH16_CHAR_RNN.h5'\n",
        "request.urlretrieve(url, 'CH16_CHAR_RNN.h5')"
      ],
      "metadata": {
        "id": "o42lLBGs-9FE",
        "colab": {
          "base_uri": "https://localhost:8080/"
        },
        "outputId": "2a339435-dec9-46cf-d406-0fdb079004b0"
      },
      "execution_count": 76,
      "outputs": [
        {
          "output_type": "execute_result",
          "data": {
            "text/plain": [
              "('CH16_CHAR_RNN.h5', <http.client.HTTPMessage at 0x7f4ba3108790>)"
            ]
          },
          "metadata": {},
          "execution_count": 76
        }
      ]
    },
    {
      "cell_type": "code",
      "source": [
        "model = keras.models.load_model('CH16_CHAR_RNN.h5')"
      ],
      "metadata": {
        "id": "z6Di2Gbc95iY"
      },
      "execution_count": 77,
      "outputs": []
    },
    {
      "cell_type": "markdown",
      "source": [
        "## Using the Char-RNN Model"
      ],
      "metadata": {
        "id": "9kvOAYWo2LsD"
      }
    },
    {
      "cell_type": "markdown",
      "source": [
        "Now we have a model that can predict the next character in text written by Shakespeare. To feed it some text, we first need to preprocess it like we did earlier, so let’s create a little function for this:"
      ],
      "metadata": {
        "id": "qgrzvxIG2S_s"
      }
    },
    {
      "cell_type": "code",
      "source": [
        "def preprocess(texts):\n",
        "  X = np.array(tokenizer.texts_to_sequences(texts)) - 1\n",
        "  return tf.one_hot(X, max_id)"
      ],
      "metadata": {
        "id": "uQHEK6lqHbKG"
      },
      "execution_count": 78,
      "outputs": []
    },
    {
      "cell_type": "markdown",
      "source": [
        "Now let’s use the model to predict the next letter in some text:"
      ],
      "metadata": {
        "id": "QTmd-_bbGacY"
      }
    },
    {
      "cell_type": "code",
      "source": [
        "# The predict_classes() method is deprecated. Instead, we must use np.argmax(model(X_new), axis=-1)\n",
        "X_new = preprocess(['How are yo'])\n",
        "Y_pred = np.argmax(model(X_new), axis=-1)\n",
        "tokenizer.sequences_to_texts(Y_pred + 1)[0][-1] # 1st sentence, last char"
      ],
      "metadata": {
        "colab": {
          "base_uri": "https://localhost:8080/",
          "height": 35
        },
        "id": "eRnVKvMJGZ0U",
        "outputId": "dbc2e275-915c-4de0-e8bf-1f15822a3148"
      },
      "execution_count": 79,
      "outputs": [
        {
          "output_type": "execute_result",
          "data": {
            "application/vnd.google.colaboratory.intrinsic+json": {
              "type": "string"
            },
            "text/plain": [
              "'u'"
            ]
          },
          "metadata": {},
          "execution_count": 79
        }
      ]
    },
    {
      "cell_type": "markdown",
      "source": [
        "Success! The model guessed right. Now let’s use this model to generate new text"
      ],
      "metadata": {
        "id": "s49_Ye7WIQbU"
      }
    },
    {
      "cell_type": "markdown",
      "source": [
        "## Generating Fake Shakespearean Text"
      ],
      "metadata": {
        "id": "fRjZXZLhISzw"
      }
    },
    {
      "cell_type": "markdown",
      "source": [
        "To generate new text using the Char-RNN model, we could **feed it some text, make the model predict the most likely next letter, add it at the end of the text, then give the extended text to the model to guess the next letter,** and so on\n",
        "\n",
        "But in practice this often **leads to the same words being repeated over and over again.** Instead, we can **pick the next character randomly,** with a **probability equal to the estimated probability,** using TensorFlow’s tf.random.categorical() function. This will generate **more diverse** and interesting text\n",
        "\n",
        "The **categorical() function samples random class indices, given the class log probabilities (logits).** To have **more control over the diversity** of the generated text, we can **divide the logits by a number called the temperature,** which we can tweak as we wish: a **temperature close to 0 will favor the high-probability characters,** while a **very high temperature will give all characters an equal probability**\n",
        "\n",
        "The following next_char() function uses this approach to pick the next character to add to the input text:"
      ],
      "metadata": {
        "id": "H9VEAsaPIUiS"
      }
    },
    {
      "cell_type": "code",
      "source": [
        "def next_char(text, temperature=1):\n",
        "    X_new = preprocess([text])\n",
        "    y_proba = model(X_new)[0, -1:, :]\n",
        "    rescaled_logits = tf.math.log(y_proba) / temperature\n",
        "    char_id = tf.random.categorical(rescaled_logits, num_samples=1) + 1\n",
        "    return tokenizer.sequences_to_texts(char_id.numpy())[0]"
      ],
      "metadata": {
        "id": "qhQ_gdrrM7mC"
      },
      "execution_count": 80,
      "outputs": []
    },
    {
      "cell_type": "markdown",
      "source": [
        "Next, we can write a small function that will **repeatedly call next_char()** to get the next character and append it to the given text:"
      ],
      "metadata": {
        "id": "B_mKUwudNP-E"
      }
    },
    {
      "cell_type": "code",
      "source": [
        "def complete_text(text, n_chars=50, temperature=1):\n",
        "    for _ in range(n_chars):\n",
        "        text += next_char(text, temperature)\n",
        "    return text"
      ],
      "metadata": {
        "id": "LYqqea88NUhg"
      },
      "execution_count": 81,
      "outputs": []
    },
    {
      "cell_type": "markdown",
      "source": [
        "We are now ready to generate some text! Let's try with different temperatures:"
      ],
      "metadata": {
        "id": "Lj2gTgkeNjde"
      }
    },
    {
      "cell_type": "code",
      "source": [
        "print(complete_text('I',n_chars=150, temperature=0.2))"
      ],
      "metadata": {
        "colab": {
          "base_uri": "https://localhost:8080/"
        },
        "id": "hv8K0GC5Nis1",
        "outputId": "0b06f3d1-de2c-4b06-bf9e-9ae1f65aaf13"
      },
      "execution_count": 82,
      "outputs": [
        {
          "output_type": "stream",
          "name": "stdout",
          "text": [
            "In the rest well well be to her father is a sight?\n",
            "\n",
            "gremio:\n",
            "i pray, sir, i will go the young and behalding to a world.\n",
            "\n",
            "gremio:\n",
            "i will contrive thee to\n"
          ]
        }
      ]
    },
    {
      "cell_type": "code",
      "source": [
        "print(complete_text('Hello', n_chars=150, temperature=1))"
      ],
      "metadata": {
        "colab": {
          "base_uri": "https://localhost:8080/"
        },
        "id": "bdOJNZSXP24h",
        "outputId": "1d8646e5-709b-4434-e7e4-6110782dbb59"
      },
      "execution_count": 83,
      "outputs": [
        {
          "output_type": "stream",
          "name": "stdout",
          "text": [
            "Hellow! talk you is ill bo read the goess.\n",
            "were we will till you plact: yea, as you have as so good hortensio:\n",
            "but so i's your quarrelsiable clopelese in:\n",
            "\n"
          ]
        }
      ]
    },
    {
      "cell_type": "code",
      "source": [
        "print(complete_text('Diu', n_chars=150, temperature=2))"
      ],
      "metadata": {
        "colab": {
          "base_uri": "https://localhost:8080/"
        },
        "id": "_mn6BtBbP_7Y",
        "outputId": "91a4cc88-119a-4c57-c9fc-73f167cb09ab"
      },
      "execution_count": 84,
      "outputs": [
        {
          "output_type": "stream",
          "name": "stdout",
          "text": [
            "Diust agno, meg biaimaunter;\n",
            "knocking ook olyz;\n",
            "mearuca; tell mos h rg, coees beg'e.\n",
            "yoang had ye; pearheps, for weal wilm esttimolmves have help angyo,'\n"
          ]
        }
      ]
    },
    {
      "cell_type": "markdown",
      "source": [
        "Apparently our Shakespeare model works best at a temperature close to 1 \n",
        "\n",
        "To **generate more convincing text,** you could try using **more GRU layers** and more neurons per layer, **train for longer,** and add some **regularization** (for example, you could set recurrent_dropout=0.3 in the GRU layers)\n",
        "\n",
        "Moreover, the model is currently incapable of learning patterns longer than n_steps, which is just 100 characters. You could try **making this window larger, but it will also make training harder,** and even **LSTM and GRU cells cannot handle very long sequences.** Alternatively, you could use a stateful RNN"
      ],
      "metadata": {
        "id": "qNDs9wipQQz0"
      }
    },
    {
      "cell_type": "markdown",
      "source": [
        "## Stateful RNN"
      ],
      "metadata": {
        "id": "XVR1P_08Q04F"
      }
    },
    {
      "cell_type": "markdown",
      "source": [
        "Until now, we have used only **stateless RNNs: at each training iteration the model starts with a hidden state full of zeros, then it updates this state at each time step, and after the last time step, it throws it away,** as it is not needed anymore\n",
        "\n",
        "What if we **told the RNN to preserve this final state after processing one training batch** and **use it as the initial state for the next training batch?** This way the **model can learn long-term patterns despite only backpropagating through short sequences.** This is called a stateful RNN. Let’s see how to build one\n",
        "\n",
        "First, note that **a stateful RNN only makes sense if each input sequence in a batch starts exactly where the corresponding sequence in the previous batch left off**\n",
        "\n",
        "So the **first thing** we need to **do to build a stateful RNN** is to **use sequential and nonoverlapping input sequences (rather than the shuffled and overlapping sequences** we used to train stateless RNNs)\n",
        "\n",
        "When creating the Dataset, we must therefore use shift=n_steps (instead of shift=1) when calling the window() method. Moreover, we must obviously not call the shuffle() method\n",
        "\n",
        "Unfortunately, batching is much harder when preparing a dataset for a stateful RNN than it is for a stateless RNN. Indeed, **if we were to call batch(32),** then **32 consecutive windows would be put in the same batch, and the following batch would not contiune each of these window where it left off**\n",
        "\n",
        "The **first batch would contain windows 1 to 32** and the **second batch would contain windows 33 to 64,** so if you consider, say, the **first window of each batch** (i.e., windows 1 and 33), you can see that they are **not consecutive**\n",
        "\n",
        "**The simplest solution to this problem is to just use \"batches\" containing a single window:**"
      ],
      "metadata": {
        "id": "L2aUmaXOS6kE"
      }
    },
    {
      "cell_type": "code",
      "source": [
        "dataset = tf.data.Dataset.from_tensor_slices(encoded[:train_size])\n",
        "dataset = dataset.window(window_length, shift=n_steps, drop_remainder=True)\n",
        "dataset = dataset.flat_map(lambda window: window.batch(window_length))\n",
        "dataset = dataset.batch(1)\n",
        "dataset = dataset.map(lambda windows: (windows[:, :-1], windows[:, 1:]))\n",
        "dataset = dataset.map(\n",
        "    lambda X_batch, Y_batch: (tf.one_hot(X_batch, depth=max_id), Y_batch))\n",
        "dataset = dataset.prefetch(1)"
      ],
      "metadata": {
        "id": "a5GmsSv6f7SR"
      },
      "execution_count": 85,
      "outputs": []
    },
    {
      "cell_type": "markdown",
      "source": [
        "Figure 16-2 summarizes the first steps"
      ],
      "metadata": {
        "id": "duwtMPOwkQSy"
      }
    },
    {
      "cell_type": "markdown",
      "source": [
        "<p align='center'>\n",
        "<img src='data:image/png;base64,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'>\n",
        "</p>\n",
        "Figure 16-2. Preparing a dataset of consecutive sequence fragments for a stateful RNN"
      ],
      "metadata": {
        "id": "BYFOD2JukSUj"
      }
    },
    {
      "cell_type": "markdown",
      "source": [
        "Batching is harder, but it is not impossible. For example, we could **chop Shakespeare’s text into 32 texts of equal length,** create one dataset of consecutive input sequences for each of them, and finally use tf.train.Dataset.zip(datasets).map(lambda *windows: tf.stack(windows)) to create proper consecutive batches, where the **$n^{th}$ input sequence** in a batch **starts off exactly where the $n^{th}$ input sequence ended in the previous batch**"
      ],
      "metadata": {
        "id": "P932XMPalkX2"
      }
    },
    {
      "cell_type": "code",
      "source": [
        "batch_size = 32\n",
        "encoded_parts = np.array_split(encoded[:train_size], batch_size)\n",
        "datasets = []\n",
        "for encoded_part in encoded_parts:\n",
        "    dataset = tf.data.Dataset.from_tensor_slices(encoded_part)\n",
        "    dataset = dataset.window(window_length, shift=n_steps, drop_remainder=True)\n",
        "    dataset = dataset.flat_map(lambda window: window.batch(window_length))\n",
        "    datasets.append(dataset)\n",
        "dataset = tf.data.Dataset.zip(tuple(datasets)).map(lambda *windows: tf.stack(windows))\n",
        "dataset = dataset.map(lambda windows: (windows[:, :-1], windows[:, 1:]))\n",
        "dataset = dataset.map(\n",
        "    lambda X_batch, Y_batch: (tf.one_hot(X_batch, depth=max_id), Y_batch))\n",
        "dataset = dataset.prefetch(1)"
      ],
      "metadata": {
        "id": "F-MkT8NFkR6o"
      },
      "execution_count": 86,
      "outputs": []
    },
    {
      "cell_type": "markdown",
      "source": [
        "Now let’s create the stateful RNN. First, we need to set **statsful=True** when creating every recurrent layer. Second, the **stateful RNN needs to know the batch size** (since it will preserve a state for each input sequence in the batch), so we** must set the batch_input_shape argument in the first layer**\n",
        "\n",
        "Note that we can leave the second dimension unspecified, since the inputs could have any length:"
      ],
      "metadata": {
        "id": "4aFWOTvRPh4M"
      }
    },
    {
      "cell_type": "code",
      "source": [
        "model = keras.models.Sequential([\n",
        "    keras.layers.GRU(128, return_sequences=True, stateful=True,\n",
        "                     dropout=0.2,\n",
        "                     batch_input_shape=[batch_size, None, max_id]),\n",
        "    keras.layers.GRU(128, return_sequences=True, stateful=True,\n",
        "                     dropout=0.2),\n",
        "    keras.layers.TimeDistributed(keras.layers.Dense(max_id,\n",
        "                                                    activation='softmax'))\n",
        "])"
      ],
      "metadata": {
        "id": "M-M73s1CQ2Oo"
      },
      "execution_count": 87,
      "outputs": []
    },
    {
      "cell_type": "markdown",
      "source": [
        "At the **end of each epoch, we need to reset the states before we go back to the beginning of the text.** For this, we can use a small callback:"
      ],
      "metadata": {
        "id": "nt4BM0puQtPV"
      }
    },
    {
      "cell_type": "code",
      "source": [
        "class ResetStatesCallback(keras.callbacks.Callback):\n",
        "  def on_epoch_begin(self, epoch, logs):\n",
        "    self.model.reset_states()"
      ],
      "metadata": {
        "id": "olRjIP5dQswc"
      },
      "execution_count": 88,
      "outputs": []
    },
    {
      "cell_type": "markdown",
      "source": [
        "And now we can compile and fit the model (for more epochs, because each epoch is much shorter than earlier, and there is only one instance per batch):"
      ],
      "metadata": {
        "id": "9IKxiFMLQ81T"
      }
    },
    {
      "cell_type": "code",
      "source": [
        "model.compile(loss='sparse_categorical_crossentropy', optimizer='adam')\n",
        "#history = model.fit(dataset, epochs=50,\n",
        "#                    callbacks=[ResetStatesCallback()])"
      ],
      "metadata": {
        "id": "OtjHJQ_1Q_Ne"
      },
      "execution_count": 89,
      "outputs": []
    },
    {
      "cell_type": "code",
      "source": [
        "from urllib import request\n",
        "url = 'https://github.com/lucaslokchan/ml-journal/raw/master/Hands-On%20Machine%20Learning/Model/CH16_CHAR_RNN_STATEFUL.h5'\n",
        "request.urlretrieve(url, 'CH16_CHAR_RNN_STATEFUL.h5')"
      ],
      "metadata": {
        "colab": {
          "base_uri": "https://localhost:8080/"
        },
        "outputId": "28347828-2b06-4528-8640-2368e8abb88a",
        "id": "6pCdLS-JVREn"
      },
      "execution_count": 90,
      "outputs": [
        {
          "output_type": "execute_result",
          "data": {
            "text/plain": [
              "('CH16_CHAR_RNN_STATEFUL.h5', <http.client.HTTPMessage at 0x7f4ba3108290>)"
            ]
          },
          "metadata": {},
          "execution_count": 90
        }
      ]
    },
    {
      "cell_type": "code",
      "source": [
        "model = keras.models.load_model('CH16_CHAR_RNN_STATEFUL.h5')"
      ],
      "metadata": {
        "id": "UFPaJVe5VREz"
      },
      "execution_count": 91,
      "outputs": []
    },
    {
      "cell_type": "markdown",
      "source": [
        "Now that we have built a character-level model, it’s time to look at **word level models** and tackle a common natural language processing task: **sentiment analysis**"
      ],
      "metadata": {
        "id": "Xv1RucAdRAB9"
      }
    },
    {
      "cell_type": "markdown",
      "source": [
        "# Sentiment Analysis"
      ],
      "metadata": {
        "id": "A7xG5J1ZRtLP"
      }
    },
    {
      "cell_type": "markdown",
      "source": [
        "If MNIST is the “hello world” of computer vision, then the **IMDb reviews dataset is the “hello world” of natural language processing:** it consists of 50,000 movie reviews in English (25,000 for training, 25,000 for testing) extracted from the famous Internet Movie Database, along with a simple binary target for each review **indicating whether it is negative (0) or positive (1)**\n",
        "\n",
        "Keras provides a simple function to load it"
      ],
      "metadata": {
        "id": "vftnyb7DWC90"
      }
    },
    {
      "cell_type": "code",
      "source": [
        "(X_train, y_train), (X_test, y_test) = keras.datasets.imdb.load_data()"
      ],
      "metadata": {
        "id": "IJz8nIH1Qz7W"
      },
      "execution_count": 92,
      "outputs": []
    },
    {
      "cell_type": "code",
      "source": [
        "X_train[0][:10]"
      ],
      "metadata": {
        "colab": {
          "base_uri": "https://localhost:8080/"
        },
        "id": "43BBEK71UuEH",
        "outputId": "6b122822-7adb-44a0-cf4e-a950a790d804"
      },
      "execution_count": 93,
      "outputs": [
        {
          "output_type": "execute_result",
          "data": {
            "text/plain": [
              "[1, 14, 22, 16, 43, 530, 973, 1622, 1385, 65]"
            ]
          },
          "metadata": {},
          "execution_count": 93
        }
      ]
    },
    {
      "cell_type": "markdown",
      "source": [
        "The dataset is already preprocessed for you: X_train consists of a list of reviews, each of which is represented as a NumPy array of integers, where **each integer represents a word**\n",
        "\n",
        "**All punctuation was removed, and then words were converted to lowercase, split by spaces, and finally indexed by frequency** (so low integers correspond to frequent words)\n",
        "\n",
        "The integers **0, 1, and 2** are special: they represent the **padding token, the start-of-sequence (SSS) token, and unknown words,** respectively. If you want to visualize a review, you can decode it like this:"
      ],
      "metadata": {
        "id": "uNc0gD8mWrTh"
      }
    },
    {
      "cell_type": "code",
      "source": [
        "word_index = keras.datasets.imdb.get_word_index()"
      ],
      "metadata": {
        "id": "KPbdkEqdXRzK"
      },
      "execution_count": 94,
      "outputs": []
    },
    {
      "cell_type": "code",
      "source": [
        "id_to_word = {id_ + 3: word for word, id_ in word_index.items()}\n",
        "for id_, token in enumerate(('<pad>', '<sos>', '<unk>')):\n",
        "  id_to_word[id_] = token\n",
        "\" \".join([id_to_word[id_] for id_ in X_train[0][:10]])"
      ],
      "metadata": {
        "colab": {
          "base_uri": "https://localhost:8080/",
          "height": 35
        },
        "id": "VdkpoYiJXeqv",
        "outputId": "3e2f1b29-5bfa-4c80-cafb-1d2386a43985"
      },
      "execution_count": 95,
      "outputs": [
        {
          "output_type": "execute_result",
          "data": {
            "application/vnd.google.colaboratory.intrinsic+json": {
              "type": "string"
            },
            "text/plain": [
              "'<sos> this film was just brilliant casting location scenery story'"
            ]
          },
          "metadata": {},
          "execution_count": 95
        }
      ]
    },
    {
      "cell_type": "markdown",
      "source": [
        "In a real project, you will have to preprocess the text yourself. You can do that using the same Tokenizer class we used earlier, but this time setting char_level=False (which is the default)\n",
        "\n",
        "**When encoding words, it filters out a lot of characters, including most punctuation, line breaks, and tabs** (but you can change this by setting the filter argument)\n",
        "\n",
        "Most importantly, it uses **spaces to identify word boundaries.** This is OK for English and many other scripts (written languages) that use spaces between words, but not all scripts use spaces this way\n",
        "\n",
        "Chinese does not use spaces between words, Vietnamese uses spaces even within words, and languages such as German often attach multiple words together, without spaces. Even in English, spaces are not always the best way to tokenize text: think of “San Francisco” or “#ILoveDeepLearning.”\n",
        "\n",
        "Fortunately, there are better options! The [2018 paper](https://arxiv.org/abs/1804.10959) by Taku Kudo introduced an unsupervised learning technique to **tokenize and detokenize text at the subword level in a language-independent way,** treating spaces like other characters\n",
        "\n",
        "With this approach, **even if your model encounters a word it has never seen before, it can still reasonably guess what it means.** For example, it may never have seen the word “smartest” during training, but perhaps it learned the word “smart” and it also learned that the suffix “est” means “the most,” so it can infer the meaning of “smartest.”\n",
        "\n",
        "Google's [SentencePiece](https://github.com/google/sentencepiece) project provides an open source implementation, described in a [paper](https://arxiv.org/abs/1808.06226) by Taku Kudo and John Richardson\n",
        "\n",
        "Another option was proposed in an earlier [paper](https://arxiv.org/abs/1508.07909) by Rico Sennrich et al. that explored other ways of creating **subword encodings (e.g., using byte pair encoding).** Last but not least, the TensorFlow team released the [TF.Text](https://medium.com/tensorflow/introducing-tf-text-438c8552bd5e) library in June 2019, which implements various tokenization strategies, including [WordPiece](https://arxiv.org/abs/1609.08144) (a variant of byte pair encoding)\n",
        "\n",
        "If you want to deploy your model to a mobile device or a web browser, and you don’t want to have to write a different preprocessing function every time, then you will want to handle preprocessing using only TensorFlow operations, so it can be included in the model itself\n",
        "\n",
        "Let’s see how. First, let’s load the original IMDb reviews, as text (byte strings), using TensorFlow Datasets"
      ],
      "metadata": {
        "id": "1rzL_VacXRP7"
      }
    },
    {
      "cell_type": "code",
      "source": [
        "import tensorflow_datasets as tfds\n",
        "\n",
        "datasets, info = tfds.load('imdb_reviews', as_supervised=True, with_info=True)\n",
        "train_size = info.splits['train'].num_examples"
      ],
      "metadata": {
        "id": "16BLWoNyh67o"
      },
      "execution_count": 96,
      "outputs": []
    },
    {
      "cell_type": "code",
      "source": [
        "datasets.keys()"
      ],
      "metadata": {
        "colab": {
          "base_uri": "https://localhost:8080/"
        },
        "id": "sO3mPetopNwt",
        "outputId": "7af9e31f-6aef-491a-ebc6-19dfea35cbf8"
      },
      "execution_count": 97,
      "outputs": [
        {
          "output_type": "execute_result",
          "data": {
            "text/plain": [
              "dict_keys(['test', 'train', 'unsupervised'])"
            ]
          },
          "metadata": {},
          "execution_count": 97
        }
      ]
    },
    {
      "cell_type": "code",
      "source": [
        "for X_batch, y_batch in datasets['train'].batch(2).take(2):\n",
        "  for review, label in zip(X_batch.numpy(), y_batch.numpy()):\n",
        "    print('Review:', review.decode('utf-8')[:200], '...')\n",
        "    print('label:', label, '= Positive' if label else '= Negative')\n",
        "    print()"
      ],
      "metadata": {
        "colab": {
          "base_uri": "https://localhost:8080/"
        },
        "id": "ChhCfbBTpU04",
        "outputId": "703fc3d6-524c-4ba4-bb30-cd9d0a519899"
      },
      "execution_count": 98,
      "outputs": [
        {
          "output_type": "stream",
          "name": "stdout",
          "text": [
            "Review: This was an absolutely terrible movie. Don't be lured in by Christopher Walken or Michael Ironside. Both are great actors, but this must simply be their worst role in history. Even their great acting  ...\n",
            "label: 0 = Negative\n",
            "\n",
            "Review: I have been known to fall asleep during films, but this is usually due to a combination of things including, really tired, being warm and comfortable on the sette and having just eaten a lot. However  ...\n",
            "label: 0 = Negative\n",
            "\n",
            "Review: Mann photographs the Alberta Rocky Mountains in a superb fashion, and Jimmy Stewart and Walter Brennan give enjoyable performances as they always seem to do. <br /><br />But come on Hollywood - a Moun ...\n",
            "label: 0 = Negative\n",
            "\n",
            "Review: This is the kind of film for a snowy Sunday afternoon when the rest of the world can go ahead with its own business as you descend into a big arm-chair and mellow for a couple of hours. Wonderful perf ...\n",
            "label: 1 = Positive\n",
            "\n"
          ]
        }
      ]
    },
    {
      "cell_type": "markdown",
      "source": [
        "Next, let’s write the preprocessing function:"
      ],
      "metadata": {
        "id": "DcbjNQ0AiWwT"
      }
    },
    {
      "cell_type": "code",
      "source": [
        "def preprocess(X_batch, y_batch):\n",
        "  X_batch = tf.strings.substr(X_batch, 0, 300)\n",
        "  X_batch = tf.strings.regex_replace(X_batch, b'br\\\\s*/?', b' ')\n",
        "  X_batch = tf.strings.regex_replace(X_batch, b'^a-zA-Z', b' ')\n",
        "  X_batch = tf.strings.split(X_batch)\n",
        "  return X_batch.to_tensor(default_value=b'<pad>'), y_batch"
      ],
      "metadata": {
        "id": "sF9f6POIiYtG"
      },
      "execution_count": 99,
      "outputs": []
    },
    {
      "cell_type": "markdown",
      "source": [
        "It starts by **truncating** the reviews, **keeping only the first 300 characters** of each: this will speed up training, and it won’t impact performance too much because you can generally tell whether a review is positive or not in the first sentence or two\n",
        "\n",
        "Then it uses regular expressions to **replace `<br/>` tags with spaces,** and to **replace any characters other than letters and quotes with spaces**\n",
        "\n",
        "For example ```Well, I can't<br/>``` will become ```Well I can't```\n",
        "\n",
        "Finally, the preprocess() function **splits the reviews by the spaces,** which returns a ragged tensor, and it converts this ragged tensor to a dense tensor, padding all reviews with the **padding token '<pad>'** so that they all have the **same length**\n",
        "\n",
        "Next, we need to **construct the vocabulary.** This requires **going through the whole training set once,** applying our preprocess() function, and **using a Counter to count the number of occurrences of each word:**"
      ],
      "metadata": {
        "id": "C_o3jfnhqFTO"
      }
    },
    {
      "cell_type": "code",
      "source": [
        "from collections import Counter\n",
        "\n",
        "vocabulary = Counter()\n",
        "for X_batch, y_batch in datasets['train'].batch(32).map(preprocess):\n",
        "  for review in X_batch:\n",
        "    vocabulary.update(list(review.numpy()))"
      ],
      "metadata": {
        "id": "R_UZdPUNsKUK"
      },
      "execution_count": 100,
      "outputs": []
    },
    {
      "cell_type": "markdown",
      "source": [
        "Let’s look at the three most common words:"
      ],
      "metadata": {
        "id": "Y-XG9jLCs3VR"
      }
    },
    {
      "cell_type": "code",
      "source": [
        "vocabulary.most_common()[:5]"
      ],
      "metadata": {
        "colab": {
          "base_uri": "https://localhost:8080/"
        },
        "id": "hgvNKcyds6Rs",
        "outputId": "955c08d8-6be9-4a28-a8e2-f120dc231a59"
      },
      "execution_count": 101,
      "outputs": [
        {
          "output_type": "execute_result",
          "data": {
            "text/plain": [
              "[(b'<pad>', 224555),\n",
              " (b'the', 60433),\n",
              " (b'a', 38317),\n",
              " (b'of', 33744),\n",
              " (b'and', 32574)]"
            ]
          },
          "metadata": {},
          "execution_count": 101
        }
      ]
    },
    {
      "cell_type": "markdown",
      "source": [
        "Great! We probably don’t need our model to know all the words in the dictionary to get good performance, though, so let’s **truncate** the vocabulary, **keeping only the 10,000 most common words:**"
      ],
      "metadata": {
        "id": "7Ak_cwXwtrIL"
      }
    },
    {
      "cell_type": "code",
      "source": [
        "vocab_size = 10000\n",
        "truncated_vocabulary = [\n",
        "  word for word, count in vocabulary.most_common()[:vocab_size]]"
      ],
      "metadata": {
        "id": "9JsU1DUwtxCm"
      },
      "execution_count": 102,
      "outputs": []
    },
    {
      "cell_type": "markdown",
      "source": [
        "Now we need to add a preprocessing step to replace each word with its ID (i.e., its index in the vocabulary). Just like we did in Chapter 13, we will **create a lookup table** for this, **using 1,000 out-of-vocabulary (oov) buckets:**"
      ],
      "metadata": {
        "id": "YXKQLLISkPsu"
      }
    },
    {
      "cell_type": "code",
      "source": [
        "words = tf.constant(truncated_vocabulary)\n",
        "word_ids = tf.range(len(truncated_vocabulary), dtype=tf.int64)\n",
        "vocab_init = tf.lookup.KeyValueTensorInitializer(words, word_ids)\n",
        "num_oov_buckets = 1000\n",
        "table = tf.lookup.StaticVocabularyTable(vocab_init, num_oov_buckets)"
      ],
      "metadata": {
        "id": "wCKdLwTIk-ig"
      },
      "execution_count": 103,
      "outputs": []
    },
    {
      "cell_type": "markdown",
      "source": [
        "We can then use this table to look up the IDs of a few words:"
      ],
      "metadata": {
        "id": "iHi-zV_mlpyL"
      }
    },
    {
      "cell_type": "code",
      "source": [
        "table.lookup(tf.constant([b'This movie was faaaaaantastic'.split()]))"
      ],
      "metadata": {
        "colab": {
          "base_uri": "https://localhost:8080/"
        },
        "id": "B6PKMDzylYZ3",
        "outputId": "313791c9-95e1-4776-9fa5-95f810ac2aaa"
      },
      "execution_count": 104,
      "outputs": [
        {
          "output_type": "execute_result",
          "data": {
            "text/plain": [
              "<tf.Tensor: shape=(1, 4), dtype=int64, numpy=array([[   23,    13,    10, 10053]])>"
            ]
          },
          "metadata": {},
          "execution_count": 104
        }
      ]
    },
    {
      "cell_type": "markdown",
      "source": [
        "Note that the words **“this,” “movie,” and “was” were found in the table,** so their **IDs are lower than 10,000,** while the word **“faaaaaantastic” was not found,** so it was **mapped to one of the oov buckets,** with an **ID greater than or equal to 10,000**"
      ],
      "metadata": {
        "id": "EY8o2kqjl14C"
      }
    },
    {
      "cell_type": "code",
      "source": [
        "def encode_words(X_batch, y_batch):\n",
        "  return table.lookup(X_batch), y_batch\n",
        "\n",
        "train_set = datasets['train'].batch(32).map(preprocess)\n",
        "train_set = train_set.map(encode_words).prefetch(1)"
      ],
      "metadata": {
        "id": "Z5VQjT_VoaFk"
      },
      "execution_count": 105,
      "outputs": []
    },
    {
      "cell_type": "code",
      "source": [
        "for X_batch, y_batch in train_set.take(1):\n",
        "  print(X_batch)\n",
        "  print(y_batch)"
      ],
      "metadata": {
        "colab": {
          "base_uri": "https://localhost:8080/"
        },
        "id": "bhD03886o3zj",
        "outputId": "eb5fde44-27aa-47ee-a44e-41856412ac4b"
      },
      "execution_count": 106,
      "outputs": [
        {
          "output_type": "stream",
          "name": "stdout",
          "text": [
            "tf.Tensor(\n",
            "[[   23    10    29 ...     0     0     0]\n",
            " [    6    22    62 ...     0     0     0]\n",
            " [ 5240  8414     1 ...     0     0     0]\n",
            " ...\n",
            " [   23    13   110 ...    11   293  2516]\n",
            " [ 1882  5478  4436 ...     0     0     0]\n",
            " [10727  4084 10963 ...     0     0     0]], shape=(32, 60), dtype=int64)\n",
            "tf.Tensor([0 0 0 1 1 1 0 0 0 0 0 1 1 0 1 0 1 1 1 0 1 1 1 1 1 0 0 0 1 0 0 0], shape=(32,), dtype=int64)\n"
          ]
        }
      ]
    },
    {
      "cell_type": "markdown",
      "source": [
        "At last we can create the model and train it:"
      ],
      "metadata": {
        "id": "IjOghA6qoykX"
      }
    },
    {
      "cell_type": "code",
      "source": [
        "embed_size = 128\n",
        "model = keras.models.Sequential([\n",
        "    keras.layers.Embedding(vocab_size + num_oov_buckets, embed_size,\n",
        "                           mask_zero=True,\n",
        "                           input_shape=[None]),\n",
        "    keras.layers.GRU(128, return_sequences=True),\n",
        "    keras.layers.GRU(128),\n",
        "    keras.layers.Dense(1, activation='sigmoid')\n",
        "])\n",
        "model.compile(loss='binary_crossentropy', optimizer='adam', metrics=['accuracy'])\n",
        "history = model.fit(train_set, epochs=5)"
      ],
      "metadata": {
        "colab": {
          "base_uri": "https://localhost:8080/"
        },
        "id": "8DzvUzsAo1Hg",
        "outputId": "3162f65a-a2ed-4872-d6cd-5b2c2776d13b"
      },
      "execution_count": 107,
      "outputs": [
        {
          "output_type": "stream",
          "name": "stdout",
          "text": [
            "Epoch 1/5\n",
            "782/782 [==============================] - 46s 46ms/step - loss: 0.5748 - accuracy: 0.6859\n",
            "Epoch 2/5\n",
            "782/782 [==============================] - 37s 47ms/step - loss: 0.3672 - accuracy: 0.8446\n",
            "Epoch 3/5\n",
            "782/782 [==============================] - 37s 47ms/step - loss: 0.1903 - accuracy: 0.9321\n",
            "Epoch 4/5\n",
            "782/782 [==============================] - 37s 47ms/step - loss: 0.1298 - accuracy: 0.9529\n",
            "Epoch 5/5\n",
            "782/782 [==============================] - 36s 47ms/step - loss: 0.1045 - accuracy: 0.9615\n"
          ]
        }
      ]
    },
    {
      "cell_type": "markdown",
      "source": [
        "The first layer is an **Embedding layer,** which will convert word IDs into embeddings\n",
        "\n",
        "**The embedding matrix needs to have one row per word ID (vocab_size + num_oov_buckets) and one column per embedding dimension** (this example uses 128 dimensions, but this is a hyperparameter you could tune)\n",
        "\n",
        "Whereas the **inputs** of the model will be **2D tensors of shape [batch size, time steps],** the **output** of the Embedding layer will be a **3D tensor of shape [batch size, time steps, embedding size]**\n",
        "\n",
        "The rest of the model is fairly straightforward: it is composed of two GRU layers, with the second one returning only the output of the last time step. The output layer is just a **single neuron** using the **sigmoid activation function** to **output the estimated probability that the review expresses a positive sentiment** regarding the movie. We then compile the model quite simply, and we fit it on the dataset we prepared earlier, for a few epochs."
      ],
      "metadata": {
        "id": "chd_QZB-ptU3"
      }
    },
    {
      "cell_type": "markdown",
      "source": [
        "## Masking"
      ],
      "metadata": {
        "id": "Zjl6QxgguX3w"
      }
    },
    {
      "cell_type": "markdown",
      "source": [
        "The model will need to learn that the padding tokens should be ignored. simply add **mask_zero=True** when creating the Embedding layer, this means that padding tokens (whose ID is 0) will be ignored by all downstream layers\n",
        "\n",
        "The way this works is that the **Embedding layer creates a mask tensor** equal to K.not_equal(inputs, 0) (where K = keras.backend): it is a **Boolean tensor with the same shape as the inputs,** and it is equal to **False anywhere the word IDs are 0,** or **otherwise True**\n",
        "\n",
        "This mask tensor is then automatically propagated by the model to all subsequent layers, as long as the time dimension is preserved\n",
        "\n",
        "So in this example, both GRU layers will receive this mask automatically, but since the second GRU layer does not return sequences (it only returns the output of the last time step), the mask will not be transmitted to the Dense layer. Each layer may handle the mask differently, but in general they simply **ignore masked time steps (i.e., time steps for which the mask is False)**\n",
        "\n",
        "For example, **when a recurrent layer encounters a masked time step,** it simply **copies the output from the previous time step.** If the mask propagates all the way to the output (in models that output sequences), then it will be applied to the losses as well, so the masked time steps will not contribute to the loss (their loss will be 0)\n",
        "\n"
      ],
      "metadata": {
        "id": "fOxtsAAamfTK"
      }
    },
    {
      "cell_type": "markdown",
      "source": [
        "**All layers that receive the mask must support masking **(or else an exception will be raised). This includes **all recurrent layers,** as well as the **TimeDistributed layer** and a few other layers. **Any layer that supports masking must have a supports_masking attribute equal to True**\n",
        "\n",
        "If you want to **implement** your own **custom layer with masking support,** you should **add a mask argument to the call() method** (and obviously make the method use the mask somehow). Additionally, you should **set self.supports_masking = True in the constructor**\n",
        "\n",
        "If your layer **does not start with an Embedding layer,** you may **use the keras.layers.Masking** layer instead: it sets the mask to K.any(K.not_equal(inputs, 0), axis=-1), meaning that time steps where the last dimension is full of zeros will be masked out in subsequent layers (as long as the time dimension exists)\n",
        "\n",
        "Using **masking layers and automatic mask propagation** works best for simple Sequential models, It **will not always work for more complex models,** such as when you need to mix Conv1D layers with recurrent layers\n",
        "\n",
        "In such cases, you will need to explicitly compute the mask and pass it to the appropriate layers, using either the Functional API or the Subclassing API\n",
        "\n",
        "For example, the following model is **identical to the previous model,** except it is built using the Functional API and handles masking manually:"
      ],
      "metadata": {
        "id": "7vB8-twl_SY2"
      }
    },
    {
      "cell_type": "code",
      "source": [
        "K = keras.backend\n",
        "embed_size = 128\n",
        "inputs = keras.layers.Input(shape=[None])\n",
        "mask = keras.layers.Lambda(lambda inputs: K.not_equal(inputs, 0))(inputs)\n",
        "z = keras.layers.Embedding(vocab_size + num_oov_buckets, embed_size)(inputs)\n",
        "z = keras.layers.GRU(128, return_sequences=True)(z, mask=mask)\n",
        "z = keras.layers.GRU(128)(z, mask=mask)\n",
        "outputs = keras.layers.Dense(1, activation=\"sigmoid\")(z)\n",
        "model = keras.models.Model(inputs=[inputs], outputs=[outputs])\n",
        "model.compile(loss=\"binary_crossentropy\", optimizer=\"adam\", metrics=[\"accuracy\"])\n",
        "history = model.fit(train_set, epochs=5)"
      ],
      "metadata": {
        "id": "iPgSPhuT_SP6",
        "colab": {
          "base_uri": "https://localhost:8080/"
        },
        "outputId": "fd73977f-f4ee-43da-98a1-ee189eebf712"
      },
      "execution_count": null,
      "outputs": [
        {
          "output_type": "stream",
          "name": "stdout",
          "text": [
            "Epoch 1/5\n",
            "782/782 [==============================] - 46s 47ms/step - loss: 0.5818 - accuracy: 0.6784\n",
            "Epoch 2/5\n",
            "782/782 [==============================] - 37s 47ms/step - loss: 0.3838 - accuracy: 0.8342\n",
            "Epoch 3/5\n",
            "782/782 [==============================] - 37s 47ms/step - loss: 0.2088 - accuracy: 0.9229\n",
            "Epoch 4/5\n",
            "782/782 [==============================] - 36s 47ms/step - loss: 0.1528 - accuracy: 0.9438\n",
            "Epoch 5/5\n",
            "676/782 [========================>.....] - ETA: 4s - loss: 0.1223 - accuracy: 0.9546"
          ]
        }
      ]
    },
    {
      "cell_type": "markdown",
      "source": [
        "After training for a few epochs, this model will become quite good at judging whether a review is positive or not\n",
        "\n",
        "If you use the TensorBoard() callback, you can visualize the embeddings in TensorBoard as they are being learned: it is fascinating to see words like “awesome” and \"amazing\" gradually cluster on one side of the embedding space, while words like “awful” and “terrible” cluster on the other side\n",
        "\n",
        "Some words are not as positive as you might expect (at least with this model), such as the word “good,” presumably because many negative reviews contain the phrase “not good.”\n",
        "\n",
        "We can reuse word embeddings trained on some other large text corpus (e.g., Wikipedia articles)"
      ],
      "metadata": {
        "id": "hxEHyDcMCLhh"
      }
    },
    {
      "cell_type": "markdown",
      "source": [
        "## Reusing Pretrained Embeddings"
      ],
      "metadata": {
        "id": "Nr7nDZPkDWxT"
      }
    },
    {
      "cell_type": "markdown",
      "source": [
        "The [TensorFlow Hub](https://tfhub.dev/) project makes it easy to reuse pretrained model components in your own models. These model components are called modules\n",
        "\n",
        "Simply browse the TF Hub repository, find the one you need, and copy the code example into your project, and the module will be automatically downloaded, along with its pretrained weights, and included in your model\n",
        "\n",
        "For example, let’s use the **nnlm-en-dim50 sentence embedding module,**\n",
        "version 1, in our sentiment analysis model:"
      ],
      "metadata": {
        "id": "zIfqYb0gDY0d"
      }
    },
    {
      "cell_type": "code",
      "source": [
        "import os\n",
        "TFHUB_CACHE_DIR = os.path.join(os.curdir, \"my_tfhub_cache\")\n",
        "os.environ[\"TFHUB_CACHE_DIR\"] = TFHUB_CACHE_DIR"
      ],
      "metadata": {
        "id": "RismpgHUJ7f5"
      },
      "execution_count": null,
      "outputs": []
    },
    {
      "cell_type": "code",
      "source": [
        "import tensorflow_hub as hub\n",
        "\n",
        "model = keras.Sequential([\n",
        "    hub.KerasLayer('https://tfhub.dev/google/tf2-preview/nnlm-en-dim50/1',\n",
        "                   dtype=tf.string, input_shape=[], output_shape=[50]),\n",
        "    keras.layers.Dense(128, activation='relu'),\n",
        "    keras.layers.Dense(1, activation='sigmoid') \n",
        "])\n",
        "model.compile(loss='binary_crossentropy', optimizer='adam',\n",
        "              metrics=['accuracy'])"
      ],
      "metadata": {
        "id": "KVckilqjEHWC"
      },
      "execution_count": null,
      "outputs": []
    },
    {
      "cell_type": "code",
      "source": [
        "for dirpath, dirnames, filenames in os.walk(TFHUB_CACHE_DIR):\n",
        "    for filename in filenames:\n",
        "        print(os.path.join(dirpath, filename))"
      ],
      "metadata": {
        "id": "9VA50AVGJ9M2"
      },
      "execution_count": null,
      "outputs": []
    },
    {
      "cell_type": "markdown",
      "source": [
        "The **hub.KerasLayer layer downloads the module** from the given URL\n",
        "\n",
        "This particular module is a **sentence encoder:** it takes strings as input and **encodes** each one as a **single vector** (in this case, a 50-dimensional vector)\n",
        "\n",
        "Internally, it parses the string (splitting words on spaces) and embeds each word using an embedding matrix that was pretrained on a huge corpus: the Google News 7B corpus (**seven billion words** long!). Then it **computes the mean of all the word embeddings,** and the result is the **sentence embedding**\n",
        "\n",
        "We can then add two simple Dense layers to create a good sentiment analysis model. **By default, a hub.KerasLayer is not trainable,** but you can set **trainable=True** when creating it to change that so that you can fine-tune it for your task\n",
        "\n",
        "Next, we can just load the IMDb reviews dataset—no need to preprocess it (except for batching and prefetching)—and directly train the model:"
      ],
      "metadata": {
        "id": "NmWIU0s-FRZR"
      }
    },
    {
      "cell_type": "code",
      "source": [
        "datasets, info = tfds.load('imdb_reviews', as_supervised=True, with_info=True)\n",
        "train_size = info.splits['train'].num_examples\n",
        "batch_size = 32\n",
        "train_set = datasets['train'].batch(batch_size).prefetch(1)\n",
        "history = model.fit(train_set, epochs=5)"
      ],
      "metadata": {
        "id": "_5NzCAyPIy6F"
      },
      "execution_count": null,
      "outputs": []
    },
    {
      "cell_type": "markdown",
      "source": [
        "Note that the last part of the TF Hub module URL specified that we wanted version 1 of the model. This versioning ensures that if a new model version is released, it will not break our model. Conveniently, if you just enter this URL in a web browser, you will get the documentation for this module\n",
        "\n",
        "**By default, TF Hub will cache the downloaded files into the local system’s temporary directory.** You may prefer to download them into a more permanent directory to avoid having to download them again after every system cleanup\n",
        "\n",
        "To do that, set the TFHUB_CACHE_DIR environment variable to the directory of your choice (e.g., **os.environ[\"TFHUB_CACHE_DIR\"] = \"./my_tfhub_cache\")**\n",
        "\n",
        "So far, we have looked at time series, text generation using Char-RNN, and sentiment analysis using word-level RNN models, training our own word embeddings or reusing pretrained embeddings\n",
        "\n",
        "Let’s now look at another important NLP task: **neural machine translation (NMT),** first using a pure **Encoder–Decoder model,** then improving it with **attention mechanisms,** and finally looking the extraordinary **Transformer architecture**"
      ],
      "metadata": {
        "id": "AXKRtWTWJ_i6"
      }
    },
    {
      "cell_type": "markdown",
      "source": [
        "# An Encoder–Decoder Network for Neural Machine Translation"
      ],
      "metadata": {
        "id": "RJB_e9SLLGiC"
      }
    },
    {
      "cell_type": "markdown",
      "source": [
        "Let's take a look at a simple [neural machine translation model](https://arxiv.org/abs/1409.3215) that will translate English sentences to French (see Figure 16-3)\n",
        "\n",
        "In short, the **English sentences are fed to the encoder,** and the **decoder outputs the French translations.** Note that the **French translations are also used as inputs to the decoder, but shifted back by one step**\n",
        "\n",
        "In other words, the decoder is given as input the word that it should have output at the previous step (regardless of what it actually output)\n",
        "\n",
        "For the very **first word,** it is given the **start-of-sequence (SOS) token.** The **decoder** is expected to **end the sentence with an end-of-sequence (EOS) token**\n",
        "\n",
        "Note that the **English sentences are reversed before they are fed to the encoder.** For example, “I drink milk” is reversed to “milk drink I.” This ensures that the beginning of the English sentence will be fed last to the encoder, which is useful because that’s generally the first thing that the decoder needs to translate\n",
        "\n",
        "Each word is initially represented by its ID (e.g., 288 for the word “milk”) Next, an layer returns the word embedding. These word embedding embeddings are what is actually fed to the encoder and the decoder"
      ],
      "metadata": {
        "id": "QaZTUGFVFSJQ"
      }
    },
    {
      "cell_type": "markdown",
      "source": [
        "<p align='center'>\n",
        "<img src='data:image/png;base64,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'>\n",
        "</p>\n",
        "Figure 16-3. A simple machine translation model"
      ],
      "metadata": {
        "id": "sxWavH7oH_5U"
      }
    },
    {
      "cell_type": "markdown",
      "source": [
        "At each step, the **decoder outputs a score for each word in the output vocabulary** (i.e., French), and then the **softmax layer** turns these scores into **probabilities.** For example, at the first step the word “Je” may have a probability of 20%, “Tu” may have a probability of 1%, and so on. The word with the highest probability is output. **This is very much like a regular classification task,** so you can train the model using the \"sparse_categorical_crossentropy\" loss\n",
        "\n",
        "Note that **at inference time** (after training), you will not have the target sentence to feed to the decoder. Instead, **simply feed the decoder the word that it output at the previous step,** as shown in Figure 16-4 (this will require an embedding lookup that is not shown in the diagram)"
      ],
      "metadata": {
        "id": "uSfpR-XaIUqT"
      }
    },
    {
      "cell_type": "markdown",
      "source": [
        "<p align='center'>\n",
        "<img src='data:image/png;base64,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'>\n",
        "</p>\n",
        "Figure 16-4. Feeding the previous output word as input at inference time"
      ],
      "metadata": {
        "id": "AVKnv1KoMm-m"
      }
    },
    {
      "cell_type": "markdown",
      "source": [
        "There are a few more details to handle if you implement this model:\n",
        "\n"
      ],
      "metadata": {
        "id": "551imLtDM1bR"
      }
    }
  ]
}