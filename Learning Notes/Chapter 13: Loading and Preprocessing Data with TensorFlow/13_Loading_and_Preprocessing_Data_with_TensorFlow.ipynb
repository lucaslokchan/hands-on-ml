{
  "nbformat": 4,
  "nbformat_minor": 0,
  "metadata": {
    "colab": {
      "name": "13. Loading and Preprocessing Data with TensorFlow.ipnyb",
      "provenance": [],
      "collapsed_sections": [],
      "authorship_tag": "ABX9TyO7x//46ghMKqEaIMexnvsS"
    },
    "kernelspec": {
      "name": "python3",
      "display_name": "Python 3"
    },
    "language_info": {
      "name": "python"
    },
    "widgets": {
      "application/vnd.jupyter.widget-state+json": {
        "6ec303dd286e4400a03366a69d586f9b": {
          "model_module": "@jupyter-widgets/controls",
          "model_name": "HBoxModel",
          "model_module_version": "1.5.0",
          "state": {
            "_view_name": "HBoxView",
            "_dom_classes": [],
            "_model_name": "HBoxModel",
            "_view_module": "@jupyter-widgets/controls",
            "_model_module_version": "1.5.0",
            "_view_count": null,
            "_view_module_version": "1.5.0",
            "box_style": "",
            "layout": "IPY_MODEL_97b93ee83156495a8ed2c94e16992635",
            "_model_module": "@jupyter-widgets/controls",
            "children": [
              "IPY_MODEL_748cf0da459a4b8cb9896332785873a8",
              "IPY_MODEL_bd563092f3d6414c9634267570c084cc",
              "IPY_MODEL_ac55d46ff06446589665f2e9cadec0b5"
            ]
          }
        },
        "97b93ee83156495a8ed2c94e16992635": {
          "model_module": "@jupyter-widgets/base",
          "model_name": "LayoutModel",
          "model_module_version": "1.2.0",
          "state": {
            "_view_name": "LayoutView",
            "grid_template_rows": null,
            "right": null,
            "justify_content": null,
            "_view_module": "@jupyter-widgets/base",
            "overflow": null,
            "_model_module_version": "1.2.0",
            "_view_count": null,
            "flex_flow": null,
            "width": null,
            "min_width": null,
            "border": null,
            "align_items": null,
            "bottom": null,
            "_model_module": "@jupyter-widgets/base",
            "top": null,
            "grid_column": null,
            "overflow_y": null,
            "overflow_x": null,
            "grid_auto_flow": null,
            "grid_area": null,
            "grid_template_columns": null,
            "flex": null,
            "_model_name": "LayoutModel",
            "justify_items": null,
            "grid_row": null,
            "max_height": null,
            "align_content": null,
            "visibility": null,
            "align_self": null,
            "height": null,
            "min_height": null,
            "padding": null,
            "grid_auto_rows": null,
            "grid_gap": null,
            "max_width": null,
            "order": null,
            "_view_module_version": "1.2.0",
            "grid_template_areas": null,
            "object_position": null,
            "object_fit": null,
            "grid_auto_columns": null,
            "margin": null,
            "display": null,
            "left": null
          }
        },
        "748cf0da459a4b8cb9896332785873a8": {
          "model_module": "@jupyter-widgets/controls",
          "model_name": "HTMLModel",
          "model_module_version": "1.5.0",
          "state": {
            "_view_name": "HTMLView",
            "style": "IPY_MODEL_b526ced9829544888a8ddf8f55c262c0",
            "_dom_classes": [],
            "description": "",
            "_model_name": "HTMLModel",
            "placeholder": "​",
            "_view_module": "@jupyter-widgets/controls",
            "_model_module_version": "1.5.0",
            "value": "Dl Completed...: 100%",
            "_view_count": null,
            "_view_module_version": "1.5.0",
            "description_tooltip": null,
            "_model_module": "@jupyter-widgets/controls",
            "layout": "IPY_MODEL_860e12c803194e2e97b72ff54d1e59ff"
          }
        },
        "bd563092f3d6414c9634267570c084cc": {
          "model_module": "@jupyter-widgets/controls",
          "model_name": "FloatProgressModel",
          "model_module_version": "1.5.0",
          "state": {
            "_view_name": "ProgressView",
            "style": "IPY_MODEL_d61e8bf40dc245ce9a9665c73307bafc",
            "_dom_classes": [],
            "description": "",
            "_model_name": "FloatProgressModel",
            "bar_style": "success",
            "max": 4,
            "_view_module": "@jupyter-widgets/controls",
            "_model_module_version": "1.5.0",
            "value": 4,
            "_view_count": null,
            "_view_module_version": "1.5.0",
            "orientation": "horizontal",
            "min": 0,
            "description_tooltip": null,
            "_model_module": "@jupyter-widgets/controls",
            "layout": "IPY_MODEL_0c3e62448edc405a9f1ae1a18d0e3f2a"
          }
        },
        "ac55d46ff06446589665f2e9cadec0b5": {
          "model_module": "@jupyter-widgets/controls",
          "model_name": "HTMLModel",
          "model_module_version": "1.5.0",
          "state": {
            "_view_name": "HTMLView",
            "style": "IPY_MODEL_adad560308064b25b381e91cefcbf24b",
            "_dom_classes": [],
            "description": "",
            "_model_name": "HTMLModel",
            "placeholder": "​",
            "_view_module": "@jupyter-widgets/controls",
            "_model_module_version": "1.5.0",
            "value": " 4/4 [00:01&lt;00:00,  2.97 file/s]",
            "_view_count": null,
            "_view_module_version": "1.5.0",
            "description_tooltip": null,
            "_model_module": "@jupyter-widgets/controls",
            "layout": "IPY_MODEL_b7a7c61056bc4dd08c56b27029c1710c"
          }
        },
        "b526ced9829544888a8ddf8f55c262c0": {
          "model_module": "@jupyter-widgets/controls",
          "model_name": "DescriptionStyleModel",
          "model_module_version": "1.5.0",
          "state": {
            "_view_name": "StyleView",
            "_model_name": "DescriptionStyleModel",
            "description_width": "",
            "_view_module": "@jupyter-widgets/base",
            "_model_module_version": "1.5.0",
            "_view_count": null,
            "_view_module_version": "1.2.0",
            "_model_module": "@jupyter-widgets/controls"
          }
        },
        "860e12c803194e2e97b72ff54d1e59ff": {
          "model_module": "@jupyter-widgets/base",
          "model_name": "LayoutModel",
          "model_module_version": "1.2.0",
          "state": {
            "_view_name": "LayoutView",
            "grid_template_rows": null,
            "right": null,
            "justify_content": null,
            "_view_module": "@jupyter-widgets/base",
            "overflow": null,
            "_model_module_version": "1.2.0",
            "_view_count": null,
            "flex_flow": null,
            "width": null,
            "min_width": null,
            "border": null,
            "align_items": null,
            "bottom": null,
            "_model_module": "@jupyter-widgets/base",
            "top": null,
            "grid_column": null,
            "overflow_y": null,
            "overflow_x": null,
            "grid_auto_flow": null,
            "grid_area": null,
            "grid_template_columns": null,
            "flex": null,
            "_model_name": "LayoutModel",
            "justify_items": null,
            "grid_row": null,
            "max_height": null,
            "align_content": null,
            "visibility": null,
            "align_self": null,
            "height": null,
            "min_height": null,
            "padding": null,
            "grid_auto_rows": null,
            "grid_gap": null,
            "max_width": null,
            "order": null,
            "_view_module_version": "1.2.0",
            "grid_template_areas": null,
            "object_position": null,
            "object_fit": null,
            "grid_auto_columns": null,
            "margin": null,
            "display": null,
            "left": null
          }
        },
        "d61e8bf40dc245ce9a9665c73307bafc": {
          "model_module": "@jupyter-widgets/controls",
          "model_name": "ProgressStyleModel",
          "model_module_version": "1.5.0",
          "state": {
            "_view_name": "StyleView",
            "_model_name": "ProgressStyleModel",
            "description_width": "",
            "_view_module": "@jupyter-widgets/base",
            "_model_module_version": "1.5.0",
            "_view_count": null,
            "_view_module_version": "1.2.0",
            "bar_color": null,
            "_model_module": "@jupyter-widgets/controls"
          }
        },
        "0c3e62448edc405a9f1ae1a18d0e3f2a": {
          "model_module": "@jupyter-widgets/base",
          "model_name": "LayoutModel",
          "model_module_version": "1.2.0",
          "state": {
            "_view_name": "LayoutView",
            "grid_template_rows": null,
            "right": null,
            "justify_content": null,
            "_view_module": "@jupyter-widgets/base",
            "overflow": null,
            "_model_module_version": "1.2.0",
            "_view_count": null,
            "flex_flow": null,
            "width": null,
            "min_width": null,
            "border": null,
            "align_items": null,
            "bottom": null,
            "_model_module": "@jupyter-widgets/base",
            "top": null,
            "grid_column": null,
            "overflow_y": null,
            "overflow_x": null,
            "grid_auto_flow": null,
            "grid_area": null,
            "grid_template_columns": null,
            "flex": null,
            "_model_name": "LayoutModel",
            "justify_items": null,
            "grid_row": null,
            "max_height": null,
            "align_content": null,
            "visibility": null,
            "align_self": null,
            "height": null,
            "min_height": null,
            "padding": null,
            "grid_auto_rows": null,
            "grid_gap": null,
            "max_width": null,
            "order": null,
            "_view_module_version": "1.2.0",
            "grid_template_areas": null,
            "object_position": null,
            "object_fit": null,
            "grid_auto_columns": null,
            "margin": null,
            "display": null,
            "left": null
          }
        },
        "adad560308064b25b381e91cefcbf24b": {
          "model_module": "@jupyter-widgets/controls",
          "model_name": "DescriptionStyleModel",
          "model_module_version": "1.5.0",
          "state": {
            "_view_name": "StyleView",
            "_model_name": "DescriptionStyleModel",
            "description_width": "",
            "_view_module": "@jupyter-widgets/base",
            "_model_module_version": "1.5.0",
            "_view_count": null,
            "_view_module_version": "1.2.0",
            "_model_module": "@jupyter-widgets/controls"
          }
        },
        "b7a7c61056bc4dd08c56b27029c1710c": {
          "model_module": "@jupyter-widgets/base",
          "model_name": "LayoutModel",
          "model_module_version": "1.2.0",
          "state": {
            "_view_name": "LayoutView",
            "grid_template_rows": null,
            "right": null,
            "justify_content": null,
            "_view_module": "@jupyter-widgets/base",
            "overflow": null,
            "_model_module_version": "1.2.0",
            "_view_count": null,
            "flex_flow": null,
            "width": null,
            "min_width": null,
            "border": null,
            "align_items": null,
            "bottom": null,
            "_model_module": "@jupyter-widgets/base",
            "top": null,
            "grid_column": null,
            "overflow_y": null,
            "overflow_x": null,
            "grid_auto_flow": null,
            "grid_area": null,
            "grid_template_columns": null,
            "flex": null,
            "_model_name": "LayoutModel",
            "justify_items": null,
            "grid_row": null,
            "max_height": null,
            "align_content": null,
            "visibility": null,
            "align_self": null,
            "height": null,
            "min_height": null,
            "padding": null,
            "grid_auto_rows": null,
            "grid_gap": null,
            "max_width": null,
            "order": null,
            "_view_module_version": "1.2.0",
            "grid_template_areas": null,
            "object_position": null,
            "object_fit": null,
            "grid_auto_columns": null,
            "margin": null,
            "display": null,
            "left": null
          }
        }
      }
    }
  },
  "cells": [
    {
      "cell_type": "markdown",
      "metadata": {
        "id": "eDYfQjNSPaoN"
      },
      "source": [
        "In this chapter, we will cover the Data API, the TFRecord format, and how to create custom preprocessing layers and use the standard Keras ones. We will also take a quick look at a few related projects from TensorFlow’ ecosystem\n",
        "\n",
        "TF Transform (tf.Transform)\n",
        "\n",
        "* Makes it possible to write a single preprocessing function that can be run in batch mode on your full training set, before training (to speed it up), and then exported to a TF Function and incorporated into your trained model so that once it is deployed in production it can take care of preprocessing new instances on the fly \n",
        "\n",
        "TF Datasets (TFDS)\n",
        "\n",
        "* Provides a convenient function to download many common datasets of all kinds, including large ones like ImageNet, as well as convenient dataset objects to manipulate them using the Data API"
      ]
    },
    {
      "cell_type": "markdown",
      "metadata": {
        "id": "Y-zvM4vKPosI"
      },
      "source": [
        "# The Data API"
      ]
    },
    {
      "cell_type": "markdown",
      "metadata": {
        "id": "nnsGr4muPqWP"
      },
      "source": [
        "The whole Data API revolves around the concept of a dataset: as you might suspect, this represents a sequence of data items\n",
        "\n",
        "Usually you will use datasets that gradually read data from disk, but for simplicity **let’s create a dataset entirely in RAM using tf.data.Dataset.from_tensor_slices():**"
      ]
    },
    {
      "cell_type": "code",
      "metadata": {
        "colab": {
          "base_uri": "https://localhost:8080/"
        },
        "id": "0S5riK7yJi2Y",
        "outputId": "795d0c73-9883-4d6b-e105-ef16960c8111"
      },
      "source": [
        "import tensorflow as tf\n",
        "from tensorflow import keras\n",
        "\n",
        "X = tf.range(10) # any data tensor\n",
        "dataset = tf.data.Dataset.from_tensor_slices(X)\n",
        "dataset"
      ],
      "execution_count": 1,
      "outputs": [
        {
          "output_type": "execute_result",
          "data": {
            "text/plain": [
              "<TensorSliceDataset shapes: (), types: tf.int32>"
            ]
          },
          "metadata": {},
          "execution_count": 1
        }
      ]
    },
    {
      "cell_type": "markdown",
      "metadata": {
        "id": "Xe_OP1NSQst0"
      },
      "source": [
        "The from_tensor_slices() function takes a tensor and creates a tf.data.Dataset whose elements are all the slices of X (along the first dimension), so this dataset contains 10 items: tensors 0, 1, 2, ..., 9. In this case we would have obtained the same dataset if we had used tf.data.Dataset.range(10)\n",
        "\n",
        "You can simply iterate over a dataset's items like this:"
      ]
    },
    {
      "cell_type": "code",
      "metadata": {
        "colab": {
          "base_uri": "https://localhost:8080/"
        },
        "id": "VAhjwQfjRMXg",
        "outputId": "46a0120b-d83c-42f7-cfd8-023f15314ff9"
      },
      "source": [
        "for item in dataset:\n",
        "  print(item)"
      ],
      "execution_count": 2,
      "outputs": [
        {
          "output_type": "stream",
          "name": "stdout",
          "text": [
            "tf.Tensor(0, shape=(), dtype=int32)\n",
            "tf.Tensor(1, shape=(), dtype=int32)\n",
            "tf.Tensor(2, shape=(), dtype=int32)\n",
            "tf.Tensor(3, shape=(), dtype=int32)\n",
            "tf.Tensor(4, shape=(), dtype=int32)\n",
            "tf.Tensor(5, shape=(), dtype=int32)\n",
            "tf.Tensor(6, shape=(), dtype=int32)\n",
            "tf.Tensor(7, shape=(), dtype=int32)\n",
            "tf.Tensor(8, shape=(), dtype=int32)\n",
            "tf.Tensor(9, shape=(), dtype=int32)\n"
          ]
        }
      ]
    },
    {
      "cell_type": "markdown",
      "metadata": {
        "id": "dk8jIozhRW1L"
      },
      "source": [
        "## Chaining Transformations"
      ]
    },
    {
      "cell_type": "markdown",
      "metadata": {
        "id": "vj0W2vifRZRK"
      },
      "source": [
        "Once you have a dataset, you can apply all sorts of transformations to it by calling its transformation methods. Each method returns a new dataset, so you can chain transformations like this (this chain is illustrated in Figure 13-1):"
      ]
    },
    {
      "cell_type": "code",
      "metadata": {
        "colab": {
          "base_uri": "https://localhost:8080/"
        },
        "id": "CzJSxx61RdrK",
        "outputId": "61c198f9-ce45-4950-f64e-ce4671670827"
      },
      "source": [
        "dataset = dataset.repeat(3).batch(7)\n",
        "for item in dataset:\n",
        "  print(item)"
      ],
      "execution_count": 3,
      "outputs": [
        {
          "output_type": "stream",
          "name": "stdout",
          "text": [
            "tf.Tensor([0 1 2 3 4 5 6], shape=(7,), dtype=int32)\n",
            "tf.Tensor([7 8 9 0 1 2 3], shape=(7,), dtype=int32)\n",
            "tf.Tensor([4 5 6 7 8 9 0], shape=(7,), dtype=int32)\n",
            "tf.Tensor([1 2 3 4 5 6 7], shape=(7,), dtype=int32)\n",
            "tf.Tensor([8 9], shape=(2,), dtype=int32)\n"
          ]
        }
      ]
    },
    {
      "cell_type": "markdown",
      "metadata": {
        "id": "3pvFEBNDRqvb"
      },
      "source": [
        "<p align='center'>\n",
        "<img src='data:image/png;base64,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'>\n",
        "</p>\n",
        "Figure 13-1. Chaining dataset transformations"
      ]
    },
    {
      "cell_type": "markdown",
      "metadata": {
        "id": "akB28XiuSlll"
      },
      "source": [
        "In this example, we first call the repeat() method on the original dataset, and it returns a new dataset that will repeat the items of the original dataset three times\n",
        "\n",
        "Of course, this will not copy all the data in memory three times! (If you call this method with no arguments, the new dataset will repeat the source dataset forever, so the code that iterates over the dataset will have to decide when to stop)\n",
        "\n",
        "Then we call the batch() method on this new dataset, and again this creates a new dataset. **This one will group the items of the previous dataset in batches of seven items**\n",
        "\n",
        "Finally, we iterate over the items of this final dataset. As you can see, the batch() method had to output a final batch of size two instead of seven, but you can call it with drop_remainder=True if you want it to drop this final batch so that all batches have the exact same size\n",
        "\n",
        "The dataset methods do not modify datasets, they create new ones, so make sure to keep a reference to these new datasets"
      ]
    },
    {
      "cell_type": "markdown",
      "metadata": {
        "id": "bvUz1aDsTreo"
      },
      "source": [
        "You can also transform the items by calling the map() method. For example, this creates a new dataset with all items doubled:"
      ]
    },
    {
      "cell_type": "code",
      "metadata": {
        "colab": {
          "base_uri": "https://localhost:8080/"
        },
        "id": "RCb-1pEZTwH6",
        "outputId": "6e45c755-5b42-4a14-e4dc-362ff7a6ada1"
      },
      "source": [
        "dataset = dataset.map(lambda x: x * 2)\n",
        "\n",
        "for item in dataset:\n",
        "    print(item)"
      ],
      "execution_count": 4,
      "outputs": [
        {
          "output_type": "stream",
          "name": "stdout",
          "text": [
            "tf.Tensor([ 0  2  4  6  8 10 12], shape=(7,), dtype=int32)\n",
            "tf.Tensor([14 16 18  0  2  4  6], shape=(7,), dtype=int32)\n",
            "tf.Tensor([ 8 10 12 14 16 18  0], shape=(7,), dtype=int32)\n",
            "tf.Tensor([ 2  4  6  8 10 12 14], shape=(7,), dtype=int32)\n",
            "tf.Tensor([16 18], shape=(2,), dtype=int32)\n"
          ]
        }
      ]
    },
    {
      "cell_type": "markdown",
      "metadata": {
        "id": "M3qpj2isZSf5"
      },
      "source": [
        "**This function is the one you will call to apply any preprocessing you want to your data**. Sometimes this will include computations that can be quite intensive, such as reshaping or rotating an image, so you will usually want to spawn multiple threads to speed things up: it’s as simple as setting the num_parallel_calls argument\n",
        "\n",
        "Note that the function you pass to the method must be convertible to a TF Function map()\n",
        "\n",
        "While the map() method applies a transformation to each item, the apply() method applies a transformation to the dataset as a whole\n",
        "\n",
        "For example, the following code applies the unbatch() function to the dataset. Each item in the new dataset will be a single integer tensor instead of a batch of seven integers:"
      ]
    },
    {
      "cell_type": "code",
      "metadata": {
        "id": "U7sL99LPT5vh"
      },
      "source": [
        "#dataset = dataset.apply(tf.data.experimental.unbatch()) # Now deprecated\n",
        "dataset = dataset.unbatch()"
      ],
      "execution_count": 5,
      "outputs": []
    },
    {
      "cell_type": "markdown",
      "metadata": {
        "id": "g1caN3gRarE8"
      },
      "source": [
        "It is also possible to simply **filter the dataset using the filter() method:**"
      ]
    },
    {
      "cell_type": "code",
      "metadata": {
        "id": "rJdcBu0Wauem"
      },
      "source": [
        "dataset = dataset.filter(lambda x: x < 10)"
      ],
      "execution_count": 6,
      "outputs": []
    },
    {
      "cell_type": "markdown",
      "metadata": {
        "id": "n3nj_HEia96A"
      },
      "source": [
        "**You will often want to look at just a few items from a dataset. You can use the take() method for that:**"
      ]
    },
    {
      "cell_type": "code",
      "metadata": {
        "colab": {
          "base_uri": "https://localhost:8080/"
        },
        "id": "H56JU_Dfa2A7",
        "outputId": "6125e523-a0c4-47bc-b474-2e8370424066"
      },
      "source": [
        "for item in dataset.take(3):\n",
        "  print(item)"
      ],
      "execution_count": 7,
      "outputs": [
        {
          "output_type": "stream",
          "name": "stdout",
          "text": [
            "tf.Tensor(0, shape=(), dtype=int32)\n",
            "tf.Tensor(2, shape=(), dtype=int32)\n",
            "tf.Tensor(4, shape=(), dtype=int32)\n"
          ]
        }
      ]
    },
    {
      "cell_type": "markdown",
      "metadata": {
        "id": "8DN3_njDbADF"
      },
      "source": [
        "## Shuffling the Data"
      ]
    },
    {
      "cell_type": "markdown",
      "metadata": {
        "id": "6Ib0Foqmb9_U"
      },
      "source": [
        "Gradient Descent works best when the instances in the training set are independent and identically distributed. A simple way to ensure this is to shuffle the instances, using the shuffle() method\n",
        "\n",
        "**It will create a new dataset that will start by filling up a buffer with the first items of the source dataset. Then, whenever it is asked for an item, it will pull one out randomly from the buffer and replace it with a fresh one from the source dataset, until it has iterated entirely through the source dataset**\n",
        "\n",
        "You must specify the buffer size, and it is important to make it large enough, or else shuffling will not be very effective. Just don’t exceed the amount of RAM you have, and even if you have plenty of it, there’s no need to go beyond the dataset’s size\n",
        "\n",
        "ou can provide a random seed if you want the same random order every time you run your program. For example, the following code creates and displays a dataset containing the integers 0 to 9, repeated 3 times, shuffled using a buffer of size 5 and a random seed of 42, and batched with a batch size of 7:"
      ]
    },
    {
      "cell_type": "code",
      "metadata": {
        "colab": {
          "base_uri": "https://localhost:8080/"
        },
        "id": "Zv_-HbbecYAV",
        "outputId": "0c136290-0fc7-4410-8b56-0fb02a504d0b"
      },
      "source": [
        "tf.random.set_seed(42)\n",
        "\n",
        "dataset = tf.data.Dataset.range(10).repeat(3)\n",
        "dataset = dataset.shuffle(buffer_size=3, seed=42).batch(7)\n",
        "for item in dataset:\n",
        "  print(item)"
      ],
      "execution_count": 8,
      "outputs": [
        {
          "output_type": "stream",
          "name": "stdout",
          "text": [
            "tf.Tensor([1 3 0 4 2 5 6], shape=(7,), dtype=int64)\n",
            "tf.Tensor([8 7 1 0 3 2 5], shape=(7,), dtype=int64)\n",
            "tf.Tensor([4 6 9 8 9 7 0], shape=(7,), dtype=int64)\n",
            "tf.Tensor([3 1 4 5 2 8 7], shape=(7,), dtype=int64)\n",
            "tf.Tensor([6 9], shape=(2,), dtype=int64)\n"
          ]
        }
      ]
    },
    {
      "cell_type": "markdown",
      "metadata": {
        "id": "LAkRLXAIc_Ps"
      },
      "source": [
        "If you call repeat() on a shuffled dataset, by default it will generate a new order at every iteration. This is generally a good idea, but if you prefer to reuse the same order at each iteration (e.g., for tests or debugging), you can set reshuffle_each_iteration=False"
      ]
    },
    {
      "cell_type": "markdown",
      "metadata": {
        "id": "Epgv_nY0dPqt"
      },
      "source": [
        "For a large dataset that does not fit in memory, this simple shuffling buffer approach may not be sufficient, since the buffer will be small compared to the dataset\n",
        "\n",
        "One solution is to shuffle the source data itself. Even if the source data is shuffled, you will usually want to shuffle it some more, or else the same order will be repeated at each epoch, and the model may end up being biased (e.g., due to some spurious patterns present by chance in the source data’s order)\n",
        "\n",
        "**To shuffle the instances some more, a common approach is to split the source data into multiple files, then read them in a random order during training**\n",
        "\n",
        "To avoid this you can pick multiple files randomly and read them simultaneously, interleaving their records. Then on top of that you can add a shuffling buffer using the shuffle() method"
      ]
    },
    {
      "cell_type": "markdown",
      "metadata": {
        "id": "glNyW1cSdyET"
      },
      "source": [
        "### Interleaving lines from multiple files"
      ]
    },
    {
      "cell_type": "markdown",
      "metadata": {
        "id": "dfYGjOE5d3Bs"
      },
      "source": [
        "First, let’s suppose that you’ve loaded the California housing dataset, shuffled it, and split it into a training set, a validation set, and a test set\n",
        "\n"
      ]
    },
    {
      "cell_type": "code",
      "metadata": {
        "id": "9tIyUeojeb1X"
      },
      "source": [
        "from sklearn.datasets import fetch_california_housing\n",
        "from sklearn.model_selection import train_test_split\n",
        "from sklearn.preprocessing import StandardScaler\n",
        "\n",
        "housing = fetch_california_housing()\n",
        "X_train_full, X_test, y_train_full, y_test = train_test_split(\n",
        "    housing.data, housing.target.reshape(-1, 1), random_state=42)\n",
        "X_train, X_valid, y_train, y_valid = train_test_split(\n",
        "    X_train_full, y_train_full, random_state=42)\n",
        "\n",
        "scaler = StandardScaler()\n",
        "scaler.fit(X_train)\n",
        "X_mean = scaler.mean_\n",
        "X_std = scaler.scale_"
      ],
      "execution_count": 9,
      "outputs": []
    },
    {
      "cell_type": "markdown",
      "metadata": {
        "id": "TnBjcLrNezXM"
      },
      "source": [
        "Then you split each set into many CSV files that each look like this (each row contains eight input features plus the target median house value):\n",
        "\n",
        "For a very large dataset that does not fit in memory, you will typically want to split it into many files first, then have TensorFlow read these files in parallel. To demonstrate this, let's start by splitting the housing dataset and save it to 20 CSV files:"
      ]
    },
    {
      "cell_type": "code",
      "metadata": {
        "id": "JtIc0sEoew0L"
      },
      "source": [
        "import numpy as np\n",
        "import os\n",
        "\n",
        "def save_to_multiple_csv_files(data, name_prefix, header=None, n_parts=10):\n",
        "    housing_dir = os.path.join(\"datasets\", \"housing\")\n",
        "    os.makedirs(housing_dir, exist_ok=True)\n",
        "    path_format = os.path.join(housing_dir, \"my_{}_{:02d}.csv\")\n",
        "\n",
        "    filepaths = []\n",
        "    m = len(data)\n",
        "    for file_idx, row_indices in enumerate(np.array_split(np.arange(m), n_parts)):\n",
        "        part_csv = path_format.format(name_prefix, file_idx)\n",
        "        filepaths.append(part_csv)\n",
        "        with open(part_csv, \"wt\", encoding=\"utf-8\") as f:\n",
        "            if header is not None:\n",
        "                f.write(header)\n",
        "                f.write(\"\\n\")\n",
        "            for row_idx in row_indices:\n",
        "                f.write(\",\".join([repr(col) for col in data[row_idx]]))\n",
        "                f.write(\"\\n\")\n",
        "    return filepaths"
      ],
      "execution_count": 10,
      "outputs": []
    },
    {
      "cell_type": "code",
      "metadata": {
        "id": "gcEz1ruMfpto"
      },
      "source": [
        "train_data = np.c_[X_train, y_train]\n",
        "valid_data = np.c_[X_valid, y_valid]\n",
        "test_data = np.c_[X_test, y_test]\n",
        "header_cols = housing.feature_names + [\"MedianHouseValue\"]\n",
        "header = \",\".join(header_cols)\n",
        "\n",
        "train_filepaths = save_to_multiple_csv_files(train_data, \"train\", header, n_parts=20)\n",
        "valid_filepaths = save_to_multiple_csv_files(valid_data, \"valid\", header, n_parts=10)\n",
        "test_filepaths = save_to_multiple_csv_files(test_data, \"test\", header, n_parts=10)"
      ],
      "execution_count": 11,
      "outputs": []
    },
    {
      "cell_type": "code",
      "metadata": {
        "colab": {
          "base_uri": "https://localhost:8080/",
          "height": 204
        },
        "id": "FJqMpvgwf2vU",
        "outputId": "3d017a70-3e3f-4fee-eff3-a3164989ea52"
      },
      "source": [
        "import pandas as pd\n",
        "\n",
        "pd.read_csv(train_filepaths[0]).head()"
      ],
      "execution_count": 12,
      "outputs": [
        {
          "output_type": "execute_result",
          "data": {
            "text/html": [
              "<div>\n",
              "<style scoped>\n",
              "    .dataframe tbody tr th:only-of-type {\n",
              "        vertical-align: middle;\n",
              "    }\n",
              "\n",
              "    .dataframe tbody tr th {\n",
              "        vertical-align: top;\n",
              "    }\n",
              "\n",
              "    .dataframe thead th {\n",
              "        text-align: right;\n",
              "    }\n",
              "</style>\n",
              "<table border=\"1\" class=\"dataframe\">\n",
              "  <thead>\n",
              "    <tr style=\"text-align: right;\">\n",
              "      <th></th>\n",
              "      <th>MedInc</th>\n",
              "      <th>HouseAge</th>\n",
              "      <th>AveRooms</th>\n",
              "      <th>AveBedrms</th>\n",
              "      <th>Population</th>\n",
              "      <th>AveOccup</th>\n",
              "      <th>Latitude</th>\n",
              "      <th>Longitude</th>\n",
              "      <th>MedianHouseValue</th>\n",
              "    </tr>\n",
              "  </thead>\n",
              "  <tbody>\n",
              "    <tr>\n",
              "      <th>0</th>\n",
              "      <td>3.5214</td>\n",
              "      <td>15.0</td>\n",
              "      <td>3.049945</td>\n",
              "      <td>1.106548</td>\n",
              "      <td>1447.0</td>\n",
              "      <td>1.605993</td>\n",
              "      <td>37.63</td>\n",
              "      <td>-122.43</td>\n",
              "      <td>1.442</td>\n",
              "    </tr>\n",
              "    <tr>\n",
              "      <th>1</th>\n",
              "      <td>5.3275</td>\n",
              "      <td>5.0</td>\n",
              "      <td>6.490060</td>\n",
              "      <td>0.991054</td>\n",
              "      <td>3464.0</td>\n",
              "      <td>3.443340</td>\n",
              "      <td>33.69</td>\n",
              "      <td>-117.39</td>\n",
              "      <td>1.687</td>\n",
              "    </tr>\n",
              "    <tr>\n",
              "      <th>2</th>\n",
              "      <td>3.1000</td>\n",
              "      <td>29.0</td>\n",
              "      <td>7.542373</td>\n",
              "      <td>1.591525</td>\n",
              "      <td>1328.0</td>\n",
              "      <td>2.250847</td>\n",
              "      <td>38.44</td>\n",
              "      <td>-122.98</td>\n",
              "      <td>1.621</td>\n",
              "    </tr>\n",
              "    <tr>\n",
              "      <th>3</th>\n",
              "      <td>7.1736</td>\n",
              "      <td>12.0</td>\n",
              "      <td>6.289003</td>\n",
              "      <td>0.997442</td>\n",
              "      <td>1054.0</td>\n",
              "      <td>2.695652</td>\n",
              "      <td>33.55</td>\n",
              "      <td>-117.70</td>\n",
              "      <td>2.621</td>\n",
              "    </tr>\n",
              "    <tr>\n",
              "      <th>4</th>\n",
              "      <td>2.0549</td>\n",
              "      <td>13.0</td>\n",
              "      <td>5.312457</td>\n",
              "      <td>1.085092</td>\n",
              "      <td>3297.0</td>\n",
              "      <td>2.244384</td>\n",
              "      <td>33.93</td>\n",
              "      <td>-116.93</td>\n",
              "      <td>0.956</td>\n",
              "    </tr>\n",
              "  </tbody>\n",
              "</table>\n",
              "</div>"
            ],
            "text/plain": [
              "   MedInc  HouseAge  AveRooms  ...  Latitude  Longitude  MedianHouseValue\n",
              "0  3.5214      15.0  3.049945  ...     37.63    -122.43             1.442\n",
              "1  5.3275       5.0  6.490060  ...     33.69    -117.39             1.687\n",
              "2  3.1000      29.0  7.542373  ...     38.44    -122.98             1.621\n",
              "3  7.1736      12.0  6.289003  ...     33.55    -117.70             2.621\n",
              "4  2.0549      13.0  5.312457  ...     33.93    -116.93             0.956\n",
              "\n",
              "[5 rows x 9 columns]"
            ]
          },
          "metadata": {},
          "execution_count": 12
        }
      ]
    },
    {
      "cell_type": "markdown",
      "metadata": {
        "id": "F_VFPV9fgMKt"
      },
      "source": [
        "Let’s also suppose train_filepaths contains the list of training file paths (and you also have valid_filepaths and test_filepaths):"
      ]
    },
    {
      "cell_type": "code",
      "metadata": {
        "colab": {
          "base_uri": "https://localhost:8080/"
        },
        "id": "7bY-E1OzgXSh",
        "outputId": "0c6bb82e-4af3-4d40-b315-f42af251b53b"
      },
      "source": [
        "train_filepaths"
      ],
      "execution_count": 13,
      "outputs": [
        {
          "output_type": "execute_result",
          "data": {
            "text/plain": [
              "['datasets/housing/my_train_00.csv',\n",
              " 'datasets/housing/my_train_01.csv',\n",
              " 'datasets/housing/my_train_02.csv',\n",
              " 'datasets/housing/my_train_03.csv',\n",
              " 'datasets/housing/my_train_04.csv',\n",
              " 'datasets/housing/my_train_05.csv',\n",
              " 'datasets/housing/my_train_06.csv',\n",
              " 'datasets/housing/my_train_07.csv',\n",
              " 'datasets/housing/my_train_08.csv',\n",
              " 'datasets/housing/my_train_09.csv',\n",
              " 'datasets/housing/my_train_10.csv',\n",
              " 'datasets/housing/my_train_11.csv',\n",
              " 'datasets/housing/my_train_12.csv',\n",
              " 'datasets/housing/my_train_13.csv',\n",
              " 'datasets/housing/my_train_14.csv',\n",
              " 'datasets/housing/my_train_15.csv',\n",
              " 'datasets/housing/my_train_16.csv',\n",
              " 'datasets/housing/my_train_17.csv',\n",
              " 'datasets/housing/my_train_18.csv',\n",
              " 'datasets/housing/my_train_19.csv']"
            ]
          },
          "metadata": {},
          "execution_count": 13
        }
      ]
    },
    {
      "cell_type": "markdown",
      "metadata": {
        "id": "HuOPsAY_gsKZ"
      },
      "source": [
        "Alternatively, you could use file patterns; for example, train_filepaths = \"datasets/housing/my_train_*/csv\". Now let's create a dataset containing only these file paths:"
      ]
    },
    {
      "cell_type": "code",
      "metadata": {
        "id": "Iswgz7njg3uT"
      },
      "source": [
        "filepath_dataset = tf.data.Dataset.list_files(train_filepaths, seed=42)"
      ],
      "execution_count": 14,
      "outputs": []
    },
    {
      "cell_type": "code",
      "metadata": {
        "colab": {
          "base_uri": "https://localhost:8080/"
        },
        "id": "izJwKM7dhD72",
        "outputId": "6d1b3cc0-3778-41f3-b7c7-0365d4a11b48"
      },
      "source": [
        "for filepath in filepath_dataset:\n",
        "  print(filepath)"
      ],
      "execution_count": 15,
      "outputs": [
        {
          "output_type": "stream",
          "name": "stdout",
          "text": [
            "tf.Tensor(b'datasets/housing/my_train_15.csv', shape=(), dtype=string)\n",
            "tf.Tensor(b'datasets/housing/my_train_08.csv', shape=(), dtype=string)\n",
            "tf.Tensor(b'datasets/housing/my_train_03.csv', shape=(), dtype=string)\n",
            "tf.Tensor(b'datasets/housing/my_train_01.csv', shape=(), dtype=string)\n",
            "tf.Tensor(b'datasets/housing/my_train_10.csv', shape=(), dtype=string)\n",
            "tf.Tensor(b'datasets/housing/my_train_05.csv', shape=(), dtype=string)\n",
            "tf.Tensor(b'datasets/housing/my_train_19.csv', shape=(), dtype=string)\n",
            "tf.Tensor(b'datasets/housing/my_train_16.csv', shape=(), dtype=string)\n",
            "tf.Tensor(b'datasets/housing/my_train_02.csv', shape=(), dtype=string)\n",
            "tf.Tensor(b'datasets/housing/my_train_09.csv', shape=(), dtype=string)\n",
            "tf.Tensor(b'datasets/housing/my_train_00.csv', shape=(), dtype=string)\n",
            "tf.Tensor(b'datasets/housing/my_train_07.csv', shape=(), dtype=string)\n",
            "tf.Tensor(b'datasets/housing/my_train_12.csv', shape=(), dtype=string)\n",
            "tf.Tensor(b'datasets/housing/my_train_04.csv', shape=(), dtype=string)\n",
            "tf.Tensor(b'datasets/housing/my_train_17.csv', shape=(), dtype=string)\n",
            "tf.Tensor(b'datasets/housing/my_train_11.csv', shape=(), dtype=string)\n",
            "tf.Tensor(b'datasets/housing/my_train_14.csv', shape=(), dtype=string)\n",
            "tf.Tensor(b'datasets/housing/my_train_18.csv', shape=(), dtype=string)\n",
            "tf.Tensor(b'datasets/housing/my_train_06.csv', shape=(), dtype=string)\n",
            "tf.Tensor(b'datasets/housing/my_train_13.csv', shape=(), dtype=string)\n"
          ]
        }
      ]
    },
    {
      "cell_type": "markdown",
      "metadata": {
        "id": "ahQQKW9bhGpA"
      },
      "source": [
        "By default, the list_file() function returns a dataset that shuffles the file paths. In general tis is a good thing, but you can set shuffle=False if you do not want it for some reason\n",
        "\n",
        "Next, you can call the interleave() method to read from five files at a time and interleave their lines (skipping the first line of each file, which is the header row, using the skip() method):"
      ]
    },
    {
      "cell_type": "code",
      "metadata": {
        "id": "C6ugYJbCmdnZ"
      },
      "source": [
        "n_readers = 5\n",
        "dataset = filepath_dataset.interleave(\n",
        "    lambda filepath: tf.data.TextLineDataset(filepath).skip(1),\n",
        "    cycle_length=n_readers)"
      ],
      "execution_count": 16,
      "outputs": []
    },
    {
      "cell_type": "markdown",
      "metadata": {
        "id": "k6o9wDoimvIG"
      },
      "source": [
        "The interleave() method will create a dataset that will pull five file paths from the filepath_dataset, and for each one it will call the function you gave it (a lambda in this example) to create a new dataset (in this case a TextLineDataset)\n",
        "\n",
        "To be clear, at this stage there will be seven datasets in all: the filepath dataset, the interleave dataset, and the five TextLineDatasets created internally by the interleave dataset\n",
        "\n",
        "When we iterate over the interleave dataset, it will cycle through these five TextLineDatasets, reading one line at a time from each until all datasets are out of items. Then it will get the next five file paths from the filepath_dataset and interleave them the same way, and so on until it runs out of file paths\n",
        "\n",
        "For interleaving to work best, it is preferable to have files of identical length; otherwise the ends of the longest files will not be interleaved"
      ]
    },
    {
      "cell_type": "markdown",
      "metadata": {
        "id": "vXlKVrN1neIl"
      },
      "source": [
        "By default, interleave() does not use parallelis; it just reads one line at a time from each file, sequentially. If you want it to actually read files in parallel, you can set the num_parallel_calls argument to the number of threads you want (note that the map() method also has this argument)\n",
        "\n",
        "You can even set it to tf.data.experimental.AUTOTUNE to make TensorFlow choose the right number of threads dynamically based on the available CPU\n",
        "\n",
        "Let’s look at what the dataset contains now:"
      ]
    },
    {
      "cell_type": "code",
      "metadata": {
        "colab": {
          "base_uri": "https://localhost:8080/"
        },
        "id": "_8UTBFmbzsKd",
        "outputId": "2cae6dfd-aa21-4ede-d817-33d85b476617"
      },
      "source": [
        "for line in dataset.take(5):\n",
        "  print(line.numpy())"
      ],
      "execution_count": 17,
      "outputs": [
        {
          "output_type": "stream",
          "name": "stdout",
          "text": [
            "b'4.6477,38.0,5.03728813559322,0.911864406779661,745.0,2.5254237288135593,32.64,-117.07,1.504'\n",
            "b'8.72,44.0,6.163179916317992,1.0460251046025104,668.0,2.794979079497908,34.2,-118.18,4.159'\n",
            "b'3.8456,35.0,5.461346633416459,0.9576059850374065,1154.0,2.8778054862842892,37.96,-122.05,1.598'\n",
            "b'3.3456,37.0,4.514084507042254,0.9084507042253521,458.0,3.2253521126760565,36.67,-121.7,2.526'\n",
            "b'3.6875,44.0,4.524475524475524,0.993006993006993,457.0,3.195804195804196,34.04,-118.15,1.625'\n"
          ]
        }
      ]
    },
    {
      "cell_type": "markdown",
      "metadata": {
        "id": "vbegL1IKz3JW"
      },
      "source": [
        "These are the first rows (ignoring the header row) of five CSV files, chosen randomly. Looks good! But as you can see, these are just byte strings; we need to parse them and scale the data"
      ]
    },
    {
      "cell_type": "markdown",
      "metadata": {
        "id": "rdbTOkvS0rZa"
      },
      "source": [
        "Notice that field 4 is interpreted as a string"
      ]
    },
    {
      "cell_type": "code",
      "metadata": {
        "colab": {
          "base_uri": "https://localhost:8080/"
        },
        "id": "YcSrV3l_0t2f",
        "outputId": "14a6b903-6407-438a-b51f-350213b5b651"
      },
      "source": [
        "record_defaults=[0, np.nan, tf.constant(np.nan, dtype=tf.float64), \"Hello\", tf.constant([])]\n",
        "parsed_fields = tf.io.decode_csv('1,2,3,4,5', record_defaults)\n",
        "parsed_fields"
      ],
      "execution_count": 18,
      "outputs": [
        {
          "output_type": "execute_result",
          "data": {
            "text/plain": [
              "[<tf.Tensor: shape=(), dtype=int32, numpy=1>,\n",
              " <tf.Tensor: shape=(), dtype=float32, numpy=2.0>,\n",
              " <tf.Tensor: shape=(), dtype=float64, numpy=3.0>,\n",
              " <tf.Tensor: shape=(), dtype=string, numpy=b'4'>,\n",
              " <tf.Tensor: shape=(), dtype=float32, numpy=5.0>]"
            ]
          },
          "metadata": {},
          "execution_count": 18
        }
      ]
    },
    {
      "cell_type": "markdown",
      "metadata": {
        "id": "T8LBZZ8009Q-"
      },
      "source": [
        "Notice that all missing fields are replaced with their default value, when provided:"
      ]
    },
    {
      "cell_type": "code",
      "metadata": {
        "colab": {
          "base_uri": "https://localhost:8080/"
        },
        "id": "psaPG4l508AL",
        "outputId": "068e4bdb-08fd-4149-f2a1-264432251b60"
      },
      "source": [
        "parsed_fields = tf.io.decode_csv(',,,,5', record_defaults)\n",
        "parsed_fields"
      ],
      "execution_count": 19,
      "outputs": [
        {
          "output_type": "execute_result",
          "data": {
            "text/plain": [
              "[<tf.Tensor: shape=(), dtype=int32, numpy=0>,\n",
              " <tf.Tensor: shape=(), dtype=float32, numpy=nan>,\n",
              " <tf.Tensor: shape=(), dtype=float64, numpy=nan>,\n",
              " <tf.Tensor: shape=(), dtype=string, numpy=b'Hello'>,\n",
              " <tf.Tensor: shape=(), dtype=float32, numpy=5.0>]"
            ]
          },
          "metadata": {},
          "execution_count": 19
        }
      ]
    },
    {
      "cell_type": "markdown",
      "metadata": {
        "id": "h5P3DzXs1Arp"
      },
      "source": [
        "The 5th field is compulsory (since we provided tf.constant([]) as the \"default value\"), so we get an exception if we do not provide it:"
      ]
    },
    {
      "cell_type": "code",
      "metadata": {
        "colab": {
          "base_uri": "https://localhost:8080/"
        },
        "id": "-aO14p7a1CNe",
        "outputId": "bdfcbec6-c90f-4209-d561-0deebaf64e16"
      },
      "source": [
        "try:\n",
        "    parsed_fields = tf.io.decode_csv(',,,,', record_defaults)\n",
        "except tf.errors.InvalidArgumentError as ex:\n",
        "    print(ex)"
      ],
      "execution_count": 20,
      "outputs": [
        {
          "output_type": "stream",
          "name": "stdout",
          "text": [
            "Field 4 is required but missing in record 0! [Op:DecodeCSV]\n"
          ]
        }
      ]
    },
    {
      "cell_type": "markdown",
      "metadata": {
        "id": "IdCTMSB71Gzx"
      },
      "source": [
        "The number of fields should match exactly the number of fields in the record_defaults:"
      ]
    },
    {
      "cell_type": "code",
      "metadata": {
        "colab": {
          "base_uri": "https://localhost:8080/"
        },
        "id": "hogU-_b71Iin",
        "outputId": "adb13472-3884-4060-daf2-1516079f6973"
      },
      "source": [
        "try:\n",
        "    parsed_fields = tf.io.decode_csv('1,2,3,4,5,6,7', record_defaults)\n",
        "except tf.errors.InvalidArgumentError as ex:\n",
        "    print(ex)"
      ],
      "execution_count": 21,
      "outputs": [
        {
          "output_type": "stream",
          "name": "stdout",
          "text": [
            "Expect 5 fields but have 7 in record 0 [Op:DecodeCSV]\n"
          ]
        }
      ]
    },
    {
      "cell_type": "markdown",
      "metadata": {
        "id": "IATKDWY-z7C_"
      },
      "source": [
        "## Preprocessing the Data"
      ]
    },
    {
      "cell_type": "markdown",
      "metadata": {
        "id": "b2rDs-6Lz-n3"
      },
      "source": [
        "Let’s implement a small function that will perform this preprocessing:"
      ]
    },
    {
      "cell_type": "code",
      "metadata": {
        "id": "Gkab4lVZz_Mc"
      },
      "source": [
        "n_inputs = 8\n",
        "\n",
        "@tf.function\n",
        "def preprocess(line):\n",
        "  defs = [0.] * n_inputs + [tf.constant([], dtype=tf.float32)]\n",
        "  fields = tf.io.decode_csv(line, record_defaults=defs)\n",
        "  x = tf.stack(fields[:-1])\n",
        "  y = tf.stack(fields[-1:])\n",
        "  return (x - X_mean) / X_std, y"
      ],
      "execution_count": 22,
      "outputs": []
    },
    {
      "cell_type": "markdown",
      "metadata": {
        "id": "CE25akMo1pCk"
      },
      "source": [
        "* First, the code assumes that we have precomputed the mean and standard deviation of each feature in the training set. X_mean and X_std are just 1D tensors (or NumPy arrays) containing eight floats, one per input feature\n",
        "\n",
        "* The preprocess() function takes one CSV line and starts by parsing it. For this it uses the tf.io.decode_csv() function, which takes **two arguments: the first is the line to parse, and the second is an array containing the default value for each column in the CSV file**. This array tells TensorFlow not only the default value for each column, but also the number of columns and their types. In this example, we tell it that all feature columns are floats and that missing values should default to 0, but we provide an empty array of type tf.float32 as the default value for the last column (the target): the array tells TensorFlow that this column contains floats, but that there is no default value, so it will raise an exception if it encounters a missing value\n",
        "\n",
        "* The decode_csv() function returns a list of scalar tensors (one per column), but we need to return 1D tensor arrays. So we call tf.stack() on all tensors except for the last one (the target): this will stack these tensors into a 1D array. We then do the same for the target value (this makes it a 1D tensor array with a single value, rather than a scalar tensor)\n",
        "\n",
        "* Finally, we scale the input features by subtracting the feature means and then dividing by the feature standard deviations, and we return a tuple containing the scaled features and the target"
      ]
    },
    {
      "cell_type": "markdown",
      "metadata": {
        "id": "XYQmQU_X3m_w"
      },
      "source": [
        "Let’s test this preprocessing function:"
      ]
    },
    {
      "cell_type": "code",
      "metadata": {
        "colab": {
          "base_uri": "https://localhost:8080/"
        },
        "id": "sOzDIU0q3oxh",
        "outputId": "1ebe2b8b-eb81-460a-8223-d6d7bc6c4baa"
      },
      "source": [
        "preprocess(b'4.2083,44.0,5.3232,0.9171,846.0,2.3370,37.47,-122.2,2.782')"
      ],
      "execution_count": 23,
      "outputs": [
        {
          "output_type": "execute_result",
          "data": {
            "text/plain": [
              "(<tf.Tensor: shape=(8,), dtype=float32, numpy=\n",
              " array([ 0.16579157,  1.216324  , -0.05204565, -0.39215982, -0.5277444 ,\n",
              "        -0.2633488 ,  0.8543046 , -1.3072058 ], dtype=float32)>,\n",
              " <tf.Tensor: shape=(1,), dtype=float32, numpy=array([2.782], dtype=float32)>)"
            ]
          },
          "metadata": {},
          "execution_count": 23
        }
      ]
    },
    {
      "cell_type": "markdown",
      "metadata": {
        "id": "JGcJLKiR30g4"
      },
      "source": [
        "## Putting Everything Together"
      ]
    },
    {
      "cell_type": "markdown",
      "metadata": {
        "id": "3U9OKeK-35G3"
      },
      "source": [
        "To make the code reusable, let’s put together everything we have discussed so far into a small helper function: it will create and return a dataset that will efficiently load California housing data from multiple CSV files, preprocess it, shuffle it, optionally repeat it, and batch it (see Figure 13-2):"
      ]
    },
    {
      "cell_type": "code",
      "metadata": {
        "id": "s0TUlCOj4oa_"
      },
      "source": [
        "def csv_reader_dataset(filepaths, repeat=1, n_readers=5,\n",
        "                       n_read_threads=None, shuffle_buffer_size=10000,\n",
        "                       n_parse_threads=5, batch_size=32):\n",
        "    dataset = tf.data.Dataset.list_files(filepaths).repeat(repeat)\n",
        "    dataset = dataset.interleave(\n",
        "        lambda filepath: tf.data.TextLineDataset(filepath).skip(1),\n",
        "        cycle_length=n_readers, num_parallel_calls=n_read_threads)\n",
        "    dataset = dataset.shuffle(shuffle_buffer_size)\n",
        "    dataset = dataset.map(preprocess, num_parallel_calls=n_parse_threads)\n",
        "    dataset = dataset.batch(batch_size)\n",
        "    return dataset.prefetch(1)"
      ],
      "execution_count": 24,
      "outputs": []
    },
    {
      "cell_type": "markdown",
      "metadata": {
        "id": "oiL02XGA4t9w"
      },
      "source": [
        "Everything should make sense in this code, except the very last line prefetch(1), which is important for performance"
      ]
    },
    {
      "cell_type": "markdown",
      "metadata": {
        "id": "gGx-AErV41F9"
      },
      "source": [
        "<p align='center'>\n",
        "<img src='data:image/png;base64,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'>\n",
        "</p>\n",
        "Figure 13-2. Loading and preprocessing data from multiple CSV files"
      ]
    },
    {
      "cell_type": "markdown",
      "metadata": {
        "id": "rPaCTzxz5Mk9"
      },
      "source": [
        "## Prefetching"
      ]
    },
    {
      "cell_type": "markdown",
      "metadata": {
        "id": "hplkSaZq5STK"
      },
      "source": [
        "**By calling prefetch(1) at the end, we are creating a dataset that will do its best to always be one batch ahead**. In other words, while our training algorithm is working on one batch, the dataset will already be working in parallel on getting the next batch ready (e.g., reading the data from disk and preprocessing it)\n",
        "\n",
        "This can improve performance dramatically, as is illustrated in Figure 13-3. If we also ensure that loading and preprocessing are multithreaded (by setting num_parallel_calls when calling interleave() and map()), **we can exploit multiple cores on the CPU and hopefully make preparing one batch of data shorter than running a training step on the GPU**: this way the GPU will be almost 100% utilized (except for the data transfer time from the CPU to the GPU ), and training will run much faster"
      ]
    },
    {
      "cell_type": "markdown",
      "metadata": {
        "id": "uf8dMetP6Io6"
      },
      "source": [
        "<p align='center'>\n",
        "<img src='data:image/png;base64,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'>\n",
        "</p>\n",
        "Figure 13-3. With prefetching, the CPU and the GPU work in parallel: as the GPU works on one batch, the CPU works on the next"
      ]
    },
    {
      "cell_type": "markdown",
      "metadata": {
        "id": "tYamjkDh6VCl"
      },
      "source": [
        "**If the dataset is small enough to fit in memory, you can significantly speed up training by using the dataset’s cache() method to cache its content to RAM**. You should generally do this after loading and preprocessing the data, but before shuffling, repeating, batching, and prefetching\n",
        "\n",
        "This way, each instance will only be read and preprocessed once (instead of once per epoch), but the data will still be shuffled differently at each epoch, and the next batch will still be prepared in advance\n",
        "\n",
        "You now know how to build efficient input pipelines to load and preprocess data from multiple text files. We have discussed the most common dataset methods, but there are a few more you may want to look at: concatenate(), zip(), window(), reduce(), shard(), flat_map() and padded_batch()\n",
        "\n",
        "There are also a couple more class methods: from_generator() and from_tensors(), which create a new dataset from a Python generator or a list of tensors, respectively\n",
        "\n",
        "Also note that there are experimental features available in tf.data.experimental, many of which will likely make it to the core API in future releases (e.g check out the CSvDataset class, as well as the make_csv_dataset() method, which takes care of inferring the type of each column)\n",
        "\n"
      ]
    },
    {
      "cell_type": "markdown",
      "metadata": {
        "id": "AJKxLrv972AG"
      },
      "source": [
        "## Using the Dataset with tf.keras"
      ]
    },
    {
      "cell_type": "markdown",
      "metadata": {
        "id": "hqlRMsQ_76v2"
      },
      "source": [
        "Now we can use the csv_reader_dataset() function to create a dataset for the training set. Note that we do not need to repeat it, as this will be taken care of by tf.keras. We also create datasets for the validation set and the test set:"
      ]
    },
    {
      "cell_type": "code",
      "metadata": {
        "colab": {
          "base_uri": "https://localhost:8080/"
        },
        "id": "Uj4CFPRb8YMH",
        "outputId": "d35d1b75-d99c-48f1-f16e-f4e090e4ea3f"
      },
      "source": [
        "tf.random.set_seed(42)\n",
        "\n",
        "train_set = csv_reader_dataset(train_filepaths, batch_size=3)\n",
        "for X_batch, y_batch in train_set.take(2):\n",
        "    print(\"X =\", X_batch)\n",
        "    print(\"y =\", y_batch)\n",
        "    print()"
      ],
      "execution_count": 25,
      "outputs": [
        {
          "output_type": "stream",
          "name": "stdout",
          "text": [
            "X = tf.Tensor(\n",
            "[[ 0.5804519  -0.20762321  0.05616303 -0.15191229  0.01343246  0.00604472\n",
            "   1.2525111  -1.3671792 ]\n",
            " [ 5.818099    1.8491895   1.1784915   0.28173092 -1.2496178  -0.3571987\n",
            "   0.7231292  -1.0023477 ]\n",
            " [-0.9253566   0.5834586  -0.7807257  -0.28213993 -0.36530012  0.27389365\n",
            "  -0.76194876  0.72684526]], shape=(3, 8), dtype=float32)\n",
            "y = tf.Tensor(\n",
            "[[1.752]\n",
            " [1.313]\n",
            " [1.535]], shape=(3, 1), dtype=float32)\n",
            "\n",
            "X = tf.Tensor(\n",
            "[[-0.8324941   0.6625668  -0.20741376 -0.18699841 -0.14536144  0.09635526\n",
            "   0.9807942  -0.67250353]\n",
            " [-0.62183803  0.5834586  -0.19862501 -0.3500319  -1.1437552  -0.3363751\n",
            "   1.107282   -0.8674123 ]\n",
            " [ 0.8683102   0.02970133  0.3427381  -0.29872298  0.7124906   0.28026953\n",
            "  -0.72915536  0.86178064]], shape=(3, 8), dtype=float32)\n",
            "y = tf.Tensor(\n",
            "[[0.919]\n",
            " [1.028]\n",
            " [2.182]], shape=(3, 1), dtype=float32)\n",
            "\n"
          ]
        }
      ]
    },
    {
      "cell_type": "code",
      "metadata": {
        "id": "NMPZqSfK8JnL"
      },
      "source": [
        "train_set = csv_reader_dataset(train_filepaths, repeat=None)\n",
        "valid_set = csv_reader_dataset(valid_filepaths)\n",
        "test_set = csv_reader_dataset(test_filepaths)"
      ],
      "execution_count": 26,
      "outputs": []
    },
    {
      "cell_type": "markdown",
      "metadata": {
        "id": "2rcOLMSI8fAA"
      },
      "source": [
        "And now we can simply build and train a Keras model using these datasets. All we need to do is pass the training and validation datasets to the fit() method, instead of X_train, y_train, X_valid, and y_valid"
      ]
    },
    {
      "cell_type": "code",
      "metadata": {
        "colab": {
          "base_uri": "https://localhost:8080/"
        },
        "id": "uXOssN9_8nOz",
        "outputId": "bbe34f59-9373-4bed-b472-542b4dbc55da"
      },
      "source": [
        "keras.backend.clear_session()\n",
        "np.random.seed(42)\n",
        "tf.random.set_seed(42)\n",
        "\n",
        "model = keras.models.Sequential([\n",
        "    keras.layers.Dense(30, activation=\"relu\", input_shape=X_train.shape[1:]),\n",
        "    keras.layers.Dense(1),\n",
        "])\n",
        "\n",
        "model.compile(loss=\"mse\", optimizer=keras.optimizers.SGD(learning_rate=1e-3))\n",
        "\n",
        "batch_size = 32\n",
        "model.fit(train_set, steps_per_epoch=len(X_train) // batch_size, epochs=10,\n",
        "          validation_data=valid_set)\n"
      ],
      "execution_count": 27,
      "outputs": [
        {
          "output_type": "stream",
          "name": "stdout",
          "text": [
            "Epoch 1/10\n",
            "362/362 [==============================] - 1s 3ms/step - loss: 1.4679 - val_loss: 21.5124\n",
            "Epoch 2/10\n",
            "362/362 [==============================] - 1s 2ms/step - loss: 0.8735 - val_loss: 0.6648\n",
            "Epoch 3/10\n",
            "362/362 [==============================] - 1s 3ms/step - loss: 0.6317 - val_loss: 0.6196\n",
            "Epoch 4/10\n",
            "362/362 [==============================] - 1s 3ms/step - loss: 0.5933 - val_loss: 0.5669\n",
            "Epoch 5/10\n",
            "362/362 [==============================] - 1s 2ms/step - loss: 0.5629 - val_loss: 0.5402\n",
            "Epoch 6/10\n",
            "362/362 [==============================] - 1s 3ms/step - loss: 0.5693 - val_loss: 0.5209\n",
            "Epoch 7/10\n",
            "362/362 [==============================] - 1s 3ms/step - loss: 0.5231 - val_loss: 0.6130\n",
            "Epoch 8/10\n",
            "362/362 [==============================] - 1s 2ms/step - loss: 0.5074 - val_loss: 0.4818\n",
            "Epoch 9/10\n",
            "362/362 [==============================] - 1s 3ms/step - loss: 0.4963 - val_loss: 0.4904\n",
            "Epoch 10/10\n",
            "362/362 [==============================] - 1s 3ms/step - loss: 0.5023 - val_loss: 0.4585\n"
          ]
        },
        {
          "output_type": "execute_result",
          "data": {
            "text/plain": [
              "<keras.callbacks.History at 0x7f18b8b0e090>"
            ]
          },
          "metadata": {},
          "execution_count": 27
        }
      ]
    },
    {
      "cell_type": "markdown",
      "metadata": {
        "id": "g8YzxP7Z_H2G"
      },
      "source": [
        "Similarly, we can pass a dataset to the evaluate() and predict() methods:"
      ]
    },
    {
      "cell_type": "code",
      "metadata": {
        "colab": {
          "base_uri": "https://localhost:8080/"
        },
        "id": "YggJcHF6C0Fc",
        "outputId": "e43a4c88-ebc8-44ac-e788-37660f067e44"
      },
      "source": [
        "model.evaluate(test_set, steps=len(X_test) // batch_size)"
      ],
      "execution_count": 28,
      "outputs": [
        {
          "output_type": "stream",
          "name": "stdout",
          "text": [
            "161/161 [==============================] - 0s 1ms/step - loss: 0.4788\n"
          ]
        },
        {
          "output_type": "execute_result",
          "data": {
            "text/plain": [
              "0.4787752032279968"
            ]
          },
          "metadata": {},
          "execution_count": 28
        }
      ]
    },
    {
      "cell_type": "code",
      "metadata": {
        "colab": {
          "base_uri": "https://localhost:8080/"
        },
        "id": "a7jLQsPFC2Gd",
        "outputId": "28a38c2e-e656-4d2d-e3e7-eb48fda16324"
      },
      "source": [
        "new_set = test_set.take(3).map(lambda X, y: X) # pretend we have 3 new instances\n",
        "model.predict(new_set) # a dataset containing new instances"
      ],
      "execution_count": 29,
      "outputs": [
        {
          "output_type": "execute_result",
          "data": {
            "text/plain": [
              "array([[1.3206623 ],\n",
              "       [2.8198109 ],\n",
              "       [3.249744  ],\n",
              "       [2.0288205 ],\n",
              "       [1.6127919 ],\n",
              "       [1.0435953 ],\n",
              "       [3.398272  ],\n",
              "       [2.5609093 ],\n",
              "       [3.5580819 ],\n",
              "       [1.2878542 ],\n",
              "       [1.9824048 ],\n",
              "       [1.3180974 ],\n",
              "       [2.2630477 ],\n",
              "       [1.1518853 ],\n",
              "       [3.1928034 ],\n",
              "       [1.7722561 ],\n",
              "       [2.7276149 ],\n",
              "       [2.2703788 ],\n",
              "       [2.5340595 ],\n",
              "       [0.635628  ],\n",
              "       [0.96471643],\n",
              "       [2.3612819 ],\n",
              "       [1.4603943 ],\n",
              "       [1.5795335 ],\n",
              "       [1.98223   ],\n",
              "       [2.8105965 ],\n",
              "       [0.77453333],\n",
              "       [2.7432334 ],\n",
              "       [1.0429494 ],\n",
              "       [2.814415  ],\n",
              "       [2.1154428 ],\n",
              "       [2.1015055 ],\n",
              "       [1.5765224 ],\n",
              "       [1.6122233 ],\n",
              "       [1.7193551 ],\n",
              "       [1.832511  ],\n",
              "       [3.1353652 ],\n",
              "       [7.3480577 ],\n",
              "       [1.8008893 ],\n",
              "       [2.0271199 ],\n",
              "       [1.7252631 ],\n",
              "       [2.9369876 ],\n",
              "       [1.3494132 ],\n",
              "       [2.8155584 ],\n",
              "       [2.1258044 ],\n",
              "       [1.7575475 ],\n",
              "       [1.352296  ],\n",
              "       [1.5640572 ],\n",
              "       [1.6624119 ],\n",
              "       [2.094096  ],\n",
              "       [0.90950644],\n",
              "       [3.5544174 ],\n",
              "       [1.2230198 ],\n",
              "       [2.9721525 ],\n",
              "       [2.0085294 ],\n",
              "       [1.6923535 ],\n",
              "       [3.2846537 ],\n",
              "       [1.0505478 ],\n",
              "       [1.3259254 ],\n",
              "       [1.7442493 ],\n",
              "       [4.1345415 ],\n",
              "       [1.0411589 ],\n",
              "       [2.263824  ],\n",
              "       [1.5112572 ],\n",
              "       [2.5298438 ],\n",
              "       [2.287324  ],\n",
              "       [2.8119795 ],\n",
              "       [0.9196272 ],\n",
              "       [1.0647309 ],\n",
              "       [1.6300092 ],\n",
              "       [3.8379035 ],\n",
              "       [1.8533525 ],\n",
              "       [1.7962822 ],\n",
              "       [1.6565156 ],\n",
              "       [1.2138169 ],\n",
              "       [3.9031074 ],\n",
              "       [2.1740525 ],\n",
              "       [2.5323267 ],\n",
              "       [3.0929172 ],\n",
              "       [2.73092   ],\n",
              "       [2.8112576 ],\n",
              "       [1.9290599 ],\n",
              "       [1.3435671 ],\n",
              "       [2.0169978 ],\n",
              "       [1.7556314 ],\n",
              "       [0.5489161 ],\n",
              "       [2.0420227 ],\n",
              "       [2.3024735 ],\n",
              "       [1.9758109 ],\n",
              "       [1.2771809 ],\n",
              "       [3.8832603 ],\n",
              "       [2.0959096 ],\n",
              "       [2.290431  ],\n",
              "       [1.892613  ],\n",
              "       [2.7229261 ],\n",
              "       [1.7001222 ]], dtype=float32)"
            ]
          },
          "metadata": {},
          "execution_count": 29
        }
      ]
    },
    {
      "cell_type": "markdown",
      "metadata": {
        "id": "Fu1bOGOFDK1r"
      },
      "source": [
        "Unlike the other sets, the new_set will usually not contain labels (if it does, keras will ignore them)\n",
        "\n",
        "Note that in all these cases, you can still use NumPy arrays instead of datasets if you want (but of course they need to have been loaded and preprocessed first)\n",
        "\n",
        "If you want to build your own custom training loop (as in Chapter 12), you can just iterate over the training set, very naturally:"
      ]
    },
    {
      "cell_type": "code",
      "metadata": {
        "colab": {
          "base_uri": "https://localhost:8080/"
        },
        "id": "_PRu59xUDI8Q",
        "outputId": "86fe155d-5418-4f2b-ef67-b6f200f85994"
      },
      "source": [
        "optimizer = keras.optimizers.Nadam(learning_rate=0.01)\n",
        "loss_fn = keras.losses.mean_squared_error\n",
        "\n",
        "n_epochs = 5\n",
        "batch_size = 32\n",
        "n_steps_per_epoch = len(X_train) // batch_size\n",
        "total_steps = n_epochs * n_steps_per_epoch\n",
        "global_step = 0\n",
        "for X_batch, y_batch in train_set.take(total_steps):\n",
        "    global_step += 1\n",
        "    print(\"\\rGlobal step {}/{}\".format(global_step, total_steps), end=\"\")\n",
        "    with tf.GradientTape() as tape:\n",
        "        y_pred = model(X_batch)\n",
        "        main_loss = tf.reduce_mean(loss_fn(y_batch, y_pred))\n",
        "        loss = tf.add_n([main_loss] + model.losses)\n",
        "    gradients = tape.gradient(loss, model.trainable_variables)\n",
        "    optimizer.apply_gradients(zip(gradients, model.trainable_variables))"
      ],
      "execution_count": 30,
      "outputs": [
        {
          "output_type": "stream",
          "name": "stdout",
          "text": [
            "Global step 1810/1810"
          ]
        }
      ]
    },
    {
      "cell_type": "markdown",
      "metadata": {
        "id": "3NhAOF1eDfs2"
      },
      "source": [
        "In fact, it is even possible to create a TF Function (see Chapter 12) that performs the whole training loop:"
      ]
    },
    {
      "cell_type": "code",
      "metadata": {
        "id": "8ACKukEzDitB"
      },
      "source": [
        "keras.backend.clear_session()\n",
        "np.random.seed(42)\n",
        "tf.random.set_seed(42)"
      ],
      "execution_count": 31,
      "outputs": []
    },
    {
      "cell_type": "code",
      "metadata": {
        "id": "uuOpUKSTDk4w"
      },
      "source": [
        "@tf.function\n",
        "def train(model, n_epochs, batch_size=32,\n",
        "          n_readers=5, n_read_threads=5, shuffle_buffer_size=10000, n_parse_threads=5):\n",
        "    train_set = csv_reader_dataset(train_filepaths, repeat=n_epochs, n_readers=n_readers,\n",
        "                       n_read_threads=n_read_threads, shuffle_buffer_size=shuffle_buffer_size,\n",
        "                       n_parse_threads=n_parse_threads, batch_size=batch_size)\n",
        "    for X_batch, y_batch in train_set:\n",
        "        with tf.GradientTape() as tape:\n",
        "            y_pred = model(X_batch)\n",
        "            main_loss = tf.reduce_mean(loss_fn(y_batch, y_pred))\n",
        "            loss = tf.add_n([main_loss] + model.losses)\n",
        "        gradients = tape.gradient(loss, model.trainable_variables)\n",
        "        optimizer.apply_gradients(zip(gradients, model.trainable_variables))\n",
        "\n",
        "train(model, 5)"
      ],
      "execution_count": 32,
      "outputs": []
    },
    {
      "cell_type": "markdown",
      "metadata": {
        "id": "UFq3ztIbDodA"
      },
      "source": [
        "Congratulations, you now know how to build powerful input pipelines using the Data API! However, so far we have used CSV files, which are common, simple, and convenient but not really efficient, and do not **support large or complex data structures (such as images or audio) very well. So let’s see how to use TFRecords instead**"
      ]
    },
    {
      "cell_type": "code",
      "metadata": {
        "id": "zQFzhC7eH-B9"
      },
      "source": [
        ""
      ],
      "execution_count": 32,
      "outputs": []
    },
    {
      "cell_type": "markdown",
      "metadata": {
        "id": "EqbVUYBcHNP8"
      },
      "source": [
        "Here is a short description of each method in the Dataset class:"
      ]
    },
    {
      "cell_type": "code",
      "metadata": {
        "colab": {
          "base_uri": "https://localhost:8080/"
        },
        "id": "WsOgisj6HO-_",
        "outputId": "812ef6a8-fe6f-403b-857e-a7b9ecaaf1e1"
      },
      "source": [
        "for m in dir(tf.data.Dataset):\n",
        "    if not (m.startswith(\"_\") or m.endswith(\"_\")):\n",
        "        func = getattr(tf.data.Dataset, m)\n",
        "        if hasattr(func, \"__doc__\"):\n",
        "            print(\"● {:21s}{}\".format(m + \"()\", func.__doc__.split(\"\\n\")[0]))"
      ],
      "execution_count": 33,
      "outputs": [
        {
          "output_type": "stream",
          "name": "stdout",
          "text": [
            "● apply()              Applies a transformation function to this dataset.\n",
            "● as_numpy_iterator()  Returns an iterator which converts all elements of the dataset to numpy.\n",
            "● batch()              Combines consecutive elements of this dataset into batches.\n",
            "● bucket_by_sequence_length()A transformation that buckets elements in a `Dataset` by length.\n",
            "● cache()              Caches the elements in this dataset.\n",
            "● cardinality()        Returns the cardinality of the dataset, if known.\n",
            "● concatenate()        Creates a `Dataset` by concatenating the given dataset with this dataset.\n",
            "● element_spec()       The type specification of an element of this dataset.\n",
            "● enumerate()          Enumerates the elements of this dataset.\n",
            "● filter()             Filters this dataset according to `predicate`.\n",
            "● flat_map()           Maps `map_func` across this dataset and flattens the result.\n",
            "● from_generator()     Creates a `Dataset` whose elements are generated by `generator`. (deprecated arguments)\n",
            "● from_tensor_slices() Creates a `Dataset` whose elements are slices of the given tensors.\n",
            "● from_tensors()       Creates a `Dataset` with a single element, comprising the given tensors.\n",
            "● get_single_element() Returns the single element of the `dataset` as a nested structure of tensors.\n",
            "● group_by_window()    Groups windows of elements by key and reduces them.\n",
            "● interleave()         Maps `map_func` across this dataset, and interleaves the results.\n",
            "● list_files()         A dataset of all files matching one or more glob patterns.\n",
            "● map()                Maps `map_func` across the elements of this dataset.\n",
            "● options()            Returns the options for this dataset and its inputs.\n",
            "● padded_batch()       Combines consecutive elements of this dataset into padded batches.\n",
            "● prefetch()           Creates a `Dataset` that prefetches elements from this dataset.\n",
            "● random()             Creates a `Dataset` of pseudorandom values.\n",
            "● range()              Creates a `Dataset` of a step-separated range of values.\n",
            "● reduce()             Reduces the input dataset to a single element.\n",
            "● repeat()             Repeats this dataset so each original value is seen `count` times.\n",
            "● scan()               A transformation that scans a function across an input dataset.\n",
            "● shard()              Creates a `Dataset` that includes only 1/`num_shards` of this dataset.\n",
            "● shuffle()            Randomly shuffles the elements of this dataset.\n",
            "● skip()               Creates a `Dataset` that skips `count` elements from this dataset.\n",
            "● snapshot()           API to persist the output of the input dataset.\n",
            "● take()               Creates a `Dataset` with at most `count` elements from this dataset.\n",
            "● take_while()         A transformation that stops dataset iteration based on a `predicate`.\n",
            "● unbatch()            Splits elements of a dataset into multiple elements.\n",
            "● unique()             A transformation that discards duplicate elements of a `Dataset`.\n",
            "● window()             Returns a dataset of \"windows\".\n",
            "● with_options()       Returns a new `tf.data.Dataset` with the given options set.\n",
            "● zip()                Creates a `Dataset` by zipping together the given datasets.\n"
          ]
        }
      ]
    },
    {
      "cell_type": "markdown",
      "metadata": {
        "id": "PicvmyzaDySV"
      },
      "source": [
        "# The TFRecord Format"
      ]
    },
    {
      "cell_type": "markdown",
      "metadata": {
        "id": "Z-KV4IcZDz77"
      },
      "source": [
        "The TFRecord format is TensorFlow’s preferred format for storing large amounts of data and reading it efficiently\n",
        "\n",
        "It is a very simple binary format that just contains a sequence of binary records of varying sizes (**each record is comprised of a length, a CRC checksum to check that the length was not corrupted, then the actual data, and finally a CRC checksum for the data**)\n",
        "\n",
        "You can easily create a TFRecord file using the tf.io.TFRecordWriter class:"
      ]
    },
    {
      "cell_type": "code",
      "metadata": {
        "id": "u6_cvDdkGqi3"
      },
      "source": [
        "with tf.io.TFRecordWriter('my_data.tfrecord') as f:\n",
        "  f.write(b'This is the first record')\n",
        "  f.write(b'And this is the second record')"
      ],
      "execution_count": 34,
      "outputs": []
    },
    {
      "cell_type": "markdown",
      "metadata": {
        "id": "jkwf3OqdG0vJ"
      },
      "source": [
        "And you can then use a tf.data.TFRecordDataset to read one or more TFRecord files:"
      ]
    },
    {
      "cell_type": "code",
      "metadata": {
        "colab": {
          "base_uri": "https://localhost:8080/"
        },
        "id": "DqIqrqoYG-9f",
        "outputId": "e139f68f-93e0-4d63-bcc0-40a606812b1b"
      },
      "source": [
        "filepaths = ['my_data.tfrecord']\n",
        "dataset = tf.data.TFRecordDataset(filepaths)\n",
        "for item in dataset:\n",
        "  print(item)"
      ],
      "execution_count": 35,
      "outputs": [
        {
          "output_type": "stream",
          "name": "stdout",
          "text": [
            "tf.Tensor(b'This is the first record', shape=(), dtype=string)\n",
            "tf.Tensor(b'And this is the second record', shape=(), dtype=string)\n"
          ]
        }
      ]
    },
    {
      "cell_type": "markdown",
      "metadata": {
        "id": "RRC9rybFHrhI"
      },
      "source": [
        "By default, a TFRecordDataset will read files one by one, but you can make it read multiple files in parallel and interleave their records by setting num_parallel_reads\n",
        "\n",
        "Alternatively, you could obtain the same result by using list_files() and interleave() as we did earlier to read multiple CSV files"
      ]
    },
    {
      "cell_type": "markdown",
      "metadata": {
        "id": "yzCBu5L8H8FS"
      },
      "source": [
        "## Compressed TFRecord Files"
      ]
    },
    {
      "cell_type": "markdown",
      "metadata": {
        "id": "CEWBnVYUH_WU"
      },
      "source": [
        "It can sometimes be useful to **compress** your TFRecord files, especially if they need to be loaded via a network connection. You can create a compressed TFRecord file by setting the options argument:"
      ]
    },
    {
      "cell_type": "code",
      "metadata": {
        "id": "-TDYQvsTIG7a"
      },
      "source": [
        "options = tf.io.TFRecordOptions(compression_type='GZIP')\n",
        "with tf.io.TFRecordWriter('my_compressed.tfrecord', options) as f:\n",
        "  f.write(b\"This is the first record\")\n",
        "  f.write(b\"And this is the second record\")"
      ],
      "execution_count": 36,
      "outputs": []
    },
    {
      "cell_type": "markdown",
      "metadata": {
        "id": "r3Cxq_DyImpy"
      },
      "source": [
        "When reading a compressed TFRecord file, you need to specify the compression type:"
      ]
    },
    {
      "cell_type": "code",
      "metadata": {
        "colab": {
          "base_uri": "https://localhost:8080/"
        },
        "id": "u4pBNd5bIXDC",
        "outputId": "365e27d0-4a1d-4a16-d721-5de0c1d4d3f1"
      },
      "source": [
        "dataset = tf.data.TFRecordDataset(['my_compressed.tfrecord'],\n",
        "                                  compression_type='GZIP')\n",
        "for item in dataset:\n",
        "  print(item)"
      ],
      "execution_count": 37,
      "outputs": [
        {
          "output_type": "stream",
          "name": "stdout",
          "text": [
            "tf.Tensor(b'This is the first record', shape=(), dtype=string)\n",
            "tf.Tensor(b'And this is the second record', shape=(), dtype=string)\n"
          ]
        }
      ]
    },
    {
      "cell_type": "markdown",
      "metadata": {
        "id": "W-j7tQZPIpSU"
      },
      "source": [
        "## A Brief Introduction to Protocol Buffers"
      ]
    },
    {
      "cell_type": "markdown",
      "metadata": {
        "id": "wBdPTov5IygJ"
      },
      "source": [
        "Even though each record can use any binary format you want, **TFRecord files usually contain serialized protocol buffers (also called protobufs)**\n",
        "\n",
        "This is a portable, extensible, and efficient binary format developed at Google back in 2001 and made open source in 2008; protobufs are now widely used, in particular in [gRPC](https://grpc.io/), Google’s remote procedure call system. They are defined using a simple language that looks like this:"
      ]
    },
    {
      "cell_type": "code",
      "metadata": {
        "colab": {
          "base_uri": "https://localhost:8080/"
        },
        "id": "o-7ozAyCJSWs",
        "outputId": "35f28b20-020a-452e-8324-bc6380a4c5d6"
      },
      "source": [
        "%%writefile person.proto\n",
        "syntax = \"proto3\";\n",
        "message Person {\n",
        "  string name = 1;\n",
        "  int32 id = 2;\n",
        "  repeated string email = 3;\n",
        "}"
      ],
      "execution_count": 38,
      "outputs": [
        {
          "output_type": "stream",
          "name": "stdout",
          "text": [
            "Overwriting person.proto\n"
          ]
        }
      ]
    },
    {
      "cell_type": "markdown",
      "metadata": {
        "id": "JEyWRECM-f6a"
      },
      "source": [
        "This definition says we are using version 3 of the protobuf format, and it specifies that each Person object may (optionally) have a name of type string, and id of type int32, and zero or more email fields, each of type string\n",
        "\n",
        "The numbers 1, 2, and 3 are the field identifiers: they will be used in each record's binary representation. Once you have a definition in a .proto file, you can compile it\n",
        "\n",
        "This requires protoc, the protobuf compiler, to generate access in Python. Note that the protobuf definitions we will use have already been compiled for you, and their Python classes are part of TensorFlow, so you will not need to use protoc\n",
        "\n",
        "let’s look at a simple example that uses the access classes generated for the Person protobuf"
      ]
    },
    {
      "cell_type": "markdown",
      "metadata": {
        "id": "ObbISUL4D9wS"
      },
      "source": [
        "And let's compile it (the --descriptor_set_out and --include_imports options are only required for the tf.io.decode_proto() example below):"
      ]
    },
    {
      "cell_type": "code",
      "metadata": {
        "id": "PJ71KVZb_2Gl"
      },
      "source": [
        "!protoc person.proto --python_out=. --descriptor_set_out=person.desc --include_imports"
      ],
      "execution_count": 39,
      "outputs": []
    },
    {
      "cell_type": "code",
      "metadata": {
        "colab": {
          "base_uri": "https://localhost:8080/"
        },
        "id": "ko623BoTAJmE",
        "outputId": "6bf8e4bf-f39a-41fb-c3af-43f35f00451e"
      },
      "source": [
        "!ls person*"
      ],
      "execution_count": 40,
      "outputs": [
        {
          "output_type": "stream",
          "name": "stdout",
          "text": [
            "person.desc  person_pb2.py  person.proto\n"
          ]
        }
      ]
    },
    {
      "cell_type": "code",
      "metadata": {
        "id": "fXLAZ6RJANT9"
      },
      "source": [
        "from person_pb2 import Person\n",
        "person = Person(name='AL', id=123, email=['a@b.com']) # create a Person"
      ],
      "execution_count": 41,
      "outputs": []
    },
    {
      "cell_type": "code",
      "metadata": {
        "colab": {
          "base_uri": "https://localhost:8080/"
        },
        "id": "EQw5vDSnCC84",
        "outputId": "79ec850d-febe-4e7e-80a0-3c637a7c6b6b"
      },
      "source": [
        "print(person) # display the Person"
      ],
      "execution_count": 42,
      "outputs": [
        {
          "output_type": "stream",
          "name": "stdout",
          "text": [
            "name: \"AL\"\n",
            "id: 123\n",
            "email: \"a@b.com\"\n",
            "\n"
          ]
        }
      ]
    },
    {
      "cell_type": "code",
      "metadata": {
        "colab": {
          "base_uri": "https://localhost:8080/",
          "height": 35
        },
        "id": "xRryUU2mBVk-",
        "outputId": "9310e109-1fc0-48eb-fb55-573b69587cb1"
      },
      "source": [
        "person.name # read a field"
      ],
      "execution_count": 43,
      "outputs": [
        {
          "output_type": "execute_result",
          "data": {
            "application/vnd.google.colaboratory.intrinsic+json": {
              "type": "string"
            },
            "text/plain": [
              "'AL'"
            ]
          },
          "metadata": {},
          "execution_count": 43
        }
      ]
    },
    {
      "cell_type": "code",
      "metadata": {
        "id": "R9-OXgxEBZap"
      },
      "source": [
        "person.name = 'Alice' # modify a field"
      ],
      "execution_count": 44,
      "outputs": []
    },
    {
      "cell_type": "code",
      "metadata": {
        "colab": {
          "base_uri": "https://localhost:8080/",
          "height": 35
        },
        "id": "62QdTXLvCskj",
        "outputId": "2626adef-45fd-4432-c5ac-c2a3dfde0cdf"
      },
      "source": [
        "person.email[0] # repeated fields can be accessed like arrays"
      ],
      "execution_count": 45,
      "outputs": [
        {
          "output_type": "execute_result",
          "data": {
            "application/vnd.google.colaboratory.intrinsic+json": {
              "type": "string"
            },
            "text/plain": [
              "'a@b.com'"
            ]
          },
          "metadata": {},
          "execution_count": 45
        }
      ]
    },
    {
      "cell_type": "code",
      "metadata": {
        "id": "e7aptamkC00w"
      },
      "source": [
        "person.email.append('c@d.com') # add an email address"
      ],
      "execution_count": 46,
      "outputs": []
    },
    {
      "cell_type": "code",
      "metadata": {
        "colab": {
          "base_uri": "https://localhost:8080/"
        },
        "id": "aYpky6b8C-IT",
        "outputId": "d5956187-a29b-48be-f85c-976d772e144a"
      },
      "source": [
        "s = person.SerializeToString() # serialize to a byte string\n",
        "s"
      ],
      "execution_count": 47,
      "outputs": [
        {
          "output_type": "execute_result",
          "data": {
            "text/plain": [
              "b'\\n\\x05Alice\\x10{\\x1a\\x07a@b.com\\x1a\\x07c@d.com'"
            ]
          },
          "metadata": {},
          "execution_count": 47
        }
      ]
    },
    {
      "cell_type": "code",
      "metadata": {
        "colab": {
          "base_uri": "https://localhost:8080/"
        },
        "id": "kJN8q8HgDMla",
        "outputId": "6c722b85-7c67-4e2f-e5a7-8d0dc7ea36ed"
      },
      "source": [
        "person2 = Person() # create a new Person\n",
        "person2.ParseFromString(s) # parse the byte string (27 bytes long)"
      ],
      "execution_count": 48,
      "outputs": [
        {
          "output_type": "execute_result",
          "data": {
            "text/plain": [
              "27"
            ]
          },
          "metadata": {},
          "execution_count": 48
        }
      ]
    },
    {
      "cell_type": "code",
      "metadata": {
        "colab": {
          "base_uri": "https://localhost:8080/"
        },
        "id": "rjTnq-ZmDrh6",
        "outputId": "0c399fb6-9360-4c94-f0b2-ab5973c0ab5b"
      },
      "source": [
        "person == person2 # now they are equal"
      ],
      "execution_count": 49,
      "outputs": [
        {
          "output_type": "execute_result",
          "data": {
            "text/plain": [
              "True"
            ]
          },
          "metadata": {},
          "execution_count": 49
        }
      ]
    },
    {
      "cell_type": "markdown",
      "metadata": {
        "id": "agWnCrs1KnuE"
      },
      "source": [
        "In rare cases, you may want to parse a custom protobuf (like the one we just created) in TensorFlow. For this you can use the tf.io.decode_proto() function:"
      ]
    },
    {
      "cell_type": "code",
      "metadata": {
        "colab": {
          "base_uri": "https://localhost:8080/"
        },
        "id": "aIXwP8LrKqHx",
        "outputId": "bb3745db-2e7b-43b3-fa0b-3665517e8332"
      },
      "source": [
        "person_tf = tf.io.decode_proto(\n",
        "    bytes=s,\n",
        "    message_type=\"Person\",\n",
        "    field_names=[\"name\", \"id\", \"email\"],\n",
        "    output_types=[tf.string, tf.int32, tf.string],\n",
        "    descriptor_source=\"person.desc\")\n",
        "\n",
        "person_tf.values"
      ],
      "execution_count": 50,
      "outputs": [
        {
          "output_type": "execute_result",
          "data": {
            "text/plain": [
              "[<tf.Tensor: shape=(1,), dtype=string, numpy=array([b'Alice'], dtype=object)>,\n",
              " <tf.Tensor: shape=(1,), dtype=int32, numpy=array([123], dtype=int32)>,\n",
              " <tf.Tensor: shape=(2,), dtype=string, numpy=array([b'a@b.com', b'c@d.com'], dtype=object)>]"
            ]
          },
          "metadata": {},
          "execution_count": 50
        }
      ]
    },
    {
      "cell_type": "markdown",
      "metadata": {
        "id": "5oUimUtPJJG4"
      },
      "source": [
        "In short, we import the Person class genetared by protoc, we create an instance and play with it, visualizing it and reading and writing some fields, then we serialize it using the SerializeToString() method. This is the binary data that is ready to be saved or transmitted over the network\n",
        "\n",
        "When reading or receiving this binary data, we can parse it using the ParseFromString() method, and we get a copy of the object that was serialized\n",
        "\n",
        "We could save the serialized Person object to a TFRecord file, then we could load and parse it. However, SerializeToString() and ParseFromString() are not TensorFlow opeations, so they cannot be included in a TensorFlow Function (except by wrapping them in a tf.py_function() operation, which would make the code slower and less portablem as we saw in Chapter12)\n",
        "\n",
        "Fortunately, TensorFlow does include special protobuf definitions for which it provides parsing operations\n"
      ]
    },
    {
      "cell_type": "markdown",
      "metadata": {
        "id": "bDQDMagOKQPm"
      },
      "source": [
        "## TensorFlow Protobufs"
      ]
    },
    {
      "cell_type": "markdown",
      "metadata": {
        "id": "XufSxBnOKSJH"
      },
      "source": [
        "The main protobuf typically used in a TFRecord file is the Example protobuf, which represents one instance in a dataset. It contains a list of named features, where each feature can either be a list of byte strings, a list of floats, or a list of integers. Here is the protobuf definition:"
      ]
    },
    {
      "cell_type": "markdown",
      "metadata": {
        "id": "HiO-V9ijK6BG"
      },
      "source": [
        "\n",
        "\n",
        "```\n",
        "syntax = \"proto3\";\n",
        "\n",
        "message BytesList { repeated bytes value = 1; }\n",
        "message FloatList { repeated float value = 1 [packed = true]; }\n",
        "message Int64List { repeated int64 value = 1 [packed = true]; }\n",
        "message Feature {\n",
        "    oneof kind {\n",
        "        BytesList bytes_list = 1;\n",
        "        FloatList float_list = 2;\n",
        "        Int64List int64_list = 3;\n",
        "    }\n",
        "};\n",
        "message Features { map<string, Feature> feature = 1; };\n",
        "message Example { Features features = 1; };\n",
        "```\n",
        "\n"
      ]
    },
    {
      "cell_type": "markdown",
      "metadata": {
        "id": "4HXJiUXtL8km"
      },
      "source": [
        "The definitions of ByteList, FloatList and Int64List are straightforward enough. Note that [packed = true] is used for repeated numerical fields, for a more efficient encoding\n",
        "\n",
        "A Feature contains either a BytesList, a FloatList or an Int64List. A Features (with an s) contains a dictionary that maps a feature name to the corresponding feature value. And finally, an Example contains only a Features object\n",
        "\n",
        "Here is how you could create a tf.train.Example representing the same person as earlier and write it to a TFRecord file:"
      ]
    },
    {
      "cell_type": "code",
      "metadata": {
        "id": "gazwz5f3KZEN"
      },
      "source": [
        "from tensorflow.train import BytesList, FloatList, Int64List\n",
        "from tensorflow.train import Feature, Features, Example\n",
        "\n",
        "person_example = Example(\n",
        "    features=Features(\n",
        "        feature={\n",
        "            \"name\": Feature(bytes_list=BytesList(value=[b\"Alice\"])),\n",
        "            \"id\": Feature(int64_list=Int64List(value=[123])),\n",
        "            \"emails\": Feature(bytes_list=BytesList(value=[b\"a@b.com\", b\"c@d.com\"]))\n",
        "        }))"
      ],
      "execution_count": 51,
      "outputs": []
    },
    {
      "cell_type": "markdown",
      "metadata": {
        "id": "4FiSuZveNPN3"
      },
      "source": [
        "The code is a bit verbose and repetitive, but it’s rather straightforward (and you could easily wrap it inside a small helper function)\n",
        "\n",
        "Now that we have an Example protobuf, we can serialize it by calling its SerializeToString() method, then write the resulting data to a TFRecord file:"
      ]
    },
    {
      "cell_type": "code",
      "metadata": {
        "id": "4SUW42xTNcEi"
      },
      "source": [
        "with tf.io.TFRecordWriter('my_contacts.tfrecord') as f:\n",
        "  f.write(person_example.SerializePartialToString())"
      ],
      "execution_count": 52,
      "outputs": []
    },
    {
      "cell_type": "markdown",
      "metadata": {
        "id": "86BHL1ssNxTl"
      },
      "source": [
        "Normally you would write much more than one Example! Typically, you would create a conversion script that reads from your current format (say, CSV files), creates an Example protobuf for each instance, serializes them, and saves them to several TFRecord files, ideally shuffling them in the process"
      ]
    },
    {
      "cell_type": "markdown",
      "metadata": {
        "id": "5HghsuqUN-F4"
      },
      "source": [
        "## Loading and Parsing Examples"
      ]
    },
    {
      "cell_type": "markdown",
      "metadata": {
        "id": "QCLec4KSN_x0"
      },
      "source": [
        "To load the serialized Example protobufs, we will use a tf.data.TFRecordDataset once again, and we will parse each Example using tf.io.parse_single_example()\n",
        "\n",
        "This is a TensorFlow operation, so it can be included in a TF Function. **It requires at least two arguments: a string scalar tensor containing the serialized data, and a description of each feature**\n",
        "\n",
        "The description is a dictionary that maps each feature name to either a tf.io.FixedLenFeature descriptor indicating the feature's shape, type, and default value, or a tf.io.VarLenFeature descriptor indicating only the type (if the length of the feature’s list may vary, such as for the 'emails' feature)\n",
        "\n",
        "The following code defines a description dictionary, then it iterates over the TFRecordDataset and parses the serialized Example protobuf this dataset contains:\n",
        "\n"
      ]
    },
    {
      "cell_type": "code",
      "metadata": {
        "id": "Kjxf5EdlPuM5"
      },
      "source": [
        "feature_description = {\n",
        "    \"name\": tf.io.FixedLenFeature([], tf.string, default_value=\"\"),\n",
        "    \"id\": tf.io.FixedLenFeature([], tf.int64, default_value=0),\n",
        "    \"emails\": tf.io.VarLenFeature(tf.string),\n",
        "}\n",
        "for serialized_example in tf.data.TFRecordDataset([\"my_contacts.tfrecord\"]):\n",
        "    parsed_example = tf.io.parse_single_example(serialized_example,\n",
        "                                                feature_description)"
      ],
      "execution_count": 53,
      "outputs": []
    },
    {
      "cell_type": "code",
      "metadata": {
        "colab": {
          "base_uri": "https://localhost:8080/"
        },
        "id": "gnNCWl491Ewq",
        "outputId": "8006bb0f-2664-406a-ef5e-294b8b70a40a"
      },
      "source": [
        "parsed_example"
      ],
      "execution_count": 54,
      "outputs": [
        {
          "output_type": "execute_result",
          "data": {
            "text/plain": [
              "{'emails': <tensorflow.python.framework.sparse_tensor.SparseTensor at 0x7f18b89b5d50>,\n",
              " 'id': <tf.Tensor: shape=(), dtype=int64, numpy=123>,\n",
              " 'name': <tf.Tensor: shape=(), dtype=string, numpy=b'Alice'>}"
            ]
          },
          "metadata": {},
          "execution_count": 54
        }
      ]
    },
    {
      "cell_type": "code",
      "metadata": {
        "colab": {
          "base_uri": "https://localhost:8080/"
        },
        "id": "jeBXfxVP1Fox",
        "outputId": "af89cf6d-647f-4098-a449-e00c44b64d2f"
      },
      "source": [
        "parsed_example[\"emails\"].values[0]"
      ],
      "execution_count": 55,
      "outputs": [
        {
          "output_type": "execute_result",
          "data": {
            "text/plain": [
              "<tf.Tensor: shape=(), dtype=string, numpy=b'a@b.com'>"
            ]
          },
          "metadata": {},
          "execution_count": 55
        }
      ]
    },
    {
      "cell_type": "code",
      "metadata": {
        "colab": {
          "base_uri": "https://localhost:8080/"
        },
        "id": "89r9R8NP1IVc",
        "outputId": "1cf2f9c5-5725-4f17-f5a8-12698317804c"
      },
      "source": [
        "tf.sparse.to_dense(parsed_example[\"emails\"], default_value=b\"\")"
      ],
      "execution_count": 56,
      "outputs": [
        {
          "output_type": "execute_result",
          "data": {
            "text/plain": [
              "<tf.Tensor: shape=(2,), dtype=string, numpy=array([b'a@b.com', b'c@d.com'], dtype=object)>"
            ]
          },
          "metadata": {},
          "execution_count": 56
        }
      ]
    },
    {
      "cell_type": "code",
      "metadata": {
        "colab": {
          "base_uri": "https://localhost:8080/"
        },
        "id": "s5nTGnM21Kcj",
        "outputId": "e9ffac7b-8540-4ecb-84d9-773d42b8d369"
      },
      "source": [
        "parsed_example[\"emails\"].values"
      ],
      "execution_count": 57,
      "outputs": [
        {
          "output_type": "execute_result",
          "data": {
            "text/plain": [
              "<tf.Tensor: shape=(2,), dtype=string, numpy=array([b'a@b.com', b'c@d.com'], dtype=object)>"
            ]
          },
          "metadata": {},
          "execution_count": 57
        }
      ]
    },
    {
      "cell_type": "markdown",
      "metadata": {
        "id": "4Ot1fP5-P8u8"
      },
      "source": [
        "The fixed-length features are parsed as regular tensors, but the variable length features are parsed as sparse tensors. You can convert a sparse tensor to a dense tensor using tf.sparse.to_dense(), but in this case it is simpler to just access its values:"
      ]
    },
    {
      "cell_type": "code",
      "metadata": {
        "colab": {
          "base_uri": "https://localhost:8080/"
        },
        "id": "H8ebfzAE1AAB",
        "outputId": "3cff949c-4d95-4301-918c-4e1adff8eebe"
      },
      "source": [
        "tf.sparse.to_dense(parsed_example[\"emails\"], default_value=b\"\")"
      ],
      "execution_count": 58,
      "outputs": [
        {
          "output_type": "execute_result",
          "data": {
            "text/plain": [
              "<tf.Tensor: shape=(2,), dtype=string, numpy=array([b'a@b.com', b'c@d.com'], dtype=object)>"
            ]
          },
          "metadata": {},
          "execution_count": 58
        }
      ]
    },
    {
      "cell_type": "code",
      "metadata": {
        "colab": {
          "base_uri": "https://localhost:8080/"
        },
        "id": "sBkPTYjo1W55",
        "outputId": "abdcf2e3-6116-46c4-e438-3c2367067149"
      },
      "source": [
        "parsed_example['emails'].values"
      ],
      "execution_count": 59,
      "outputs": [
        {
          "output_type": "execute_result",
          "data": {
            "text/plain": [
              "<tf.Tensor: shape=(2,), dtype=string, numpy=array([b'a@b.com', b'c@d.com'], dtype=object)>"
            ]
          },
          "metadata": {},
          "execution_count": 59
        }
      ]
    },
    {
      "cell_type": "markdown",
      "metadata": {
        "id": "FV0hbSlN15mY"
      },
      "source": [
        "A BytesList can contain any binary data you want, including any serialized object. For example, you can use tf.io.encode_jpeg() to encode an image using the JPEG format and put this binary data in a BytesList\n",
        "\n",
        "Later, when your code reads the TFRecord, it will start by parsing the Example, then it will need to call tf.io.decode_jpeg() to parse the data and get the original image (or you can use tf.io.decode_image(), which can decode any BMP, GIF, JPEG, or PNG image)\n",
        "\n",
        "You can also store any tensor you want in a BytesList by serializing the tensor using tf.io.serialize_tensor() then putting the resulting byte string in a BytesList feature. Later, when you parse the TFRecord, you can parse this data using tf.io.parse_tensor()\n",
        "\n",
        "Instead of parsing examples one by one using tf.io.parse_single_example(), you may want to parse them batch by batch using tf.io.parse_example()\n"
      ]
    },
    {
      "cell_type": "code",
      "metadata": {
        "id": "o_m-8dG33wNq"
      },
      "source": [
        "dataset = tf.data.TFRecordDataset([\"my_contacts.tfrecord\"]).batch(10)\n",
        "for serialized_examples in dataset:\n",
        "  parsed_examples = tf.io.parse_example(serialized_examples,\n",
        "                                        feature_description)"
      ],
      "execution_count": 60,
      "outputs": []
    },
    {
      "cell_type": "markdown",
      "metadata": {
        "id": "kfCBzbzN4CE-"
      },
      "source": [
        "As you can see, the Example protobuf will probably be sufficient for most use cases. However, it may be a bit cumbersome to use when you are dealing with lists of lists\n",
        "\n",
        "For example, suppose you want to classify text documents. Each document may be represented as a list of sentences, where each sentence is represented as a list of words. And perhaps each document also has a list of comments, where each comment is represented as a list of words. There may be some contextual data too, such as the document’s author, title, and publication date. TensorFlow’s SequenceExample protobuf is designed for such use cases"
      ]
    },
    {
      "cell_type": "markdown",
      "metadata": {
        "id": "Nl7xdlty4ZZo"
      },
      "source": [
        "## Handling Lists of Lists Using the SequenceExample Protobuf"
      ]
    },
    {
      "cell_type": "markdown",
      "metadata": {
        "id": "WbSKPUJf4f_L"
      },
      "source": [
        "Here is the definition of the SequenceExample protobuf:"
      ]
    },
    {
      "cell_type": "markdown",
      "metadata": {
        "id": "P3Trwuh95F3B"
      },
      "source": [
        "\n",
        "\n",
        "```\n",
        "message FeatureList { repeated Feature feature = 1; };\n",
        "message FeatureLists { map<string, FeatureList> feature_list = 1; };\n",
        "message SequenceExample {\n",
        "Features context = 1;\n",
        "FeatureLists feature_lists = 2;\n",
        "};\n",
        "```\n",
        "\n"
      ]
    },
    {
      "cell_type": "markdown",
      "metadata": {
        "id": "y6ipT38p5K_y"
      },
      "source": [
        "A SequenceExample contains a Features object for the contextual data and a FeatureLists object that contains one or more named FeatureList objects (e.g., a FeatureList named 'content' and another named 'comments'.)\n",
        "\n",
        "Each FeatureList contains a list of Feature objects, each of which may be a list of byte strings, a list of 64-bit integers, or a list of floats (in this example, each Feature would represent a sentence or a comment, perhaps in the form of a list of word identifiers\n",
        "\n",
        "Building a SequenceExample, serializing it, and parsing it is similar to building, serializing, and parsing an Example, but you must use tf.io.parse_single_sequence_example() to parse a single SequenceExample or tf.io.parse_sequence_example() to parse a batch\n",
        "\n",
        "Both functions return a tuple containing the context features (as a dictionary) and the feature lists (also as a dictionary). If the feature lists contain sequences of varying sizes (as in the preceding example), you may want to convert them to ragged tensors, using tf.RaggedTensor.from_sparse()"
      ]
    },
    {
      "cell_type": "code",
      "metadata": {
        "id": "YSFJC8fzBReB"
      },
      "source": [
        "FeatureList = tf.train.FeatureList\n",
        "FeatureLists = tf.train.FeatureLists\n",
        "SequenceExample = tf.train.SequenceExample\n",
        "\n",
        "context = Features(feature={\n",
        "    \"author_id\": Feature(int64_list=Int64List(value=[123])),\n",
        "    \"title\": Feature(bytes_list=BytesList(value=[b\"A\", b\"desert\", b\"place\", b\".\"])),\n",
        "    \"pub_date\": Feature(int64_list=Int64List(value=[1623, 12, 25]))\n",
        "})\n",
        "\n",
        "content = [[\"When\", \"shall\", \"we\", \"three\", \"meet\", \"again\", \"?\"],\n",
        "           [\"In\", \"thunder\", \",\", \"lightning\", \",\", \"or\", \"in\", \"rain\", \"?\"]]\n",
        "comments = [[\"When\", \"the\", \"hurlyburly\", \"'s\", \"done\", \".\"],\n",
        "            [\"When\", \"the\", \"battle\", \"'s\", \"lost\", \"and\", \"won\", \".\"]]\n",
        "\n",
        "def words_to_feature(words):\n",
        "    return Feature(bytes_list=BytesList(value=[word.encode(\"utf-8\")\n",
        "                                               for word in words]))\n",
        "\n",
        "content_features = [words_to_feature(sentence) for sentence in content]\n",
        "comments_features = [words_to_feature(comment) for comment in comments]\n",
        "            \n",
        "sequence_example = SequenceExample(\n",
        "    context=context,\n",
        "    feature_lists=FeatureLists(feature_list={\n",
        "        \"content\": FeatureList(feature=content_features),\n",
        "        \"comments\": FeatureList(feature=comments_features)\n",
        "    }))"
      ],
      "execution_count": 61,
      "outputs": []
    },
    {
      "cell_type": "code",
      "metadata": {
        "colab": {
          "base_uri": "https://localhost:8080/"
        },
        "id": "k9mcpH5xBTIZ",
        "outputId": "4fad5610-c131-47d2-b492-21961aa2a7a9"
      },
      "source": [
        "sequence_example"
      ],
      "execution_count": 62,
      "outputs": [
        {
          "output_type": "execute_result",
          "data": {
            "text/plain": [
              "context {\n",
              "  feature {\n",
              "    key: \"author_id\"\n",
              "    value {\n",
              "      int64_list {\n",
              "        value: 123\n",
              "      }\n",
              "    }\n",
              "  }\n",
              "  feature {\n",
              "    key: \"pub_date\"\n",
              "    value {\n",
              "      int64_list {\n",
              "        value: 1623\n",
              "        value: 12\n",
              "        value: 25\n",
              "      }\n",
              "    }\n",
              "  }\n",
              "  feature {\n",
              "    key: \"title\"\n",
              "    value {\n",
              "      bytes_list {\n",
              "        value: \"A\"\n",
              "        value: \"desert\"\n",
              "        value: \"place\"\n",
              "        value: \".\"\n",
              "      }\n",
              "    }\n",
              "  }\n",
              "}\n",
              "feature_lists {\n",
              "  feature_list {\n",
              "    key: \"comments\"\n",
              "    value {\n",
              "      feature {\n",
              "        bytes_list {\n",
              "          value: \"When\"\n",
              "          value: \"the\"\n",
              "          value: \"hurlyburly\"\n",
              "          value: \"\\'s\"\n",
              "          value: \"done\"\n",
              "          value: \".\"\n",
              "        }\n",
              "      }\n",
              "      feature {\n",
              "        bytes_list {\n",
              "          value: \"When\"\n",
              "          value: \"the\"\n",
              "          value: \"battle\"\n",
              "          value: \"\\'s\"\n",
              "          value: \"lost\"\n",
              "          value: \"and\"\n",
              "          value: \"won\"\n",
              "          value: \".\"\n",
              "        }\n",
              "      }\n",
              "    }\n",
              "  }\n",
              "  feature_list {\n",
              "    key: \"content\"\n",
              "    value {\n",
              "      feature {\n",
              "        bytes_list {\n",
              "          value: \"When\"\n",
              "          value: \"shall\"\n",
              "          value: \"we\"\n",
              "          value: \"three\"\n",
              "          value: \"meet\"\n",
              "          value: \"again\"\n",
              "          value: \"?\"\n",
              "        }\n",
              "      }\n",
              "      feature {\n",
              "        bytes_list {\n",
              "          value: \"In\"\n",
              "          value: \"thunder\"\n",
              "          value: \",\"\n",
              "          value: \"lightning\"\n",
              "          value: \",\"\n",
              "          value: \"or\"\n",
              "          value: \"in\"\n",
              "          value: \"rain\"\n",
              "          value: \"?\"\n",
              "        }\n",
              "      }\n",
              "    }\n",
              "  }\n",
              "}"
            ]
          },
          "metadata": {},
          "execution_count": 62
        }
      ]
    },
    {
      "cell_type": "code",
      "metadata": {
        "id": "43Xqa50HBVDD"
      },
      "source": [
        "serialized_sequence_example = sequence_example.SerializeToString()"
      ],
      "execution_count": 63,
      "outputs": []
    },
    {
      "cell_type": "code",
      "metadata": {
        "id": "xxEqpWGeBWZM"
      },
      "source": [
        "context_feature_descriptions = {\n",
        "    \"author_id\": tf.io.FixedLenFeature([], tf.int64, default_value=0),\n",
        "    \"title\": tf.io.VarLenFeature(tf.string),\n",
        "    \"pub_date\": tf.io.FixedLenFeature([3], tf.int64, default_value=[0, 0, 0]),\n",
        "}\n",
        "sequence_feature_descriptions = {\n",
        "    \"content\": tf.io.VarLenFeature(tf.string),\n",
        "    \"comments\": tf.io.VarLenFeature(tf.string),\n",
        "}\n",
        "parsed_context, parsed_feature_lists = tf.io.parse_single_sequence_example(\n",
        "    serialized_sequence_example, context_feature_descriptions,\n",
        "    sequence_feature_descriptions)"
      ],
      "execution_count": 64,
      "outputs": []
    },
    {
      "cell_type": "code",
      "metadata": {
        "colab": {
          "base_uri": "https://localhost:8080/"
        },
        "id": "o-Aij3VYBauu",
        "outputId": "afb5b5da-83e1-45ac-8309-70995dea9346"
      },
      "source": [
        "parsed_context"
      ],
      "execution_count": 65,
      "outputs": [
        {
          "output_type": "execute_result",
          "data": {
            "text/plain": [
              "{'author_id': <tf.Tensor: shape=(), dtype=int64, numpy=123>,\n",
              " 'pub_date': <tf.Tensor: shape=(3,), dtype=int64, numpy=array([1623,   12,   25])>,\n",
              " 'title': <tensorflow.python.framework.sparse_tensor.SparseTensor at 0x7f18b89be590>}"
            ]
          },
          "metadata": {},
          "execution_count": 65
        }
      ]
    },
    {
      "cell_type": "code",
      "metadata": {
        "colab": {
          "base_uri": "https://localhost:8080/"
        },
        "id": "bmOor_GZBbiU",
        "outputId": "f8ad3211-d892-4e4c-803a-7a68cd10f520"
      },
      "source": [
        "parsed_context[\"title\"].values"
      ],
      "execution_count": 66,
      "outputs": [
        {
          "output_type": "execute_result",
          "data": {
            "text/plain": [
              "<tf.Tensor: shape=(4,), dtype=string, numpy=array([b'A', b'desert', b'place', b'.'], dtype=object)>"
            ]
          },
          "metadata": {},
          "execution_count": 66
        }
      ]
    },
    {
      "cell_type": "code",
      "metadata": {
        "colab": {
          "base_uri": "https://localhost:8080/"
        },
        "id": "a_ELTgthBcXc",
        "outputId": "281da045-38e7-4ca9-a781-6c5f692db1d3"
      },
      "source": [
        "parsed_feature_lists"
      ],
      "execution_count": 67,
      "outputs": [
        {
          "output_type": "execute_result",
          "data": {
            "text/plain": [
              "{'comments': <tensorflow.python.framework.sparse_tensor.SparseTensor at 0x7f18b89bee90>,\n",
              " 'content': <tensorflow.python.framework.sparse_tensor.SparseTensor at 0x7f18b89be390>}"
            ]
          },
          "metadata": {},
          "execution_count": 67
        }
      ]
    },
    {
      "cell_type": "code",
      "metadata": {
        "colab": {
          "base_uri": "https://localhost:8080/"
        },
        "id": "tDeLUyGFBeAT",
        "outputId": "ab4ad93c-7687-4e8a-906a-25728e994009"
      },
      "source": [
        "print(tf.RaggedTensor.from_sparse(parsed_feature_lists[\"content\"]))"
      ],
      "execution_count": 68,
      "outputs": [
        {
          "output_type": "stream",
          "name": "stdout",
          "text": [
            "<tf.RaggedTensor [[b'When', b'shall', b'we', b'three', b'meet', b'again', b'?'], [b'In', b'thunder', b',', b'lightning', b',', b'or', b'in', b'rain', b'?']]>\n"
          ]
        }
      ]
    },
    {
      "cell_type": "markdown",
      "metadata": {
        "id": "pRdOXSCYBh6t"
      },
      "source": [
        "# Preprocessing the Input Features"
      ]
    },
    {
      "cell_type": "markdown",
      "metadata": {
        "id": "ZO9W0AWZBstc"
      },
      "source": [
        "Preparing your data for a neural network requires converting all features into numerical features, generally normalizing them, and more\n",
        "\n",
        "In particular, if your data contains categorical features or text features, they need to be converted to numbers. This can be done ahead of time when preparing your data files, using any tool you like (e.g., NumPy, pandas, or Scikit-Learn)\n",
        "\n",
        "Alternatively, you can preprocess your data on the fly when loading it with the Data API (e.g., using the dataset’s map() method), **or you can include a preprocessing layer directly in your model**\n",
        "\n",
        "For example, here is how you can implement a standardization layer using a lambda layer. For each feature, it subtracts the mean and divides by its standard deviation (plus a tiny smoothing term to avoid division by zero):"
      ]
    },
    {
      "cell_type": "code",
      "metadata": {
        "id": "yCRzXq4GBkRj"
      },
      "source": [
        "means = np.mean(X_train, axis=0, keepdims=True)\n",
        "stds = np.std(X_train, axis=0, keepdims=True)\n",
        "eps = keras.backend.epsilon()\n",
        "model = keras.models.Sequential([\n",
        "    keras.layers.Lambda(lambda inputs: (inputs - means) / (stds + eps)),\n",
        "    # [...] other layers\n",
        "])"
      ],
      "execution_count": 69,
      "outputs": []
    },
    {
      "cell_type": "markdown",
      "metadata": {
        "id": "Gdg_DmsDEiyu"
      },
      "source": [
        "However, you may prefer to use a nice self-contained custom layer (much like Scikit-Learn’s StandardScaler), rather than having global variables like means and stds dangling around:"
      ]
    },
    {
      "cell_type": "code",
      "metadata": {
        "id": "r9l8PV1pEp4C"
      },
      "source": [
        "keras.backend.clear_session()\n",
        "tf.random.set_seed(42)\n",
        "np.random.seed(42)\n",
        "\n",
        "class Standardization(keras.layers.Layer):\n",
        "    def adapt(self, data_sample):\n",
        "        self.means_ = np.mean(data_sample, axis=0, keepdims=True)\n",
        "        self.stds_ = np.std(data_sample, axis=0, keepdims=True)\n",
        "    def call(self, inputs):\n",
        "        return (inputs - self.means_) / (self.stds_ + keras.backend.epsilon())"
      ],
      "execution_count": 70,
      "outputs": []
    },
    {
      "cell_type": "markdown",
      "metadata": {
        "id": "HdMzjUV7E3rs"
      },
      "source": [
        "Before you can use this standardization layer, you will need to adapt it to your dataset by calling the adapt() method and passing it a data sample\n",
        "\n",
        "This will allow it to use the appropriate mean and standard deviation for each feature:"
      ]
    },
    {
      "cell_type": "code",
      "metadata": {
        "id": "vu0e3SrSFYt9"
      },
      "source": [
        "std_layer = Standardization()\n",
        "#std_layer.adapt(data_sample)"
      ],
      "execution_count": 71,
      "outputs": []
    },
    {
      "cell_type": "markdown",
      "metadata": {
        "id": "Yo9EkvLiGgFX"
      },
      "source": [
        "This sample must be large enough to be representative of your dataset, but it does not have to be the full training set: in general, a few hundred randomly selected instances will suffice (however, this depends on your task). Next, you can use this preprocessing layer like a normal layer:"
      ]
    },
    {
      "cell_type": "code",
      "metadata": {
        "id": "LINnJZAUGku2"
      },
      "source": [
        "model = keras.Sequential()\n",
        "model.add(std_layer)\n",
        "# create the rest of the model\n",
        "# model.compile([...])\n",
        "# model.fit([...])"
      ],
      "execution_count": 72,
      "outputs": []
    },
    {
      "cell_type": "markdown",
      "metadata": {
        "id": "YeNcInoMGwKc"
      },
      "source": [
        "If you are thinking that Keras should contain a standardization layer like this one, here’s some good news for you: by the time you read this, the keras.layers.Normalization layer will probably be available\n",
        "\n",
        "will work very much like our custom Standardization layer: first, create the layer, then adapt it to your dataset by passing a data sample to the adapt() method, and finally use the layer normally"
      ]
    },
    {
      "cell_type": "markdown",
      "metadata": {
        "id": "aXy115TdHBje"
      },
      "source": [
        "## Encoding Categorical Features Using One-Hot Vectors"
      ]
    },
    {
      "cell_type": "markdown",
      "metadata": {
        "id": "0p9fbEXrUfKd"
      },
      "source": [
        "Consider the ocean_proximity feature in the California housing dataset we explored in Chapter 2: it is a categorical feature with five possible values: \"<1H OCEAN\", \"INLAND\", \"NEAR OCEAN\", \"NEAR BAY\", and \"ISLAND\"\n",
        "\n",
        "We need to encode this feature before we feed it to a neural network. Since there are very few categories, we can use one-hot encoding\n",
        "\n",
        "For this, we first need to map each category to its index (0 to 4), which can be done using a lookup table:"
      ]
    },
    {
      "cell_type": "code",
      "metadata": {
        "id": "LcJnDeiyU4yV"
      },
      "source": [
        "vocab = [\"<1H OCEAN\", \"INLAND\", \"NEAR OCEAN\", \"NEAR BAY\", \"ISLAND\"]\n",
        "indices = tf.range(len(vocab), dtype=tf.int64)\n",
        "table_init = tf.lookup.KeyValueTensorInitializer(vocab, indices)\n",
        "num_oov_buckets = 2\n",
        "table = tf.lookup.StaticVocabularyTable(table_init, num_oov_buckets)"
      ],
      "execution_count": 73,
      "outputs": []
    },
    {
      "cell_type": "markdown",
      "metadata": {
        "id": "uetcGKGeVOYF"
      },
      "source": [
        "* We first define the vocabulary: this is the list of all possible categories\n",
        "\n",
        "* Then we create a tensor with the corresponding indices (0 to 4)\n",
        "\n",
        "* Next, we create an initializer for the lookup table, passing it the list of categories and their corresponding indices. In this example, we already have this data, so we use a KeyValueTensorInitializer; but if the categories were listed in a text file (with one category per line), we would use a TextFileInitializer instead\n",
        "\n",
        "* In the last two lines we create the lookup table, giving it the initializer and specifying the number **of out-of-vocabulary (oov) buckets. If we look up a category that does not exist in the vocabulary, the lookup table will compute a hash of this category and use it to assign the unknown category to one of the oov buckets**. Their indices start after the known categories, so in this example the indices of the two oov buckets are 5 and 6"
      ]
    },
    {
      "cell_type": "markdown",
      "metadata": {
        "id": "v-r9TuB0Vq3K"
      },
      "source": [
        "Why use oov buckets? Well, if the number of categories is large (e.g., zip codes, cities, words, products, or users) and the dataset is large as well, or it keeps changing, then getting the full list of categories may not be convenient\n",
        "\n",
        "One solution is to define the vocabulary based on a data sample (rather than the whole training set) and add some oov buckets for the other categories that were not in the data sample\n",
        "\n",
        "The more unknown categories you expect to find during training, the more oov buckets you should use. Indeed, if there are not enough oov buckets, there will be collisions: different categories will end up in the same bucket, so the neural network will not be able to distinguish them (at least not based on this feature)\n",
        "\n",
        "Now let’s use the lookup table to encode a small batch of categorical features to one-hot vectors:"
      ]
    },
    {
      "cell_type": "code",
      "metadata": {
        "colab": {
          "base_uri": "https://localhost:8080/"
        },
        "id": "osJOq3xkWE1g",
        "outputId": "28b363ea-1f50-46d9-b8d8-b6617fec6f15"
      },
      "source": [
        "categories = tf.constant([\"NEAR BAY\", \"DESERT\", \"INLAND\", \"INLAND\"])\n",
        "cat_indices = table.lookup(categories)\n",
        "cat_indices"
      ],
      "execution_count": 74,
      "outputs": [
        {
          "output_type": "execute_result",
          "data": {
            "text/plain": [
              "<tf.Tensor: shape=(4,), dtype=int64, numpy=array([3, 5, 1, 1])>"
            ]
          },
          "metadata": {},
          "execution_count": 74
        }
      ]
    },
    {
      "cell_type": "code",
      "metadata": {
        "colab": {
          "base_uri": "https://localhost:8080/"
        },
        "id": "5cjmphvTWSVt",
        "outputId": "3c9ff0c2-2cc5-4507-909b-65dc5254fcdd"
      },
      "source": [
        "cat_one_hot = tf.one_hot(cat_indices, depth=len(vocab) + num_oov_buckets)\n",
        "cat_one_hot"
      ],
      "execution_count": 75,
      "outputs": [
        {
          "output_type": "execute_result",
          "data": {
            "text/plain": [
              "<tf.Tensor: shape=(4, 7), dtype=float32, numpy=\n",
              "array([[0., 0., 0., 1., 0., 0., 0.],\n",
              "       [0., 0., 0., 0., 0., 1., 0.],\n",
              "       [0., 1., 0., 0., 0., 0., 0.],\n",
              "       [0., 1., 0., 0., 0., 0., 0.]], dtype=float32)>"
            ]
          },
          "metadata": {},
          "execution_count": 75
        }
      ]
    },
    {
      "cell_type": "markdown",
      "metadata": {
        "id": "jHbA0RRXWqNK"
      },
      "source": [
        "As you can see, \"NEAR BAY\" was mapped to index 3, the unknown category \"DESERT\" was mapped to one of the two oov buckets (at index 5), and \"INLAND\" was mapped to index 1, twice\n",
        "\n",
        "Then we used tf.one_hot() to one-hot encode these indices. Notice that we have to tell this function the total number of indices, which is equal to the vocabulary size plus the number of oov buckets\n",
        "\n",
        "Just like earlier, it wouldn’t be too difficult to bundle all of this logic into a nice self-contained class. Its adapt() method would take a data sample and extract all the distinct categories it contains. It would create a lookup table to map each category to its index (including unknown categories using oov buckets)\n",
        "\n",
        "Then its call() method would use the lookup table to map the input categories to their indices. Well, here’s more good news: \n",
        "\n",
        "by the time you read this, Keras will probably include a layer called keras.layers.TextVectorization, which will be capable of doing exactly that: its adapt() method will convert each category to its index in the vocabulary. You could add this layer at the beginning of your model, followed by a Lambda layer that would apply the tf.one_hot() function, if you want to convert these indices to one-hot vectors\n",
        "\n",
        "This may not be the best solution, though. The size of each one-hot vector is the vocabulary length plus the number of oov buckets. This is fine when there are just a few possible categories, but **if the vocabulary is large, it is much more efficient to encode them using embeddings instead**\n",
        "\n",
        "As a rule of thumb, **if the number of categories is lower than 10, then one-hot encoding is generally the way to go (but your mileage may vary!). If the number of categories is greater than 50 (which is often the case when you use hash buckets), then embeddings are usually preferable**. In between 10 and 50 categories, you may want to experiment with both options and see which one works best for your use case"
      ]
    },
    {
      "cell_type": "markdown",
      "metadata": {
        "id": "keiz5EM7gqyn"
      },
      "source": [
        "## Encoding Categorical Features Using Embeddings"
      ]
    },
    {
      "cell_type": "markdown",
      "metadata": {
        "id": "mbt4ff9Vgs8M"
      },
      "source": [
        "**An embedding is a trainable dense vector that represents a category**. By default, embeddings are initialized randomly, so for example the \"NEAR BAY\" category could be represented initially by a random vector such as [0.131, 0.890], while the \"NEAR OCEAN\" category might be represented by another random vector such as [0.631, 0.791]\n",
        "\n",
        "In this example, we use 2D embeddings, but the **number of dimensions is a hyperparameter** you can tweak. Since these embeddings are trainable, they will gradually improve during training; and as they represent fairly similar categories, Gradient Descent will certainly end up pushing them closer together, while it will tend to move them away from the \"INLAND\" category's embedding (see Figure 13-4)\n",
        "\n",
        "Indeed, the better the representation, the easier it will be for the neural network to make accurate predictions, so training tends to make embeddings useful representations of the categories. This is called representation learning"
      ]
    },
    {
      "cell_type": "markdown",
      "metadata": {
        "id": "zKN1PQJejAcg"
      },
      "source": [
        "<p align='center'>\n",
        "<img src='data:image/png;base64,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'>\n",
        "</p>\n",
        "Figure 13-4. Embeddings will gradually improve during training"
      ]
    },
    {
      "cell_type": "markdown",
      "metadata": {
        "id": "t915Mkb1jKFn"
      },
      "source": [
        "Let’s look at how we could implement embeddings manually, to understand how they work (then we will use a simple Keras layer instead)\n",
        "\n",
        "First, we need to create an embedding matrix containing each category’ embedding, initialized randomly; it will have one row per category and per oov bucket, and one column per embedding dimension:"
      ]
    },
    {
      "cell_type": "code",
      "metadata": {
        "id": "7SC8uNUJkMXt"
      },
      "source": [
        "embedding_dim = 2\n",
        "embed_init = tf.random.uniform([len(vocab) + num_oov_buckets,\n",
        "                                embedding_dim])\n",
        "embedding_matrix = tf.Variable(embed_init)"
      ],
      "execution_count": 76,
      "outputs": []
    },
    {
      "cell_type": "markdown",
      "metadata": {
        "id": "BzDdjqqEkZHb"
      },
      "source": [
        "In this example we are using 2D embeddings, but as a rule of thumb embeddings typically have 10 to 300 dimensions, depending on the task and the vocabulary size\n",
        "\n",
        "This embedding matrix is a random 6 x 2 matrix, stored in a variable (so it can be tweaked by Gradient Descent during training):"
      ]
    },
    {
      "cell_type": "code",
      "metadata": {
        "colab": {
          "base_uri": "https://localhost:8080/"
        },
        "id": "tUkiIwZwkpvk",
        "outputId": "77d295e0-9960-46bf-8842-07d3700bf39b"
      },
      "source": [
        "embedding_matrix"
      ],
      "execution_count": 77,
      "outputs": [
        {
          "output_type": "execute_result",
          "data": {
            "text/plain": [
              "<tf.Variable 'Variable:0' shape=(7, 2) dtype=float32, numpy=\n",
              "array([[0.6645621 , 0.44100678],\n",
              "       [0.3528825 , 0.46448255],\n",
              "       [0.03366041, 0.68467236],\n",
              "       [0.74011743, 0.8724445 ],\n",
              "       [0.22632635, 0.22319686],\n",
              "       [0.3103881 , 0.7223358 ],\n",
              "       [0.13318717, 0.5480639 ]], dtype=float32)>"
            ]
          },
          "metadata": {},
          "execution_count": 77
        }
      ]
    },
    {
      "cell_type": "markdown",
      "metadata": {
        "id": "0YMyPDyRkuBp"
      },
      "source": [
        "Now let’s encode the same batch of categorical features as earlier, but this time using these embeddings:"
      ]
    },
    {
      "cell_type": "code",
      "metadata": {
        "colab": {
          "base_uri": "https://localhost:8080/"
        },
        "id": "_rTDQrj0kwHV",
        "outputId": "94f53d9d-ac65-484f-cfda-f4a57e5980c1"
      },
      "source": [
        "categories = tf.constant([\"NEAR BAY\", \"DESERT\", \"INLAND\", \"INLAND\"])\n",
        "cat_indices = table.lookup(categories)\n",
        "cat_indices"
      ],
      "execution_count": 78,
      "outputs": [
        {
          "output_type": "execute_result",
          "data": {
            "text/plain": [
              "<tf.Tensor: shape=(4,), dtype=int64, numpy=array([3, 5, 1, 1])>"
            ]
          },
          "metadata": {},
          "execution_count": 78
        }
      ]
    },
    {
      "cell_type": "code",
      "metadata": {
        "colab": {
          "base_uri": "https://localhost:8080/"
        },
        "id": "R43djEuwk4q_",
        "outputId": "d687beb3-5aaa-421b-ebc3-740eac9cd449"
      },
      "source": [
        "tf.nn.embedding_lookup(embedding_matrix, cat_indices)"
      ],
      "execution_count": 79,
      "outputs": [
        {
          "output_type": "execute_result",
          "data": {
            "text/plain": [
              "<tf.Tensor: shape=(4, 2), dtype=float32, numpy=\n",
              "array([[0.74011743, 0.8724445 ],\n",
              "       [0.3103881 , 0.7223358 ],\n",
              "       [0.3528825 , 0.46448255],\n",
              "       [0.3528825 , 0.46448255]], dtype=float32)>"
            ]
          },
          "metadata": {},
          "execution_count": 79
        }
      ]
    },
    {
      "cell_type": "markdown",
      "metadata": {
        "id": "-Hv7a6WmlD5A"
      },
      "source": [
        "The tf.nn.embedding_lookup() function looks up the rows in the embedding matrix, at the given indices-that's all it does\n",
        "\n",
        "For example, the lookup table says that the \"INLAND\" category is at index 1, so the tf.nn.embedding_lookup() function returns the embedding at row 1 in the embedding matrix (twice): [0.3528825 , 0.46448255]\n",
        "\n",
        "**Keras provides a keras.layers.Embedding layer that handles the embedding matrix (trainable, by default); when the layer is created it initializes the embedding matrix randomly, and then when it is called with some category indices it returns the rows at those indices in the embedding matrix:**"
      ]
    },
    {
      "cell_type": "code",
      "metadata": {
        "colab": {
          "base_uri": "https://localhost:8080/"
        },
        "id": "HoNVMF2lmKix",
        "outputId": "65d909dd-00f2-4322-a648-f386a0affd81"
      },
      "source": [
        "embedding = keras.layers.Embedding(input_dim=len(vocab) + num_oov_buckets, \n",
        "                                   output_dim=embedding_dim)\n",
        "embedding(cat_indices)"
      ],
      "execution_count": 80,
      "outputs": [
        {
          "output_type": "execute_result",
          "data": {
            "text/plain": [
              "<tf.Tensor: shape=(4, 2), dtype=float32, numpy=\n",
              "array([[ 0.04467482,  0.02493341],\n",
              "       [-0.02383961,  0.01973433],\n",
              "       [ 0.04309944, -0.0247813 ],\n",
              "       [ 0.04309944, -0.0247813 ]], dtype=float32)>"
            ]
          },
          "metadata": {},
          "execution_count": 80
        }
      ]
    },
    {
      "cell_type": "markdown",
      "metadata": {
        "id": "dQztMoym77JT"
      },
      "source": [
        "Putting everything together, we can now create a Keras model that can process categorical features (along with regular numerical features) and learn an embedding for each category (as well as for each oov bucket):"
      ]
    },
    {
      "cell_type": "code",
      "metadata": {
        "id": "h8jWJtDK8AV6"
      },
      "source": [
        "regular_inputs = keras.layers.Input(shape=[8])\n",
        "categories = keras.layers.Input(shape=[], dtype=tf.string)\n",
        "cat_indices = keras.layers.Lambda(lambda cats: table.lookup(cats))(categories)\n",
        "cat_embed = keras.layers.Embedding(input_dim=6, output_dim=2)(cat_indices)\n",
        "encoded_inputs = keras.layers.concatenate([regular_inputs, cat_embed])\n",
        "outputs = keras.layers.Dense(1)(encoded_inputs)\n",
        "model = keras.models.Model(inputs=[regular_inputs, categories], outputs=[outputs])"
      ],
      "execution_count": 81,
      "outputs": []
    },
    {
      "cell_type": "markdown",
      "metadata": {
        "id": "fZ_0dQL59Jxi"
      },
      "source": [
        "This model takes two inputs: a regular input containing eight numerical features per instance, plus a categorical input (containing one categorical feature per instance)\n",
        "\n",
        "It uses a Lambda layer to look up each category's index, then it looks up the embeddings for these indices. Next, it concatenates the embeddings and the regular inputs in order to give the encoded inputs, which are ready to be fed to a neural network. We could add any kind of neural network at this point, but we just add a dense output layer, and we create the Keras model\n",
        "\n",
        "When the keras.layers.TextVectorization layer is available, you can call its adapt() method to make it extract the vocabulary from a data sample (it will take care of creating the lookup table for you). Then you can add it to your model, and it will perform the index lookup (replacing the Lambda layer in the previous code example)\n",
        "\n",
        "One-hot encoding followed by a Dense layer (with no activation function and no biases) is equivalent to an Embedding layer. However, the Embedding layer uses way fewer comptations (the performance difference becomes clear when the size of the embedding matrix grows)\n",
        "\n",
        "The Dense layer’s weight matrix plays the role of the embedding matrix. For example, using one-hot vectors of size 20 and a Dense layer with 10 units is equivalent to using an Embedding layer with input_dim=20. As a result, it would be wasteful to use more embedding dimensions than the number of units in the layer that follows the Embedding layer"
      ]
    },
    {
      "cell_type": "markdown",
      "metadata": {
        "id": "fCNK-i1D-1hr"
      },
      "source": [
        "### Word Embeddings"
      ]
    },
    {
      "cell_type": "markdown",
      "metadata": {
        "id": "QoKXSbuw-7am"
      },
      "source": [
        "Not only will embeddings generally be useful representations for the task at hand, but quite often these **same embeddings can be reused successfully for other tasks. The most common example of this is word embeddings (i.e., embeddings of individual words)**: when you are working on a natural language processing task, you are often better off reusing pretrained word embeddings than training your own\n",
        "\n",
        "In 2013, when Mikolov and other Google researchers published a [paper](https://arxiv.org/abs/1310.4546) describing an efficient technique to learn word embeddings using neural networks, significantly outperforming previous attempts\n",
        "\n",
        "This allowed them to learn embeddings on a very large corpus of text: they trained a neural network to predict the words near any given word, and obtained astounding word embeddings. **For example, synonyms had very close embeddings, and semantically related words such as France, Spain, and Italy ended up clustered together**\n",
        "\n",
        "It’s not just about proximity, though: word embeddings were also organized along meaningful axes in the embedding space. Here is a famous example: if you compute King – Man + Woman (adding and subtracting the embedding vectors of these words), then the result will be very close to the embedding of the word Queen (see Figure 13-5)\n",
        "\n",
        "In other words, the word embeddings encode the concept of gender! Similarly, you can compute Madrid – Spain + France, and the result is close to Paris, which seems to show that the notion of capital city was also encoded in the embeddings"
      ]
    },
    {
      "cell_type": "markdown",
      "metadata": {
        "id": "L-mHYtJJAU8L"
      },
      "source": [
        "<p align='center'>\n",
        "<img src='data:image/png;base64,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'>\n",
        "</p>\n",
        "Figure 13-5. Word embeddings of similar words tend to be close, and some axes seem to encode meaningful concepts"
      ]
    },
    {
      "cell_type": "markdown",
      "metadata": {
        "id": "nxE1VljIAhy-"
      },
      "source": [
        "Unfortunately, word embeddings sometimes capture our worst biases. For example, although they correctly learn that Man is to King as Woman is to Queen, they also seem to learn that Man is to Doctor as Woman is to Nurse: quite a sexist bias! To be fair, this particular example is probably exaggerated, as was pointed out in a [2019 paper](https://arxiv.org/abs/1905.09866) by Malvina Nissim et al. Nevertheless, ensuring fairness in Deep Learning algorithms is an important and active research topic"
      ]
    },
    {
      "cell_type": "markdown",
      "metadata": {
        "id": "V2L0ZqKZAz9n"
      },
      "source": [
        "## Keras Preprocessing Layers"
      ]
    },
    {
      "cell_type": "markdown",
      "metadata": {
        "id": "LA5ca6X2A3G8"
      },
      "source": [
        "The API will also include a keras.layers.Discretization layer that will chop continuous data into different bins and encode each bin as one-hot vector\n",
        "\n",
        "For example, you could use it to discretize prices into three categories, (low, medium, high), which would be encoded as [1, 0, 0], [0, 1, 0], and [0, 0, 1], respectively\n",
        "\n",
        "Of course this loses a lot of information, but in some cases it can help the model detect patterns that would otherwise not be obvious when just looking at the continuous values\n",
        "\n",
        "It will also be possible to chain multiple preprocessing layers using the Preprocessing Stage class. For example, the following code will create a preprocessing pipeline that will first normalize the inputs, then discretize them (this may remind you of Scikit-Learn pipelines)\n",
        "\n",
        "After you adapt this pipeline to a data sample, you can use it like a regular layer in your models (but again, **only at the start of the model, since it contains a nondifferentiable preprocessing layer)**:"
      ]
    },
    {
      "cell_type": "code",
      "metadata": {
        "id": "jTlaKNaDCopX"
      },
      "source": [
        "normalization = keras.layers.Normalization()\n",
        "discretization = keras.layers.Discretization()\n",
        "#pipeline = keras.layers.PreprocessingStage([normalization, discretization]) \n",
        "#No Arrtibute PreprocessingStage\n",
        "#pipeline.adapt(data_sample)"
      ],
      "execution_count": 82,
      "outputs": []
    },
    {
      "cell_type": "markdown",
      "metadata": {
        "id": "5tqRXRHsECbm"
      },
      "source": [
        "The TextVectorization layer will also have an option to output word-count vectors instead of word indices\n",
        "\n",
        "**For example, if the vocabulary contains three words, say [\"and\", \"basketball\", \"more\"], then the text \"more and more\" will be mapped to the vector [1, 0, 2]: the word \"and\" appears once, the word \"basketball\" does not appear at all, and the word \"more\" appears twice. This text representation is called a bag of words**, since it completely loses the order of the words\n",
        "\n",
        "Common words like \"and\" will have a large value in most texts, ven though they are usually the least interesting (e.g., in the text \"more and more basketball\" the word \"basketball\" is clearly the most important, precisely because it is not a very frequent word). So, **the word counts should be normalized in a way that reduces the importance of frequent words**\n",
        "\n",
        "A common way to do this is to **divide each word count by the log of the total number of training instances in which the word appears. This technique is called Term-Frequency Inverse-Document-Frequency (TF IDF)**\n",
        "\n",
        "For example, let's imagine that the words \"and\", \"basketball\", and \"more\" appear respectively in 200, 10, and 100 text instances in the training set: in this case, the final vector will be [1/log(200), 0/log(10), 2/log(100)], which is approximately equal to [0.19, 0., 0.43]. The Textvectorization layer will have an option to perform TF-IDF"
      ]
    },
    {
      "cell_type": "markdown",
      "metadata": {
        "id": "z1lHo3S_GcPu"
      },
      "source": [
        "# TF Transform"
      ]
    },
    {
      "cell_type": "markdown",
      "metadata": {
        "id": "6CAYWfjKGdfu"
      },
      "source": [
        "If preprocessing is computationally expensive, then handling it before training rather than on the fly may give you a significant speedup: the data will be preprocessed just once per instance before training, rather than once per instance and per epoch during training\n",
        "\n",
        "As mentioned earlier, if the dataset is small enough to fit in RAM, you can use its cache() method. **But if it is too large, then tools like Apache Beam or Spark will help. They let you run efficient data processing pipelines over large amounts of data, even distributed across multiple servers, so you can use them to preprocess all the training data before training**\n",
        "\n",
        "This works great and indeed can speed up training, but there is one problem: once your model is trained, suppose you want to deploy it to a mobile app. In that case you will need to write some code in your app to take care of preprocessing the data before it is fed to the model. And suppose you also want to deploy the model to TensorFlow.js so that it runs in a web browser?\n",
        "\n",
        "Once again, you will need to write some preprocessing code. This can become a maintenance nightmare: whenever you want to change the preprocessing logic, you will need to update your Apache Beam code, your mobile app code, and your JavaScript code. This is not only time-consuming, but also error-prone: you may end up with subtle differences between the preprocessing operations performed before training and the ones performed in your app or in the browser. This **training/serving skew** will lead to bugs or degraded performance\n",
        "\n",
        "**One improvement would be to take the trained model (trained on data that was preprocessed by your Apache Beam or Spark code) and, before deploying it to your app or the browser, add extra preprocessing layers to take care of preprocessing on the fly**. That’s definitely better, since now you just have two versions of your preprocessing code: the Apache Beam or Spark code, and the preprocessing layers’ code\n",
        "\n",
        "**But what if you could define your preprocessing operations just once? This is what TF Transform was designed for**. It is part of [TensorFlow Extended (TFX)](https://www.tensorflow.org/tfx), an end-to-end platform for productionizing TensorFlow models\n",
        "\n",
        "First, to use a TFX component such as TF Transform, you must install it; it does not come bundled with TensorFlow. You then define your preprocessing function just once (in Python), by using TF Transform functions for scaling, bucketizing, and more\n",
        "\n",
        "You can also use any TensorFlow operation you need. Here is what this preprocessing function might look like if we just had two features:"
      ]
    },
    {
      "cell_type": "code",
      "metadata": {
        "colab": {
          "base_uri": "https://localhost:8080/"
        },
        "id": "UqtzqpjXLzwC",
        "outputId": "8f96f94c-8ccc-4e7b-e511-21b2cfd91413"
      },
      "source": [
        "!pip install tensorflow_transform"
      ],
      "execution_count": 83,
      "outputs": [
        {
          "output_type": "stream",
          "name": "stdout",
          "text": [
            "Requirement already satisfied: tensorflow_transform in /usr/local/lib/python3.7/dist-packages (1.3.0)\n",
            "Requirement already satisfied: protobuf<4,>=3.13 in /usr/local/lib/python3.7/dist-packages (from tensorflow_transform) (3.17.3)\n",
            "Requirement already satisfied: tensorflow!=2.0.*,!=2.1.*,!=2.2.*,!=2.3.*,!=2.4.*,!=2.5.*,<2.7,>=1.15.2 in /usr/local/lib/python3.7/dist-packages (from tensorflow_transform) (2.6.0)\n",
            "Requirement already satisfied: apache-beam[gcp]<3,>=2.31 in /usr/local/lib/python3.7/dist-packages (from tensorflow_transform) (2.32.0)\n",
            "Requirement already satisfied: tfx-bsl<1.4.0,>=1.3.0 in /usr/local/lib/python3.7/dist-packages (from tensorflow_transform) (1.3.0)\n",
            "Requirement already satisfied: numpy<1.20,>=1.16 in /usr/local/lib/python3.7/dist-packages (from tensorflow_transform) (1.19.5)\n",
            "Requirement already satisfied: pydot<2,>=1.2 in /usr/local/lib/python3.7/dist-packages (from tensorflow_transform) (1.3.0)\n",
            "Requirement already satisfied: absl-py<0.13,>=0.9 in /usr/local/lib/python3.7/dist-packages (from tensorflow_transform) (0.12.0)\n",
            "Requirement already satisfied: tensorflow-metadata<1.3.0,>=1.2.0 in /usr/local/lib/python3.7/dist-packages (from tensorflow_transform) (1.2.0)\n",
            "Requirement already satisfied: pyarrow<3,>=1 in /usr/local/lib/python3.7/dist-packages (from tensorflow_transform) (2.0.0)\n",
            "Requirement already satisfied: six in /usr/local/lib/python3.7/dist-packages (from absl-py<0.13,>=0.9->tensorflow_transform) (1.15.0)\n",
            "Requirement already satisfied: httplib2<0.20.0,>=0.8 in /usr/local/lib/python3.7/dist-packages (from apache-beam[gcp]<3,>=2.31->tensorflow_transform) (0.17.4)\n",
            "Requirement already satisfied: requests<3.0.0,>=2.24.0 in /usr/local/lib/python3.7/dist-packages (from apache-beam[gcp]<3,>=2.31->tensorflow_transform) (2.26.0)\n",
            "Requirement already satisfied: pytz>=2018.3 in /usr/local/lib/python3.7/dist-packages (from apache-beam[gcp]<3,>=2.31->tensorflow_transform) (2018.9)\n",
            "Requirement already satisfied: python-dateutil<3,>=2.8.0 in /usr/local/lib/python3.7/dist-packages (from apache-beam[gcp]<3,>=2.31->tensorflow_transform) (2.8.2)\n",
            "Requirement already satisfied: grpcio<2,>=1.29.0 in /usr/local/lib/python3.7/dist-packages (from apache-beam[gcp]<3,>=2.31->tensorflow_transform) (1.39.0)\n",
            "Requirement already satisfied: typing-extensions<3.8.0,>=3.7.0 in /usr/local/lib/python3.7/dist-packages (from apache-beam[gcp]<3,>=2.31->tensorflow_transform) (3.7.4.3)\n",
            "Requirement already satisfied: hdfs<3.0.0,>=2.1.0 in /usr/local/lib/python3.7/dist-packages (from apache-beam[gcp]<3,>=2.31->tensorflow_transform) (2.6.0)\n",
            "Requirement already satisfied: avro-python3!=1.9.2,<1.10.0,>=1.8.1 in /usr/local/lib/python3.7/dist-packages (from apache-beam[gcp]<3,>=2.31->tensorflow_transform) (1.9.2.1)\n",
            "Requirement already satisfied: crcmod<2.0,>=1.7 in /usr/local/lib/python3.7/dist-packages (from apache-beam[gcp]<3,>=2.31->tensorflow_transform) (1.7)\n",
            "Requirement already satisfied: fastavro<2,>=0.21.4 in /usr/local/lib/python3.7/dist-packages (from apache-beam[gcp]<3,>=2.31->tensorflow_transform) (1.4.4)\n",
            "Requirement already satisfied: dill<0.3.2,>=0.3.1.1 in /usr/local/lib/python3.7/dist-packages (from apache-beam[gcp]<3,>=2.31->tensorflow_transform) (0.3.1.1)\n",
            "Requirement already satisfied: pymongo<4.0.0,>=3.8.0 in /usr/local/lib/python3.7/dist-packages (from apache-beam[gcp]<3,>=2.31->tensorflow_transform) (3.12.0)\n",
            "Requirement already satisfied: orjson<4.0 in /usr/local/lib/python3.7/dist-packages (from apache-beam[gcp]<3,>=2.31->tensorflow_transform) (3.6.3)\n",
            "Requirement already satisfied: oauth2client<5,>=2.0.1 in /usr/local/lib/python3.7/dist-packages (from apache-beam[gcp]<3,>=2.31->tensorflow_transform) (4.1.3)\n",
            "Requirement already satisfied: future<1.0.0,>=0.18.2 in /usr/local/lib/python3.7/dist-packages (from apache-beam[gcp]<3,>=2.31->tensorflow_transform) (0.18.2)\n",
            "Requirement already satisfied: google-cloud-core<2,>=0.28.1 in /usr/local/lib/python3.7/dist-packages (from apache-beam[gcp]<3,>=2.31->tensorflow_transform) (1.7.2)\n",
            "Requirement already satisfied: grpcio-gcp<1,>=0.2.2 in /usr/local/lib/python3.7/dist-packages (from apache-beam[gcp]<3,>=2.31->tensorflow_transform) (0.2.2)\n",
            "Requirement already satisfied: google-auth<2,>=1.18.0 in /usr/local/lib/python3.7/dist-packages (from apache-beam[gcp]<3,>=2.31->tensorflow_transform) (1.34.0)\n",
            "Requirement already satisfied: google-cloud-bigquery<3,>=1.6.0 in /usr/local/lib/python3.7/dist-packages (from apache-beam[gcp]<3,>=2.31->tensorflow_transform) (1.21.0)\n",
            "Requirement already satisfied: google-cloud-language<2,>=1.3.0 in /usr/local/lib/python3.7/dist-packages (from apache-beam[gcp]<3,>=2.31->tensorflow_transform) (1.3.0)\n",
            "Requirement already satisfied: cachetools<5,>=3.1.0 in /usr/local/lib/python3.7/dist-packages (from apache-beam[gcp]<3,>=2.31->tensorflow_transform) (4.2.2)\n",
            "Requirement already satisfied: google-apitools<0.5.32,>=0.5.31 in /usr/local/lib/python3.7/dist-packages (from apache-beam[gcp]<3,>=2.31->tensorflow_transform) (0.5.31)\n",
            "Requirement already satisfied: google-cloud-vision<2,>=0.38.0 in /usr/local/lib/python3.7/dist-packages (from apache-beam[gcp]<3,>=2.31->tensorflow_transform) (1.0.0)\n",
            "Requirement already satisfied: google-cloud-recommendations-ai<=0.2.0,>=0.1.0 in /usr/local/lib/python3.7/dist-packages (from apache-beam[gcp]<3,>=2.31->tensorflow_transform) (0.2.0)\n",
            "Requirement already satisfied: google-cloud-videointelligence<2,>=1.8.0 in /usr/local/lib/python3.7/dist-packages (from apache-beam[gcp]<3,>=2.31->tensorflow_transform) (1.16.1)\n",
            "Requirement already satisfied: google-cloud-pubsub<2,>=0.39.0 in /usr/local/lib/python3.7/dist-packages (from apache-beam[gcp]<3,>=2.31->tensorflow_transform) (1.7.0)\n",
            "Requirement already satisfied: google-cloud-bigtable<2,>=0.31.1 in /usr/local/lib/python3.7/dist-packages (from apache-beam[gcp]<3,>=2.31->tensorflow_transform) (1.7.0)\n",
            "Requirement already satisfied: google-cloud-dlp<2,>=0.12.0 in /usr/local/lib/python3.7/dist-packages (from apache-beam[gcp]<3,>=2.31->tensorflow_transform) (1.0.0)\n",
            "Requirement already satisfied: google-cloud-datastore<2,>=1.8.0 in /usr/local/lib/python3.7/dist-packages (from apache-beam[gcp]<3,>=2.31->tensorflow_transform) (1.8.0)\n",
            "Requirement already satisfied: google-cloud-spanner<2,>=1.13.0 in /usr/local/lib/python3.7/dist-packages (from apache-beam[gcp]<3,>=2.31->tensorflow_transform) (1.19.1)\n",
            "Requirement already satisfied: fasteners>=0.14 in /usr/local/lib/python3.7/dist-packages (from google-apitools<0.5.32,>=0.5.31->apache-beam[gcp]<3,>=2.31->tensorflow_transform) (0.16.3)\n",
            "Requirement already satisfied: rsa<5,>=3.1.4 in /usr/local/lib/python3.7/dist-packages (from google-auth<2,>=1.18.0->apache-beam[gcp]<3,>=2.31->tensorflow_transform) (4.7.2)\n",
            "Requirement already satisfied: pyasn1-modules>=0.2.1 in /usr/local/lib/python3.7/dist-packages (from google-auth<2,>=1.18.0->apache-beam[gcp]<3,>=2.31->tensorflow_transform) (0.2.8)\n",
            "Requirement already satisfied: setuptools>=40.3.0 in /usr/local/lib/python3.7/dist-packages (from google-auth<2,>=1.18.0->apache-beam[gcp]<3,>=2.31->tensorflow_transform) (57.4.0)\n",
            "Requirement already satisfied: google-resumable-media!=0.4.0,<0.5.0dev,>=0.3.1 in /usr/local/lib/python3.7/dist-packages (from google-cloud-bigquery<3,>=1.6.0->apache-beam[gcp]<3,>=2.31->tensorflow_transform) (0.4.1)\n",
            "Requirement already satisfied: google-api-core[grpc]<2.0.0dev,>=1.14.0 in /usr/local/lib/python3.7/dist-packages (from google-cloud-bigtable<2,>=0.31.1->apache-beam[gcp]<3,>=2.31->tensorflow_transform) (1.26.3)\n",
            "Requirement already satisfied: grpc-google-iam-v1<0.13dev,>=0.12.3 in /usr/local/lib/python3.7/dist-packages (from google-cloud-bigtable<2,>=0.31.1->apache-beam[gcp]<3,>=2.31->tensorflow_transform) (0.12.3)\n",
            "Requirement already satisfied: packaging>=14.3 in /usr/local/lib/python3.7/dist-packages (from google-api-core[grpc]<2.0.0dev,>=1.14.0->google-cloud-bigtable<2,>=0.31.1->apache-beam[gcp]<3,>=2.31->tensorflow_transform) (21.0)\n",
            "Requirement already satisfied: googleapis-common-protos<2.0dev,>=1.6.0 in /usr/local/lib/python3.7/dist-packages (from google-api-core[grpc]<2.0.0dev,>=1.14.0->google-cloud-bigtable<2,>=0.31.1->apache-beam[gcp]<3,>=2.31->tensorflow_transform) (1.53.0)\n",
            "Requirement already satisfied: proto-plus>=1.15.0 in /usr/local/lib/python3.7/dist-packages (from google-cloud-recommendations-ai<=0.2.0,>=0.1.0->apache-beam[gcp]<3,>=2.31->tensorflow_transform) (1.19.0)\n",
            "Requirement already satisfied: docopt in /usr/local/lib/python3.7/dist-packages (from hdfs<3.0.0,>=2.1.0->apache-beam[gcp]<3,>=2.31->tensorflow_transform) (0.6.2)\n",
            "Requirement already satisfied: pyasn1>=0.1.7 in /usr/local/lib/python3.7/dist-packages (from oauth2client<5,>=2.0.1->apache-beam[gcp]<3,>=2.31->tensorflow_transform) (0.4.8)\n",
            "Requirement already satisfied: pyparsing>=2.0.2 in /usr/local/lib/python3.7/dist-packages (from packaging>=14.3->google-api-core[grpc]<2.0.0dev,>=1.14.0->google-cloud-bigtable<2,>=0.31.1->apache-beam[gcp]<3,>=2.31->tensorflow_transform) (2.4.7)\n",
            "Requirement already satisfied: charset-normalizer~=2.0.0 in /usr/local/lib/python3.7/dist-packages (from requests<3.0.0,>=2.24.0->apache-beam[gcp]<3,>=2.31->tensorflow_transform) (2.0.4)\n",
            "Requirement already satisfied: idna<4,>=2.5 in /usr/local/lib/python3.7/dist-packages (from requests<3.0.0,>=2.24.0->apache-beam[gcp]<3,>=2.31->tensorflow_transform) (2.10)\n",
            "Requirement already satisfied: urllib3<1.27,>=1.21.1 in /usr/local/lib/python3.7/dist-packages (from requests<3.0.0,>=2.24.0->apache-beam[gcp]<3,>=2.31->tensorflow_transform) (1.24.3)\n",
            "Requirement already satisfied: certifi>=2017.4.17 in /usr/local/lib/python3.7/dist-packages (from requests<3.0.0,>=2.24.0->apache-beam[gcp]<3,>=2.31->tensorflow_transform) (2021.5.30)\n",
            "Requirement already satisfied: astunparse~=1.6.3 in /usr/local/lib/python3.7/dist-packages (from tensorflow!=2.0.*,!=2.1.*,!=2.2.*,!=2.3.*,!=2.4.*,!=2.5.*,<2.7,>=1.15.2->tensorflow_transform) (1.6.3)\n",
            "Requirement already satisfied: keras~=2.6 in /usr/local/lib/python3.7/dist-packages (from tensorflow!=2.0.*,!=2.1.*,!=2.2.*,!=2.3.*,!=2.4.*,!=2.5.*,<2.7,>=1.15.2->tensorflow_transform) (2.6.0)\n",
            "Requirement already satisfied: termcolor~=1.1.0 in /usr/local/lib/python3.7/dist-packages (from tensorflow!=2.0.*,!=2.1.*,!=2.2.*,!=2.3.*,!=2.4.*,!=2.5.*,<2.7,>=1.15.2->tensorflow_transform) (1.1.0)\n",
            "Requirement already satisfied: tensorboard~=2.6 in /usr/local/lib/python3.7/dist-packages (from tensorflow!=2.0.*,!=2.1.*,!=2.2.*,!=2.3.*,!=2.4.*,!=2.5.*,<2.7,>=1.15.2->tensorflow_transform) (2.6.0)\n",
            "Requirement already satisfied: wheel~=0.35 in /usr/local/lib/python3.7/dist-packages (from tensorflow!=2.0.*,!=2.1.*,!=2.2.*,!=2.3.*,!=2.4.*,!=2.5.*,<2.7,>=1.15.2->tensorflow_transform) (0.37.0)\n",
            "Requirement already satisfied: gast==0.4.0 in /usr/local/lib/python3.7/dist-packages (from tensorflow!=2.0.*,!=2.1.*,!=2.2.*,!=2.3.*,!=2.4.*,!=2.5.*,<2.7,>=1.15.2->tensorflow_transform) (0.4.0)\n",
            "Requirement already satisfied: google-pasta~=0.2 in /usr/local/lib/python3.7/dist-packages (from tensorflow!=2.0.*,!=2.1.*,!=2.2.*,!=2.3.*,!=2.4.*,!=2.5.*,<2.7,>=1.15.2->tensorflow_transform) (0.2.0)\n",
            "Requirement already satisfied: h5py~=3.1.0 in /usr/local/lib/python3.7/dist-packages (from tensorflow!=2.0.*,!=2.1.*,!=2.2.*,!=2.3.*,!=2.4.*,!=2.5.*,<2.7,>=1.15.2->tensorflow_transform) (3.1.0)\n",
            "Requirement already satisfied: opt-einsum~=3.3.0 in /usr/local/lib/python3.7/dist-packages (from tensorflow!=2.0.*,!=2.1.*,!=2.2.*,!=2.3.*,!=2.4.*,!=2.5.*,<2.7,>=1.15.2->tensorflow_transform) (3.3.0)\n",
            "Requirement already satisfied: keras-preprocessing~=1.1.2 in /usr/local/lib/python3.7/dist-packages (from tensorflow!=2.0.*,!=2.1.*,!=2.2.*,!=2.3.*,!=2.4.*,!=2.5.*,<2.7,>=1.15.2->tensorflow_transform) (1.1.2)\n",
            "Requirement already satisfied: wrapt~=1.12.1 in /usr/local/lib/python3.7/dist-packages (from tensorflow!=2.0.*,!=2.1.*,!=2.2.*,!=2.3.*,!=2.4.*,!=2.5.*,<2.7,>=1.15.2->tensorflow_transform) (1.12.1)\n",
            "Requirement already satisfied: flatbuffers~=1.12.0 in /usr/local/lib/python3.7/dist-packages (from tensorflow!=2.0.*,!=2.1.*,!=2.2.*,!=2.3.*,!=2.4.*,!=2.5.*,<2.7,>=1.15.2->tensorflow_transform) (1.12)\n",
            "Requirement already satisfied: clang~=5.0 in /usr/local/lib/python3.7/dist-packages (from tensorflow!=2.0.*,!=2.1.*,!=2.2.*,!=2.3.*,!=2.4.*,!=2.5.*,<2.7,>=1.15.2->tensorflow_transform) (5.0)\n",
            "Requirement already satisfied: tensorflow-estimator~=2.6 in /usr/local/lib/python3.7/dist-packages (from tensorflow!=2.0.*,!=2.1.*,!=2.2.*,!=2.3.*,!=2.4.*,!=2.5.*,<2.7,>=1.15.2->tensorflow_transform) (2.6.0)\n",
            "Requirement already satisfied: cached-property in /usr/local/lib/python3.7/dist-packages (from h5py~=3.1.0->tensorflow!=2.0.*,!=2.1.*,!=2.2.*,!=2.3.*,!=2.4.*,!=2.5.*,<2.7,>=1.15.2->tensorflow_transform) (1.5.2)\n",
            "Requirement already satisfied: werkzeug>=0.11.15 in /usr/local/lib/python3.7/dist-packages (from tensorboard~=2.6->tensorflow!=2.0.*,!=2.1.*,!=2.2.*,!=2.3.*,!=2.4.*,!=2.5.*,<2.7,>=1.15.2->tensorflow_transform) (1.0.1)\n",
            "Requirement already satisfied: google-auth-oauthlib<0.5,>=0.4.1 in /usr/local/lib/python3.7/dist-packages (from tensorboard~=2.6->tensorflow!=2.0.*,!=2.1.*,!=2.2.*,!=2.3.*,!=2.4.*,!=2.5.*,<2.7,>=1.15.2->tensorflow_transform) (0.4.5)\n",
            "Requirement already satisfied: tensorboard-plugin-wit>=1.6.0 in /usr/local/lib/python3.7/dist-packages (from tensorboard~=2.6->tensorflow!=2.0.*,!=2.1.*,!=2.2.*,!=2.3.*,!=2.4.*,!=2.5.*,<2.7,>=1.15.2->tensorflow_transform) (1.8.0)\n",
            "Requirement already satisfied: markdown>=2.6.8 in /usr/local/lib/python3.7/dist-packages (from tensorboard~=2.6->tensorflow!=2.0.*,!=2.1.*,!=2.2.*,!=2.3.*,!=2.4.*,!=2.5.*,<2.7,>=1.15.2->tensorflow_transform) (3.3.4)\n",
            "Requirement already satisfied: tensorboard-data-server<0.7.0,>=0.6.0 in /usr/local/lib/python3.7/dist-packages (from tensorboard~=2.6->tensorflow!=2.0.*,!=2.1.*,!=2.2.*,!=2.3.*,!=2.4.*,!=2.5.*,<2.7,>=1.15.2->tensorflow_transform) (0.6.1)\n",
            "Requirement already satisfied: requests-oauthlib>=0.7.0 in /usr/local/lib/python3.7/dist-packages (from google-auth-oauthlib<0.5,>=0.4.1->tensorboard~=2.6->tensorflow!=2.0.*,!=2.1.*,!=2.2.*,!=2.3.*,!=2.4.*,!=2.5.*,<2.7,>=1.15.2->tensorflow_transform) (1.3.0)\n",
            "Requirement already satisfied: importlib-metadata in /usr/local/lib/python3.7/dist-packages (from markdown>=2.6.8->tensorboard~=2.6->tensorflow!=2.0.*,!=2.1.*,!=2.2.*,!=2.3.*,!=2.4.*,!=2.5.*,<2.7,>=1.15.2->tensorflow_transform) (4.6.4)\n",
            "Requirement already satisfied: oauthlib>=3.0.0 in /usr/local/lib/python3.7/dist-packages (from requests-oauthlib>=0.7.0->google-auth-oauthlib<0.5,>=0.4.1->tensorboard~=2.6->tensorflow!=2.0.*,!=2.1.*,!=2.2.*,!=2.3.*,!=2.4.*,!=2.5.*,<2.7,>=1.15.2->tensorflow_transform) (3.1.1)\n",
            "Requirement already satisfied: google-api-python-client<2,>=1.7.11 in /usr/local/lib/python3.7/dist-packages (from tfx-bsl<1.4.0,>=1.3.0->tensorflow_transform) (1.12.8)\n",
            "Requirement already satisfied: pandas<2,>=1.0 in /usr/local/lib/python3.7/dist-packages (from tfx-bsl<1.4.0,>=1.3.0->tensorflow_transform) (1.1.5)\n",
            "Requirement already satisfied: tensorflow-serving-api!=2.0.*,!=2.1.*,!=2.2.*,!=2.3.*,!=2.4.*,!=2.5.*,<3,>=1.15 in /usr/local/lib/python3.7/dist-packages (from tfx-bsl<1.4.0,>=1.3.0->tensorflow_transform) (2.6.0)\n",
            "Requirement already satisfied: google-auth-httplib2>=0.0.3 in /usr/local/lib/python3.7/dist-packages (from google-api-python-client<2,>=1.7.11->tfx-bsl<1.4.0,>=1.3.0->tensorflow_transform) (0.0.4)\n",
            "Requirement already satisfied: uritemplate<4dev,>=3.0.0 in /usr/local/lib/python3.7/dist-packages (from google-api-python-client<2,>=1.7.11->tfx-bsl<1.4.0,>=1.3.0->tensorflow_transform) (3.0.1)\n",
            "Requirement already satisfied: zipp>=0.5 in /usr/local/lib/python3.7/dist-packages (from importlib-metadata->markdown>=2.6.8->tensorboard~=2.6->tensorflow!=2.0.*,!=2.1.*,!=2.2.*,!=2.3.*,!=2.4.*,!=2.5.*,<2.7,>=1.15.2->tensorflow_transform) (3.5.0)\n"
          ]
        }
      ]
    },
    {
      "cell_type": "code",
      "metadata": {
        "id": "cFt7k1qpL5v-"
      },
      "source": [
        "import tensorflow_transform as tft\n",
        "\n",
        "def preprocess(inputs): # inputs = a batch of input features\n",
        "  median_age = inputs['housing_median_age']\n",
        "  ocean_proximity = inputs['ocean_proximity']\n",
        "  standardized_age = tft.scale_to_z_score(median_age)\n",
        "  ocean_proximity_id = tft.compute_and_apply_vocabulary(ocean_proximity)\n",
        "  return {\n",
        "      'standardixed_median_age': standardized_age,\n",
        "      'ocean_proximity_id': ocean_proximity_id\n",
        "  }"
      ],
      "execution_count": 86,
      "outputs": []
    },
    {
      "cell_type": "markdown",
      "metadata": {
        "id": "bg210WIwMotE"
      },
      "source": [
        "Next, TF Transform lets you apply this preprocess() function to the whole training set using Apache Beam (it provides an AnalyzeAndTransformDataset class that you can use for this purpose in your Apache Beam pipeline)\n",
        "\n",
        "In the process, it will also compute all the necessary statistics over the whole training set: in this example, the mean and standard deviation of the housing_median_age feature, and the vocabulary for the ocean_proximity feature. The components that compute these statistics are called analyzers\n",
        "\n",
        "Importantly, TF Transform will also generate an equivalent TensorFlow Function that you can plug into the model you deploy. This TF Function includes some constants that correspond to all the all the necessary statistics computed by Apache Beam (the mean, standard deviation, and vocabulary)\n",
        "\n",
        "With the Data API, TFRecords, the Keras preprocessing layers, and TF Transform, you can build highly scalable input pipelines for training and benefit from fast and portable data preprocessing in production"
      ]
    },
    {
      "cell_type": "markdown",
      "metadata": {
        "id": "8YnNYmE-Monf"
      },
      "source": [
        "# The TensorFlow Datasets (TFDS) Project"
      ]
    },
    {
      "cell_type": "markdown",
      "metadata": {
        "id": "WcO_rWl2NVdd"
      },
      "source": [
        "The [TensorFlow Datasets](https://www.tensorflow.org/datasets) project makes it very easy to download common datasets, from small ones like MNIST or Fashion MNIST to huge datasets like ImageNet. The list includes image datasets, text datasets (including translation datasets), and audio and video datasets\n",
        "\n",
        "You can visit [Tensor Flow Datasets](https://www.tensorflow.org/datasets/) to view the full list, along with a description of each dataset\n",
        "\n",
        "TFDS is not bundled with TensorFlow, so you need to install the tensorflow-datasets library. Then call the tfds.load() function, and it will download the data you want and return the data as a dictionary of datasets\n",
        "\n",
        "For example, let's download MNIST:\n"
      ]
    },
    {
      "cell_type": "code",
      "metadata": {
        "colab": {
          "base_uri": "https://localhost:8080/",
          "height": 205,
          "referenced_widgets": [
            "6ec303dd286e4400a03366a69d586f9b",
            "97b93ee83156495a8ed2c94e16992635",
            "748cf0da459a4b8cb9896332785873a8",
            "bd563092f3d6414c9634267570c084cc",
            "ac55d46ff06446589665f2e9cadec0b5",
            "b526ced9829544888a8ddf8f55c262c0",
            "860e12c803194e2e97b72ff54d1e59ff",
            "d61e8bf40dc245ce9a9665c73307bafc",
            "0c3e62448edc405a9f1ae1a18d0e3f2a",
            "adad560308064b25b381e91cefcbf24b",
            "b7a7c61056bc4dd08c56b27029c1710c"
          ]
        },
        "id": "RnZgEs5OOZor",
        "outputId": "be172518-7dfc-4563-f2fe-b24d3177b931"
      },
      "source": [
        "import tensorflow_datasets as tfds\n",
        "\n",
        "dataset = tfds.load(name='mnist')\n",
        "mnist_train, mnist_test = dataset['train'], dataset['test']"
      ],
      "execution_count": 88,
      "outputs": [
        {
          "output_type": "stream",
          "name": "stdout",
          "text": [
            "\u001b[1mDownloading and preparing dataset mnist/3.0.1 (download: 11.06 MiB, generated: 21.00 MiB, total: 32.06 MiB) to /root/tensorflow_datasets/mnist/3.0.1...\u001b[0m\n"
          ]
        },
        {
          "output_type": "stream",
          "name": "stderr",
          "text": [
            "WARNING:absl:Dataset mnist is hosted on GCS. It will automatically be downloaded to your\n",
            "local data directory. If you'd instead prefer to read directly from our public\n",
            "GCS bucket (recommended if you're running on GCP), you can instead pass\n",
            "`try_gcs=True` to `tfds.load` or set `data_dir=gs://tfds-data/datasets`.\n",
            "\n"
          ]
        },
        {
          "output_type": "display_data",
          "data": {
            "application/vnd.jupyter.widget-view+json": {
              "model_id": "6ec303dd286e4400a03366a69d586f9b",
              "version_minor": 0,
              "version_major": 2
            },
            "text/plain": [
              "Dl Completed...:   0%|          | 0/4 [00:00<?, ? file/s]"
            ]
          },
          "metadata": {}
        },
        {
          "output_type": "stream",
          "name": "stdout",
          "text": [
            "\n",
            "\u001b[1mDataset mnist downloaded and prepared to /root/tensorflow_datasets/mnist/3.0.1. Subsequent calls will reuse this data.\u001b[0m\n"
          ]
        }
      ]
    },
    {
      "cell_type": "markdown",
      "metadata": {
        "id": "uD8aFo3WOibp"
      },
      "source": [
        "You can then apply any transformation you want (typically shuffling, batching, and prefetching), and you’re ready to train your model. Here is a simple example:"
      ]
    },
    {
      "cell_type": "code",
      "metadata": {
        "id": "6Hkp8Aw0Oxk3"
      },
      "source": [
        "mnist_train = mnist_train.shuffle(10000).batch(32).prefetch(1)\n",
        "for item in mnist_train:\n",
        "  images = item['image']\n",
        "  labels = item['label']"
      ],
      "execution_count": 89,
      "outputs": []
    },
    {
      "cell_type": "markdown",
      "metadata": {
        "id": "uJSqRlH0PCKs"
      },
      "source": [
        "Note that each item in the dataset is a dictionary containing both the features and the labels. But **Keras expects each item to be a tuple containing two elements (again, the features and the labels)**. You could transform the dataset using the map() method, like this:"
      ]
    },
    {
      "cell_type": "code",
      "metadata": {
        "id": "xZrOsRbvPHoK"
      },
      "source": [
        "mnist_train = mnist_train.shuffle(10000).batch(32)\n",
        "mnist_train = mnist_train.map(lambda items: (items['image'], items['label']))\n",
        "mnist_train = mnist_train.prefetch(1)"
      ],
      "execution_count": 90,
      "outputs": []
    },
    {
      "cell_type": "markdown",
      "metadata": {
        "id": "mDNsNY5CPfgJ"
      },
      "source": [
        "But it’s simpler to ask the load() function to do this for you by setting as_supervised=True (obviously this works only for labeled datasets)\n",
        "\n",
        "You can also specify the batch size if you want. Then you can pass the dataset directly to your tf.keras model:"
      ]
    },
    {
      "cell_type": "code",
      "metadata": {
        "colab": {
          "base_uri": "https://localhost:8080/"
        },
        "id": "Kf1gKiG3Pod-",
        "outputId": "8151c49f-261e-4336-acf7-6261668d29c8"
      },
      "source": [
        "dataset = tfds.load(name='mnist', batch_size=32, as_supervised=True)\n",
        "mnist_train = dataset['train'].prefetch(1)\n",
        "model = keras.models.Sequential([\n",
        "    keras.layers.Flatten(input_shape=[28, 28, 1]),\n",
        "    keras.layers.Lambda(lambda images: tf.cast(images, tf.float32)),\n",
        "    keras.layers.Dense(10, activation=\"softmax\")])\n",
        "model.compile(loss=\"sparse_categorical_crossentropy\", optimizer=\"sgd\")\n",
        "model.fit(mnist_train, epochs=5)"
      ],
      "execution_count": 99,
      "outputs": [
        {
          "output_type": "stream",
          "name": "stdout",
          "text": [
            "Epoch 1/5\n",
            "1875/1875 [==============================] - 8s 4ms/step - loss: 318.4092\n",
            "Epoch 2/5\n",
            "1875/1875 [==============================] - 2s 1ms/step - loss: 264.4026\n",
            "Epoch 3/5\n",
            "1875/1875 [==============================] - 2s 1ms/step - loss: 249.1612\n",
            "Epoch 4/5\n",
            "1875/1875 [==============================] - 2s 1ms/step - loss: 240.4418\n",
            "Epoch 5/5\n",
            "1875/1875 [==============================] - 2s 1ms/step - loss: 243.3081\n"
          ]
        },
        {
          "output_type": "execute_result",
          "data": {
            "text/plain": [
              "<keras.callbacks.History at 0x7f1820940910>"
            ]
          },
          "metadata": {},
          "execution_count": 99
        }
      ]
    }
  ]
}