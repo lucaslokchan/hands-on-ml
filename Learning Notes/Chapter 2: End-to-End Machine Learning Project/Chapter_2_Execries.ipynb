{
  "nbformat": 4,
  "nbformat_minor": 0,
  "metadata": {
    "colab": {
      "name": "Chapter 2 Execries.ipynb",
      "provenance": [],
      "authorship_tag": "ABX9TyM7AoFmimQTRFb4Ul1c5tWM"
    },
    "kernelspec": {
      "name": "python3",
      "display_name": "Python 3"
    },
    "language_info": {
      "name": "python"
    }
  },
  "cells": [
    {
      "cell_type": "markdown",
      "metadata": {
        "id": "FZOC1odJT13I"
      },
      "source": [
        "# Using this chapter’s housing dataset:"
      ]
    },
    {
      "cell_type": "code",
      "metadata": {
        "id": "f9ZVuMdWTprP"
      },
      "source": [
        ""
      ],
      "execution_count": null,
      "outputs": []
    },
    {
      "cell_type": "markdown",
      "metadata": {
        "id": "m348_sSgT6jQ"
      },
      "source": [
        "## 1. Try a Support Vector Machine regressor (sklearn.svm.SVR), with various hyperparameters such as kernel=\"linear\" (with various values for the C hyperparameter) or kernel=\"rbf\" (with various values for the C and gamma hyperparameters). Don’t worry about what these hyperparameters mean for now. How does the best SVR predictor perform? "
      ]
    },
    {
      "cell_type": "code",
      "metadata": {
        "id": "J1ONLZ9jT_Lw"
      },
      "source": [
        ""
      ],
      "execution_count": null,
      "outputs": []
    },
    {
      "cell_type": "markdown",
      "metadata": {
        "id": "W2xIPrYzUdYg"
      },
      "source": [
        "## 2. Try replacing GridSearchCV with RandomizedSearchCV "
      ]
    },
    {
      "cell_type": "code",
      "metadata": {
        "id": "db_JQ-b2Uh6H"
      },
      "source": [
        ""
      ],
      "execution_count": null,
      "outputs": []
    },
    {
      "cell_type": "markdown",
      "metadata": {
        "id": "nchhsCu5UiQn"
      },
      "source": [
        "## 3. Try adding a transformer in the preparation pipeline to select only the most important attributes."
      ]
    },
    {
      "cell_type": "code",
      "metadata": {
        "id": "FaSBKJQwUlMQ"
      },
      "source": [
        ""
      ],
      "execution_count": null,
      "outputs": []
    },
    {
      "cell_type": "markdown",
      "metadata": {
        "id": "ugbRZqVvUlaf"
      },
      "source": [
        "## 4. Try creating a single pipeline that does the full data preparation plus the final prediction."
      ]
    },
    {
      "cell_type": "code",
      "metadata": {
        "id": "tUd525AWUnlf"
      },
      "source": [
        ""
      ],
      "execution_count": null,
      "outputs": []
    },
    {
      "cell_type": "markdown",
      "metadata": {
        "id": "c3ZlZTS3Un3_"
      },
      "source": [
        "## 5. Automatically explore some preparation options using GridSearchCV"
      ]
    },
    {
      "cell_type": "code",
      "metadata": {
        "id": "I0AFie8fUrEH"
      },
      "source": [
        ""
      ],
      "execution_count": null,
      "outputs": []
    }
  ]
}