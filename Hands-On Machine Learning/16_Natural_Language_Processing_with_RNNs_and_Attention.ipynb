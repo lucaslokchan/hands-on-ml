{
  "nbformat": 4,
  "nbformat_minor": 0,
  "metadata": {
    "colab": {
      "name": "16. Natural Language Processing with RNNs and Attention.ipynb",
      "provenance": [],
      "collapsed_sections": [],
      "mount_file_id": "1j6yCtaNAJkeiIpDLsCKoQhmA6G5ASh6U",
      "authorship_tag": "ABX9TyML0rEmlUYoW1eenDTs0kiI"
    },
    "kernelspec": {
      "name": "python3",
      "display_name": "Python 3"
    },
    "language_info": {
      "name": "python"
    },
    "accelerator": "GPU"
  },
  "cells": [
    {
      "cell_type": "markdown",
      "source": [
        "# Generating Shakespearean Text Using a Character RNN"
      ],
      "metadata": {
        "id": "lluO0-MKIeT1"
      }
    },
    {
      "cell_type": "markdown",
      "source": [
        "In a famous [2015 blog post](https://karpathy.github.io/2015/05/21/rnn-effectiveness/) titled “The Unreasonable Effectiveness of Recurrent Neural Networks,” Andrej Karpathy showed how to train an RNN to predict the next character in a sentence\n",
        "\n",
        "This **Char-RNN** can then be used to generate novel text, one character at a time"
      ],
      "metadata": {
        "id": "JfPF18pCIg-5"
      }
    },
    {
      "cell_type": "markdown",
      "source": [
        "## Creating the Training Dataset"
      ],
      "metadata": {
        "id": "rz_zpqHTJCnq"
      }
    },
    {
      "cell_type": "markdown",
      "source": [
        "First, let’s download all of Shakespeare’s work, using Keras’s handy get_file() function and downloading the data from Andrej Karpathy’ [Char-RNN project](https://github.com/karpathy/char-rnn):"
      ],
      "metadata": {
        "id": "XlIC-lcqJJJb"
      }
    },
    {
      "cell_type": "code",
      "source": [
        "import tensorflow as tf\n",
        "import tensorflow.keras as keras"
      ],
      "metadata": {
        "id": "sX6rM0CXJo8q"
      },
      "execution_count": 1,
      "outputs": []
    },
    {
      "cell_type": "code",
      "execution_count": 2,
      "metadata": {
        "id": "B5TpAbqIHx2O",
        "colab": {
          "base_uri": "https://localhost:8080/"
        },
        "outputId": "1d9ca356-280a-44e9-cd53-a42cee85c89c"
      },
      "outputs": [
        {
          "output_type": "stream",
          "name": "stdout",
          "text": [
            "Downloading data from https://raw.githubusercontent.com/karpathy/char-rnn/master/data/tinyshakespeare/input.txt\n",
            "1122304/1115394 [==============================] - 0s 0us/step\n",
            "1130496/1115394 [==============================] - 0s 0us/step\n"
          ]
        }
      ],
      "source": [
        "shakespeare_url = \"https://raw.githubusercontent.com/karpathy/char-rnn/master/data/tinyshakespeare/input.txt\"\n",
        "filepath = keras.utils.get_file(\"shakespeare.txt\", shakespeare_url)\n",
        "with open(filepath) as f:\n",
        "    shakespeare_text = f.read()"
      ]
    },
    {
      "cell_type": "code",
      "source": [
        "print(shakespeare_text[:148])"
      ],
      "metadata": {
        "colab": {
          "base_uri": "https://localhost:8080/"
        },
        "id": "G3SGPfrN9h7j",
        "outputId": "f23081f6-2186-4f6a-ccda-720a05cd10a6"
      },
      "execution_count": 3,
      "outputs": [
        {
          "output_type": "stream",
          "name": "stdout",
          "text": [
            "First Citizen:\n",
            "Before we proceed any further, hear me speak.\n",
            "\n",
            "All:\n",
            "Speak, speak.\n",
            "\n",
            "First Citizen:\n",
            "You are all resolved rather to die than to famish?\n",
            "\n"
          ]
        }
      ]
    },
    {
      "cell_type": "markdown",
      "source": [
        "Next, we must encode every character as an integer. One option is to create a custom preprocessing layer, as we did in Chapter 13\n",
        "\n",
        "But in this case, it will be simpler to use Keras’ Tokenizer class. First we need to fit a **tokenizer** to the text: **it will find all the characters used in the text and map each of them to a different character ID, from 1 to the number of distinct characters** (it does not start at 0, so we can use that value for masking, as we will see later in this chapter):"
      ],
      "metadata": {
        "id": "528552bvJ1q4"
      }
    },
    {
      "cell_type": "code",
      "source": [
        "tokenizer = keras.preprocessing.text.Tokenizer(char_level=True)\n",
        "tokenizer.fit_on_texts(shakespeare_text)"
      ],
      "metadata": {
        "id": "lNPR-xC2KWTK"
      },
      "execution_count": 4,
      "outputs": []
    },
    {
      "cell_type": "markdown",
      "source": [
        "We set **char_level=True** to get **character-level encoding rather than the default word-level encoding**. Note that this **tokenizer converts the text to lowercase by default** (but you can set lower=False if you do not want that)\n",
        "\n",
        "Now the tokenizer can encode a sentence (or a list of sentences) to a list of character IDs and back, and it tells us how many distinct characters there are and the total number of characters in the text:"
      ],
      "metadata": {
        "id": "4OWS860MKqEY"
      }
    },
    {
      "cell_type": "code",
      "source": [
        "tokenizer.texts_to_sequences([\"First\"])"
      ],
      "metadata": {
        "colab": {
          "base_uri": "https://localhost:8080/"
        },
        "id": "rj0hOHSmKpnt",
        "outputId": "ef47c085-99af-4e82-ee45-8f443cd0f829"
      },
      "execution_count": 5,
      "outputs": [
        {
          "output_type": "execute_result",
          "data": {
            "text/plain": [
              "[[20, 6, 9, 8, 3]]"
            ]
          },
          "metadata": {},
          "execution_count": 5
        }
      ]
    },
    {
      "cell_type": "code",
      "source": [
        "tokenizer.sequences_to_texts([[20, 6, 9, 8, 3]])"
      ],
      "metadata": {
        "colab": {
          "base_uri": "https://localhost:8080/"
        },
        "id": "8PpVqeHfLgP1",
        "outputId": "44239ed9-4164-4900-f85d-9b967be7c005"
      },
      "execution_count": 6,
      "outputs": [
        {
          "output_type": "execute_result",
          "data": {
            "text/plain": [
              "['f i r s t']"
            ]
          },
          "metadata": {},
          "execution_count": 6
        }
      ]
    },
    {
      "cell_type": "code",
      "source": [
        "max_id = len(tokenizer.word_index) # number of distinct characters\n",
        "max_id"
      ],
      "metadata": {
        "colab": {
          "base_uri": "https://localhost:8080/"
        },
        "id": "3Da8bub2Lo41",
        "outputId": "1b77c712-ad4f-4df4-ad57-943891ecf70c"
      },
      "execution_count": 7,
      "outputs": [
        {
          "output_type": "execute_result",
          "data": {
            "text/plain": [
              "39"
            ]
          },
          "metadata": {},
          "execution_count": 7
        }
      ]
    },
    {
      "cell_type": "code",
      "source": [
        "dataset_size = tokenizer.document_count # total number of characters\n",
        "dataset_size"
      ],
      "metadata": {
        "colab": {
          "base_uri": "https://localhost:8080/"
        },
        "id": "asqyxRV5LwfL",
        "outputId": "2f83b491-1de5-4179-8f09-1e52695c03b7"
      },
      "execution_count": 8,
      "outputs": [
        {
          "output_type": "execute_result",
          "data": {
            "text/plain": [
              "1115394"
            ]
          },
          "metadata": {},
          "execution_count": 8
        }
      ]
    },
    {
      "cell_type": "markdown",
      "source": [
        "Let’s encode the full text so each character is represented by its ID (we subtract 1 to get IDs from 0 to 38, rather than from 1 to 39):"
      ],
      "metadata": {
        "id": "S7U2pVYz_-dz"
      }
    },
    {
      "cell_type": "code",
      "source": [
        "import numpy as np\n",
        "[encoded] = np.array(tokenizer.texts_to_sequences([shakespeare_text])) - 1"
      ],
      "metadata": {
        "id": "jf1N5p_S_4Aq"
      },
      "execution_count": 9,
      "outputs": []
    },
    {
      "cell_type": "markdown",
      "source": [
        "Before we continue, we need to split the dataset into a training set, a validation set, and a test set. We **can’t just shuffle all the characters in the text,** so how do you split a sequential dataset?"
      ],
      "metadata": {
        "id": "WilnAQNbAQC9"
      }
    },
    {
      "cell_type": "markdown",
      "source": [
        "## How to Split a Sequential Dataset"
      ],
      "metadata": {
        "id": "Saml8x0rAf0T"
      }
    },
    {
      "cell_type": "markdown",
      "source": [
        "For example, we can take the first 90% of the text for the training set, then the next 5% for the validation set, and the final 5% for the test set\n",
        "\n",
        "It would also be a good idea to **leave a gap between these sets** to **avoid** the risk of a **paragraph overlapping** over two sets\n",
        "\n",
        "When dealing with time series, you would in **general split across time,:** for example, you might take the years **2000 to 2012 for the training set, the years 2013 to 2015 for the validation set, and the years 2016 to 2018 for the test set.** However, in some cases you may be able to split along other dimensions, which will give you a longer time period to train on\n",
        "\n",
        "So, it is often safer to split across time—but this implicitly **assumes that the patterns the RNN can learn in the past** (in the training set) **will still exist in the future.** In other words, we assume that the time series is **stationary**\n",
        "\n",
        "For many time series this assumption is reasonable **(e.g., chemical reactions should be fine, since the laws of chemistry don’t change every day),** but f**or many others it is not (e.g., financial markets are notoriously not stationary since patterns disappear as soon as traders spot them and start exploiting them)**\n",
        "\n",
        "To **make sure** the time series is indeed sufficiently **stationary,** you can **plot the model’s errors on the validation set across time: if the model performs much better on the first part of the validation set than on the last part, then the time series may not be stationary enough,** and you might be **better off training the model on a shorter time span.**\n",
        "\n",
        "Now back to Shakespeare! Let’s take the first 90% of the text for the training set (keeping the rest for the validation set and the test set), and create a tf.data.Dataset that will return each character one by one from this set:"
      ],
      "metadata": {
        "id": "L7FYdN1VA1rU"
      }
    },
    {
      "cell_type": "code",
      "source": [
        "train_size = dataset_size * 90 // 100\n",
        "dataset = tf.data.Dataset.from_tensor_slices(encoded[:train_size])"
      ],
      "metadata": {
        "id": "eUMwdiLbAkiS"
      },
      "execution_count": 10,
      "outputs": []
    },
    {
      "cell_type": "markdown",
      "source": [
        "## Chopping the Sequential Dataset into Multiple Windows"
      ],
      "metadata": {
        "id": "mYBvevngDlDv"
      }
    },
    {
      "cell_type": "markdown",
      "source": [
        "The training set now consists of a single sequence of **over a million characters,** so we **can’t just train the neural network directly** on it: **the RNN would be equivalent to a deep net with over a million layers,** and we would have a single (very long) instance to train it\n",
        "\n",
        "Instead, we will use the dataset’s **window() method** to **convert** this long sequence of characters **into many smaller windows of text**\n",
        "\n",
        "**Every instance** in the dataset will be a **fairly short substring of the whole text,** and the **RNN will be unrolled only over the length of these substrings.** This is called **truncated backpropagation through time**\n",
        "\n",
        "Let's call the window() method to create a dataset of short text windows:"
      ],
      "metadata": {
        "id": "nbjhOncoDpsb"
      }
    },
    {
      "cell_type": "code",
      "source": [
        "n_steps = 100\n",
        "window_length = n_steps + 1 # target = input shifted 1 character ahead\n",
        "dataset = dataset.window(window_length, shift=1, drop_remainder=True)"
      ],
      "metadata": {
        "id": "6iMrvFwHDsdF"
      },
      "execution_count": 11,
      "outputs": []
    },
    {
      "cell_type": "markdown",
      "source": [
        "By **default,** the **window()** method **creates nonoverlapping windows,** but **to get the largest possible training set we use shift=1** so the **first window contains characters 0 to 100. the second contains characters 1 to 101,** and so on\n",
        "\n",
        "To **ensure that all windows are exactly 101 characters** long (which will allow us to create batches without having to do any padding), we set **drop_remainder=True** (otherwise the last 100 windows will contain 100 characters, 99 characters, and so on down to 1 character)\n",
        "\n",
        "The **window() method creates a dataset that contains windows, each of which is also represented as a dataset.** It’s a **nested dataset,** analogous to a list of lists\n",
        "\n",
        "This is useful when you want to transform each window by calling its dataset methods (e.g., to shuffle them or batch them). However, we **cannot use a nested dataset directly for training,** as our model will **expect tensors as input,** not datasets\n",
        "\n",
        "So, we must call the **flat_map() method:** it **converts a nested dataset into a flat dataset** (one that does not contain datasets). For example, suppose {1, 2, 3} represents a dataset containing the sequence of tensors 1, 2, and 3. **If you flatten the nested dataset {{1, 2}, {3, 4, 5, 6}}, you get back the flat dataset {1, 2, 3, 4, 5, 6}**\n",
        "\n",
        "Moreover, the **flat_map() method takes a function as an argument, which allows you to transform each dataset in the nested dataset before flattening.** For example, if you pass the function **lambda ds: ds.batch(2) to flat_map(),** then it will transform the nested dataset {{1, 2}, {3, 4, 5, 6}} into the flat dataset **{[1, 2], [3, 4], [5, 6]}:** it’s a dataset of tensors of size 2 \n",
        "\n",
        "With that in mind, we are ready to flatten our dataset:"
      ],
      "metadata": {
        "id": "Ciy0FcEWFvMh"
      }
    },
    {
      "cell_type": "code",
      "source": [
        "dataset = dataset.flat_map(lambda window: window.batch(window_length))"
      ],
      "metadata": {
        "id": "A2hjvmA7FWxL"
      },
      "execution_count": 12,
      "outputs": []
    },
    {
      "cell_type": "markdown",
      "source": [
        "Notice that we call batch(window_length) on each window: since all windows have exactly that length, we will get a single tensor for each of them. **Now the dataset contains consecutive windows of 101 characters each**\n",
        "\n",
        "Since **Gradient Descent** works best when the instances in the **training set are independent and identically distributed**, we need to shuffle these windows. Then we can batch the windows and separate the inputs (the first 100 characters) from the target (the last character):"
      ],
      "metadata": {
        "id": "ZTDzb_Ogr8Mk"
      }
    },
    {
      "cell_type": "code",
      "source": [
        "batch_size = 32\n",
        "dataset = dataset.shuffle(10000).batch(batch_size)\n",
        "dataset = dataset.map(lambda windows: (windows[:, :-1], windows[:, 1:]))"
      ],
      "metadata": {
        "id": "Q0QDHKTkznU6"
      },
      "execution_count": 13,
      "outputs": []
    },
    {
      "cell_type": "markdown",
      "source": [
        "Figure 16-1 summarizes the dataset preparation steps discussed so far (showing windows of length 11 rather than 101, and a batch size of 3 instead of 32)"
      ],
      "metadata": {
        "id": "IwftVQ6az1h1"
      }
    },
    {
      "cell_type": "markdown",
      "source": [
        "<p align='center'>\n",
        "<img src='data:image/png;base64,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'>\n",
        "</p>\n",
        "Figure 16-1. Preparing a dataset of shuffled windows"
      ],
      "metadata": {
        "id": "6OMD5nFm0CXc"
      }
    },
    {
      "cell_type": "markdown",
      "source": [
        "As discussed in Chapter 13, categorical input features should generally be encoded, usually as one-hot vectors or as embeddings. Here, we will encode each character using a one-hot vector because there are fairly few distinct characters (only 39):"
      ],
      "metadata": {
        "id": "38lOr9hZ0esv"
      }
    },
    {
      "cell_type": "code",
      "source": [
        "dataset = dataset.map(\n",
        "    lambda X_batch, Y_batch: (tf.one_hot(X_batch, depth=max_id), Y_batch))"
      ],
      "metadata": {
        "id": "VarJEuV30Brb"
      },
      "execution_count": 14,
      "outputs": []
    },
    {
      "cell_type": "markdown",
      "source": [
        "Finally, we just need to add prefetching:"
      ],
      "metadata": {
        "id": "OsH6CiXv04b6"
      }
    },
    {
      "cell_type": "code",
      "source": [
        "dataset = dataset.prefetch(1)"
      ],
      "metadata": {
        "id": "EQAVYRir039c"
      },
      "execution_count": 15,
      "outputs": []
    },
    {
      "cell_type": "code",
      "source": [
        "for X_batch, Y_batch in dataset.take(1):\n",
        "    print(X_batch.shape, Y_batch.shape)"
      ],
      "metadata": {
        "colab": {
          "base_uri": "https://localhost:8080/"
        },
        "id": "wpvmIK_W8xu5",
        "outputId": "49ce1221-e8d9-42fe-9478-cfa9a14c0d1f"
      },
      "execution_count": 16,
      "outputs": [
        {
          "output_type": "stream",
          "name": "stdout",
          "text": [
            "(32, 100, 39) (32, 100)\n"
          ]
        }
      ]
    },
    {
      "cell_type": "markdown",
      "source": [
        "## Building and Training the Char-RNN Model"
      ],
      "metadata": {
        "id": "j4p54SDj097_"
      }
    },
    {
      "cell_type": "markdown",
      "source": [
        "To **predict the next character based on the previous 100 characters,** we can use an **RNN with 2 GRU layers of 128 units** each and **20% dropout** on both the **inputs (dropout)** and the **hidden states (recurrent_dropout)**\n",
        "\n",
        "The output layer is a time distributed Dense layer like we saw in Chapter 15. This time this **layer must have 39 units** (max_id) **because there are 39 distinct characters in the text,** and we want to **output a probability for each possible character** (at each time step)\n",
        "\n",
        "The **output probabilities should sum up to 1** at each time step, so we apply the **softmax activation function** to the outputs of the Dense layer\n",
        "\n",
        "We can then compile this model, using the **'sparse_categorical_crossentropy' loss and an Adam optimizer.** Finally, we are ready to train the model for several epochs\n",
        "\n",
        "Finally, we are ready to train the model for several epochs (this may take many hours, depending on your hardware):"
      ],
      "metadata": {
        "id": "q7Cm6KaFvyZm"
      }
    },
    {
      "cell_type": "code",
      "source": [
        "model = keras.models.Sequential([\n",
        "    keras.layers.GRU(128, return_sequences=True, input_shape=[None, max_id],\n",
        "                     #dropout=0.2, recurrent_dropout=0.2),\n",
        "                     dropout=0.2),\n",
        "    keras.layers.GRU(128, return_sequences=True,\n",
        "                     #dropout=0.2, recurrent_dropout=0.2),\n",
        "                     dropout=0.2),\n",
        "    keras.layers.TimeDistributed(keras.layers.Dense(max_id,\n",
        "                                                    activation=\"softmax\"))\n",
        "])\n",
        "model.compile(loss=\"sparse_categorical_crossentropy\", optimizer=\"adam\")\n",
        "#history = model.fit(dataset, epochs=2) # 10 epochs originally, changed to 2 epochs for less training time since each epoch takes ~ 2 hours\n",
        "#model.save('ch16_char_rnn.h5')"
      ],
      "metadata": {
        "id": "4ipLNVkMvxh0"
      },
      "execution_count": 17,
      "outputs": []
    },
    {
      "cell_type": "markdown",
      "source": [
        "```\n",
        "Epoch 1/2\n",
        "31368/31368 [==============================] - 1632s 52ms/step - loss: 1.6199\n",
        "Epoch 2/2\n",
        "31368/31368 [==============================] - 1645s 52ms/step - loss: 1.5386\n",
        "```\n",
        "\n"
      ],
      "metadata": {
        "id": "JSAtX1onAF79"
      }
    },
    {
      "cell_type": "markdown",
      "source": [
        "Trained and Uploaded Model on Github"
      ],
      "metadata": {
        "id": "e13U9dpkEptd"
      }
    },
    {
      "cell_type": "code",
      "source": [
        "from urllib import request\n",
        "url = 'https://github.com/lucaslokchan/ml-journal/raw/master/Hands-On%20Machine%20Learning/Model/CH16_CHAR_RNN.h5'\n",
        "request.urlretrieve(url, 'CH16_CHAR_RNN.h5')"
      ],
      "metadata": {
        "id": "o42lLBGs-9FE",
        "colab": {
          "base_uri": "https://localhost:8080/"
        },
        "outputId": "db23e674-fb7c-4ef8-acd9-2d74896cc5fb"
      },
      "execution_count": 18,
      "outputs": [
        {
          "output_type": "execute_result",
          "data": {
            "text/plain": [
              "('CH16_CHAR_RNN.h5', <http.client.HTTPMessage at 0x7f91e1faf650>)"
            ]
          },
          "metadata": {},
          "execution_count": 18
        }
      ]
    },
    {
      "cell_type": "code",
      "source": [
        "model = keras.models.load_model('CH16_CHAR_RNN.h5')"
      ],
      "metadata": {
        "id": "z6Di2Gbc95iY"
      },
      "execution_count": 19,
      "outputs": []
    },
    {
      "cell_type": "markdown",
      "source": [
        "## Using the Char-RNN Model"
      ],
      "metadata": {
        "id": "9kvOAYWo2LsD"
      }
    },
    {
      "cell_type": "markdown",
      "source": [
        "Now we have a model that can predict the next character in text written by Shakespeare. To feed it some text, we first need to preprocess it like we did earlier, so let’s create a little function for this:"
      ],
      "metadata": {
        "id": "qgrzvxIG2S_s"
      }
    },
    {
      "cell_type": "code",
      "source": [
        "def preprocess(texts):\n",
        "  X = np.array(tokenizer.texts_to_sequences(texts)) - 1\n",
        "  return tf.one_hot(X, max_id)"
      ],
      "metadata": {
        "id": "uQHEK6lqHbKG"
      },
      "execution_count": 20,
      "outputs": []
    },
    {
      "cell_type": "markdown",
      "source": [
        "Now let’s use the model to predict the next letter in some text:"
      ],
      "metadata": {
        "id": "QTmd-_bbGacY"
      }
    },
    {
      "cell_type": "code",
      "source": [
        "# The predict_classes() method is deprecated. Instead, we must use np.argmax(model(X_new), axis=-1)\n",
        "X_new = preprocess(['How are yo'])\n",
        "Y_pred = np.argmax(model(X_new), axis=-1)\n",
        "tokenizer.sequences_to_texts(Y_pred + 1)[0][-1] # 1st sentence, last char"
      ],
      "metadata": {
        "colab": {
          "base_uri": "https://localhost:8080/",
          "height": 35
        },
        "id": "eRnVKvMJGZ0U",
        "outputId": "56de421a-7217-40d7-a934-bfac7ffd4b11"
      },
      "execution_count": 21,
      "outputs": [
        {
          "output_type": "execute_result",
          "data": {
            "application/vnd.google.colaboratory.intrinsic+json": {
              "type": "string"
            },
            "text/plain": [
              "'u'"
            ]
          },
          "metadata": {},
          "execution_count": 21
        }
      ]
    },
    {
      "cell_type": "markdown",
      "source": [
        "Success! The model guessed right. Now let’s use this model to generate new text"
      ],
      "metadata": {
        "id": "s49_Ye7WIQbU"
      }
    },
    {
      "cell_type": "markdown",
      "source": [
        "## Generating Fake Shakespearean Text"
      ],
      "metadata": {
        "id": "fRjZXZLhISzw"
      }
    },
    {
      "cell_type": "markdown",
      "source": [
        "To generate new text using the Char-RNN model, we could **feed it some text, make the model predict the most likely next letter, add it at the end of the text, then give the extended text to the model to guess the next letter,** and so on\n",
        "\n",
        "But in practice this often **leads to the same words being repeated over and over again.** Instead, we can **pick the next character randomly,** with a **probability equal to the estimated probability,** using TensorFlow’s tf.random.categorical() function. This will generate **more diverse** and interesting text\n",
        "\n",
        "The **categorical() function samples random class indices, given the class log probabilities (logits).** To have **more control over the diversity** of the generated text, we can **divide the logits by a number called the temperature,** which we can tweak as we wish: a **temperature close to 0 will favor the high-probability characters,** while a **very high temperature will give all characters an equal probability**\n",
        "\n",
        "The following next_char() function uses this approach to pick the next character to add to the input text:"
      ],
      "metadata": {
        "id": "H9VEAsaPIUiS"
      }
    },
    {
      "cell_type": "code",
      "source": [
        "def next_char(text, temperature=1):\n",
        "    X_new = preprocess([text])\n",
        "    y_proba = model(X_new)[0, -1:, :]\n",
        "    rescaled_logits = tf.math.log(y_proba) / temperature\n",
        "    char_id = tf.random.categorical(rescaled_logits, num_samples=1) + 1\n",
        "    return tokenizer.sequences_to_texts(char_id.numpy())[0]"
      ],
      "metadata": {
        "id": "qhQ_gdrrM7mC"
      },
      "execution_count": 22,
      "outputs": []
    },
    {
      "cell_type": "markdown",
      "source": [
        "Next, we can write a small function that will **repeatedly call next_char()** to get the next character and append it to the given text:"
      ],
      "metadata": {
        "id": "B_mKUwudNP-E"
      }
    },
    {
      "cell_type": "code",
      "source": [
        "def complete_text(text, n_chars=50, temperature=1):\n",
        "    for _ in range(n_chars):\n",
        "        text += next_char(text, temperature)\n",
        "    return text"
      ],
      "metadata": {
        "id": "LYqqea88NUhg"
      },
      "execution_count": 23,
      "outputs": []
    },
    {
      "cell_type": "markdown",
      "source": [
        "We are now ready to generate some text! Let's try with different temperatures:"
      ],
      "metadata": {
        "id": "Lj2gTgkeNjde"
      }
    },
    {
      "cell_type": "code",
      "source": [
        "print(complete_text('I',n_chars=150, temperature=0.2))"
      ],
      "metadata": {
        "colab": {
          "base_uri": "https://localhost:8080/"
        },
        "id": "hv8K0GC5Nis1",
        "outputId": "5f7faa6a-d446-4ea4-fbf3-06a297d62697"
      },
      "execution_count": 24,
      "outputs": [
        {
          "output_type": "stream",
          "name": "stdout",
          "text": [
            "In the countey.\n",
            "\n",
            "petruchio:\n",
            "sir, i will go the younger than a words and well access to her\n",
            "to see the comes of signior gremio.\n",
            "\n",
            "gremio:\n",
            "o this is it is\n"
          ]
        }
      ]
    },
    {
      "cell_type": "code",
      "source": [
        "print(complete_text('Hello', n_chars=150, temperature=1))"
      ],
      "metadata": {
        "colab": {
          "base_uri": "https://localhost:8080/"
        },
        "id": "bdOJNZSXP24h",
        "outputId": "ff3dea09-849b-4134-f198-5b9cc95215d1"
      },
      "execution_count": 25,
      "outputs": [
        {
          "output_type": "stream",
          "name": "stdout",
          "text": [
            "Hellows of mine;\n",
            "is't with mike! so'c the thoughts:\n",
            "as silecied prores more beholding louds:\n",
            "will occess you, sootmat quace that great\n",
            "as well to humble th\n"
          ]
        }
      ]
    },
    {
      "cell_type": "code",
      "source": [
        "print(complete_text('Diu', n_chars=150, temperature=2))"
      ],
      "metadata": {
        "colab": {
          "base_uri": "https://localhost:8080/"
        },
        "id": "_mn6BtBbP_7Y",
        "outputId": "b71f2262-be50-4ed3-9d50-bf607810170e"
      },
      "execution_count": 26,
      "outputs": [
        {
          "output_type": "stream",
          "name": "stdout",
          "text": [
            "Diuit'?\n",
            "begrae movrob yo;\n",
            "abteggs to thiw, masterufterframe?.\n",
            "biomha'ts, sinceivy faicon with\n",
            "for my cks'luwke'p-,'' legune whaw\n",
            "to ppo them wiva.\n",
            "semuut\n"
          ]
        }
      ]
    },
    {
      "cell_type": "markdown",
      "source": [
        "Apparently our Shakespeare model works best at a temperature close to 1 \n",
        "\n",
        "To **generate more convincing text,** you could try using **more GRU layers** and more neurons per layer, **train for longer,** and add some **regularization** (for example, you could set recurrent_dropout=0.3 in the GRU layers)\n",
        "\n",
        "Moreover, the model is currently incapable of learning patterns longer than n_steps, which is just 100 characters. You could try **making this window larger, but it will also make training harder,** and even **LSTM and GRU cells cannot handle very long sequences.** Alternatively, you could use a stateful RNN"
      ],
      "metadata": {
        "id": "qNDs9wipQQz0"
      }
    },
    {
      "cell_type": "markdown",
      "source": [
        "## Stateful RNN"
      ],
      "metadata": {
        "id": "XVR1P_08Q04F"
      }
    },
    {
      "cell_type": "markdown",
      "source": [
        "Until now, we have used only **stateless RNNs: at each training iteration the model starts with a hidden state full of zeros, then it updates this state at each time step, and after the last time step, it throws it away,** as it is not needed anymore\n",
        "\n",
        "What if we **told the RNN to preserve this final state after processing one training batch** and **use it as the initial state for the next training batch?** This way the **model can learn long-term patterns despite only backpropagating through short sequences.** This is called a stateful RNN. Let’s see how to build one\n",
        "\n",
        "First, note that **a stateful RNN only makes sense if each input sequence in a batch starts exactly where the corresponding sequence in the previous batch left off**\n",
        "\n",
        "So the **first thing** we need to **do to build a stateful RNN** is to **use sequential and nonoverlapping input sequences (rather than the shuffled and overlapping sequences** we used to train stateless RNNs)\n",
        "\n",
        "When creating the Dataset, we must therefore use shift=n_steps (instead of shift=1) when calling the window() method. Moreover, we must obviously not call the shuffle() method\n",
        "\n",
        "Unfortunately, batching is much harder when preparing a dataset for a stateful RNN than it is for a stateless RNN. Indeed, **if we were to call batch(32),** then **32 consecutive windows would be put in the same batch, and the following batch would not contiune each of these window where it left off**\n",
        "\n",
        "The **first batch would contain windows 1 to 32** and the **second batch would contain windows 33 to 64,** so if you consider, say, the **first window of each batch** (i.e., windows 1 and 33), you can see that they are **not consecutive**\n",
        "\n",
        "**The simplest solution to this problem is to just use \"batches\" containing a single window:**"
      ],
      "metadata": {
        "id": "L2aUmaXOS6kE"
      }
    },
    {
      "cell_type": "code",
      "source": [
        "dataset = tf.data.Dataset.from_tensor_slices(encoded[:train_size])\n",
        "dataset = dataset.window(window_length, shift=n_steps, drop_remainder=True)\n",
        "dataset = dataset.flat_map(lambda window: window.batch(window_length))\n",
        "dataset = dataset.batch(1)\n",
        "dataset = dataset.map(lambda windows: (windows[:, :-1], windows[:, 1:]))\n",
        "dataset = dataset.map(\n",
        "    lambda X_batch, Y_batch: (tf.one_hot(X_batch, depth=max_id), Y_batch))\n",
        "dataset = dataset.prefetch(1)"
      ],
      "metadata": {
        "id": "a5GmsSv6f7SR"
      },
      "execution_count": 27,
      "outputs": []
    },
    {
      "cell_type": "markdown",
      "source": [
        "Figure 16-2 summarizes the first steps"
      ],
      "metadata": {
        "id": "duwtMPOwkQSy"
      }
    },
    {
      "cell_type": "markdown",
      "source": [
        "<p align='center'>\n",
        "<img src='data:image/png;base64,iVBORw0KGgoAAAANSUhEUgAAAooAAAEHCAYAAAApsmcXAAAgAElEQVR4nOzdd1gU19cH8O/usnRcuoiKWEHEhsEuoGAllog9ERvGGo1RMT8TNSZGo1GjJrGX2EtsMXZjV1SMmthQVEAsYKW3bef9g3cnriwIy8JCcj7Psz4y5cyZbRzuzL1XRESEt+Tk5GD9+vW4evUqnj179vZqxhhjjJUjRASZTIZatWqhR48eqF+/vrFTYuWE6M1CMS0tDSEhIcjKykKvXr3w/vvvw87ODmq12pg5MsYYY6wYRCIR5HI5Ll68iN9++w03btzApEmT0L9/f2Onxso4oVC8ceMGwsPD4e/vj9DQULi6uho7N8YYY4yVgO3bt2Pbtm1o3bo1Jk6caOx0WBkmIiLKyspC+/btMXToUAwdOtTYOTHGGGOshKWnp6Nnz54YPnw4evfubex0WBllAgDdu3fHt99+C39/f2PnwxhjjLFSYG1tjc2bN6Nz586wt7dHYGCgsVNiZZAYAFJSUuDp6WnsXBhjjDFWipycnNC0aVPcunXL2KmwMkr822+/oWPHjqhYsaKxc2GMMcZYKfvss89w/PhxY6fByijxjRs30LZtW2PnwRhjjDEjqFWrFrKyspCUlGTsVFgZJI6Li4Obm5ux82CMMcaYkVSrVg1Pnz41dhqsDBKLRCLoGHObMcYYY/8RJiYmEIvFxk6DlUH8rmCMMcYYYzpxocgYY4wxxnTiQpExxhhjjOnEhSJjjDHGGNOJC0XGGGOMMaYTF4qMMcYYY0wnLhQZY4wxxphOXCgyxhhjjDGduFBkjDHGGGM6caHIGPvP2rVrFwYMGGDsNBhjrMwyMXYC+rp9+zYSExNRtWpV1K5d29jpsAJkZ2cjJSUF9vb2kEqlBol55swZEBH8/f0NEq+kREdH4/Hjx6hUqRLq1q1r7HTYW06cOIGtW7di6NChCAoKMnY65caNGzeQnJwsTPmmUCjQvHlzmJubGzkzxpihlViLYrt27VChQgU4OzvDyckpz8PS0hKTJ0/WO35oaCgCAwPx6aefGjDr8mH79u3o3bu3sdMolO7du8PCwgIuLi4wNTXFrFmzMGTIEOzevVvvmEqlEv7+/ggICDBYnosXL8b06dMNFk9j3LhxCAwMxODBgw0emxVf//79AQC//vprqR+7c+fOeb4j7ezs8N577+H06dOlnk9hLV26FA0aNICfnx9at26N1q1bo23btrh8+bKxU2OMlYASa1G8evUq0tLSkJaWlu82ycnJesefOHEiLl++DD8/P71jlFfbt2/Hnj17kJiYCBcXF2Ono1NaWhoqVKgAAJBIJGjRogX+/PNPTJs2DQAQERGBnj176hXbxMQEX375JVQqlcHynTFjBlJSUvD1118bLCYAjBw5El5eXvD19TVoXGYYLVu2hEwmw8qVK7Fo0SJYWFiU2rEPHz4MAHm+I69cuYKAgAAsWLAAn332WanlU1hjxoyBl5cXBg4ciKysLBARUlJSUL16dWOnxhgrASVWKCYnJyMyMhLNmjXDwoULMWHCBGHdq1ev4OjoqPcv+oyMDPTv319oDTCE9PR0ALlFiLm5ObKzs6FUKgEA1tbWxYqdlpYGsVgMIoK1tTWICCKRSO94mn0fP34MBwcHyOVyiMXiUv0l9y6NGzcGAMycOVOrpe6DDz7A3r179X7tVSoVsrOz8c033xgkTw0rKyukpaXh+fPnkMlkUCqVwuulr/T0dHTv3h09evQwSI5yuRw5OTnC5b43GSJXzfuKiGBlZVWs92hqaqrwh4Lms1Xcz9GbsrKyDPJ+F4vF2LZtGzp37oz27dvj3Llz+W6bmpoKCwsLSKVS4ZykUinMzMz0OjYRoUOHDjh27BiISFh+7949BAUFYeLEiejatavet9ZkZ2cLn7Pivj+A3Pef5taR8ePH4+OPPy5WvDdp3n9EBHNzc5iYFO9XU2pqKsRiMcRiMSwtLaFUKpGVlQWpVFqsy+OZmZnCa6VWq2FjY1OsPBkrF8LCwujevXtUEvbv308AaNasWURE1LlzZzpy5Ai9ePGCANDixYuLHHPAgAEEQHjUqVOn2Hm6u7sL8QIDA+nOnTtax5g3b55ecW/dukUikUgrlpmZGYnFYnr16lWR423YsEEr1tuPgwcP6pWnoa1atYoA0Lhx43SuB0DDhw/XK/bb53z37t3ipEojRowo8Dk9f/68XnHHjBmjFcfBwaFYeRIRhYWFFZirvvJ7X+nzHn3+/Lmwv4WFBZmZmWnF3L9/v955aqxbt44AkI2NTbFjaQQGBhIAOnv2rM71Dg4OBIAkEgnVrFnTYOfUunVrna+d5jP0888/6xV36tSpeV7PChUq0PPnz/XOtaD33o4dO/SKGR0dTa6urnnizZ49W+88O3fuLMSpWbMmrV69Wiv2tm3b9Ir7008/5cnT1ta2xH5/lraRI0fS7du3jZ0GK4NKpTNLVFQULly4gEOHDiE2NhZRUVFITExExYoVixxLJpMhKCgIZmZmOHDgABwdHYudX926deHu7o5Tp07h0qVL8PT0hKmpKbp164adO3diw4YNRb6fMiEhAfXq1YNMJkP79u2RmZkJuVyOP/74AwBw//59NG3atEgxTU1NERgYiFu3biExMRF+fn6wsbGBWq1GWloasrOzixSvpGjur5o4caLO9QkJCbC1tS1y3KysLLRu3RoODg44e/YsXr9+DVNT02Ll6ujoiI4dO+LkyZOQy+Xo2LEjJBIJiAjJycmQyWR6xbW2tka7du0gk8mwZ88eODk5FStPAEILXYsWLeDk5AQrKyts3boVANCmTRu9Ym7btg2hoaHw9PRE7dq1oVKpIBaLsX//fjg5OeH+/ftFuqSYnZ0NHx8fXL16FVlZWQCAHj16IDMzE0ePHsXUqVMRHBysV64ax48fB5DbUh8bG2uQS559+vTB8ePHERkZidatW2utUygUaNGiBfbv3w+VSoUHDx6gU6dOsLS0xO7duzFgwACkpKQU6/gHDx4UWoozMjKE1roPPvigyLEmTJiARYsWwdvbG+7u7lCr1cjOzsaJEyfQunVrXLlypciti5mZmejUqROkUil+//13eHt7o3r16lAqlUhLS9OrBVChUMDf3x8JCQkIDAyEmZkZTE1NsX//fkydOhXNmjVDu3btihzXyckJHTt2xJEjR/DkyROEhYUByH2Njxw5glGjRqFv375FijlnzhxMnToVbm5uaNiwIZRKJSQSCfbv34/atWtrtQgz9q9TGi2Kbz4aNmxosPgAqGXLlgaJlZmZqbN1JiMjg16+fFnkeJoWgUGDBmkt3717N8lkMsrMzNQ719DQUAJACQkJescoSX5+fsVq4SqMrl27EgCKjY01SDw3NzeSSCQGifU2AOTp6VnsOBMmTNB63QcOHEgAqFKlSnrHtLW11flaaVoGa9SooVdcAOTi4kIKhUJY5uvra7D3xc6dOw3e+qH57GdlZRW4/s3jfvHFFwSAjhw5otcxNS2Kuh4zZszQ+zxsbW3zLN+3bx8BoE6dOukV9834mzdvLlYMIqKPP/6YANCHH36otfzNKzrFIRaLCQBVrVqV0tPTiYhIrVbn+/rmR3MFrEmTJnnW/fHHHwSA5syZU6xcywJuUWT5KZVxFIOCgrB+/XoAQE5OTmkcsshev34NAKhUqZLW/XOWlpZwcHAocryBAweiadOmWL9+PUQiEczNzdG3b19cvnwZt27dKtb9VZqWw+J0BirvDP0+UiqVUKlUyMzMNGhcQ1q4cCGOHTsGFxcXtG3bFhs3bkRISAju37+vV7zo6GjhPSQSibQezs7OAHLvwyoqzf17zZo102ppkkgkeuWpS0hIiMGHG9J8R+lqCdc8D15eXlrH1bRoF/eeurlz52LevHlYsGABQkNDAeTe37tt27YixdH03k5OTs7zmnbr1g3AP51oikPzGhfHypUrYW9vj02bNmkt9/DwwOzZswEAmzdv1ju+Wq2GVCpFfHw8rKysAED4Li4Kzb26V65cyfOcaoZU+uGHH/TOk7GyrlQuPbdr1w6hoaH4+OOP0alTp9I4pN4aNWqks7NAUUkkEly4cAGrVq3C0qVL8ejRIxw5cgQpKSmYM2cOYmNj4e7uboCMy55WrVrhzJkz+PXXX3UO46PpJFTcX67/RUFBQejSpQtOnToFZ2dn7Ny5E0DuL8Wivm/fLLarV68uXCrWEIlExbqsq1AotH6mMn55LjQ0FOHh4Thy5Ei+22jeuxqGOqfw8HCtn6dNm4batWtj6tSp6NevX6HjpKamAsj9/nFzc8vzmpqamuLx48fFT9hA8usIpPnjPCEhoVjxa9SoUaz932RlZQVnZ2et51RTMGoKUcb+jUq0RdHe3h7AP391Z2dnG/wvL317HL5N04JiqOJl7dq1kEgkaNWqFf7++2+8fv0aycnJuHfvHgAIf93rQ9Pi+XaPu507d+LJkyf6J20gM2bMAJB7T9DNmzfzrNfcZ1icX7KaFllD3PsH5BY1EokElpaWWst37txZ7PvPABT7XkqNLl264NChQ5g9ezaePXsGAJg3b55evS/r168v3PcYExODhIQErcf9+/exb9++IsfV3P/2dqu5oT6rAEqs5bdLly548OAB1qxZo7VcU4S//TpqnnfNd11R5de6VatWLQBAbGxskeINGzYMQO53xP379/O8prdv3zbIsFL63rv7ps6dOyMhISHP/YKXL1/GiBEjAACTJk0q1jEM0YqtaU02MTHJ8zl5+vQpYmNjER0drXPfhw8f4s6dO+88hkqlEu69fZfU1FRcuXKl8CfAWHGV1D2KHTp0IAsLCwJAlpaW5OzsTNWqVaM7d+7oHTMmJoasrKzIycmJXFxchF6Irq6uJJPJqEuXLnrFdXBwEHo1mpiYkKurKzk6OpKTkxOdPn1ar5jr168XemZ+9dVXtHv3bpo7dy7Z2dkRAJo7d65ecYmIxo8fTwBo8ODB9Pvvv9PMmTOpevXqBIAWLVqkd1xDOnz4sHCf0YQJE2jTpk20Zs0a8vLyIgDk7e2tdf9aYXTs2JFkMhm5urqSiYkJASBHR0dydnYmCwsLiouL0zvfgIAA4Z7S3bt30+LFi4X3WEhISJFivXz5kmxsbMjJyUno0SkSicjV1ZVsbW2pVatWeuXYu3dv4Tl1d3cnFxcXqlSpkrBMcx9WUWzZskXYPzw8nPbu3UtfffUVNWzYUK/e2hEREVStWjUhpua+rk2bNgnLnJ2d6caNG0XOVUPT+9TJyYnS0tL0jqPL69evCQCJxWJSq9VElHuPWuPGjYX8q1evTsnJyXT27FlhmVQqpZs3bxbpWMHBwcL+Li4u5OzsTM7OzsL7DgCNHTu2yOcwceJEAkAymYxmzJhBu3fvpnHjxlGtWrWE92JRPX36lOzt7YXcbGxsyMXFhRwdHcnR0ZGSk5OLHPPN+8J79epFO3bsoGnTpgnLlixZUuSY9+/fp1q1apGTk5MQp1KlSuTk5ESOjo60cePGIsckIho1apQQ76effqKtW7fS1KlTqV69egSAmjdvnmef8+fPF/pey7lz5xIA8vHxKXC77OxsIebIkSP1Opf88D2KLD8lVihaW1vrvEH70qVLese8efNmgUM0yGQyveIWFPPYsWN6xdQMyfD28DgA6Mcff9QrpsabQ5C8+ejTpw+lpKQUK7Yh7dixgyQSSZ48w8LC9Irn6OhY4GtV3I4tNjY2eWKOGDGCVCpVkeI8efKkwDwL84tDlwoVKhQYU9/X/sSJEzrjWVlZ0XfffVekWJoOE2+f66xZs7SWnTlzRq9ciYg++ugjIY4+Q/i8y+zZswn4Z1is+Pj4POeUkJBAu3bt0loWFRVVpOO86z2yYsUKvc9h8eLFOmPa2dnRhg0bihzv3r17BeZa1A4iGg8fPhT+KHnzsXz5cr3i/fXXXwXmWZzv3q1bt+Yb988//8yz/YULFwr9edd8Pnx9fQvcTqFQCDHzG35MX28Wijt37qTAwEAKDQ2lb775hvbu3UtPnz416PFY+SEKCwujKVOmCJc6mGHJ5XKcPHkSd+/ehaOjI/r06WOwy9snTpzAjRs3ULVqVfTo0cMg91aWBM35SyQS9OnTxyCXrUrKmTNncOPGDVSoUAEDBw40djqlRq1W49ixY4iOjoZMJoOPjw+8vb2NnVa+Nm7cCC8vLzRp0sTgsW/dugVvb28EBgYKw1mVR6mpqTh9+jQePnwIZ2dnNG/eHG5ubsZOS6dbt27hjz/+QKVKldCnTx9jp1OgzZs3Izk5GTY2NmjXrh2qVKmS77avX79GVlYWKleuXGBMtVqNy5cvo1mzZu88PhEhKioKXl5eRc69IKNGjcK4ceNQt25dLF68GPHx8ahZsyYyMjLw+PFjPHjwANWrV4e3tzdcXV3RpUsXg3ZQY2UXF4qMMfaWgIAAmJmZFdixhbF/k7cLRSJCixYtoFAoYGJiAoVCgb///hu3bt1CcnIypFIpxo0bh/fee8/YqbMSxt1OGWPsLadOnTJ2CowZlUqlgkKhEB4A0LBhQzRp0gQmJiaIjIzEF198AVtbW3z33Xc81/e/WNm8VskYY4wxo5FIJDAxMdGa812pVCI7Oxvp6elo3LgxRo0ahdq1a+PTTz/F3r17jZgtK0ncosgYY4wxgUqlQlxcHCwsLODm5gZra2uIxWKIxWIolUoolUrk5OTAzs4OXbt2hbe3NxYvXoybN2/iyy+/NHb6zMC4UGSMMcaYICAgAMePH8ft27dx7NgxqFQq2NrawtHREbVr14anpyckEgmUSiUyMzNRpUoVTJw4ERs3bsSYMWPw888/G/sUmAFxocgYY4wxgY+PD3x8fISfX758iStXruCPP/7AlStXsH//frRu3RpeXl6wt7dHTk4OZDIZRo4cifXr12PcuHFYvHix1mVrVn7xPYqMMcYYy5ejoyM6duyI77//HitWrMDy5csRFxeHhQsX4uLFi8KsSxKJBIMHD0ZcXFypzn+dnp6OyZMn46uvvsozbaUh/P7773ByckKlSpWMVvw2b948z4xRT548ga2trUFmDyuImMr4/KuMMcYYK1lFKYBcXV2xdOlSTJ48GRcuXMCGDRvw8OFDSCQSSCQSfPzxx7h48SIOHTpUghn/49WrV5g/fz5mzpyJtLQ0g8e/fv06Xr58icTERIPHLoyJEyfi0qVL2L17t9bymJgYpKSkoE6dOgabd14Xsbm5uTCXJWOMMcb+e169elXkfTp37oxff/0V7u7uWLt2LVJSUiCRSODg4AAfHx+sW7euBDLNq0qVKli0aBFWrFgBW1tbg8f/4osvQETw8PAweOzCWLhwIcRiMQ4cOKC1vE2bNhgwYACeP3+OAQMGlNjxxdWqVcPVq1dL7ACMMcYYK7uys7Px4sUL1K1bV6/9P//8c4SHh2PBggWIjIyERCJBq1at4OTkhGXLlhU6Tk5ODm7duoU7d+4gISFBa92zZ89w584dREVFITU1VViekJCAmJgY9O3bFx07dtQ581l2djaioqIQHR2NtLQ0bN26FdOnT8e1a9fyzeXWrVv4/PPP0bZtW6xYsQJA/q2ux48fR58+fdCjRw8sXrw4z/ro6GjcuXMHjx490lqelpaGqKioPOf0pl27dgEAVq5cqXP95s2bAQDbtm3L91yK7c6dO9S/f3+jziPIGGOMMePYu3evQeaO3rNnD3344Ye0cOFCioiIoF27dlFAQAA9ePCgUPtPnjxZaw5thUIhrHN2dhaWu7q6EhHR3bt388y7fe/evTxxbWxshPVSqVRr+48++kjrOEREy5cvzxPXxcWFrKys8szd3a5duzzbVqtWjV68eEFERB06dNBad/ToUWHft/fTxc3NjQDQxYsX833eZDIZAaBr16694xnWj9jDwwM3b97MU70zxhhj7N9NLpfj559/Rv369Ysdq0ePHpg0aRK2bt2KqKgoVK5cGRUrVsThw4cLtX/v3r2FjjFTpkyBiYkJhg4dinPnzmHx4sVwcHAAAMycORMAUKdOHXz11VcYOXKkMA2xVCrNE3fVqlXCPOcKhQKzZ8/G2bNn4e3tjU2bNuH8+fPCtl9//TVGjhwJa2trHDhwAESEsLAwJCYmIiMjQytu06ZNceLECbRu3RovXrzAs2fPMGPGDGF+dQCYN28ePD09AQBdunRBYGAgpk+fjrVr12LlypWoXbs2AGDq1Kl58n706BHi4+NhYmJS4DzgI0eOBABs3br1XU+xfoiIfv75Zxo7dmyeqpoxxhhj/16bNm2inj17UmpqqsFibtu2jUJCQujw4cO0ZcsW6tmzJ2VlZRVq37lz5xIAOn/+PE2dOpUAkIWFBRERWVtbk1gs1rlfWFgYAaC4uDid64cNG0YAKDIyUlg2Y8YMAkARERHCshYtWhAASkhI0Np/x44dWi1/hw8fJgAUEBCQ51ijRo0iADRz5kwiIrp27RoBoC1bttCFCxe04mhaJNPS0vLE2bdvHwEgPz+/fJ8votznGwA1aNCgwO30JQaA0aNHIyMjAyEhISVTjTLGGGOsTNm9ezeWLVuGVatWwcbGxmBx+/bti0aNGmHz5s1o3LgxKlasiN9++61Q+w4ZMgRAbqvhggULAABZWVmYP38+0tPTMWjQIJ375eTkFBhXs97a2lpYlp2dnWe7CxcuwN3dHS4uLlrLe/fujSpVqgg/r1q1CgDw66+/5omxdOlSAMCSJUsAAI0aNQKQO4zPmDFjhO2Sk5Nx4sQJuLu7a+WlkZSUBADv7KBTr149ALnjXZYEYRzF+fPno1WrVhg6dCh++uknqFSqEjkgY4wxxownMjISkyZNws6dO7F69WrY29sb/Bhjx46FiYkJTp8+jYYNG2LPnj2F2s/JyQl16tTB0aNHkZOTI1wynjNnDgBg+PDhOvfTdGKxsLAocP2bnV0kEgkACJe7NfIblzAzM1P4v6OjIwAgIiIiz3YPHz4EkDuM0JvCw8Nx9epVNGnSBABQs2ZNAMi3x7Jm/9jYWJ3rNf7++28AEC5jG5rwjNnb2yM8PBxr1qzB/fv30blzZzRt2hTVq1eHlZVViY7RwxhjjLGS9ejRI1y6dAmmpqaoX78+PvvsszzFjKHY2tpixIgR+O677xAUFISkpCTExMSgRo0a79zX3d0d0dHRAHKHhgkNDcXr168BAC1atBC2u3r1Ku7evQs7Ozs8ePAAALBz5064uLhAIpGgS5cukEqluH37thDv3LlzQkEVHx8PADh48KAwE03Lli0RERGBZcuWYdSoUQCAe/fuYeHChUIOmZmZCA8Px4oVK9C9e3ecPHkSAQEBAIAbN26gffv2AIDvvvtOyLVevXq4desWAGD79u0YPHgwzp07ByD/QrFp06ZCTLlcDlNTU53bacZXDA4Ofudzqw8R5VMBpqen4+TJk3j69ClPw8MYY4yVY0QEGxsbNGnSpNTGA8zMzESvXr3g5+eHs2fPYsqUKfDz83vnfh07dsTRo0cB5Oa9YMECTJo0CUFBQTh27Jiwnb29vXB5VpcNGzZg4MCBeWqYkydP4vnz5+jbt6+wzN/fH6dOncKFCxfQsmXLd+Z4+vRpmJqaahWub/roo4+wceNG4efFixfj008/BZB7iVgzHJFYLC7wCm7z5s1x6dIlHDlyBB06dNC5jeb8UlJSUKFChXfmXlT5zvVsbW2Nrl27GvyAjDHGGPv3s7S0xJgxY7B79254enoWeqq56dOnw8nJCf379wcAjB8/Hnfu3EGrVq20tvvxxx/x4sULnWMnZmZmCgXfypUrkZmZCYlEgoyMDDRo0AAvXrzAvHnzYGFhAblcjgYNGgDIbbF89OgR5syZg4MHDyIuLg7NmzfH4MGDce/ePWRlZcHGxgaurq6oVasWtm3bhgsXLmDlypWQy+Xw8/ND9+7dMX78eK18Bg0ahMjISDRq1AgODg5wcHBAaGgo/P39C3wuNm3ahNq1a+P06dM6C8Vnz54ByC0WS6JIBApoUWSMMcYYK66wsDCIRCLUr18f48aNM3Y65Y6mxfDevXvCMEAaDRs2xPXr1/H1119j2rRpJXJ88bs3YYwxxhjTT0hICJ4+fSp08mBFo7kM37t3b63lv/32G65fv46uXbuWWJEIFHDpmTHGGGOsuDQdYvWZT5oB7du3x+rVq4Xe0hpdu3bFt99+q3OwbkPiS8+MMcYYKzFpaWno1asXXFxcsH79emOnw4qILz0zxhhjrMTY2Nigbt26UCqVxk6F6YELRcYYY4yVKB8fHygUCmOnwfTAhSJjjDHGSlTNmjV5xrdyigtFxhhjjJUoqVTKM7yVU1woMsYYY6xEXbx4EVKp1NhpMD3w8DiMMcYYK1ERERH5zlVckLt372LVqlW4ceMGPDw80KFDB3To0EGINX78eNy/fx8mJiZISkrCzp074ezsbOj0/5X279+Phw8fYsyYMVrLx44di5o1a2LChAkAeHgcxhhjjJWg1NRU9O3bF05OTtiwYUOh94uKioKXl1ee5XPmzMHnn3+OS5cuoXnz5lrrYmJiUL169WLnPG/ePMTGxmLZsmXFjlUWvXjxQiio3y4DRSIRLCwskJmZCYAvPTPGGGOsBP31118goiK1KKampgpFYmRkJDIyMnD69GmEh4cjODgYAODr64tXr16BiNCvXz8AgFhsmLJm+fLlWL58uUFilUXvvfceAODw4cN51oWHhyMrKwsdO3YEwJeeGWOMMVaC7t69CwcHBzg5ORV6nydPngAARo8eDV9fXwCAn58f/Pz8hG3EYjHs7e0BoFBFqEqlwt69e3H9+nVUqVIF/fr1g42Njc5tZTJZoXMtLIVCgZ07d6J///4AgPPnz8PGxgYNGjTIs+3Vq1dx5swZJCYmolu3bmjZsmWBsePj4xEZGYnu3bu/817Q1NRUxMfHA4BQDL5p7ty52Lx5szB1IIgxxhhjrASo1Wrq1KkTLViwgJYsWVKofdzd3QmAzv3/f6oAACAASURBVMfMmTN17jNw4EACQHFxcTrXd+jQQWe8mzdvam03adKkfI8NgLZs2VKk82/SpImwb7169QgASSQSGjlypLC8QYMGwvZXrlzRedwPP/xQ2CYmJkZr3dvPV8uWLQvMafLkyQSAhgwZku82e/fuJQB06tQpKnKLYnZ2NtRqNUQiUVF3ZYwxxlgpUKvVsLKyMnYa+OabbxAYGIjbt2/jww8/LNQ+7dq1w8mTJxEbGwt7e3vUqFEDCoUCcrkc9evX1yuPypUro0WLFhg8eDB8fX1x7949DBgwAN7e3nj+/LnQ2tmoUSN4e3sjOjoacrkcvr6+UCgUUKvVUCqVqFKlSpGOGxwcjCtXrgDIncrw22+/xfTp07F8+XJ069YNL168wIULFxAdHY06depAIpHAzc0NwcHB6NmzJ6pUqYIJEyZg8+bNaNSoESZNmgQ7OzvUrFkT8fHxUCgUiIuLQ6dOndC5c2csWLAAERERaNKkiXDct2mmUfzuu+/yzdvd3R0AsHbt2sJ1Ztm7dy8iIyNx7949pKen81hIjDHGWBlGRLCwsICTkxMaNWqEkJAQuLi4lGoOSUlJ6NatG0aMGIGNGzfif//7HwICAgq1b3x8PKpVq4axY8fixx9/fOf2oaGh2LhxI+Li4lCtWrV8t7t9+zZiY2NRv359LFiwAEuWLMHZs2fRunVrre2aNGmCq1evGqTecXd3x8OHD/Hq1SvY29vDx8cH165dAxFh9OjRWLZsGe7fv4+aNWtq7ffHH39ArVajZs2aqFWrFtq2bYsTJ04I6+vVq4fbt29j37596Nq1q7C8VatWiIiIEDr9vCk1NVW4rF7Qud26dQve3t6oXr16/vco3rx5EzNnzsSLFy/QoEEDdO7cGZ988gkqVqzIhSJjjDFWhonFYqSnp+P+/fs4deoUhg4dCgAICQnBsGHDSiWHPXv2wMfHB66urlAoFPD29i70vq9fvwYAoedtcY0YMQIrV67UuU5XBxi5XG6Q4wIQpi7U3E+pVquFdTk5OVrbpqSkwMnJSed0h2/fe5idnQ0AWkUikHvvo0gkwrRp03QWikBuC2tBqlWrBolEgtjY2LyFYnp6OtasWYO9e/di9OjRCAgIKNINqIwxxhgzPhsbGzRu3BiNGzfGhAkTcPLkSWzbtg1Hjx7FmDFjtDqGGNrFixexZ88ebNiwAb///jtq1aoFR0fHEjteQRYvXoyVK1fC1dUVU6ZMES7L7969G4cPHy71W+kKamyztbUFAEycOBHVqlUTth0/fnyebTV55+TkwMzMTFi+e/duAICHh0eefSwsLADktvYWJCEhASqVCra2tnkLxV69ekEqleLkyZMFBmGMMcZY+dG2bVu0bdsWW7duxahRo/Djjz+iXbt2JXKsNWvWoGXLlrCzs8POnTvx7bffFml/TeubpaVlobbXFEAODg551v3vf/8D8E9Pao3t27cDAOzs7PLs82ar35siIyPRtGnTQuWkUZgZad7M+5tvvsGXX34p/Hzs2DEAgLm5udY+mpZQe3t77Nq1C02aNMG0adOwYsUKAMDGjRvzHMfW1hZSqRSZmZnIzMzM9/nNyMgAADRr1uyfXs9paWk0ZMgQWr58OaWlpRWpVw9jjDHGyo/o6Gjq378/7dmzx+CxP/nkE5o8eTKp1WraunUrffLJJ4XeNysrizw9PcnDw4MAkL29Pfn6+lKjRo2oWrVqdOTIEWHbnj17Ur169cjX15fs7OwIAHl7e5OPjw9Vr16djh49SkREw4YNIwDUqFEj8vHxoffee49sbGyEXsJVq1alKVOmaOXh7e1NAKhp06bUuHFjISYAmj17dqHPZ/jw4cJx/P39iYioYcOGBIA6dOhA4eHhBIDc3Nzo8OHDBICcnJzI19eXGjduTE2bNhX2t7a2pjp16gixa9asSRKJRGcv6Vu3buWb08cff0wAaNKkSfluc/DgQQJAv//+OwmF4owZM6h58+aFPnnGGGOMlV9r1qyhDz74wKAxN2zYQE2bNqW7d+9SZmYm9e7du9DD4hARKRSKAoenuXbtmrBtrVq1Ctz28OHDwrZ16tTJs97e3l74/6BBg7TyePDgAYnF4jz7eHt7F+n58PX1FfatVKkSERG5uLgQAKpTpw6NGDFCWL9x40Y6cOBAnmNqimbNQ6NGjRoEgFJTU+n777+nkJAQ+vnnnyknJ6fAnG7cuJEn1ttatWolrBcREcXGxiIsLAwHDx7Uus7NGGOMMW1ZqRk4vmQrRCIRWgx6H/ZVKubZJicjC8cWbgIRoev0j3XGUWTLcWjuOsgqOsB/ZK+STlunefPmISsrCzNmzCh2rAkTJuDRo0dYt24dbGxscOrUKXz99dc4dOgQ1xYlwMPDA9HR0Xp1MLa3t0dSUhKuXr2Kxo0ba62bP38+Jk+ejHr16uHmzZu5w+P07NkTo0ePRlBQkKHyZ4wxxv6VXsUlYHz1AIghxhenN8HDr0mebVISXmK0a0sQ1NhC93XGyXidgmEOjeFerS6+iztQ0mnr9OzZM4SEhOD7779HixYt9Irx6NEjLF26FElJSRg5ciS8vLzw4MEDfPnll/jqq6/0HvuQ5W/QoEHYtWsXMjIyMHjwYFStWhVff/11ofc/c+YM/P39IRKJ8tyPqekk8/TpU1SqVCm3M8vDhw/h6elpwFNgjDHG/p3EEjFsbZwhlohhks/UcSKxGHY2ziCV7k4RACASiWFnXhEVKubtgFFaKlasiNq1a+Ovv/4qsFDMyMjAhQsX8jQoPX78GOPGjYOdnR1Wr16NrKwsmJqaYu/evbC1teUisQQcO3YMGzZsEH7+5ZdfAKBIhaKfnx/WrVuH+/fz/hEzePBg1KlTB5UqVQIAiP766y/64YcfhAMxxhhjrGDyrGwAIpiamwL5DK8iz8oGCDC1NNe5HgDkmdkQScSQmr17ruKScvToUezfvx9LlizRuT49PR2TJ0/G06dP8dtvvwEAYmJisHjxYty4cUO4IikWi2FpaYmVK1fi3LlzWLJkidGGxClJn332GbZt2yb0tM6PXC5H48aNsXfvXp1jNepLoVDgwYMHWr2piQi1atUy2DHeZPLnn3+W6FhKjDHG2L+NqUX+xV+RtimgiCwtzZo1K3A6t59//hlRUVGoXr06AGDhwoXYs2cPatasiY0bN8LR0RHZ2dmwsLDA9evXsWrVKnz//ff/yiIRAH744YdCb/v48WPEx8cLU+IZglQqLdWrwOKbN2/ivffeK7UDMsYYY6zskMlksLa2Rnx8fJ514eHhuH37Nr7//nvExMQgICAAmZmZ2LNnj9BpJSsrC9bW1jhx4gRGjx6NJUuW/Kv7PBBRkR6GLBKNwSQtLa1MTBzO3oGAZX3CITUzRdN+HdHg/TYGCbt3xnK8in0CWSUn9Jo7ziAxGWOMlS+VK1dGenq61rKVK1fi6tWr+OWXX2BiYoIpU6agfv36cHV1RXp6OpKTkyESiWBqaorVq1dj27ZtmDVrFtq0MczvJ1Y2mIhEIp67uRwgIhzbuQlmsEDF2m4GKxRvHbmA+CtRcPFw50KRMcb+w96cyu7IkSPYtGkTli5dCgcHB8jlcvj7+0OpVArzBZubm8PCwgILFy7E7t27sW7dOtSuXdtY6bMSkmcKP1Y2icQizDt/CGKJBPZV847ZpS+puSlMrcwhtTDejdSMMcbKjqtXr+Lbb7/FrFmz4OHhIbQ0yuVyAIBEIoG1tTV2796NTZs2wcXFBYcPH4a1tbUx02YlhAvFcqRWy4bv3OZpVCwsKljDrrJTvttkvEqBlYMMQO4QDgV5/uARslPS4eZTt2jJMoP789djkJrzoLWMlRcqhQK1WjdGBWd7Y6dSJDdu3ICpqSkqVvynUUIsFsPc3BwSiQRJSUmYMWMGIiMj0b9/f4wdO9aI2bKSxoViKSIi9BG7QQpzfPjt/xA8dSgAYK7fMNw4exY16jXA1zd3CtuPtw/Ao6RorIr9Ew7uruglqgIzWKL/15Px/rThOPz9BvwS/hVq1m6A9/q0x8ZvZ8MKNjCDJXKQhYm/LUejbv5CvKW9JuHSrkMgELKQjrYf9IaphZnW5QaNHzqMxrVjp3LzhhoSmKCCrQNG7ZyHuoHNoFIo0dvUDeawwrDFXyNwXH8AwOxmobgbeRUZSMEORRzEJhIAwNgKbZCQFoO1CX9D5vLv7AlXGPfO/YWDs1fjyqETsDStAL8RH2DAkikF7vMi9gkm1egIC1MrKOVy8I0ijJV9IgAmpqZ4LU/EDnpo7HSKZNCgQbC0tERoaCgmTZqEXr164cmTJ1i2bBmOHz+OnJwchIaGFqn3Lyu/uFAsRSKRCD3GjMW51XsQc/E6AEApV+DhlShUdHHHy5ineBn3FI7urrh97CIyklIQ2KMfHNxdAQB2ooows7KAuU1u5yNzG0s4WLpAkS3H1V0nMPfMfqS/TsGWMd8hOz0T59bsFQrFA7PX4K89p1BB5oig8f3g2a4pdoYvxvP78ZBItd8G3wd8jNjLN2FtYYuQueNQqa47fp30A57ff4wfOozBvPiDsK3sjO5hoxC55RAubT2MwHH9kZOeicc378OpUmWYv7BA6osk2FZyxF+/n4ZSLocdKv6ni8Tzv+zDL0NnQiI1gU/Htkh++gLHftyM+Ct38Pn5dfnu9yz6ISzMrGAps0GjHgEgtWaaTsZY2SSC2ESCqD8uQfVAidePEmFf1cXYSRVJ7969UaNGDUyYMAFPnjxBy5YtceLECSxevBiurq6wtbU1doqslHChWMr8P+6JYz9vhEqpBABcP3AOpFJDmSMHRMDtPy7BL+wDXNh0ECZmZjC3tiw4oEiEjFfJCJ46DLXb5M7XmJLwEts/nY/Eu3HCZpFbDkNqYYY2w3qg+8xRAIDQFV9iTqvBMLP6Z9DQGwfP4d65azC1MEOn8EEI/KQfAGDGX9vxXauhiL8Whf3frMZHy6fCb/gHOLd6D+Iu34ZaTbh+8BxITVBk58DEVIo7JyLR/MMuuLT5ECQmJqja0MOAz2T5kpWagW2fzodIJMK0K5tR2Tt3YNTVH32BiM2/4+B369Dl8yE69xWJxCAVwcTMFKErvizNtBljxbCi///w/P4jPPr7XrkrFAGgSZMm2LFjB4YNG4bLly/DyckJXl5exk6LlTLDDRXOCqVKg9rwbOmL20cvQZkjR8arFKgUSviP7AWRSITza3NHvb+89TBIrcZ7fTq8M6YiW47Ww7oLP9dqUR8qhVKYOirp8TM8f/AIAOBQ7Z8vq6qN6sBSZq01xZQiKwdiiRhW9jK8P2241nHcfetCIjXBxS2HAADVm3qjerP6UKkUEImAtGevoVIohMntT6/cDQC4uvsElDlyhMz5D9/HQgRzaytMPLFCKBIBIGzTtzC3skbUsYv57ioSi6BSKuHW+L9baDNWHlVr7AmA8ORGtLFT0ZuLiwsOHDgABwcHobcz+2/hQtEIqjbygFqlxN8HziHjVTJUahXqtGkMuyrOiL96B9f2nIRIIoa1gy3qdXz3JO0EwpsjHBFR7oXJ/7/3UKVQQqVQ5k7+/da8o0613aBWqYSfRSIRQAQTUyneplKqIBKJkZn2z5eFq1d1iCHGzSMRSH+VApVKBc+2vpBVckRc5E1c23sKYokYFSrawyPAt2hP1L+Ihcwa3z8+BA//JlrLjy7chKyMNLj55D/KflZyGgDA1Mr4MzgwxgrP1MIMgAhpL5KNnUqxffPNNxg5cqSx02BGwIWiEbh4uMNEKsUfP2zG8Z+2wdLGGnX8m6Dh+/6QmErx6+QfIDExQZuwD3QWbDoVMBamhcwalrY2ILU6z/2Iz+780+EEANRqNSAWIzMlDTkZWVrbSkxMoFIqUdmj5j/n4lkDElMpDn33C06v2AUruwrwaNsE9Tq0hIlUil8nLYRYIkHb0X0hEuueD/W/6uj8Ddgw8RvUa9cSvb+fkO92aS+SAAD2VcrfpSvG/stkrs4AgIxX5b8lTiaTITg42NhpMCPgQtEImvbvCKmlORLvxkGZrYBtZSeYWpqjbpAv1EolcjKzoZQr4N3p3a2JhWFlL4Nr3RoAgPhrd6BSKAAAl7YcRk5GltYQOTZOdlDJFVDKFdgz9Sdh+bN78Yi5eAMqpRK+/TsKy5sN6ASpuSkSbsVArVTCwa0SJCYmaNC1DdRqNXIysqGSK1DPQOfyb7Hz8yXYPnkh3Gp5YtLxFQVum/T4OQDAppwNscHYf51dldxCMelxopEzYUx/3JnFCGyc7OAV1BR3TvwJlUKJZh92AQBIzc2hUuR2coFIBDMb7Y4smnkj//n5//95qzGR/n/lm9sGTwvD3I5D8eeOo7hx8Dys7Cvg8e17cK1TAynPXkGtzL38XMe/CVoP7Y7Ta3bh9Mpd+Ou3UzC1tsCLB09AajXk8mx0Ch8sxLWr4oxarRoh5uINKOUKtBiY+xdn/c6tYF7BCqRSQyQRw8zqHZ1y/kMWBI3EteMn4e7phVlRe965vVKeW9ibV+DnkLHyRHNFKHekAsbKJ25RNJKOkwbhdVIiktNfImj8AABA9Wb1IDGVIjnhOWr41kPVBnWE7UlNyEAKMjJSIM/MBpDb8SQjMxUZlKJ176FKrkAGpSAr+Z95O+t1aIHZf++DqZUlUp+9wsu4p5hwYCnafdIXZtYWsLSvIGw7aPV0TD27HvZuLngVn4hndx9Cnp2FLv8bgrX09//fd/OP7jNHISXpJdIzUhDw/x1ZACAnPRPJz1+gThsfuHhUM+wTWA49uxePsbLWuHM8EkOXzCxUkQjkDnQLEEQi/rgyVp4QCCKRCFmpGcZOhTG9cYuikdRoXh8b6Y7WMlMLcyzNiNC5vUgswlZ6oLWsw2cfosNnH+bZtnrT+thC9/Msr9KgNhYmHkPi3Ti4eLgLy9uN7Zdn21qtG+Hbu3vx+lEictIyUcmrRr7n4u7rhV/oZp7lP6Wey3ef/5rX8Yn4X51usLaVoWE3f7T7pB8U2XKYmEoRseF31A1qBvsquqdmfBWfAALgXKNy6SbNGCs2kUiErJT0d2/IWBnFheJ/0JtF4ruUx7G/yqKczCwQVBCJRIg6HonBIm+t9W5envj61k6d+yqy5chCGhTZ8tJIlTFmIGqFCpnqNORkZBo7Fcb0xoUiY6XA3MYKPl0DYSGzzrNOrVBpjW/5tjZhPVCrVUNUqpd/qy5jrOxxcK+E0PlfwkJmY+xUGNMbF4qMlQK7ys74ZN8ivfZtENwGDYLbGDgjxlhJq+Bsjw4TBxo7DcaKhe+OZ4wxxhhjOnGhyBhjjDHGdOJCkTHGGGOM6cSFImOMMcYY08mgnVkS7j7EppHfIic9k+f1ZawMIBXB1MIU4WfXGjsVxhhj5ZDOQjEzORWH523A2VW78eLlUzRo3RrhZ1e/M9inngFwsXeHSqHgKYsYKwNMTKXIycjCjkk/oM/8CcZOhzHGWDmjs1CcXLkT0jKT4epeAw7qSrByqKBrszxsYAuJRAzvTn6QmpmBSP3unRhjJUJiKkXspZt49TABcZF5Z85hjDHG3kVnoTjmtx+gyMqBm48nptcLARWycZBAMLW2xPDNsw2ZI2NMT/u/XoVDc9ch+ekLqFVqiCV8WzJjjLHC01koegU1AwCkvngNtbJwrYKvHj4FIIK1g8xgyTHGisfZoxrUajVy0rOQlZIGK3v+fDLGGCu8ApsXSFX4S8dJj19CxIUiY2WKjaMtSE1Q5Mghz8wydjqMMcbKGYNdh0pOeA6xWMydWBgrQ2wrO4GIkJOeiczkDGOnwxhjrJwx3A1LXB8yVuaYmEoBIojEYuRkZBo7HcYYY+WMwQrF1/EJEPGN8oyVKXZVXKBW53ZiSU18Zex0GGOMlTMFVnbmFawgEgESE8k7AxEReIhtxsoWtUol/F8k5j/kGGOMFY3OXs93T/2J6wfOQaVUwsTcDC9iHmP/N6uQ/jIZ7T/7CA7VKpV2nowxPYjEYuG2EB7XlDHGWFHpLBRXffQFEp/EQQozmJqY4dGrFMT8dQNZyAAB6L94cp591EoV5IocKOWKks6ZMVZIUjMpcigTIrkYCbfj0KibsTNijDFWnugsFOfc34cXMU8glmhfclYplHCtV0NnIKeaVdCwsx+qNqxj+CwZY3prFBQAU0tzVKzjZuxUGGOMlTM6C0WpuRlcvXQXhPl5r3d7vNe7vUGSYowZzmfHlhk7BcYYY+UU393OGGOMMcZ04kKRMfaflZCQgOjoaGOnwRhjZRYXioyx/6zhw4fDw8MDp0+fNnYq5U50dDQuXryImJgYY6fCGCtBOu9RNIRff/0VACAS6R5dUaFQwMPDAz4+PnrF79evH7Zv345Ro0Zh6dKleudZHkVFReHPP//EwIEDjZ3KO23duhWXL1/Gs2fPULVqVbRq1QpKpRLu7u5o3LixXjHVajVkMhmUSiWysgwzf/Hp06ehVCoRGBhokHgaI0eOxIoVK9C/f39s2bLFoLFZ8YWFheHAgQPYtm0b/P39S/XYmzdvhpmZWZ7lSqUSXl5eaNCgQanmU1iXL19Gv3798hSIt27dgpeXl5GyYoyVlBIrFPv06fPObT788ENs2rRJr/hxcXEAgMePH+u1f3k2efJkHDhwAEFBQahUqeyOaSmTyZCamqpzXa1atXDv3j294hIR0tPTi5NaHsHBwcjIyIBSqYRE8u4B5gvr0aNHAICHDx8aLCYznM6dOwMAli9fjmXLSq/Tj1qtxkcffVTgNhcuXEDz5s1LKaPCa9q0KQAgJCQE1apVQ0REBC5evIjs7GwjZ8YYKwklViieOnUKGzZswNq1a9GpUyeEhIRApVJBIpEgJiYGc+bMgYWFhd7xL168aMBsyxd7e3sAuQVTWdWnTx+kpqaiZ8+eGDp0KBo1aoTbt29j1qxZOHPmDJRKpd6xJRKJwc/dwcEBmZmZBi0SAeDAgQMGjVfSFAoFpFKpsdMoNWZmZliwYAEmTpyIsLAwrF69ulSOKxaLcfnyZYSEhCA+Ph4//vgjRCIR1Go1LCws8MUXX6BFixZ4/fo17OzsinWsknhNly9fjhEjRhg0plKphIlJif1KMhi1Wg21Wl0ucmXMIMLCwujevXtUEo4fP04AaO7cuURE9OTJE1IoFPTixQsCQJMmTSpyzCNHjlBwcDAFBwdThw4daPLkycXOc+XKldSxY0dq3749zZs3j9LS0mjAgAFUoUIF8vX1pTt37ugVNz09nebOnUtOTk5kampKVatWpTlz5tCXX36pV7z4+Hjq27cvVaxYkQBQ27ZtqXv37tSlSxcKCQmhZ8+e6RXX0CIiIggAubm56VwPgNq3b69X7LFjx1KnTp0oODiYgoKCKCEhoTipUkREBPXu3ZukUikBoC5dulC3bt0oODiY2rdvT0+ePNEr7tmzZ4U8O3bsSKNGjSpWnkREa9asoXbt2tH777+v9ejcuTP169dP77gvX76k5s2bE3LncCEA9OWXX1JOTk6RYykUCpo8eTIFBgbStGnTaPbs2WRpaUnW1tY0ffp0evXqld55ajx8+JD69u1LS5cuLXYsDQcHBwKQ7/tp/vz51K5dOxo9ejTt2LGDZDIZWVlZ0UcffUSvX7/W+7gBAQEEIM/yFStWEABatWqVXnEfPHggxAZAdnZ2tHz5cr3zJCIaOnQodevWjQBQo0aN6IMPPhC+hx89eqRXzJSUFNq0aRNZW1sLuYaGhhbrd9KBAweobdu21KlTJ/rss8/o5cuXNH78eOE7MzExUa+4t2/fps6dOwt5WllZ0dy5cyktLU3vXMuSkSNH0u3bt4mIKCYmhpYtW0YHDhygBw8eUGJiIj1//tzIGTJjKdFCcf/+/QSAxowZIxSHNWvWJCKix48f6xUzMDBQ6xeaj49PsfO0srIS4pmbm2vFB0BVq1YtcsyMjAytGK6urlo/nz59usgxly5dmie3Nx8bNmwocsySMGDAAAKQb5H16NEjys7OLnLcnJycPOd8//79YuXar1+/Ap/TU6dO6RW3T58+WnHc3d2LlSdRbpGcX54mJiZ6xTx79qwQo1atWtShQweytLTUO+bDhw/z5CaVSqlChQoEgHx9ffXK803NmjUTYl+/fr3Y8YiI5s2bRwBo/fr1edapVCrhDwnNw9TUlExNTYUiTF+tW7fOUyhGRESQRCIhABQbG1vkmAsWLBDy9Pb21vrO9Pb21itPhUJR4Odk7dq1esV1c3MjAGRpaUlBQUFUo0YNIebDhw/1itm4cWMhhlgsFv6v+WNAV2H+LmvXrhX2bdmyJbVr107r/P8N3iwUFyxYQEOGDKFx48ZR7969qX379tSuXTsKCwujgwcPklKpNHK2rDSVSqH45qNhw4bFjpuamkppaWnCh9YQbt68qZXnunXriIho4cKFtHr16iLH27Rpk85CdsSIEWRmZlaslpWePXsSAIqMjKSsrCxKSUmhlJQUveMZmp+fX4l9eWoKTM0vP31+keri6upKEomEEhISKD09nVJSUigpKalYMTWvCQDy9PQsdo4TJkwgABQREUFE/xQ3AOju3bt6xdS0Or39fly0aBEBoO7duxc55suXLwkAOTo60qJFi4Tlmpbw4vr777+pT58+NHbs2GLH0tAUuA4ODjrXy+VyAkAikYjCw8NJrVYTEVGnTp20XpOi0hSKFSpUIGtra62WtbZt2+oVUyaTkYmJSZ6WLs0fGlOmTNErbkZGhlAwLlq0iFQqFaWkpFBycrJe8ebPn08AqEGDBlqFx8KFCwkAWVtb6xWXKPezpykSq1WrRrNmzSIioq1bt9KyZcuKFCsrK0toMIiOjtZa9+mnnxIA2rdvn965lhVvFoqLFi2iRYsW0eXLl+n06dN0/PhxWr16NU2dOpWGDx9OnTp1ouXLl1NMTIyRs2aloVQKxapVq5K/vz8BoLp16xosviELxcTERKFFUZ/Wrrelp6drFZ72HLqJlQAAIABJREFU9vY0ZMgQ+uOPP4odW9MK9vaXVlnRpk2bEv8rW/ML2lCFYuXKlUkkEul1ufVdDFUoEhH99ttvRETUt29f4b2Vnp6uV6zY2NgCW4k0n92i0rSm9+jRQ2t5q1atynTryxdffFFgIQWAvLy8tJbNnj2bANCxY8f0OqamUMzvceTIkSLF0/XHua5HcQD6XxJ/O45EItG5bsyYMQSADh06VKz4hni/aa6GFfR4+31RHr1dKM6fP5/Onj1LJ06coJMnT9KZM2fo/PnzFBERQUePHqWhQ4eSn5+fXg0prHwplXEUP/nkE5w6dQoA0KxZs9I4ZJFpOlcEBgbqHLKiqKysrPDs2TNMnz4dnp6eSEtLw7p16xAUFAQvLy8kJSXpHVutVgMAVCpVsfMsCbVr1wYAXL16tcSOoXkODIWIQETF6mRTGrp164apU6di+/btAHKfBysrK71ipaSkAABMTEzg4uICW1tbrYednR3c3Io+P7TmtZHL5VrLy/pzO2vWLFhaWmLfvn151mnO6e1z0JyjWFy8r1LN+4+IoFAo8OOPPwIAZs+eXaQ4ml72lpaWqFixYp7Xs2LFisXKU8NQn7+qVavqXN6yZUsAxf8O8fT0LNb+wD9DvJmZmeX5nNjZ2cHBwSHf0R3KM7FYDIlEIry3lUolcnJykJ2dDVNTUwwbNgxDhgzBiRMnEBYWhqNHjxo5Y1ZSSrRQ1PTW03zQiAjr1q0z6DEMUdQBgLOzM4Dif+FrHD9+HC1btsTMmTMRFRUFuVyOjIwMTJo0CVFRUfj000/1jq35kra2ttZafunSJSQnJxcrb0MYP348AKBTp04618+bNw/ffPNNsY5hbm4OAHB0dCxWHA21Wg2JRAJLS0ut5VevXjXIWI2mpqbFjgEAv/zyC+bMmYOWLVuCiCASiXD58mXMmjWryLE8PDwgEomgVCqRkJCApKQkrcfz589x/PjxIsfVvC81r5GGoT6rAJCTk2OwWG96//33hXFK36T5Xnj7ddScq749k99+joDcwn3s2LEAUOSBwIODgwEAVapUQWJiotbr+fr1azx69MggIwbIZLJix6hZsybi4uKEMXc1kpKS8Pnnn+P/2LvPsKiONgzAz1KlKKAgShdQkKKIxoox9hZLNGpiib0m9s8ae8GSKLERSwQV7IrYsIOK2BDFDqKCCkqXDrvAzvdj3QOHpQgsAvreufaCmZ0zZ3YXwzDlHQD4+eefy3UPefz/XPr/29atW8v8O0lMTERcXBzXQS/o/fv3ePXq1WfdIyAg4LPak56ejsePH3/+CyijlJQUREdHIz4+HkKhECoqKlBWVuZ25wuFQlhYWGDq1KkwNTWFq6srAgICqnQ0DlJGFTX13KdPH6alpcWtvzExMWG2trYsLi6uzHVGREQwXV1dZmxszMzMzLiF8ubm5kxfX58NGDCgTPUaGRlxm01UVVWZubk5MzIyYkZGRmVeLL97924GgNWsWZOtXbuWnTt3jrm6urIGDRowAGz06NFlqpcxye5DAGzixIns4sWLbO3atczKyooBYM7OzmWuV57+++8/bk3X/Pnz2bFjx5inpydvoXl2dnap6hw5ciSrW7cuMzc3Z6qqqgwAMzQ0ZCYmJkxbW7vMU7CMMWZhYcEAsAkTJjAfHx+2fft2ZmpqyoDS79BOSEhgdevWZcbGxly9ioqKzMLCgtWrV4917ty5TG2UbhLCp3VdDRs25C3+L8vuS+k6R4FAwJYsWcLOnTvH1qxZw20Y0dPTK1V9L168YA0bNuRec7t27RhjjF28eJFrp4mJSbnWNp04cYIBkg1i8hYREcG9H1IZGRnc0hl8mmZMTk7mdvcDks0Ypd1Nm3/5gJmZGTMxMWEmJibc/9sAsDFjxpT6NfTp04cBkk02a9asYT4+Pmzu3LnMzs6uzNOxKSkpzNTUlGtb7dq1mZmZGTMyMmImJiYsNze31HUmJydz7Rk2bBg7efIkW716NZdXlogW8fHxrGnTpszY2JgBks0sDRo0YMbGxszIyIj5+PiUuk7GGGvRogXXrl27djEvLy+2fPly5ujoyADJLvCCgoKCPvv9lq4JLmldqlgs5uos61rTouSfevb09GQtW7Zk7du3Z507d2Z9+/ZlI0eOZK6uruzq1avs5s2b7Pr168zX15f5+vqyW7dusWPHjrHWrVuz1atXy7VdpPJh7NixFdJRVFJSKnQth5+fX5nrfPToUbHrRGrUqFGmeourc//+/WWqUxreorDHgAEDyrUOMiQkpNB6u3Xrxh48eFDmeuVtwYIFhbbTycmJBQcHl7o+6W7coh5lqVPq/v37TCAQyNTZu3dv5u3tXaq6IiMjK2SNmLRzXNSjLBuasrOz2dy5cwutT0lJqdS/jI4dO1boa12yZAkvrzxrdfv378/VU9awLMUZPXo0A8COHz/OGMvrPOZ/vH//nh09epSX5+/vX6r7lPQzMmnSpDL9vzk2NpYNGzas0Dpr1qzJpk+fXuo6nz9/Xmxbyxqmat++fczGxkamvuHDh5epvsDAwGLbWdbQZIxJ/lAtqt7CQjXl/+OoJPPmzWNAydERkpKSuDqHDh1a5tdSmClTprCnT5/y8jIyMlhgYCA7ePAgc3NzYxMmTGDdu3dnixcvZq6uriwgIIBdvXqV+fr6Mn9/f7Z//37266+/si1btsi1baRyCaZNm8bGjx8POzs7EPkTCoW4dOkSnj9/Dl1dXQwfPlxuwW8vXLiAhw8fwtTUFD///LPcg0XLy8WLF/H8+XMoKipi2LBh5Q4gXJF8fX0RHByMWrVqYdy4cZXdnC8mNzcX586dQ0hICLS1tdGiRQs4ODhUdrOK9N9//6FJkybcKSHy5Ofnh06dOmHUqFFyXyrzJSUlJcHX1xfh4eHQ19dHu3bt0KBBg8puVqEePXqE8+fPw8DAoMQTayqbu7s7EhMToaWlha5du8LU1LTIsvHx8cjIyChxra9YLMbNmzfh5ORU4v3FYjGePn0Ke3v7Ure9OP3794eLi0uJPyPR0dFwc3ODn58fdHV1MX78eKipqXHT0x8+fMCGDRswf/589O3bt9TtyM3N5ZaryWspWEWR7hOoqr975UXg4uLCTExMMGDAgMpuCyGEVAmWlpbQ0tJCUFBQZTeFkAqXnp6OPn36wNfX97OviYqKwuXLl+Hh4YFWrVrhhx9+gKqqKpSUlBAeHo5jx45h9erVpTr/e/z48dzpSK1atZL7CWwikQguLi6YM2dOuTuhRkZGiIqKAgBs27YNU6ZMKVMdGRkZSExM5OU7ODjg4cOHcj9StqwUnJyccOnSpcpuByGEVBkvX75EYGBgZTeDkC8iMDAQjRs3LtU1hoaGGDlyJP7++28kJiZi586dyMrKglgshqWlJRwcHLBmzZpS1dmzZ084OjoCkByrKm8nTpzA/PnzceTIkXLXNXHiRJiZmQFAmSJPBAQEICoqCt26dZN5rkWLFgCAv//+u3yNlBOFFi1aICgoCNHR0ZXdFkIIqTKq+rQXIfJy5MiRMi8/c3BwwL///ouWLVti/fr1iIyMhFgsRufOnZGVlVVouKmiDBgwgBvFr4gz56WRF2JjY8td1+LFi7F+/XoAkImW8TmkywyWLVsm85yLiwsAYP78+VViF7kCANSvXx8hISGV3RZCCCGEfEEfP37Ew4cPYWtrW6565syZgx9//BFeXl548eIFVFVV0bt3b+zevVtmarU4aWlpAICQkBDMnz8fqqqqEAgE6NixIw4dOsQre/78ecyaNQu2trYQCAQQCATo3LmzzBR6QkICFi9eDE9PTwDA2bNnsWbNGixbtgwLFy6El5eXTDu2b9+O8ePHo06dOmjevDlmzpyJ5cuXY+7cuVwZafzMAwcO4LvvvoNAIIC2tnahnb/8tm3bBgBo3759obE+a9asiSVLlgAABg0aVGxdXwRjjN29e5f16tWrkvfVEEIIIeRLcnV1LdNO+KIcPnyYtWnThp05c4ZdvnyZ9ezZs1Snt0iP55U+FBUVubPiAbBNmzZxZfOfY66jo8Pq1q1b6E7zBw8eFLsbvnnz5rzyEyZM+KyoFdIwcNJH/nauW7euyNdobW3NALDHjx8XWUZ6wlXB11IZFADgu+++g7m5OUaOHFnhHVNCCCGEVL6LFy/i0qVLZQrYX5TBgwejb9++OHToEDQ1NfHjjz+WapOMlIqKCnx8fJCTk4Pk5GQ8ffoUjo6OmD59OlffqVOnEBwcjJCQEDx79gzh4eFYsWIFgLxRO0AyPf78+XMsXLgQADB58mTcuXMHvr6+OH/+PPz8/Liyrq6u2LlzJ9q3b49bt25BJBIhLi4O/v7+hQbIBySB4SMjI5GcnMydePXy5ctiXxuAYqf71dXVK2SdZllwi3AWLFgAkUiEQ4cOVfmjtgghhBBSdqGhodi+fTtGjBghc8pXec2fPx8CgQAnT57kjmMs7abZbt26oWfPnlzaxsYGf/75JwBwJ9PExsZi165dsLa2Rv369aGhocFN2WZlZfHqs7a25jbKWFtbo2XLlujYsSO6d++OmjVrcuWCg4MBALt27ULr1q2hrKwMXV1dODk5YdSoUWjXrp1MW/v37w9DQ0MAQK1atQBIdpKXV1VZJ821wsDAAAcPHoSLiwuNLBJCCCFfKV9fX/z8888YNmwYfvrppwq5x+rVq3Hr1i1ERUWhffv2Mkc1lkQaSzE/9mljh3SjS6dOnbiRw1GjRmHkyJFcXMvCrpeezZ6dnV3kfaV1F3ae+b///osbN27I5EvjKZbU/upKprt66tQpNGnSBIMHD4a3t3eV2HFDCCGEkPIJCQnB0qVLsXXrVmzatAkDBw6ssHsZGxtj9uzZOH78OFRUVBAREYGkpKQSr5OObr5//17mubdv33LfJyUlITw8HF26dAFjDO7u7tizZw+32aSwkDXS/oyamhovXyQScW2TdiKL2hmdf5pe2tbCdj0XNU2dvx0lkXZsK5tSwQx9fX3MmzcPJ06cwObNm+Hi4oIhQ4agW7duMDIygrKyMnUeCSGEkCqOMYaUlBTcvn0bR48eRUhICLp16wZ3d3doaWlV+P1btWqFdevWwd7eHgKBAI8fP0b79u2LLH/79m3s27cPABAUFIT+/ftj1apV0NPTw6pVq7B161YAQL9+/SAUCgFIRv7S09Px4MED7Nu3D7t27QIgCTFjYWGBLl26cPVLO2+enp4YOHAgoqOjcfz4caxcuRKA5P1ycnLCrl278MMPP2Dp0qUYO3YsxGIxXr9+jaFDhyI6OhpjxozBnTt3uOucnZ3Rtm1b1K5dG4sWLQIg2Vm9cOFCODs7y7xO6RpFb29v9O/fv9D3IiIiglvvWNkErJheX2xsLIRCIby8vHD//n1kZmZCKBRSR5EQQgipwhhjUFFRgaqqKvT09PDrr7/CyMgIRkZGX7QdmzZtwuvXryESidC/f3907969yLKjR4/Gnj17inzexMQE169f56aXCytfo0YNbn2igYEBd3qKlDR2dH5qampYtmwZNxrp7++PDh06FNrXadmyJe7cuYPevXvDx8eHy9++fTvatGmDpk2b8sqHhITAysqKl3f58mV07dq10PZJ9enTB2fOnMH69esxZ86cIt+TL6HYjmJBQqFQZoEoIYQQQqoeRUVFuW9UKS2hUIgJEyZAW1sb9vb2GDduXJFlk5KS8OjRIygpKUFPTw9xcXE4cuQIYmJi0LVrV4wZM0bmmitXrmD79u0wMDBAr1694OTkhAcPHoAxBjs7O+jo6Mhcc+TIEZw6dQo1a9ZE586d8fPPP8uUycjIwPHjx3Hu3DkoKirC0tISw4cPh4WFBQDJtHBycjIUFBTAGIOuri4AySYWaT9JVVW1yPdf2mG9fPkyOnfuzHvuwoUL6NGjB2rUqIHMzMwi368vpVQdRUIIIYSQ0jh69Cjc3d3RrFkzrF69urKbU2UIBAJYWloiLCyMl//999/D398ft27dQuvWrSupdXlk1igSQgghhMiLNB5gUdOs36oJEyZwJ9HkZ29vj5o1a1aJTiJAHUVCCCGEVCAjIyOIxWLa31DAjh07Cs3PHyy8Kqga0RwJIYQQ8lVq1KgR9PX1C403SKo+6igSQgghpEK1adOm2EDXpOqijiIhhBBCKpSNjQ0dD1xNUUeREEIIIRVKQ0OD1ihWU9RRJIQQQkiFCgsLg6KiYmU3g5QBdRQJIYQQUqGuXr3KHV1HqhfqKBJCCCGkwgiFQoSHh1fbEcW3b9/CxMQEv//+u8xzAoEAK1asqIRWfTnUUSSEEEJIhQkICICCgkK17SguWrQI7969447py09FRQVLly4tNHD214I6ioQQQgipMB8+fICamhr09PQquymllpubCw8PDwDA3LlzZZ53cXEBAHTo0OGLtutLoo4iIYQQQirMuXPn0LRpU2hraxdb7uXLl/Dy8sKDBw9w+/ZtdOvWDY8ePQIATJ48GQsWLJC55tKlSxg9ejSaNWsGS0tLzJ8/H2KxmFfm7NmzOHnyJIKDgxETE4N58+Zh6NChOHbsWIltd3Z2BgD069cPGhoaMs9PmTIFmpqauH//Pm7dulVifdWRgNF+dUIIIYRUgF27duHNmzdIS0tDv3790LFjxyLLCgSCz6ozJycHioqK6N69Oy5evCjzvIKCAncKzKxZs7hRv6Lcu3cPzZs3L7ZNUVFRMDAwKLSMs7Mz/vzzT5w5cwa9e/f+rNdQndCIIiGEEELkLi0tDceOHYO9vT1evHhR4hrFu3fvct9v374dERERXPrmzZtYsmQJAMDd3R0AsGXLFri6uiIkJASMMTDGuBFFNzc3AMDGjRuxdu1arp6hQ4fCx8cHERER2LBhAwDJqTGpqalFtsvMzKzITiIAKCsrAwDOnDlT7OurrqijSAghhBC5e/nyJVRUVGBgYAChUFhsZwsAvvvuOwCAg4MDJk6cCFNTUwCAoaEh2rRpAwcHBwCSXdSA5Azp2rVro23bthAIBBAIBNi5cycAIDExkat33rx53Peenp7o2bMnTE1NMWvWLGzZsgXZ2dlYt25dke2ysbEptt3S5wMCAootV10pleWi6OhouLu7IzExEWKxGGKxmCKuE0IIIZVEQUEBCgoKUFJSQu/evdGuXTsoKFTeWNCLFy+wYsUKrF69Gm/fvoW2tjYsLS0/69qCZ0JLj/4TiUQA8qaDBwwYgBMnTgAAmjVrBsYYQkJCAID32qXT0A0aNJCZ3m7Tpg3X3qKUFP9ROlL6tfaDStVRPHv2LDw9PREREYH69evDysoKFhYWMDY2hkAg+GrfJELI100gAIyNJd+npgIfP1Zue/ITCAAVFeDTIAr5TAKBAMqKKhDlVP03TiAQQEVJFcLsrDJfn5SUhLdv3yI0NBT/+9//oKenh27dumH48OGoXbu2nFtcsuPHj0NHRwdNmjTBzp07MXDgwM++tuAUdcG0mpoaAODEiROwsbHBvXv3uDw/Pz906tQJNWrUkKk3PDwcd+/eRcuWLbk86ZrC/v37F9me0NDQYtsbFhYGALC2ti62XHX1WR3FJUuWwM/PDxYWFliyZAkaN25c0e0ihJAvSjrQMGMGUMLa9y/u0SOgSZPKbkX18/x9MBobOFR2Mz7Lk8gg2BnJL8RKamoqNm3ahAEDBkBPTw///PMPDA0N5VZ/cbZu3Yq7d+/i0KFD8Pf3x/v37zF06NASr7t58yYASYDrmzdvom3btgAks5gZGRncWsCHDx/iw4cPACTT1GpqahCJRNi3bx8mTZoEAPD29sbAgQOhr6/Pu0erVq1k7rtkyZJi2/f8+XPEx8cXGkcRyJsKHzx4cImvsVpixTh37hzr378/W7x4Mbt161ZxRQkhpFoDJI8xYyq7JXm8vBhzcpI8yOc7fsuDTdj2Exu8vkNlN6VEz94Gsxn/DWc1BhX767jM4uLi2OHDh1mPHj2Yq6trhdwjv0OHDjEnJycWGhrKMjIy2NixY9m2bds+61oA3MPR0ZGX17NnT3b69Gku/fDhQ/bDDz/wrin40NTUZIwxlpubywAwS0tLtn79etawYUMGgPXp04e5ubkxsVhcZJvGjRvHALB58+YVWcbW1pYBYDdu3CjFO1V9FBke58KFC1i1ahUGDRqEadOmVWxvlRBCKpmLC1CjBuDgAHxatlTpfvsN8PAAfvwROH26sltTfTSfpY/UrBR0d+iPLRMOVnZzirXi8Ex4XvsXwmwh3uyquOVbUVFRmDhxIgwNDbFhwwZoamrK/R4XLlzAmjVrsHLlSrRv3x7Pnj3DyJEj4eHh8VnTsq9evcLz588hEAhgamoKOzs7eHt7Q0FBAZ06dUJWVhYCAgKgra3NBbheu3Yt/v33XxgaGqJHjx4YNGgQfHx8IBaL0aNHD9jb2yM3NxdKSkpwdHREUFBQqV5TRkYGFz8xKysLqqqqvOcvXbqEbt26QUND46s9naXQjuKOHTtw8OBB7NixA1ZWVpXRLkII+aIuXZKsBTQ2BszNgagoIDAQUFMDuncHXr8Gtm8HVFWBKVOA+vXzrn36FAgNBezsgEaNgM2bgXv3JB29Ll3499m/H3j/HqhVC5g4MS//2jXgxg2gVSvJNb6+wNq1knZ99x2wbh1gYwNIZ9L27AGOHAGio4HmzYEePYBSLAP7aj1+cx+Tt/+MdGEa7IybYWbfZTDWM4derbwpyGtPLyAyPhx6WvVhrt8IlvXzllNl52bj7ovrEOUI0dG+F/we++B55CP0bjEIpnoWXLnjt/ZBVbkGfmwxGJmiDLyJewXGxGhs1JTXno9pCfAJOgZtjdro3PRH1FBW4557n/AWa73m48bzy8gQpuPY3BtQUBDAxlgyXR706iYOXN+J2OQPsKxnjRaW7dC7RdmnN8ViMRYtWoSnT59i//79cu0sbty4EWfOnMHChQvRsWNHpKamYurUqfjll1+qRGxBgUCAli1b4s6dO6W+9ueff8bx48fx999/Y/bs2bzn6tevj+joaISGhqJRo0byam7VUnCI8fz586xt27YsOjr6S49uEkJIpZFOPY8eLUm7ukrSKiqM7duX97z0cfJk3rXDh0vyRo1izNqaX27mTP59zM0l+UpK/Pxx4yT5Q4fy25P/sX+/5LlJkwp//p9/Kua9qU7MJigwx1n6rPVcY+YwU5dpDwPzuuXJGGMsXZjGWs4xYKbjBcx4LJjZeAXWcLIqW3JgKnd9XHIMM5+kxAzHgG0/v46ZjVdgpuMFbNK/PzPGGLvzwp+1mmPIzCdKyrSZa8JuPL/CzMYLWL1RYFmiTK6uq0/Os0ZT1JjJODDjsWBNptdme65s4Z6f7TaSWU5SYa3nGrPWc41ZvVFgw126MsYYOx14mBmPAzMYDVZ/tOR6y0kqbLhLt3K/R/PmzWN9+vQpdz1Sa9asYe3bt2fPnz9nmZmZLCcnhx04cIANGjRIbvcoq0uXLslMSbdv375UdTx+/JgBYI0bN5Z5DgD78ccf5dXcKom3dz4mJgYLFizA2rVrZRaAEkLIt0A6yPJpEyVEIsnI4NKlwMaNeeXyhWbjrtmzBwgJAdzdgWHDJHkuLsCiRXlla9WSfNXS4t9XXZ3/tVUrQHo0rrY24OgoGVHcsCFvZFPaRVyxQlJuxgzgU5zhb1bv5oOgrKiEnNwc1NHUQ/+WvWBY2wQA0PJ/hohKeI8Ott2xcYw7ejgOQA0Vdey6uAUpmUkAAEUFRWir14ZhbQP8dWIRGug3hJqKOvq2/EVS/8r2yBRlwkyvIZxHbIOZviVG/tMDdbUNoKaiyIVlWXl4FkZt6oXc3Bz8r99KTO+zGOlZqVh6aBrcr2wGADg0aAVTPUvk5OYgKzsT/VoOQMuGHZCWmYo5e8ZCQ1UDUW4M790YTv15G4oCRVx+eBH3XpYvXt/atWuhqamJ5cuXl+qaHj168PLc3d3h6OiI2NhYXLp0iYuA8vTpU2zevJkXv7CyZGXJ7iR/+/Ztqeqws7MDYwzPnj2TeY4xhtNf+7oQaY8xISGBdevWjfn7+1det5UQwhhjbNeuXey///7j5c2bN4/l5ORw6Z07d7IXL15w6Xv37rGFCxfyrlm8eLFMmYMHD3LppKQkNnfuXN41wcHBzNPTk1dmzZo1vDIuLi7s/PnzXDo8PJwtXbqUV2bjxo3s/fv3XPrixYvs8OHDXDo+Pp7NnDmTRUVFcXlXrlxh586d45XZsGEDr95169bx7p2UlMT++usvXpkNGzawxMRELp2QkMBKIu12Tf00uOTunpe3cWNeOWm+unpennSET1ubMZEoL79jx7w6Mj8NNDk4SNJ16vDvP22aJH/cuLy833+X5P30U17e4MGSPB0dxpYvZ0z6Fp85w9i7d8W/xtTUVLZgwQJe3tatW5mHhweXTktLY2vXruWV2bx5M3v79i2XvnbtGlu2bBmvzLZt29jr16+59NWrV9np06d5954xYwZLSkri8vbv389OnTrFpd++fcvWr1/Pq3fJkiXsXb4XFhUVJfPzWFCHhQ2Z/TQdNn3XsLz7ZyYz79v72ZEbbryyv/7diVlMVGY+QccYY4wlpsYzx1l1md1ULeZ8dA6v7NKDU5nNHzVZ16W2vPyuS+1Y89n1mPkEJZadm80YY6zBBEVmO7UWc7+8iSt34NpO1vgPTWY7tRaXt/HkEmY/TYeZjs+b4Hvw+g6znKTCms6ow1zPrWXP3z1ijDEWEvmIvfoQUuxr/1wikYiNHz+e7du3r8Syu3btYl26dGGjRo1iHz9+ZNu2bWO//fYbmzRpErt8+TJLTk5mSUlJLD09nT158oR17NiR92+dVG/ciKKrqyuEQiGcnJwqs99KCAFga2srE4aqTZs2vCCytra20Mo3LKWvr4/WrVvzrmnVqhW0tbW5dN26dXnraFRVVbmAs1J16tThrU1WVVWVOQe1adOmMDEx4dK1atXiTlXIX0a6CBwATEz6ld67AAAgAElEQVRMeAF31dTU4OTkxFsnZWRkxKtXTU0NzZo149Xr6OjIK6OioiJTplmzZrxF5wUXoJfWTz/lfd+pk+RrIQMV+PVX4FMEDwBA/tBs9+8Xf4/CjrnNzJR8zR9DccQIydePHyWjnAYGknWRz58DRkbF30NFRUXmZ6RJkya8z1tZWRmOjo4yZWrWrMmlDQ0NZT5ve3t73s+joaEhzMzMePd2cnLifRaNGjXilalZs6bMZ9myZUvez4impqZM+woSM0mA5excUd51NWqhX6uhGNRuNMJjXuDKwzMYtrErXkaHQFlJBdm5/CDPGcJ0/N5rIS/v5nM/KCkqQ7NGLV5+T8eBEBWIgciYGAKBAGoqGrgYfBIXH5yEspIKFAWKSM1M4cplFRI70d7EEdoadcAYg6vPGvRf2xrdltnj+rNLMK8nn30DysrKaNeuHS5dulRsOX9/fxw5cgS//voroqOjMXjwYPj4+KB79+7466+/0LZtW4jFYigrKyMzMxPr1q1Dy5Ytv95QMd8ixhjLzMxkvXr1Yo8eParkfishhFSO4kYU84/UvX4tyVNUzMuTjihOn86v08tLdk1jUSOKU6bIjiiOGSPJ69WLXzYkhDFNzcLXKZ45U7734WvQfoE5s5+mw6Zs56+R23H+L9ZxkRUzHANWezjY2C19Wa8VzVijyWrsVOAhxljeiKLJONlwNY6z9JnDTF3Wz7kVL/+Q/y5mO7VWgRFFBdZ6rjGrPxpMZ5jkofcbWIMJikwtXygc52NzZUYUGWPsTexLNuTvH5jZeAVmP02HNZupxxr/rskcZuiy0KgncnmfGGPst99+YydOnCj0OV9fX9a2bVt27do1FhMTw44ePcpevnzJYmJiWGZmJvv48SNLTExkWVlZLDg4mHXs2FFmRJhUfwoAcPjwYdja2sLe3r6y+62EEAB79+7ljp0ilS9/bIjiDqBKSOCng4Pzvpcu+xaLC782PLzoeguONlpZSU6QOX9esiM7v9u3i67n25P3xj15+wBrjs/Du/gIbBnviQQPhv/+OAmzug2RI84GY0V8MPnUqakHsVgMJQX+WRWBYQFQUlTm5TEACamxCN+RiURPhkRPhti9DK935CDjSMlhcEz0LHBoth+Ozr2OwU5joCCQHNGXI87B5tMrP+/lf4bZs2djx44dMvkikQhr167FiBEj0LZtW6iqqqJXr17Q09ODqqoqMjMzoaCgAB0dHTx58gRTp05F7969MWfOHLm1jVQNCoBkQeqMGTMquy2EkE8ePnxIR2JWQ56ekofUhg2Sr6qqks0pgCQEDyDpVEZHS74PCwPOnSu63k9H3QIApk6VdBwtLSWdxPPnJZ3XQg6c+GbliiXTvmJx3h9b+69th0YNTWipa+Gn1sO4/IdvAqEgUIBhbdMS653UfS6yRBl4GR0Cv8c+AID3H9/B89oeqKmo88pmicSooayGv73zdjK5Xf4HreYYYaLrAC4vr415ndodF/5G2/mm0B4mQAvLdlg06G/c2xCNTeP2I0uUgYjYsFK9H8UxMDBAWloazp49y+W9ffsW7du3x6hRozBp0iSkpqZCLBZDKBQiNzcXCgoKqFWrFlJSUjBkyBDMmDEDS5YskQkdQ74OSoDkwO2CZykSQirPxvzba0m1oaMjWUP4339AfDyQni7Jzx/jd+3avNiKnTtLOnynTgFmZkBEBH/EUboO8sIFoGlTYO5coGtXYOtW4NUroGNHQEND0pGUhofrIL9T4KotHc06yBSl4374bQzd0BlD2o9Hv5a/4kiAOxQVlDBz9wgoK6ng8ZsgfEyNh4qSKsI+PEdzi7bF1jugzQgsOvA7xOJcTNkxGCZ65giJfIzhHUbC97Gkpy/9A2/5r3/hb+/FOHB9JxLT4iEQCOD/7DIS0mKhrpq35lK3lj5EOULoaNTBbPeREGYL8ddIN3j4bYOxrhZmuv0GAQRQUlTGozf3AAiwcthWub1Xurq6cHR05O0EfvjwIZSVlWFlZcXbNaysrAxlZWVERETg5MmTuH//Prp3747+/ftXynnS5MtQeP78ORo0aEDhcAghBECSJEoK18kDgOxs2e8LWxkwdSqwcKEkePbTp5K8AwcAW9u8Mp07A7NmSb5/9kzSSfTxAcaMkeTl26+EH3/M+/7RI0lA7r59JYG2AeDqVeDsWUlHEgBWrZIN8P0tmj9gDWKS4hCb9AHnH/jiwetbaG31A8Z2mYGYpEQcCfDEXl83GOuZY+WwbYhKSIXn1X8BADniHMSlxCI2ufC6H/4TjzbWHZEhTMeb2JeY2Wcpejb/GcLsLOSyXIg/TWFP6PY/TPtxMRLTUnHIfy8OXt+Dd/GRaGvVGS5j93H1Dft+Imqq1cLHtHh4XN2H4PA7UFNVx7ZJRyAWi3HI3wOHb+yD57XdeBTxEJ2a9EYzc/keHdSlSxeE51v70LNnT1hZWWHFihVITU3lNqW9evUKK1euxMiRI/HgwQNMnToVY8aMoU7iV07g4eHBUlJSMGXKlMpuCyHkk9evX8Pc3Lyym/FNSUmRdNJUVCSPnJy8Xcf5Nvzyyko3406eLIltOHWq5FSWrCzJ9dK6CpORIZkyVlSUHB3ImKTzqaDA7yxmZEi+isX8+oRCyT2k6xdzc2Xb+S3LEkk+PMbEUFRUhoqS5I3LEKZBQaAIBjHUVCQdoHRhGnJys6GlrvOpTDoYE0OjBv8NPei/CzXVtGBtaA+LetZgYFAQKGDl4Vk4EuAGDVVN3P4rkndNhjAdCgLJBypmYqiraqCgXHEuRDmSre0CgYA7vUWaL/g0Lc2YGGqFXF9eCQkJGDFiBHx8fHj5hw8fxubNm7FixQrUr18fkyZNwpgxYzB06FCoFPWDTb46ShEREWhFi1sIqVKGDBmCGzdulDusC/l8tfgRT6CkVHTHq2BZKemy0ho1Sr6fOn9JGwQCyT1LKielqip5kMLVUFErND//tK+URoG8wjpzAPAm9hW2nF0HNVUV7JzihU72vZGUngiv2x5gABoa2spcU1Rd+SkqKMqscSwuX95q166N7Oxs5OTkQCnfD+GQIUOQkpICZ2dn9OrVC/Xr18eoUaMqvD2kalF49+4dLCwsSi5JCPliAgMDqZNYjaSm8r+Sr9P8gWuhpqIMMIbhLj+izggBGk2pg6T0RGipa8NjxoUS62CMISf/7qQqQCAQwMjICKGhoTLPjR8/Hn/99RcuXrxY6Ckn5OunJBaLIS4qXgMhhJASLV8uWWOYL3Y0+Urd3xiLV9GhiEmKQnZuNpQUlGBYxxR1atX9rOsfPHiAEydOYOVK+YW4kQc1NTVeQP/8HB0d4erqijdv3nzhVpGqoJCJDkIIIaVhYSF5kK9fLXVtNDMv+3KtJk2a8E5HqipKCsdlYWFBs4/fqML/fCCEVKrvv/8eIpGo5IKEkGpFSUmJdyQhIVUddRQJqYLatWtHsU0JIYRUOpp6JqQKWrNmjUxeWpoklAohpGIoKxe+81yeXrx4gatXr2LChAkVeyNC5OSLdxRfvXoFBwcHhISEwNDQsNz1CYVCbN68udTnS3bo0AGtW7fGunXrSn3Pp0+fwsnJCaGhoahbty4uX76Mvn37IiAgAM2aNSv0moyMDHTt2hUBAQGlvh8h7u6SzRIUuoyQiiEWS8INvXgBGBhU5H3EVW7XMyHF+eIdxaNHjyItLU0unUQAGDhwIIKCgkrVUYyPj8f169ehp6dXpnseP34cSUlJqFtXssstMTERmZmZRXYSAUBDQwMdO3Ys0/3Ityc8PBwNGjQAALx/n3dqBy1bJKTi5OQAo0cBFy5W3D2sra1hbW1dcTcgRM6++BrFHTt24JdffpFbfWfPnsW8efNKdU1KSgoAoFOnTmW65z///IMx0t/cANzc3ODg4FBo2c2bN0Pw6eiExo0bl+l+5NszaNAgCIWSkxqkZ/gCQFSUJKgzPehBD/k+fvlZ8m8s8HYl/IMnpAr74iOKERERWLJkCcLDwzFv3jx06NABw4cPh5aWlkzZkJAQ7NmzB0+ePMGQIUPQr18/1Mp3JMKjR48ASGI8JScn8+p4/PgxtmzZgo8fP+L3339H27ZtuSOHpGEAWrVqhfj4ePzxxx/Q1tbG8uXLizzzOi0tDVlZWRCJRPj48SPq1asHkUgExhiuXLmCKVOmICsrCzU+HckQFRWFHj164MmTJ9DR0cHHjx8pgDL5bPfu3eO+z78uUUdHPvW/eP8Eq4/OgVoRp1cQ8i1RUQHiTIBGgwBlFWCiq+SknE+/KsqNMQYFBQVsGn8AKgoqSE1L5f0uI6QqE4wbN47NmzcPlpaWFX6zp0+fws7ODg0bNkRYWBiaNGnCdfYKxnCytrZGaGgodHV1oaenh+fPnwMA4uLioKurix07dmDSpElceSMjI7x79w7h4eGwsLAAYwwGBgZQUFBAZGQk9zwA7N69GxMnTkTfvn1x4sQJNGnSBE+fPkVubi5u3LiBdu3aybS9d+/eMudgFkb6OjZu3IjVq1fj3LlzsLa2hpaWFh49egR7e/uyvXnkm3X6NNC3r+R7ef3iMhwjgJ5WHYhyhBRwnxBIjkrU0JD8G0tKkkxDy4uykjJycnPQtnFHzP1+I1y2bcD27dvldwM5mDx5MqZNm0YzX0TGFx1RvHhRsvCjZs2a+PDhA+rVqwcPDw/89ttvOHDgAIYOHQoAaN++PUJDQxEYGIgWLVoAACIjI2FqaoqZM2fCw8MDY8eOxebNm6GoqIiAgABuetfc3ByKioq4f/8+mjRpAgDYs2cPRo8ejZMnT6Jfv37w8/NDbm4uEhMTkZqaCk1NTTx58gT29vbYt29foR1FDw8PiEQi+Pn5YejQoTh37hzat2+PDRs2YOnSpYiKiuItUJ4wYQJmzZoFADhy5AgAUCeRlMvnnB/8OV5Fh0BdVTK63q1pP2jUqAkxo84i+XYpKQGRkcCVK5IR/L59AU1NyQaX8lJWVMaL908REvUYb2JfoZGtJVxc/il/xYR8IV+0o3j8+HEAQFBQEJc3YsQI7NixA9u2beM6ileuXOGmiaWMjIxgZ2eHpKQkAJKgpc+ePYOjoyNq1qwJIG8q+vbt21wnEQBGjRqFV69ecQGMz58/DzU1NVy9epUrI+1o6urqFtr22rVrAwA3fdyjRw8AwOXLl9GhQwcYFNgmlz+gqru7O5o3b17Cu0NIntatW+PatWu85QpGRvKpOzw2DIoKihAAWD/KDSpKtJWakKfBwJ65ku9nbQJM5TjJdvLOAcz3mICUzGSkZiWjlrq2/ConpIJ90c0sAQEBMCrkt52Ojg7i4+N5eUuXLoWhoSG0tbUhEAggEAjw6NEj9JXOwX3y008/8b53cnLiRiHzW7lyJQYNGoSEhAQkJCTA19e30DaOHTu20Hzp9NyaNWu43ctpaWnw9/eHzqeFY0WdpHH+/HnMnj270OcIKYynp6fMmlZ5zRC/jn4BgUABtdR1IBDIaS6bkGouM99Uc7qcowvoatWFWCyGKFuIbDGFLiDVyxffzDJw4ECZPD8/P/Tr149LS39BGhsbQ0NDA+bm5ujZsyecnZ1lQtB069aN+/7169eYOnVqsfe/fPkyAPBGHAHg+vXrACRT14Xp06cPb42idAQSALy9vbl0wbWWoaGhACRxGwn5XPnXDOfmSr7KKzSOWCyGAIDg03+EEP4fYvJetlu3Vj0wMAhzMnH73k1EhyVg7PjCByUIqWq+eEexYEcvLCwM6enpGD9+PADA1tYW5ubmePXqFa/czp07AQA2NjYAgHPnzgEAWrZsyStX2BTv7du3oaKiAkdHR+zbtw/6+vpQV1fnlXF3d8f3339fZLvd3d1x7do1DB48GNeuXYO+vj4SEhLQrl077N27Fy1btkRWVpbMdVu3boWOjo7M1DQhn6tWLaBOHeDTj365RSZEfBpR1IaSIk07EwIAamrAp9C4kHeAihyx5K89xhj069aDsbaFfG9ASAX6YlPP9+/fBwDcunWLl9+7d28AwA8//AAAePbsWaFHG02dOhXGxsZcB+/s2bNo2LChTLnTp0/z0gkJCWjTpg1Wr14NQLL+UUFB9mUHBgbyprELqlu3LiIjIwEA33//PaysrLip5iFDhsDa2rrQWIofP36kA+BJqfn4+HDLHTp1AuLjgQsX5FO3gkABjIlpAwsh+djbAzExkkchv1rKpaZaLYjFuRCLGZTUgCYOtLGRVB9frKN47NgxAMCJEyfw5s0bAMC0adMQFhbGW7/XqlUrzJ8/n5sifvz4MfT19SESiXhxEt3c3GQ6ilOmTMFff/2F//77D4BkbaCuri6UlJS4jTRCoVBmdC8kJAQASgwE/t9//6F9+/Zcetu2bTA0NCw2PmJ8fDw0NDSKrZeQghYtWoTs7OwKqVuYLUS6MB2ZoowKqZ8QwldbQw9pWdnIFGYhPjW2sptDSOmMGzeOhYWFsYpmZWXFpk6dyphkER/3iIiIkClbo0YNXhlvb2/277//MlNTU67MnDlzuOezs7O5/EGDBvGu7dy5M69uAMzd3Z2Xt3jxYmZmZlZs+4VCIQPAfvrpJy5PTU2Nbdq0qdjrALDdu3cXW4aQLyk3N4dl54hYdk52yYUJIXIhyhayXHEui4uNZbdv367s5siYNGkSe/bsWWU3g1RBX2yNonTUDpAcoRcYGAhHR0doa8uGCcjMzMTDhw+RnJyMtm3bQklJ0sz8AbbXr1+PHj16QFtbm3sekMQsjIyMxLNnz2Bubi4TSJwVErF4xYoVWLFiRbHtV1FRkbk2I6PkEZnC7kdIZVJQUIQCFEsuSAiRG+VPYaiio2Pg5+eHVq1aVXKLCPk8X3wzCyAJuF3SOctNmzYtsZ6i6jAyMio0DA8hhBBSmezs7WBnb1fZzSDks33ROIqEkM/Tpk0bCIXCym4GIYSQbxx1FAmpgvbt21fsJilCSPWVKw2OSkg1QB1FQqqgwkI/EUKqP39/f4wZM6aym0HIZ6OOIiGEEPKF2NraYubMmZXdDEI+G3UUCamCFixYgJycnJILEkKqldq1axd6OAMhVZVcOoopKSlwd3fn5R04cACBgYG8MkeOHOGV8fT05C3Yf/PmDQ4ePChTT/4wNLdu3cLdu3e5dHx8PHbu3Mkrc/v2bTx9+pRLx8XF4cyZM1w6NzcXBw8e5JVJTEzEqVOnuLRYLMbx48e501cAyZnUvr6+XDorKwvu7u68Mr6+vnj9+jWXDg8P59ULANeuXcPLly+5dEREBBdgXGrHjh2Ijc0LzHrv3j2ZMnv37uWlT506hfDwcC4dEhICT09PXoies2fPIjo6mks/e/aMd1pOWloa3N3dERMTw+WFhobixo0bvDKHDx/m3fvIkSN4/Pgxl05PT5cpc/jwYaSlpXHpoKAgmc/72LFjSE5O5tKBgYF49OgRl05KSsKOHTu4U0sAyXGODx8+5JXx9vbm0owxHDx4EKmpqVyev7+/zCk+Xl5evJ+jgp9Tbm4u3NzckJmZyeWdP38eYWFhXDosLAxeXl68enfu3Mkr8/LlS5w/f55LZ2dnY8+ePbzPqUGDBrzzxAkhhJDKILeOYsFOgZeXF4KDg7l0amoqr7MmLZO/oxgZGcn7BQ8A3t7evF/M9+7dw4MHD7h0fHw8PD09kZ6ezuUFBQXx4jbGx8fzOlk5OTnw9vZGaGgol5eYmIiLFy/yypw9e5bXCQwICOB1mDIzM3H48GHeawgICMDbt2+59Js3b3j1ApLObv4O3du3b+Hv788r4+Hhgfj4eC798OFDXL9+nVfmyJEjvA7TxYsXuVNvAODFixc4duwYr8yVK1d4ncAXL17g3r17XDo1NRWHDh3ilXn58iXu3LnDK1Ow83v69Gk8f/6cS6enp8uUOXXqFK+z9vDhQ5w4cYJX5syZM0hJSeHSwcHBePbsGZdOTk6Gh4cHb7TN19eX1+lPTk7mdcQYY/D29uZ1Um/fvs37XBhj8PHx4f2s3bp1i9fpz8nJwaFDh3idST8/P9655K9fv4aPjw/vNXl6evLKhIeHw8/Pj0uLRCIcPnyY11GcMGECFBUp1iEhX5u4uDjcvn27sptByOf7UiezEEI+X25uLnv//j0vLzo6miUmJnJpsVjMoqKiZMqIRCIunZyczD58+MArExUVJVPm48ePXFokErHIyEjeNYWVKVjvhw8fWGpqKpfOysqSeQ0F04mJiSwpKYlLZ2dns3fv3smUSU9P59KZmZksPj6eS4vFYvb+/XuWkZHBu3fBMtHR0UwsFnN5Hz9+5JVhjMmUiYuLY0KhkEunp6ez9+/fy5TJysrilSn4Ob17945XT0pKSomfZUxMDO81Se9dsL35T6ZKTk5mKSkpvDJRUVG8MikpKbwy2dnZMp93TEyMTJmYmBhemYKff1JSUqFlCr7naWlpXFooFLJ3797xysTHx/PKZGVlsbi4OF6979+/570moVDIYmNjeWUKfpYJCQky9URFRcncO/9nmZGRwaKjo3nXvHv3TqZMQkKCTL35xcbGcp93aGgo27lzJ6tq6GQWUhRao0hIFZSUlITZs2fzRhkXLVqEnTt3cum0tDTMmDGDN2K8ePFi3nS5l5cX5s6dy6v7jz/+wIsXL7j08ePHeTMC4eHhvFOQAMlo8P79+7n0mzdvsGDBAi7NGMP8+fNx4cIFLu/p06eYM2cOr565c+fyXpO7uzsOHTrEpSMjIzF27FjeiPGePXt4IzDBwcHYvn07l87KysKMGTN4ZR4/fowtW7ZwaaFQiOXLl/NG//fu3YutW7dy6ezsbCxbtow3qvzPP//wlg0EBARgzpw5vFHlLVu28GYwbty4AU9PTy6dkZGBcePG8cqcPXuWt3RE+hryW7p0Ke813bx5U6bMihUrEBUVxaW9vb15o+kAMHPmTF6ZM2fO8JZdREVFYcKECTL15p8BioqKwpo1a3hl5s+fz5txOXDgAFatWsUr8+eff/Leq/379/NmZUJCQjBu3DjejNC2bdtw7do1XhkXFxcunZubi+nTp+PDhw9c3suXL/H3339zabFYjKVLl/Lq3bFjBzZu3MilGWOYPn06b6bB1dWVt4QmMDAQixYt4r2msWPH8soEBQVh165dXFooFGLatGm8a9asWQM3NzcAQKNGjTB+/HgQUl0Ixo0bx+bNmydz1F1pDBw4EG3atMH//vc/OTaNEEIIIV/C5MmTMW3aNDRu3Liym0KqGLkc4Td69GjUr19fHlURQgghhJAqQi4dxR9//FEe1RBCCKmGPnz4AIFAgHr16smlvszMTKiqqkJB4fNXR2VlZeHt27do1KhRme754cMHZGVloUGDBgAkm04yMzNhYmLCK/f69Wtuo5lYLObKE/K1ojWKhBBCysXAwABLliyRS13Pnj2Duro6b23j51i2bBmsrKzKfF8DAwOYm5tz6WbNmmHgwIG8Mu7u7rCwsICZmRnMzMxgbm6ODh06lPmehFQHcuko+vn58cKTEEII+bYMGDBALvVIN3qoq6uX6rqrV6+iS5cu5bp369atue+joqJ4m07u3buHMWPG4JdffoGfnx8+fPiAuXPn4vr16zIxbgn5mshl6tnNzQ0tW7aEra2tPKojhBBSzVhYWMilHhUVFRgZGZVq2jknJwd37tzBnj17ynXv33//HQC4AP75d4NLd9rnPyRg3bp1ePz4McaMGcOLn0vI10QuI4oeHh6YOnWqPKoihMjJyZMnERQUVNnNIF+5uLg4AMDq1athY2MDgUAAHR0dmcDzIpEIgwcPhoqKCgQCAQQCAXr06MEL5zRo0CA8efIEWVlZGDJkCBea6NixYxg6dCh3nbKyMi8EjfQ0p+bNm2PWrFlcOWtra14In4J69eqFESNGYMiQIQAk4XvGjh2L2bNnA5CEwpk8eTIAoEePHrwwOFIWFhbce0DIV4kCbhPydbp79y57+fJlZTeDfOX279/PADADAwO2fv16duDAAaavr88A8AKwN2/enAFgq1evZjdv3mQzZ85kAFi9evW4MoqKigwAa9iwIdPQ0GCMMfb69WsGgGloaLAtW7awa9eusR49ejAAbO7cuYwxSVB2AExdXZ3p6+uzM2fOsKNHjzIA7M8//yyy7WpqaszS0pK7r7W1NbOwsGDq6uoMAGvQoAFzdHQs9vUDYPPmzSvPW1glUMBtUhS5TD0TQqqe7777rrKbQL4B0uneR48eoU6dOgCAX3/9FQKBAG/evIGtrS18fHygoqLCC7bepk0bREdH4+DBg4iPj4euri5OnTqF3r178wLCm5ubo1+/frzjXb///nvo6+tj/fr1WLduHRfM/MCBA+jXrx9XrmHDhrwjQAuSbpixt7eHjY0NF3h+2LBhMkfBFsbR0REAsHbt2pLfKEKqKbl0FPv164e2bdti3rx58qiOEEJINXHp0iX88ssvXCcRAHe6jTSMTK9evdCrVy8kJSUhJCQEKSkp+PjxI+7fvw8A0NLSAiA5Lad58+ZcPdITehYvXixz38jISGRnZwMAd257165dueeFQiHCwsK4dYfFefLkCe/0l+PHj2PlypVFlk9LS4OlpSXi4uJw586dEusnpDqTS0fxwIEDUFKiwUlCqpKwsDBoampSMHxSYaTH3zk7Oxdb7t27d+jQoQPCw8NlnjM2NoaysjIA4MiRI/jnn3+4586ePQsAvLA1UsrKytx1hw4dwg8//MDbKR0ZGQlAMjpYlDFjxiA1NRUAcPr0afj4+CA1NRVCoRD379/HjBkzoKamxju+8MqVK+jSpQuUlZWRmJjIdXIJ+VrJpXenoaHBS8fEABMnAoqKgEAgjzsQ8vURi4EaNYADByqm/ps3b8Lc3Jw6iqTCeHl5AYBM0OmCO5ZNTExgZmaGc+fOIS0tDTk5OejatSs6duwoc3ysg4MD9/2tW7egpqYGHR2dYtsREhIiM+qoqqoKIG9UszDu7u5cR8/DwwNA3j022N0AABpxSURBVMaYS5cuISMjA/Xq1eM6iitWrMDSpUvxyy+/8HY/E/I1q5BhwDZtgEL+cCSEFGL3bkBNTf71jhw5Uv6VEpLPyZMnC82XLkNq2LAht7aw4GhibGwsHj9+jLFjx/Ly83cys7OzIRaLZerfvXs3tmzZguDgYC6UTfv27Xllnjx5AkASbqcojDFcuHABPXr0QGJiIgCgd+/eSE5Oxo0bN3hl//77byxduhTbtm3DlClTiqyTkK+NXDqKf/31F6ysrNC3b1/ExeV1Elu2BBo3Bj4tIykTFWVAlWa1yVemRg3g8GEgOh646AP0G1jyNYRUNadOnQIAbNu2jVsLuG/fPmzatAlbt26FoqIiN7X79u1b3nF4+vr6APLWFUrD5DRr1owr89NPP2Hjxo0ICwtDw4YNAQAxMTEYN24cF9fw0KFDEAgEMDY25rVt9+7dMDExkZnxKmj9+vVo0aIFl/bx8ZE5beXChQuYM2cONm3aRJ1E8s2RSxesXr160NbWBgAkJOTlu7oC+dYll8lH0TP4PvaBipJq+SoipApRVweiVACfc8D5F0DGDUBYdLi3UhFlC9HnuyGoX9u45MKElENOTg5atWqFP/74A0+ePIGSkhK2bt2Ktm3bch3HESNG4LfffoOpqSnWrFmDoKAgHDt2DAsXLoSzszOio6NhY2PDjTj+8ccfGDlyJDp27AgnJyfUqVMHdnZ2+PPPP3Hnzh34+PigdevW3Ii5m5sbbze11LFjxzBz5sxi2y8Wi+Hr68vtWk5PTwcAmU7nr7/+CgCYPn06pk+fLlNPYfcn5Gshl47iiBEjuO/zH89Zu3b56hXlCPH9/9oiR5wDMZOdfiCkOqupCTj+AtxJBHzltNxJAAFyxTm4G3ENDeM6wNjcAEOHDpVP5YQUsHXrVnTs2BE2NjYwNzdHeHg49u7di99++41XLjExEQMGDMCCBQvg5OSEZ8+eoXHjxqhfvz7XKevatSusra2xd+9e3gaU+Ph4DBs2DEuXLoWWlhYWL16MFStWcM/PnTsXenp6vPsxxuDs7Fzi8ousrCw4Oztj0qRJAIAaNWrA2dmZd/+srCwsWrQImpqaMh3C7Oxs2Nvbl+IdI6T6EYwbN47NmzdPZkFxWT14AHwKLYWsLEC1HAOBVx6dxR87h0CzRi0Y1jZBTm455rAJqUIUFIGUFCAxEdDQAOrWBXJzylmpQIBccS4+JL6FnZkj/vnlMKAohq6erlzaTAj5ek2ePBnTpk1D48aNK7sppIqRy4ji/fv3oaOjI7PzrTydRACIiAmDgkABmaJ0eC+8Xb7KCKlibgUAbZ0A28bAraJjApdKdm42Gk1WRezHD9CtV84hfUIIId88uZz1PGPGDLi7u8ujKp438a8k54Zq1im5MCHVjPKnzZg5uXKsU1EZYsbwMSMBIrGcFj0SQgj5ZsllRPHcuXNc4FN5SsuQxLOqpa4t97oJqWxi6XInOccaFQgEUFBUwFmf02hsYQfrxlbyvQEhhJBvhlxGFDU0NLhYVeUJhVPQh6T3AIB62obyq5SQKkL0acDvU/g2uREIBEgXpuJV+EskJSXJt3JCCCHfFLlHKLSzA65dk4T/KC/FT4FXCwu4Skh116wZcPUqoF0BA+ZZWUJMmDABtVSLP9GCEEIIKY5cOorr16+HlZUV+vXrB3V14Pvv5VErIMzOQqYoA8KcLPlUSEgVoqEBFIjrKxeZQjEUFUXIyEinjiIhhJBykUtHsWnTpqhXr548quJxatwVRnVMYVHfRu51E/K1GtB6EBQUFKBVkzqJhBBCykcuHcXu3bvLoxoZ0/ssLrkQIYTHddIRAMCqlavQ2KYxBg6k8wEJIYSUDZ2iTMhX6s9Ff1Z2EwghhFRzctn1fPfuXe5Ad0JI1SAQCCAQyDn2DiGEkG+KXDqKJ0+eRGBgoDyqIoQQQgghVYRcpp5Xr14tj2oIIXK0Y8cOWFhYoEuXLpXdFEIIIdUUrVEk5CvVrl07aGlpVXYzCCGEVGPUUSTkK2VnZ1fZTSCEEFLNyWWN4ujRo+Hq6iqPqgghhBBCSBUhlxHFYcOGQV9fXx5VEULk5Pbt29DV1YWlpWVlN4UQQkg1JZeOIi2WJ6Tq8fX1hY2NDXUUCSGElJlcpp4BICkpCYsX809SWbZsGRISErj08ePHsWzZMl6Z6dOnIz4+nksfOXIE/v7+XPr169eYMWMG7xovLy/4+flx6VevXsHFxYVLM8awcOFCXL16lct79OgR1q9fz6tnzpw5vLSbmxu8vb259Nu3bzFx4kReGXd3d9y/f59LBwUFYc+ePVw6IyMDc+bM4ZV5+PAhdu3axSuzevVqZGdnc3l79+7F7t27ubRQKMSqVasgEom4PBcXF7x584ZL+/v7Y9GiRRAKhVze5s2b8fr1ay59/fp1HD16lEunpqZi8uTJvDKnT5/GoUOHuHRaWhoWLFjAe93Lli1DcHAwl75x4wYWLlzIK7Nq1SrExMRwaS8vL/j6+vLKzJ49G9HR0Vz61KlTuHjxIpd+9+4dfv/9d941y5cvx+XLl3llCn6W8+fPB2OMSx84cECmzKJFi5CTk8OlPTw8cPfuXS797NkzTJ48mfe5bN26Fbdu3eLST58+xb///sulRSIRZs+ezfs5Dw0NxdatW7l0Tk4OVq1ahaysvDPLd+zYwVuukZ2djTlz5iAzM5PL27ZtG168eMGl79y5A2dnZ95rmjRpEq/M3bt34eHhAQBYsGAB+vXrB0IIIaSs5LaZRUVFRWbxvK2tLVRVVbm0sbExxGIxr0yzZs1Qo0YNLm1iYgJtbW0urampiWbNmvGuMTIyQq1atXhlrKysuLRAIECTJk1Qt25dLk9bWxuNGzfm1ePg4MBLN2jQADVr1uTS6urqaNGihUyZ2rVrc+natWujQYMGXFpJSQlNmzblldHR0YGFhQWXVlRUhI2NDRQVFbk8MzMz3ntTWBkrKytoaGhwaT09Pdjb2/PKNGrUCJqamrwy+T8DZWVlNG/enFfGwMCA1yFVVlaGvb0973Xb2tryPhc9PT00adKEV8bGxgZqampc2sjIiNdeQPKeq6urc2lDQ0MoKytzaXV1dTRv3px3jZ2dHW9pg4aGhszPWtOmTXnBpU1MTHg/I9J6FBTy/jYyNTVFnTp1uLSWlhaaN2/OK9OwYUPo6enxyuQfoVNUVISDgwPvPa5VqxYaNmzIpZWUlGQ+p/+3d+5BUZVvHP+yGAEuLLugsCCIIgg6Sly8xiV1vJQ3LqlpljcwxZTUKULHqJ8YllppNmVqE8mUgTpqAmma4mCCRt5TuRMqGnLxhgLC8/uDOadddkX2nIO71vuZOf+85+z3fM9tz3Pe933e18PDQyuwlclk8PX1RadO/zySnp6eWvejSqXSuYcDAgK0jlPzfmSDbT+ekpISFBUVsVYRBoPBeARmUVFRFBcX91Q2Tz148ACdOnXSerky/js8ePBA6yPDFHn48CGampq0AkmG6TBlyhSkpqZi586diIiIMLadp4b6+nocOHAAZWVl8PLywqhRo4xtiSGS+fPnY9GiRTofowxGh0VYy5YtAxFp1c5oUl9fj6CgIISFhQnSDwoKwrFjxxAeHo5du3aJsfrU8csvv+Cnn37Chg0bjG2lTSorK7F69Wrk5eXh2rVr6N69O4KDg9HY2Ag/Pz/BL+ampib+40CzVk4MmzZtQkNDAxYuXCiJHkdkZCT27t2LkJAQZGVlSarNEE9MTAxSU1OxY8eOJxooEhFiY2Mhl8t1an4bGhowYMAATJ48+Yn5MYStW7ciKipKpzwnJweDBg0ygiMGg9GRdFigmJSU9NhtKisrBQeK7u7uOHbsGFxdXQX9/mnms88+Q0ZGBmJjY7WatE0NzaZ/ACgoKOD7Grq7uwt+MZuZmUGlUqGpqUm0R46lS5fi3r17mDt3rqS1f9z96e7uLpkmQzpCQ0Mhk8nwww8/4Pvvv39i+zUzM8Pnn3/e5jZ3797F7Nmzn5Cj9hMVFQWZTIakpCQ4OzsjJycHGRkZUCqVxrbGYDA6AMmSWVpTXl7OB4uzZs3CqVOnkJeXh7y8PL6zvZgXckpKCogI69evl8SvPmpqaiTRuX//Pm7cuKGVSCEGLgBr3QfPlBgwYACAlkSUgoIC1NXVoaysjE8OEtN/TiaToaqqCrW1tZJ4BQAHBweYm5tL3kS8ceNGEBGSk5Ml1e0ISktLcfz4cVRUVEiqW11dLem1kprU1FQAwIgRI9r9m9u3b6O6ulrUfmtqavi+ttnZ2fjtt9+QnZ2N06dPw9fXF3PmzEFhYaGofRQUFCAnJwd37twRpdOa5ORkvPPOO5g+fTo2btyI4uJieHl5Cdarrq5Gbm4uLl26JKFLbcrLyyXROXPmDE6cOGHS9zSDISlRUVFUUFBAHcGBAwcIAK1evZqIiPbv309ERMXFxQSAYmJiDNZMTk6mrl27klqtJnt7ewoLCxPtMzY2lhwcHEilUtEbb7xBREQ9evQgAGRlZUXHjx8XrP3yyy8TAH6JjIyk8ePHC9I6e/Ysubm5kYWFBQEgR0dHcnFxIScnJ+rWrRuVlpYK9iklhw8fJgDk6+urdz0AeuGFFwRpDx8+nBwcHEitVpNSqaSysjIxVik1NZVcXV356+Pi4kIuLi6kVqvJzs6OLl++LEh3165dZG9vT2q1mrp06SL4eDX53//+RwqFgpydnfnFxcWFHB0dqU+fPoJ1GxoayNraWus+HTFihCCt5uZmCg4OJqVSSRMmTNC6/0ePHk3V1dWCfXLk5+dTjx49KDo6WrQWR9euXQkA5efn610/c+ZMsrW1pWHDhlF8fDx/TL1796a///5b8H5DQ0MJgE75jh07CABt2LBBkO7ly5fJ0dFR65qKPV8BAQGkVqsJAKlUKnJ1dSW1Wk0qlYrOnz8vWHfJkiVaPvv160fFxcWC9davX082NjbUpUsXGjduHFVXV9PgwYP5/8za2lpBuqWlpTrn9PXXXxfs09SYN28e/fnnn8a2wTBBMGfOnA4LFPft20cAaNq0aZSVlUUAyNvbW5TmvHnztB7UAQMGiPbp4+OjpcktNjY2BIBcXV0N1rx69SqvI5fLKTg4mCwtLfmyo0ePGqy5Z88evT655eDBgwZrdgSRkZEEgKqqqiTXbn3MRUVFovQ0X/r6luzsbEl0e/XqJconEdHChQsf6VOhUAjS3L9/P68xfvx4WrFiBXl5efFlNTU1BunduXNHx1u3bt3I29ubAJC/v78gn5qEhITw2oWFhaL1iIgSExMJAH3xxRd617u5uekcE/eBYW5uLni/QUFBOoHi119/ze9HSGD9/vvv87+fOnUqxcfHk1wuJwDUtWtXwV7bek7S09MFaXKBZ8+ePSkuLo5GjRrFa+bl5QnSDA8P1+vRz8+PAJBMJjNY87333uN13nzzTYqLiyMHBwe+7N/A/PnzWaDI0AtiYmIe+RUtFi5Q1FweVcskBAA0dOhQSbSam5u1ArszZ84QUUvtWFZWlsF6KSkp/J9TQ0MDX75lyxYKDAyk+/fvC/Y6e/ZsQS/xJwVXS9Lc3Nxh+wgLCyMAVFJSIomeu7s7derUSRKt1kjxgUREtHLlSgJA9+7dI6J/gpvu3bsLPtc9e/YkAFRfX69VnpycLOpDjHv5Hzt2jC/z9PSU5KVaVVVFH3/8MSUnJ4vW4qivr+ef/7q6Or3bACBLS0vauXMnX8Y9i4cPHxa0Xy5Q1LeMHDlS8HFYWlpSY2Oj1rply5YRAIqIiBDklQMApaWlidIgIoqOjuYrEjThWiTE3ivm5ub8eczMzCQiogsXLtCRI0cM0qmtrSUA5OHhQTdu3NBax53TdevWifJqCkybNo0uXrxobBsMEwTLly8XFAi1By5QHDRoEF/D4unpKZm+lIHilStXCACp1WpJ9Ih0v8D9/f0pMTFRtO7kyZMJgMk+1PpqSaSGq3mQKlB0dnbWCsKkRKpAkYj4az5w4EACQO7u7oK18vPz26wlAlqa4g2Fq1WcOHGiVvmQIUNMuvZl48aNBIDmzp2rs66pqYkA6DTxc8G70Np87lnx9PSkXr16kZeXFymVSv78p6amGqTHNVk/bhEDANq0aZMoDU7HxsZG77qEhAQCQNu3bxelb2FhIfj3HDdv3nzs+XRzcxO9H2MzevRounXrlrFtMEyQTj4+Pjhz5gxCQkLQUYSFheHdd9/FmjVrMHPmzA7bjxS0HoRbDESE9PR0bN++HRcvXkReXh7++OMPJCYm4ty5c0/l2JXtYeDAgcjOzkZGRgZeeuklY9v5V+Ht7Y2RI0fixIkTUKvVKCkpEazFDbIul8sRGhqqNXMM0DJbTM+ePQXra85wA0BnsH1TY8GCBVizZg0yMjIeuU3rhDQu817s4Oaas+sALbMuhYSEICEhAZMmTWq3Dpe04urqiueeew51dXU622jOjGRsNAeU10StVgMArl69KkpfczIEsajVavj7++s8J01NTVoTDTyNVFdXw8LCwqQTJBnGo5O7uztycnI6RJyb0YLLJG394pACqQZcdnZ2BgCtWULEkJqaiilTpuDBgwcYO3YsX757926Eh4cjNjYW6enpgrS5l5PmTCmmRHR0ND755BOMHTtW7ziHiYmJOH/+vNa0gYbCze7i5OQkWEMTbmxGzVljpESqbOpvvvkGBw8eRGBgIE6ePAkAyMrKwubNm5GSkmKQFvehcvfuXezbt08SfwD4WX9an8un4WXaq1cvHDp0COfOndOanYgbD7b1dVQoFABasuaF8KhzEhwcDAC4ePGiQXrcDDP379/H3r17BXlqD1IMhePk5IRr164hLS1NJxheunQpgJYB0cUgxWQM3MeBo6OjpM+JKVFQUKA1+xWDoQVRSzNWeXm5pFWVrbPDuEVoFilRS/8SfZoQWf3fluaBAwcEaW7dupXXiIyMpFWrVtGMGTP4svj4eEG6REQLFiwgABQUFERJSUlamaUrV64UrCslR44c4T0NHz6cli1bRosXL+bLnnnmGYM1uYSIRy0VFRWC/fbv35/vk7dy5Uq+/xQACggIMEjr2rVrbfqUy+WCPAYEBLSpe/v2bYM1t23bxv9+zJgxtGrVKpo0aRJfZm1tbZBedna23mbOr776SqssNzfXYK8c69at43WampoE6+jj1q1bOs2zN2/e1EpEA0DXr1+n3bt3a5UZmhTIJXK0tQj5n9BM+IuIiKDExEQaMWKEqKbnioqKNn3euXPHYE2if/57+/TpQwkJCTRhwgS+7MsvvzRYr6ioqE2fj0pWehxTpkzhNebOnUsrVqygiRMnkpmZGQEgpVKp85vMzMx2n+/ly5cT0JKV3RaayWKRkZGCjkUf8+bNE3xuGP9+QNTSN0Fs9mhrhgwZQp07dyaVSkUqlYoUCgXZ2trySSJCKCoqIgsLC7KzsyOlUslrK5VK6ty5MwUFBQnStbGxIYVCoaVnZ2dHNjY2dOjQIUGaP/74I5mbm/PJAppLUlKSIE2Oqqoq6tu3r5amlZUVLV++nK5cuSJKW0rS0tL4AExzeeuttwRlcw4bNoysra11rj3Xp0vMPVxZWanj1cLCghISEujs2bMGa1laWuq9T+VyOfXt21eQx8DAQJLL5TrHrlKpCADdvXtXkG5aWprel+rQoUMNThg5evQoOTg48M8P16dvy5YtZG5uTkqlkiwtLen06dOCvBIRLVq0iPfYEZn1XIbr5s2biYjoxo0b5OPjQ7a2tqRQKMjJyYlqamro119/JZlMRiqVimQyGZ06dcqg/fj7+5ONjY3WtVQqlWRra0v9+vWjLVu2UGVlpcH+Gxsbaf369TpDHgEtw1KlpKQYrFleXk42NjZkZ2en8z9pbW0teMiZnJwcrQ9ooCU5S+iwQPn5+dS9e3eytbXV8WllZUVbt24VpEtEtGHDBr3n1M/PT+8oFqdPn253oPjpp58SAAoPD29zu/r6elIoFASAPvjgA8HHokllZSWFhoaazKgZDNPDjIgoKSkJnTt3xqJFi8CQnkuXLqGiogJyuZwfiFoKCgoKUF5eDnt7e/j6+kqmKzWFhYWoqKiAmZkZhgwZAnNzc2NbeiTFxcUoLy+HpaXlf246Mu4+tba2hru7u0k3ReXm5qJbt25wcXGRXJvrHzh+/PgObb7taB4+fIhLly7h5s2bUCgU8PDwMNk+aJWVlTh37hzs7Ozg7+9vbDttcvLkSdy7dw9WVlbo27cv39VCHw0NDWhoaGhzG46//voLbm5u7fJQWVnJd+0Sy5UrVzB58mRkZ2c/cspdxn8bMyKi+vp6zJgxA0uWLMHAgQON7YnBYDCMyosvvggLCwvs2bPH2FYYjA7l1VdfxdSpUzFu3DhjW2GYKDKgpYO2k5MT1q5da2w/DAaDYXQyMzNZkMj415Oeno7GxkYWJDLahK9n/uijj1BRUYHc3Fxj+mEwGAwGg/EE2Lx5MyZMmGBsGwwThw8Un332WXz33XeIi4tDZmamMT0xGAwGg8HoIG7duoVZs2YhNDQU06dPN7Ydhomj1XO1R48eGDt2LFavXm0sPwwGg8FgMDqQtLQ0FBYWYv78+ca2wngK0BmN9O2334aPjw9CQ0Px7bffSjqyPYPBYDAYDONARHjttdcgk8mQlZXFspwZ7ULvXTJu3DiMGTMGM2bMwO+///6kPTEYDAaDwZCYmJgY1NbWIikpiQWJjHbzyDslPj4eCQkJWLx4MV555RVcuHDhSfpiMBgMBoMhkubmZqxduxaBgYFwdXXFvn37OmT8Uca/FzMiPZPxalBbW4tDhw5h27Zt8Pb2xuDBg/H8889LNtgng8FgMBgMacnJyUFGRgbKysqgVqsRHR0NDw8PY9tiPIU8NlDkqKurw4cffoisrCw0NzcjNDQUfn5+8Pb2hlqt7mifDAaDwWAw9GBmZoba2lpcvXoVeXl5yMrKwvXr19G/f39ERERgzJgxxrbIeIppd6DYmp9//hn5+fkoKSlBaWmp1L4YDAaDwWC0AzMzMzg7O8Pe3h69e/fGyJEjWasfQzL+Dy1jNr7x5jITAAAAAElFTkSuQmCC'>\n",
        "</p>\n",
        "Figure 16-2. Preparing a dataset of consecutive sequence fragments for a stateful RNN"
      ],
      "metadata": {
        "id": "BYFOD2JukSUj"
      }
    },
    {
      "cell_type": "markdown",
      "source": [
        "Batching is harder, but it is not impossible. For example, we could **chop Shakespeare’s text into 32 texts of equal length,** create one dataset of consecutive input sequences for each of them, and finally use tf.train.Dataset.zip(datasets).map(lambda *windows: tf.stack(windows)) to create proper consecutive batches, where the **$n^{th}$ input sequence** in a batch **starts off exactly where the $n^{th}$ input sequence ended in the previous batch**"
      ],
      "metadata": {
        "id": "P932XMPalkX2"
      }
    },
    {
      "cell_type": "code",
      "source": [
        "batch_size = 32\n",
        "encoded_parts = np.array_split(encoded[:train_size], batch_size)\n",
        "datasets = []\n",
        "for encoded_part in encoded_parts:\n",
        "    dataset = tf.data.Dataset.from_tensor_slices(encoded_part)\n",
        "    dataset = dataset.window(window_length, shift=n_steps, drop_remainder=True)\n",
        "    dataset = dataset.flat_map(lambda window: window.batch(window_length))\n",
        "    datasets.append(dataset)\n",
        "dataset = tf.data.Dataset.zip(tuple(datasets)).map(lambda *windows: tf.stack(windows))\n",
        "dataset = dataset.map(lambda windows: (windows[:, :-1], windows[:, 1:]))\n",
        "dataset = dataset.map(\n",
        "    lambda X_batch, Y_batch: (tf.one_hot(X_batch, depth=max_id), Y_batch))\n",
        "dataset = dataset.prefetch(1)"
      ],
      "metadata": {
        "id": "F-MkT8NFkR6o"
      },
      "execution_count": 29,
      "outputs": []
    },
    {
      "cell_type": "markdown",
      "source": [
        "Now let’s create the stateful RNN. First, we need to set **statsful=True** when creating every recurrent layer. Second, the **stateful RNN needs to know the batch size** (since it will preserve a state for each input sequence in the batch), so we** must set the batch_input_shape argument in the first layer**\n",
        "\n",
        "Note that we can leave the second dimension unspecified, since the inputs could have any length:"
      ],
      "metadata": {
        "id": "4aFWOTvRPh4M"
      }
    },
    {
      "cell_type": "code",
      "source": [
        "model = keras.models.Sequential([\n",
        "    keras.layers.GRU(128, return_sequences=True, stateful=True,\n",
        "                     dropout=0.2,\n",
        "                     batch_input_shape=[batch_size, None, max_id]),\n",
        "    keras.layers.GRU(128, return_sequences=True, stateful=True,\n",
        "                     dropout=0.2),\n",
        "    keras.layers.TimeDistributed(keras.layers.Dense(max_id,\n",
        "                                                    activation='softmax'))\n",
        "])"
      ],
      "metadata": {
        "id": "M-M73s1CQ2Oo"
      },
      "execution_count": 32,
      "outputs": []
    },
    {
      "cell_type": "markdown",
      "source": [
        "At the **end of each epoch, we need to reset the states before we go back to the beginning of the text.** For this, we can use a small callback:"
      ],
      "metadata": {
        "id": "nt4BM0puQtPV"
      }
    },
    {
      "cell_type": "code",
      "source": [
        "class ResetStatesCallback(keras.callbacks.Callback):\n",
        "  def on_epoch_begin(self, epoch, logs):\n",
        "    self.model.reset_states()"
      ],
      "metadata": {
        "id": "olRjIP5dQswc"
      },
      "execution_count": 33,
      "outputs": []
    },
    {
      "cell_type": "markdown",
      "source": [
        "And now we can compile and fit the model (for more epochs, because each epoch is much shorter than earlier, and there is only one instance per batch):"
      ],
      "metadata": {
        "id": "9IKxiFMLQ81T"
      }
    },
    {
      "cell_type": "code",
      "source": [
        "model.compile(loss='sparse_categorical_crossentropy', optimizer='adam')\n",
        "#history = model.fit(dataset, epochs=50,\n",
        "#                    callbacks=[ResetStatesCallback()])"
      ],
      "metadata": {
        "id": "OtjHJQ_1Q_Ne"
      },
      "execution_count": null,
      "outputs": []
    },
    {
      "cell_type": "code",
      "source": [
        "from urllib import request\n",
        "url = 'https://github.com/lucaslokchan/ml-journal/raw/master/Hands-On%20Machine%20Learning/Model/CH16_CHAR_RNN_STATEFUL.h5'\n",
        "request.urlretrieve(url, 'CH16_CHAR_RNN_STATEFUL.h5')"
      ],
      "metadata": {
        "colab": {
          "base_uri": "https://localhost:8080/"
        },
        "outputId": "80646e7b-b3a0-4f66-83ea-65e864cd0ab1",
        "id": "6pCdLS-JVREn"
      },
      "execution_count": 37,
      "outputs": [
        {
          "output_type": "execute_result",
          "data": {
            "text/plain": [
              "('CH16_CHAR_RNN_STATEFUL.h5', <http.client.HTTPMessage at 0x7f91dff5ee50>)"
            ]
          },
          "metadata": {},
          "execution_count": 37
        }
      ]
    },
    {
      "cell_type": "code",
      "source": [
        "model = keras.models.load_model('CH16_CHAR_RNN_STATEFUL.h5')"
      ],
      "metadata": {
        "id": "UFPaJVe5VREz"
      },
      "execution_count": 38,
      "outputs": []
    },
    {
      "cell_type": "markdown",
      "source": [
        "Now that we have built a character-level model, it’s time to look at **word level models** and tackle a common natural language processing task: **sentiment analysis**"
      ],
      "metadata": {
        "id": "Xv1RucAdRAB9"
      }
    },
    {
      "cell_type": "markdown",
      "source": [
        "# Sentiment Analysis"
      ],
      "metadata": {
        "id": "A7xG5J1ZRtLP"
      }
    },
    {
      "cell_type": "markdown",
      "source": [
        "If MNIST is the “hello world” of computer vision, then the **IMDb reviews dataset is the “hello world” of natural language processing:** it consists of 50,000 movie reviews in English (25,000 for training, 25,000 for testing) extracted from the famous Internet Movie Database, along with a simple binary target for each review **indicating whether it is negative (0) or positive (1)**\n",
        "\n",
        "Keras provides a simple function to load it"
      ],
      "metadata": {
        "id": "vftnyb7DWC90"
      }
    },
    {
      "cell_type": "code",
      "source": [
        "(X_train, y_train), (X_test, y_test) = keras.datasets.imdb.load_data()"
      ],
      "metadata": {
        "colab": {
          "base_uri": "https://localhost:8080/"
        },
        "id": "IJz8nIH1Qz7W",
        "outputId": "faf57d0b-f165-4a00-a7df-791414688b54"
      },
      "execution_count": 40,
      "outputs": [
        {
          "output_type": "stream",
          "name": "stdout",
          "text": [
            "Downloading data from https://storage.googleapis.com/tensorflow/tf-keras-datasets/imdb.npz\n",
            "17465344/17464789 [==============================] - 0s 0us/step\n",
            "17473536/17464789 [==============================] - 0s 0us/step\n"
          ]
        }
      ]
    },
    {
      "cell_type": "code",
      "source": [
        "X_train[0][:10]"
      ],
      "metadata": {
        "colab": {
          "base_uri": "https://localhost:8080/"
        },
        "id": "43BBEK71UuEH",
        "outputId": "59cef264-96cf-4b86-b489-1dd31a6238ce"
      },
      "execution_count": 43,
      "outputs": [
        {
          "output_type": "execute_result",
          "data": {
            "text/plain": [
              "[1, 14, 22, 16, 43, 530, 973, 1622, 1385, 65]"
            ]
          },
          "metadata": {},
          "execution_count": 43
        }
      ]
    },
    {
      "cell_type": "markdown",
      "source": [
        "The dataset is already preprocessed for you: X_train consists of a list of reviews, each of which is represented as a NumPy array of integers, where **each integer represents a word**\n",
        "\n",
        "**All punctuation was removed, and then words were converted to lowercase, split by spaces, and finally indexed by frequency** (so low integers correspond to frequent words)\n",
        "\n",
        "The integers **0, 1, and 2** are special: they represent the **padding token, the start-of-sequence (SSS) token, and unknown words,** respectively. If you want to visualize a review, you can decode it like this:"
      ],
      "metadata": {
        "id": "uNc0gD8mWrTh"
      }
    },
    {
      "cell_type": "code",
      "source": [
        "word_index = keras.datasets.imdb.get_word_index()"
      ],
      "metadata": {
        "colab": {
          "base_uri": "https://localhost:8080/"
        },
        "id": "KPbdkEqdXRzK",
        "outputId": "3064a8e4-ff4a-4eff-aea3-2f79da879356"
      },
      "execution_count": 44,
      "outputs": [
        {
          "output_type": "stream",
          "name": "stdout",
          "text": [
            "Downloading data from https://storage.googleapis.com/tensorflow/tf-keras-datasets/imdb_word_index.json\n",
            "1646592/1641221 [==============================] - 0s 0us/step\n",
            "1654784/1641221 [==============================] - 0s 0us/step\n"
          ]
        }
      ]
    },
    {
      "cell_type": "code",
      "source": [
        "id_to_word = {id_ + 3: word for word, id_ in word_index.items()}\n",
        "for id_, token in enumerate(('<pad>', '<sos>', '<unk>')):\n",
        "  id_to_word[id_] = token\n",
        "\" \".join([id_to_word[id_] for id_ in X_train[0][:10]])"
      ],
      "metadata": {
        "colab": {
          "base_uri": "https://localhost:8080/",
          "height": 35
        },
        "id": "VdkpoYiJXeqv",
        "outputId": "cb4db2cf-9a60-41fa-f4b8-d20016ba1c58"
      },
      "execution_count": 49,
      "outputs": [
        {
          "output_type": "execute_result",
          "data": {
            "application/vnd.google.colaboratory.intrinsic+json": {
              "type": "string"
            },
            "text/plain": [
              "'<sos> this film was just brilliant casting location scenery story'"
            ]
          },
          "metadata": {},
          "execution_count": 49
        }
      ]
    },
    {
      "cell_type": "markdown",
      "source": [
        "In a real project, you will have to preprocess the text yourself. You can do that using the same Tokenizer class we used earlier, but this time setting char_level=False (which is the default)\n",
        "\n",
        "**When encoding words, it filters out a lot of characters, including most punctuation, line breaks, and tabs** (but you can change this by setting the filter argument)\n",
        "\n",
        "Most importantly, it uses **spaces to identify word boundaries.** This is OK for English and many other scripts (written languages) that use spaces between words, but not all scripts use spaces this way\n",
        "\n",
        "Chinese does not use spaces between words, Vietnamese uses spaces even within words, and languages such as German often attach multiple words together, without spaces. Even in English, spaces are not always the best way to tokenize text: think of “San Francisco” or “#ILoveDeepLearning.”\n",
        "\n",
        "\n",
        "\n"
      ],
      "metadata": {
        "id": "1rzL_VacXRP7"
      }
    }
  ]
}