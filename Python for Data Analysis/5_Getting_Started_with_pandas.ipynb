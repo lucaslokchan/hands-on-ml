{
  "nbformat": 4,
  "nbformat_minor": 0,
  "metadata": {
    "colab": {
      "name": "5.Getting Started with pandas.ipynb",
      "provenance": [],
      "collapsed_sections": [],
      "authorship_tag": "ABX9TyNAENFgkgX3yhasnEb/fsDq"
    },
    "kernelspec": {
      "name": "python3",
      "display_name": "Python 3"
    },
    "language_info": {
      "name": "python"
    }
  },
  "cells": [
    {
      "cell_type": "markdown",
      "metadata": {
        "id": "ve_r0B-Pmkjx"
      },
      "source": [
        "# 5.1 Introduction to pandas Data Structures"
      ]
    },
    {
      "cell_type": "markdown",
      "metadata": {
        "id": "C-2psSVPm_RA"
      },
      "source": [
        "## Series"
      ]
    },
    {
      "cell_type": "markdown",
      "metadata": {
        "id": "k1sX71aknAhP"
      },
      "source": [
        "A Series is a **one-dimensional array-like object containing a sequence of values (of similar types to NumPy types) and an associated array of data labels, called its index**\n",
        "\n",
        "The simplest Series is formed from only an array of data:"
      ]
    },
    {
      "cell_type": "code",
      "metadata": {
        "id": "sAc9V5nooNw5"
      },
      "source": [
        "import pandas as pd"
      ],
      "execution_count": 2,
      "outputs": []
    },
    {
      "cell_type": "code",
      "metadata": {
        "id": "uGFadLcQmAXN"
      },
      "source": [
        "obj = pd.Series([4, 7, -5, 3])"
      ],
      "execution_count": 3,
      "outputs": []
    },
    {
      "cell_type": "code",
      "metadata": {
        "colab": {
          "base_uri": "https://localhost:8080/"
        },
        "id": "vHCa63iioanI",
        "outputId": "c69b8977-f031-48a8-d320-790d8db96536"
      },
      "source": [
        "obj"
      ],
      "execution_count": 4,
      "outputs": [
        {
          "output_type": "execute_result",
          "data": {
            "text/plain": [
              "0    4\n",
              "1    7\n",
              "2   -5\n",
              "3    3\n",
              "dtype: int64"
            ]
          },
          "metadata": {},
          "execution_count": 4
        }
      ]
    },
    {
      "cell_type": "markdown",
      "metadata": {
        "id": "edLA9Tt1oSRA"
      },
      "source": [
        "The string representation of a Series displayed interactively shows the **index on the left and the values on the right**\n",
        "\n",
        "Since we did not specify an index for the data, a default one consisting of the integers 0 through N - 1\n",
        "\n",
        "You can get the array representation and index object of the Series via its values and index attributes, respectively:"
      ]
    },
    {
      "cell_type": "code",
      "metadata": {
        "colab": {
          "base_uri": "https://localhost:8080/"
        },
        "id": "Qwy8RVmkKIsU",
        "outputId": "2e10dbf6-7374-4178-bad3-9302e6bd2fa1"
      },
      "source": [
        "obj.values"
      ],
      "execution_count": 5,
      "outputs": [
        {
          "output_type": "execute_result",
          "data": {
            "text/plain": [
              "array([ 4,  7, -5,  3])"
            ]
          },
          "metadata": {},
          "execution_count": 5
        }
      ]
    },
    {
      "cell_type": "code",
      "metadata": {
        "colab": {
          "base_uri": "https://localhost:8080/"
        },
        "id": "AhqTW8MAKKvD",
        "outputId": "d3940f13-b52f-46fa-b0c4-0d135e44a862"
      },
      "source": [
        "obj.index"
      ],
      "execution_count": 6,
      "outputs": [
        {
          "output_type": "execute_result",
          "data": {
            "text/plain": [
              "RangeIndex(start=0, stop=4, step=1)"
            ]
          },
          "metadata": {},
          "execution_count": 6
        }
      ]
    },
    {
      "cell_type": "markdown",
      "metadata": {
        "id": "cAsGBa7dKNSM"
      },
      "source": [
        "Often it will be desirable to create a Series with an index identifying each data point with a label:"
      ]
    },
    {
      "cell_type": "code",
      "metadata": {
        "id": "eqo2CqZoKQS7"
      },
      "source": [
        "obj2 = pd.Series([4, 7, -5, 3], index=['d', 'b', 'a', 'c'])"
      ],
      "execution_count": 7,
      "outputs": []
    },
    {
      "cell_type": "code",
      "metadata": {
        "colab": {
          "base_uri": "https://localhost:8080/"
        },
        "id": "Lh4OYRVnKZKk",
        "outputId": "91efd4f9-37bd-4046-8b99-91d0cb92837f"
      },
      "source": [
        "obj2"
      ],
      "execution_count": 8,
      "outputs": [
        {
          "output_type": "execute_result",
          "data": {
            "text/plain": [
              "d    4\n",
              "b    7\n",
              "a   -5\n",
              "c    3\n",
              "dtype: int64"
            ]
          },
          "metadata": {},
          "execution_count": 8
        }
      ]
    },
    {
      "cell_type": "code",
      "metadata": {
        "colab": {
          "base_uri": "https://localhost:8080/"
        },
        "id": "VQPSPxjqKcK0",
        "outputId": "e2c95ff3-6cbf-4bf5-869d-9b9e84daaa1c"
      },
      "source": [
        "obj2.index"
      ],
      "execution_count": 9,
      "outputs": [
        {
          "output_type": "execute_result",
          "data": {
            "text/plain": [
              "Index(['d', 'b', 'a', 'c'], dtype='object')"
            ]
          },
          "metadata": {},
          "execution_count": 9
        }
      ]
    },
    {
      "cell_type": "markdown",
      "metadata": {
        "id": "UTP2J-OVKkWr"
      },
      "source": [
        "Compared with NumPy arrays, **you can use labels in the index when selecting single values or a set of values**:"
      ]
    },
    {
      "cell_type": "code",
      "metadata": {
        "colab": {
          "base_uri": "https://localhost:8080/"
        },
        "id": "8l6OFcj7KpFr",
        "outputId": "95664adb-17c0-4359-c9b7-d530c0d9d4f6"
      },
      "source": [
        "obj2['a']"
      ],
      "execution_count": 10,
      "outputs": [
        {
          "output_type": "execute_result",
          "data": {
            "text/plain": [
              "-5"
            ]
          },
          "metadata": {},
          "execution_count": 10
        }
      ]
    },
    {
      "cell_type": "code",
      "metadata": {
        "colab": {
          "base_uri": "https://localhost:8080/"
        },
        "id": "qMdJwEPpKtWz",
        "outputId": "49121f4e-13b0-4e02-8fbc-14dce790d3ad"
      },
      "source": [
        "obj2['d']"
      ],
      "execution_count": 11,
      "outputs": [
        {
          "output_type": "execute_result",
          "data": {
            "text/plain": [
              "4"
            ]
          },
          "metadata": {},
          "execution_count": 11
        }
      ]
    },
    {
      "cell_type": "code",
      "metadata": {
        "colab": {
          "base_uri": "https://localhost:8080/"
        },
        "id": "fRvnNfxHLPLL",
        "outputId": "12986d18-3abe-4113-83c9-3b3acacc931d"
      },
      "source": [
        "obj2[['c', 'a', 'd']]"
      ],
      "execution_count": 12,
      "outputs": [
        {
          "output_type": "execute_result",
          "data": {
            "text/plain": [
              "c    3\n",
              "a   -5\n",
              "d    4\n",
              "dtype: int64"
            ]
          },
          "metadata": {},
          "execution_count": 12
        }
      ]
    },
    {
      "cell_type": "markdown",
      "metadata": {
        "id": "jo_zdkJjLYus"
      },
      "source": [
        "Here ['c', 'a', 'd'] is interpreted as a list of indices, even though it contains strings instead of integers\n",
        "\n",
        "Using NumPy functions or NumPy-like operations, such as filtering with a boolean array, scalar multiplication, or applying math functions, will preserve the index-value link:"
      ]
    },
    {
      "cell_type": "code",
      "metadata": {
        "colab": {
          "base_uri": "https://localhost:8080/"
        },
        "id": "ZDZUpp-uLnjD",
        "outputId": "3558a9bf-0cea-4f4b-8243-4ea1cd19957d"
      },
      "source": [
        "obj2[obj2 > 0]"
      ],
      "execution_count": 13,
      "outputs": [
        {
          "output_type": "execute_result",
          "data": {
            "text/plain": [
              "d    4\n",
              "b    7\n",
              "c    3\n",
              "dtype: int64"
            ]
          },
          "metadata": {},
          "execution_count": 13
        }
      ]
    },
    {
      "cell_type": "code",
      "metadata": {
        "colab": {
          "base_uri": "https://localhost:8080/"
        },
        "id": "yBHkKtsSLr2k",
        "outputId": "833fb6e5-2e84-4403-dc97-49e4512f0555"
      },
      "source": [
        "obj2 * 2"
      ],
      "execution_count": 14,
      "outputs": [
        {
          "output_type": "execute_result",
          "data": {
            "text/plain": [
              "d     8\n",
              "b    14\n",
              "a   -10\n",
              "c     6\n",
              "dtype: int64"
            ]
          },
          "metadata": {},
          "execution_count": 14
        }
      ]
    },
    {
      "cell_type": "code",
      "metadata": {
        "colab": {
          "base_uri": "https://localhost:8080/"
        },
        "id": "SoBWYxJ4LuoG",
        "outputId": "e28bad99-030e-4132-8344-b7f14d9c72a3"
      },
      "source": [
        "import numpy as np\n",
        "np.exp(obj2)"
      ],
      "execution_count": 15,
      "outputs": [
        {
          "output_type": "execute_result",
          "data": {
            "text/plain": [
              "d      54.598150\n",
              "b    1096.633158\n",
              "a       0.006738\n",
              "c      20.085537\n",
              "dtype: float64"
            ]
          },
          "metadata": {},
          "execution_count": 15
        }
      ]
    },
    {
      "cell_type": "markdown",
      "metadata": {
        "id": "1n5PaggSNN7-"
      },
      "source": [
        "Another way to think about a Series is as a fixed-length, ordered dict, as it is a mapping of index values to data values\n",
        "\n",
        "It can be used in many contexts where you might use a dict:"
      ]
    },
    {
      "cell_type": "code",
      "metadata": {
        "colab": {
          "base_uri": "https://localhost:8080/"
        },
        "id": "WKFJGuvxLx-D",
        "outputId": "42f69f7b-8f0c-4b72-c818-2db979217649"
      },
      "source": [
        "'b' in obj2"
      ],
      "execution_count": 16,
      "outputs": [
        {
          "output_type": "execute_result",
          "data": {
            "text/plain": [
              "True"
            ]
          },
          "metadata": {},
          "execution_count": 16
        }
      ]
    },
    {
      "cell_type": "code",
      "metadata": {
        "colab": {
          "base_uri": "https://localhost:8080/"
        },
        "id": "30uxwyGvNWL8",
        "outputId": "57eb820d-820e-4ba5-84b9-6f419743efbc"
      },
      "source": [
        "'e' in obj2"
      ],
      "execution_count": 17,
      "outputs": [
        {
          "output_type": "execute_result",
          "data": {
            "text/plain": [
              "False"
            ]
          },
          "metadata": {},
          "execution_count": 17
        }
      ]
    },
    {
      "cell_type": "markdown",
      "metadata": {
        "id": "pEkLs3vVNYfz"
      },
      "source": [
        "Should you have data contained in a Python dict, you can **create a Series from it by passing the dict**:"
      ]
    },
    {
      "cell_type": "code",
      "metadata": {
        "id": "GsGbzubiNd8D"
      },
      "source": [
        "sdata = {'Ohio': 35000, 'Texas': 71000, 'Oregon': 16000, 'Utah': 5000}"
      ],
      "execution_count": 18,
      "outputs": []
    },
    {
      "cell_type": "code",
      "metadata": {
        "id": "hOo3bLtLNgfz"
      },
      "source": [
        "obj3 = pd.Series(sdata)"
      ],
      "execution_count": 19,
      "outputs": []
    },
    {
      "cell_type": "code",
      "metadata": {
        "id": "lxXz9SXPNieU",
        "colab": {
          "base_uri": "https://localhost:8080/"
        },
        "outputId": "e57b7458-87e4-46a8-b5f7-53db63424a7c"
      },
      "source": [
        "obj3"
      ],
      "execution_count": 20,
      "outputs": [
        {
          "output_type": "execute_result",
          "data": {
            "text/plain": [
              "Ohio      35000\n",
              "Texas     71000\n",
              "Oregon    16000\n",
              "Utah       5000\n",
              "dtype: int64"
            ]
          },
          "metadata": {},
          "execution_count": 20
        }
      ]
    },
    {
      "cell_type": "markdown",
      "metadata": {
        "id": "uYGSPJhYodMV"
      },
      "source": [
        "When you are only passing a dict, the index in the resulting Series will have the dict’s keys in sorted order\n",
        "\n",
        "You can override this by passing the dict keys in the order you want them to appear in the resulting Series:"
      ]
    },
    {
      "cell_type": "code",
      "metadata": {
        "id": "74Gm7k-SomwN"
      },
      "source": [
        "states = ['California', 'Ohio', 'Oregon', 'Texas']"
      ],
      "execution_count": 21,
      "outputs": []
    },
    {
      "cell_type": "code",
      "metadata": {
        "id": "rc-cbdl7osRV"
      },
      "source": [
        "obj4 = pd.Series(sdata, index=states)"
      ],
      "execution_count": 22,
      "outputs": []
    },
    {
      "cell_type": "code",
      "metadata": {
        "colab": {
          "base_uri": "https://localhost:8080/"
        },
        "id": "j0wsYKOuo0v2",
        "outputId": "15e9871e-5ad5-42e8-d15d-a8a78fb9a450"
      },
      "source": [
        "obj4"
      ],
      "execution_count": 23,
      "outputs": [
        {
          "output_type": "execute_result",
          "data": {
            "text/plain": [
              "California        NaN\n",
              "Ohio          35000.0\n",
              "Oregon        16000.0\n",
              "Texas         71000.0\n",
              "dtype: float64"
            ]
          },
          "metadata": {},
          "execution_count": 23
        }
      ]
    },
    {
      "cell_type": "markdown",
      "metadata": {
        "id": "1fuLeDLVuNld"
      },
      "source": [
        "Here, three values found in sdata were placed in the appropriate locations, but since no value for 'California' was found, it appears as NaN (not a number), which is considered in pandas to mark missing or NA values\n",
        "\n",
        "Since 'Utah' was not included in states, it is excluded from the resulting object\n",
        "\n",
        "**The isnull and notnull functions in pandas should be used to detect missing data:**"
      ]
    },
    {
      "cell_type": "code",
      "metadata": {
        "colab": {
          "base_uri": "https://localhost:8080/"
        },
        "id": "CIF0acNGxHEl",
        "outputId": "f2d0c9c7-244e-4d5a-c745-cfb74778593c"
      },
      "source": [
        "pd.isnull(obj4)"
      ],
      "execution_count": 24,
      "outputs": [
        {
          "output_type": "execute_result",
          "data": {
            "text/plain": [
              "California     True\n",
              "Ohio          False\n",
              "Oregon        False\n",
              "Texas         False\n",
              "dtype: bool"
            ]
          },
          "metadata": {},
          "execution_count": 24
        }
      ]
    },
    {
      "cell_type": "code",
      "metadata": {
        "colab": {
          "base_uri": "https://localhost:8080/"
        },
        "id": "y-2a8EqJxOOG",
        "outputId": "b5a8e08a-e48a-4ddd-9c3b-1d98d2d2c310"
      },
      "source": [
        "pd.notnull(obj4)"
      ],
      "execution_count": 25,
      "outputs": [
        {
          "output_type": "execute_result",
          "data": {
            "text/plain": [
              "California    False\n",
              "Ohio           True\n",
              "Oregon         True\n",
              "Texas          True\n",
              "dtype: bool"
            ]
          },
          "metadata": {},
          "execution_count": 25
        }
      ]
    },
    {
      "cell_type": "markdown",
      "metadata": {
        "id": "nxE7MPBxxTfl"
      },
      "source": [
        "Series also has these as instance methods:"
      ]
    },
    {
      "cell_type": "code",
      "metadata": {
        "colab": {
          "base_uri": "https://localhost:8080/"
        },
        "id": "sBOX_fGfxT5N",
        "outputId": "7b74f403-9aea-44ff-fc92-cf25b1f0638e"
      },
      "source": [
        "obj4.isnull()"
      ],
      "execution_count": 26,
      "outputs": [
        {
          "output_type": "execute_result",
          "data": {
            "text/plain": [
              "California     True\n",
              "Ohio          False\n",
              "Oregon        False\n",
              "Texas         False\n",
              "dtype: bool"
            ]
          },
          "metadata": {},
          "execution_count": 26
        }
      ]
    },
    {
      "cell_type": "markdown",
      "metadata": {
        "id": "FKxX7JFox_-d"
      },
      "source": [
        "A useful Series feature for many applications is that it automatically aligns by index label in arithmetic operations:"
      ]
    },
    {
      "cell_type": "code",
      "metadata": {
        "colab": {
          "base_uri": "https://localhost:8080/"
        },
        "id": "Lx29cgAfyC3O",
        "outputId": "1b4b1e46-f55e-4ded-e721-c48f02ebc71b"
      },
      "source": [
        "obj3"
      ],
      "execution_count": 27,
      "outputs": [
        {
          "output_type": "execute_result",
          "data": {
            "text/plain": [
              "Ohio      35000\n",
              "Texas     71000\n",
              "Oregon    16000\n",
              "Utah       5000\n",
              "dtype: int64"
            ]
          },
          "metadata": {},
          "execution_count": 27
        }
      ]
    },
    {
      "cell_type": "code",
      "metadata": {
        "colab": {
          "base_uri": "https://localhost:8080/"
        },
        "id": "qG5i47O_yFaV",
        "outputId": "816323b4-7749-4d8b-a550-35c5389ad45f"
      },
      "source": [
        "obj4"
      ],
      "execution_count": 28,
      "outputs": [
        {
          "output_type": "execute_result",
          "data": {
            "text/plain": [
              "California        NaN\n",
              "Ohio          35000.0\n",
              "Oregon        16000.0\n",
              "Texas         71000.0\n",
              "dtype: float64"
            ]
          },
          "metadata": {},
          "execution_count": 28
        }
      ]
    },
    {
      "cell_type": "code",
      "metadata": {
        "colab": {
          "base_uri": "https://localhost:8080/"
        },
        "id": "PYap5yKZyJyF",
        "outputId": "8b3f36f5-301a-4571-e107-ec03e606d57c"
      },
      "source": [
        "obj3 + obj4"
      ],
      "execution_count": 29,
      "outputs": [
        {
          "output_type": "execute_result",
          "data": {
            "text/plain": [
              "California         NaN\n",
              "Ohio           70000.0\n",
              "Oregon         32000.0\n",
              "Texas         142000.0\n",
              "Utah               NaN\n",
              "dtype: float64"
            ]
          },
          "metadata": {},
          "execution_count": 29
        }
      ]
    },
    {
      "cell_type": "markdown",
      "metadata": {
        "id": "oc7dGu2WyUnS"
      },
      "source": [
        "Both the Series object itself and its index have a name attribute, which integrates with other key areas of pandas functionality:"
      ]
    },
    {
      "cell_type": "code",
      "metadata": {
        "id": "9p7ysXp5yYO3"
      },
      "source": [
        "obj4.name = 'population'"
      ],
      "execution_count": 30,
      "outputs": []
    },
    {
      "cell_type": "code",
      "metadata": {
        "id": "O9riVHA0ybO2"
      },
      "source": [
        "obj4.index.name = 'state'"
      ],
      "execution_count": 31,
      "outputs": []
    },
    {
      "cell_type": "code",
      "metadata": {
        "colab": {
          "base_uri": "https://localhost:8080/"
        },
        "id": "5mUWumcUyfHV",
        "outputId": "2ec16879-928f-4535-9a4e-dbe41635c101"
      },
      "source": [
        "obj4"
      ],
      "execution_count": 32,
      "outputs": [
        {
          "output_type": "execute_result",
          "data": {
            "text/plain": [
              "state\n",
              "California        NaN\n",
              "Ohio          35000.0\n",
              "Oregon        16000.0\n",
              "Texas         71000.0\n",
              "Name: population, dtype: float64"
            ]
          },
          "metadata": {},
          "execution_count": 32
        }
      ]
    },
    {
      "cell_type": "markdown",
      "metadata": {
        "id": "BJ-w_d3myjE9"
      },
      "source": [
        "A Series’s index can be altered in-place by assignment:"
      ]
    },
    {
      "cell_type": "code",
      "metadata": {
        "colab": {
          "base_uri": "https://localhost:8080/"
        },
        "id": "SWdXjNaNyrs2",
        "outputId": "82ab0d10-22ed-4667-c83d-3268d0f81977"
      },
      "source": [
        "obj"
      ],
      "execution_count": 33,
      "outputs": [
        {
          "output_type": "execute_result",
          "data": {
            "text/plain": [
              "0    4\n",
              "1    7\n",
              "2   -5\n",
              "3    3\n",
              "dtype: int64"
            ]
          },
          "metadata": {},
          "execution_count": 33
        }
      ]
    },
    {
      "cell_type": "code",
      "metadata": {
        "id": "awlmvgHNyuJG"
      },
      "source": [
        "obj.index = ['Bob', 'Steve', 'Jeff', 'Ryan']"
      ],
      "execution_count": 34,
      "outputs": []
    },
    {
      "cell_type": "code",
      "metadata": {
        "colab": {
          "base_uri": "https://localhost:8080/"
        },
        "id": "2Tp0FRa-yzLl",
        "outputId": "1373a44a-f98a-4b21-8172-e2ce7f61e428"
      },
      "source": [
        "obj"
      ],
      "execution_count": 35,
      "outputs": [
        {
          "output_type": "execute_result",
          "data": {
            "text/plain": [
              "Bob      4\n",
              "Steve    7\n",
              "Jeff    -5\n",
              "Ryan     3\n",
              "dtype: int64"
            ]
          },
          "metadata": {},
          "execution_count": 35
        }
      ]
    },
    {
      "cell_type": "markdown",
      "metadata": {
        "id": "05H1EmE3y6Mz"
      },
      "source": [
        "## DataFrame"
      ]
    },
    {
      "cell_type": "markdown",
      "metadata": {
        "id": "PTbREeU6y8Dd"
      },
      "source": [
        "A DataFrame represents a rectangular table of data and contains an ordered collection of columns, each of which can be a different value type\n",
        "\n",
        "The DataFrame has both a row and column index; it can be thought of as a dict of Series all sharing the same index\n",
        "\n",
        "Under the hood, **the data is stored as one or more two-dimensional blocks** rather than a list, dict, or some other collection of one-dimensional arrays\n",
        "\n",
        "There are many ways to construct a DataFrame, though one of the most common is **from a dict of equal-length lists or NumPy arrays**:"
      ]
    },
    {
      "cell_type": "code",
      "metadata": {
        "id": "BUfpe6CszEQd"
      },
      "source": [
        "data = {'state': ['Ohio', 'Ohio', 'Ohio', 'Nevada', 'Nevada', 'Nevada'],\n",
        "'year': [2000, 2001, 2002, 2001, 2002, 2003],\n",
        "'pop': [1.5, 1.7, 3.6, 2.4, 2.9, 3.2]}"
      ],
      "execution_count": 36,
      "outputs": []
    },
    {
      "cell_type": "code",
      "metadata": {
        "id": "EUpOTU2Sz8pW"
      },
      "source": [
        "frame = pd.DataFrame(data)"
      ],
      "execution_count": 37,
      "outputs": []
    },
    {
      "cell_type": "markdown",
      "metadata": {
        "id": "k0jrj1T_0C2n"
      },
      "source": [
        "The resulting DataFrame will have its index assigned automatically as with Series, and the columns are placed in sorted order:"
      ]
    },
    {
      "cell_type": "code",
      "metadata": {
        "colab": {
          "base_uri": "https://localhost:8080/",
          "height": 235
        },
        "id": "phJIoHNQz-7V",
        "outputId": "a6e11c76-4518-4a1a-c2bd-82a068c77058"
      },
      "source": [
        "frame"
      ],
      "execution_count": 38,
      "outputs": [
        {
          "output_type": "execute_result",
          "data": {
            "text/html": [
              "<div>\n",
              "<style scoped>\n",
              "    .dataframe tbody tr th:only-of-type {\n",
              "        vertical-align: middle;\n",
              "    }\n",
              "\n",
              "    .dataframe tbody tr th {\n",
              "        vertical-align: top;\n",
              "    }\n",
              "\n",
              "    .dataframe thead th {\n",
              "        text-align: right;\n",
              "    }\n",
              "</style>\n",
              "<table border=\"1\" class=\"dataframe\">\n",
              "  <thead>\n",
              "    <tr style=\"text-align: right;\">\n",
              "      <th></th>\n",
              "      <th>state</th>\n",
              "      <th>year</th>\n",
              "      <th>pop</th>\n",
              "    </tr>\n",
              "  </thead>\n",
              "  <tbody>\n",
              "    <tr>\n",
              "      <th>0</th>\n",
              "      <td>Ohio</td>\n",
              "      <td>2000</td>\n",
              "      <td>1.5</td>\n",
              "    </tr>\n",
              "    <tr>\n",
              "      <th>1</th>\n",
              "      <td>Ohio</td>\n",
              "      <td>2001</td>\n",
              "      <td>1.7</td>\n",
              "    </tr>\n",
              "    <tr>\n",
              "      <th>2</th>\n",
              "      <td>Ohio</td>\n",
              "      <td>2002</td>\n",
              "      <td>3.6</td>\n",
              "    </tr>\n",
              "    <tr>\n",
              "      <th>3</th>\n",
              "      <td>Nevada</td>\n",
              "      <td>2001</td>\n",
              "      <td>2.4</td>\n",
              "    </tr>\n",
              "    <tr>\n",
              "      <th>4</th>\n",
              "      <td>Nevada</td>\n",
              "      <td>2002</td>\n",
              "      <td>2.9</td>\n",
              "    </tr>\n",
              "    <tr>\n",
              "      <th>5</th>\n",
              "      <td>Nevada</td>\n",
              "      <td>2003</td>\n",
              "      <td>3.2</td>\n",
              "    </tr>\n",
              "  </tbody>\n",
              "</table>\n",
              "</div>"
            ],
            "text/plain": [
              "    state  year  pop\n",
              "0    Ohio  2000  1.5\n",
              "1    Ohio  2001  1.7\n",
              "2    Ohio  2002  3.6\n",
              "3  Nevada  2001  2.4\n",
              "4  Nevada  2002  2.9\n",
              "5  Nevada  2003  3.2"
            ]
          },
          "metadata": {},
          "execution_count": 38
        }
      ]
    },
    {
      "cell_type": "markdown",
      "metadata": {
        "id": "cbjWEMT20Lru"
      },
      "source": [
        "For large DataFrames, the head method selects only the first five rows:"
      ]
    },
    {
      "cell_type": "code",
      "metadata": {
        "colab": {
          "base_uri": "https://localhost:8080/",
          "height": 204
        },
        "id": "Q1Wvou680QLN",
        "outputId": "3e43fab8-2c90-460e-bd0d-f8c95432729a"
      },
      "source": [
        "frame.head()"
      ],
      "execution_count": 39,
      "outputs": [
        {
          "output_type": "execute_result",
          "data": {
            "text/html": [
              "<div>\n",
              "<style scoped>\n",
              "    .dataframe tbody tr th:only-of-type {\n",
              "        vertical-align: middle;\n",
              "    }\n",
              "\n",
              "    .dataframe tbody tr th {\n",
              "        vertical-align: top;\n",
              "    }\n",
              "\n",
              "    .dataframe thead th {\n",
              "        text-align: right;\n",
              "    }\n",
              "</style>\n",
              "<table border=\"1\" class=\"dataframe\">\n",
              "  <thead>\n",
              "    <tr style=\"text-align: right;\">\n",
              "      <th></th>\n",
              "      <th>state</th>\n",
              "      <th>year</th>\n",
              "      <th>pop</th>\n",
              "    </tr>\n",
              "  </thead>\n",
              "  <tbody>\n",
              "    <tr>\n",
              "      <th>0</th>\n",
              "      <td>Ohio</td>\n",
              "      <td>2000</td>\n",
              "      <td>1.5</td>\n",
              "    </tr>\n",
              "    <tr>\n",
              "      <th>1</th>\n",
              "      <td>Ohio</td>\n",
              "      <td>2001</td>\n",
              "      <td>1.7</td>\n",
              "    </tr>\n",
              "    <tr>\n",
              "      <th>2</th>\n",
              "      <td>Ohio</td>\n",
              "      <td>2002</td>\n",
              "      <td>3.6</td>\n",
              "    </tr>\n",
              "    <tr>\n",
              "      <th>3</th>\n",
              "      <td>Nevada</td>\n",
              "      <td>2001</td>\n",
              "      <td>2.4</td>\n",
              "    </tr>\n",
              "    <tr>\n",
              "      <th>4</th>\n",
              "      <td>Nevada</td>\n",
              "      <td>2002</td>\n",
              "      <td>2.9</td>\n",
              "    </tr>\n",
              "  </tbody>\n",
              "</table>\n",
              "</div>"
            ],
            "text/plain": [
              "    state  year  pop\n",
              "0    Ohio  2000  1.5\n",
              "1    Ohio  2001  1.7\n",
              "2    Ohio  2002  3.6\n",
              "3  Nevada  2001  2.4\n",
              "4  Nevada  2002  2.9"
            ]
          },
          "metadata": {},
          "execution_count": 39
        }
      ]
    },
    {
      "cell_type": "markdown",
      "metadata": {
        "id": "0G2miH1v0Sxt"
      },
      "source": [
        "If you specify a sequence of columns, the DataFrame’s columns will be arranged in that order:"
      ]
    },
    {
      "cell_type": "code",
      "metadata": {
        "colab": {
          "base_uri": "https://localhost:8080/",
          "height": 235
        },
        "id": "7Qr2RX270R1n",
        "outputId": "bbc52f0a-a3f5-464a-9233-8fec48ef66ca"
      },
      "source": [
        "pd.DataFrame(data, columns=['year', 'state', 'pop'])"
      ],
      "execution_count": 40,
      "outputs": [
        {
          "output_type": "execute_result",
          "data": {
            "text/html": [
              "<div>\n",
              "<style scoped>\n",
              "    .dataframe tbody tr th:only-of-type {\n",
              "        vertical-align: middle;\n",
              "    }\n",
              "\n",
              "    .dataframe tbody tr th {\n",
              "        vertical-align: top;\n",
              "    }\n",
              "\n",
              "    .dataframe thead th {\n",
              "        text-align: right;\n",
              "    }\n",
              "</style>\n",
              "<table border=\"1\" class=\"dataframe\">\n",
              "  <thead>\n",
              "    <tr style=\"text-align: right;\">\n",
              "      <th></th>\n",
              "      <th>year</th>\n",
              "      <th>state</th>\n",
              "      <th>pop</th>\n",
              "    </tr>\n",
              "  </thead>\n",
              "  <tbody>\n",
              "    <tr>\n",
              "      <th>0</th>\n",
              "      <td>2000</td>\n",
              "      <td>Ohio</td>\n",
              "      <td>1.5</td>\n",
              "    </tr>\n",
              "    <tr>\n",
              "      <th>1</th>\n",
              "      <td>2001</td>\n",
              "      <td>Ohio</td>\n",
              "      <td>1.7</td>\n",
              "    </tr>\n",
              "    <tr>\n",
              "      <th>2</th>\n",
              "      <td>2002</td>\n",
              "      <td>Ohio</td>\n",
              "      <td>3.6</td>\n",
              "    </tr>\n",
              "    <tr>\n",
              "      <th>3</th>\n",
              "      <td>2001</td>\n",
              "      <td>Nevada</td>\n",
              "      <td>2.4</td>\n",
              "    </tr>\n",
              "    <tr>\n",
              "      <th>4</th>\n",
              "      <td>2002</td>\n",
              "      <td>Nevada</td>\n",
              "      <td>2.9</td>\n",
              "    </tr>\n",
              "    <tr>\n",
              "      <th>5</th>\n",
              "      <td>2003</td>\n",
              "      <td>Nevada</td>\n",
              "      <td>3.2</td>\n",
              "    </tr>\n",
              "  </tbody>\n",
              "</table>\n",
              "</div>"
            ],
            "text/plain": [
              "   year   state  pop\n",
              "0  2000    Ohio  1.5\n",
              "1  2001    Ohio  1.7\n",
              "2  2002    Ohio  3.6\n",
              "3  2001  Nevada  2.4\n",
              "4  2002  Nevada  2.9\n",
              "5  2003  Nevada  3.2"
            ]
          },
          "metadata": {},
          "execution_count": 40
        }
      ]
    },
    {
      "cell_type": "markdown",
      "metadata": {
        "id": "slSB1_g40idv"
      },
      "source": [
        "If you pass a column that isn’t contained in the dict, it will appear with missing values in the result:"
      ]
    },
    {
      "cell_type": "code",
      "metadata": {
        "id": "SfMt62mM0l1d"
      },
      "source": [
        "frame2 = pd.DataFrame(data, columns=['year', 'state', 'pop', 'debt'],\n",
        "                      index=['one', 'two', 'three', 'four',\n",
        "                      'five', 'six'])"
      ],
      "execution_count": 41,
      "outputs": []
    },
    {
      "cell_type": "code",
      "metadata": {
        "colab": {
          "base_uri": "https://localhost:8080/",
          "height": 235
        },
        "id": "0MjLYxgT0w5M",
        "outputId": "0415abff-8314-4d35-d187-6f68703ddfe9"
      },
      "source": [
        "frame2"
      ],
      "execution_count": 42,
      "outputs": [
        {
          "output_type": "execute_result",
          "data": {
            "text/html": [
              "<div>\n",
              "<style scoped>\n",
              "    .dataframe tbody tr th:only-of-type {\n",
              "        vertical-align: middle;\n",
              "    }\n",
              "\n",
              "    .dataframe tbody tr th {\n",
              "        vertical-align: top;\n",
              "    }\n",
              "\n",
              "    .dataframe thead th {\n",
              "        text-align: right;\n",
              "    }\n",
              "</style>\n",
              "<table border=\"1\" class=\"dataframe\">\n",
              "  <thead>\n",
              "    <tr style=\"text-align: right;\">\n",
              "      <th></th>\n",
              "      <th>year</th>\n",
              "      <th>state</th>\n",
              "      <th>pop</th>\n",
              "      <th>debt</th>\n",
              "    </tr>\n",
              "  </thead>\n",
              "  <tbody>\n",
              "    <tr>\n",
              "      <th>one</th>\n",
              "      <td>2000</td>\n",
              "      <td>Ohio</td>\n",
              "      <td>1.5</td>\n",
              "      <td>NaN</td>\n",
              "    </tr>\n",
              "    <tr>\n",
              "      <th>two</th>\n",
              "      <td>2001</td>\n",
              "      <td>Ohio</td>\n",
              "      <td>1.7</td>\n",
              "      <td>NaN</td>\n",
              "    </tr>\n",
              "    <tr>\n",
              "      <th>three</th>\n",
              "      <td>2002</td>\n",
              "      <td>Ohio</td>\n",
              "      <td>3.6</td>\n",
              "      <td>NaN</td>\n",
              "    </tr>\n",
              "    <tr>\n",
              "      <th>four</th>\n",
              "      <td>2001</td>\n",
              "      <td>Nevada</td>\n",
              "      <td>2.4</td>\n",
              "      <td>NaN</td>\n",
              "    </tr>\n",
              "    <tr>\n",
              "      <th>five</th>\n",
              "      <td>2002</td>\n",
              "      <td>Nevada</td>\n",
              "      <td>2.9</td>\n",
              "      <td>NaN</td>\n",
              "    </tr>\n",
              "    <tr>\n",
              "      <th>six</th>\n",
              "      <td>2003</td>\n",
              "      <td>Nevada</td>\n",
              "      <td>3.2</td>\n",
              "      <td>NaN</td>\n",
              "    </tr>\n",
              "  </tbody>\n",
              "</table>\n",
              "</div>"
            ],
            "text/plain": [
              "       year   state  pop debt\n",
              "one    2000    Ohio  1.5  NaN\n",
              "two    2001    Ohio  1.7  NaN\n",
              "three  2002    Ohio  3.6  NaN\n",
              "four   2001  Nevada  2.4  NaN\n",
              "five   2002  Nevada  2.9  NaN\n",
              "six    2003  Nevada  3.2  NaN"
            ]
          },
          "metadata": {},
          "execution_count": 42
        }
      ]
    },
    {
      "cell_type": "code",
      "metadata": {
        "colab": {
          "base_uri": "https://localhost:8080/"
        },
        "id": "e_xpJvhF026W",
        "outputId": "e6a11da6-7fca-411b-c658-9b466ceda8d8"
      },
      "source": [
        "frame2.columns"
      ],
      "execution_count": 43,
      "outputs": [
        {
          "output_type": "execute_result",
          "data": {
            "text/plain": [
              "Index(['year', 'state', 'pop', 'debt'], dtype='object')"
            ]
          },
          "metadata": {},
          "execution_count": 43
        }
      ]
    },
    {
      "cell_type": "markdown",
      "metadata": {
        "id": "kdJipE1K05iD"
      },
      "source": [
        "A column in a DataFrame can be retrieved as a Series either by dict-like notation or by attribute:"
      ]
    },
    {
      "cell_type": "code",
      "metadata": {
        "colab": {
          "base_uri": "https://localhost:8080/"
        },
        "id": "fhAyqptv0-xz",
        "outputId": "d23581db-3813-4ef3-af94-dc6f2ec5b2e7"
      },
      "source": [
        "frame2['state']"
      ],
      "execution_count": 44,
      "outputs": [
        {
          "output_type": "execute_result",
          "data": {
            "text/plain": [
              "one        Ohio\n",
              "two        Ohio\n",
              "three      Ohio\n",
              "four     Nevada\n",
              "five     Nevada\n",
              "six      Nevada\n",
              "Name: state, dtype: object"
            ]
          },
          "metadata": {},
          "execution_count": 44
        }
      ]
    },
    {
      "cell_type": "code",
      "metadata": {
        "colab": {
          "base_uri": "https://localhost:8080/"
        },
        "id": "2OtRWKjL1E87",
        "outputId": "19f652cb-f1a6-448f-86ea-bf1cfa5bee2e"
      },
      "source": [
        "frame2.year"
      ],
      "execution_count": 45,
      "outputs": [
        {
          "output_type": "execute_result",
          "data": {
            "text/plain": [
              "one      2000\n",
              "two      2001\n",
              "three    2002\n",
              "four     2001\n",
              "five     2002\n",
              "six      2003\n",
              "Name: year, dtype: int64"
            ]
          },
          "metadata": {},
          "execution_count": 45
        }
      ]
    },
    {
      "cell_type": "markdown",
      "metadata": {
        "id": "zpndPgKr1PQ1"
      },
      "source": [
        "Note that the returned Series have the same index as the DataFrame, and their name attribute has been appropriately set\n",
        "\n",
        "Rows can also be retrieved by position or name with the special loc attribute:"
      ]
    },
    {
      "cell_type": "code",
      "metadata": {
        "colab": {
          "base_uri": "https://localhost:8080/"
        },
        "id": "1LSP5rBw1glt",
        "outputId": "6381a333-0ead-4859-be54-4a7b699fe5b8"
      },
      "source": [
        "frame2.loc['three']"
      ],
      "execution_count": 46,
      "outputs": [
        {
          "output_type": "execute_result",
          "data": {
            "text/plain": [
              "year     2002\n",
              "state    Ohio\n",
              "pop       3.6\n",
              "debt      NaN\n",
              "Name: three, dtype: object"
            ]
          },
          "metadata": {},
          "execution_count": 46
        }
      ]
    },
    {
      "cell_type": "markdown",
      "metadata": {
        "id": "2lPP6AiW1qW-"
      },
      "source": [
        "Columns can be modified by assignment. For example, the empty 'debt' column could be assigned a scalar value or an array of values:"
      ]
    },
    {
      "cell_type": "code",
      "metadata": {
        "id": "W4CroutF1tIF"
      },
      "source": [
        "frame2['debt'] = 16.5"
      ],
      "execution_count": 47,
      "outputs": []
    },
    {
      "cell_type": "code",
      "metadata": {
        "colab": {
          "base_uri": "https://localhost:8080/",
          "height": 235
        },
        "id": "2HrPSgEd1vBn",
        "outputId": "fb4335f0-acf5-4eb5-af0f-8aa75bc305bc"
      },
      "source": [
        "frame2"
      ],
      "execution_count": 48,
      "outputs": [
        {
          "output_type": "execute_result",
          "data": {
            "text/html": [
              "<div>\n",
              "<style scoped>\n",
              "    .dataframe tbody tr th:only-of-type {\n",
              "        vertical-align: middle;\n",
              "    }\n",
              "\n",
              "    .dataframe tbody tr th {\n",
              "        vertical-align: top;\n",
              "    }\n",
              "\n",
              "    .dataframe thead th {\n",
              "        text-align: right;\n",
              "    }\n",
              "</style>\n",
              "<table border=\"1\" class=\"dataframe\">\n",
              "  <thead>\n",
              "    <tr style=\"text-align: right;\">\n",
              "      <th></th>\n",
              "      <th>year</th>\n",
              "      <th>state</th>\n",
              "      <th>pop</th>\n",
              "      <th>debt</th>\n",
              "    </tr>\n",
              "  </thead>\n",
              "  <tbody>\n",
              "    <tr>\n",
              "      <th>one</th>\n",
              "      <td>2000</td>\n",
              "      <td>Ohio</td>\n",
              "      <td>1.5</td>\n",
              "      <td>16.5</td>\n",
              "    </tr>\n",
              "    <tr>\n",
              "      <th>two</th>\n",
              "      <td>2001</td>\n",
              "      <td>Ohio</td>\n",
              "      <td>1.7</td>\n",
              "      <td>16.5</td>\n",
              "    </tr>\n",
              "    <tr>\n",
              "      <th>three</th>\n",
              "      <td>2002</td>\n",
              "      <td>Ohio</td>\n",
              "      <td>3.6</td>\n",
              "      <td>16.5</td>\n",
              "    </tr>\n",
              "    <tr>\n",
              "      <th>four</th>\n",
              "      <td>2001</td>\n",
              "      <td>Nevada</td>\n",
              "      <td>2.4</td>\n",
              "      <td>16.5</td>\n",
              "    </tr>\n",
              "    <tr>\n",
              "      <th>five</th>\n",
              "      <td>2002</td>\n",
              "      <td>Nevada</td>\n",
              "      <td>2.9</td>\n",
              "      <td>16.5</td>\n",
              "    </tr>\n",
              "    <tr>\n",
              "      <th>six</th>\n",
              "      <td>2003</td>\n",
              "      <td>Nevada</td>\n",
              "      <td>3.2</td>\n",
              "      <td>16.5</td>\n",
              "    </tr>\n",
              "  </tbody>\n",
              "</table>\n",
              "</div>"
            ],
            "text/plain": [
              "       year   state  pop  debt\n",
              "one    2000    Ohio  1.5  16.5\n",
              "two    2001    Ohio  1.7  16.5\n",
              "three  2002    Ohio  3.6  16.5\n",
              "four   2001  Nevada  2.4  16.5\n",
              "five   2002  Nevada  2.9  16.5\n",
              "six    2003  Nevada  3.2  16.5"
            ]
          },
          "metadata": {},
          "execution_count": 48
        }
      ]
    },
    {
      "cell_type": "code",
      "metadata": {
        "id": "Epn8Ye_T13rp"
      },
      "source": [
        "frame2['debt'] = np.arange(6.)"
      ],
      "execution_count": 49,
      "outputs": []
    },
    {
      "cell_type": "code",
      "metadata": {
        "colab": {
          "base_uri": "https://localhost:8080/",
          "height": 235
        },
        "id": "BB4LYG0G182l",
        "outputId": "566beeb0-cfba-489c-b6ff-53936ab030e7"
      },
      "source": [
        "frame2"
      ],
      "execution_count": 50,
      "outputs": [
        {
          "output_type": "execute_result",
          "data": {
            "text/html": [
              "<div>\n",
              "<style scoped>\n",
              "    .dataframe tbody tr th:only-of-type {\n",
              "        vertical-align: middle;\n",
              "    }\n",
              "\n",
              "    .dataframe tbody tr th {\n",
              "        vertical-align: top;\n",
              "    }\n",
              "\n",
              "    .dataframe thead th {\n",
              "        text-align: right;\n",
              "    }\n",
              "</style>\n",
              "<table border=\"1\" class=\"dataframe\">\n",
              "  <thead>\n",
              "    <tr style=\"text-align: right;\">\n",
              "      <th></th>\n",
              "      <th>year</th>\n",
              "      <th>state</th>\n",
              "      <th>pop</th>\n",
              "      <th>debt</th>\n",
              "    </tr>\n",
              "  </thead>\n",
              "  <tbody>\n",
              "    <tr>\n",
              "      <th>one</th>\n",
              "      <td>2000</td>\n",
              "      <td>Ohio</td>\n",
              "      <td>1.5</td>\n",
              "      <td>0.0</td>\n",
              "    </tr>\n",
              "    <tr>\n",
              "      <th>two</th>\n",
              "      <td>2001</td>\n",
              "      <td>Ohio</td>\n",
              "      <td>1.7</td>\n",
              "      <td>1.0</td>\n",
              "    </tr>\n",
              "    <tr>\n",
              "      <th>three</th>\n",
              "      <td>2002</td>\n",
              "      <td>Ohio</td>\n",
              "      <td>3.6</td>\n",
              "      <td>2.0</td>\n",
              "    </tr>\n",
              "    <tr>\n",
              "      <th>four</th>\n",
              "      <td>2001</td>\n",
              "      <td>Nevada</td>\n",
              "      <td>2.4</td>\n",
              "      <td>3.0</td>\n",
              "    </tr>\n",
              "    <tr>\n",
              "      <th>five</th>\n",
              "      <td>2002</td>\n",
              "      <td>Nevada</td>\n",
              "      <td>2.9</td>\n",
              "      <td>4.0</td>\n",
              "    </tr>\n",
              "    <tr>\n",
              "      <th>six</th>\n",
              "      <td>2003</td>\n",
              "      <td>Nevada</td>\n",
              "      <td>3.2</td>\n",
              "      <td>5.0</td>\n",
              "    </tr>\n",
              "  </tbody>\n",
              "</table>\n",
              "</div>"
            ],
            "text/plain": [
              "       year   state  pop  debt\n",
              "one    2000    Ohio  1.5   0.0\n",
              "two    2001    Ohio  1.7   1.0\n",
              "three  2002    Ohio  3.6   2.0\n",
              "four   2001  Nevada  2.4   3.0\n",
              "five   2002  Nevada  2.9   4.0\n",
              "six    2003  Nevada  3.2   5.0"
            ]
          },
          "metadata": {},
          "execution_count": 50
        }
      ]
    },
    {
      "cell_type": "markdown",
      "metadata": {
        "id": "9LUoonn72MUY"
      },
      "source": [
        "When you are assigning lists or arrays to a column, the value’s length must match the length of the DataFrame\n",
        "\n",
        "If you assign a Series, its labels will be realigned exactly to the DataFrame’s index, inserting missing values in any holes:"
      ]
    },
    {
      "cell_type": "code",
      "metadata": {
        "id": "H8QtXpy-2Hn0"
      },
      "source": [
        "val = pd.Series([-1.2, -1.5, -1.7], index=['two', 'four', 'five'])"
      ],
      "execution_count": 51,
      "outputs": []
    },
    {
      "cell_type": "code",
      "metadata": {
        "id": "0KNNJC0o2EPN"
      },
      "source": [
        "frame2['debt'] = val"
      ],
      "execution_count": 52,
      "outputs": []
    },
    {
      "cell_type": "code",
      "metadata": {
        "colab": {
          "base_uri": "https://localhost:8080/",
          "height": 235
        },
        "id": "n6ZFEUNE2Jpx",
        "outputId": "05e23ac7-347a-4272-f72c-11a795d00e9b"
      },
      "source": [
        "frame2"
      ],
      "execution_count": 53,
      "outputs": [
        {
          "output_type": "execute_result",
          "data": {
            "text/html": [
              "<div>\n",
              "<style scoped>\n",
              "    .dataframe tbody tr th:only-of-type {\n",
              "        vertical-align: middle;\n",
              "    }\n",
              "\n",
              "    .dataframe tbody tr th {\n",
              "        vertical-align: top;\n",
              "    }\n",
              "\n",
              "    .dataframe thead th {\n",
              "        text-align: right;\n",
              "    }\n",
              "</style>\n",
              "<table border=\"1\" class=\"dataframe\">\n",
              "  <thead>\n",
              "    <tr style=\"text-align: right;\">\n",
              "      <th></th>\n",
              "      <th>year</th>\n",
              "      <th>state</th>\n",
              "      <th>pop</th>\n",
              "      <th>debt</th>\n",
              "    </tr>\n",
              "  </thead>\n",
              "  <tbody>\n",
              "    <tr>\n",
              "      <th>one</th>\n",
              "      <td>2000</td>\n",
              "      <td>Ohio</td>\n",
              "      <td>1.5</td>\n",
              "      <td>NaN</td>\n",
              "    </tr>\n",
              "    <tr>\n",
              "      <th>two</th>\n",
              "      <td>2001</td>\n",
              "      <td>Ohio</td>\n",
              "      <td>1.7</td>\n",
              "      <td>-1.2</td>\n",
              "    </tr>\n",
              "    <tr>\n",
              "      <th>three</th>\n",
              "      <td>2002</td>\n",
              "      <td>Ohio</td>\n",
              "      <td>3.6</td>\n",
              "      <td>NaN</td>\n",
              "    </tr>\n",
              "    <tr>\n",
              "      <th>four</th>\n",
              "      <td>2001</td>\n",
              "      <td>Nevada</td>\n",
              "      <td>2.4</td>\n",
              "      <td>-1.5</td>\n",
              "    </tr>\n",
              "    <tr>\n",
              "      <th>five</th>\n",
              "      <td>2002</td>\n",
              "      <td>Nevada</td>\n",
              "      <td>2.9</td>\n",
              "      <td>-1.7</td>\n",
              "    </tr>\n",
              "    <tr>\n",
              "      <th>six</th>\n",
              "      <td>2003</td>\n",
              "      <td>Nevada</td>\n",
              "      <td>3.2</td>\n",
              "      <td>NaN</td>\n",
              "    </tr>\n",
              "  </tbody>\n",
              "</table>\n",
              "</div>"
            ],
            "text/plain": [
              "       year   state  pop  debt\n",
              "one    2000    Ohio  1.5   NaN\n",
              "two    2001    Ohio  1.7  -1.2\n",
              "three  2002    Ohio  3.6   NaN\n",
              "four   2001  Nevada  2.4  -1.5\n",
              "five   2002  Nevada  2.9  -1.7\n",
              "six    2003  Nevada  3.2   NaN"
            ]
          },
          "metadata": {},
          "execution_count": 53
        }
      ]
    },
    {
      "cell_type": "markdown",
      "metadata": {
        "id": "huzQUSCF6YeX"
      },
      "source": [
        "Assigning a column that doesn’t exist will create a new column. The del keyword will delete columns as with a dict\n",
        "\n",
        "As an example of del, I first add a new column of boolean values where the state column equals ' Ohio':"
      ]
    },
    {
      "cell_type": "code",
      "metadata": {
        "id": "w06mhh5x62gn"
      },
      "source": [
        "frame2['eastern'] = frame2.state == 'Ohio'"
      ],
      "execution_count": 54,
      "outputs": []
    },
    {
      "cell_type": "code",
      "metadata": {
        "colab": {
          "base_uri": "https://localhost:8080/",
          "height": 235
        },
        "id": "d53JrpIO66xk",
        "outputId": "1c599a4b-0fa3-42c0-b358-13eb2dc697ec"
      },
      "source": [
        "frame2"
      ],
      "execution_count": 55,
      "outputs": [
        {
          "output_type": "execute_result",
          "data": {
            "text/html": [
              "<div>\n",
              "<style scoped>\n",
              "    .dataframe tbody tr th:only-of-type {\n",
              "        vertical-align: middle;\n",
              "    }\n",
              "\n",
              "    .dataframe tbody tr th {\n",
              "        vertical-align: top;\n",
              "    }\n",
              "\n",
              "    .dataframe thead th {\n",
              "        text-align: right;\n",
              "    }\n",
              "</style>\n",
              "<table border=\"1\" class=\"dataframe\">\n",
              "  <thead>\n",
              "    <tr style=\"text-align: right;\">\n",
              "      <th></th>\n",
              "      <th>year</th>\n",
              "      <th>state</th>\n",
              "      <th>pop</th>\n",
              "      <th>debt</th>\n",
              "      <th>eastern</th>\n",
              "    </tr>\n",
              "  </thead>\n",
              "  <tbody>\n",
              "    <tr>\n",
              "      <th>one</th>\n",
              "      <td>2000</td>\n",
              "      <td>Ohio</td>\n",
              "      <td>1.5</td>\n",
              "      <td>NaN</td>\n",
              "      <td>True</td>\n",
              "    </tr>\n",
              "    <tr>\n",
              "      <th>two</th>\n",
              "      <td>2001</td>\n",
              "      <td>Ohio</td>\n",
              "      <td>1.7</td>\n",
              "      <td>-1.2</td>\n",
              "      <td>True</td>\n",
              "    </tr>\n",
              "    <tr>\n",
              "      <th>three</th>\n",
              "      <td>2002</td>\n",
              "      <td>Ohio</td>\n",
              "      <td>3.6</td>\n",
              "      <td>NaN</td>\n",
              "      <td>True</td>\n",
              "    </tr>\n",
              "    <tr>\n",
              "      <th>four</th>\n",
              "      <td>2001</td>\n",
              "      <td>Nevada</td>\n",
              "      <td>2.4</td>\n",
              "      <td>-1.5</td>\n",
              "      <td>False</td>\n",
              "    </tr>\n",
              "    <tr>\n",
              "      <th>five</th>\n",
              "      <td>2002</td>\n",
              "      <td>Nevada</td>\n",
              "      <td>2.9</td>\n",
              "      <td>-1.7</td>\n",
              "      <td>False</td>\n",
              "    </tr>\n",
              "    <tr>\n",
              "      <th>six</th>\n",
              "      <td>2003</td>\n",
              "      <td>Nevada</td>\n",
              "      <td>3.2</td>\n",
              "      <td>NaN</td>\n",
              "      <td>False</td>\n",
              "    </tr>\n",
              "  </tbody>\n",
              "</table>\n",
              "</div>"
            ],
            "text/plain": [
              "       year   state  pop  debt  eastern\n",
              "one    2000    Ohio  1.5   NaN     True\n",
              "two    2001    Ohio  1.7  -1.2     True\n",
              "three  2002    Ohio  3.6   NaN     True\n",
              "four   2001  Nevada  2.4  -1.5    False\n",
              "five   2002  Nevada  2.9  -1.7    False\n",
              "six    2003  Nevada  3.2   NaN    False"
            ]
          },
          "metadata": {},
          "execution_count": 55
        }
      ]
    },
    {
      "cell_type": "markdown",
      "metadata": {
        "id": "G_EAr1s37B1t"
      },
      "source": [
        "The del method can then be used to remove this column:"
      ]
    },
    {
      "cell_type": "code",
      "metadata": {
        "id": "cb0VOGmk7D3X"
      },
      "source": [
        "del frame2['eastern']"
      ],
      "execution_count": 56,
      "outputs": []
    },
    {
      "cell_type": "code",
      "metadata": {
        "colab": {
          "base_uri": "https://localhost:8080/"
        },
        "id": "aG8Xutc67GOt",
        "outputId": "91dbf2e9-36d5-4c12-a0ae-447520caede0"
      },
      "source": [
        "frame2.columns"
      ],
      "execution_count": 57,
      "outputs": [
        {
          "output_type": "execute_result",
          "data": {
            "text/plain": [
              "Index(['year', 'state', 'pop', 'debt'], dtype='object')"
            ]
          },
          "metadata": {},
          "execution_count": 57
        }
      ]
    },
    {
      "cell_type": "markdown",
      "metadata": {
        "id": "ZcEdAqtH7L_m"
      },
      "source": [
        "Another common form of data is a nested dict of dicts:"
      ]
    },
    {
      "cell_type": "code",
      "metadata": {
        "id": "y2SRWmnh7Qn0"
      },
      "source": [
        "pop = {'Nevada': {2001: 2.4, 2002: 2.9},\n",
        "       'Ohio': {2000: 1.5, 2001: 1.7, 2002: 3.6}}"
      ],
      "execution_count": 58,
      "outputs": []
    },
    {
      "cell_type": "markdown",
      "metadata": {
        "id": "Yg9cLpkh7XD9"
      },
      "source": [
        "If the nested dict is passed to the DataFrame, pandas will interpret the outer dict keys as the columns and the inner keys as the row indices:"
      ]
    },
    {
      "cell_type": "code",
      "metadata": {
        "id": "h7ORIM_07hml"
      },
      "source": [
        "frame3 = pd.DataFrame(pop)"
      ],
      "execution_count": 59,
      "outputs": []
    },
    {
      "cell_type": "code",
      "metadata": {
        "colab": {
          "base_uri": "https://localhost:8080/",
          "height": 142
        },
        "id": "qZV0eZ0D7kZ2",
        "outputId": "c6fc8a66-5954-44d6-d7e6-c226c144f25e"
      },
      "source": [
        "frame3"
      ],
      "execution_count": 60,
      "outputs": [
        {
          "output_type": "execute_result",
          "data": {
            "text/html": [
              "<div>\n",
              "<style scoped>\n",
              "    .dataframe tbody tr th:only-of-type {\n",
              "        vertical-align: middle;\n",
              "    }\n",
              "\n",
              "    .dataframe tbody tr th {\n",
              "        vertical-align: top;\n",
              "    }\n",
              "\n",
              "    .dataframe thead th {\n",
              "        text-align: right;\n",
              "    }\n",
              "</style>\n",
              "<table border=\"1\" class=\"dataframe\">\n",
              "  <thead>\n",
              "    <tr style=\"text-align: right;\">\n",
              "      <th></th>\n",
              "      <th>Nevada</th>\n",
              "      <th>Ohio</th>\n",
              "    </tr>\n",
              "  </thead>\n",
              "  <tbody>\n",
              "    <tr>\n",
              "      <th>2001</th>\n",
              "      <td>2.4</td>\n",
              "      <td>1.7</td>\n",
              "    </tr>\n",
              "    <tr>\n",
              "      <th>2002</th>\n",
              "      <td>2.9</td>\n",
              "      <td>3.6</td>\n",
              "    </tr>\n",
              "    <tr>\n",
              "      <th>2000</th>\n",
              "      <td>NaN</td>\n",
              "      <td>1.5</td>\n",
              "    </tr>\n",
              "  </tbody>\n",
              "</table>\n",
              "</div>"
            ],
            "text/plain": [
              "      Nevada  Ohio\n",
              "2001     2.4   1.7\n",
              "2002     2.9   3.6\n",
              "2000     NaN   1.5"
            ]
          },
          "metadata": {},
          "execution_count": 60
        }
      ]
    },
    {
      "cell_type": "markdown",
      "metadata": {
        "id": "dAvGGtds7oxZ"
      },
      "source": [
        "You can transpose the DataFrame (swap rows and columns) with similar syntax to a NumPy array:"
      ]
    },
    {
      "cell_type": "code",
      "metadata": {
        "colab": {
          "base_uri": "https://localhost:8080/",
          "height": 111
        },
        "id": "-7v__ixM7pOl",
        "outputId": "bf507459-4129-4082-8765-9822fd0597c1"
      },
      "source": [
        "frame3.T"
      ],
      "execution_count": 61,
      "outputs": [
        {
          "output_type": "execute_result",
          "data": {
            "text/html": [
              "<div>\n",
              "<style scoped>\n",
              "    .dataframe tbody tr th:only-of-type {\n",
              "        vertical-align: middle;\n",
              "    }\n",
              "\n",
              "    .dataframe tbody tr th {\n",
              "        vertical-align: top;\n",
              "    }\n",
              "\n",
              "    .dataframe thead th {\n",
              "        text-align: right;\n",
              "    }\n",
              "</style>\n",
              "<table border=\"1\" class=\"dataframe\">\n",
              "  <thead>\n",
              "    <tr style=\"text-align: right;\">\n",
              "      <th></th>\n",
              "      <th>2001</th>\n",
              "      <th>2002</th>\n",
              "      <th>2000</th>\n",
              "    </tr>\n",
              "  </thead>\n",
              "  <tbody>\n",
              "    <tr>\n",
              "      <th>Nevada</th>\n",
              "      <td>2.4</td>\n",
              "      <td>2.9</td>\n",
              "      <td>NaN</td>\n",
              "    </tr>\n",
              "    <tr>\n",
              "      <th>Ohio</th>\n",
              "      <td>1.7</td>\n",
              "      <td>3.6</td>\n",
              "      <td>1.5</td>\n",
              "    </tr>\n",
              "  </tbody>\n",
              "</table>\n",
              "</div>"
            ],
            "text/plain": [
              "        2001  2002  2000\n",
              "Nevada   2.4   2.9   NaN\n",
              "Ohio     1.7   3.6   1.5"
            ]
          },
          "metadata": {},
          "execution_count": 61
        }
      ]
    },
    {
      "cell_type": "markdown",
      "metadata": {
        "id": "pEylcG7I8Bml"
      },
      "source": [
        "The keys in the inner dicts are combined and sorted to form the index in the result. This isn’t true if an explicit index is specified:"
      ]
    },
    {
      "cell_type": "code",
      "metadata": {
        "colab": {
          "base_uri": "https://localhost:8080/",
          "height": 142
        },
        "id": "-JY2TMy88Fb1",
        "outputId": "b61270bd-1f73-41d2-d838-101b4ca3e92b"
      },
      "source": [
        "pd.DataFrame(pop, index=[2001, 2002, 2003])"
      ],
      "execution_count": 62,
      "outputs": [
        {
          "output_type": "execute_result",
          "data": {
            "text/html": [
              "<div>\n",
              "<style scoped>\n",
              "    .dataframe tbody tr th:only-of-type {\n",
              "        vertical-align: middle;\n",
              "    }\n",
              "\n",
              "    .dataframe tbody tr th {\n",
              "        vertical-align: top;\n",
              "    }\n",
              "\n",
              "    .dataframe thead th {\n",
              "        text-align: right;\n",
              "    }\n",
              "</style>\n",
              "<table border=\"1\" class=\"dataframe\">\n",
              "  <thead>\n",
              "    <tr style=\"text-align: right;\">\n",
              "      <th></th>\n",
              "      <th>Nevada</th>\n",
              "      <th>Ohio</th>\n",
              "    </tr>\n",
              "  </thead>\n",
              "  <tbody>\n",
              "    <tr>\n",
              "      <th>2001</th>\n",
              "      <td>2.4</td>\n",
              "      <td>1.7</td>\n",
              "    </tr>\n",
              "    <tr>\n",
              "      <th>2002</th>\n",
              "      <td>2.9</td>\n",
              "      <td>3.6</td>\n",
              "    </tr>\n",
              "    <tr>\n",
              "      <th>2003</th>\n",
              "      <td>NaN</td>\n",
              "      <td>NaN</td>\n",
              "    </tr>\n",
              "  </tbody>\n",
              "</table>\n",
              "</div>"
            ],
            "text/plain": [
              "      Nevada  Ohio\n",
              "2001     2.4   1.7\n",
              "2002     2.9   3.6\n",
              "2003     NaN   NaN"
            ]
          },
          "metadata": {},
          "execution_count": 62
        }
      ]
    },
    {
      "cell_type": "markdown",
      "metadata": {
        "id": "JwElCvdK8Pjl"
      },
      "source": [
        "Dicts of Series are treated in much the same way:"
      ]
    },
    {
      "cell_type": "code",
      "metadata": {
        "id": "5fHcqalF8RJF"
      },
      "source": [
        "pdata = {'Ohio': frame3['Ohio'][:-1],\n",
        "         'Nevada': frame3['Nevada'][:2]}"
      ],
      "execution_count": 63,
      "outputs": []
    },
    {
      "cell_type": "code",
      "metadata": {
        "colab": {
          "base_uri": "https://localhost:8080/",
          "height": 111
        },
        "id": "gUgklsdA8fJL",
        "outputId": "3278627b-064a-4c7b-c245-2aa0aaaad748"
      },
      "source": [
        "pd.DataFrame(pdata)"
      ],
      "execution_count": 64,
      "outputs": [
        {
          "output_type": "execute_result",
          "data": {
            "text/html": [
              "<div>\n",
              "<style scoped>\n",
              "    .dataframe tbody tr th:only-of-type {\n",
              "        vertical-align: middle;\n",
              "    }\n",
              "\n",
              "    .dataframe tbody tr th {\n",
              "        vertical-align: top;\n",
              "    }\n",
              "\n",
              "    .dataframe thead th {\n",
              "        text-align: right;\n",
              "    }\n",
              "</style>\n",
              "<table border=\"1\" class=\"dataframe\">\n",
              "  <thead>\n",
              "    <tr style=\"text-align: right;\">\n",
              "      <th></th>\n",
              "      <th>Ohio</th>\n",
              "      <th>Nevada</th>\n",
              "    </tr>\n",
              "  </thead>\n",
              "  <tbody>\n",
              "    <tr>\n",
              "      <th>2001</th>\n",
              "      <td>1.7</td>\n",
              "      <td>2.4</td>\n",
              "    </tr>\n",
              "    <tr>\n",
              "      <th>2002</th>\n",
              "      <td>3.6</td>\n",
              "      <td>2.9</td>\n",
              "    </tr>\n",
              "  </tbody>\n",
              "</table>\n",
              "</div>"
            ],
            "text/plain": [
              "      Ohio  Nevada\n",
              "2001   1.7     2.4\n",
              "2002   3.6     2.9"
            ]
          },
          "metadata": {},
          "execution_count": 64
        }
      ]
    },
    {
      "cell_type": "markdown",
      "metadata": {
        "id": "yDALAzrr9FOF"
      },
      "source": [
        "If a DataFrame’s index and columns have their name attributes set, these will also be displayed:"
      ]
    },
    {
      "cell_type": "code",
      "metadata": {
        "id": "00I8IVAy9JFN"
      },
      "source": [
        "frame3.index.name = 'year' ; frame3.columns.name = 'state'"
      ],
      "execution_count": 65,
      "outputs": []
    },
    {
      "cell_type": "code",
      "metadata": {
        "colab": {
          "base_uri": "https://localhost:8080/",
          "height": 173
        },
        "id": "Ytd6rLLv9Qrn",
        "outputId": "be4d014c-565f-4a3f-a83d-0259e352cc40"
      },
      "source": [
        "frame3"
      ],
      "execution_count": 66,
      "outputs": [
        {
          "output_type": "execute_result",
          "data": {
            "text/html": [
              "<div>\n",
              "<style scoped>\n",
              "    .dataframe tbody tr th:only-of-type {\n",
              "        vertical-align: middle;\n",
              "    }\n",
              "\n",
              "    .dataframe tbody tr th {\n",
              "        vertical-align: top;\n",
              "    }\n",
              "\n",
              "    .dataframe thead th {\n",
              "        text-align: right;\n",
              "    }\n",
              "</style>\n",
              "<table border=\"1\" class=\"dataframe\">\n",
              "  <thead>\n",
              "    <tr style=\"text-align: right;\">\n",
              "      <th>state</th>\n",
              "      <th>Nevada</th>\n",
              "      <th>Ohio</th>\n",
              "    </tr>\n",
              "    <tr>\n",
              "      <th>year</th>\n",
              "      <th></th>\n",
              "      <th></th>\n",
              "    </tr>\n",
              "  </thead>\n",
              "  <tbody>\n",
              "    <tr>\n",
              "      <th>2001</th>\n",
              "      <td>2.4</td>\n",
              "      <td>1.7</td>\n",
              "    </tr>\n",
              "    <tr>\n",
              "      <th>2002</th>\n",
              "      <td>2.9</td>\n",
              "      <td>3.6</td>\n",
              "    </tr>\n",
              "    <tr>\n",
              "      <th>2000</th>\n",
              "      <td>NaN</td>\n",
              "      <td>1.5</td>\n",
              "    </tr>\n",
              "  </tbody>\n",
              "</table>\n",
              "</div>"
            ],
            "text/plain": [
              "state  Nevada  Ohio\n",
              "year               \n",
              "2001      2.4   1.7\n",
              "2002      2.9   3.6\n",
              "2000      NaN   1.5"
            ]
          },
          "metadata": {},
          "execution_count": 66
        }
      ]
    },
    {
      "cell_type": "markdown",
      "metadata": {
        "id": "c2PNTJ0U9gNm"
      },
      "source": [
        "As with Series, the values attribute returns the data contained in the DataFrame as a two-dimensional ndarray:"
      ]
    },
    {
      "cell_type": "code",
      "metadata": {
        "colab": {
          "base_uri": "https://localhost:8080/"
        },
        "id": "YIGbJ3b89jKn",
        "outputId": "6454cc0d-19c1-4bf3-846e-5ee614294583"
      },
      "source": [
        "frame3.values"
      ],
      "execution_count": 67,
      "outputs": [
        {
          "output_type": "execute_result",
          "data": {
            "text/plain": [
              "array([[2.4, 1.7],\n",
              "       [2.9, 3.6],\n",
              "       [nan, 1.5]])"
            ]
          },
          "metadata": {},
          "execution_count": 67
        }
      ]
    },
    {
      "cell_type": "markdown",
      "metadata": {
        "id": "3Zui7thJ9yQu"
      },
      "source": [
        "If the DataFrame’s columns are different dtypes, the dtype of the values array will be chosen to accommodate all of the columns:"
      ]
    },
    {
      "cell_type": "code",
      "metadata": {
        "colab": {
          "base_uri": "https://localhost:8080/"
        },
        "id": "cSagr5pd91Ye",
        "outputId": "28833de3-0b2a-401d-bb6a-f09270c30458"
      },
      "source": [
        "frame2.values"
      ],
      "execution_count": 68,
      "outputs": [
        {
          "output_type": "execute_result",
          "data": {
            "text/plain": [
              "array([[2000, 'Ohio', 1.5, nan],\n",
              "       [2001, 'Ohio', 1.7, -1.2],\n",
              "       [2002, 'Ohio', 3.6, nan],\n",
              "       [2001, 'Nevada', 2.4, -1.5],\n",
              "       [2002, 'Nevada', 2.9, -1.7],\n",
              "       [2003, 'Nevada', 3.2, nan]], dtype=object)"
            ]
          },
          "metadata": {},
          "execution_count": 68
        }
      ]
    },
    {
      "cell_type": "markdown",
      "metadata": {
        "id": "GbbWj1e18_B1"
      },
      "source": [
        "For a complete list of things you can pass the DataFrame constructor, see Table 5-1"
      ]
    },
    {
      "cell_type": "markdown",
      "metadata": {
        "id": "jovvwkAo9-Bt"
      },
      "source": [
        "Table 5-1. Possible data inputs to DataFrame constructor\n",
        "<p align='center'>\n",
        "<img src='data:image/png;base64,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'>\n",
        "</p>"
      ]
    },
    {
      "cell_type": "markdown",
      "metadata": {
        "id": "RpkGG1G6-J0t"
      },
      "source": [
        "## Index Objects"
      ]
    },
    {
      "cell_type": "markdown",
      "metadata": {
        "id": "AmOrPZb7-LZu"
      },
      "source": [
        "pandas’s Index objects are **responsible for holding the axis labels and other metadata** (like the axis name or names)\n",
        "\n",
        "Any array or other sequence of labels you use when constructing a Series or DataFrame is internally converted to an Index:"
      ]
    },
    {
      "cell_type": "code",
      "metadata": {
        "id": "0ItGrFSm-69l"
      },
      "source": [
        "obj = pd.Series(range(3), index=['a', 'b', 'c'])"
      ],
      "execution_count": 69,
      "outputs": []
    },
    {
      "cell_type": "code",
      "metadata": {
        "id": "7TCFxOlT_Bu3"
      },
      "source": [
        "index = obj.index"
      ],
      "execution_count": 70,
      "outputs": []
    },
    {
      "cell_type": "code",
      "metadata": {
        "colab": {
          "base_uri": "https://localhost:8080/"
        },
        "id": "fV__RHJI_Dom",
        "outputId": "9ee60eff-82a0-4391-ea4f-ce8767ea6070"
      },
      "source": [
        "index"
      ],
      "execution_count": 71,
      "outputs": [
        {
          "output_type": "execute_result",
          "data": {
            "text/plain": [
              "Index(['a', 'b', 'c'], dtype='object')"
            ]
          },
          "metadata": {},
          "execution_count": 71
        }
      ]
    },
    {
      "cell_type": "code",
      "metadata": {
        "colab": {
          "base_uri": "https://localhost:8080/"
        },
        "id": "aAiXEzlz_Jh3",
        "outputId": "3d6c5a69-d30c-4a61-c1db-a3009e3be30f"
      },
      "source": [
        "index[1:]"
      ],
      "execution_count": 72,
      "outputs": [
        {
          "output_type": "execute_result",
          "data": {
            "text/plain": [
              "Index(['b', 'c'], dtype='object')"
            ]
          },
          "metadata": {},
          "execution_count": 72
        }
      ]
    },
    {
      "cell_type": "markdown",
      "metadata": {
        "id": "mquTQ3nw_RGJ"
      },
      "source": [
        "Index objects are immutable and thus can’t be modified by the user:"
      ]
    },
    {
      "cell_type": "code",
      "metadata": {
        "colab": {
          "base_uri": "https://localhost:8080/"
        },
        "id": "sws5X4LM_VL-",
        "outputId": "31ece406-2aa0-4b4f-f06a-cd935b1cdd4e"
      },
      "source": [
        "try:\n",
        "  index[1] = 'd'\n",
        "except TypeError:\n",
        "  print('TypeError')"
      ],
      "execution_count": 73,
      "outputs": [
        {
          "output_type": "stream",
          "name": "stdout",
          "text": [
            "TypeError\n"
          ]
        }
      ]
    },
    {
      "cell_type": "markdown",
      "metadata": {
        "id": "yMvF6mf1_hxe"
      },
      "source": [
        "Immutability makes it safer to share Index objects among data structures:"
      ]
    },
    {
      "cell_type": "code",
      "metadata": {
        "id": "LbnZg4cV_jal"
      },
      "source": [
        "labels = pd.Index(np.arange(3))"
      ],
      "execution_count": 74,
      "outputs": []
    },
    {
      "cell_type": "code",
      "metadata": {
        "colab": {
          "base_uri": "https://localhost:8080/"
        },
        "id": "MLkWQDNX_nE4",
        "outputId": "936c3cfe-c65f-4292-ed83-cbca58e89387"
      },
      "source": [
        "labels"
      ],
      "execution_count": 75,
      "outputs": [
        {
          "output_type": "execute_result",
          "data": {
            "text/plain": [
              "Int64Index([0, 1, 2], dtype='int64')"
            ]
          },
          "metadata": {},
          "execution_count": 75
        }
      ]
    },
    {
      "cell_type": "code",
      "metadata": {
        "id": "DoHmTqbN_wNu"
      },
      "source": [
        "obj2 = pd.Series([1.5, -2.5, 0], index=labels)"
      ],
      "execution_count": 76,
      "outputs": []
    },
    {
      "cell_type": "code",
      "metadata": {
        "colab": {
          "base_uri": "https://localhost:8080/"
        },
        "id": "UIZbppMi_1NH",
        "outputId": "d66ff946-91d6-42ec-d0f6-bc6e40cadb7d"
      },
      "source": [
        "obj2"
      ],
      "execution_count": 77,
      "outputs": [
        {
          "output_type": "execute_result",
          "data": {
            "text/plain": [
              "0    1.5\n",
              "1   -2.5\n",
              "2    0.0\n",
              "dtype: float64"
            ]
          },
          "metadata": {},
          "execution_count": 77
        }
      ]
    },
    {
      "cell_type": "markdown",
      "metadata": {
        "id": "kOkhJdby_6kG"
      },
      "source": [
        "In addition to being array-like, an Index also behaves like a fixed-size set:"
      ]
    },
    {
      "cell_type": "code",
      "metadata": {
        "colab": {
          "base_uri": "https://localhost:8080/",
          "height": 173
        },
        "id": "UFEJOuKF_8Uv",
        "outputId": "ad8f9237-20c8-4eeb-c93f-0d99533f4ceb"
      },
      "source": [
        "frame3"
      ],
      "execution_count": 78,
      "outputs": [
        {
          "output_type": "execute_result",
          "data": {
            "text/html": [
              "<div>\n",
              "<style scoped>\n",
              "    .dataframe tbody tr th:only-of-type {\n",
              "        vertical-align: middle;\n",
              "    }\n",
              "\n",
              "    .dataframe tbody tr th {\n",
              "        vertical-align: top;\n",
              "    }\n",
              "\n",
              "    .dataframe thead th {\n",
              "        text-align: right;\n",
              "    }\n",
              "</style>\n",
              "<table border=\"1\" class=\"dataframe\">\n",
              "  <thead>\n",
              "    <tr style=\"text-align: right;\">\n",
              "      <th>state</th>\n",
              "      <th>Nevada</th>\n",
              "      <th>Ohio</th>\n",
              "    </tr>\n",
              "    <tr>\n",
              "      <th>year</th>\n",
              "      <th></th>\n",
              "      <th></th>\n",
              "    </tr>\n",
              "  </thead>\n",
              "  <tbody>\n",
              "    <tr>\n",
              "      <th>2001</th>\n",
              "      <td>2.4</td>\n",
              "      <td>1.7</td>\n",
              "    </tr>\n",
              "    <tr>\n",
              "      <th>2002</th>\n",
              "      <td>2.9</td>\n",
              "      <td>3.6</td>\n",
              "    </tr>\n",
              "    <tr>\n",
              "      <th>2000</th>\n",
              "      <td>NaN</td>\n",
              "      <td>1.5</td>\n",
              "    </tr>\n",
              "  </tbody>\n",
              "</table>\n",
              "</div>"
            ],
            "text/plain": [
              "state  Nevada  Ohio\n",
              "year               \n",
              "2001      2.4   1.7\n",
              "2002      2.9   3.6\n",
              "2000      NaN   1.5"
            ]
          },
          "metadata": {},
          "execution_count": 78
        }
      ]
    },
    {
      "cell_type": "code",
      "metadata": {
        "colab": {
          "base_uri": "https://localhost:8080/"
        },
        "id": "tQLOLeSg_-Ku",
        "outputId": "cb1f5029-f246-42c6-b315-9700bd96dd64"
      },
      "source": [
        "frame3.columns"
      ],
      "execution_count": 79,
      "outputs": [
        {
          "output_type": "execute_result",
          "data": {
            "text/plain": [
              "Index(['Nevada', 'Ohio'], dtype='object', name='state')"
            ]
          },
          "metadata": {},
          "execution_count": 79
        }
      ]
    },
    {
      "cell_type": "code",
      "metadata": {
        "colab": {
          "base_uri": "https://localhost:8080/"
        },
        "id": "AAMrp5ZRAHQH",
        "outputId": "a09f58e1-8ec5-4a4b-849e-77ab88921f25"
      },
      "source": [
        "'Ohio' in frame3.columns"
      ],
      "execution_count": 80,
      "outputs": [
        {
          "output_type": "execute_result",
          "data": {
            "text/plain": [
              "True"
            ]
          },
          "metadata": {},
          "execution_count": 80
        }
      ]
    },
    {
      "cell_type": "code",
      "metadata": {
        "colab": {
          "base_uri": "https://localhost:8080/"
        },
        "id": "kq30N1INALkd",
        "outputId": "5dd90fc8-0cef-4b90-ba66-860ec85e5ea1"
      },
      "source": [
        "2003 in frame3.index"
      ],
      "execution_count": 81,
      "outputs": [
        {
          "output_type": "execute_result",
          "data": {
            "text/plain": [
              "False"
            ]
          },
          "metadata": {},
          "execution_count": 81
        }
      ]
    },
    {
      "cell_type": "markdown",
      "metadata": {
        "id": "ZU4dkyIhAPQn"
      },
      "source": [
        "Unlike Python sets, a pandas Index can contain duplicate labels:"
      ]
    },
    {
      "cell_type": "code",
      "metadata": {
        "id": "AyagpbixAQ5d"
      },
      "source": [
        "dup_labels = pd.Index(['foo', 'foo', 'bar', 'bar'])"
      ],
      "execution_count": 82,
      "outputs": []
    },
    {
      "cell_type": "code",
      "metadata": {
        "colab": {
          "base_uri": "https://localhost:8080/"
        },
        "id": "P8Q_MQJuAWjX",
        "outputId": "bd04e657-a809-483c-d99a-856031e34726"
      },
      "source": [
        "dup_labels"
      ],
      "execution_count": 83,
      "outputs": [
        {
          "output_type": "execute_result",
          "data": {
            "text/plain": [
              "Index(['foo', 'foo', 'bar', 'bar'], dtype='object')"
            ]
          },
          "metadata": {},
          "execution_count": 83
        }
      ]
    },
    {
      "cell_type": "markdown",
      "metadata": {
        "id": "AjX6ARNCAwOl"
      },
      "source": [
        "Selections with duplicate labels will select all occurrences of that label\n",
        "\n",
        "Each Index has a number of methods and properties for set logic, which answer other common questions about the data it contains. Some useful ones are summarized in Table 5-2"
      ]
    },
    {
      "cell_type": "markdown",
      "metadata": {
        "id": "7mPUq6wCA3Y-"
      },
      "source": [
        "Table 5-2. Some Index methods and properties\n",
        "<p align='center'>\n",
        "<img src='data:image/png;base64,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'>\n",
        "</p>"
      ]
    },
    {
      "cell_type": "markdown",
      "metadata": {
        "id": "E9R84ovjBKad"
      },
      "source": [
        "# 5.2 Essential Functionality"
      ]
    },
    {
      "cell_type": "markdown",
      "metadata": {
        "id": "X5UP_2kamM1J"
      },
      "source": [
        "##Reindexing"
      ]
    },
    {
      "cell_type": "markdown",
      "metadata": {
        "id": "NtGORtxnmfG9"
      },
      "source": [
        "An important method on pandas objects is reindex, which means to **create a new object with the data conformed to a new index**. Consider an example:"
      ]
    },
    {
      "cell_type": "code",
      "metadata": {
        "id": "EBMSzphNA27d"
      },
      "source": [
        "obj = pd.Series([4.5, 7.3, -5.3, 3.6], index=['d', 'b', 'a', 'c'])"
      ],
      "execution_count": 84,
      "outputs": []
    },
    {
      "cell_type": "code",
      "metadata": {
        "colab": {
          "base_uri": "https://localhost:8080/"
        },
        "id": "_8PsBHW8nF2L",
        "outputId": "56a32c26-2d8e-46ca-ab22-4ce9a93a3696"
      },
      "source": [
        "obj"
      ],
      "execution_count": 85,
      "outputs": [
        {
          "output_type": "execute_result",
          "data": {
            "text/plain": [
              "d    4.5\n",
              "b    7.3\n",
              "a   -5.3\n",
              "c    3.6\n",
              "dtype: float64"
            ]
          },
          "metadata": {},
          "execution_count": 85
        }
      ]
    },
    {
      "cell_type": "markdown",
      "metadata": {
        "id": "HxkaqKQ9nHOf"
      },
      "source": [
        "Calling reindex on this Series rearranges the data according to the new index, introducing missing values if any index values were not already present:"
      ]
    },
    {
      "cell_type": "code",
      "metadata": {
        "id": "Rgo7qbaKnMbe"
      },
      "source": [
        "obj2 = obj.reindex(['a', 'b', 'c', 'd', 'e'])"
      ],
      "execution_count": 86,
      "outputs": []
    },
    {
      "cell_type": "code",
      "metadata": {
        "colab": {
          "base_uri": "https://localhost:8080/"
        },
        "id": "O1w3IYeGnPtF",
        "outputId": "f444b6f9-b4b4-441c-8114-208623cf0148"
      },
      "source": [
        "obj2"
      ],
      "execution_count": 87,
      "outputs": [
        {
          "output_type": "execute_result",
          "data": {
            "text/plain": [
              "a   -5.3\n",
              "b    7.3\n",
              "c    3.6\n",
              "d    4.5\n",
              "e    NaN\n",
              "dtype: float64"
            ]
          },
          "metadata": {},
          "execution_count": 87
        }
      ]
    },
    {
      "cell_type": "markdown",
      "metadata": {
        "id": "jhD2Dv-LnX8F"
      },
      "source": [
        "For ordered data like time series, it may be desirable to do some interpolation or filling of values when reindexing\n",
        "\n",
        "The method option allows us to do this, using a method such as ffill, which forward-fills the values:"
      ]
    },
    {
      "cell_type": "code",
      "metadata": {
        "id": "iIYy-SyVnplp"
      },
      "source": [
        "obj3 = pd.Series(['blue', 'purple', 'yellow'], index=[0, 2, 4])"
      ],
      "execution_count": 88,
      "outputs": []
    },
    {
      "cell_type": "code",
      "metadata": {
        "colab": {
          "base_uri": "https://localhost:8080/"
        },
        "id": "eZLr8AWRnx1C",
        "outputId": "f891ae2e-09e3-49df-fe9c-ac457a9af196"
      },
      "source": [
        "obj3"
      ],
      "execution_count": 89,
      "outputs": [
        {
          "output_type": "execute_result",
          "data": {
            "text/plain": [
              "0      blue\n",
              "2    purple\n",
              "4    yellow\n",
              "dtype: object"
            ]
          },
          "metadata": {},
          "execution_count": 89
        }
      ]
    },
    {
      "cell_type": "code",
      "metadata": {
        "colab": {
          "base_uri": "https://localhost:8080/"
        },
        "id": "utEv1oCunzSb",
        "outputId": "b6a55478-15f5-4368-cb4d-38b27cca27ca"
      },
      "source": [
        "obj3.reindex(range(6), method='ffill')"
      ],
      "execution_count": 90,
      "outputs": [
        {
          "output_type": "execute_result",
          "data": {
            "text/plain": [
              "0      blue\n",
              "1      blue\n",
              "2    purple\n",
              "3    purple\n",
              "4    yellow\n",
              "5    yellow\n",
              "dtype: object"
            ]
          },
          "metadata": {},
          "execution_count": 90
        }
      ]
    },
    {
      "cell_type": "markdown",
      "metadata": {
        "id": "VL4HowjQoD2e"
      },
      "source": [
        "**With DataFrame, reindex can alter either the (row) index, columns, or both**\n",
        "\n",
        "When passed only a sequence, it reindexes the rows in the result:"
      ]
    },
    {
      "cell_type": "code",
      "metadata": {
        "id": "q5Qc9T3HoJ2m"
      },
      "source": [
        "frame = pd.DataFrame(np.arange(9).reshape((3, 3)),\n",
        "                     index=['a', 'c', 'd'],\n",
        "                     columns=['Ohio', 'Texas', 'California'])"
      ],
      "execution_count": 91,
      "outputs": []
    },
    {
      "cell_type": "code",
      "metadata": {
        "colab": {
          "base_uri": "https://localhost:8080/",
          "height": 142
        },
        "id": "lY2Uqrd1oXKl",
        "outputId": "c68a7513-d17d-41cf-b419-7d0441c1858f"
      },
      "source": [
        "frame"
      ],
      "execution_count": 92,
      "outputs": [
        {
          "output_type": "execute_result",
          "data": {
            "text/html": [
              "<div>\n",
              "<style scoped>\n",
              "    .dataframe tbody tr th:only-of-type {\n",
              "        vertical-align: middle;\n",
              "    }\n",
              "\n",
              "    .dataframe tbody tr th {\n",
              "        vertical-align: top;\n",
              "    }\n",
              "\n",
              "    .dataframe thead th {\n",
              "        text-align: right;\n",
              "    }\n",
              "</style>\n",
              "<table border=\"1\" class=\"dataframe\">\n",
              "  <thead>\n",
              "    <tr style=\"text-align: right;\">\n",
              "      <th></th>\n",
              "      <th>Ohio</th>\n",
              "      <th>Texas</th>\n",
              "      <th>California</th>\n",
              "    </tr>\n",
              "  </thead>\n",
              "  <tbody>\n",
              "    <tr>\n",
              "      <th>a</th>\n",
              "      <td>0</td>\n",
              "      <td>1</td>\n",
              "      <td>2</td>\n",
              "    </tr>\n",
              "    <tr>\n",
              "      <th>c</th>\n",
              "      <td>3</td>\n",
              "      <td>4</td>\n",
              "      <td>5</td>\n",
              "    </tr>\n",
              "    <tr>\n",
              "      <th>d</th>\n",
              "      <td>6</td>\n",
              "      <td>7</td>\n",
              "      <td>8</td>\n",
              "    </tr>\n",
              "  </tbody>\n",
              "</table>\n",
              "</div>"
            ],
            "text/plain": [
              "   Ohio  Texas  California\n",
              "a     0      1           2\n",
              "c     3      4           5\n",
              "d     6      7           8"
            ]
          },
          "metadata": {},
          "execution_count": 92
        }
      ]
    },
    {
      "cell_type": "code",
      "metadata": {
        "id": "4LE5M4I8oe45"
      },
      "source": [
        "frame2 = frame.reindex(['a', 'b', 'c', 'd'])"
      ],
      "execution_count": 93,
      "outputs": []
    },
    {
      "cell_type": "code",
      "metadata": {
        "colab": {
          "base_uri": "https://localhost:8080/",
          "height": 173
        },
        "id": "NsrIBQQ3oiuc",
        "outputId": "48a76eb6-435a-4b43-f6f9-6dbdf1ecc21e"
      },
      "source": [
        "frame2"
      ],
      "execution_count": 94,
      "outputs": [
        {
          "output_type": "execute_result",
          "data": {
            "text/html": [
              "<div>\n",
              "<style scoped>\n",
              "    .dataframe tbody tr th:only-of-type {\n",
              "        vertical-align: middle;\n",
              "    }\n",
              "\n",
              "    .dataframe tbody tr th {\n",
              "        vertical-align: top;\n",
              "    }\n",
              "\n",
              "    .dataframe thead th {\n",
              "        text-align: right;\n",
              "    }\n",
              "</style>\n",
              "<table border=\"1\" class=\"dataframe\">\n",
              "  <thead>\n",
              "    <tr style=\"text-align: right;\">\n",
              "      <th></th>\n",
              "      <th>Ohio</th>\n",
              "      <th>Texas</th>\n",
              "      <th>California</th>\n",
              "    </tr>\n",
              "  </thead>\n",
              "  <tbody>\n",
              "    <tr>\n",
              "      <th>a</th>\n",
              "      <td>0.0</td>\n",
              "      <td>1.0</td>\n",
              "      <td>2.0</td>\n",
              "    </tr>\n",
              "    <tr>\n",
              "      <th>b</th>\n",
              "      <td>NaN</td>\n",
              "      <td>NaN</td>\n",
              "      <td>NaN</td>\n",
              "    </tr>\n",
              "    <tr>\n",
              "      <th>c</th>\n",
              "      <td>3.0</td>\n",
              "      <td>4.0</td>\n",
              "      <td>5.0</td>\n",
              "    </tr>\n",
              "    <tr>\n",
              "      <th>d</th>\n",
              "      <td>6.0</td>\n",
              "      <td>7.0</td>\n",
              "      <td>8.0</td>\n",
              "    </tr>\n",
              "  </tbody>\n",
              "</table>\n",
              "</div>"
            ],
            "text/plain": [
              "   Ohio  Texas  California\n",
              "a   0.0    1.0         2.0\n",
              "b   NaN    NaN         NaN\n",
              "c   3.0    4.0         5.0\n",
              "d   6.0    7.0         8.0"
            ]
          },
          "metadata": {},
          "execution_count": 94
        }
      ]
    },
    {
      "cell_type": "markdown",
      "metadata": {
        "id": "UhN1PgRlommB"
      },
      "source": [
        "The columns can be reindexed with the columns keyword:"
      ]
    },
    {
      "cell_type": "code",
      "metadata": {
        "id": "OfWVrnKSoohn"
      },
      "source": [
        "states = ['Texas', 'Utah', 'California']"
      ],
      "execution_count": 95,
      "outputs": []
    },
    {
      "cell_type": "code",
      "metadata": {
        "colab": {
          "base_uri": "https://localhost:8080/",
          "height": 142
        },
        "id": "pEgCBq5Lorsv",
        "outputId": "1f3bbfb2-0d0b-45dd-ba6b-9d5672a15731"
      },
      "source": [
        "frame.reindex(columns=states)"
      ],
      "execution_count": 96,
      "outputs": [
        {
          "output_type": "execute_result",
          "data": {
            "text/html": [
              "<div>\n",
              "<style scoped>\n",
              "    .dataframe tbody tr th:only-of-type {\n",
              "        vertical-align: middle;\n",
              "    }\n",
              "\n",
              "    .dataframe tbody tr th {\n",
              "        vertical-align: top;\n",
              "    }\n",
              "\n",
              "    .dataframe thead th {\n",
              "        text-align: right;\n",
              "    }\n",
              "</style>\n",
              "<table border=\"1\" class=\"dataframe\">\n",
              "  <thead>\n",
              "    <tr style=\"text-align: right;\">\n",
              "      <th></th>\n",
              "      <th>Texas</th>\n",
              "      <th>Utah</th>\n",
              "      <th>California</th>\n",
              "    </tr>\n",
              "  </thead>\n",
              "  <tbody>\n",
              "    <tr>\n",
              "      <th>a</th>\n",
              "      <td>1</td>\n",
              "      <td>NaN</td>\n",
              "      <td>2</td>\n",
              "    </tr>\n",
              "    <tr>\n",
              "      <th>c</th>\n",
              "      <td>4</td>\n",
              "      <td>NaN</td>\n",
              "      <td>5</td>\n",
              "    </tr>\n",
              "    <tr>\n",
              "      <th>d</th>\n",
              "      <td>7</td>\n",
              "      <td>NaN</td>\n",
              "      <td>8</td>\n",
              "    </tr>\n",
              "  </tbody>\n",
              "</table>\n",
              "</div>"
            ],
            "text/plain": [
              "   Texas  Utah  California\n",
              "a      1   NaN           2\n",
              "c      4   NaN           5\n",
              "d      7   NaN           8"
            ]
          },
          "metadata": {},
          "execution_count": 96
        }
      ]
    },
    {
      "cell_type": "markdown",
      "metadata": {
        "id": "Df5WDci5o_WY"
      },
      "source": [
        "See Table 5-3 for more about the arguments to reindex."
      ]
    },
    {
      "cell_type": "markdown",
      "metadata": {
        "id": "HaJNDHm1pcdz"
      },
      "source": [
        "Table 5-3. reindex function arguments\n",
        "<p align='center'>\n",
        "<img src='data:image/png;base64,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'>\n",
        "</p>"
      ]
    },
    {
      "cell_type": "markdown",
      "metadata": {
        "id": "y2ztacwYpq_H"
      },
      "source": [
        "## Dropping Entries from an Axis"
      ]
    },
    {
      "cell_type": "markdown",
      "metadata": {
        "id": "C1djLU1PptPM"
      },
      "source": [
        "The drop method will return a new object with the indicated value or values deleted from an axis:"
      ]
    },
    {
      "cell_type": "code",
      "metadata": {
        "id": "sNkNrDXbp9Wc"
      },
      "source": [
        "obj = pd.Series(np.arange(5.), index=['a', 'b', 'c', 'd', 'e'])"
      ],
      "execution_count": 97,
      "outputs": []
    },
    {
      "cell_type": "code",
      "metadata": {
        "colab": {
          "base_uri": "https://localhost:8080/"
        },
        "id": "Ss3qtVr7qDeQ",
        "outputId": "f6422a99-65c1-4212-d759-2cff3be7f9d0"
      },
      "source": [
        "obj"
      ],
      "execution_count": 98,
      "outputs": [
        {
          "output_type": "execute_result",
          "data": {
            "text/plain": [
              "a    0.0\n",
              "b    1.0\n",
              "c    2.0\n",
              "d    3.0\n",
              "e    4.0\n",
              "dtype: float64"
            ]
          },
          "metadata": {},
          "execution_count": 98
        }
      ]
    },
    {
      "cell_type": "code",
      "metadata": {
        "id": "to959B-pqFkK"
      },
      "source": [
        "new_obj = obj.drop('c')"
      ],
      "execution_count": 99,
      "outputs": []
    },
    {
      "cell_type": "code",
      "metadata": {
        "colab": {
          "base_uri": "https://localhost:8080/"
        },
        "id": "bJeArFtPqIIA",
        "outputId": "3b052a19-6917-4b2e-9de2-2c391bb51f97"
      },
      "source": [
        "new_obj"
      ],
      "execution_count": 100,
      "outputs": [
        {
          "output_type": "execute_result",
          "data": {
            "text/plain": [
              "a    0.0\n",
              "b    1.0\n",
              "d    3.0\n",
              "e    4.0\n",
              "dtype: float64"
            ]
          },
          "metadata": {},
          "execution_count": 100
        }
      ]
    },
    {
      "cell_type": "code",
      "metadata": {
        "colab": {
          "base_uri": "https://localhost:8080/"
        },
        "id": "ORBsEdPJqNX9",
        "outputId": "86b36b60-8a15-4b59-870f-e865dac66558"
      },
      "source": [
        "obj.drop(['d', 'c'])"
      ],
      "execution_count": 101,
      "outputs": [
        {
          "output_type": "execute_result",
          "data": {
            "text/plain": [
              "a    0.0\n",
              "b    1.0\n",
              "e    4.0\n",
              "dtype: float64"
            ]
          },
          "metadata": {},
          "execution_count": 101
        }
      ]
    },
    {
      "cell_type": "markdown",
      "metadata": {
        "id": "2-Ldqh0GqQcI"
      },
      "source": [
        "With DataFrame, index values can be deleted from either axis. To illustrate this, we first create an example DataFrame:"
      ]
    },
    {
      "cell_type": "code",
      "metadata": {
        "id": "xRcRAaLJqURY"
      },
      "source": [
        "data = pd.DataFrame(np.arange(16).reshape(4, 4),\n",
        "                    index=['Ohio', 'Colorado', 'Utah', 'New York',],\n",
        "                    columns=['one', 'two', 'three', 'four'])"
      ],
      "execution_count": 102,
      "outputs": []
    },
    {
      "cell_type": "code",
      "metadata": {
        "colab": {
          "base_uri": "https://localhost:8080/",
          "height": 173
        },
        "id": "NN8rYq47qlcQ",
        "outputId": "55ba4a4c-171c-4d8b-fe03-7375613b3c92"
      },
      "source": [
        "data"
      ],
      "execution_count": 103,
      "outputs": [
        {
          "output_type": "execute_result",
          "data": {
            "text/html": [
              "<div>\n",
              "<style scoped>\n",
              "    .dataframe tbody tr th:only-of-type {\n",
              "        vertical-align: middle;\n",
              "    }\n",
              "\n",
              "    .dataframe tbody tr th {\n",
              "        vertical-align: top;\n",
              "    }\n",
              "\n",
              "    .dataframe thead th {\n",
              "        text-align: right;\n",
              "    }\n",
              "</style>\n",
              "<table border=\"1\" class=\"dataframe\">\n",
              "  <thead>\n",
              "    <tr style=\"text-align: right;\">\n",
              "      <th></th>\n",
              "      <th>one</th>\n",
              "      <th>two</th>\n",
              "      <th>three</th>\n",
              "      <th>four</th>\n",
              "    </tr>\n",
              "  </thead>\n",
              "  <tbody>\n",
              "    <tr>\n",
              "      <th>Ohio</th>\n",
              "      <td>0</td>\n",
              "      <td>1</td>\n",
              "      <td>2</td>\n",
              "      <td>3</td>\n",
              "    </tr>\n",
              "    <tr>\n",
              "      <th>Colorado</th>\n",
              "      <td>4</td>\n",
              "      <td>5</td>\n",
              "      <td>6</td>\n",
              "      <td>7</td>\n",
              "    </tr>\n",
              "    <tr>\n",
              "      <th>Utah</th>\n",
              "      <td>8</td>\n",
              "      <td>9</td>\n",
              "      <td>10</td>\n",
              "      <td>11</td>\n",
              "    </tr>\n",
              "    <tr>\n",
              "      <th>New York</th>\n",
              "      <td>12</td>\n",
              "      <td>13</td>\n",
              "      <td>14</td>\n",
              "      <td>15</td>\n",
              "    </tr>\n",
              "  </tbody>\n",
              "</table>\n",
              "</div>"
            ],
            "text/plain": [
              "          one  two  three  four\n",
              "Ohio        0    1      2     3\n",
              "Colorado    4    5      6     7\n",
              "Utah        8    9     10    11\n",
              "New York   12   13     14    15"
            ]
          },
          "metadata": {},
          "execution_count": 103
        }
      ]
    },
    {
      "cell_type": "markdown",
      "metadata": {
        "id": "7TY6dhPxqpTP"
      },
      "source": [
        "Calling drop with a sequence of labels will drop values from the row labels (axis 0):"
      ]
    },
    {
      "cell_type": "code",
      "metadata": {
        "colab": {
          "base_uri": "https://localhost:8080/",
          "height": 111
        },
        "id": "rG6UISaIqs_o",
        "outputId": "f3a2b97b-256d-4217-e118-142a121a3441"
      },
      "source": [
        "data.drop(['Colorado', 'Ohio'])"
      ],
      "execution_count": 104,
      "outputs": [
        {
          "output_type": "execute_result",
          "data": {
            "text/html": [
              "<div>\n",
              "<style scoped>\n",
              "    .dataframe tbody tr th:only-of-type {\n",
              "        vertical-align: middle;\n",
              "    }\n",
              "\n",
              "    .dataframe tbody tr th {\n",
              "        vertical-align: top;\n",
              "    }\n",
              "\n",
              "    .dataframe thead th {\n",
              "        text-align: right;\n",
              "    }\n",
              "</style>\n",
              "<table border=\"1\" class=\"dataframe\">\n",
              "  <thead>\n",
              "    <tr style=\"text-align: right;\">\n",
              "      <th></th>\n",
              "      <th>one</th>\n",
              "      <th>two</th>\n",
              "      <th>three</th>\n",
              "      <th>four</th>\n",
              "    </tr>\n",
              "  </thead>\n",
              "  <tbody>\n",
              "    <tr>\n",
              "      <th>Utah</th>\n",
              "      <td>8</td>\n",
              "      <td>9</td>\n",
              "      <td>10</td>\n",
              "      <td>11</td>\n",
              "    </tr>\n",
              "    <tr>\n",
              "      <th>New York</th>\n",
              "      <td>12</td>\n",
              "      <td>13</td>\n",
              "      <td>14</td>\n",
              "      <td>15</td>\n",
              "    </tr>\n",
              "  </tbody>\n",
              "</table>\n",
              "</div>"
            ],
            "text/plain": [
              "          one  two  three  four\n",
              "Utah        8    9     10    11\n",
              "New York   12   13     14    15"
            ]
          },
          "metadata": {},
          "execution_count": 104
        }
      ]
    },
    {
      "cell_type": "markdown",
      "metadata": {
        "id": "_eWwTq7lqzba"
      },
      "source": [
        "You can drop values from the columns by passing axis=1 or axis= 'columns':"
      ]
    },
    {
      "cell_type": "code",
      "metadata": {
        "colab": {
          "base_uri": "https://localhost:8080/",
          "height": 173
        },
        "id": "S93EEJMNq3tE",
        "outputId": "e07df0ee-c4a7-4311-bcba-ad2d1a47396a"
      },
      "source": [
        "data.drop('two', axis=1)"
      ],
      "execution_count": 105,
      "outputs": [
        {
          "output_type": "execute_result",
          "data": {
            "text/html": [
              "<div>\n",
              "<style scoped>\n",
              "    .dataframe tbody tr th:only-of-type {\n",
              "        vertical-align: middle;\n",
              "    }\n",
              "\n",
              "    .dataframe tbody tr th {\n",
              "        vertical-align: top;\n",
              "    }\n",
              "\n",
              "    .dataframe thead th {\n",
              "        text-align: right;\n",
              "    }\n",
              "</style>\n",
              "<table border=\"1\" class=\"dataframe\">\n",
              "  <thead>\n",
              "    <tr style=\"text-align: right;\">\n",
              "      <th></th>\n",
              "      <th>one</th>\n",
              "      <th>three</th>\n",
              "      <th>four</th>\n",
              "    </tr>\n",
              "  </thead>\n",
              "  <tbody>\n",
              "    <tr>\n",
              "      <th>Ohio</th>\n",
              "      <td>0</td>\n",
              "      <td>2</td>\n",
              "      <td>3</td>\n",
              "    </tr>\n",
              "    <tr>\n",
              "      <th>Colorado</th>\n",
              "      <td>4</td>\n",
              "      <td>6</td>\n",
              "      <td>7</td>\n",
              "    </tr>\n",
              "    <tr>\n",
              "      <th>Utah</th>\n",
              "      <td>8</td>\n",
              "      <td>10</td>\n",
              "      <td>11</td>\n",
              "    </tr>\n",
              "    <tr>\n",
              "      <th>New York</th>\n",
              "      <td>12</td>\n",
              "      <td>14</td>\n",
              "      <td>15</td>\n",
              "    </tr>\n",
              "  </tbody>\n",
              "</table>\n",
              "</div>"
            ],
            "text/plain": [
              "          one  three  four\n",
              "Ohio        0      2     3\n",
              "Colorado    4      6     7\n",
              "Utah        8     10    11\n",
              "New York   12     14    15"
            ]
          },
          "metadata": {},
          "execution_count": 105
        }
      ]
    },
    {
      "cell_type": "code",
      "metadata": {
        "colab": {
          "base_uri": "https://localhost:8080/",
          "height": 173
        },
        "id": "qox6U70Xq9IK",
        "outputId": "aa7b6a49-e4df-47fe-d1d0-05e3437b74a4"
      },
      "source": [
        "data.drop(['two', 'four'], axis='columns')"
      ],
      "execution_count": 106,
      "outputs": [
        {
          "output_type": "execute_result",
          "data": {
            "text/html": [
              "<div>\n",
              "<style scoped>\n",
              "    .dataframe tbody tr th:only-of-type {\n",
              "        vertical-align: middle;\n",
              "    }\n",
              "\n",
              "    .dataframe tbody tr th {\n",
              "        vertical-align: top;\n",
              "    }\n",
              "\n",
              "    .dataframe thead th {\n",
              "        text-align: right;\n",
              "    }\n",
              "</style>\n",
              "<table border=\"1\" class=\"dataframe\">\n",
              "  <thead>\n",
              "    <tr style=\"text-align: right;\">\n",
              "      <th></th>\n",
              "      <th>one</th>\n",
              "      <th>three</th>\n",
              "    </tr>\n",
              "  </thead>\n",
              "  <tbody>\n",
              "    <tr>\n",
              "      <th>Ohio</th>\n",
              "      <td>0</td>\n",
              "      <td>2</td>\n",
              "    </tr>\n",
              "    <tr>\n",
              "      <th>Colorado</th>\n",
              "      <td>4</td>\n",
              "      <td>6</td>\n",
              "    </tr>\n",
              "    <tr>\n",
              "      <th>Utah</th>\n",
              "      <td>8</td>\n",
              "      <td>10</td>\n",
              "    </tr>\n",
              "    <tr>\n",
              "      <th>New York</th>\n",
              "      <td>12</td>\n",
              "      <td>14</td>\n",
              "    </tr>\n",
              "  </tbody>\n",
              "</table>\n",
              "</div>"
            ],
            "text/plain": [
              "          one  three\n",
              "Ohio        0      2\n",
              "Colorado    4      6\n",
              "Utah        8     10\n",
              "New York   12     14"
            ]
          },
          "metadata": {},
          "execution_count": 106
        }
      ]
    },
    {
      "cell_type": "markdown",
      "metadata": {
        "id": "aor5l_Z8rM45"
      },
      "source": [
        "Many functions, like drop, which modify the size or shape of a Series or DataFrame, **can manipulate an object in-place without returning a new object**:\n",
        "\n",
        "Be careful with the inplace, as it destroys any data that is dropped"
      ]
    },
    {
      "cell_type": "code",
      "metadata": {
        "id": "DUOQk5lgzxdy"
      },
      "source": [
        "obj.drop('c', inplace=True)"
      ],
      "execution_count": 107,
      "outputs": []
    },
    {
      "cell_type": "code",
      "metadata": {
        "colab": {
          "base_uri": "https://localhost:8080/"
        },
        "id": "BITzQx97zzy9",
        "outputId": "7419d56c-4572-46d2-88ee-03b3c4b5c8c1"
      },
      "source": [
        "obj"
      ],
      "execution_count": 108,
      "outputs": [
        {
          "output_type": "execute_result",
          "data": {
            "text/plain": [
              "a    0.0\n",
              "b    1.0\n",
              "d    3.0\n",
              "e    4.0\n",
              "dtype: float64"
            ]
          },
          "metadata": {},
          "execution_count": 108
        }
      ]
    },
    {
      "cell_type": "markdown",
      "metadata": {
        "id": "gn_l9Y0-z12I"
      },
      "source": [
        "## Indexing, Selection, and Filtering"
      ]
    },
    {
      "cell_type": "markdown",
      "metadata": {
        "id": "L_DOSrqs0ADT"
      },
      "source": [
        "Series indexing (obj[...]) works analogously to NumPy array indexing, except **you can use the Series’s index values instead of only integers:**\n",
        "\n"
      ]
    },
    {
      "cell_type": "code",
      "metadata": {
        "id": "K7mZ7uQF0Ppc"
      },
      "source": [
        "obj = pd.Series(np.arange(4.), index=['a', 'b', 'c', 'd'])"
      ],
      "execution_count": 109,
      "outputs": []
    },
    {
      "cell_type": "code",
      "metadata": {
        "colab": {
          "base_uri": "https://localhost:8080/"
        },
        "id": "slLBNA3m0UWv",
        "outputId": "511d18b1-9674-4719-ba93-10f47ee47c43"
      },
      "source": [
        "obj"
      ],
      "execution_count": 110,
      "outputs": [
        {
          "output_type": "execute_result",
          "data": {
            "text/plain": [
              "a    0.0\n",
              "b    1.0\n",
              "c    2.0\n",
              "d    3.0\n",
              "dtype: float64"
            ]
          },
          "metadata": {},
          "execution_count": 110
        }
      ]
    },
    {
      "cell_type": "code",
      "metadata": {
        "colab": {
          "base_uri": "https://localhost:8080/"
        },
        "id": "ITft4LST0V_w",
        "outputId": "6d9a8160-48a4-4e69-eb13-af5921130a70"
      },
      "source": [
        "obj['b']"
      ],
      "execution_count": 111,
      "outputs": [
        {
          "output_type": "execute_result",
          "data": {
            "text/plain": [
              "1.0"
            ]
          },
          "metadata": {},
          "execution_count": 111
        }
      ]
    },
    {
      "cell_type": "code",
      "metadata": {
        "colab": {
          "base_uri": "https://localhost:8080/"
        },
        "id": "Y4-Dv9RC0Xo8",
        "outputId": "cd943779-e338-4bf4-e681-42870f437ccb"
      },
      "source": [
        "obj[1]"
      ],
      "execution_count": 112,
      "outputs": [
        {
          "output_type": "execute_result",
          "data": {
            "text/plain": [
              "1.0"
            ]
          },
          "metadata": {},
          "execution_count": 112
        }
      ]
    },
    {
      "cell_type": "code",
      "metadata": {
        "colab": {
          "base_uri": "https://localhost:8080/"
        },
        "id": "3WGugz_f0ZJq",
        "outputId": "c1224a26-8de7-4605-a761-38e465d5ee95"
      },
      "source": [
        "obj[2:4]"
      ],
      "execution_count": 113,
      "outputs": [
        {
          "output_type": "execute_result",
          "data": {
            "text/plain": [
              "c    2.0\n",
              "d    3.0\n",
              "dtype: float64"
            ]
          },
          "metadata": {},
          "execution_count": 113
        }
      ]
    },
    {
      "cell_type": "code",
      "metadata": {
        "colab": {
          "base_uri": "https://localhost:8080/"
        },
        "id": "ygmFT8Mn0jsC",
        "outputId": "9d2d80ea-a095-437c-b4c1-44cc63a52d5c"
      },
      "source": [
        "obj[['b', 'a', 'd']]"
      ],
      "execution_count": 114,
      "outputs": [
        {
          "output_type": "execute_result",
          "data": {
            "text/plain": [
              "b    1.0\n",
              "a    0.0\n",
              "d    3.0\n",
              "dtype: float64"
            ]
          },
          "metadata": {},
          "execution_count": 114
        }
      ]
    },
    {
      "cell_type": "code",
      "metadata": {
        "colab": {
          "base_uri": "https://localhost:8080/"
        },
        "id": "pvVng82y0oA4",
        "outputId": "cdf971dc-aac5-4ff5-c0cc-e083888f58dc"
      },
      "source": [
        "obj[[1, 3]]"
      ],
      "execution_count": 115,
      "outputs": [
        {
          "output_type": "execute_result",
          "data": {
            "text/plain": [
              "b    1.0\n",
              "d    3.0\n",
              "dtype: float64"
            ]
          },
          "metadata": {},
          "execution_count": 115
        }
      ]
    },
    {
      "cell_type": "code",
      "metadata": {
        "colab": {
          "base_uri": "https://localhost:8080/"
        },
        "id": "Xb0rQJwt0rHL",
        "outputId": "3a2efc24-8535-4939-bc46-4cb31c1eb8bf"
      },
      "source": [
        "obj[obj < 2]"
      ],
      "execution_count": 116,
      "outputs": [
        {
          "output_type": "execute_result",
          "data": {
            "text/plain": [
              "a    0.0\n",
              "b    1.0\n",
              "dtype: float64"
            ]
          },
          "metadata": {},
          "execution_count": 116
        }
      ]
    },
    {
      "cell_type": "markdown",
      "metadata": {
        "id": "uY7kl5kd0tb2"
      },
      "source": [
        "Slicing with labels behaves differently than normal Python slicing in that **the end point is inclusive:**"
      ]
    },
    {
      "cell_type": "code",
      "metadata": {
        "colab": {
          "base_uri": "https://localhost:8080/"
        },
        "id": "xww29qGb0zpv",
        "outputId": "e66e436d-cc89-42f5-a2a8-29ae69b20901"
      },
      "source": [
        "obj['b':'c']"
      ],
      "execution_count": 117,
      "outputs": [
        {
          "output_type": "execute_result",
          "data": {
            "text/plain": [
              "b    1.0\n",
              "c    2.0\n",
              "dtype: float64"
            ]
          },
          "metadata": {},
          "execution_count": 117
        }
      ]
    },
    {
      "cell_type": "markdown",
      "metadata": {
        "id": "u-eIZtX805zy"
      },
      "source": [
        "Setting using these methods modifies the corresponding section of the Series:"
      ]
    },
    {
      "cell_type": "code",
      "metadata": {
        "id": "j-_pM2k308Um"
      },
      "source": [
        "obj['b':'c'] = 5"
      ],
      "execution_count": 118,
      "outputs": []
    },
    {
      "cell_type": "code",
      "metadata": {
        "colab": {
          "base_uri": "https://localhost:8080/"
        },
        "id": "DrttFWfT0-Nw",
        "outputId": "6b81a5e8-b0be-41fc-cbc4-4aea7092876a"
      },
      "source": [
        "obj"
      ],
      "execution_count": 119,
      "outputs": [
        {
          "output_type": "execute_result",
          "data": {
            "text/plain": [
              "a    0.0\n",
              "b    5.0\n",
              "c    5.0\n",
              "d    3.0\n",
              "dtype: float64"
            ]
          },
          "metadata": {},
          "execution_count": 119
        }
      ]
    },
    {
      "cell_type": "markdown",
      "metadata": {
        "id": "3kMM8fuX1BGz"
      },
      "source": [
        "Indexing into a DataFrame is for retrieving one or more columns either with a single value or sequence:"
      ]
    },
    {
      "cell_type": "code",
      "metadata": {
        "id": "HFTHwnOdOmOW"
      },
      "source": [
        "data = pd.DataFrame(np.arange(16).reshape(4, 4),\n",
        "                    index=['Ohio', 'Colorado', 'Utah', 'New York'],\n",
        "                    columns=['one', 'two', 'three', 'four'])"
      ],
      "execution_count": 120,
      "outputs": []
    },
    {
      "cell_type": "code",
      "metadata": {
        "colab": {
          "base_uri": "https://localhost:8080/",
          "height": 173
        },
        "id": "ErN8EGLMOy79",
        "outputId": "1c4861b1-1974-44e7-e7b6-225d6fa3f63f"
      },
      "source": [
        "data"
      ],
      "execution_count": 121,
      "outputs": [
        {
          "output_type": "execute_result",
          "data": {
            "text/html": [
              "<div>\n",
              "<style scoped>\n",
              "    .dataframe tbody tr th:only-of-type {\n",
              "        vertical-align: middle;\n",
              "    }\n",
              "\n",
              "    .dataframe tbody tr th {\n",
              "        vertical-align: top;\n",
              "    }\n",
              "\n",
              "    .dataframe thead th {\n",
              "        text-align: right;\n",
              "    }\n",
              "</style>\n",
              "<table border=\"1\" class=\"dataframe\">\n",
              "  <thead>\n",
              "    <tr style=\"text-align: right;\">\n",
              "      <th></th>\n",
              "      <th>one</th>\n",
              "      <th>two</th>\n",
              "      <th>three</th>\n",
              "      <th>four</th>\n",
              "    </tr>\n",
              "  </thead>\n",
              "  <tbody>\n",
              "    <tr>\n",
              "      <th>Ohio</th>\n",
              "      <td>0</td>\n",
              "      <td>1</td>\n",
              "      <td>2</td>\n",
              "      <td>3</td>\n",
              "    </tr>\n",
              "    <tr>\n",
              "      <th>Colorado</th>\n",
              "      <td>4</td>\n",
              "      <td>5</td>\n",
              "      <td>6</td>\n",
              "      <td>7</td>\n",
              "    </tr>\n",
              "    <tr>\n",
              "      <th>Utah</th>\n",
              "      <td>8</td>\n",
              "      <td>9</td>\n",
              "      <td>10</td>\n",
              "      <td>11</td>\n",
              "    </tr>\n",
              "    <tr>\n",
              "      <th>New York</th>\n",
              "      <td>12</td>\n",
              "      <td>13</td>\n",
              "      <td>14</td>\n",
              "      <td>15</td>\n",
              "    </tr>\n",
              "  </tbody>\n",
              "</table>\n",
              "</div>"
            ],
            "text/plain": [
              "          one  two  three  four\n",
              "Ohio        0    1      2     3\n",
              "Colorado    4    5      6     7\n",
              "Utah        8    9     10    11\n",
              "New York   12   13     14    15"
            ]
          },
          "metadata": {},
          "execution_count": 121
        }
      ]
    },
    {
      "cell_type": "code",
      "metadata": {
        "colab": {
          "base_uri": "https://localhost:8080/"
        },
        "id": "ZWVjYojtPEbH",
        "outputId": "9be9b28f-6888-4baa-8408-49d564481e49"
      },
      "source": [
        "data['two']"
      ],
      "execution_count": 122,
      "outputs": [
        {
          "output_type": "execute_result",
          "data": {
            "text/plain": [
              "Ohio         1\n",
              "Colorado     5\n",
              "Utah         9\n",
              "New York    13\n",
              "Name: two, dtype: int64"
            ]
          },
          "metadata": {},
          "execution_count": 122
        }
      ]
    },
    {
      "cell_type": "code",
      "metadata": {
        "colab": {
          "base_uri": "https://localhost:8080/",
          "height": 173
        },
        "id": "q0o7Pb1OPF8S",
        "outputId": "9f1d4b4c-5872-4c11-c466-a5ba295de36e"
      },
      "source": [
        "data[['three', 'one']]"
      ],
      "execution_count": 124,
      "outputs": [
        {
          "output_type": "execute_result",
          "data": {
            "text/html": [
              "<div>\n",
              "<style scoped>\n",
              "    .dataframe tbody tr th:only-of-type {\n",
              "        vertical-align: middle;\n",
              "    }\n",
              "\n",
              "    .dataframe tbody tr th {\n",
              "        vertical-align: top;\n",
              "    }\n",
              "\n",
              "    .dataframe thead th {\n",
              "        text-align: right;\n",
              "    }\n",
              "</style>\n",
              "<table border=\"1\" class=\"dataframe\">\n",
              "  <thead>\n",
              "    <tr style=\"text-align: right;\">\n",
              "      <th></th>\n",
              "      <th>three</th>\n",
              "      <th>one</th>\n",
              "    </tr>\n",
              "  </thead>\n",
              "  <tbody>\n",
              "    <tr>\n",
              "      <th>Ohio</th>\n",
              "      <td>2</td>\n",
              "      <td>0</td>\n",
              "    </tr>\n",
              "    <tr>\n",
              "      <th>Colorado</th>\n",
              "      <td>6</td>\n",
              "      <td>4</td>\n",
              "    </tr>\n",
              "    <tr>\n",
              "      <th>Utah</th>\n",
              "      <td>10</td>\n",
              "      <td>8</td>\n",
              "    </tr>\n",
              "    <tr>\n",
              "      <th>New York</th>\n",
              "      <td>14</td>\n",
              "      <td>12</td>\n",
              "    </tr>\n",
              "  </tbody>\n",
              "</table>\n",
              "</div>"
            ],
            "text/plain": [
              "          three  one\n",
              "Ohio          2    0\n",
              "Colorado      6    4\n",
              "Utah         10    8\n",
              "New York     14   12"
            ]
          },
          "metadata": {},
          "execution_count": 124
        }
      ]
    },
    {
      "cell_type": "markdown",
      "metadata": {
        "id": "hVhm5FF9PMJt"
      },
      "source": [
        "Indexing like this has a few special cases. First, slicing or selecting data with a boolean array:"
      ]
    },
    {
      "cell_type": "code",
      "metadata": {
        "colab": {
          "base_uri": "https://localhost:8080/",
          "height": 111
        },
        "id": "imGrAuRQPQ6f",
        "outputId": "68d95b2e-5762-4761-bfc8-bb818f8fb287"
      },
      "source": [
        "data[:2]"
      ],
      "execution_count": 125,
      "outputs": [
        {
          "output_type": "execute_result",
          "data": {
            "text/html": [
              "<div>\n",
              "<style scoped>\n",
              "    .dataframe tbody tr th:only-of-type {\n",
              "        vertical-align: middle;\n",
              "    }\n",
              "\n",
              "    .dataframe tbody tr th {\n",
              "        vertical-align: top;\n",
              "    }\n",
              "\n",
              "    .dataframe thead th {\n",
              "        text-align: right;\n",
              "    }\n",
              "</style>\n",
              "<table border=\"1\" class=\"dataframe\">\n",
              "  <thead>\n",
              "    <tr style=\"text-align: right;\">\n",
              "      <th></th>\n",
              "      <th>one</th>\n",
              "      <th>two</th>\n",
              "      <th>three</th>\n",
              "      <th>four</th>\n",
              "    </tr>\n",
              "  </thead>\n",
              "  <tbody>\n",
              "    <tr>\n",
              "      <th>Ohio</th>\n",
              "      <td>0</td>\n",
              "      <td>1</td>\n",
              "      <td>2</td>\n",
              "      <td>3</td>\n",
              "    </tr>\n",
              "    <tr>\n",
              "      <th>Colorado</th>\n",
              "      <td>4</td>\n",
              "      <td>5</td>\n",
              "      <td>6</td>\n",
              "      <td>7</td>\n",
              "    </tr>\n",
              "  </tbody>\n",
              "</table>\n",
              "</div>"
            ],
            "text/plain": [
              "          one  two  three  four\n",
              "Ohio        0    1      2     3\n",
              "Colorado    4    5      6     7"
            ]
          },
          "metadata": {},
          "execution_count": 125
        }
      ]
    },
    {
      "cell_type": "code",
      "metadata": {
        "colab": {
          "base_uri": "https://localhost:8080/",
          "height": 142
        },
        "id": "pBdkuXJVPSg1",
        "outputId": "37baac6a-6cbf-42e9-f24d-ccb33fa908f3"
      },
      "source": [
        "data[data['three'] > 5]"
      ],
      "execution_count": 128,
      "outputs": [
        {
          "output_type": "execute_result",
          "data": {
            "text/html": [
              "<div>\n",
              "<style scoped>\n",
              "    .dataframe tbody tr th:only-of-type {\n",
              "        vertical-align: middle;\n",
              "    }\n",
              "\n",
              "    .dataframe tbody tr th {\n",
              "        vertical-align: top;\n",
              "    }\n",
              "\n",
              "    .dataframe thead th {\n",
              "        text-align: right;\n",
              "    }\n",
              "</style>\n",
              "<table border=\"1\" class=\"dataframe\">\n",
              "  <thead>\n",
              "    <tr style=\"text-align: right;\">\n",
              "      <th></th>\n",
              "      <th>one</th>\n",
              "      <th>two</th>\n",
              "      <th>three</th>\n",
              "      <th>four</th>\n",
              "    </tr>\n",
              "  </thead>\n",
              "  <tbody>\n",
              "    <tr>\n",
              "      <th>Colorado</th>\n",
              "      <td>4</td>\n",
              "      <td>5</td>\n",
              "      <td>6</td>\n",
              "      <td>7</td>\n",
              "    </tr>\n",
              "    <tr>\n",
              "      <th>Utah</th>\n",
              "      <td>8</td>\n",
              "      <td>9</td>\n",
              "      <td>10</td>\n",
              "      <td>11</td>\n",
              "    </tr>\n",
              "    <tr>\n",
              "      <th>New York</th>\n",
              "      <td>12</td>\n",
              "      <td>13</td>\n",
              "      <td>14</td>\n",
              "      <td>15</td>\n",
              "    </tr>\n",
              "  </tbody>\n",
              "</table>\n",
              "</div>"
            ],
            "text/plain": [
              "          one  two  three  four\n",
              "Colorado    4    5      6     7\n",
              "Utah        8    9     10    11\n",
              "New York   12   13     14    15"
            ]
          },
          "metadata": {},
          "execution_count": 128
        }
      ]
    },
    {
      "cell_type": "markdown",
      "metadata": {
        "id": "WNkgvWw3PcNJ"
      },
      "source": [
        "Another use case is in indexing with a boolean DataFrame, such as one produced by a scalar comparison:"
      ]
    },
    {
      "cell_type": "code",
      "metadata": {
        "colab": {
          "base_uri": "https://localhost:8080/",
          "height": 173
        },
        "id": "WkvuFgesPoh3",
        "outputId": "b37f2fff-0ff8-41df-ebca-6d27eac190a5"
      },
      "source": [
        "data < 5"
      ],
      "execution_count": 131,
      "outputs": [
        {
          "output_type": "execute_result",
          "data": {
            "text/html": [
              "<div>\n",
              "<style scoped>\n",
              "    .dataframe tbody tr th:only-of-type {\n",
              "        vertical-align: middle;\n",
              "    }\n",
              "\n",
              "    .dataframe tbody tr th {\n",
              "        vertical-align: top;\n",
              "    }\n",
              "\n",
              "    .dataframe thead th {\n",
              "        text-align: right;\n",
              "    }\n",
              "</style>\n",
              "<table border=\"1\" class=\"dataframe\">\n",
              "  <thead>\n",
              "    <tr style=\"text-align: right;\">\n",
              "      <th></th>\n",
              "      <th>one</th>\n",
              "      <th>two</th>\n",
              "      <th>three</th>\n",
              "      <th>four</th>\n",
              "    </tr>\n",
              "  </thead>\n",
              "  <tbody>\n",
              "    <tr>\n",
              "      <th>Ohio</th>\n",
              "      <td>True</td>\n",
              "      <td>True</td>\n",
              "      <td>True</td>\n",
              "      <td>True</td>\n",
              "    </tr>\n",
              "    <tr>\n",
              "      <th>Colorado</th>\n",
              "      <td>True</td>\n",
              "      <td>False</td>\n",
              "      <td>False</td>\n",
              "      <td>False</td>\n",
              "    </tr>\n",
              "    <tr>\n",
              "      <th>Utah</th>\n",
              "      <td>False</td>\n",
              "      <td>False</td>\n",
              "      <td>False</td>\n",
              "      <td>False</td>\n",
              "    </tr>\n",
              "    <tr>\n",
              "      <th>New York</th>\n",
              "      <td>False</td>\n",
              "      <td>False</td>\n",
              "      <td>False</td>\n",
              "      <td>False</td>\n",
              "    </tr>\n",
              "  </tbody>\n",
              "</table>\n",
              "</div>"
            ],
            "text/plain": [
              "            one    two  three   four\n",
              "Ohio       True   True   True   True\n",
              "Colorado   True  False  False  False\n",
              "Utah      False  False  False  False\n",
              "New York  False  False  False  False"
            ]
          },
          "metadata": {},
          "execution_count": 131
        }
      ]
    },
    {
      "cell_type": "code",
      "metadata": {
        "id": "CkK7kkgcPuuC"
      },
      "source": [
        "data[data < 5] = 0"
      ],
      "execution_count": 134,
      "outputs": []
    },
    {
      "cell_type": "code",
      "metadata": {
        "colab": {
          "base_uri": "https://localhost:8080/",
          "height": 173
        },
        "id": "RZwncRSzP0XO",
        "outputId": "f4730abc-f98e-4f21-b175-b0b7633c831b"
      },
      "source": [
        "data"
      ],
      "execution_count": 135,
      "outputs": [
        {
          "output_type": "execute_result",
          "data": {
            "text/html": [
              "<div>\n",
              "<style scoped>\n",
              "    .dataframe tbody tr th:only-of-type {\n",
              "        vertical-align: middle;\n",
              "    }\n",
              "\n",
              "    .dataframe tbody tr th {\n",
              "        vertical-align: top;\n",
              "    }\n",
              "\n",
              "    .dataframe thead th {\n",
              "        text-align: right;\n",
              "    }\n",
              "</style>\n",
              "<table border=\"1\" class=\"dataframe\">\n",
              "  <thead>\n",
              "    <tr style=\"text-align: right;\">\n",
              "      <th></th>\n",
              "      <th>one</th>\n",
              "      <th>two</th>\n",
              "      <th>three</th>\n",
              "      <th>four</th>\n",
              "    </tr>\n",
              "  </thead>\n",
              "  <tbody>\n",
              "    <tr>\n",
              "      <th>Ohio</th>\n",
              "      <td>0</td>\n",
              "      <td>0</td>\n",
              "      <td>0</td>\n",
              "      <td>0</td>\n",
              "    </tr>\n",
              "    <tr>\n",
              "      <th>Colorado</th>\n",
              "      <td>0</td>\n",
              "      <td>5</td>\n",
              "      <td>6</td>\n",
              "      <td>7</td>\n",
              "    </tr>\n",
              "    <tr>\n",
              "      <th>Utah</th>\n",
              "      <td>8</td>\n",
              "      <td>9</td>\n",
              "      <td>10</td>\n",
              "      <td>11</td>\n",
              "    </tr>\n",
              "    <tr>\n",
              "      <th>New York</th>\n",
              "      <td>12</td>\n",
              "      <td>13</td>\n",
              "      <td>14</td>\n",
              "      <td>15</td>\n",
              "    </tr>\n",
              "  </tbody>\n",
              "</table>\n",
              "</div>"
            ],
            "text/plain": [
              "          one  two  three  four\n",
              "Ohio        0    0      0     0\n",
              "Colorado    0    5      6     7\n",
              "Utah        8    9     10    11\n",
              "New York   12   13     14    15"
            ]
          },
          "metadata": {},
          "execution_count": 135
        }
      ]
    },
    {
      "cell_type": "markdown",
      "metadata": {
        "id": "-qQdv7fMP16p"
      },
      "source": [
        "This makes DataFrame syntactically more like a two-dimensional NumPy array in this particular case"
      ]
    },
    {
      "cell_type": "markdown",
      "metadata": {
        "id": "wTKbwbZGP5sH"
      },
      "source": [
        "### Selection with loc and iloc"
      ]
    },
    {
      "cell_type": "markdown",
      "metadata": {
        "id": "exEhgElGQDVE"
      },
      "source": [
        "For DataFrame label-indexing on the rows, I introduce the special indexing operators loc and iloc\n",
        "\n",
        "They enable you to **select a subset of the rows and columns from a DataFrame with NumPy-like notation** using either **axis labels (loc)** or **integers (iloc)**"
      ]
    },
    {
      "cell_type": "code",
      "metadata": {
        "colab": {
          "base_uri": "https://localhost:8080/"
        },
        "id": "pGBc-cjnP3mM",
        "outputId": "ecf6546c-c1c8-439a-8ae4-2e2d5668388b"
      },
      "source": [
        "data.loc['Colorado', ['two', 'three']]"
      ],
      "execution_count": 138,
      "outputs": [
        {
          "output_type": "execute_result",
          "data": {
            "text/plain": [
              "two      5\n",
              "three    6\n",
              "Name: Colorado, dtype: int64"
            ]
          },
          "metadata": {},
          "execution_count": 138
        }
      ]
    },
    {
      "cell_type": "markdown",
      "metadata": {
        "id": "sal87xKpQZHs"
      },
      "source": [
        "We’ll then perform some similar selections with integers using iloc:"
      ]
    },
    {
      "cell_type": "code",
      "metadata": {
        "colab": {
          "base_uri": "https://localhost:8080/"
        },
        "id": "7Ueig05UQa1U",
        "outputId": "9583b53a-fa6f-4ade-a563-50ad556cbdae"
      },
      "source": [
        "data.iloc[2, [3, 0, 1]]"
      ],
      "execution_count": 139,
      "outputs": [
        {
          "output_type": "execute_result",
          "data": {
            "text/plain": [
              "four    11\n",
              "one      8\n",
              "two      9\n",
              "Name: Utah, dtype: int64"
            ]
          },
          "metadata": {},
          "execution_count": 139
        }
      ]
    },
    {
      "cell_type": "code",
      "metadata": {
        "colab": {
          "base_uri": "https://localhost:8080/"
        },
        "id": "zMY2wY2bQeiM",
        "outputId": "f4e39f89-0d8e-46d7-e21e-2cd581e58b09"
      },
      "source": [
        "data.iloc[2]"
      ],
      "execution_count": 140,
      "outputs": [
        {
          "output_type": "execute_result",
          "data": {
            "text/plain": [
              "one       8\n",
              "two       9\n",
              "three    10\n",
              "four     11\n",
              "Name: Utah, dtype: int64"
            ]
          },
          "metadata": {},
          "execution_count": 140
        }
      ]
    },
    {
      "cell_type": "code",
      "metadata": {
        "colab": {
          "base_uri": "https://localhost:8080/",
          "height": 111
        },
        "id": "TqpTMdzJQiyc",
        "outputId": "0269935b-2b6d-4627-eaeb-a2c7a7c362e2"
      },
      "source": [
        "data.iloc[[1, 2], [3, 0, 1]]"
      ],
      "execution_count": 145,
      "outputs": [
        {
          "output_type": "execute_result",
          "data": {
            "text/html": [
              "<div>\n",
              "<style scoped>\n",
              "    .dataframe tbody tr th:only-of-type {\n",
              "        vertical-align: middle;\n",
              "    }\n",
              "\n",
              "    .dataframe tbody tr th {\n",
              "        vertical-align: top;\n",
              "    }\n",
              "\n",
              "    .dataframe thead th {\n",
              "        text-align: right;\n",
              "    }\n",
              "</style>\n",
              "<table border=\"1\" class=\"dataframe\">\n",
              "  <thead>\n",
              "    <tr style=\"text-align: right;\">\n",
              "      <th></th>\n",
              "      <th>four</th>\n",
              "      <th>one</th>\n",
              "      <th>two</th>\n",
              "    </tr>\n",
              "  </thead>\n",
              "  <tbody>\n",
              "    <tr>\n",
              "      <th>Colorado</th>\n",
              "      <td>7</td>\n",
              "      <td>0</td>\n",
              "      <td>5</td>\n",
              "    </tr>\n",
              "    <tr>\n",
              "      <th>Utah</th>\n",
              "      <td>11</td>\n",
              "      <td>8</td>\n",
              "      <td>9</td>\n",
              "    </tr>\n",
              "  </tbody>\n",
              "</table>\n",
              "</div>"
            ],
            "text/plain": [
              "          four  one  two\n",
              "Colorado     7    0    5\n",
              "Utah        11    8    9"
            ]
          },
          "metadata": {},
          "execution_count": 145
        }
      ]
    },
    {
      "cell_type": "markdown",
      "metadata": {
        "id": "QQDwcGk6Q7Ld"
      },
      "source": [
        "Both indexing functions work with slices in addition to single labels or lists of labels:"
      ]
    },
    {
      "cell_type": "code",
      "metadata": {
        "colab": {
          "base_uri": "https://localhost:8080/"
        },
        "id": "S9_QJKYQQ97A",
        "outputId": "c47f6f9e-b18b-4341-b0b3-408a75028261"
      },
      "source": [
        "data.loc[: 'Utah', 'two']"
      ],
      "execution_count": 146,
      "outputs": [
        {
          "output_type": "execute_result",
          "data": {
            "text/plain": [
              "Ohio        0\n",
              "Colorado    5\n",
              "Utah        9\n",
              "Name: two, dtype: int64"
            ]
          },
          "metadata": {},
          "execution_count": 146
        }
      ]
    },
    {
      "cell_type": "code",
      "metadata": {
        "colab": {
          "base_uri": "https://localhost:8080/",
          "height": 142
        },
        "id": "auVLwMhORHPQ",
        "outputId": "f875e358-d73b-4a83-ba1a-09f2c6b3a287"
      },
      "source": [
        "data.iloc[:, :3][data.three > 5]"
      ],
      "execution_count": 147,
      "outputs": [
        {
          "output_type": "execute_result",
          "data": {
            "text/html": [
              "<div>\n",
              "<style scoped>\n",
              "    .dataframe tbody tr th:only-of-type {\n",
              "        vertical-align: middle;\n",
              "    }\n",
              "\n",
              "    .dataframe tbody tr th {\n",
              "        vertical-align: top;\n",
              "    }\n",
              "\n",
              "    .dataframe thead th {\n",
              "        text-align: right;\n",
              "    }\n",
              "</style>\n",
              "<table border=\"1\" class=\"dataframe\">\n",
              "  <thead>\n",
              "    <tr style=\"text-align: right;\">\n",
              "      <th></th>\n",
              "      <th>one</th>\n",
              "      <th>two</th>\n",
              "      <th>three</th>\n",
              "    </tr>\n",
              "  </thead>\n",
              "  <tbody>\n",
              "    <tr>\n",
              "      <th>Colorado</th>\n",
              "      <td>0</td>\n",
              "      <td>5</td>\n",
              "      <td>6</td>\n",
              "    </tr>\n",
              "    <tr>\n",
              "      <th>Utah</th>\n",
              "      <td>8</td>\n",
              "      <td>9</td>\n",
              "      <td>10</td>\n",
              "    </tr>\n",
              "    <tr>\n",
              "      <th>New York</th>\n",
              "      <td>12</td>\n",
              "      <td>13</td>\n",
              "      <td>14</td>\n",
              "    </tr>\n",
              "  </tbody>\n",
              "</table>\n",
              "</div>"
            ],
            "text/plain": [
              "          one  two  three\n",
              "Colorado    0    5      6\n",
              "Utah        8    9     10\n",
              "New York   12   13     14"
            ]
          },
          "metadata": {},
          "execution_count": 147
        }
      ]
    },
    {
      "cell_type": "markdown",
      "metadata": {
        "id": "clYZr0GMRUzJ"
      },
      "source": [
        "So there are many ways to select and rearrange the data contained in a pandas object. For DataFrame, Table 5-4 provides a short summary of many of them"
      ]
    },
    {
      "cell_type": "markdown",
      "metadata": {
        "id": "MEEl4vzqRYkl"
      },
      "source": [
        "Table 5-4. Indexing options with DataFrame\n",
        "<p align='center'>\n",
        "<img src='data:image/png;base64,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'>\n",
        "</p>"
      ]
    },
    {
      "cell_type": "markdown",
      "metadata": {
        "id": "RQ7uwDWyR00Q"
      },
      "source": [
        "## Integer Indexes"
      ]
    },
    {
      "cell_type": "markdown",
      "metadata": {
        "id": "LHw-b0H-R9Zs"
      },
      "source": [
        "Working with pandas objects indexed by integers is something that often trips up new users due to some differences with indexing semantics on built-in Python data structures like lists and tuples\n",
        "\n",
        "For example, you might not expect the following code to generate an error:"
      ]
    },
    {
      "cell_type": "code",
      "metadata": {
        "id": "u2O0tdPwSeFx"
      },
      "source": [
        "ser = pd.Series(np.arange(3.))"
      ],
      "execution_count": 148,
      "outputs": []
    },
    {
      "cell_type": "code",
      "metadata": {
        "colab": {
          "base_uri": "https://localhost:8080/"
        },
        "id": "Wm4FctTOSj2G",
        "outputId": "0ec783fb-bc8d-4132-9f20-017a70615bf6"
      },
      "source": [
        "ser"
      ],
      "execution_count": 150,
      "outputs": [
        {
          "output_type": "execute_result",
          "data": {
            "text/plain": [
              "0    0.0\n",
              "1    1.0\n",
              "2    2.0\n",
              "dtype: float64"
            ]
          },
          "metadata": {},
          "execution_count": 150
        }
      ]
    },
    {
      "cell_type": "code",
      "metadata": {
        "colab": {
          "base_uri": "https://localhost:8080/"
        },
        "id": "EN4p2WN8ShrB",
        "outputId": "f2b1f4da-6d9d-40e3-a394-fb8161e0330a"
      },
      "source": [
        "try:\n",
        "  ser[-1]\n",
        "except (ValueError, KeyError):\n",
        "  print('ValueError', 'KeyError')"
      ],
      "execution_count": 167,
      "outputs": [
        {
          "output_type": "stream",
          "name": "stdout",
          "text": [
            "ValueError KeyError\n"
          ]
        }
      ]
    },
    {
      "cell_type": "markdown",
      "metadata": {
        "id": "j1GgcDuoTczR"
      },
      "source": [
        "In this case, pandas could “fall back” on integer indexing, but it’s difficult to do this in general without introducing subtle bugs\n",
        "\n",
        "Here we have an index containing 0, 1, 2, but inferring what the user wants (label-based indexing or position-based) is difficult:"
      ]
    },
    {
      "cell_type": "code",
      "metadata": {
        "colab": {
          "base_uri": "https://localhost:8080/"
        },
        "id": "X1NTi0lPTpmM",
        "outputId": "856e593f-8f66-4514-ad4c-fbc12f400156"
      },
      "source": [
        "ser"
      ],
      "execution_count": 168,
      "outputs": [
        {
          "output_type": "execute_result",
          "data": {
            "text/plain": [
              "0    0.0\n",
              "1    1.0\n",
              "2    2.0\n",
              "dtype: float64"
            ]
          },
          "metadata": {},
          "execution_count": 168
        }
      ]
    },
    {
      "cell_type": "markdown",
      "metadata": {
        "id": "94aTr-MRTwJv"
      },
      "source": [
        "On the other hand, with a non-integer index, there is no potential for ambiguity:"
      ]
    },
    {
      "cell_type": "code",
      "metadata": {
        "id": "sg6ZWwixTvbn"
      },
      "source": [
        "ser2 = pd.Series(np.arange(3.), index=['a', 'b', 'c'])"
      ],
      "execution_count": 169,
      "outputs": []
    },
    {
      "cell_type": "code",
      "metadata": {
        "colab": {
          "base_uri": "https://localhost:8080/"
        },
        "id": "HICFBP_hT3Qe",
        "outputId": "3a3e7507-6139-4364-d727-92eea6c9873f"
      },
      "source": [
        "ser2[-1]"
      ],
      "execution_count": 170,
      "outputs": [
        {
          "output_type": "execute_result",
          "data": {
            "text/plain": [
              "2.0"
            ]
          },
          "metadata": {},
          "execution_count": 170
        }
      ]
    },
    {
      "cell_type": "markdown",
      "metadata": {
        "id": "d8pQNbcKT412"
      },
      "source": [
        "To keep things consistent, **if you have an axis index containing integers, data selection will always be label-oriented**\n",
        "\n",
        "For more precise handling, use loc (for labels) or iloc (for integers):"
      ]
    },
    {
      "cell_type": "code",
      "metadata": {
        "colab": {
          "base_uri": "https://localhost:8080/"
        },
        "id": "MOxyq7H-UNCm",
        "outputId": "810caef8-f99e-487a-986a-7970e342e564"
      },
      "source": [
        "ser[:1]"
      ],
      "execution_count": 172,
      "outputs": [
        {
          "output_type": "execute_result",
          "data": {
            "text/plain": [
              "0    0.0\n",
              "dtype: float64"
            ]
          },
          "metadata": {},
          "execution_count": 172
        }
      ]
    },
    {
      "cell_type": "code",
      "metadata": {
        "colab": {
          "base_uri": "https://localhost:8080/"
        },
        "id": "rX18_7F2URFQ",
        "outputId": "f02e0580-9cc6-4a35-9eed-d3deb04a554a"
      },
      "source": [
        "ser.loc[:1]"
      ],
      "execution_count": 174,
      "outputs": [
        {
          "output_type": "execute_result",
          "data": {
            "text/plain": [
              "0    0.0\n",
              "1    1.0\n",
              "dtype: float64"
            ]
          },
          "metadata": {},
          "execution_count": 174
        }
      ]
    },
    {
      "cell_type": "code",
      "metadata": {
        "colab": {
          "base_uri": "https://localhost:8080/"
        },
        "id": "PdLR5y14UWct",
        "outputId": "94a359e8-0bb4-47d8-f665-3842553be0d9"
      },
      "source": [
        "ser.iloc[:1]"
      ],
      "execution_count": 175,
      "outputs": [
        {
          "output_type": "execute_result",
          "data": {
            "text/plain": [
              "0    0.0\n",
              "dtype: float64"
            ]
          },
          "metadata": {},
          "execution_count": 175
        }
      ]
    },
    {
      "cell_type": "markdown",
      "metadata": {
        "id": "tRFhyy2iUkZR"
      },
      "source": [
        "## Arithmetic and Data Alignment"
      ]
    },
    {
      "cell_type": "markdown",
      "metadata": {
        "id": "6mTmdgHxUmYa"
      },
      "source": [
        ""
      ]
    },
    {
      "cell_type": "code",
      "metadata": {
        "id": "s91M6GDVUmEx"
      },
      "source": [
        ""
      ],
      "execution_count": null,
      "outputs": []
    }
  ]
}