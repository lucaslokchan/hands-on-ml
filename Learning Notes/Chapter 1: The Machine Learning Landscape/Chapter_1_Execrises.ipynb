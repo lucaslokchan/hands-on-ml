{
  "nbformat": 4,
  "nbformat_minor": 0,
  "metadata": {
    "colab": {
      "name": "Chapter 1 Execrises.ipynb",
      "provenance": [],
      "authorship_tag": "ABX9TyOWY0r5smvC8BZ4skUP6Cs8"
    },
    "kernelspec": {
      "name": "python3",
      "display_name": "Python 3"
    },
    "language_info": {
      "name": "python"
    }
  },
  "cells": [
    {
      "cell_type": "markdown",
      "metadata": {
        "id": "tYSsPFRH_X6Q"
      },
      "source": [
        "## 1. How would you define Machine Learning?"
      ]
    },
    {
      "cell_type": "markdown",
      "metadata": {
        "id": "YKnTtBdiN-vW"
      },
      "source": [
        "Enable Machines to Learn From Data Without Human Intervention with Sets of Rules and Algorithms"
      ]
    },
    {
      "cell_type": "markdown",
      "metadata": {
        "id": "fDdL2iGF_fi4"
      },
      "source": [
        "## 2. Can you name four types of problems where it shines?"
      ]
    },
    {
      "cell_type": "markdown",
      "metadata": {
        "id": "ObFT6EuZ_hVA"
      },
      "source": [
        "1.   Predict Cancer From CT Scans\n",
        "2.   Predict Stock Market Prices\n",
        "3.   Classify Images e.g (Dogs, Cats, Trees)\n",
        "4.   Self Driving Systems\n",
        "\n",
        "\n",
        "\n"
      ]
    },
    {
      "cell_type": "markdown",
      "metadata": {
        "id": "_U1mfpm-PNPo"
      },
      "source": [
        "## 3. What is a labeled training set?"
      ]
    },
    {
      "cell_type": "markdown",
      "metadata": {
        "id": "m5okX4wFPRzX"
      },
      "source": [
        "A Labeled Training Set is "
      ]
    },
    {
      "cell_type": "code",
      "metadata": {
        "id": "5dqbWyRiOxCH"
      },
      "source": [
        ""
      ],
      "execution_count": null,
      "outputs": []
    },
    {
      "cell_type": "markdown",
      "metadata": {
        "id": "NDjE9GCGPcJn"
      },
      "source": [
        "## 4. What are the two most common supervised tasks?"
      ]
    },
    {
      "cell_type": "markdown",
      "metadata": {
        "id": "NoG0k2-fPebP"
      },
      "source": [
        ""
      ]
    },
    {
      "cell_type": "markdown",
      "metadata": {
        "id": "cHmVerDUPh1Y"
      },
      "source": [
        "## 5. Can you name four common unsupervised tasks?"
      ]
    },
    {
      "cell_type": "markdown",
      "metadata": {
        "id": "eF0qVrw8Pi1H"
      },
      "source": [
        ""
      ]
    },
    {
      "cell_type": "markdown",
      "metadata": {
        "id": "fBZIo33vPka3"
      },
      "source": [
        "## 6. What type of Machine Learning algorithm would you use to allow a robot to walk in various unknown terrains?"
      ]
    },
    {
      "cell_type": "markdown",
      "metadata": {
        "id": "LrhAoMJBPotX"
      },
      "source": [
        ""
      ]
    },
    {
      "cell_type": "markdown",
      "metadata": {
        "id": "weblfKZEPpTn"
      },
      "source": [
        "## 7. What type of algorithm would you use to segment your customers into multiple groups?"
      ]
    },
    {
      "cell_type": "markdown",
      "metadata": {
        "id": "uJY9q5EePs43"
      },
      "source": [
        "Classification"
      ]
    },
    {
      "cell_type": "markdown",
      "metadata": {
        "id": "vSpErAhWPuYQ"
      },
      "source": [
        "## 8. Would you frame the problem of spam detection as a supervised learning prob lem or an unsupervised learning problem?"
      ]
    },
    {
      "cell_type": "markdown",
      "metadata": {
        "id": "tI9p7ZKRPzCX"
      },
      "source": [
        "It "
      ]
    },
    {
      "cell_type": "markdown",
      "metadata": {
        "id": "XVJ3IdPAP2Cf"
      },
      "source": [
        "## 9. What is an online learning system?"
      ]
    },
    {
      "cell_type": "markdown",
      "metadata": {
        "id": "qt0E9IzfP5dv"
      },
      "source": [
        "New Data On The Fly"
      ]
    },
    {
      "cell_type": "markdown",
      "metadata": {
        "id": "jhXzYIXDP7on"
      },
      "source": [
        "## 10. What is out-of-core learning?"
      ]
    },
    {
      "cell_type": "markdown",
      "metadata": {
        "id": "RtZI_TCOQCu2"
      },
      "source": [
        ""
      ]
    },
    {
      "cell_type": "markdown",
      "metadata": {
        "id": "yMkznHMdQDT_"
      },
      "source": [
        "## 11. What type of learning algorithm relies on a similarity measure to make predictions?"
      ]
    },
    {
      "cell_type": "markdown",
      "metadata": {
        "id": "Yh0WOlDSQG5_"
      },
      "source": [
        ""
      ]
    },
    {
      "cell_type": "markdown",
      "metadata": {
        "id": "xLdZsQRQQICm"
      },
      "source": [
        "## 12. What is the difference between a model parameter and a learning algorithm’s hyperparameter?"
      ]
    },
    {
      "cell_type": "markdown",
      "metadata": {
        "id": "Cvj13kuYQKxH"
      },
      "source": [
        ""
      ]
    },
    {
      "cell_type": "markdown",
      "metadata": {
        "id": "h57Bs0K3QLeA"
      },
      "source": [
        "## 13. What do model-based learning algorithms search for? What is the most common strategy they use to succeed? How do they make predictions?"
      ]
    },
    {
      "cell_type": "markdown",
      "metadata": {
        "id": "KNX03lRLQUIe"
      },
      "source": [
        ""
      ]
    },
    {
      "cell_type": "markdown",
      "metadata": {
        "id": "FPGUKjadQUsP"
      },
      "source": [
        "## 14. Can you name four of the main challenges in Machine Learning?"
      ]
    },
    {
      "cell_type": "markdown",
      "metadata": {
        "id": "NCWIKs9nQXFy"
      },
      "source": [
        ""
      ]
    },
    {
      "cell_type": "markdown",
      "metadata": {
        "id": "ehNifMlvQXYw"
      },
      "source": [
        "## 15. If your model performs great on the training data but generalizes poorly to new instances, what is happening? Can you name three possible solutions?"
      ]
    },
    {
      "cell_type": "markdown",
      "metadata": {
        "id": "8QVxOagzQbBf"
      },
      "source": [
        "Overfitting; Use Other Models, Obtain More Data, Fine Tune the Model (?)"
      ]
    },
    {
      "cell_type": "markdown",
      "metadata": {
        "id": "IpqudRE3QlB_"
      },
      "source": [
        "## 16. What is a test set and why would you want to use it?"
      ]
    },
    {
      "cell_type": "markdown",
      "metadata": {
        "id": "JQ1S0ikSQnzW"
      },
      "source": [
        ""
      ]
    },
    {
      "cell_type": "markdown",
      "metadata": {
        "id": "8-RhKBFNQoMu"
      },
      "source": [
        "## 17. What is the purpose of a validation set?"
      ]
    },
    {
      "cell_type": "markdown",
      "metadata": {
        "id": "zd4-vQAXQqR-"
      },
      "source": [
        ""
      ]
    },
    {
      "cell_type": "markdown",
      "metadata": {
        "id": "qpqp6ABnQqem"
      },
      "source": [
        "## 18. What can go wrong if you tune hyperparameters using the test set?"
      ]
    },
    {
      "cell_type": "markdown",
      "metadata": {
        "id": "JuhTeleCQtLO"
      },
      "source": [
        ""
      ]
    },
    {
      "cell_type": "markdown",
      "metadata": {
        "id": "OnrHATB0Qtaf"
      },
      "source": [
        "## 19. What is cross-validation and why would you prefer it to a validation set?"
      ]
    },
    {
      "cell_type": "markdown",
      "metadata": {
        "id": "QqCssAtaQwXG"
      },
      "source": [
        ""
      ]
    }
  ]
}
