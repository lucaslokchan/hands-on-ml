{
  "nbformat": 4,
  "nbformat_minor": 0,
  "metadata": {
    "colab": {
      "name": "5.Getting Started with pandas.ipynb",
      "provenance": [],
      "collapsed_sections": [],
      "authorship_tag": "ABX9TyOLGVESMktVAhVNn4Xo25Er"
    },
    "kernelspec": {
      "name": "python3",
      "display_name": "Python 3"
    },
    "language_info": {
      "name": "python"
    }
  },
  "cells": [
    {
      "cell_type": "markdown",
      "metadata": {
        "id": "ve_r0B-Pmkjx"
      },
      "source": [
        "# 5.1 Introduction to pandas Data Structures"
      ]
    },
    {
      "cell_type": "markdown",
      "metadata": {
        "id": "C-2psSVPm_RA"
      },
      "source": [
        "## Series"
      ]
    },
    {
      "cell_type": "markdown",
      "metadata": {
        "id": "k1sX71aknAhP"
      },
      "source": [
        "A Series is a **one-dimensional array-like object containing a sequence of values (of similar types to NumPy types) and an associated array of data labels, called its index**\n",
        "\n",
        "The simplest Series is formed from only an array of data:"
      ]
    },
    {
      "cell_type": "code",
      "metadata": {
        "id": "sAc9V5nooNw5"
      },
      "source": [
        "import pandas as pd"
      ],
      "execution_count": 256,
      "outputs": []
    },
    {
      "cell_type": "code",
      "metadata": {
        "id": "uGFadLcQmAXN"
      },
      "source": [
        "obj = pd.Series([4, 7, -5, 3])"
      ],
      "execution_count": 257,
      "outputs": []
    },
    {
      "cell_type": "code",
      "metadata": {
        "colab": {
          "base_uri": "https://localhost:8080/"
        },
        "id": "vHCa63iioanI",
        "outputId": "a1c7bc57-d235-49de-df6e-eb1f9780ca92"
      },
      "source": [
        "obj"
      ],
      "execution_count": 258,
      "outputs": [
        {
          "output_type": "execute_result",
          "data": {
            "text/plain": [
              "0    4\n",
              "1    7\n",
              "2   -5\n",
              "3    3\n",
              "dtype: int64"
            ]
          },
          "metadata": {},
          "execution_count": 258
        }
      ]
    },
    {
      "cell_type": "markdown",
      "metadata": {
        "id": "edLA9Tt1oSRA"
      },
      "source": [
        "The string representation of a Series displayed interactively shows the **index on the left and the values on the right**\n",
        "\n",
        "Since we did not specify an index for the data, a default one consisting of the integers 0 through N - 1\n",
        "\n",
        "You can get the array representation and index object of the Series via its values and index attributes, respectively:"
      ]
    },
    {
      "cell_type": "code",
      "metadata": {
        "colab": {
          "base_uri": "https://localhost:8080/"
        },
        "id": "Qwy8RVmkKIsU",
        "outputId": "4525e644-ded2-4084-99ef-9ea6472d946f"
      },
      "source": [
        "obj.values"
      ],
      "execution_count": 259,
      "outputs": [
        {
          "output_type": "execute_result",
          "data": {
            "text/plain": [
              "array([ 4,  7, -5,  3])"
            ]
          },
          "metadata": {},
          "execution_count": 259
        }
      ]
    },
    {
      "cell_type": "code",
      "metadata": {
        "colab": {
          "base_uri": "https://localhost:8080/"
        },
        "id": "AhqTW8MAKKvD",
        "outputId": "e9e4730f-6842-4a6a-9a36-95d5a8f88567"
      },
      "source": [
        "obj.index"
      ],
      "execution_count": 260,
      "outputs": [
        {
          "output_type": "execute_result",
          "data": {
            "text/plain": [
              "RangeIndex(start=0, stop=4, step=1)"
            ]
          },
          "metadata": {},
          "execution_count": 260
        }
      ]
    },
    {
      "cell_type": "markdown",
      "metadata": {
        "id": "cAsGBa7dKNSM"
      },
      "source": [
        "Often it will be desirable to create a Series with an index identifying each data point with a label:"
      ]
    },
    {
      "cell_type": "code",
      "metadata": {
        "id": "eqo2CqZoKQS7"
      },
      "source": [
        "obj2 = pd.Series([4, 7, -5, 3], index=['d', 'b', 'a', 'c'])"
      ],
      "execution_count": 261,
      "outputs": []
    },
    {
      "cell_type": "code",
      "metadata": {
        "colab": {
          "base_uri": "https://localhost:8080/"
        },
        "id": "Lh4OYRVnKZKk",
        "outputId": "53029daf-05f4-4eb1-f1f7-241979b0d7bc"
      },
      "source": [
        "obj2"
      ],
      "execution_count": 262,
      "outputs": [
        {
          "output_type": "execute_result",
          "data": {
            "text/plain": [
              "d    4\n",
              "b    7\n",
              "a   -5\n",
              "c    3\n",
              "dtype: int64"
            ]
          },
          "metadata": {},
          "execution_count": 262
        }
      ]
    },
    {
      "cell_type": "code",
      "metadata": {
        "colab": {
          "base_uri": "https://localhost:8080/"
        },
        "id": "VQPSPxjqKcK0",
        "outputId": "3838a676-02c8-4583-b6bd-e3eff015fd61"
      },
      "source": [
        "obj2.index"
      ],
      "execution_count": 263,
      "outputs": [
        {
          "output_type": "execute_result",
          "data": {
            "text/plain": [
              "Index(['d', 'b', 'a', 'c'], dtype='object')"
            ]
          },
          "metadata": {},
          "execution_count": 263
        }
      ]
    },
    {
      "cell_type": "markdown",
      "metadata": {
        "id": "UTP2J-OVKkWr"
      },
      "source": [
        "Compared with NumPy arrays, **you can use labels in the index when selecting single values or a set of values**:"
      ]
    },
    {
      "cell_type": "code",
      "metadata": {
        "colab": {
          "base_uri": "https://localhost:8080/"
        },
        "id": "8l6OFcj7KpFr",
        "outputId": "bbeb80fd-0484-41ec-8d99-c885fa917d42"
      },
      "source": [
        "obj2['a']"
      ],
      "execution_count": 264,
      "outputs": [
        {
          "output_type": "execute_result",
          "data": {
            "text/plain": [
              "-5"
            ]
          },
          "metadata": {},
          "execution_count": 264
        }
      ]
    },
    {
      "cell_type": "code",
      "metadata": {
        "colab": {
          "base_uri": "https://localhost:8080/"
        },
        "id": "qMdJwEPpKtWz",
        "outputId": "2d6f08ee-1f06-4ef9-958b-15ab949413e7"
      },
      "source": [
        "obj2['d']"
      ],
      "execution_count": 265,
      "outputs": [
        {
          "output_type": "execute_result",
          "data": {
            "text/plain": [
              "4"
            ]
          },
          "metadata": {},
          "execution_count": 265
        }
      ]
    },
    {
      "cell_type": "code",
      "metadata": {
        "colab": {
          "base_uri": "https://localhost:8080/"
        },
        "id": "fRvnNfxHLPLL",
        "outputId": "1dd753cc-2ad7-4455-d2bf-9853b5e03f9f"
      },
      "source": [
        "obj2[['c', 'a', 'd']]"
      ],
      "execution_count": 266,
      "outputs": [
        {
          "output_type": "execute_result",
          "data": {
            "text/plain": [
              "c    3\n",
              "a   -5\n",
              "d    4\n",
              "dtype: int64"
            ]
          },
          "metadata": {},
          "execution_count": 266
        }
      ]
    },
    {
      "cell_type": "markdown",
      "metadata": {
        "id": "jo_zdkJjLYus"
      },
      "source": [
        "Here ['c', 'a', 'd'] is interpreted as a list of indices, even though it contains strings instead of integers\n",
        "\n",
        "Using NumPy functions or NumPy-like operations, such as filtering with a boolean array, scalar multiplication, or applying math functions, will preserve the index-value link:"
      ]
    },
    {
      "cell_type": "code",
      "metadata": {
        "colab": {
          "base_uri": "https://localhost:8080/"
        },
        "id": "ZDZUpp-uLnjD",
        "outputId": "4d9e60c5-b8e4-4bbc-90f4-2d3d250773e8"
      },
      "source": [
        "obj2[obj2 > 0]"
      ],
      "execution_count": 267,
      "outputs": [
        {
          "output_type": "execute_result",
          "data": {
            "text/plain": [
              "d    4\n",
              "b    7\n",
              "c    3\n",
              "dtype: int64"
            ]
          },
          "metadata": {},
          "execution_count": 267
        }
      ]
    },
    {
      "cell_type": "code",
      "metadata": {
        "colab": {
          "base_uri": "https://localhost:8080/"
        },
        "id": "yBHkKtsSLr2k",
        "outputId": "7621df69-1ffe-4298-b5eb-8023954534b6"
      },
      "source": [
        "obj2 * 2"
      ],
      "execution_count": 268,
      "outputs": [
        {
          "output_type": "execute_result",
          "data": {
            "text/plain": [
              "d     8\n",
              "b    14\n",
              "a   -10\n",
              "c     6\n",
              "dtype: int64"
            ]
          },
          "metadata": {},
          "execution_count": 268
        }
      ]
    },
    {
      "cell_type": "code",
      "metadata": {
        "colab": {
          "base_uri": "https://localhost:8080/"
        },
        "id": "SoBWYxJ4LuoG",
        "outputId": "efc7f8aa-d66a-48d4-8392-df3db106bcbf"
      },
      "source": [
        "import numpy as np\n",
        "np.exp(obj2)"
      ],
      "execution_count": 269,
      "outputs": [
        {
          "output_type": "execute_result",
          "data": {
            "text/plain": [
              "d      54.598150\n",
              "b    1096.633158\n",
              "a       0.006738\n",
              "c      20.085537\n",
              "dtype: float64"
            ]
          },
          "metadata": {},
          "execution_count": 269
        }
      ]
    },
    {
      "cell_type": "markdown",
      "metadata": {
        "id": "1n5PaggSNN7-"
      },
      "source": [
        "Another way to think about a Series is as a fixed-length, ordered dict, as it is a mapping of index values to data values\n",
        "\n",
        "It can be used in many contexts where you might use a dict:"
      ]
    },
    {
      "cell_type": "code",
      "metadata": {
        "colab": {
          "base_uri": "https://localhost:8080/"
        },
        "id": "WKFJGuvxLx-D",
        "outputId": "749addfb-8c2f-4940-8d50-364ac9e87d22"
      },
      "source": [
        "'b' in obj2"
      ],
      "execution_count": 270,
      "outputs": [
        {
          "output_type": "execute_result",
          "data": {
            "text/plain": [
              "True"
            ]
          },
          "metadata": {},
          "execution_count": 270
        }
      ]
    },
    {
      "cell_type": "code",
      "metadata": {
        "colab": {
          "base_uri": "https://localhost:8080/"
        },
        "id": "30uxwyGvNWL8",
        "outputId": "73d991e4-f654-4cca-cce3-53d558d52e4f"
      },
      "source": [
        "'e' in obj2"
      ],
      "execution_count": 271,
      "outputs": [
        {
          "output_type": "execute_result",
          "data": {
            "text/plain": [
              "False"
            ]
          },
          "metadata": {},
          "execution_count": 271
        }
      ]
    },
    {
      "cell_type": "markdown",
      "metadata": {
        "id": "pEkLs3vVNYfz"
      },
      "source": [
        "Should you have data contained in a Python dict, you can **create a Series from it by passing the dict**:"
      ]
    },
    {
      "cell_type": "code",
      "metadata": {
        "id": "GsGbzubiNd8D"
      },
      "source": [
        "sdata = {'Ohio': 35000, 'Texas': 71000, 'Oregon': 16000, 'Utah': 5000}"
      ],
      "execution_count": 272,
      "outputs": []
    },
    {
      "cell_type": "code",
      "metadata": {
        "id": "hOo3bLtLNgfz"
      },
      "source": [
        "obj3 = pd.Series(sdata)"
      ],
      "execution_count": 273,
      "outputs": []
    },
    {
      "cell_type": "code",
      "metadata": {
        "id": "lxXz9SXPNieU",
        "colab": {
          "base_uri": "https://localhost:8080/"
        },
        "outputId": "ff1bf2df-9f68-47d9-b0fd-a582542559c9"
      },
      "source": [
        "obj3"
      ],
      "execution_count": 274,
      "outputs": [
        {
          "output_type": "execute_result",
          "data": {
            "text/plain": [
              "Ohio      35000\n",
              "Texas     71000\n",
              "Oregon    16000\n",
              "Utah       5000\n",
              "dtype: int64"
            ]
          },
          "metadata": {},
          "execution_count": 274
        }
      ]
    },
    {
      "cell_type": "markdown",
      "metadata": {
        "id": "uYGSPJhYodMV"
      },
      "source": [
        "When you are only passing a dict, the index in the resulting Series will have the dict’s keys in sorted order\n",
        "\n",
        "You can override this by passing the dict keys in the order you want them to appear in the resulting Series:"
      ]
    },
    {
      "cell_type": "code",
      "metadata": {
        "id": "74Gm7k-SomwN"
      },
      "source": [
        "states = ['California', 'Ohio', 'Oregon', 'Texas']"
      ],
      "execution_count": 275,
      "outputs": []
    },
    {
      "cell_type": "code",
      "metadata": {
        "id": "rc-cbdl7osRV"
      },
      "source": [
        "obj4 = pd.Series(sdata, index=states)"
      ],
      "execution_count": 276,
      "outputs": []
    },
    {
      "cell_type": "code",
      "metadata": {
        "colab": {
          "base_uri": "https://localhost:8080/"
        },
        "id": "j0wsYKOuo0v2",
        "outputId": "69890215-b15d-43a3-b012-935416002a2c"
      },
      "source": [
        "obj4"
      ],
      "execution_count": 277,
      "outputs": [
        {
          "output_type": "execute_result",
          "data": {
            "text/plain": [
              "California        NaN\n",
              "Ohio          35000.0\n",
              "Oregon        16000.0\n",
              "Texas         71000.0\n",
              "dtype: float64"
            ]
          },
          "metadata": {},
          "execution_count": 277
        }
      ]
    },
    {
      "cell_type": "markdown",
      "metadata": {
        "id": "1fuLeDLVuNld"
      },
      "source": [
        "Here, three values found in sdata were placed in the appropriate locations, but since no value for 'California' was found, it appears as NaN (not a number), which is considered in pandas to mark missing or NA values\n",
        "\n",
        "Since 'Utah' was not included in states, it is excluded from the resulting object\n",
        "\n",
        "**The isnull and notnull functions in pandas should be used to detect missing data:**"
      ]
    },
    {
      "cell_type": "code",
      "metadata": {
        "colab": {
          "base_uri": "https://localhost:8080/"
        },
        "id": "CIF0acNGxHEl",
        "outputId": "74221446-f4bd-4c60-91b6-71ee7fe55183"
      },
      "source": [
        "pd.isnull(obj4)"
      ],
      "execution_count": 278,
      "outputs": [
        {
          "output_type": "execute_result",
          "data": {
            "text/plain": [
              "California     True\n",
              "Ohio          False\n",
              "Oregon        False\n",
              "Texas         False\n",
              "dtype: bool"
            ]
          },
          "metadata": {},
          "execution_count": 278
        }
      ]
    },
    {
      "cell_type": "code",
      "metadata": {
        "colab": {
          "base_uri": "https://localhost:8080/"
        },
        "id": "y-2a8EqJxOOG",
        "outputId": "555b190c-411e-4c6f-c2e3-e6e8e05c991b"
      },
      "source": [
        "pd.notnull(obj4)"
      ],
      "execution_count": 279,
      "outputs": [
        {
          "output_type": "execute_result",
          "data": {
            "text/plain": [
              "California    False\n",
              "Ohio           True\n",
              "Oregon         True\n",
              "Texas          True\n",
              "dtype: bool"
            ]
          },
          "metadata": {},
          "execution_count": 279
        }
      ]
    },
    {
      "cell_type": "markdown",
      "metadata": {
        "id": "nxE7MPBxxTfl"
      },
      "source": [
        "Series also has these as instance methods:"
      ]
    },
    {
      "cell_type": "code",
      "metadata": {
        "colab": {
          "base_uri": "https://localhost:8080/"
        },
        "id": "sBOX_fGfxT5N",
        "outputId": "2c5d8703-5917-46bc-9235-c8e767fc527e"
      },
      "source": [
        "obj4.isnull()"
      ],
      "execution_count": 280,
      "outputs": [
        {
          "output_type": "execute_result",
          "data": {
            "text/plain": [
              "California     True\n",
              "Ohio          False\n",
              "Oregon        False\n",
              "Texas         False\n",
              "dtype: bool"
            ]
          },
          "metadata": {},
          "execution_count": 280
        }
      ]
    },
    {
      "cell_type": "markdown",
      "metadata": {
        "id": "FKxX7JFox_-d"
      },
      "source": [
        "A useful Series feature for many applications is that it automatically aligns by index label in arithmetic operations:"
      ]
    },
    {
      "cell_type": "code",
      "metadata": {
        "colab": {
          "base_uri": "https://localhost:8080/"
        },
        "id": "Lx29cgAfyC3O",
        "outputId": "9bd37be5-a353-4e7a-e3e1-695538b542eb"
      },
      "source": [
        "obj3"
      ],
      "execution_count": 281,
      "outputs": [
        {
          "output_type": "execute_result",
          "data": {
            "text/plain": [
              "Ohio      35000\n",
              "Texas     71000\n",
              "Oregon    16000\n",
              "Utah       5000\n",
              "dtype: int64"
            ]
          },
          "metadata": {},
          "execution_count": 281
        }
      ]
    },
    {
      "cell_type": "code",
      "metadata": {
        "colab": {
          "base_uri": "https://localhost:8080/"
        },
        "id": "qG5i47O_yFaV",
        "outputId": "b3fe27a4-490f-4d85-fcc3-b5563757bb57"
      },
      "source": [
        "obj4"
      ],
      "execution_count": 282,
      "outputs": [
        {
          "output_type": "execute_result",
          "data": {
            "text/plain": [
              "California        NaN\n",
              "Ohio          35000.0\n",
              "Oregon        16000.0\n",
              "Texas         71000.0\n",
              "dtype: float64"
            ]
          },
          "metadata": {},
          "execution_count": 282
        }
      ]
    },
    {
      "cell_type": "code",
      "metadata": {
        "colab": {
          "base_uri": "https://localhost:8080/"
        },
        "id": "PYap5yKZyJyF",
        "outputId": "988cbb85-c548-458a-a673-cc042beb7763"
      },
      "source": [
        "obj3 + obj4"
      ],
      "execution_count": 283,
      "outputs": [
        {
          "output_type": "execute_result",
          "data": {
            "text/plain": [
              "California         NaN\n",
              "Ohio           70000.0\n",
              "Oregon         32000.0\n",
              "Texas         142000.0\n",
              "Utah               NaN\n",
              "dtype: float64"
            ]
          },
          "metadata": {},
          "execution_count": 283
        }
      ]
    },
    {
      "cell_type": "markdown",
      "metadata": {
        "id": "oc7dGu2WyUnS"
      },
      "source": [
        "Both the Series object itself and its index have a name attribute, which integrates with other key areas of pandas functionality:"
      ]
    },
    {
      "cell_type": "code",
      "metadata": {
        "id": "9p7ysXp5yYO3"
      },
      "source": [
        "obj4.name = 'population'"
      ],
      "execution_count": 284,
      "outputs": []
    },
    {
      "cell_type": "code",
      "metadata": {
        "id": "O9riVHA0ybO2"
      },
      "source": [
        "obj4.index.name = 'state'"
      ],
      "execution_count": 285,
      "outputs": []
    },
    {
      "cell_type": "code",
      "metadata": {
        "colab": {
          "base_uri": "https://localhost:8080/"
        },
        "id": "5mUWumcUyfHV",
        "outputId": "ef906d01-94d7-4890-ae9a-b7c38573af31"
      },
      "source": [
        "obj4"
      ],
      "execution_count": 286,
      "outputs": [
        {
          "output_type": "execute_result",
          "data": {
            "text/plain": [
              "state\n",
              "California        NaN\n",
              "Ohio          35000.0\n",
              "Oregon        16000.0\n",
              "Texas         71000.0\n",
              "Name: population, dtype: float64"
            ]
          },
          "metadata": {},
          "execution_count": 286
        }
      ]
    },
    {
      "cell_type": "markdown",
      "metadata": {
        "id": "BJ-w_d3myjE9"
      },
      "source": [
        "A Series’s index can be altered in-place by assignment:"
      ]
    },
    {
      "cell_type": "code",
      "metadata": {
        "colab": {
          "base_uri": "https://localhost:8080/"
        },
        "id": "SWdXjNaNyrs2",
        "outputId": "319918d5-bb77-4019-a21f-f8da2fedbb28"
      },
      "source": [
        "obj"
      ],
      "execution_count": 287,
      "outputs": [
        {
          "output_type": "execute_result",
          "data": {
            "text/plain": [
              "0    4\n",
              "1    7\n",
              "2   -5\n",
              "3    3\n",
              "dtype: int64"
            ]
          },
          "metadata": {},
          "execution_count": 287
        }
      ]
    },
    {
      "cell_type": "code",
      "metadata": {
        "id": "awlmvgHNyuJG"
      },
      "source": [
        "obj.index = ['Bob', 'Steve', 'Jeff', 'Ryan']"
      ],
      "execution_count": 288,
      "outputs": []
    },
    {
      "cell_type": "code",
      "metadata": {
        "colab": {
          "base_uri": "https://localhost:8080/"
        },
        "id": "2Tp0FRa-yzLl",
        "outputId": "2b3656d8-c6ad-4c13-b9c6-0e3a34bdf0b1"
      },
      "source": [
        "obj"
      ],
      "execution_count": 289,
      "outputs": [
        {
          "output_type": "execute_result",
          "data": {
            "text/plain": [
              "Bob      4\n",
              "Steve    7\n",
              "Jeff    -5\n",
              "Ryan     3\n",
              "dtype: int64"
            ]
          },
          "metadata": {},
          "execution_count": 289
        }
      ]
    },
    {
      "cell_type": "markdown",
      "metadata": {
        "id": "05H1EmE3y6Mz"
      },
      "source": [
        "## DataFrame"
      ]
    },
    {
      "cell_type": "markdown",
      "metadata": {
        "id": "PTbREeU6y8Dd"
      },
      "source": [
        "A DataFrame represents a rectangular table of data and contains an ordered collection of columns, each of which can be a different value type\n",
        "\n",
        "The DataFrame has both a row and column index; it can be thought of as a dict of Series all sharing the same index\n",
        "\n",
        "Under the hood, **the data is stored as one or more two-dimensional blocks** rather than a list, dict, or some other collection of one-dimensional arrays\n",
        "\n",
        "There are many ways to construct a DataFrame, though one of the most common is **from a dict of equal-length lists or NumPy arrays**:"
      ]
    },
    {
      "cell_type": "code",
      "metadata": {
        "id": "BUfpe6CszEQd"
      },
      "source": [
        "data = {'state': ['Ohio', 'Ohio', 'Ohio', 'Nevada', 'Nevada', 'Nevada'],\n",
        "'year': [2000, 2001, 2002, 2001, 2002, 2003],\n",
        "'pop': [1.5, 1.7, 3.6, 2.4, 2.9, 3.2]}"
      ],
      "execution_count": 290,
      "outputs": []
    },
    {
      "cell_type": "code",
      "metadata": {
        "id": "EUpOTU2Sz8pW"
      },
      "source": [
        "frame = pd.DataFrame(data)"
      ],
      "execution_count": 291,
      "outputs": []
    },
    {
      "cell_type": "markdown",
      "metadata": {
        "id": "k0jrj1T_0C2n"
      },
      "source": [
        "The resulting DataFrame will have its index assigned automatically as with Series, and the columns are placed in sorted order:"
      ]
    },
    {
      "cell_type": "code",
      "metadata": {
        "colab": {
          "base_uri": "https://localhost:8080/",
          "height": 235
        },
        "id": "phJIoHNQz-7V",
        "outputId": "53ea7ee6-5264-42d1-fcad-2d4e61e2abb6"
      },
      "source": [
        "frame"
      ],
      "execution_count": 292,
      "outputs": [
        {
          "output_type": "execute_result",
          "data": {
            "text/html": [
              "<div>\n",
              "<style scoped>\n",
              "    .dataframe tbody tr th:only-of-type {\n",
              "        vertical-align: middle;\n",
              "    }\n",
              "\n",
              "    .dataframe tbody tr th {\n",
              "        vertical-align: top;\n",
              "    }\n",
              "\n",
              "    .dataframe thead th {\n",
              "        text-align: right;\n",
              "    }\n",
              "</style>\n",
              "<table border=\"1\" class=\"dataframe\">\n",
              "  <thead>\n",
              "    <tr style=\"text-align: right;\">\n",
              "      <th></th>\n",
              "      <th>state</th>\n",
              "      <th>year</th>\n",
              "      <th>pop</th>\n",
              "    </tr>\n",
              "  </thead>\n",
              "  <tbody>\n",
              "    <tr>\n",
              "      <th>0</th>\n",
              "      <td>Ohio</td>\n",
              "      <td>2000</td>\n",
              "      <td>1.5</td>\n",
              "    </tr>\n",
              "    <tr>\n",
              "      <th>1</th>\n",
              "      <td>Ohio</td>\n",
              "      <td>2001</td>\n",
              "      <td>1.7</td>\n",
              "    </tr>\n",
              "    <tr>\n",
              "      <th>2</th>\n",
              "      <td>Ohio</td>\n",
              "      <td>2002</td>\n",
              "      <td>3.6</td>\n",
              "    </tr>\n",
              "    <tr>\n",
              "      <th>3</th>\n",
              "      <td>Nevada</td>\n",
              "      <td>2001</td>\n",
              "      <td>2.4</td>\n",
              "    </tr>\n",
              "    <tr>\n",
              "      <th>4</th>\n",
              "      <td>Nevada</td>\n",
              "      <td>2002</td>\n",
              "      <td>2.9</td>\n",
              "    </tr>\n",
              "    <tr>\n",
              "      <th>5</th>\n",
              "      <td>Nevada</td>\n",
              "      <td>2003</td>\n",
              "      <td>3.2</td>\n",
              "    </tr>\n",
              "  </tbody>\n",
              "</table>\n",
              "</div>"
            ],
            "text/plain": [
              "    state  year  pop\n",
              "0    Ohio  2000  1.5\n",
              "1    Ohio  2001  1.7\n",
              "2    Ohio  2002  3.6\n",
              "3  Nevada  2001  2.4\n",
              "4  Nevada  2002  2.9\n",
              "5  Nevada  2003  3.2"
            ]
          },
          "metadata": {},
          "execution_count": 292
        }
      ]
    },
    {
      "cell_type": "markdown",
      "metadata": {
        "id": "cbjWEMT20Lru"
      },
      "source": [
        "For large DataFrames, the head method selects only the first five rows:"
      ]
    },
    {
      "cell_type": "code",
      "metadata": {
        "colab": {
          "base_uri": "https://localhost:8080/",
          "height": 204
        },
        "id": "Q1Wvou680QLN",
        "outputId": "bc0fa3ae-626e-4d48-8fb3-52600fd9c5dc"
      },
      "source": [
        "frame.head()"
      ],
      "execution_count": 293,
      "outputs": [
        {
          "output_type": "execute_result",
          "data": {
            "text/html": [
              "<div>\n",
              "<style scoped>\n",
              "    .dataframe tbody tr th:only-of-type {\n",
              "        vertical-align: middle;\n",
              "    }\n",
              "\n",
              "    .dataframe tbody tr th {\n",
              "        vertical-align: top;\n",
              "    }\n",
              "\n",
              "    .dataframe thead th {\n",
              "        text-align: right;\n",
              "    }\n",
              "</style>\n",
              "<table border=\"1\" class=\"dataframe\">\n",
              "  <thead>\n",
              "    <tr style=\"text-align: right;\">\n",
              "      <th></th>\n",
              "      <th>state</th>\n",
              "      <th>year</th>\n",
              "      <th>pop</th>\n",
              "    </tr>\n",
              "  </thead>\n",
              "  <tbody>\n",
              "    <tr>\n",
              "      <th>0</th>\n",
              "      <td>Ohio</td>\n",
              "      <td>2000</td>\n",
              "      <td>1.5</td>\n",
              "    </tr>\n",
              "    <tr>\n",
              "      <th>1</th>\n",
              "      <td>Ohio</td>\n",
              "      <td>2001</td>\n",
              "      <td>1.7</td>\n",
              "    </tr>\n",
              "    <tr>\n",
              "      <th>2</th>\n",
              "      <td>Ohio</td>\n",
              "      <td>2002</td>\n",
              "      <td>3.6</td>\n",
              "    </tr>\n",
              "    <tr>\n",
              "      <th>3</th>\n",
              "      <td>Nevada</td>\n",
              "      <td>2001</td>\n",
              "      <td>2.4</td>\n",
              "    </tr>\n",
              "    <tr>\n",
              "      <th>4</th>\n",
              "      <td>Nevada</td>\n",
              "      <td>2002</td>\n",
              "      <td>2.9</td>\n",
              "    </tr>\n",
              "  </tbody>\n",
              "</table>\n",
              "</div>"
            ],
            "text/plain": [
              "    state  year  pop\n",
              "0    Ohio  2000  1.5\n",
              "1    Ohio  2001  1.7\n",
              "2    Ohio  2002  3.6\n",
              "3  Nevada  2001  2.4\n",
              "4  Nevada  2002  2.9"
            ]
          },
          "metadata": {},
          "execution_count": 293
        }
      ]
    },
    {
      "cell_type": "markdown",
      "metadata": {
        "id": "0G2miH1v0Sxt"
      },
      "source": [
        "If you specify a sequence of columns, the DataFrame’s columns will be arranged in that order:"
      ]
    },
    {
      "cell_type": "code",
      "metadata": {
        "colab": {
          "base_uri": "https://localhost:8080/",
          "height": 235
        },
        "id": "7Qr2RX270R1n",
        "outputId": "01139af6-c6ce-4248-c69e-c12f8f730c7f"
      },
      "source": [
        "pd.DataFrame(data, columns=['year', 'state', 'pop'])"
      ],
      "execution_count": 294,
      "outputs": [
        {
          "output_type": "execute_result",
          "data": {
            "text/html": [
              "<div>\n",
              "<style scoped>\n",
              "    .dataframe tbody tr th:only-of-type {\n",
              "        vertical-align: middle;\n",
              "    }\n",
              "\n",
              "    .dataframe tbody tr th {\n",
              "        vertical-align: top;\n",
              "    }\n",
              "\n",
              "    .dataframe thead th {\n",
              "        text-align: right;\n",
              "    }\n",
              "</style>\n",
              "<table border=\"1\" class=\"dataframe\">\n",
              "  <thead>\n",
              "    <tr style=\"text-align: right;\">\n",
              "      <th></th>\n",
              "      <th>year</th>\n",
              "      <th>state</th>\n",
              "      <th>pop</th>\n",
              "    </tr>\n",
              "  </thead>\n",
              "  <tbody>\n",
              "    <tr>\n",
              "      <th>0</th>\n",
              "      <td>2000</td>\n",
              "      <td>Ohio</td>\n",
              "      <td>1.5</td>\n",
              "    </tr>\n",
              "    <tr>\n",
              "      <th>1</th>\n",
              "      <td>2001</td>\n",
              "      <td>Ohio</td>\n",
              "      <td>1.7</td>\n",
              "    </tr>\n",
              "    <tr>\n",
              "      <th>2</th>\n",
              "      <td>2002</td>\n",
              "      <td>Ohio</td>\n",
              "      <td>3.6</td>\n",
              "    </tr>\n",
              "    <tr>\n",
              "      <th>3</th>\n",
              "      <td>2001</td>\n",
              "      <td>Nevada</td>\n",
              "      <td>2.4</td>\n",
              "    </tr>\n",
              "    <tr>\n",
              "      <th>4</th>\n",
              "      <td>2002</td>\n",
              "      <td>Nevada</td>\n",
              "      <td>2.9</td>\n",
              "    </tr>\n",
              "    <tr>\n",
              "      <th>5</th>\n",
              "      <td>2003</td>\n",
              "      <td>Nevada</td>\n",
              "      <td>3.2</td>\n",
              "    </tr>\n",
              "  </tbody>\n",
              "</table>\n",
              "</div>"
            ],
            "text/plain": [
              "   year   state  pop\n",
              "0  2000    Ohio  1.5\n",
              "1  2001    Ohio  1.7\n",
              "2  2002    Ohio  3.6\n",
              "3  2001  Nevada  2.4\n",
              "4  2002  Nevada  2.9\n",
              "5  2003  Nevada  3.2"
            ]
          },
          "metadata": {},
          "execution_count": 294
        }
      ]
    },
    {
      "cell_type": "markdown",
      "metadata": {
        "id": "slSB1_g40idv"
      },
      "source": [
        "If you pass a column that isn’t contained in the dict, it will appear with missing values in the result:"
      ]
    },
    {
      "cell_type": "code",
      "metadata": {
        "id": "SfMt62mM0l1d"
      },
      "source": [
        "frame2 = pd.DataFrame(data, columns=['year', 'state', 'pop', 'debt'],\n",
        "                      index=['one', 'two', 'three', 'four',\n",
        "                      'five', 'six'])"
      ],
      "execution_count": 295,
      "outputs": []
    },
    {
      "cell_type": "code",
      "metadata": {
        "colab": {
          "base_uri": "https://localhost:8080/",
          "height": 235
        },
        "id": "0MjLYxgT0w5M",
        "outputId": "551aa586-2835-4c82-e1ce-a820528736ae"
      },
      "source": [
        "frame2"
      ],
      "execution_count": 296,
      "outputs": [
        {
          "output_type": "execute_result",
          "data": {
            "text/html": [
              "<div>\n",
              "<style scoped>\n",
              "    .dataframe tbody tr th:only-of-type {\n",
              "        vertical-align: middle;\n",
              "    }\n",
              "\n",
              "    .dataframe tbody tr th {\n",
              "        vertical-align: top;\n",
              "    }\n",
              "\n",
              "    .dataframe thead th {\n",
              "        text-align: right;\n",
              "    }\n",
              "</style>\n",
              "<table border=\"1\" class=\"dataframe\">\n",
              "  <thead>\n",
              "    <tr style=\"text-align: right;\">\n",
              "      <th></th>\n",
              "      <th>year</th>\n",
              "      <th>state</th>\n",
              "      <th>pop</th>\n",
              "      <th>debt</th>\n",
              "    </tr>\n",
              "  </thead>\n",
              "  <tbody>\n",
              "    <tr>\n",
              "      <th>one</th>\n",
              "      <td>2000</td>\n",
              "      <td>Ohio</td>\n",
              "      <td>1.5</td>\n",
              "      <td>NaN</td>\n",
              "    </tr>\n",
              "    <tr>\n",
              "      <th>two</th>\n",
              "      <td>2001</td>\n",
              "      <td>Ohio</td>\n",
              "      <td>1.7</td>\n",
              "      <td>NaN</td>\n",
              "    </tr>\n",
              "    <tr>\n",
              "      <th>three</th>\n",
              "      <td>2002</td>\n",
              "      <td>Ohio</td>\n",
              "      <td>3.6</td>\n",
              "      <td>NaN</td>\n",
              "    </tr>\n",
              "    <tr>\n",
              "      <th>four</th>\n",
              "      <td>2001</td>\n",
              "      <td>Nevada</td>\n",
              "      <td>2.4</td>\n",
              "      <td>NaN</td>\n",
              "    </tr>\n",
              "    <tr>\n",
              "      <th>five</th>\n",
              "      <td>2002</td>\n",
              "      <td>Nevada</td>\n",
              "      <td>2.9</td>\n",
              "      <td>NaN</td>\n",
              "    </tr>\n",
              "    <tr>\n",
              "      <th>six</th>\n",
              "      <td>2003</td>\n",
              "      <td>Nevada</td>\n",
              "      <td>3.2</td>\n",
              "      <td>NaN</td>\n",
              "    </tr>\n",
              "  </tbody>\n",
              "</table>\n",
              "</div>"
            ],
            "text/plain": [
              "       year   state  pop debt\n",
              "one    2000    Ohio  1.5  NaN\n",
              "two    2001    Ohio  1.7  NaN\n",
              "three  2002    Ohio  3.6  NaN\n",
              "four   2001  Nevada  2.4  NaN\n",
              "five   2002  Nevada  2.9  NaN\n",
              "six    2003  Nevada  3.2  NaN"
            ]
          },
          "metadata": {},
          "execution_count": 296
        }
      ]
    },
    {
      "cell_type": "code",
      "metadata": {
        "colab": {
          "base_uri": "https://localhost:8080/"
        },
        "id": "e_xpJvhF026W",
        "outputId": "9217f2ba-3d70-4f2c-e676-cc82d12bc743"
      },
      "source": [
        "frame2.columns"
      ],
      "execution_count": 297,
      "outputs": [
        {
          "output_type": "execute_result",
          "data": {
            "text/plain": [
              "Index(['year', 'state', 'pop', 'debt'], dtype='object')"
            ]
          },
          "metadata": {},
          "execution_count": 297
        }
      ]
    },
    {
      "cell_type": "markdown",
      "metadata": {
        "id": "kdJipE1K05iD"
      },
      "source": [
        "A column in a DataFrame can be retrieved as a Series either by dict-like notation or by attribute:"
      ]
    },
    {
      "cell_type": "code",
      "metadata": {
        "colab": {
          "base_uri": "https://localhost:8080/"
        },
        "id": "fhAyqptv0-xz",
        "outputId": "158fb489-1b51-4860-f877-919b04ec73d1"
      },
      "source": [
        "frame2['state']"
      ],
      "execution_count": 298,
      "outputs": [
        {
          "output_type": "execute_result",
          "data": {
            "text/plain": [
              "one        Ohio\n",
              "two        Ohio\n",
              "three      Ohio\n",
              "four     Nevada\n",
              "five     Nevada\n",
              "six      Nevada\n",
              "Name: state, dtype: object"
            ]
          },
          "metadata": {},
          "execution_count": 298
        }
      ]
    },
    {
      "cell_type": "code",
      "metadata": {
        "colab": {
          "base_uri": "https://localhost:8080/"
        },
        "id": "2OtRWKjL1E87",
        "outputId": "c92852b1-dd78-49c6-e00c-8b12190a2a9a"
      },
      "source": [
        "frame2.year"
      ],
      "execution_count": 299,
      "outputs": [
        {
          "output_type": "execute_result",
          "data": {
            "text/plain": [
              "one      2000\n",
              "two      2001\n",
              "three    2002\n",
              "four     2001\n",
              "five     2002\n",
              "six      2003\n",
              "Name: year, dtype: int64"
            ]
          },
          "metadata": {},
          "execution_count": 299
        }
      ]
    },
    {
      "cell_type": "markdown",
      "metadata": {
        "id": "zpndPgKr1PQ1"
      },
      "source": [
        "Note that the returned Series have the same index as the DataFrame, and their name attribute has been appropriately set\n",
        "\n",
        "Rows can also be retrieved by position or name with the special loc attribute:"
      ]
    },
    {
      "cell_type": "code",
      "metadata": {
        "colab": {
          "base_uri": "https://localhost:8080/"
        },
        "id": "1LSP5rBw1glt",
        "outputId": "8d12f54d-952f-45f2-874f-029a6987daa2"
      },
      "source": [
        "frame2.loc['three']"
      ],
      "execution_count": 300,
      "outputs": [
        {
          "output_type": "execute_result",
          "data": {
            "text/plain": [
              "year     2002\n",
              "state    Ohio\n",
              "pop       3.6\n",
              "debt      NaN\n",
              "Name: three, dtype: object"
            ]
          },
          "metadata": {},
          "execution_count": 300
        }
      ]
    },
    {
      "cell_type": "markdown",
      "metadata": {
        "id": "2lPP6AiW1qW-"
      },
      "source": [
        "Columns can be modified by assignment. For example, the empty 'debt' column could be assigned a scalar value or an array of values:"
      ]
    },
    {
      "cell_type": "code",
      "metadata": {
        "id": "W4CroutF1tIF"
      },
      "source": [
        "frame2['debt'] = 16.5"
      ],
      "execution_count": 301,
      "outputs": []
    },
    {
      "cell_type": "code",
      "metadata": {
        "colab": {
          "base_uri": "https://localhost:8080/",
          "height": 235
        },
        "id": "2HrPSgEd1vBn",
        "outputId": "ffb7eca6-08d8-4d0d-f6c8-64cb0d909212"
      },
      "source": [
        "frame2"
      ],
      "execution_count": 302,
      "outputs": [
        {
          "output_type": "execute_result",
          "data": {
            "text/html": [
              "<div>\n",
              "<style scoped>\n",
              "    .dataframe tbody tr th:only-of-type {\n",
              "        vertical-align: middle;\n",
              "    }\n",
              "\n",
              "    .dataframe tbody tr th {\n",
              "        vertical-align: top;\n",
              "    }\n",
              "\n",
              "    .dataframe thead th {\n",
              "        text-align: right;\n",
              "    }\n",
              "</style>\n",
              "<table border=\"1\" class=\"dataframe\">\n",
              "  <thead>\n",
              "    <tr style=\"text-align: right;\">\n",
              "      <th></th>\n",
              "      <th>year</th>\n",
              "      <th>state</th>\n",
              "      <th>pop</th>\n",
              "      <th>debt</th>\n",
              "    </tr>\n",
              "  </thead>\n",
              "  <tbody>\n",
              "    <tr>\n",
              "      <th>one</th>\n",
              "      <td>2000</td>\n",
              "      <td>Ohio</td>\n",
              "      <td>1.5</td>\n",
              "      <td>16.5</td>\n",
              "    </tr>\n",
              "    <tr>\n",
              "      <th>two</th>\n",
              "      <td>2001</td>\n",
              "      <td>Ohio</td>\n",
              "      <td>1.7</td>\n",
              "      <td>16.5</td>\n",
              "    </tr>\n",
              "    <tr>\n",
              "      <th>three</th>\n",
              "      <td>2002</td>\n",
              "      <td>Ohio</td>\n",
              "      <td>3.6</td>\n",
              "      <td>16.5</td>\n",
              "    </tr>\n",
              "    <tr>\n",
              "      <th>four</th>\n",
              "      <td>2001</td>\n",
              "      <td>Nevada</td>\n",
              "      <td>2.4</td>\n",
              "      <td>16.5</td>\n",
              "    </tr>\n",
              "    <tr>\n",
              "      <th>five</th>\n",
              "      <td>2002</td>\n",
              "      <td>Nevada</td>\n",
              "      <td>2.9</td>\n",
              "      <td>16.5</td>\n",
              "    </tr>\n",
              "    <tr>\n",
              "      <th>six</th>\n",
              "      <td>2003</td>\n",
              "      <td>Nevada</td>\n",
              "      <td>3.2</td>\n",
              "      <td>16.5</td>\n",
              "    </tr>\n",
              "  </tbody>\n",
              "</table>\n",
              "</div>"
            ],
            "text/plain": [
              "       year   state  pop  debt\n",
              "one    2000    Ohio  1.5  16.5\n",
              "two    2001    Ohio  1.7  16.5\n",
              "three  2002    Ohio  3.6  16.5\n",
              "four   2001  Nevada  2.4  16.5\n",
              "five   2002  Nevada  2.9  16.5\n",
              "six    2003  Nevada  3.2  16.5"
            ]
          },
          "metadata": {},
          "execution_count": 302
        }
      ]
    },
    {
      "cell_type": "code",
      "metadata": {
        "id": "Epn8Ye_T13rp"
      },
      "source": [
        "frame2['debt'] = np.arange(6.)"
      ],
      "execution_count": 303,
      "outputs": []
    },
    {
      "cell_type": "code",
      "metadata": {
        "colab": {
          "base_uri": "https://localhost:8080/",
          "height": 235
        },
        "id": "BB4LYG0G182l",
        "outputId": "7accc0af-82d2-4171-9369-df723dbd7216"
      },
      "source": [
        "frame2"
      ],
      "execution_count": 304,
      "outputs": [
        {
          "output_type": "execute_result",
          "data": {
            "text/html": [
              "<div>\n",
              "<style scoped>\n",
              "    .dataframe tbody tr th:only-of-type {\n",
              "        vertical-align: middle;\n",
              "    }\n",
              "\n",
              "    .dataframe tbody tr th {\n",
              "        vertical-align: top;\n",
              "    }\n",
              "\n",
              "    .dataframe thead th {\n",
              "        text-align: right;\n",
              "    }\n",
              "</style>\n",
              "<table border=\"1\" class=\"dataframe\">\n",
              "  <thead>\n",
              "    <tr style=\"text-align: right;\">\n",
              "      <th></th>\n",
              "      <th>year</th>\n",
              "      <th>state</th>\n",
              "      <th>pop</th>\n",
              "      <th>debt</th>\n",
              "    </tr>\n",
              "  </thead>\n",
              "  <tbody>\n",
              "    <tr>\n",
              "      <th>one</th>\n",
              "      <td>2000</td>\n",
              "      <td>Ohio</td>\n",
              "      <td>1.5</td>\n",
              "      <td>0.0</td>\n",
              "    </tr>\n",
              "    <tr>\n",
              "      <th>two</th>\n",
              "      <td>2001</td>\n",
              "      <td>Ohio</td>\n",
              "      <td>1.7</td>\n",
              "      <td>1.0</td>\n",
              "    </tr>\n",
              "    <tr>\n",
              "      <th>three</th>\n",
              "      <td>2002</td>\n",
              "      <td>Ohio</td>\n",
              "      <td>3.6</td>\n",
              "      <td>2.0</td>\n",
              "    </tr>\n",
              "    <tr>\n",
              "      <th>four</th>\n",
              "      <td>2001</td>\n",
              "      <td>Nevada</td>\n",
              "      <td>2.4</td>\n",
              "      <td>3.0</td>\n",
              "    </tr>\n",
              "    <tr>\n",
              "      <th>five</th>\n",
              "      <td>2002</td>\n",
              "      <td>Nevada</td>\n",
              "      <td>2.9</td>\n",
              "      <td>4.0</td>\n",
              "    </tr>\n",
              "    <tr>\n",
              "      <th>six</th>\n",
              "      <td>2003</td>\n",
              "      <td>Nevada</td>\n",
              "      <td>3.2</td>\n",
              "      <td>5.0</td>\n",
              "    </tr>\n",
              "  </tbody>\n",
              "</table>\n",
              "</div>"
            ],
            "text/plain": [
              "       year   state  pop  debt\n",
              "one    2000    Ohio  1.5   0.0\n",
              "two    2001    Ohio  1.7   1.0\n",
              "three  2002    Ohio  3.6   2.0\n",
              "four   2001  Nevada  2.4   3.0\n",
              "five   2002  Nevada  2.9   4.0\n",
              "six    2003  Nevada  3.2   5.0"
            ]
          },
          "metadata": {},
          "execution_count": 304
        }
      ]
    },
    {
      "cell_type": "markdown",
      "metadata": {
        "id": "9LUoonn72MUY"
      },
      "source": [
        "When you are assigning lists or arrays to a column, the value’s length must match the length of the DataFrame\n",
        "\n",
        "If you assign a Series, its labels will be realigned exactly to the DataFrame’s index, inserting missing values in any holes:"
      ]
    },
    {
      "cell_type": "code",
      "metadata": {
        "id": "H8QtXpy-2Hn0"
      },
      "source": [
        "val = pd.Series([-1.2, -1.5, -1.7], index=['two', 'four', 'five'])"
      ],
      "execution_count": 305,
      "outputs": []
    },
    {
      "cell_type": "code",
      "metadata": {
        "id": "0KNNJC0o2EPN"
      },
      "source": [
        "frame2['debt'] = val"
      ],
      "execution_count": 306,
      "outputs": []
    },
    {
      "cell_type": "code",
      "metadata": {
        "colab": {
          "base_uri": "https://localhost:8080/",
          "height": 235
        },
        "id": "n6ZFEUNE2Jpx",
        "outputId": "beb0157b-f582-49d8-e764-2fb037cf35c6"
      },
      "source": [
        "frame2"
      ],
      "execution_count": 307,
      "outputs": [
        {
          "output_type": "execute_result",
          "data": {
            "text/html": [
              "<div>\n",
              "<style scoped>\n",
              "    .dataframe tbody tr th:only-of-type {\n",
              "        vertical-align: middle;\n",
              "    }\n",
              "\n",
              "    .dataframe tbody tr th {\n",
              "        vertical-align: top;\n",
              "    }\n",
              "\n",
              "    .dataframe thead th {\n",
              "        text-align: right;\n",
              "    }\n",
              "</style>\n",
              "<table border=\"1\" class=\"dataframe\">\n",
              "  <thead>\n",
              "    <tr style=\"text-align: right;\">\n",
              "      <th></th>\n",
              "      <th>year</th>\n",
              "      <th>state</th>\n",
              "      <th>pop</th>\n",
              "      <th>debt</th>\n",
              "    </tr>\n",
              "  </thead>\n",
              "  <tbody>\n",
              "    <tr>\n",
              "      <th>one</th>\n",
              "      <td>2000</td>\n",
              "      <td>Ohio</td>\n",
              "      <td>1.5</td>\n",
              "      <td>NaN</td>\n",
              "    </tr>\n",
              "    <tr>\n",
              "      <th>two</th>\n",
              "      <td>2001</td>\n",
              "      <td>Ohio</td>\n",
              "      <td>1.7</td>\n",
              "      <td>-1.2</td>\n",
              "    </tr>\n",
              "    <tr>\n",
              "      <th>three</th>\n",
              "      <td>2002</td>\n",
              "      <td>Ohio</td>\n",
              "      <td>3.6</td>\n",
              "      <td>NaN</td>\n",
              "    </tr>\n",
              "    <tr>\n",
              "      <th>four</th>\n",
              "      <td>2001</td>\n",
              "      <td>Nevada</td>\n",
              "      <td>2.4</td>\n",
              "      <td>-1.5</td>\n",
              "    </tr>\n",
              "    <tr>\n",
              "      <th>five</th>\n",
              "      <td>2002</td>\n",
              "      <td>Nevada</td>\n",
              "      <td>2.9</td>\n",
              "      <td>-1.7</td>\n",
              "    </tr>\n",
              "    <tr>\n",
              "      <th>six</th>\n",
              "      <td>2003</td>\n",
              "      <td>Nevada</td>\n",
              "      <td>3.2</td>\n",
              "      <td>NaN</td>\n",
              "    </tr>\n",
              "  </tbody>\n",
              "</table>\n",
              "</div>"
            ],
            "text/plain": [
              "       year   state  pop  debt\n",
              "one    2000    Ohio  1.5   NaN\n",
              "two    2001    Ohio  1.7  -1.2\n",
              "three  2002    Ohio  3.6   NaN\n",
              "four   2001  Nevada  2.4  -1.5\n",
              "five   2002  Nevada  2.9  -1.7\n",
              "six    2003  Nevada  3.2   NaN"
            ]
          },
          "metadata": {},
          "execution_count": 307
        }
      ]
    },
    {
      "cell_type": "markdown",
      "metadata": {
        "id": "huzQUSCF6YeX"
      },
      "source": [
        "Assigning a column that doesn’t exist will create a new column. The del keyword will delete columns as with a dict\n",
        "\n",
        "As an example of del, I first add a new column of boolean values where the state column equals ' Ohio':"
      ]
    },
    {
      "cell_type": "code",
      "metadata": {
        "id": "w06mhh5x62gn"
      },
      "source": [
        "frame2['eastern'] = frame2.state == 'Ohio'"
      ],
      "execution_count": 308,
      "outputs": []
    },
    {
      "cell_type": "code",
      "metadata": {
        "colab": {
          "base_uri": "https://localhost:8080/",
          "height": 235
        },
        "id": "d53JrpIO66xk",
        "outputId": "7ae97558-eb68-4b79-ee57-1ad2cfd8e5aa"
      },
      "source": [
        "frame2"
      ],
      "execution_count": 309,
      "outputs": [
        {
          "output_type": "execute_result",
          "data": {
            "text/html": [
              "<div>\n",
              "<style scoped>\n",
              "    .dataframe tbody tr th:only-of-type {\n",
              "        vertical-align: middle;\n",
              "    }\n",
              "\n",
              "    .dataframe tbody tr th {\n",
              "        vertical-align: top;\n",
              "    }\n",
              "\n",
              "    .dataframe thead th {\n",
              "        text-align: right;\n",
              "    }\n",
              "</style>\n",
              "<table border=\"1\" class=\"dataframe\">\n",
              "  <thead>\n",
              "    <tr style=\"text-align: right;\">\n",
              "      <th></th>\n",
              "      <th>year</th>\n",
              "      <th>state</th>\n",
              "      <th>pop</th>\n",
              "      <th>debt</th>\n",
              "      <th>eastern</th>\n",
              "    </tr>\n",
              "  </thead>\n",
              "  <tbody>\n",
              "    <tr>\n",
              "      <th>one</th>\n",
              "      <td>2000</td>\n",
              "      <td>Ohio</td>\n",
              "      <td>1.5</td>\n",
              "      <td>NaN</td>\n",
              "      <td>True</td>\n",
              "    </tr>\n",
              "    <tr>\n",
              "      <th>two</th>\n",
              "      <td>2001</td>\n",
              "      <td>Ohio</td>\n",
              "      <td>1.7</td>\n",
              "      <td>-1.2</td>\n",
              "      <td>True</td>\n",
              "    </tr>\n",
              "    <tr>\n",
              "      <th>three</th>\n",
              "      <td>2002</td>\n",
              "      <td>Ohio</td>\n",
              "      <td>3.6</td>\n",
              "      <td>NaN</td>\n",
              "      <td>True</td>\n",
              "    </tr>\n",
              "    <tr>\n",
              "      <th>four</th>\n",
              "      <td>2001</td>\n",
              "      <td>Nevada</td>\n",
              "      <td>2.4</td>\n",
              "      <td>-1.5</td>\n",
              "      <td>False</td>\n",
              "    </tr>\n",
              "    <tr>\n",
              "      <th>five</th>\n",
              "      <td>2002</td>\n",
              "      <td>Nevada</td>\n",
              "      <td>2.9</td>\n",
              "      <td>-1.7</td>\n",
              "      <td>False</td>\n",
              "    </tr>\n",
              "    <tr>\n",
              "      <th>six</th>\n",
              "      <td>2003</td>\n",
              "      <td>Nevada</td>\n",
              "      <td>3.2</td>\n",
              "      <td>NaN</td>\n",
              "      <td>False</td>\n",
              "    </tr>\n",
              "  </tbody>\n",
              "</table>\n",
              "</div>"
            ],
            "text/plain": [
              "       year   state  pop  debt  eastern\n",
              "one    2000    Ohio  1.5   NaN     True\n",
              "two    2001    Ohio  1.7  -1.2     True\n",
              "three  2002    Ohio  3.6   NaN     True\n",
              "four   2001  Nevada  2.4  -1.5    False\n",
              "five   2002  Nevada  2.9  -1.7    False\n",
              "six    2003  Nevada  3.2   NaN    False"
            ]
          },
          "metadata": {},
          "execution_count": 309
        }
      ]
    },
    {
      "cell_type": "markdown",
      "metadata": {
        "id": "G_EAr1s37B1t"
      },
      "source": [
        "The del method can then be used to remove this column:"
      ]
    },
    {
      "cell_type": "code",
      "metadata": {
        "id": "cb0VOGmk7D3X"
      },
      "source": [
        "del frame2['eastern']"
      ],
      "execution_count": 310,
      "outputs": []
    },
    {
      "cell_type": "code",
      "metadata": {
        "colab": {
          "base_uri": "https://localhost:8080/"
        },
        "id": "aG8Xutc67GOt",
        "outputId": "8235fd8c-d873-43f9-bd3f-bb0be8bb2037"
      },
      "source": [
        "frame2.columns"
      ],
      "execution_count": 311,
      "outputs": [
        {
          "output_type": "execute_result",
          "data": {
            "text/plain": [
              "Index(['year', 'state', 'pop', 'debt'], dtype='object')"
            ]
          },
          "metadata": {},
          "execution_count": 311
        }
      ]
    },
    {
      "cell_type": "markdown",
      "metadata": {
        "id": "ZcEdAqtH7L_m"
      },
      "source": [
        "Another common form of data is a nested dict of dicts:"
      ]
    },
    {
      "cell_type": "code",
      "metadata": {
        "id": "y2SRWmnh7Qn0"
      },
      "source": [
        "pop = {'Nevada': {2001: 2.4, 2002: 2.9},\n",
        "       'Ohio': {2000: 1.5, 2001: 1.7, 2002: 3.6}}"
      ],
      "execution_count": 312,
      "outputs": []
    },
    {
      "cell_type": "markdown",
      "metadata": {
        "id": "Yg9cLpkh7XD9"
      },
      "source": [
        "If the nested dict is passed to the DataFrame, pandas will interpret the outer dict keys as the columns and the inner keys as the row indices:"
      ]
    },
    {
      "cell_type": "code",
      "metadata": {
        "id": "h7ORIM_07hml"
      },
      "source": [
        "frame3 = pd.DataFrame(pop)"
      ],
      "execution_count": 313,
      "outputs": []
    },
    {
      "cell_type": "code",
      "metadata": {
        "colab": {
          "base_uri": "https://localhost:8080/",
          "height": 142
        },
        "id": "qZV0eZ0D7kZ2",
        "outputId": "97775f41-fb53-4f0c-a2ba-f96df81e2111"
      },
      "source": [
        "frame3"
      ],
      "execution_count": 314,
      "outputs": [
        {
          "output_type": "execute_result",
          "data": {
            "text/html": [
              "<div>\n",
              "<style scoped>\n",
              "    .dataframe tbody tr th:only-of-type {\n",
              "        vertical-align: middle;\n",
              "    }\n",
              "\n",
              "    .dataframe tbody tr th {\n",
              "        vertical-align: top;\n",
              "    }\n",
              "\n",
              "    .dataframe thead th {\n",
              "        text-align: right;\n",
              "    }\n",
              "</style>\n",
              "<table border=\"1\" class=\"dataframe\">\n",
              "  <thead>\n",
              "    <tr style=\"text-align: right;\">\n",
              "      <th></th>\n",
              "      <th>Nevada</th>\n",
              "      <th>Ohio</th>\n",
              "    </tr>\n",
              "  </thead>\n",
              "  <tbody>\n",
              "    <tr>\n",
              "      <th>2001</th>\n",
              "      <td>2.4</td>\n",
              "      <td>1.7</td>\n",
              "    </tr>\n",
              "    <tr>\n",
              "      <th>2002</th>\n",
              "      <td>2.9</td>\n",
              "      <td>3.6</td>\n",
              "    </tr>\n",
              "    <tr>\n",
              "      <th>2000</th>\n",
              "      <td>NaN</td>\n",
              "      <td>1.5</td>\n",
              "    </tr>\n",
              "  </tbody>\n",
              "</table>\n",
              "</div>"
            ],
            "text/plain": [
              "      Nevada  Ohio\n",
              "2001     2.4   1.7\n",
              "2002     2.9   3.6\n",
              "2000     NaN   1.5"
            ]
          },
          "metadata": {},
          "execution_count": 314
        }
      ]
    },
    {
      "cell_type": "markdown",
      "metadata": {
        "id": "dAvGGtds7oxZ"
      },
      "source": [
        "You can transpose the DataFrame (swap rows and columns) with similar syntax to a NumPy array:"
      ]
    },
    {
      "cell_type": "code",
      "metadata": {
        "colab": {
          "base_uri": "https://localhost:8080/",
          "height": 111
        },
        "id": "-7v__ixM7pOl",
        "outputId": "76292927-3d5f-46e4-cfc4-96da960472ee"
      },
      "source": [
        "frame3.T"
      ],
      "execution_count": 315,
      "outputs": [
        {
          "output_type": "execute_result",
          "data": {
            "text/html": [
              "<div>\n",
              "<style scoped>\n",
              "    .dataframe tbody tr th:only-of-type {\n",
              "        vertical-align: middle;\n",
              "    }\n",
              "\n",
              "    .dataframe tbody tr th {\n",
              "        vertical-align: top;\n",
              "    }\n",
              "\n",
              "    .dataframe thead th {\n",
              "        text-align: right;\n",
              "    }\n",
              "</style>\n",
              "<table border=\"1\" class=\"dataframe\">\n",
              "  <thead>\n",
              "    <tr style=\"text-align: right;\">\n",
              "      <th></th>\n",
              "      <th>2001</th>\n",
              "      <th>2002</th>\n",
              "      <th>2000</th>\n",
              "    </tr>\n",
              "  </thead>\n",
              "  <tbody>\n",
              "    <tr>\n",
              "      <th>Nevada</th>\n",
              "      <td>2.4</td>\n",
              "      <td>2.9</td>\n",
              "      <td>NaN</td>\n",
              "    </tr>\n",
              "    <tr>\n",
              "      <th>Ohio</th>\n",
              "      <td>1.7</td>\n",
              "      <td>3.6</td>\n",
              "      <td>1.5</td>\n",
              "    </tr>\n",
              "  </tbody>\n",
              "</table>\n",
              "</div>"
            ],
            "text/plain": [
              "        2001  2002  2000\n",
              "Nevada   2.4   2.9   NaN\n",
              "Ohio     1.7   3.6   1.5"
            ]
          },
          "metadata": {},
          "execution_count": 315
        }
      ]
    },
    {
      "cell_type": "markdown",
      "metadata": {
        "id": "pEylcG7I8Bml"
      },
      "source": [
        "The keys in the inner dicts are combined and sorted to form the index in the result. This isn’t true if an explicit index is specified:"
      ]
    },
    {
      "cell_type": "code",
      "metadata": {
        "colab": {
          "base_uri": "https://localhost:8080/",
          "height": 142
        },
        "id": "-JY2TMy88Fb1",
        "outputId": "92228d3a-2a22-4f55-a587-60979fe4a6aa"
      },
      "source": [
        "pd.DataFrame(pop, index=[2001, 2002, 2003])"
      ],
      "execution_count": 316,
      "outputs": [
        {
          "output_type": "execute_result",
          "data": {
            "text/html": [
              "<div>\n",
              "<style scoped>\n",
              "    .dataframe tbody tr th:only-of-type {\n",
              "        vertical-align: middle;\n",
              "    }\n",
              "\n",
              "    .dataframe tbody tr th {\n",
              "        vertical-align: top;\n",
              "    }\n",
              "\n",
              "    .dataframe thead th {\n",
              "        text-align: right;\n",
              "    }\n",
              "</style>\n",
              "<table border=\"1\" class=\"dataframe\">\n",
              "  <thead>\n",
              "    <tr style=\"text-align: right;\">\n",
              "      <th></th>\n",
              "      <th>Nevada</th>\n",
              "      <th>Ohio</th>\n",
              "    </tr>\n",
              "  </thead>\n",
              "  <tbody>\n",
              "    <tr>\n",
              "      <th>2001</th>\n",
              "      <td>2.4</td>\n",
              "      <td>1.7</td>\n",
              "    </tr>\n",
              "    <tr>\n",
              "      <th>2002</th>\n",
              "      <td>2.9</td>\n",
              "      <td>3.6</td>\n",
              "    </tr>\n",
              "    <tr>\n",
              "      <th>2003</th>\n",
              "      <td>NaN</td>\n",
              "      <td>NaN</td>\n",
              "    </tr>\n",
              "  </tbody>\n",
              "</table>\n",
              "</div>"
            ],
            "text/plain": [
              "      Nevada  Ohio\n",
              "2001     2.4   1.7\n",
              "2002     2.9   3.6\n",
              "2003     NaN   NaN"
            ]
          },
          "metadata": {},
          "execution_count": 316
        }
      ]
    },
    {
      "cell_type": "markdown",
      "metadata": {
        "id": "JwElCvdK8Pjl"
      },
      "source": [
        "Dicts of Series are treated in much the same way:"
      ]
    },
    {
      "cell_type": "code",
      "metadata": {
        "id": "5fHcqalF8RJF"
      },
      "source": [
        "pdata = {'Ohio': frame3['Ohio'][:-1],\n",
        "         'Nevada': frame3['Nevada'][:2]}"
      ],
      "execution_count": 317,
      "outputs": []
    },
    {
      "cell_type": "code",
      "metadata": {
        "colab": {
          "base_uri": "https://localhost:8080/",
          "height": 111
        },
        "id": "gUgklsdA8fJL",
        "outputId": "5d58f362-3982-4a40-e0b0-bc58a2a30c50"
      },
      "source": [
        "pd.DataFrame(pdata)"
      ],
      "execution_count": 318,
      "outputs": [
        {
          "output_type": "execute_result",
          "data": {
            "text/html": [
              "<div>\n",
              "<style scoped>\n",
              "    .dataframe tbody tr th:only-of-type {\n",
              "        vertical-align: middle;\n",
              "    }\n",
              "\n",
              "    .dataframe tbody tr th {\n",
              "        vertical-align: top;\n",
              "    }\n",
              "\n",
              "    .dataframe thead th {\n",
              "        text-align: right;\n",
              "    }\n",
              "</style>\n",
              "<table border=\"1\" class=\"dataframe\">\n",
              "  <thead>\n",
              "    <tr style=\"text-align: right;\">\n",
              "      <th></th>\n",
              "      <th>Ohio</th>\n",
              "      <th>Nevada</th>\n",
              "    </tr>\n",
              "  </thead>\n",
              "  <tbody>\n",
              "    <tr>\n",
              "      <th>2001</th>\n",
              "      <td>1.7</td>\n",
              "      <td>2.4</td>\n",
              "    </tr>\n",
              "    <tr>\n",
              "      <th>2002</th>\n",
              "      <td>3.6</td>\n",
              "      <td>2.9</td>\n",
              "    </tr>\n",
              "  </tbody>\n",
              "</table>\n",
              "</div>"
            ],
            "text/plain": [
              "      Ohio  Nevada\n",
              "2001   1.7     2.4\n",
              "2002   3.6     2.9"
            ]
          },
          "metadata": {},
          "execution_count": 318
        }
      ]
    },
    {
      "cell_type": "markdown",
      "metadata": {
        "id": "yDALAzrr9FOF"
      },
      "source": [
        "If a DataFrame’s index and columns have their name attributes set, these will also be displayed:"
      ]
    },
    {
      "cell_type": "code",
      "metadata": {
        "id": "00I8IVAy9JFN"
      },
      "source": [
        "frame3.index.name = 'year' ; frame3.columns.name = 'state'"
      ],
      "execution_count": 319,
      "outputs": []
    },
    {
      "cell_type": "code",
      "metadata": {
        "colab": {
          "base_uri": "https://localhost:8080/",
          "height": 173
        },
        "id": "Ytd6rLLv9Qrn",
        "outputId": "1577fa09-30f7-4cc8-cf3e-e3658953b0f9"
      },
      "source": [
        "frame3"
      ],
      "execution_count": 320,
      "outputs": [
        {
          "output_type": "execute_result",
          "data": {
            "text/html": [
              "<div>\n",
              "<style scoped>\n",
              "    .dataframe tbody tr th:only-of-type {\n",
              "        vertical-align: middle;\n",
              "    }\n",
              "\n",
              "    .dataframe tbody tr th {\n",
              "        vertical-align: top;\n",
              "    }\n",
              "\n",
              "    .dataframe thead th {\n",
              "        text-align: right;\n",
              "    }\n",
              "</style>\n",
              "<table border=\"1\" class=\"dataframe\">\n",
              "  <thead>\n",
              "    <tr style=\"text-align: right;\">\n",
              "      <th>state</th>\n",
              "      <th>Nevada</th>\n",
              "      <th>Ohio</th>\n",
              "    </tr>\n",
              "    <tr>\n",
              "      <th>year</th>\n",
              "      <th></th>\n",
              "      <th></th>\n",
              "    </tr>\n",
              "  </thead>\n",
              "  <tbody>\n",
              "    <tr>\n",
              "      <th>2001</th>\n",
              "      <td>2.4</td>\n",
              "      <td>1.7</td>\n",
              "    </tr>\n",
              "    <tr>\n",
              "      <th>2002</th>\n",
              "      <td>2.9</td>\n",
              "      <td>3.6</td>\n",
              "    </tr>\n",
              "    <tr>\n",
              "      <th>2000</th>\n",
              "      <td>NaN</td>\n",
              "      <td>1.5</td>\n",
              "    </tr>\n",
              "  </tbody>\n",
              "</table>\n",
              "</div>"
            ],
            "text/plain": [
              "state  Nevada  Ohio\n",
              "year               \n",
              "2001      2.4   1.7\n",
              "2002      2.9   3.6\n",
              "2000      NaN   1.5"
            ]
          },
          "metadata": {},
          "execution_count": 320
        }
      ]
    },
    {
      "cell_type": "markdown",
      "metadata": {
        "id": "c2PNTJ0U9gNm"
      },
      "source": [
        "As with Series, the values attribute returns the data contained in the DataFrame as a two-dimensional ndarray:"
      ]
    },
    {
      "cell_type": "code",
      "metadata": {
        "colab": {
          "base_uri": "https://localhost:8080/"
        },
        "id": "YIGbJ3b89jKn",
        "outputId": "967a1aae-03f7-40d4-f425-1c20c7a746fd"
      },
      "source": [
        "frame3.values"
      ],
      "execution_count": 325,
      "outputs": [
        {
          "output_type": "execute_result",
          "data": {
            "text/plain": [
              "array([[2.4, 1.7],\n",
              "       [2.9, 3.6],\n",
              "       [nan, 1.5]])"
            ]
          },
          "metadata": {},
          "execution_count": 325
        }
      ]
    },
    {
      "cell_type": "markdown",
      "metadata": {
        "id": "3Zui7thJ9yQu"
      },
      "source": [
        "If the DataFrame’s columns are different dtypes, the dtype of the values array will be chosen to accommodate all of the columns:"
      ]
    },
    {
      "cell_type": "code",
      "metadata": {
        "colab": {
          "base_uri": "https://localhost:8080/"
        },
        "id": "cSagr5pd91Ye",
        "outputId": "27b95d20-59ab-44b6-aa94-886b1a48c0c7"
      },
      "source": [
        "frame2.values"
      ],
      "execution_count": 326,
      "outputs": [
        {
          "output_type": "execute_result",
          "data": {
            "text/plain": [
              "array([[2000, 'Ohio', 1.5, nan],\n",
              "       [2001, 'Ohio', 1.7, -1.2],\n",
              "       [2002, 'Ohio', 3.6, nan],\n",
              "       [2001, 'Nevada', 2.4, -1.5],\n",
              "       [2002, 'Nevada', 2.9, -1.7],\n",
              "       [2003, 'Nevada', 3.2, nan]], dtype=object)"
            ]
          },
          "metadata": {},
          "execution_count": 326
        }
      ]
    },
    {
      "cell_type": "markdown",
      "metadata": {
        "id": "GbbWj1e18_B1"
      },
      "source": [
        "For a complete list of things you can pass the DataFrame constructor, see Table 5-1"
      ]
    },
    {
      "cell_type": "markdown",
      "metadata": {
        "id": "jovvwkAo9-Bt"
      },
      "source": [
        "Table 5-1. Possible data inputs to DataFrame constructor\n",
        "<p align='center'>\n",
        "<img src='data:image/png;base64,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'>\n",
        "</p>"
      ]
    },
    {
      "cell_type": "markdown",
      "metadata": {
        "id": "RpkGG1G6-J0t"
      },
      "source": [
        "## Index Objects"
      ]
    },
    {
      "cell_type": "markdown",
      "metadata": {
        "id": "AmOrPZb7-LZu"
      },
      "source": [
        "pandas’s Index objects are **responsible for holding the axis labels and other metadata** (like the axis name or names)\n",
        "\n",
        "Any array or other sequence of labels you use when constructing a Series or DataFrame is internally converted to an Index:"
      ]
    },
    {
      "cell_type": "code",
      "metadata": {
        "id": "0ItGrFSm-69l"
      },
      "source": [
        "obj = pd.Series(range(3), index=['a', 'b', 'c'])"
      ],
      "execution_count": 327,
      "outputs": []
    },
    {
      "cell_type": "code",
      "metadata": {
        "id": "7TCFxOlT_Bu3"
      },
      "source": [
        "index = obj.index"
      ],
      "execution_count": 328,
      "outputs": []
    },
    {
      "cell_type": "code",
      "metadata": {
        "colab": {
          "base_uri": "https://localhost:8080/"
        },
        "id": "fV__RHJI_Dom",
        "outputId": "65d1c341-0d79-43a6-aac5-11a24971889d"
      },
      "source": [
        "index"
      ],
      "execution_count": 329,
      "outputs": [
        {
          "output_type": "execute_result",
          "data": {
            "text/plain": [
              "Index(['a', 'b', 'c'], dtype='object')"
            ]
          },
          "metadata": {},
          "execution_count": 329
        }
      ]
    },
    {
      "cell_type": "code",
      "metadata": {
        "colab": {
          "base_uri": "https://localhost:8080/"
        },
        "id": "aAiXEzlz_Jh3",
        "outputId": "e5f13aa4-e369-4de9-aa67-15c620d52c6d"
      },
      "source": [
        "index[1:]"
      ],
      "execution_count": 336,
      "outputs": [
        {
          "output_type": "execute_result",
          "data": {
            "text/plain": [
              "Index(['b', 'c'], dtype='object')"
            ]
          },
          "metadata": {},
          "execution_count": 336
        }
      ]
    },
    {
      "cell_type": "markdown",
      "metadata": {
        "id": "mquTQ3nw_RGJ"
      },
      "source": [
        "Index objects are immutable and thus can’t be modified by the user:"
      ]
    },
    {
      "cell_type": "code",
      "metadata": {
        "colab": {
          "base_uri": "https://localhost:8080/"
        },
        "id": "sws5X4LM_VL-",
        "outputId": "cac5b93c-9e46-457a-aa12-f5857f6550eb"
      },
      "source": [
        "try:\n",
        "  index[1] = 'd'\n",
        "except TypeError:\n",
        "  print('TypeError')"
      ],
      "execution_count": 339,
      "outputs": [
        {
          "output_type": "stream",
          "name": "stdout",
          "text": [
            "TypeError\n"
          ]
        }
      ]
    },
    {
      "cell_type": "markdown",
      "metadata": {
        "id": "yMvF6mf1_hxe"
      },
      "source": [
        "Immutability makes it safer to share Index objects among data structures:"
      ]
    },
    {
      "cell_type": "code",
      "metadata": {
        "id": "LbnZg4cV_jal"
      },
      "source": [
        "labels = pd.Index(np.arange(3))"
      ],
      "execution_count": 340,
      "outputs": []
    },
    {
      "cell_type": "code",
      "metadata": {
        "colab": {
          "base_uri": "https://localhost:8080/"
        },
        "id": "MLkWQDNX_nE4",
        "outputId": "dbe284ba-10e0-47d1-cb4b-4b4ef367312f"
      },
      "source": [
        "labels"
      ],
      "execution_count": 341,
      "outputs": [
        {
          "output_type": "execute_result",
          "data": {
            "text/plain": [
              "Int64Index([0, 1, 2], dtype='int64')"
            ]
          },
          "metadata": {},
          "execution_count": 341
        }
      ]
    },
    {
      "cell_type": "code",
      "metadata": {
        "id": "DoHmTqbN_wNu"
      },
      "source": [
        "obj2 = pd.Series([1.5, -2.5, 0], index=labels)"
      ],
      "execution_count": 342,
      "outputs": []
    },
    {
      "cell_type": "code",
      "metadata": {
        "colab": {
          "base_uri": "https://localhost:8080/"
        },
        "id": "UIZbppMi_1NH",
        "outputId": "6545371f-2e82-4f20-8cc7-1ab1dbe2c29c"
      },
      "source": [
        "obj2"
      ],
      "execution_count": 343,
      "outputs": [
        {
          "output_type": "execute_result",
          "data": {
            "text/plain": [
              "0    1.5\n",
              "1   -2.5\n",
              "2    0.0\n",
              "dtype: float64"
            ]
          },
          "metadata": {},
          "execution_count": 343
        }
      ]
    },
    {
      "cell_type": "markdown",
      "metadata": {
        "id": "kOkhJdby_6kG"
      },
      "source": [
        "In addition to being array-like, an Index also behaves like a fixed-size set:"
      ]
    },
    {
      "cell_type": "code",
      "metadata": {
        "colab": {
          "base_uri": "https://localhost:8080/",
          "height": 173
        },
        "id": "UFEJOuKF_8Uv",
        "outputId": "1d0ce265-b53a-40b9-f37c-b8801ca7fa0a"
      },
      "source": [
        "frame3"
      ],
      "execution_count": 344,
      "outputs": [
        {
          "output_type": "execute_result",
          "data": {
            "text/html": [
              "<div>\n",
              "<style scoped>\n",
              "    .dataframe tbody tr th:only-of-type {\n",
              "        vertical-align: middle;\n",
              "    }\n",
              "\n",
              "    .dataframe tbody tr th {\n",
              "        vertical-align: top;\n",
              "    }\n",
              "\n",
              "    .dataframe thead th {\n",
              "        text-align: right;\n",
              "    }\n",
              "</style>\n",
              "<table border=\"1\" class=\"dataframe\">\n",
              "  <thead>\n",
              "    <tr style=\"text-align: right;\">\n",
              "      <th>state</th>\n",
              "      <th>Nevada</th>\n",
              "      <th>Ohio</th>\n",
              "    </tr>\n",
              "    <tr>\n",
              "      <th>year</th>\n",
              "      <th></th>\n",
              "      <th></th>\n",
              "    </tr>\n",
              "  </thead>\n",
              "  <tbody>\n",
              "    <tr>\n",
              "      <th>2001</th>\n",
              "      <td>2.4</td>\n",
              "      <td>1.7</td>\n",
              "    </tr>\n",
              "    <tr>\n",
              "      <th>2002</th>\n",
              "      <td>2.9</td>\n",
              "      <td>3.6</td>\n",
              "    </tr>\n",
              "    <tr>\n",
              "      <th>2000</th>\n",
              "      <td>NaN</td>\n",
              "      <td>1.5</td>\n",
              "    </tr>\n",
              "  </tbody>\n",
              "</table>\n",
              "</div>"
            ],
            "text/plain": [
              "state  Nevada  Ohio\n",
              "year               \n",
              "2001      2.4   1.7\n",
              "2002      2.9   3.6\n",
              "2000      NaN   1.5"
            ]
          },
          "metadata": {},
          "execution_count": 344
        }
      ]
    },
    {
      "cell_type": "code",
      "metadata": {
        "colab": {
          "base_uri": "https://localhost:8080/"
        },
        "id": "tQLOLeSg_-Ku",
        "outputId": "8939d686-800d-4b82-dc18-182fd1a2db83"
      },
      "source": [
        "frame3.columns"
      ],
      "execution_count": 345,
      "outputs": [
        {
          "output_type": "execute_result",
          "data": {
            "text/plain": [
              "Index(['Nevada', 'Ohio'], dtype='object', name='state')"
            ]
          },
          "metadata": {},
          "execution_count": 345
        }
      ]
    },
    {
      "cell_type": "code",
      "metadata": {
        "colab": {
          "base_uri": "https://localhost:8080/"
        },
        "id": "AAMrp5ZRAHQH",
        "outputId": "31745725-4838-4c65-bb15-a51a7bea93b6"
      },
      "source": [
        "'Ohio' in frame3.columns"
      ],
      "execution_count": 346,
      "outputs": [
        {
          "output_type": "execute_result",
          "data": {
            "text/plain": [
              "True"
            ]
          },
          "metadata": {},
          "execution_count": 346
        }
      ]
    },
    {
      "cell_type": "code",
      "metadata": {
        "colab": {
          "base_uri": "https://localhost:8080/"
        },
        "id": "kq30N1INALkd",
        "outputId": "30516b7d-4e7b-4582-c2fa-1820be835976"
      },
      "source": [
        "2003 in frame3.index"
      ],
      "execution_count": 347,
      "outputs": [
        {
          "output_type": "execute_result",
          "data": {
            "text/plain": [
              "False"
            ]
          },
          "metadata": {},
          "execution_count": 347
        }
      ]
    },
    {
      "cell_type": "markdown",
      "metadata": {
        "id": "ZU4dkyIhAPQn"
      },
      "source": [
        "Unlike Python sets, a pandas Index can contain duplicate labels:"
      ]
    },
    {
      "cell_type": "code",
      "metadata": {
        "id": "AyagpbixAQ5d"
      },
      "source": [
        "dup_labels = pd.Index(['foo', 'foo', 'bar', 'bar'])"
      ],
      "execution_count": 348,
      "outputs": []
    },
    {
      "cell_type": "code",
      "metadata": {
        "colab": {
          "base_uri": "https://localhost:8080/"
        },
        "id": "P8Q_MQJuAWjX",
        "outputId": "da9ddff5-708c-41bc-c2ef-cf315dd7c074"
      },
      "source": [
        "dup_labels"
      ],
      "execution_count": 349,
      "outputs": [
        {
          "output_type": "execute_result",
          "data": {
            "text/plain": [
              "Index(['foo', 'foo', 'bar', 'bar'], dtype='object')"
            ]
          },
          "metadata": {},
          "execution_count": 349
        }
      ]
    },
    {
      "cell_type": "markdown",
      "metadata": {
        "id": "AjX6ARNCAwOl"
      },
      "source": [
        "Selections with duplicate labels will select all occurrences of that label\n",
        "\n",
        "Each Index has a number of methods and properties for set logic, which answer other common questions about the data it contains. Some useful ones are summarized in Table 5-2"
      ]
    },
    {
      "cell_type": "markdown",
      "metadata": {
        "id": "7mPUq6wCA3Y-"
      },
      "source": [
        "Table 5-2. Some Index methods and properties\n",
        "<p align='center'>\n",
        "<img src='data:image/png;base64,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'>\n",
        "</p>"
      ]
    },
    {
      "cell_type": "markdown",
      "metadata": {
        "id": "E9R84ovjBKad"
      },
      "source": [
        "# 5.2 Essential Functionality"
      ]
    },
    {
      "cell_type": "code",
      "metadata": {
        "id": "EBMSzphNA27d"
      },
      "source": [
        ""
      ],
      "execution_count": null,
      "outputs": []
    }
  ]
}