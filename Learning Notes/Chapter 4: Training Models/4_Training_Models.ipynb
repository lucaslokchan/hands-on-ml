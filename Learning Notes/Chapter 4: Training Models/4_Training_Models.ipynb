{
  "nbformat": 4,
  "nbformat_minor": 0,
  "metadata": {
    "colab": {
      "name": "4.Training Models.ipynb",
      "provenance": [],
      "collapsed_sections": [],
      "authorship_tag": "ABX9TyMcENkIHETgk873YIBhdfFQ"
    },
    "kernelspec": {
      "name": "python3",
      "display_name": "Python 3"
    },
    "language_info": {
      "name": "python"
    }
  },
  "cells": [
    {
      "cell_type": "markdown",
      "metadata": {
        "id": "X4zUwnQINkKN"
      },
      "source": [
        "# Linear Regression"
      ]
    },
    {
      "cell_type": "markdown",
      "metadata": {
        "id": "nzkLFu4ZNmlE"
      },
      "source": [
        "A linear model makes a prediction by simply computing a weighted sum of the input features, plus a constant called the bias term (also called the intercept term)"
      ]
    },
    {
      "cell_type": "markdown",
      "metadata": {
        "id": "JJAmq6wpNqrs"
      },
      "source": [
        "$$\\hat y = \\theta_0 + \\theta_1x_1 + \\theta_2x_2 + \\cdot \\cdot \\cdot + \\theta_nx_n$$"
      ]
    },
    {
      "cell_type": "markdown",
      "metadata": {
        "id": "UptgylTVOSlE"
      },
      "source": [
        "* $\\hat y$ is the predicted value"
      ]
    },
    {
      "cell_type": "markdown",
      "metadata": {
        "id": "M1TZpy29Ob1E"
      },
      "source": [
        "* $n$ is the number of features"
      ]
    },
    {
      "cell_type": "markdown",
      "metadata": {
        "id": "60uJr-jvOfHk"
      },
      "source": [
        "* $x_i$ is the $i^{th}$ feature value"
      ]
    },
    {
      "cell_type": "markdown",
      "metadata": {
        "id": "DMAdXm_yOsLU"
      },
      "source": [
        "* $\\theta_j$ is the $j^{th}$ model parameter"
      ]
    },
    {
      "cell_type": "markdown",
      "metadata": {
        "id": "K40M-LUTO70F"
      },
      "source": [
        "This can be written much more concisely using a vectorized form"
      ]
    },
    {
      "cell_type": "markdown",
      "metadata": {
        "id": "a8_wwNzVO8n8"
      },
      "source": [
        "$$\\hat y = h_\\theta(x) = \\theta \\cdot x$$"
      ]
    },
    {
      "cell_type": "markdown",
      "metadata": {
        "id": "qq9GIl4oPSu0"
      },
      "source": [
        "* $\\theta$ is the model’s parameter vector, containing the bias term $\\theta_0$ and the feature weights $\\theta_1$ to $\\theta_n$"
      ]
    },
    {
      "cell_type": "markdown",
      "metadata": {
        "id": "x1SbPkclPim8"
      },
      "source": [
        "* $x$ is the instance’s feature vector, containing $x_0$ to $x_n$, with $x_0$ always equal to 1"
      ]
    },
    {
      "cell_type": "markdown",
      "metadata": {
        "id": "UMNeC55SPru9"
      },
      "source": [
        "* $\\theta \\cdot x$ is the dot product of the vectors $\\theta$ and $x$, which is of course equal to $\\theta_0x_0 + \\theta_1x_1 + \\cdot \\cdot \\cdot + \\theta_nx_n$"
      ]
    },
    {
      "cell_type": "markdown",
      "metadata": {
        "id": "y5h0jl5QQBrd"
      },
      "source": [
        "* $h_0$ is the hypothesis function, using the model parameters $\\theta$"
      ]
    },
    {
      "cell_type": "markdown",
      "metadata": {
        "id": "BXnCiI10Q95u"
      },
      "source": [
        "We first need a measure of how well (or poorly) the model fits the training data. In Chapter 2 we saw that the most common performance measure of a regression model is the Root Mean Square Error (RMSE). Therefore, to train a Linear Regression model, you need to find the value of $\\theta$ that minimizes the RMSE\n",
        "\n",
        "In practice, it is simpler to minimize the Mean Square Error (MSE) than the RMSE, and it leads to the same result (because the value that minimizes a function also minimizes its square root)"
      ]
    },
    {
      "cell_type": "markdown",
      "metadata": {
        "id": "KDpovTooRdKF"
      },
      "source": [
        "The MSE of a Linear Regression hypothesis $h_0$ on a training set X is calculated using MSE cost function for a Linear Regression model"
      ]
    },
    {
      "cell_type": "markdown",
      "metadata": {
        "id": "0z4JevozRqgN"
      },
      "source": [
        "$$ MSE(X,h_\\theta) = {1\\over{m}} \\sum_{i =1 }^m(\\theta{^T}x^{(i)} - y^{(i)})^2  $$"
      ]
    },
    {
      "cell_type": "markdown",
      "metadata": {
        "id": "dm7Mabi7t78O"
      },
      "source": [
        "## The Normal Equation"
      ]
    },
    {
      "cell_type": "markdown",
      "metadata": {
        "id": "FnjTn_sguEOU"
      },
      "source": [
        "To find the value of $\\theta$ that minimizes the cost function, there is a closed-form solution —in other words, a mathematical equation that gives the result directly. This is called the Normal Equation"
      ]
    },
    {
      "cell_type": "markdown",
      "metadata": {
        "id": "fEihamv9uarE"
      },
      "source": [
        "$$ \\hat\\theta = (X^T X)^{-1} X^T y $$"
      ]
    },
    {
      "cell_type": "markdown",
      "metadata": {
        "id": "y046vTPkpOCD"
      },
      "source": [
        "* $\\hat \\theta$ is the value of $\\theta$ that minimizes the cost function"
      ]
    },
    {
      "cell_type": "markdown",
      "metadata": {
        "id": "os_6-I7WpUA7"
      },
      "source": [
        "* $y$ is the vector of target values containing $y^{(1)}$ to $y^{(m)}$"
      ]
    },
    {
      "cell_type": "markdown",
      "metadata": {
        "id": "zGSDWJbwplfJ"
      },
      "source": [
        "Let’s generate some linear-looking data to test this equation"
      ]
    },
    {
      "cell_type": "code",
      "metadata": {
        "id": "3TggQrkxpttV"
      },
      "source": [
        "import numpy as np\n",
        "\n",
        "X = 2 * np.random.rand(100, 1)\n",
        "y = 4 + 3 * X + np.random.randn(100, 1)"
      ],
      "execution_count": 13,
      "outputs": []
    },
    {
      "cell_type": "code",
      "metadata": {
        "colab": {
          "base_uri": "https://localhost:8080/",
          "height": 287
        },
        "id": "WEYL-eqJpvrf",
        "outputId": "8994b321-f066-4792-8e8f-61710555c148"
      },
      "source": [
        "import matplotlib.pyplot as plt\n",
        "plt.plot(X, y, 'b.')\n",
        "plt.xlabel('$x_1$', fontsize=18)\n",
        "plt.ylabel(\"$y$\", rotation=0, fontsize=18)\n",
        "plt.axis([0, 2, 0, 15])\n",
        "plt.show()"
      ],
      "execution_count": 33,
      "outputs": [
        {
          "output_type": "display_data",
          "data": {
            "image/png": "[encoded data removed]",
            "text/plain": [
              "<Figure size 432x288 with 1 Axes>"
            ]
          },
          "metadata": {
            "tags": [],
            "needs_background": "light"
          }
        }
      ]
    },
    {
      "cell_type": "markdown",
      "metadata": {
        "id": "fgCcynYhrze9"
      },
      "source": [
        "Now let’s compute $\\hat \\theta$ using the Normal Equation. We will use the function from inv() NumPy’s Linear Algebra module (np.linalg) to compute the inverse of a matrix, and the dot() method for matrix multiplication "
      ]
    },
    {
      "cell_type": "code",
      "metadata": {
        "id": "NXDGBBWxsGnZ"
      },
      "source": [
        "X_b = np.c_[np.ones((100, 1)), X]\n",
        "theta_best = np.linalg.inv(X_b.T.dot(X_b)).dot(X_b.T).dot(y)"
      ],
      "execution_count": 34,
      "outputs": []
    },
    {
      "cell_type": "markdown",
      "metadata": {
        "id": "GpsobOBxsWet"
      },
      "source": [
        "The actual function that we used to generate the data is $y = 4 + 3x_1$ + Gaussian noise. Let’s see what the equation found"
      ]
    },
    {
      "cell_type": "code",
      "metadata": {
        "colab": {
          "base_uri": "https://localhost:8080/"
        },
        "id": "C1QPi4ulsn66",
        "outputId": "533a1307-15d9-43c3-f991-d83fdcd5223c"
      },
      "source": [
        "theta_best"
      ],
      "execution_count": 35,
      "outputs": [
        {
          "output_type": "execute_result",
          "data": {
            "text/plain": [
              "array([[3.95301192],\n",
              "       [2.89095379]])"
            ]
          },
          "metadata": {
            "tags": []
          },
          "execution_count": 35
        }
      ]
    },
    {
      "cell_type": "markdown",
      "metadata": {
        "id": "610K_QkNssAv"
      },
      "source": [
        "We would have hoped for $θ_0 = 4$ and $θ_1 = 3$ instead of $θ_0 = 4.215$ and $θ_1 = 2.770$. Close enough, but the noise made it impossible to recover the exact parameters of the original function\n",
        "\n",
        "Now you can make predictions using $\\hat \\theta$"
      ]
    },
    {
      "cell_type": "code",
      "metadata": {
        "colab": {
          "base_uri": "https://localhost:8080/"
        },
        "id": "OAmIiCEgtAqZ",
        "outputId": "503fd067-8644-4f05-eb72-8d2e54af0aba"
      },
      "source": [
        "X_new = np.array([[0], [2]])\n",
        "X_new_b = np.c_[np.ones((2, 1)), X_new]\n",
        "y_predict = X_new_b.dot(theta_best)\n",
        "y_predict"
      ],
      "execution_count": 36,
      "outputs": [
        {
          "output_type": "execute_result",
          "data": {
            "text/plain": [
              "array([[3.95301192],\n",
              "       [9.7349195 ]])"
            ]
          },
          "metadata": {
            "tags": []
          },
          "execution_count": 36
        }
      ]
    },
    {
      "cell_type": "markdown",
      "metadata": {
        "id": "dyGAUo5utOIj"
      },
      "source": [
        "Let’s plot this model’s predictions"
      ]
    },
    {
      "cell_type": "code",
      "metadata": {
        "colab": {
          "base_uri": "https://localhost:8080/",
          "height": 265
        },
        "id": "3CxriQe-tNv6",
        "outputId": "295a37be-77d6-4577-ed08-64c7d3e7f24e"
      },
      "source": [
        "plt.plot(X_new, y_predict, 'r-')\n",
        "plt.plot(X, y, 'b.')\n",
        "plt.axis([0, 2, 0, 15])\n",
        "plt.legend(['Predictions'])\n",
        "plt.show()"
      ],
      "execution_count": 39,
      "outputs": [
        {
          "output_type": "display_data",
          "data": {
            "image/png": "[encoded data removed]",
            "text/plain": [
              "<Figure size 432x288 with 1 Axes>"
            ]
          },
          "metadata": {
            "tags": [],
            "needs_background": "light"
          }
        }
      ]
    },
    {
      "cell_type": "markdown",
      "metadata": {
        "id": "x9kg5TJ6ttGI"
      },
      "source": [
        "Performing linear regression using Scikit-Learn is quite simple"
      ]
    },
    {
      "cell_type": "code",
      "metadata": {
        "colab": {
          "base_uri": "https://localhost:8080/"
        },
        "id": "3Ak2Osq8tuyD",
        "outputId": "a02da6f6-dba8-469e-8e96-bde1a80c32bf"
      },
      "source": [
        "from sklearn.linear_model import LinearRegression\n",
        "lin_reg = LinearRegression()\n",
        "lin_reg.fit(X, y)\n",
        "lin_reg.intercept_, lin_reg.coef_"
      ],
      "execution_count": 41,
      "outputs": [
        {
          "output_type": "execute_result",
          "data": {
            "text/plain": [
              "(array([3.95301192]), array([[2.89095379]]))"
            ]
          },
          "metadata": {
            "tags": []
          },
          "execution_count": 41
        }
      ]
    },
    {
      "cell_type": "code",
      "metadata": {
        "colab": {
          "base_uri": "https://localhost:8080/"
        },
        "id": "7BoOMUTzt8W6",
        "outputId": "09c2db4a-a901-4451-a3d2-e242aef942fe"
      },
      "source": [
        "lin_reg.predict(X_new)"
      ],
      "execution_count": 42,
      "outputs": [
        {
          "output_type": "execute_result",
          "data": {
            "text/plain": [
              "array([[3.95301192],\n",
              "       [9.7349195 ]])"
            ]
          },
          "metadata": {
            "tags": []
          },
          "execution_count": 42
        }
      ]
    },
    {
      "cell_type": "markdown",
      "metadata": {
        "id": "Kj3wTUf4t_9e"
      },
      "source": [
        "The LinearRegression class is based on the scipy.linalg.lstsq() function (the name stands for “least squares”), which you could call directly"
      ]
    },
    {
      "cell_type": "code",
      "metadata": {
        "colab": {
          "base_uri": "https://localhost:8080/"
        },
        "id": "mPTQPezcuI23",
        "outputId": "05ad11f0-9c06-4223-8b11-0c5b945a2ea4"
      },
      "source": [
        "theta_best_svd, residuals, rank, s = np.linalg.lstsq(X_b, y, rcond=1e-6)\n",
        "theta_best_svd"
      ],
      "execution_count": 43,
      "outputs": [
        {
          "output_type": "execute_result",
          "data": {
            "text/plain": [
              "array([[3.95301192],\n",
              "       [2.89095379]])"
            ]
          },
          "metadata": {
            "tags": []
          },
          "execution_count": 43
        }
      ]
    },
    {
      "cell_type": "markdown",
      "metadata": {
        "id": "0xN3yRUZuaUy"
      },
      "source": [
        "This function computes $\\hat \\theta = X^+ y$, \n",
        "where $X^+$ is the pseudoinverse of $X$ (specifically the Moore-Penrose inverse). You can use np.linalg.pinv() to compute the pseudoinverse directly"
      ]
    },
    {
      "cell_type": "code",
      "metadata": {
        "colab": {
          "base_uri": "https://localhost:8080/"
        },
        "id": "osIfEIVsu9S-",
        "outputId": "3327656d-3ca2-4f45-c374-2ed45e124b95"
      },
      "source": [
        "np.linalg.pinv(X_b).dot(y)"
      ],
      "execution_count": 44,
      "outputs": [
        {
          "output_type": "execute_result",
          "data": {
            "text/plain": [
              "array([[3.95301192],\n",
              "       [2.89095379]])"
            ]
          },
          "metadata": {
            "tags": []
          },
          "execution_count": 44
        }
      ]
    },
    {
      "cell_type": "markdown",
      "metadata": {
        "id": "GEgYGGNYvAiw"
      },
      "source": [
        "The pseudoinverse itself is computed using a standard matrix factorization technique called Singular Value Decomposition (SVD) that can decompose the training set matrix $X$ into the matrix multiplication of three matrices $U \\Sigma V^T$ (see numpy.linalg.svd())\n",
        "\n",
        "The pseudoinverse is computed as $X^+ = V\\Sigma U^T$. To compute the matrix $\\Sigma^+$, the algorithm takes $\\Sigma$ and sets to zero all values smaller than a tiny threshold value, then it replaces all the non-zero values with their inverse, and finally it transposes the resulting matrix.\n",
        "\n",
        "This approach is more efficient than computing the Normal Equation, plus it handles edge cases nicely: indeed, the Normal Equation may not work if the matrix $X^T X$ is not invertible (i.e., singular), such as if $m < n$ or if some features are redundant, but the pseudoinverse is always defined\n",
        "\n"
      ]
    }
  ]
}