{
  "nbformat": 4,
  "nbformat_minor": 0,
  "metadata": {
    "colab": {
      "name": "10.Introduction to Artificial Neural Networks with Keras.ipynb",
      "provenance": [],
      "collapsed_sections": [],
      "authorship_tag": "ABX9TyPuUv95WbXz729qg9RDPamO"
    },
    "kernelspec": {
      "name": "python3",
      "display_name": "Python 3"
    },
    "language_info": {
      "name": "python"
    }
  },
  "cells": [
    {
      "cell_type": "markdown",
      "metadata": {
        "id": "EGt3GTbW5Sqq"
      },
      "source": [
        "# Installing TensorFlow 2"
      ]
    },
    {
      "cell_type": "markdown",
      "metadata": {
        "id": "7o0PcAxWzX-i"
      },
      "source": [
        "## Building an Image Classifier Using the Sequential API"
      ]
    },
    {
      "cell_type": "markdown",
      "metadata": {
        "id": "iSNNMYkt4b4_"
      },
      "source": [
        "### Using Keras to Load the Dataset"
      ]
    },
    {
      "cell_type": "markdown",
      "metadata": {
        "id": "QPgwAPbO4fO0"
      },
      "source": [
        "Keras provides some utility functions to fetch and load common datasets, including MNIST, Fashion MNIST, the original California housing dataset, and more. Let’s load Fashion MNIST"
      ]
    },
    {
      "cell_type": "code",
      "metadata": {
        "id": "TA4aRaYuzGja"
      },
      "source": [
        "import tensorflow as tf\n",
        "from tensorflow import keras"
      ],
      "execution_count": 1,
      "outputs": []
    },
    {
      "cell_type": "code",
      "metadata": {
        "colab": {
          "base_uri": "https://localhost:8080/",
          "height": 35
        },
        "id": "-4KT645t5YH8",
        "outputId": "13efe76c-0c22-42bd-e597-7fbea352e9e9"
      },
      "source": [
        "tf.__version__"
      ],
      "execution_count": 2,
      "outputs": [
        {
          "output_type": "execute_result",
          "data": {
            "application/vnd.google.colaboratory.intrinsic+json": {
              "type": "string"
            },
            "text/plain": [
              "'2.5.0'"
            ]
          },
          "metadata": {
            "tags": []
          },
          "execution_count": 2
        }
      ]
    },
    {
      "cell_type": "code",
      "metadata": {
        "colab": {
          "base_uri": "https://localhost:8080/",
          "height": 35
        },
        "id": "egSodSHw5ahg",
        "outputId": "7df9d35f-0f44-4dbf-faa6-d4d55e8c5d47"
      },
      "source": [
        "keras.__version__"
      ],
      "execution_count": 3,
      "outputs": [
        {
          "output_type": "execute_result",
          "data": {
            "application/vnd.google.colaboratory.intrinsic+json": {
              "type": "string"
            },
            "text/plain": [
              "'2.5.0'"
            ]
          },
          "metadata": {
            "tags": []
          },
          "execution_count": 3
        }
      ]
    },
    {
      "cell_type": "markdown",
      "metadata": {
        "id": "wMyfNEgK4jiw"
      },
      "source": [
        "When loading MNIST or Fashion MNIST using Keras rather than Scikit-Learn, one important difference is that every image is represented as a array rather than a 1D array of size 784\n",
        "\n",
        "Moreover, the pixel intensities are represented as integers (from 0 to 255) rather than floats (from 0.0 to 255.0). Here is the shape and data type of the training set"
      ]
    },
    {
      "cell_type": "code",
      "metadata": {
        "colab": {
          "base_uri": "https://localhost:8080/"
        },
        "id": "NiT9ufcc4AdI",
        "outputId": "4b81cb68-ee17-470f-9a6b-911dda91e18a"
      },
      "source": [
        "fashion_mnist = keras.datasets.fashion_mnist\n",
        "(X_train_full, y_train_full), (X_test, y_test) = fashion_mnist.load_data()"
      ],
      "execution_count": 4,
      "outputs": [
        {
          "output_type": "stream",
          "text": [
            "Downloading data from https://storage.googleapis.com/tensorflow/tf-keras-datasets/train-labels-idx1-ubyte.gz\n",
            "32768/29515 [=================================] - 0s 0us/step\n",
            "Downloading data from https://storage.googleapis.com/tensorflow/tf-keras-datasets/train-images-idx3-ubyte.gz\n",
            "26427392/26421880 [==============================] - 1s 0us/step\n",
            "Downloading data from https://storage.googleapis.com/tensorflow/tf-keras-datasets/t10k-labels-idx1-ubyte.gz\n",
            "8192/5148 [===============================================] - 0s 0us/step\n",
            "Downloading data from https://storage.googleapis.com/tensorflow/tf-keras-datasets/t10k-images-idx3-ubyte.gz\n",
            "4423680/4422102 [==============================] - 0s 0us/step\n"
          ],
          "name": "stdout"
        }
      ]
    },
    {
      "cell_type": "code",
      "metadata": {
        "colab": {
          "base_uri": "https://localhost:8080/"
        },
        "id": "AfjWun0e4NdE",
        "outputId": "304e758c-3c6c-49fa-b1d1-c3db33bc4444"
      },
      "source": [
        "X_train_full.shape"
      ],
      "execution_count": 5,
      "outputs": [
        {
          "output_type": "execute_result",
          "data": {
            "text/plain": [
              "(60000, 28, 28)"
            ]
          },
          "metadata": {
            "tags": []
          },
          "execution_count": 5
        }
      ]
    },
    {
      "cell_type": "code",
      "metadata": {
        "colab": {
          "base_uri": "https://localhost:8080/"
        },
        "id": "9UEJxl7S4SKy",
        "outputId": "9a40af81-d370-465d-80c1-79de51fb7544"
      },
      "source": [
        "X_train_full.dtype"
      ],
      "execution_count": 6,
      "outputs": [
        {
          "output_type": "execute_result",
          "data": {
            "text/plain": [
              "dtype('uint8')"
            ]
          },
          "metadata": {
            "tags": []
          },
          "execution_count": 6
        }
      ]
    },
    {
      "cell_type": "markdown",
      "metadata": {
        "id": "1LMfkXVR4rwc"
      },
      "source": [
        "Note that the dataset is already split into a training set and a test set, but there is no validation set, so let’s create one\n",
        "\n",
        "Moreover, since we are going to train the neural net work using Gradient Descent, we must scale the input features. For simplicity, we just scale the pixel intensities down to the 0-1 range by dividing them by 255.0 (this also converts them to floats)"
      ]
    },
    {
      "cell_type": "code",
      "metadata": {
        "id": "NBqmGOoC4zis"
      },
      "source": [
        "X_valid, X_train = X_train_full[:5000] / 255.0, X_train_full[5000:] / 255.0\n",
        "y_valid, y_train = y_train_full[:5000], y_train_full[5000:]"
      ],
      "execution_count": 7,
      "outputs": []
    },
    {
      "cell_type": "markdown",
      "metadata": {
        "id": "mg6JeObO47iy"
      },
      "source": [
        "With MNIST, when the label is equal to 5, it means that the image represents the handwritten digit 5. Easy. However, for Fashion MNIST, we need the list of class names to know what we are dealing with"
      ]
    },
    {
      "cell_type": "code",
      "metadata": {
        "id": "0rSJOheM5idC"
      },
      "source": [
        "class_names = ['T-shirt/top', 'Trouser', 'Pullover', 'Dress', 'Coat',\n",
        "               'Sandal', 'Shirt', 'Sneaker', 'Bag', 'Ankle Boot']"
      ],
      "execution_count": 8,
      "outputs": []
    },
    {
      "cell_type": "markdown",
      "metadata": {
        "id": "SNbPxWQe5yyi"
      },
      "source": [
        "For example, the first image in the training set represents a coat"
      ]
    },
    {
      "cell_type": "code",
      "metadata": {
        "colab": {
          "base_uri": "https://localhost:8080/",
          "height": 35
        },
        "id": "Ty9ue-xV5w17",
        "outputId": "e0f7a848-163e-4927-96fd-59f515bccddf"
      },
      "source": [
        "class_names[y_train[0]]"
      ],
      "execution_count": 9,
      "outputs": [
        {
          "output_type": "execute_result",
          "data": {
            "application/vnd.google.colaboratory.intrinsic+json": {
              "type": "string"
            },
            "text/plain": [
              "'Coat'"
            ]
          },
          "metadata": {
            "tags": []
          },
          "execution_count": 9
        }
      ]
    },
    {
      "cell_type": "code",
      "metadata": {
        "colab": {
          "base_uri": "https://localhost:8080/",
          "height": 248
        },
        "id": "pGQmcrAJ6Jfm",
        "outputId": "9fca754f-740c-4ced-b45c-64664c5c85b6"
      },
      "source": [
        "import matplotlib.pyplot as plt\n",
        "plt.imshow(X_train[0], cmap='binary')\n",
        "plt.axis('off')\n",
        "plt.show()"
      ],
      "execution_count": 10,
      "outputs": [
        {
          "output_type": "display_data",
          "data": {
            "image/png": "[encoded data removed]",
            "text/plain": [
              "<Figure size 432x288 with 1 Axes>"
            ]
          },
          "metadata": {
            "tags": [],
            "needs_background": "light"
          }
        }
      ]
    },
    {
      "cell_type": "markdown",
      "metadata": {
        "id": "Vtl45QMo6j7N"
      },
      "source": [
        "Let's take a look at a sample of the images in the dataset"
      ]
    },
    {
      "cell_type": "code",
      "metadata": {
        "colab": {
          "base_uri": "https://localhost:8080/",
          "height": 308
        },
        "id": "KHlDjMnw6lxi",
        "outputId": "5640f535-4b55-4086-e757-168cf140e4a2"
      },
      "source": [
        "n_rows = 4\n",
        "n_cols = 10\n",
        "plt.figure(figsize=(n_cols * 1.2, n_rows * 1.2))\n",
        "for row in range(n_rows):\n",
        "  for col in range(n_cols):\n",
        "    index = n_cols * row + col\n",
        "    plt.subplot(n_rows, n_cols, index + 1)\n",
        "    plt.imshow(X_train[index], cmap='binary', interpolation='nearest')\n",
        "    plt.axis('off')\n",
        "    plt.title(class_names[y_train[index]], fontsize=12)\n",
        "plt.subplots_adjust(wspace=0.2, hspace=0.5)\n",
        "plt.show()"
      ],
      "execution_count": 11,
      "outputs": [
        {
          "output_type": "display_data",
          "data": {
            "image/png": "[encoded data removed]",
            "text/plain": [
              "<Figure size 864x345.6 with 40 Axes>"
            ]
          },
          "metadata": {
            "tags": [],
            "needs_background": "light"
          }
        }
      ]
    },
    {
      "cell_type": "markdown",
      "metadata": {
        "id": "YwbQnfsZ7W4T"
      },
      "source": [
        "### Creating the Model Using the Sequential API"
      ]
    },
    {
      "cell_type": "markdown",
      "metadata": {
        "id": "B552kFHn7YsB"
      },
      "source": [
        "Now let’s build the neural network! Here is a classification MLP with two hidden layers"
      ]
    },
    {
      "cell_type": "code",
      "metadata": {
        "id": "gW8AMnIt7bUI"
      },
      "source": [
        "model = keras.models.Sequential()\n",
        "model.add(keras.layers.Flatten(input_shape=[28, 28]))\n",
        "model.add(keras.layers.Dense(300, activation='relu'))\n",
        "model.add(keras.layers.Dense(100, activation='relu'))\n",
        "model.add(keras.layers.Dense(10, activation='softmax'))"
      ],
      "execution_count": 12,
      "outputs": []
    },
    {
      "cell_type": "markdown",
      "metadata": {
        "id": "6tWs7Jre71vL"
      },
      "source": [
        "* The first line creates a Sequential model. This is the simplest kind of Keras model, for neural networks that are just composed of a single stack of layers, con nected sequentially. This is called the sequential API\n",
        "\n",
        "* Next, we build the first layer and add it to the model. It is a Flatten layer whose role is simply to convert each input image into a 1D array: if it receives input data X, it computes X.reshape(-1, 1). This layer does not have any parameters, it is just there to do some simple preprocessing. Since it is the first layer in the model, you should specify the _shape: this does not include the batch size, only the input shape of the instances. Alternatively, you could add a keras.layers.InputLayer as the first layer, setting shape=[28,28] \n",
        "\n",
        "* Next we add a Dense hidden layer with 300 neurons. It will use the ReLU activation function. Each Dense layer manages its own weight matrix, containing all the connection weights between the neurons and their inputs. It also manages a vector of bias terms (one per neuron)\n",
        "\n",
        "* Next we add a second Dense hidden layer with 100 neurons, also using the ReLU  activation function\n",
        "\n",
        "* Finally, we add a Dense output layer with 10 neurons (one per class), using the softmax activation function (because the classes are exclusive)"
      ]
    },
    {
      "cell_type": "markdown",
      "metadata": {
        "id": "V4lm0wEP9Kws"
      },
      "source": [
        "Instead of adding the layers one by one as we just did, you can pass a list of layers when creating the Sequential model "
      ]
    },
    {
      "cell_type": "code",
      "metadata": {
        "id": "j88jrHrd9Sl2"
      },
      "source": [
        "model = keras.models.Sequential([\n",
        "    keras.layers.Flatten(input_shape=[28, 28]),\n",
        "    keras.layers.Dense(300, activation='relu'),\n",
        "    keras.layers.Dense(100, activation='relu'),\n",
        "    keras.layers.Dense(10, activation='softmax')                     \n",
        "])"
      ],
      "execution_count": 13,
      "outputs": []
    },
    {
      "cell_type": "markdown",
      "metadata": {
        "id": "WUW5v8bI9qk4"
      },
      "source": [
        "The model’s summary() method displays all the model’s layers, including each layer’s name (which is automatically generated unless you set it when creating the layer), its output shape (None means the batch size can be anything), and its number of parameters\n",
        "\n",
        "The summary ends with the total number of parameters, including trainable and non-trainable parameters"
      ]
    },
    {
      "cell_type": "code",
      "metadata": {
        "colab": {
          "base_uri": "https://localhost:8080/"
        },
        "id": "0KJUY2nK-KN4",
        "outputId": "8953d200-a632-462b-df18-55b11960aa6e"
      },
      "source": [
        "model.summary()"
      ],
      "execution_count": 14,
      "outputs": [
        {
          "output_type": "stream",
          "text": [
            "Model: \"sequential_1\"\n",
            "_________________________________________________________________\n",
            "Layer (type)                 Output Shape              Param #   \n",
            "=================================================================\n",
            "flatten_1 (Flatten)          (None, 784)               0         \n",
            "_________________________________________________________________\n",
            "dense_3 (Dense)              (None, 300)               235500    \n",
            "_________________________________________________________________\n",
            "dense_4 (Dense)              (None, 100)               30100     \n",
            "_________________________________________________________________\n",
            "dense_5 (Dense)              (None, 10)                1010      \n",
            "=================================================================\n",
            "Total params: 266,610\n",
            "Trainable params: 266,610\n",
            "Non-trainable params: 0\n",
            "_________________________________________________________________\n"
          ],
          "name": "stdout"
        }
      ]
    },
    {
      "cell_type": "markdown",
      "metadata": {
        "id": "ejF9HFw--PzT"
      },
      "source": [
        "Note that Dense layers often have a lot of parameters\n",
        "\n",
        "For example, the first hidden layer has 784 x 300 connection weights, plus 300 bias terms, which adds up to 235,500 parameters\n",
        "\n",
        "This gives the model quite a lot of flexibility to fit the training data, but it also means that the model runs the risk of overfitting, especially when you do not have a lot of training data"
      ]
    },
    {
      "cell_type": "markdown",
      "metadata": {
        "id": "tWrWXV8d-mAl"
      },
      "source": [
        "You can easily get a model’s list of layers, to fetch a layer by its index, or you can fetch it by name"
      ]
    },
    {
      "cell_type": "code",
      "metadata": {
        "colab": {
          "base_uri": "https://localhost:8080/"
        },
        "id": "KOHFsvEs-lb2",
        "outputId": "a1ef1714-a7b0-4d8a-b2c5-aa237cbc5362"
      },
      "source": [
        "model.layers"
      ],
      "execution_count": 15,
      "outputs": [
        {
          "output_type": "execute_result",
          "data": {
            "text/plain": [
              "[<tensorflow.python.keras.layers.core.Flatten at 0x7f5ac65611d0>,\n",
              " <tensorflow.python.keras.layers.core.Dense at 0x7f5ac6561310>,\n",
              " <tensorflow.python.keras.layers.core.Dense at 0x7f5ac6561710>,\n",
              " <tensorflow.python.keras.layers.core.Dense at 0x7f5ac6561ad0>]"
            ]
          },
          "metadata": {
            "tags": []
          },
          "execution_count": 15
        }
      ]
    },
    {
      "cell_type": "code",
      "metadata": {
        "colab": {
          "base_uri": "https://localhost:8080/",
          "height": 35
        },
        "id": "ShAR40FS-qD5",
        "outputId": "a1763281-3244-40e2-befc-1f6f234a3f0e"
      },
      "source": [
        "model.layers[1].name"
      ],
      "execution_count": 16,
      "outputs": [
        {
          "output_type": "execute_result",
          "data": {
            "application/vnd.google.colaboratory.intrinsic+json": {
              "type": "string"
            },
            "text/plain": [
              "'dense_3'"
            ]
          },
          "metadata": {
            "tags": []
          },
          "execution_count": 16
        }
      ]
    },
    {
      "cell_type": "code",
      "metadata": {
        "colab": {
          "base_uri": "https://localhost:8080/",
          "height": 35
        },
        "id": "bKvEunUO-s_R",
        "outputId": "83094980-70c7-426d-e99c-5ee45390d907"
      },
      "source": [
        "model.get_layer('dense_3').name"
      ],
      "execution_count": 17,
      "outputs": [
        {
          "output_type": "execute_result",
          "data": {
            "application/vnd.google.colaboratory.intrinsic+json": {
              "type": "string"
            },
            "text/plain": [
              "'dense_3'"
            ]
          },
          "metadata": {
            "tags": []
          },
          "execution_count": 17
        }
      ]
    },
    {
      "cell_type": "code",
      "metadata": {
        "colab": {
          "base_uri": "https://localhost:8080/",
          "height": 533
        },
        "id": "ADzZOcI7_JhO",
        "outputId": "6fa45ea2-9382-4e7e-9f78-cc5d634b1448"
      },
      "source": [
        "keras.utils.plot_model(model, show_shapes=True, show_dtype=True)"
      ],
      "execution_count": 18,
      "outputs": [
        {
          "output_type": "execute_result",
          "data": {
            "image/png": "[encoded data removed]",
            "text/plain": [
              "<IPython.core.display.Image object>"
            ]
          },
          "metadata": {
            "tags": []
          },
          "execution_count": 18
        }
      ]
    },
    {
      "cell_type": "markdown",
      "metadata": {
        "id": "wZm-Bg2P-1On"
      },
      "source": [
        "All the parameters of a layer can be accessed using its get_weights() and set_weights() method. For a layer, this includes both the connection weights Dense and the bias terms"
      ]
    },
    {
      "cell_type": "code",
      "metadata": {
        "colab": {
          "base_uri": "https://localhost:8080/"
        },
        "id": "GJr1ZH6M_Ba3",
        "outputId": "81192f53-84b6-4140-f858-91c041129d68"
      },
      "source": [
        "hidden1 = model.layers[1]\n",
        "weights, biases = hidden1.get_weights()\n",
        "weights"
      ],
      "execution_count": 19,
      "outputs": [
        {
          "output_type": "execute_result",
          "data": {
            "text/plain": [
              "array([[-0.01471527, -0.00049721,  0.04981431, ..., -0.01055089,\n",
              "         0.0509775 ,  0.03518412],\n",
              "       [-0.04252241, -0.02156904, -0.06323852, ...,  0.07271478,\n",
              "        -0.00390291,  0.00228965],\n",
              "       [-0.02085952, -0.05654037, -0.05610731, ..., -0.04055363,\n",
              "        -0.01002492, -0.04318257],\n",
              "       ...,\n",
              "       [-0.00880023,  0.03197351, -0.03810976, ..., -0.05105256,\n",
              "         0.00946719,  0.01859298],\n",
              "       [ 0.03574207, -0.00887253, -0.01045632, ...,  0.01531433,\n",
              "        -0.04660502,  0.05731654],\n",
              "       [-0.06221472,  0.05206694, -0.02540335, ...,  0.03156355,\n",
              "        -0.03022912, -0.01435551]], dtype=float32)"
            ]
          },
          "metadata": {
            "tags": []
          },
          "execution_count": 19
        }
      ]
    },
    {
      "cell_type": "code",
      "metadata": {
        "colab": {
          "base_uri": "https://localhost:8080/"
        },
        "id": "qfO4IE-m_91r",
        "outputId": "53e0d982-87c4-41ce-faee-04d16d5c7417"
      },
      "source": [
        "weights.shape"
      ],
      "execution_count": 20,
      "outputs": [
        {
          "output_type": "execute_result",
          "data": {
            "text/plain": [
              "(784, 300)"
            ]
          },
          "metadata": {
            "tags": []
          },
          "execution_count": 20
        }
      ]
    },
    {
      "cell_type": "code",
      "metadata": {
        "colab": {
          "base_uri": "https://localhost:8080/"
        },
        "id": "em0IOyiW__vw",
        "outputId": "5bedf456-d0d0-4450-f1ca-ccc21ab60ed0"
      },
      "source": [
        "biases"
      ],
      "execution_count": 21,
      "outputs": [
        {
          "output_type": "execute_result",
          "data": {
            "text/plain": [
              "array([0., 0., 0., 0., 0., 0., 0., 0., 0., 0., 0., 0., 0., 0., 0., 0., 0.,\n",
              "       0., 0., 0., 0., 0., 0., 0., 0., 0., 0., 0., 0., 0., 0., 0., 0., 0.,\n",
              "       0., 0., 0., 0., 0., 0., 0., 0., 0., 0., 0., 0., 0., 0., 0., 0., 0.,\n",
              "       0., 0., 0., 0., 0., 0., 0., 0., 0., 0., 0., 0., 0., 0., 0., 0., 0.,\n",
              "       0., 0., 0., 0., 0., 0., 0., 0., 0., 0., 0., 0., 0., 0., 0., 0., 0.,\n",
              "       0., 0., 0., 0., 0., 0., 0., 0., 0., 0., 0., 0., 0., 0., 0., 0., 0.,\n",
              "       0., 0., 0., 0., 0., 0., 0., 0., 0., 0., 0., 0., 0., 0., 0., 0., 0.,\n",
              "       0., 0., 0., 0., 0., 0., 0., 0., 0., 0., 0., 0., 0., 0., 0., 0., 0.,\n",
              "       0., 0., 0., 0., 0., 0., 0., 0., 0., 0., 0., 0., 0., 0., 0., 0., 0.,\n",
              "       0., 0., 0., 0., 0., 0., 0., 0., 0., 0., 0., 0., 0., 0., 0., 0., 0.,\n",
              "       0., 0., 0., 0., 0., 0., 0., 0., 0., 0., 0., 0., 0., 0., 0., 0., 0.,\n",
              "       0., 0., 0., 0., 0., 0., 0., 0., 0., 0., 0., 0., 0., 0., 0., 0., 0.,\n",
              "       0., 0., 0., 0., 0., 0., 0., 0., 0., 0., 0., 0., 0., 0., 0., 0., 0.,\n",
              "       0., 0., 0., 0., 0., 0., 0., 0., 0., 0., 0., 0., 0., 0., 0., 0., 0.,\n",
              "       0., 0., 0., 0., 0., 0., 0., 0., 0., 0., 0., 0., 0., 0., 0., 0., 0.,\n",
              "       0., 0., 0., 0., 0., 0., 0., 0., 0., 0., 0., 0., 0., 0., 0., 0., 0.,\n",
              "       0., 0., 0., 0., 0., 0., 0., 0., 0., 0., 0., 0., 0., 0., 0., 0., 0.,\n",
              "       0., 0., 0., 0., 0., 0., 0., 0., 0., 0., 0.], dtype=float32)"
            ]
          },
          "metadata": {
            "tags": []
          },
          "execution_count": 21
        }
      ]
    },
    {
      "cell_type": "code",
      "metadata": {
        "colab": {
          "base_uri": "https://localhost:8080/"
        },
        "id": "630Ckm1gAAiO",
        "outputId": "d399c62f-bee8-4e74-96c2-ee0495aa3c89"
      },
      "source": [
        "biases.shape"
      ],
      "execution_count": 22,
      "outputs": [
        {
          "output_type": "execute_result",
          "data": {
            "text/plain": [
              "(300,)"
            ]
          },
          "metadata": {
            "tags": []
          },
          "execution_count": 22
        }
      ]
    },
    {
      "cell_type": "markdown",
      "metadata": {
        "id": "Ix8OUN2rADhy"
      },
      "source": [
        "Notice that the layer initialized the connection weights randomly (which is Dense needed to break symmetry, as we discussed earlier), and the biases were just initial ized to zeros, which is fine\n",
        "\n",
        "If you ever want to use a different initialization method, you can set kernel_initializer (kernel is another name for the matrix of connection weights) or bias_initializer when creating the layer "
      ]
    },
    {
      "cell_type": "markdown",
      "metadata": {
        "id": "Rnm5Dq7FAQzo"
      },
      "source": [
        "### Compiling the Model"
      ]
    },
    {
      "cell_type": "markdown",
      "metadata": {
        "id": "owDyJYv_6w88"
      },
      "source": [
        "After a model is created, you must call its compile() method to specify the loss function and the optimizer to use. Optionally, you can also specify a list of extra metrics to compute during training and evaluation"
      ]
    },
    {
      "cell_type": "markdown",
      "metadata": {
        "id": "tpAPgC0E7FZq"
      },
      "source": [
        "Using loss=\"sparse_categorical_crossentropy\" is equivalent to  loss=keras.losses.sparse_categorical_crossentropy. Similarly optimizer=\"sgd\" is equivalent to optimizer=keras.optimizers.SGD() and metrics=[\"accuracy\"] is equivalent to metrics=[keras.metrics.sparse_categorical_accuracy] (when  using this loss)"
      ]
    },
    {
      "cell_type": "code",
      "metadata": {
        "id": "QySb_dbh62rJ"
      },
      "source": [
        "model.compile(loss='sparse_categorical_crossentropy',\n",
        "              optimizer='sgd',\n",
        "              metrics=['accuracy']\n",
        "              )"
      ],
      "execution_count": 23,
      "outputs": []
    },
    {
      "cell_type": "markdown",
      "metadata": {
        "id": "qr90uBg07zu7"
      },
      "source": [
        "First, we use the \"sparse_categorical_crossentropy\" loss because we have sparse labels (i.e., for each instance there is just a target class index, from 0 to 9 in this case), and the classes are exclusive\n",
        "\n",
        "If instead we had one target probability per class for each instance (such as one-hot vectors, e.g. [0., 0., 0., 1., 0., 0., 0., 0., 0., 0.] to represent class 3), then we would need  to use the \"categorical_crossentropy\" loss instead\n",
        "\n",
        "If we were doing binary classification (with one or more binary labels), then we would use the \"sigmoid\" (i.e., logistic) activation function in the output layer instead of the \"softmax\" activation function, and we would use the \"binary_crossentropy\" loss \n",
        "\n",
        "Secondly, regarding the optimizer, simply means that we will train the model \"sgd\" using simple Stochastic Gradient Descent. In other words, Keras will perform the backpropagation algorithm described earlier (i.e., reverse-mode autodiff + Gradient Descent)\n",
        "\n",
        "Finally, since this is a classifier, it’s useful to measure its \"accuracy\" during training  and evaluation"
      ]
    },
    {
      "cell_type": "markdown",
      "metadata": {
        "id": "n4RVuZEi8uLb"
      },
      "source": [
        "If you want to convert sparse labels (i.e., class indices) to one-hot vector labels, you can use the keras.utils.to_categorical() function. To go the other way round, you can just use the np.argmax() function with axis=1"
      ]
    },
    {
      "cell_type": "markdown",
      "metadata": {
        "id": "i7K05hn3ANQk"
      },
      "source": [
        "### Training and Evaluating the Model"
      ]
    },
    {
      "cell_type": "markdown",
      "metadata": {
        "id": "M93WjX8mAR2f"
      },
      "source": [
        "Now the model is ready to be trained. For this we simply need to call its fit() method. We pass it the input features (X_train) and the target classes (y_train), as well as the number of epochs to train (or else it would default to just 1, which would definitely not be enough to converge to a good solution)\n",
        "\n",
        "We also pass a validation set (this is optional): Keras will measure the loss and the extra metrics on this set at the end of each epoch, which is very useful to see how well the model really performs: if the performance on the training set is much better than on the validation set, your model is probably overfitting the training set (or there is a bug, such as a data mis match between the training set and the validation set)\n"
      ]
    },
    {
      "cell_type": "code",
      "metadata": {
        "colab": {
          "base_uri": "https://localhost:8080/"
        },
        "id": "Mpfy6ki6AtAX",
        "outputId": "d5755ccb-3f9e-415b-fda7-432131a5c5e6"
      },
      "source": [
        "history = model.fit(X_train, y_train, epochs=30,\n",
        "                    validation_data=(X_valid, y_valid))"
      ],
      "execution_count": 24,
      "outputs": [
        {
          "output_type": "stream",
          "text": [
            "Epoch 1/30\n",
            "1719/1719 [==============================] - 6s 3ms/step - loss: 0.7144 - accuracy: 0.7648 - val_loss: 0.5123 - val_accuracy: 0.8268\n",
            "Epoch 2/30\n",
            "1719/1719 [==============================] - 5s 3ms/step - loss: 0.4905 - accuracy: 0.8306 - val_loss: 0.4589 - val_accuracy: 0.8440\n",
            "Epoch 3/30\n",
            "1719/1719 [==============================] - 5s 3ms/step - loss: 0.4467 - accuracy: 0.8437 - val_loss: 0.4267 - val_accuracy: 0.8510\n",
            "Epoch 4/30\n",
            "1719/1719 [==============================] - 5s 3ms/step - loss: 0.4180 - accuracy: 0.8540 - val_loss: 0.4139 - val_accuracy: 0.8564\n",
            "Epoch 5/30\n",
            "1719/1719 [==============================] - 5s 3ms/step - loss: 0.3964 - accuracy: 0.8620 - val_loss: 0.3875 - val_accuracy: 0.8664\n",
            "Epoch 6/30\n",
            "1719/1719 [==============================] - 5s 3ms/step - loss: 0.3811 - accuracy: 0.8662 - val_loss: 0.3924 - val_accuracy: 0.8616\n",
            "Epoch 7/30\n",
            "1719/1719 [==============================] - 5s 3ms/step - loss: 0.3677 - accuracy: 0.8714 - val_loss: 0.3587 - val_accuracy: 0.8754\n",
            "Epoch 8/30\n",
            "1719/1719 [==============================] - 5s 3ms/step - loss: 0.3561 - accuracy: 0.8740 - val_loss: 0.3606 - val_accuracy: 0.8730\n",
            "Epoch 9/30\n",
            "1719/1719 [==============================] - 5s 3ms/step - loss: 0.3454 - accuracy: 0.8769 - val_loss: 0.3518 - val_accuracy: 0.8738\n",
            "Epoch 10/30\n",
            "1719/1719 [==============================] - 5s 3ms/step - loss: 0.3364 - accuracy: 0.8805 - val_loss: 0.3474 - val_accuracy: 0.8776\n",
            "Epoch 11/30\n",
            "1719/1719 [==============================] - 5s 3ms/step - loss: 0.3282 - accuracy: 0.8819 - val_loss: 0.3363 - val_accuracy: 0.8820\n",
            "Epoch 12/30\n",
            "1719/1719 [==============================] - 5s 3ms/step - loss: 0.3186 - accuracy: 0.8855 - val_loss: 0.3382 - val_accuracy: 0.8812\n",
            "Epoch 13/30\n",
            "1719/1719 [==============================] - 5s 3ms/step - loss: 0.3121 - accuracy: 0.8882 - val_loss: 0.3430 - val_accuracy: 0.8756\n",
            "Epoch 14/30\n",
            "1719/1719 [==============================] - 5s 3ms/step - loss: 0.3051 - accuracy: 0.8910 - val_loss: 0.3586 - val_accuracy: 0.8748\n",
            "Epoch 15/30\n",
            "1719/1719 [==============================] - 5s 3ms/step - loss: 0.2992 - accuracy: 0.8924 - val_loss: 0.3169 - val_accuracy: 0.8858\n",
            "Epoch 16/30\n",
            "1719/1719 [==============================] - 5s 3ms/step - loss: 0.2923 - accuracy: 0.8962 - val_loss: 0.3243 - val_accuracy: 0.8786\n",
            "Epoch 17/30\n",
            "1719/1719 [==============================] - 5s 3ms/step - loss: 0.2873 - accuracy: 0.8966 - val_loss: 0.3169 - val_accuracy: 0.8870\n",
            "Epoch 18/30\n",
            "1719/1719 [==============================] - 5s 3ms/step - loss: 0.2808 - accuracy: 0.8995 - val_loss: 0.3234 - val_accuracy: 0.8836\n",
            "Epoch 19/30\n",
            "1719/1719 [==============================] - 5s 3ms/step - loss: 0.2755 - accuracy: 0.9000 - val_loss: 0.3174 - val_accuracy: 0.8862\n",
            "Epoch 20/30\n",
            "1719/1719 [==============================] - 5s 3ms/step - loss: 0.2710 - accuracy: 0.9023 - val_loss: 0.3086 - val_accuracy: 0.8912\n",
            "Epoch 21/30\n",
            "1719/1719 [==============================] - 5s 3ms/step - loss: 0.2655 - accuracy: 0.9045 - val_loss: 0.3273 - val_accuracy: 0.8774\n",
            "Epoch 22/30\n",
            "1719/1719 [==============================] - 5s 3ms/step - loss: 0.2608 - accuracy: 0.9058 - val_loss: 0.3009 - val_accuracy: 0.8922\n",
            "Epoch 23/30\n",
            "1719/1719 [==============================] - 5s 3ms/step - loss: 0.2561 - accuracy: 0.9080 - val_loss: 0.2989 - val_accuracy: 0.8912\n",
            "Epoch 24/30\n",
            "1719/1719 [==============================] - 5s 3ms/step - loss: 0.2517 - accuracy: 0.9092 - val_loss: 0.2963 - val_accuracy: 0.8922\n",
            "Epoch 25/30\n",
            "1719/1719 [==============================] - 5s 3ms/step - loss: 0.2466 - accuracy: 0.9107 - val_loss: 0.3144 - val_accuracy: 0.8882\n",
            "Epoch 26/30\n",
            "1719/1719 [==============================] - 5s 3ms/step - loss: 0.2435 - accuracy: 0.9117 - val_loss: 0.3048 - val_accuracy: 0.8934\n",
            "Epoch 27/30\n",
            "1719/1719 [==============================] - 5s 3ms/step - loss: 0.2397 - accuracy: 0.9146 - val_loss: 0.2975 - val_accuracy: 0.8946\n",
            "Epoch 28/30\n",
            "1719/1719 [==============================] - 5s 3ms/step - loss: 0.2361 - accuracy: 0.9151 - val_loss: 0.3000 - val_accuracy: 0.8934\n",
            "Epoch 29/30\n",
            "1719/1719 [==============================] - 5s 3ms/step - loss: 0.2311 - accuracy: 0.9171 - val_loss: 0.2940 - val_accuracy: 0.8974\n",
            "Epoch 30/30\n",
            "1719/1719 [==============================] - 5s 3ms/step - loss: 0.2274 - accuracy: 0.9185 - val_loss: 0.2927 - val_accuracy: 0.8966\n"
          ],
          "name": "stdout"
        }
      ]
    },
    {
      "cell_type": "markdown",
      "metadata": {
        "id": "ugN5-zZfBE1n"
      },
      "source": [
        "And that’s it! The neural network is trained. At each epoch during training, Keras displays the number of instances processed so far (along with a progress bar), the mean training time per sample, the loss and accuracy (or any other extra metrics you asked for), both on the training set and the validation set\n",
        "\n",
        "You can see that the training loss went down, which is a good sign, and the validation accuracy reached 89% after 50 epochs, not too far from the training accuracy, so there does not seem to be much overfitting going on\n",
        "\n",
        "Instead of passing a validation set using the validation_data argument, you could instead set to the ratio of validation_split the training set that you want Keras to use for validation"
      ]
    },
    {
      "cell_type": "markdown",
      "metadata": {
        "id": "sC9Jl3yvBUmV"
      },
      "source": [
        "If the training set was very skewed, with some classes being overrepresented and others underrepresented, it would be useful to set the class_weight argument when calling the fit() method, giving a larger weight to underrepresented classes, and a lower weight to overrepresented classes. These weights would be used by Keras when computing the loss\n",
        "\n",
        "If you need per-instance weights instead, you can set the sample_weight argument (it supersedes class_weight). This could be useful for example if some instances were labeled by experts while others were labeled using a crowdsourcing platform: you might want to give more weight to the former. You can also provide sample weights (but not class weights) for the validation set by adding them as a third item in the validation_data tuple "
      ]
    },
    {
      "cell_type": "markdown",
      "metadata": {
        "id": "XgO6Svd2CyJv"
      },
      "source": [
        "The fit() method returns a History object containing the training parameters (history.params), \n",
        "\n",
        "\n",
        "the list of epochs it went through (history.epoch), and most importantly a dictionary (history.history) containing the loss and extra metrics it measured at the end of each epoch on the training set and on the validation set (if any)\n",
        "\n",
        "If you create a Pandas DataFrame using this dictionary and call its plot() method, you get the learning curves"
      ]
    },
    {
      "cell_type": "code",
      "metadata": {
        "colab": {
          "base_uri": "https://localhost:8080/",
          "height": 324
        },
        "id": "upolkB5qDrDC",
        "outputId": "15b762f8-d582-4245-ba32-d9134d2627fe"
      },
      "source": [
        "import pandas as pd\n",
        "\n",
        "pd.DataFrame(history.history).plot(figsize=(8, 5))\n",
        "plt.grid(True)\n",
        "plt.gca().set_ylim(0, 1)\n",
        "plt.show()"
      ],
      "execution_count": 25,
      "outputs": [
        {
          "output_type": "display_data",
          "data": {
            "image/png": "[encoded data removed]",
            "text/plain": [
              "<Figure size 576x360 with 1 Axes>"
            ]
          },
          "metadata": {
            "tags": [],
            "needs_background": "light"
          }
        }
      ]
    },
    {
      "cell_type": "markdown",
      "metadata": {
        "id": "S9ILUicuEXmN"
      },
      "source": [
        "You can see that both the training and validation accuracy steadily increase during training, while the training and validation loss decrease. Moreover, the valida tion curves are quite close to the training curves, which means that there is not too much overfitting\n",
        "\n",
        "You can tell that the model has not quite converged yet, as the validation loss is still going down, so you should probably continue train ing. It’s as simple as calling the fit() method again, since Keras just continues training where it left off\n",
        "\n",
        "If you are not satisfied with the performance of your model, you should go back and tune the model’s hyperparameters, for example the number of layers, the number of neurons per layer, the types of activation functions we use for each hidden layer, the number of training epochs, the batch size (it can be set in the fit() method using the batch_size argument, which defaults to 32) \n"
      ]
    },
    {
      "cell_type": "markdown",
      "metadata": {
        "id": "DwBxS1tHJ0mW"
      },
      "source": [
        "Once you are satisfied with your model’s validation accuracy, you should evaluate it on the test set to estimate the generalization error before you deploy the model to production\n",
        "\n",
        "You can easily do this using the evaluate() method "
      ]
    },
    {
      "cell_type": "code",
      "metadata": {
        "colab": {
          "base_uri": "https://localhost:8080/"
        },
        "id": "f_xz95m8KAsl",
        "outputId": "6c401724-0d29-4f9f-f1a7-0483e8f21c25"
      },
      "source": [
        "model.evaluate(X_test, y_test)"
      ],
      "execution_count": 26,
      "outputs": [
        {
          "output_type": "stream",
          "text": [
            "313/313 [==============================] - 1s 2ms/step - loss: 78.0208 - accuracy: 0.8281\n"
          ],
          "name": "stdout"
        },
        {
          "output_type": "execute_result",
          "data": {
            "text/plain": [
              "[78.02079772949219, 0.8281000256538391]"
            ]
          },
          "metadata": {
            "tags": []
          },
          "execution_count": 26
        }
      ]
    },
    {
      "cell_type": "markdown",
      "metadata": {
        "id": "MEXWcf5iKSZl"
      },
      "source": [
        "It is common to get slightly lower performance on the test set than on the validation set, because the hyperparameters are tuned on the validation set, not the test set (however, in this example, we did not do any hyperparameter tun ing, so the lower accuracy is just bad luck). Remember to resist the temptation to tweak the hyperparameters on the test set, or else your estimate of the generalization error will be too optimistic"
      ]
    },
    {
      "cell_type": "markdown",
      "metadata": {
        "id": "hF8D--puKTpQ"
      },
      "source": [
        "### Using the Model to Make Predictions"
      ]
    },
    {
      "cell_type": "markdown",
      "metadata": {
        "id": "fZTIHmm1KVTW"
      },
      "source": [
        "Next, we can use the model’s predict() method to make predictions on new instances. Since we don’t have actual new instances, we will just use the first 3 instances of the test set"
      ]
    },
    {
      "cell_type": "code",
      "metadata": {
        "colab": {
          "base_uri": "https://localhost:8080/"
        },
        "id": "qHDzwhKNKSNd",
        "outputId": "8551bc26-2325-42a7-fcf6-451dfa09a8ec"
      },
      "source": [
        "X_new = X_test[:3]\n",
        "y_proba = model.predict(X_new)\n",
        "y_proba"
      ],
      "execution_count": 27,
      "outputs": [
        {
          "output_type": "execute_result",
          "data": {
            "text/plain": [
              "array([[0., 0., 0., 0., 0., 0., 0., 0., 0., 1.],\n",
              "       [0., 0., 1., 0., 0., 0., 0., 0., 0., 0.],\n",
              "       [0., 1., 0., 0., 0., 0., 0., 0., 0., 0.]], dtype=float32)"
            ]
          },
          "metadata": {
            "tags": []
          },
          "execution_count": 27
        }
      ]
    },
    {
      "cell_type": "markdown",
      "metadata": {
        "id": "7VkdZiqeK35l"
      },
      "source": [
        "As you can see, for each instance the model estimates one probability per class, from class 0 to class 9\n",
        "\n",
        "If you only care about the class with the highest estima ted probability (even if that probability is quite low) then you can use the pre method instead dict_classes()"
      ]
    },
    {
      "cell_type": "code",
      "metadata": {
        "colab": {
          "base_uri": "https://localhost:8080/"
        },
        "id": "dmSvx_vfMjla",
        "outputId": "4027e929-f086-4ce7-f8f7-3b9ca1388432"
      },
      "source": [
        "y_pred = model.predict_classes(X_new)\n",
        "y_pred"
      ],
      "execution_count": 28,
      "outputs": [
        {
          "output_type": "stream",
          "text": [
            "/usr/local/lib/python3.7/dist-packages/tensorflow/python/keras/engine/sequential.py:455: UserWarning: `model.predict_classes()` is deprecated and will be removed after 2021-01-01. Please use instead:* `np.argmax(model.predict(x), axis=-1)`,   if your model does multi-class classification   (e.g. if it uses a `softmax` last-layer activation).* `(model.predict(x) > 0.5).astype(\"int32\")`,   if your model does binary classification   (e.g. if it uses a `sigmoid` last-layer activation).\n",
            "  warnings.warn('`model.predict_classes()` is deprecated and '\n"
          ],
          "name": "stderr"
        },
        {
          "output_type": "execute_result",
          "data": {
            "text/plain": [
              "array([9, 2, 1])"
            ]
          },
          "metadata": {
            "tags": []
          },
          "execution_count": 28
        }
      ]
    },
    {
      "cell_type": "code",
      "metadata": {
        "colab": {
          "base_uri": "https://localhost:8080/"
        },
        "id": "xHmiQx0CMpBU",
        "outputId": "1813f00f-e504-4f8c-d0b6-9a91e3fcd8d6"
      },
      "source": [
        "import numpy as np\n",
        "np.array(class_names)[y_pred]"
      ],
      "execution_count": 29,
      "outputs": [
        {
          "output_type": "execute_result",
          "data": {
            "text/plain": [
              "array(['Ankle Boot', 'Pullover', 'Trouser'], dtype='<U11')"
            ]
          },
          "metadata": {
            "tags": []
          },
          "execution_count": 29
        }
      ]
    },
    {
      "cell_type": "markdown",
      "metadata": {
        "id": "obuIJVPSM2O9"
      },
      "source": [
        "# Building a Regression MLP Using the Sequential API"
      ]
    },
    {
      "cell_type": "markdown",
      "metadata": {
        "id": "5J-x0IfuM4Po"
      },
      "source": [
        "Let’s switch to the California housing problem and tackle it using a regression neural network\n",
        "\n",
        "For simplicity, we will use Scikit-Learn’s fetch_california_housing() function to load the data: this dataset is simpler than the one we used in Chapter 2, since it contains only numerical features (there is no ocean_proximity  feature), and there is no missing value"
      ]
    },
    {
      "cell_type": "markdown",
      "metadata": {
        "id": "zbg_ySZ7NF_f"
      },
      "source": [
        "After loading the data, we split it into a training set, a vali dation set and a test set, and we scale all the features"
      ]
    },
    {
      "cell_type": "code",
      "metadata": {
        "colab": {
          "base_uri": "https://localhost:8080/"
        },
        "id": "Uuz-VKvONg-P",
        "outputId": "d76a7c4f-67cf-4eb5-db03-3f65b9ce676b"
      },
      "source": [
        "from sklearn.datasets import fetch_california_housing\n",
        "from sklearn.model_selection import train_test_split\n",
        "from sklearn.preprocessing import StandardScaler\n",
        "\n",
        "housing = fetch_california_housing()\n",
        "\n",
        "X_train_full, X_test, y_train_full, y_test = train_test_split(\n",
        "    housing.data, housing.target)\n",
        "\n",
        "X_train, X_valid, y_train, y_valid = train_test_split(\n",
        "    X_train_full, y_train_full)\n",
        "\n",
        "scaler = StandardScaler()\n",
        "X_train_scaled = scaler.fit_transform(X_train)\n",
        "X_valid_scaled = scaler.fit_transform(X_valid)\n",
        "X_test_scaled = scaler.transform(X_test)"
      ],
      "execution_count": 30,
      "outputs": [
        {
          "output_type": "stream",
          "text": [
            "Downloading Cal. housing from https://ndownloader.figshare.com/files/5976036 to /root/scikit_learn_data\n"
          ],
          "name": "stderr"
        }
      ]
    },
    {
      "cell_type": "markdown",
      "metadata": {
        "id": "HbnPfWI0OOAG"
      },
      "source": [
        "Building, training, evaluating and using a regression MLP using the Sequential API to make predictions is quite similar to what we did for classification. The main differ ences are the fact that the output layer has a single neuron (since we only want to predict a single value) and uses no activation function, and the loss function is the mean squared error\n",
        "\n",
        "Since the dataset is quite noisy, we just use a single hidden layer with fewer neurons than before, to avoid overfitting"
      ]
    },
    {
      "cell_type": "code",
      "metadata": {
        "colab": {
          "base_uri": "https://localhost:8080/"
        },
        "id": "1OApRQExOYol",
        "outputId": "ae332dd1-719e-4161-e36b-22c2e930c74f"
      },
      "source": [
        "model = keras.models.Sequential([\n",
        "    keras.layers.Dense(30, activation='relu', input_shape=X_train.shape[1:]),\n",
        "    keras.layers.Dense(1)\n",
        "])\n",
        "model.compile(loss='mean_squared_error', optimizer='sgd')\n",
        "history = model.fit(X_train, y_train, epochs=20,\n",
        "                    validation_data=(X_valid, y_valid))\n",
        "mse_test = model.evaluate(X_test, y_test)\n",
        "X_new = X_test[:3]\n",
        "y_pred = model.predict(X_new)"
      ],
      "execution_count": 31,
      "outputs": [
        {
          "output_type": "stream",
          "text": [
            "Epoch 1/20\n",
            "363/363 [==============================] - 1s 2ms/step - loss: nan - val_loss: nan\n",
            "Epoch 2/20\n",
            "363/363 [==============================] - 1s 2ms/step - loss: nan - val_loss: nan\n",
            "Epoch 3/20\n",
            "363/363 [==============================] - 1s 2ms/step - loss: nan - val_loss: nan\n",
            "Epoch 4/20\n",
            "363/363 [==============================] - 1s 1ms/step - loss: nan - val_loss: nan\n",
            "Epoch 5/20\n",
            "363/363 [==============================] - 1s 2ms/step - loss: nan - val_loss: nan\n",
            "Epoch 6/20\n",
            "363/363 [==============================] - 1s 2ms/step - loss: nan - val_loss: nan\n",
            "Epoch 7/20\n",
            "363/363 [==============================] - 1s 2ms/step - loss: nan - val_loss: nan\n",
            "Epoch 8/20\n",
            "363/363 [==============================] - 1s 2ms/step - loss: nan - val_loss: nan\n",
            "Epoch 9/20\n",
            "363/363 [==============================] - 1s 1ms/step - loss: nan - val_loss: nan\n",
            "Epoch 10/20\n",
            "363/363 [==============================] - 1s 2ms/step - loss: nan - val_loss: nan\n",
            "Epoch 11/20\n",
            "363/363 [==============================] - 1s 1ms/step - loss: nan - val_loss: nan\n",
            "Epoch 12/20\n",
            "363/363 [==============================] - 1s 2ms/step - loss: nan - val_loss: nan\n",
            "Epoch 13/20\n",
            "363/363 [==============================] - 1s 2ms/step - loss: nan - val_loss: nan\n",
            "Epoch 14/20\n",
            "363/363 [==============================] - 1s 2ms/step - loss: nan - val_loss: nan\n",
            "Epoch 15/20\n",
            "363/363 [==============================] - 1s 2ms/step - loss: nan - val_loss: nan\n",
            "Epoch 16/20\n",
            "363/363 [==============================] - 1s 2ms/step - loss: nan - val_loss: nan\n",
            "Epoch 17/20\n",
            "363/363 [==============================] - 1s 2ms/step - loss: nan - val_loss: nan\n",
            "Epoch 18/20\n",
            "363/363 [==============================] - 1s 2ms/step - loss: nan - val_loss: nan\n",
            "Epoch 19/20\n",
            "363/363 [==============================] - 1s 2ms/step - loss: nan - val_loss: nan\n",
            "Epoch 20/20\n",
            "363/363 [==============================] - 1s 2ms/step - loss: nan - val_loss: nan\n",
            "162/162 [==============================] - 0s 1ms/step - loss: nan\n"
          ],
          "name": "stdout"
        }
      ]
    },
    {
      "cell_type": "markdown",
      "metadata": {
        "id": "bfkR6_i2PNLY"
      },
      "source": [
        "As you can see, the Sequential API is quite easy to use. However, although sequential models are extremely common, it is sometimes useful to build neural networks with more complex topologies, or with multiple inputs or outputs. For this purpose, Keras offers the Functional API"
      ]
    },
    {
      "cell_type": "markdown",
      "metadata": {
        "id": "sPFsO4VaPQ2e"
      },
      "source": [
        "# Building Complex Models Using the Functional API"
      ]
    },
    {
      "cell_type": "markdown",
      "metadata": {
        "id": "xTPXIigyBKz8"
      },
      "source": [
        "One example of a non-sequential neural network is a Wide & Deep neural network, It connects all or part of the inputs directly to the output layer\n",
        "\n",
        "This architecture makes it possible for the neural network to learn both deep patterns (using the deep path) and simple rules (through the short path)\n",
        "\n",
        "In contrast, a regular MLP forces all the data to flow through the full stack of layers, thus simple patterns in the data may end up being distorted by this sequence of transformations"
      ]
    },
    {
      "cell_type": "markdown",
      "metadata": {
        "id": "osLkCZcW_-bq"
      },
      "source": [
        "<p align=\"center\">\n",
        "<img src=\"data:image/png;base64,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\" width=\"300\">\n",
        "</p>"
      ]
    },
    {
      "cell_type": "markdown",
      "metadata": {
        "id": "J2zxgf0PCKcC"
      },
      "source": [
        "Let’s build such a neural network to tackle the California housing problem"
      ]
    },
    {
      "cell_type": "code",
      "metadata": {
        "id": "y1BfscM7PUX-"
      },
      "source": [
        "input = keras.layers.Input(shape=X_train.shape[1:])\n",
        "hidden1 = keras.layers.Dense(30, activation='relu')(input)\n",
        "hidden2 = keras.layers.Dense(30, activation='relu')(hidden1)\n",
        "concat = keras.layers.Concatenate()([input, hidden2])\n",
        "output = keras.layers.Dense(1)(concat)\n",
        "model = keras.models.Model(inputs=[input], outputs=[output])"
      ],
      "execution_count": 33,
      "outputs": []
    },
    {
      "cell_type": "markdown",
      "metadata": {
        "id": "UYQpJ8W2Cv_j"
      },
      "source": [
        "Let’s go through each line of this code:\n",
        "*   First, we need to create an object. This is needed because we may have Input multiple inputs, as we will see later\n",
        "*   Next, we create a layer with 30 neurons and using the ReLU activation Dense function. As soon as it is created, notice that we call it like a function, passing it the input. This is why this is called the Functional API. Note that we are just telling Keras how it should connect the layers together, no actual data is being processed yet\n",
        "*   We then create a second hidden layer, and again we use it as a function. Note however that we pass it the output of the first hidden layer\n",
        "*   Next, we create a Concatenate() layer, and once again we immediately use it like a function, to concatenate the input and the output of the second hidden layer (you may prefer the keras.layers.concatenate() function, which creates a Concatenate layer and immediately calls it with the given inputs) \n",
        "*   Then we create the output layer, with a single neuron and no activation function, and we call it like a function, passing it the result of the concatenation\n",
        "*   Lastly, we create a Keras Model, specifying which inputs and outputs to use\n",
        "\n",
        "\n"
      ]
    },
    {
      "cell_type": "code",
      "metadata": {
        "id": "hv-NpgzrFh4r"
      },
      "source": [
        ""
      ],
      "execution_count": null,
      "outputs": []
    }
  ]
}