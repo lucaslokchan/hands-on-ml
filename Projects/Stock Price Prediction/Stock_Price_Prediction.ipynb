{
  "nbformat": 4,
  "nbformat_minor": 0,
  "metadata": {
    "colab": {
      "name": "Stock Price Prediction.ipynb",
      "provenance": [],
      "authorship_tag": "ABX9TyOAtBIUYQaIbsDgClw8G0vn"
    },
    "kernelspec": {
      "name": "python3",
      "display_name": "Python 3"
    },
    "language_info": {
      "name": "python"
    }
  },
  "cells": [
    {
      "cell_type": "markdown",
      "metadata": {
        "id": "Bnjsf_vSAUwe"
      },
      "source": [
        "#Import Libraries"
      ]
    },
    {
      "cell_type": "code",
      "metadata": {
        "id": "88TWl7aQAVKa"
      },
      "source": [
        "import pandas as pd\n",
        "import numpy as np\n",
        "import pandas_datareader as web\n",
        "from sklearn.preprocessing import MinMaxScaler\n",
        "from sklearn.model_selection import train_test_split\n",
        "import matplotlib.pyplot as plt\n",
        "import seaborn as sns\n",
        "from tensorflow.keras import Sequential\n",
        "from tensorflow.keras.layers import LSTM"
      ],
      "execution_count": 196,
      "outputs": []
    },
    {
      "cell_type": "markdown",
      "metadata": {
        "id": "ecNfCgOoAwaV"
      },
      "source": [
        "#Analyze Data"
      ]
    },
    {
      "cell_type": "code",
      "metadata": {
        "colab": {
          "base_uri": "https://localhost:8080/",
          "height": 235
        },
        "id": "Tog2-2t3A0Lx",
        "outputId": "31e7d8f1-0c7e-4794-dd93-ad6aadb3a495"
      },
      "source": [
        "quote = 'BTC-USD'\n",
        "df = web.DataReader(quote, data_source='yahoo', start='2010-01-01', end='2021-06-14')\n",
        "df.tail(5)"
      ],
      "execution_count": 197,
      "outputs": [
        {
          "output_type": "execute_result",
          "data": {
            "text/html": [
              "<div>\n",
              "<style scoped>\n",
              "    .dataframe tbody tr th:only-of-type {\n",
              "        vertical-align: middle;\n",
              "    }\n",
              "\n",
              "    .dataframe tbody tr th {\n",
              "        vertical-align: top;\n",
              "    }\n",
              "\n",
              "    .dataframe thead th {\n",
              "        text-align: right;\n",
              "    }\n",
              "</style>\n",
              "<table border=\"1\" class=\"dataframe\">\n",
              "  <thead>\n",
              "    <tr style=\"text-align: right;\">\n",
              "      <th></th>\n",
              "      <th>High</th>\n",
              "      <th>Low</th>\n",
              "      <th>Open</th>\n",
              "      <th>Close</th>\n",
              "      <th>Volume</th>\n",
              "      <th>Adj Close</th>\n",
              "    </tr>\n",
              "    <tr>\n",
              "      <th>Date</th>\n",
              "      <th></th>\n",
              "      <th></th>\n",
              "      <th></th>\n",
              "      <th></th>\n",
              "      <th></th>\n",
              "      <th></th>\n",
              "    </tr>\n",
              "  </thead>\n",
              "  <tbody>\n",
              "    <tr>\n",
              "      <th>2021-06-10</th>\n",
              "      <td>37608.695312</td>\n",
              "      <td>36044.449219</td>\n",
              "      <td>36697.031250</td>\n",
              "      <td>37334.398438</td>\n",
              "      <td>3.869974e+10</td>\n",
              "      <td>37334.398438</td>\n",
              "    </tr>\n",
              "    <tr>\n",
              "      <th>2021-06-11</th>\n",
              "      <td>37408.925781</td>\n",
              "      <td>34728.191406</td>\n",
              "      <td>37340.144531</td>\n",
              "      <td>35552.515625</td>\n",
              "      <td>3.792423e+10</td>\n",
              "      <td>35552.515625</td>\n",
              "    </tr>\n",
              "    <tr>\n",
              "      <th>2021-06-12</th>\n",
              "      <td>39322.781250</td>\n",
              "      <td>34864.109375</td>\n",
              "      <td>35555.789062</td>\n",
              "      <td>39097.859375</td>\n",
              "      <td>4.066911e+10</td>\n",
              "      <td>39097.859375</td>\n",
              "    </tr>\n",
              "    <tr>\n",
              "      <th>2021-06-13</th>\n",
              "      <td>40978.363281</td>\n",
              "      <td>38757.285156</td>\n",
              "      <td>39016.968750</td>\n",
              "      <td>40218.476562</td>\n",
              "      <td>4.314891e+10</td>\n",
              "      <td>40218.476562</td>\n",
              "    </tr>\n",
              "    <tr>\n",
              "      <th>2021-06-14</th>\n",
              "      <td>41295.269531</td>\n",
              "      <td>39609.468750</td>\n",
              "      <td>40427.167969</td>\n",
              "      <td>40406.269531</td>\n",
              "      <td>4.642015e+10</td>\n",
              "      <td>40406.269531</td>\n",
              "    </tr>\n",
              "  </tbody>\n",
              "</table>\n",
              "</div>"
            ],
            "text/plain": [
              "                    High           Low  ...        Volume     Adj Close\n",
              "Date                                    ...                            \n",
              "2021-06-10  37608.695312  36044.449219  ...  3.869974e+10  37334.398438\n",
              "2021-06-11  37408.925781  34728.191406  ...  3.792423e+10  35552.515625\n",
              "2021-06-12  39322.781250  34864.109375  ...  4.066911e+10  39097.859375\n",
              "2021-06-13  40978.363281  38757.285156  ...  4.314891e+10  40218.476562\n",
              "2021-06-14  41295.269531  39609.468750  ...  4.642015e+10  40406.269531\n",
              "\n",
              "[5 rows x 6 columns]"
            ]
          },
          "metadata": {
            "tags": []
          },
          "execution_count": 197
        }
      ]
    },
    {
      "cell_type": "code",
      "metadata": {
        "colab": {
          "base_uri": "https://localhost:8080/"
        },
        "id": "DCePfHzjuI1Y",
        "outputId": "4d10f1a4-b3fa-4437-8646-bcfc7f5d7cff"
      },
      "source": [
        "df.info()"
      ],
      "execution_count": 198,
      "outputs": [
        {
          "output_type": "stream",
          "text": [
            "<class 'pandas.core.frame.DataFrame'>\n",
            "DatetimeIndex: 2460 entries, 2014-09-16 to 2021-06-14\n",
            "Data columns (total 6 columns):\n",
            " #   Column     Non-Null Count  Dtype  \n",
            "---  ------     --------------  -----  \n",
            " 0   High       2460 non-null   float64\n",
            " 1   Low        2460 non-null   float64\n",
            " 2   Open       2460 non-null   float64\n",
            " 3   Close      2460 non-null   float64\n",
            " 4   Volume     2460 non-null   float64\n",
            " 5   Adj Close  2460 non-null   float64\n",
            "dtypes: float64(6)\n",
            "memory usage: 134.5 KB\n"
          ],
          "name": "stdout"
        }
      ]
    },
    {
      "cell_type": "code",
      "metadata": {
        "colab": {
          "base_uri": "https://localhost:8080/",
          "height": 297
        },
        "id": "mlFWPIgwuJ6i",
        "outputId": "217b6cdf-2ff2-47b3-9e96-e058bd8583de"
      },
      "source": [
        "df.describe()"
      ],
      "execution_count": 199,
      "outputs": [
        {
          "output_type": "execute_result",
          "data": {
            "text/html": [
              "<div>\n",
              "<style scoped>\n",
              "    .dataframe tbody tr th:only-of-type {\n",
              "        vertical-align: middle;\n",
              "    }\n",
              "\n",
              "    .dataframe tbody tr th {\n",
              "        vertical-align: top;\n",
              "    }\n",
              "\n",
              "    .dataframe thead th {\n",
              "        text-align: right;\n",
              "    }\n",
              "</style>\n",
              "<table border=\"1\" class=\"dataframe\">\n",
              "  <thead>\n",
              "    <tr style=\"text-align: right;\">\n",
              "      <th></th>\n",
              "      <th>High</th>\n",
              "      <th>Low</th>\n",
              "      <th>Open</th>\n",
              "      <th>Close</th>\n",
              "      <th>Volume</th>\n",
              "      <th>Adj Close</th>\n",
              "    </tr>\n",
              "  </thead>\n",
              "  <tbody>\n",
              "    <tr>\n",
              "      <th>count</th>\n",
              "      <td>2460.000000</td>\n",
              "      <td>2460.000000</td>\n",
              "      <td>2460.000000</td>\n",
              "      <td>2460.000000</td>\n",
              "      <td>2.460000e+03</td>\n",
              "      <td>2460.000000</td>\n",
              "    </tr>\n",
              "    <tr>\n",
              "      <th>mean</th>\n",
              "      <td>7967.391495</td>\n",
              "      <td>7500.158959</td>\n",
              "      <td>7744.175970</td>\n",
              "      <td>7759.225858</td>\n",
              "      <td>1.273501e+10</td>\n",
              "      <td>7759.225858</td>\n",
              "    </tr>\n",
              "    <tr>\n",
              "      <th>std</th>\n",
              "      <td>12161.288106</td>\n",
              "      <td>11349.170960</td>\n",
              "      <td>11786.528671</td>\n",
              "      <td>11801.607791</td>\n",
              "      <td>1.978028e+10</td>\n",
              "      <td>11801.607791</td>\n",
              "    </tr>\n",
              "    <tr>\n",
              "      <th>min</th>\n",
              "      <td>211.731003</td>\n",
              "      <td>171.509995</td>\n",
              "      <td>176.897003</td>\n",
              "      <td>178.102997</td>\n",
              "      <td>5.914570e+06</td>\n",
              "      <td>178.102997</td>\n",
              "    </tr>\n",
              "    <tr>\n",
              "      <th>25%</th>\n",
              "      <td>468.121758</td>\n",
              "      <td>456.394005</td>\n",
              "      <td>463.222504</td>\n",
              "      <td>463.292496</td>\n",
              "      <td>6.895322e+07</td>\n",
              "      <td>463.292496</td>\n",
              "    </tr>\n",
              "    <tr>\n",
              "      <th>50%</th>\n",
              "      <td>4422.214844</td>\n",
              "      <td>4203.050049</td>\n",
              "      <td>4346.395020</td>\n",
              "      <td>4359.169922</td>\n",
              "      <td>4.054475e+09</td>\n",
              "      <td>4359.169922</td>\n",
              "    </tr>\n",
              "    <tr>\n",
              "      <th>75%</th>\n",
              "      <td>9378.066406</td>\n",
              "      <td>9061.695068</td>\n",
              "      <td>9236.381348</td>\n",
              "      <td>9240.397461</td>\n",
              "      <td>1.896922e+10</td>\n",
              "      <td>9240.397461</td>\n",
              "    </tr>\n",
              "    <tr>\n",
              "      <th>max</th>\n",
              "      <td>64863.097656</td>\n",
              "      <td>62208.964844</td>\n",
              "      <td>63523.753906</td>\n",
              "      <td>63503.457031</td>\n",
              "      <td>3.509679e+11</td>\n",
              "      <td>63503.457031</td>\n",
              "    </tr>\n",
              "  </tbody>\n",
              "</table>\n",
              "</div>"
            ],
            "text/plain": [
              "               High           Low  ...        Volume     Adj Close\n",
              "count   2460.000000   2460.000000  ...  2.460000e+03   2460.000000\n",
              "mean    7967.391495   7500.158959  ...  1.273501e+10   7759.225858\n",
              "std    12161.288106  11349.170960  ...  1.978028e+10  11801.607791\n",
              "min      211.731003    171.509995  ...  5.914570e+06    178.102997\n",
              "25%      468.121758    456.394005  ...  6.895322e+07    463.292496\n",
              "50%     4422.214844   4203.050049  ...  4.054475e+09   4359.169922\n",
              "75%     9378.066406   9061.695068  ...  1.896922e+10   9240.397461\n",
              "max    64863.097656  62208.964844  ...  3.509679e+11  63503.457031\n",
              "\n",
              "[8 rows x 6 columns]"
            ]
          },
          "metadata": {
            "tags": []
          },
          "execution_count": 199
        }
      ]
    },
    {
      "cell_type": "markdown",
      "metadata": {
        "id": "taRqo52EBumW"
      },
      "source": [
        "Get the Dimension of the Dataset"
      ]
    },
    {
      "cell_type": "code",
      "metadata": {
        "colab": {
          "base_uri": "https://localhost:8080/"
        },
        "id": "6U0fdIN7Bnqe",
        "outputId": "343f061f-bf3a-48a9-fea4-e4896d2ff057"
      },
      "source": [
        "df.shape"
      ],
      "execution_count": 200,
      "outputs": [
        {
          "output_type": "execute_result",
          "data": {
            "text/plain": [
              "(2460, 6)"
            ]
          },
          "metadata": {
            "tags": []
          },
          "execution_count": 200
        }
      ]
    },
    {
      "cell_type": "markdown",
      "metadata": {
        "id": "4qAEQ9ZeB8Hr"
      },
      "source": [
        "Visualise the Closing Price History\n"
      ]
    },
    {
      "cell_type": "code",
      "metadata": {
        "colab": {
          "base_uri": "https://localhost:8080/",
          "height": 499
        },
        "id": "6BUCEfllB4rt",
        "outputId": "3c5aa8f4-0c44-41ec-c0a4-6d019a45ff4f"
      },
      "source": [
        "plt.figure(figsize=(15,8))\n",
        "plt.title(quote + ' Price', fontsize=20)\n",
        "plt.xlabel('Date', fontsize=12)\n",
        "plt.ylabel('Price ($)', fontsize=12)\n",
        "plt.plot(df['Close'])"
      ],
      "execution_count": 201,
      "outputs": [
        {
          "output_type": "execute_result",
          "data": {
            "text/plain": [
              "[<matplotlib.lines.Line2D at 0x7f05922a1490>]"
            ]
          },
          "metadata": {
            "tags": []
          },
          "execution_count": 201
        },
        {
          "output_type": "display_data",
          "data": {
            "image/png": "[encoded data removed]",
            "text/plain": [
              "<Figure size 1080x576 with 1 Axes>"
            ]
          },
          "metadata": {
            "tags": [],
            "needs_background": "light"
          }
        }
      ]
    },
    {
      "cell_type": "markdown",
      "metadata": {
        "id": "KhdsRQsX0ava"
      },
      "source": [
        "Visualise Trading Volume"
      ]
    },
    {
      "cell_type": "code",
      "metadata": {
        "colab": {
          "base_uri": "https://localhost:8080/",
          "height": 507
        },
        "id": "kABK14nH0acD",
        "outputId": "387e68f2-06d3-4f78-c919-ccfcbe4bbd80"
      },
      "source": [
        "plt.figure(figsize=(15,8))\n",
        "plt.title(quote + ' Volume', fontsize=20)\n",
        "plt.xlabel('Date', fontsize=12)\n",
        "plt.ylabel('Price ($)', fontsize=12)\n",
        "plt.plot(df['Volume'])"
      ],
      "execution_count": 202,
      "outputs": [
        {
          "output_type": "execute_result",
          "data": {
            "text/plain": [
              "[<matplotlib.lines.Line2D at 0x7f0592854d90>]"
            ]
          },
          "metadata": {
            "tags": []
          },
          "execution_count": 202
        },
        {
          "output_type": "display_data",
          "data": {
            "image/png": "[encoded data removed]",
            "text/plain": [
              "<Figure size 1080x576 with 1 Axes>"
            ]
          },
          "metadata": {
            "tags": [],
            "needs_background": "light"
          }
        }
      ]
    },
    {
      "cell_type": "markdown",
      "metadata": {
        "id": "VKgMkTiBDhvM"
      },
      "source": [
        "# Data Preprocessing\n",
        "\n",
        "\n"
      ]
    },
    {
      "cell_type": "markdown",
      "metadata": {
        "id": "ArBbwPATDmyT"
      },
      "source": [
        "Normalize Data with MinMaxScaler to set Price Values Between 0 and 1"
      ]
    },
    {
      "cell_type": "code",
      "metadata": {
        "colab": {
          "base_uri": "https://localhost:8080/",
          "height": 235
        },
        "id": "7YxxhWmx03ES",
        "outputId": "d143c1fa-bc56-4832-fa54-da0c6094525e"
      },
      "source": [
        "normalized_data = df.copy()\n",
        "normalized_data = normalized_data.drop(['Close', 'Volume'], axis=1)\n",
        "normalized_data.rename(columns={'Adj Close': 'Close'}, inplace=True)\n",
        "\n",
        "scaler = MinMaxScaler(feature_range=(0, 1))\n",
        "normalized_data['Open'] = scaler.fit_transform(normalized_data['Open'].values.reshape(-1, 1))\n",
        "normalized_data['High'] = scaler.fit_transform(normalized_data['High'].values.reshape(-1, 1))\n",
        "normalized_data['Low'] = scaler.fit_transform(normalized_data['Low'].values.reshape(-1, 1))\n",
        "normalized_data['Close'] = scaler.fit_transform(normalized_data['Close'].values.reshape(-1, 1))\n",
        "\n",
        "normalized_data.tail(5)"
      ],
      "execution_count": 203,
      "outputs": [
        {
          "output_type": "execute_result",
          "data": {
            "text/html": [
              "<div>\n",
              "<style scoped>\n",
              "    .dataframe tbody tr th:only-of-type {\n",
              "        vertical-align: middle;\n",
              "    }\n",
              "\n",
              "    .dataframe tbody tr th {\n",
              "        vertical-align: top;\n",
              "    }\n",
              "\n",
              "    .dataframe thead th {\n",
              "        text-align: right;\n",
              "    }\n",
              "</style>\n",
              "<table border=\"1\" class=\"dataframe\">\n",
              "  <thead>\n",
              "    <tr style=\"text-align: right;\">\n",
              "      <th></th>\n",
              "      <th>High</th>\n",
              "      <th>Low</th>\n",
              "      <th>Open</th>\n",
              "      <th>Close</th>\n",
              "    </tr>\n",
              "    <tr>\n",
              "      <th>Date</th>\n",
              "      <th></th>\n",
              "      <th></th>\n",
              "      <th></th>\n",
              "      <th></th>\n",
              "    </tr>\n",
              "  </thead>\n",
              "  <tbody>\n",
              "    <tr>\n",
              "      <th>2021-06-10</th>\n",
              "      <td>0.578440</td>\n",
              "      <td>0.578246</td>\n",
              "      <td>0.576511</td>\n",
              "      <td>0.586752</td>\n",
              "    </tr>\n",
              "    <tr>\n",
              "      <th>2021-06-11</th>\n",
              "      <td>0.575350</td>\n",
              "      <td>0.557029</td>\n",
              "      <td>0.586663</td>\n",
              "      <td>0.558614</td>\n",
              "    </tr>\n",
              "    <tr>\n",
              "      <th>2021-06-12</th>\n",
              "      <td>0.604953</td>\n",
              "      <td>0.559220</td>\n",
              "      <td>0.558495</td>\n",
              "      <td>0.614600</td>\n",
              "    </tr>\n",
              "    <tr>\n",
              "      <th>2021-06-13</th>\n",
              "      <td>0.630561</td>\n",
              "      <td>0.621975</td>\n",
              "      <td>0.613133</td>\n",
              "      <td>0.632296</td>\n",
              "    </tr>\n",
              "    <tr>\n",
              "      <th>2021-06-14</th>\n",
              "      <td>0.635463</td>\n",
              "      <td>0.635712</td>\n",
              "      <td>0.635395</td>\n",
              "      <td>0.635262</td>\n",
              "    </tr>\n",
              "  </tbody>\n",
              "</table>\n",
              "</div>"
            ],
            "text/plain": [
              "                High       Low      Open     Close\n",
              "Date                                              \n",
              "2021-06-10  0.578440  0.578246  0.576511  0.586752\n",
              "2021-06-11  0.575350  0.557029  0.586663  0.558614\n",
              "2021-06-12  0.604953  0.559220  0.558495  0.614600\n",
              "2021-06-13  0.630561  0.621975  0.613133  0.632296\n",
              "2021-06-14  0.635463  0.635712  0.635395  0.635262"
            ]
          },
          "metadata": {
            "tags": []
          },
          "execution_count": 203
        }
      ]
    },
    {
      "cell_type": "markdown",
      "metadata": {
        "id": "vqsKX_JWElO3"
      },
      "source": [
        "Split Training, Validation and Testing Dataset (80% Train, 10 Validation and 10% Test Data)"
      ]
    },
    {
      "cell_type": "code",
      "metadata": {
        "id": "qnee13QdEqQJ",
        "colab": {
          "base_uri": "https://localhost:8080/",
          "height": 443
        },
        "outputId": "a2197917-1249-443e-b28e-79f61a61a643"
      },
      "source": [
        "train_data_percentage = 80\n",
        "valid_data_percentage = 10\n",
        "test_data_percentage = 10\n",
        "  \n",
        "valid_data_len = int(np.round(valid_data_percentage/100*normalized_data.shape[0]))\n",
        "test_data_len = int(np.round(test_data_percentage/100*normalized_data.shape[0]))\n",
        "train_data_len = int(normalized_data.shape[0] - (valid_data_len + test_data_len))\n",
        "\n",
        "X_train = normalized_data[:train_data_len,:-1,:]\n",
        "y_train = normalized_data[:train_data_len,-1,:]\n",
        "\n",
        "X_valid = normalized_data[train_data_len:train_data_len+valid_data_len,:-1,:]\n",
        "y_valid = normalized_data[train_data_len:train_data_len+valid_data_len,-1,:]\n",
        "\n",
        "X_test = normalized_data[train_data_len+valid_data_len:,:-1:]\n",
        "y_test = normalized_data[train_data_len+valid_data_len:,-1,:]\n",
        "\n",
        "print(X_train)\n",
        "\n",
        "train_valid_test_split(scaled_price)"
      ],
      "execution_count": 204,
      "outputs": [
        {
          "output_type": "error",
          "ename": "TypeError",
          "evalue": "ignored",
          "traceback": [
            "\u001b[0;31m---------------------------------------------------------------------------\u001b[0m",
            "\u001b[0;31mTypeError\u001b[0m                                 Traceback (most recent call last)",
            "\u001b[0;32m<ipython-input-204-2382eaf4beb1>\u001b[0m in \u001b[0;36m<module>\u001b[0;34m()\u001b[0m\n\u001b[1;32m      7\u001b[0m \u001b[0mtrain_data_len\u001b[0m \u001b[0;34m=\u001b[0m \u001b[0mint\u001b[0m\u001b[0;34m(\u001b[0m\u001b[0mnormalized_data\u001b[0m\u001b[0;34m.\u001b[0m\u001b[0mshape\u001b[0m\u001b[0;34m[\u001b[0m\u001b[0;36m0\u001b[0m\u001b[0;34m]\u001b[0m \u001b[0;34m-\u001b[0m \u001b[0;34m(\u001b[0m\u001b[0mvalid_data_len\u001b[0m \u001b[0;34m+\u001b[0m \u001b[0mtest_data_len\u001b[0m\u001b[0;34m)\u001b[0m\u001b[0;34m)\u001b[0m\u001b[0;34m\u001b[0m\u001b[0;34m\u001b[0m\u001b[0m\n\u001b[1;32m      8\u001b[0m \u001b[0;34m\u001b[0m\u001b[0m\n\u001b[0;32m----> 9\u001b[0;31m \u001b[0mX_train\u001b[0m \u001b[0;34m=\u001b[0m \u001b[0mnormalized_data\u001b[0m\u001b[0;34m[\u001b[0m\u001b[0;34m:\u001b[0m\u001b[0mtrain_data_len\u001b[0m\u001b[0;34m,\u001b[0m\u001b[0;34m:\u001b[0m\u001b[0;34m-\u001b[0m\u001b[0;36m1\u001b[0m\u001b[0;34m,\u001b[0m\u001b[0;34m:\u001b[0m\u001b[0;34m]\u001b[0m\u001b[0;34m\u001b[0m\u001b[0;34m\u001b[0m\u001b[0m\n\u001b[0m\u001b[1;32m     10\u001b[0m \u001b[0my_train\u001b[0m \u001b[0;34m=\u001b[0m \u001b[0mnormalized_data\u001b[0m\u001b[0;34m[\u001b[0m\u001b[0;34m:\u001b[0m\u001b[0mtrain_data_len\u001b[0m\u001b[0;34m,\u001b[0m\u001b[0;34m-\u001b[0m\u001b[0;36m1\u001b[0m\u001b[0;34m,\u001b[0m\u001b[0;34m:\u001b[0m\u001b[0;34m]\u001b[0m\u001b[0;34m\u001b[0m\u001b[0;34m\u001b[0m\u001b[0m\n\u001b[1;32m     11\u001b[0m \u001b[0;34m\u001b[0m\u001b[0m\n",
            "\u001b[0;32m/usr/local/lib/python3.7/dist-packages/pandas/core/frame.py\u001b[0m in \u001b[0;36m__getitem__\u001b[0;34m(self, key)\u001b[0m\n\u001b[1;32m   2904\u001b[0m             \u001b[0;32mif\u001b[0m \u001b[0mself\u001b[0m\u001b[0;34m.\u001b[0m\u001b[0mcolumns\u001b[0m\u001b[0;34m.\u001b[0m\u001b[0mnlevels\u001b[0m \u001b[0;34m>\u001b[0m \u001b[0;36m1\u001b[0m\u001b[0;34m:\u001b[0m\u001b[0;34m\u001b[0m\u001b[0;34m\u001b[0m\u001b[0m\n\u001b[1;32m   2905\u001b[0m                 \u001b[0;32mreturn\u001b[0m \u001b[0mself\u001b[0m\u001b[0;34m.\u001b[0m\u001b[0m_getitem_multilevel\u001b[0m\u001b[0;34m(\u001b[0m\u001b[0mkey\u001b[0m\u001b[0;34m)\u001b[0m\u001b[0;34m\u001b[0m\u001b[0;34m\u001b[0m\u001b[0m\n\u001b[0;32m-> 2906\u001b[0;31m             \u001b[0mindexer\u001b[0m \u001b[0;34m=\u001b[0m \u001b[0mself\u001b[0m\u001b[0;34m.\u001b[0m\u001b[0mcolumns\u001b[0m\u001b[0;34m.\u001b[0m\u001b[0mget_loc\u001b[0m\u001b[0;34m(\u001b[0m\u001b[0mkey\u001b[0m\u001b[0;34m)\u001b[0m\u001b[0;34m\u001b[0m\u001b[0;34m\u001b[0m\u001b[0m\n\u001b[0m\u001b[1;32m   2907\u001b[0m             \u001b[0;32mif\u001b[0m \u001b[0mis_integer\u001b[0m\u001b[0;34m(\u001b[0m\u001b[0mindexer\u001b[0m\u001b[0;34m)\u001b[0m\u001b[0;34m:\u001b[0m\u001b[0;34m\u001b[0m\u001b[0;34m\u001b[0m\u001b[0m\n\u001b[1;32m   2908\u001b[0m                 \u001b[0mindexer\u001b[0m \u001b[0;34m=\u001b[0m \u001b[0;34m[\u001b[0m\u001b[0mindexer\u001b[0m\u001b[0;34m]\u001b[0m\u001b[0;34m\u001b[0m\u001b[0;34m\u001b[0m\u001b[0m\n",
            "\u001b[0;32m/usr/local/lib/python3.7/dist-packages/pandas/core/indexes/base.py\u001b[0m in \u001b[0;36mget_loc\u001b[0;34m(self, key, method, tolerance)\u001b[0m\n\u001b[1;32m   2896\u001b[0m             \u001b[0mcasted_key\u001b[0m \u001b[0;34m=\u001b[0m \u001b[0mself\u001b[0m\u001b[0;34m.\u001b[0m\u001b[0m_maybe_cast_indexer\u001b[0m\u001b[0;34m(\u001b[0m\u001b[0mkey\u001b[0m\u001b[0;34m)\u001b[0m\u001b[0;34m\u001b[0m\u001b[0;34m\u001b[0m\u001b[0m\n\u001b[1;32m   2897\u001b[0m             \u001b[0;32mtry\u001b[0m\u001b[0;34m:\u001b[0m\u001b[0;34m\u001b[0m\u001b[0;34m\u001b[0m\u001b[0m\n\u001b[0;32m-> 2898\u001b[0;31m                 \u001b[0;32mreturn\u001b[0m \u001b[0mself\u001b[0m\u001b[0;34m.\u001b[0m\u001b[0m_engine\u001b[0m\u001b[0;34m.\u001b[0m\u001b[0mget_loc\u001b[0m\u001b[0;34m(\u001b[0m\u001b[0mcasted_key\u001b[0m\u001b[0;34m)\u001b[0m\u001b[0;34m\u001b[0m\u001b[0;34m\u001b[0m\u001b[0m\n\u001b[0m\u001b[1;32m   2899\u001b[0m             \u001b[0;32mexcept\u001b[0m \u001b[0mKeyError\u001b[0m \u001b[0;32mas\u001b[0m \u001b[0merr\u001b[0m\u001b[0;34m:\u001b[0m\u001b[0;34m\u001b[0m\u001b[0;34m\u001b[0m\u001b[0m\n\u001b[1;32m   2900\u001b[0m                 \u001b[0;32mraise\u001b[0m \u001b[0mKeyError\u001b[0m\u001b[0;34m(\u001b[0m\u001b[0mkey\u001b[0m\u001b[0;34m)\u001b[0m \u001b[0;32mfrom\u001b[0m \u001b[0merr\u001b[0m\u001b[0;34m\u001b[0m\u001b[0;34m\u001b[0m\u001b[0m\n",
            "\u001b[0;32mpandas/_libs/index.pyx\u001b[0m in \u001b[0;36mpandas._libs.index.IndexEngine.get_loc\u001b[0;34m()\u001b[0m\n",
            "\u001b[0;32mpandas/_libs/index.pyx\u001b[0m in \u001b[0;36mpandas._libs.index.IndexEngine.get_loc\u001b[0;34m()\u001b[0m\n",
            "\u001b[0;31mTypeError\u001b[0m: '(slice(None, 1968, None), slice(None, -1, None), slice(None, None, None))' is an invalid key"
          ]
        }
      ]
    },
    {
      "cell_type": "markdown",
      "metadata": {
        "id": "kGt_ClVjGj-y"
      },
      "source": [
        "# Building the LSTM Model Using Sequential API"
      ]
    },
    {
      "cell_type": "code",
      "metadata": {
        "id": "O4iiLUM6GrmE"
      },
      "source": [
        "model = Sequential()\n",
        "model.add(LSTM(50, return_sequences=True))"
      ],
      "execution_count": null,
      "outputs": []
    },
    {
      "cell_type": "code",
      "metadata": {
        "id": "6Wk_vmgqHG_M"
      },
      "source": [
        ""
      ],
      "execution_count": null,
      "outputs": []
    }
  ]
}