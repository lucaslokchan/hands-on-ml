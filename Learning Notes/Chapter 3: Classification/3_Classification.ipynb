{
  "nbformat": 4,
  "nbformat_minor": 0,
  "metadata": {
    "colab": {
      "name": "3.Classification.ipynb",
      "provenance": [],
      "authorship_tag": "ABX9TyMZp2cxwECUxgpE7+VwwWe2"
    },
    "kernelspec": {
      "name": "python3",
      "display_name": "Python 3"
    },
    "language_info": {
      "name": "python"
    }
  },
  "cells": [
    {
      "cell_type": "markdown",
      "metadata": {
        "id": "N-fKXrcdrdVO"
      },
      "source": [
        "# MNIST"
      ]
    },
    {
      "cell_type": "markdown",
      "metadata": {
        "id": "EQoSpb5rrmbT"
      },
      "source": [
        "In this chapter, we will be using the MNIST dataset, which is a set of 70,000 small images of digits handwritten by high school students and employees of the US Census Bureau\n",
        "\n",
        "Each image is labeled with the digit it represents. This set has been stud ied so much that it is often called the “Hello World” of Machine Learning: whenever people come up with a new classification algorithm, they are curious to see how it will perform on MNIST"
      ]
    },
    {
      "cell_type": "markdown",
      "metadata": {
        "id": "p8NVyPxIr94K"
      },
      "source": [
        "Scikit-Learn provides many helper functions to download popular datasets. MNIST is one of them. The following code fetches the MNIST dataset"
      ]
    },
    {
      "cell_type": "code",
      "metadata": {
        "id": "UUFjQgdErTcQ"
      },
      "source": [
        "from sklearn.datasets import fetch_openml\n",
        "mnist = fetch_openml('mnist_784', version=1, cache=True)\n",
        "#mnist"
      ],
      "execution_count": 11,
      "outputs": []
    },
    {
      "cell_type": "markdown",
      "metadata": {
        "id": "aLB5GQyFv2Lo"
      },
      "source": [
        "Datasets loaded by Scikit-Learn generally have a similar dictionary structure including:\n",
        "*   A DESCR key describing the dataset \n",
        "*   A data key containing an array with one row per instance and one column per feature\n",
        "*   A target key containing an array with the labels \n"
      ]
    },
    {
      "cell_type": "markdown",
      "metadata": {
        "id": "v7wnJ6iJwOc5"
      },
      "source": [
        "Let’s look at these arrays:"
      ]
    },
    {
      "cell_type": "code",
      "metadata": {
        "colab": {
          "base_uri": "https://localhost:8080/"
        },
        "id": "SPh-_A9KwOCU",
        "outputId": "85231823-23b0-4096-ddf7-eab19a34f987"
      },
      "source": [
        "X, y = mnist['data'], mnist['target']\n",
        "X.shape"
      ],
      "execution_count": 12,
      "outputs": [
        {
          "output_type": "execute_result",
          "data": {
            "text/plain": [
              "(70000, 784)"
            ]
          },
          "metadata": {
            "tags": []
          },
          "execution_count": 12
        }
      ]
    },
    {
      "cell_type": "code",
      "metadata": {
        "colab": {
          "base_uri": "https://localhost:8080/"
        },
        "id": "qKkbtQ9Dwhcy",
        "outputId": "bcb59eeb-8cea-44b8-a8a6-a48c179033cf"
      },
      "source": [
        "y.shape"
      ],
      "execution_count": 13,
      "outputs": [
        {
          "output_type": "execute_result",
          "data": {
            "text/plain": [
              "(70000,)"
            ]
          },
          "metadata": {
            "tags": []
          },
          "execution_count": 13
        }
      ]
    },
    {
      "cell_type": "markdown",
      "metadata": {
        "id": "zI4S-9qMwud3"
      },
      "source": [
        "There are 70,000 images, and each image has 784 features. This is because each image is 28x28 pixels, and each feature simply represents one pixel’s intensity, from 0 (white) to 255 (black)\n",
        "\n",
        "Let’s take a peek at one digit from the dataset. All you need to do is grab an instance’s feature vector, reshape it to a array, and display it using Matplotlib’s imshow() function "
      ]
    },
    {
      "cell_type": "code",
      "metadata": {
        "colab": {
          "base_uri": "https://localhost:8080/",
          "height": 266
        },
        "id": "yI0rleXewlui",
        "outputId": "5beb924f-25f9-4bfe-9136-15818a7e2b1f"
      },
      "source": [
        "%matplotlib inline\n",
        "import matplotlib\n",
        "import matplotlib.pyplot as plt\n",
        "\n",
        "some_digit = X[0]\n",
        "some_digit_image = some_digit.reshape(28, 28)\n",
        "\n",
        "plt.imshow(some_digit_image, cmap = matplotlib.cm.binary,\n",
        "           interpolation='nearest')\n",
        "plt.axis('off')"
      ],
      "execution_count": 26,
      "outputs": [
        {
          "output_type": "execute_result",
          "data": {
            "text/plain": [
              "(-0.5, 27.5, 27.5, -0.5)"
            ]
          },
          "metadata": {
            "tags": []
          },
          "execution_count": 26
        },
        {
          "output_type": "display_data",
          "data": {
            "image/png": "[encoded data removed]",
            "text/plain": [
              "<Figure size 432x288 with 1 Axes>"
            ]
          },
          "metadata": {
            "tags": [],
            "needs_background": "light"
          }
        }
      ]
    },
    {
      "cell_type": "markdown",
      "metadata": {
        "id": "s7W_1mg_yIwT"
      },
      "source": [
        "This looks like a 5, and indeed that’s what the label tells us:"
      ]
    },
    {
      "cell_type": "code",
      "metadata": {
        "colab": {
          "base_uri": "https://localhost:8080/",
          "height": 35
        },
        "id": "uYmFOCcdyLDT",
        "outputId": "46027604-0ee4-4600-8b24-d60468b86acf"
      },
      "source": [
        "y[0]"
      ],
      "execution_count": 27,
      "outputs": [
        {
          "output_type": "execute_result",
          "data": {
            "application/vnd.google.colaboratory.intrinsic+json": {
              "type": "string"
            },
            "text/plain": [
              "'5'"
            ]
          },
          "metadata": {
            "tags": []
          },
          "execution_count": 27
        }
      ]
    },
    {
      "cell_type": "markdown",
      "metadata": {
        "id": "ZfPyOt7QyR-f"
      },
      "source": [
        "But wait! You should always create a test set and set it aside before inspecting the data closely. The MNIST dataset is actually already split into a training set (the first 60,000 images) and a test set (the last 10,000 images)"
      ]
    },
    {
      "cell_type": "code",
      "metadata": {
        "id": "d6x3auaGyWVH"
      },
      "source": [
        "X_train, X_test, y_train, y_test = X[:60000], X[60000:], y[:60000], y[60000:]"
      ],
      "execution_count": 28,
      "outputs": []
    },
    {
      "cell_type": "markdown",
      "metadata": {
        "id": "iq13P-3cyiUA"
      },
      "source": [
        "Let’s also shuffle the training set; this will guarantee that all cross-validation folds will be similar (you don’t want one fold to be missing some digits). Moreover, some learn ing algorithms are sensitive to the order of the training instances, and they perform poorly if they get many similar instances in a row. Shuffling the dataset ensures that this won’t happen"
      ]
    },
    {
      "cell_type": "code",
      "metadata": {
        "id": "iNoobRJeyn1e"
      },
      "source": [
        "import numpy as np\n",
        "\n",
        "shuffle_index = np.random.permutation(60000)\n",
        "X_train, y_train = X_train[shuffle_index], y_train[shuffle_index]"
      ],
      "execution_count": 29,
      "outputs": []
    },
    {
      "cell_type": "markdown",
      "metadata": {
        "id": "c4VE5EjZy7w3"
      },
      "source": [
        "# Training a Binary Classifier"
      ]
    },
    {
      "cell_type": "markdown",
      "metadata": {
        "id": "ntDeySxxy-Gk"
      },
      "source": [
        "Let’s simplify the problem for now and only try to identify one digit—for example, the number 5. This “5-detector” will be an example of a binary classifier, capable of distinguishing between just two classes, 5 and not-5. Let’s create the target vectors for this classification task"
      ]
    },
    {
      "cell_type": "code",
      "metadata": {
        "id": "-iaxu4dezL6c"
      },
      "source": [
        "y_train_5 = (y_train == '5')\n",
        "y_test_5 = (y_test == '5')"
      ],
      "execution_count": 30,
      "outputs": []
    },
    {
      "cell_type": "markdown",
      "metadata": {
        "id": "KbkzwlZOzFJc"
      },
      "source": [
        "Okay, now let’s pick a classifier and train it. A good place to start is with a Stochastic Gradient Descent (SGD) classifier, using Scikit-Learn's SGDClassifier class. This clas sifier has the advantage of being capable of handling very large datasets efficiently\n",
        "\n",
        "This is in part because SGD deals with training instances independently, one at a time (which also makes SGD well suited for online learning), as we will see later. Let’s create an SGDClassifier and train it on the whole training set \n",
        "\n",
        "\n"
      ]
    },
    {
      "cell_type": "code",
      "metadata": {
        "colab": {
          "base_uri": "https://localhost:8080/"
        },
        "id": "Y-lTBuPo0F97",
        "outputId": "d31800f6-c49b-4fcb-8ce7-2835a2e19db9"
      },
      "source": [
        "from sklearn.linear_model import SGDClassifier\n",
        "\n",
        "sgd_clf = SGDClassifier(random_state=42)\n",
        "sgd_clf.fit(X_train, y_train_5)"
      ],
      "execution_count": 31,
      "outputs": [
        {
          "output_type": "execute_result",
          "data": {
            "text/plain": [
              "SGDClassifier(alpha=0.0001, average=False, class_weight=None,\n",
              "              early_stopping=False, epsilon=0.1, eta0=0.0, fit_intercept=True,\n",
              "              l1_ratio=0.15, learning_rate='optimal', loss='hinge',\n",
              "              max_iter=1000, n_iter_no_change=5, n_jobs=None, penalty='l2',\n",
              "              power_t=0.5, random_state=42, shuffle=True, tol=0.001,\n",
              "              validation_fraction=0.1, verbose=0, warm_start=False)"
            ]
          },
          "metadata": {
            "tags": []
          },
          "execution_count": 31
        }
      ]
    },
    {
      "cell_type": "markdown",
      "metadata": {
        "id": "mlRmT2azXgZl"
      },
      "source": [
        "Now you can use it to detect images of the number 5"
      ]
    },
    {
      "cell_type": "code",
      "metadata": {
        "colab": {
          "base_uri": "https://localhost:8080/"
        },
        "id": "QY6sOxETXiNt",
        "outputId": "6942a6a0-cacd-460e-83b3-6112414113be"
      },
      "source": [
        "sgd_clf.predict([some_digit])"
      ],
      "execution_count": 32,
      "outputs": [
        {
          "output_type": "execute_result",
          "data": {
            "text/plain": [
              "array([ True])"
            ]
          },
          "metadata": {
            "tags": []
          },
          "execution_count": 32
        }
      ]
    },
    {
      "cell_type": "markdown",
      "metadata": {
        "id": "hPyOhx_6X8Aj"
      },
      "source": [
        "# Performance Measures"
      ]
    },
    {
      "cell_type": "markdown",
      "metadata": {
        "id": "5MFFUdVgYApz"
      },
      "source": [
        "Evaluating a classifier is often significantly trickier than evaluating a regressor, so we will spend a large part of this chapter on this topic. There are many performance measures available, so grab another coffee and get ready to learn many new concepts and acronyms!"
      ]
    },
    {
      "cell_type": "markdown",
      "metadata": {
        "id": "4vXhITV3YJUL"
      },
      "source": [
        "## Measuring Accuracy Using Cross-Validation"
      ]
    },
    {
      "cell_type": "markdown",
      "metadata": {
        "id": "BfabkYvpYS1j"
      },
      "source": [
        "Let’s use the cross_val_score() function to evaluate your SGDClassifier model using K-fold cross-validation, with three folds\n",
        "\n",
        "Remember that K-fold cross validation means splitting the training set into K-folds (in this case, three), then making predictions and evaluating them on each fold using a model trained on the remaining folds"
      ]
    },
    {
      "cell_type": "code",
      "metadata": {
        "colab": {
          "base_uri": "https://localhost:8080/"
        },
        "id": "NnVqMA_AYibq",
        "outputId": "b52a50e0-918a-4171-a09f-13cc91284d79"
      },
      "source": [
        "from sklearn.model_selection import cross_val_score\n",
        "cross_val_score(sgd_clf, X_train, y_train_5, cv=3, scoring='accuracy')"
      ],
      "execution_count": 33,
      "outputs": [
        {
          "output_type": "execute_result",
          "data": {
            "text/plain": [
              "array([0.95885, 0.965  , 0.965  ])"
            ]
          },
          "metadata": {
            "tags": []
          },
          "execution_count": 33
        }
      ]
    },
    {
      "cell_type": "markdown",
      "metadata": {
        "id": "Mi94bDGwZCnq"
      },
      "source": [
        "Wow! Above 95% accuracy (ratio of correct predictions) on all cross-validation folds? This looks amazing, doesn’t it?"
      ]
    },
    {
      "cell_type": "markdown",
      "metadata": {
        "id": "pmGe3jXxZGRR"
      },
      "source": [
        "Well, before you get too excited, let’s look at a very dumb classifier that just classifies every single image in the “not-5” class"
      ]
    },
    {
      "cell_type": "code",
      "metadata": {
        "id": "mOP0RLSvZI0j"
      },
      "source": [
        "from sklearn.base import BaseEstimator\n",
        "\n",
        "class Never5Classifier(BaseEstimator):\n",
        "  def fit(self, X, y=None):\n",
        "    pass\n",
        "  def predict(self, X):\n",
        "    return np.zeros((len(X), 1), dtype=bool)"
      ],
      "execution_count": 34,
      "outputs": []
    },
    {
      "cell_type": "markdown",
      "metadata": {
        "id": "vTHDAmVoZcs_"
      },
      "source": [
        "Can you guess this model’s accuracy? Let’s find out"
      ]
    },
    {
      "cell_type": "code",
      "metadata": {
        "colab": {
          "base_uri": "https://localhost:8080/"
        },
        "id": "Fe5xQFUhZcBr",
        "outputId": "caf314ba-01b1-4f15-c73b-17bba2cceaf3"
      },
      "source": [
        "never_5_clf = Never5Classifier()\n",
        "cross_val_score(never_5_clf, X_train, y_train_5, cv=3, scoring='accuracy')"
      ],
      "execution_count": 35,
      "outputs": [
        {
          "output_type": "execute_result",
          "data": {
            "text/plain": [
              "array([0.9111 , 0.913  , 0.90485])"
            ]
          },
          "metadata": {
            "tags": []
          },
          "execution_count": 35
        }
      ]
    },
    {
      "cell_type": "markdown",
      "metadata": {
        "id": "B7zmEC3KZqeN"
      },
      "source": [
        "That’s right, it has over 90% accuracy! This is simply because only about 10% of the images are 5s, so if you always guess that an image is not a 5, you will be right about 90% of the time. Beats Nostradamus\n",
        "\n",
        "This demonstrates why accuracy is generally not the preferred performance measure for classifiers, especially when you are dealing with skewed datasets (i.e., when some classes are much more frequent than others)"
      ]
    },
    {
      "cell_type": "markdown",
      "metadata": {
        "id": "53Db8-CsZvBS"
      },
      "source": [
        "## Confusion Matrix"
      ]
    },
    {
      "cell_type": "markdown",
      "metadata": {
        "id": "2Lzetq80bCsk"
      },
      "source": [
        "A much better way to evaluate the performance of a classifier is to look at the confu sion matrix. The general idea is to count the number of times instances of class A are classified as class B. For example, to know the number of times the classifier confused images of 5s with 3s, you would look in the 5th row and 3rd column of the confusion matrix"
      ]
    },
    {
      "cell_type": "markdown",
      "metadata": {
        "id": "g5nboMZqbfJM"
      },
      "source": [
        "To compute the confusion matrix, you first need to have a set of predictions, so they can be compared to the actual targets. You could make predictions on the test set, but let’s keep it untouched for now (remember that you want to use the test set only at the very end of your project, once you have a classifier that you are ready to launch). Instead, you can use the cross_val_predict() function "
      ]
    },
    {
      "cell_type": "code",
      "metadata": {
        "id": "epjPheHibjz_"
      },
      "source": [
        "from sklearn.model_selection import cross_val_predict\n",
        "\n",
        "y_train_pred = cross_val_predict(sgd_clf, X_train, y_train_5, cv=3)"
      ],
      "execution_count": 36,
      "outputs": []
    },
    {
      "cell_type": "markdown",
      "metadata": {
        "id": "1PD93BIkbxW6"
      },
      "source": [
        "Just like the cross_val_score() function, cross_val_predict() performs K-fold cross-validation, but instead of returning the evaluation scores, it returns the predictions made on each test fold. This means that you get a clean prediction for each instance in the training set (“clean” meaning that the prediction is made by a model that never saw the data during training)"
      ]
    },
    {
      "cell_type": "markdown",
      "metadata": {
        "id": "ik5H7DR1cGXI"
      },
      "source": [
        "Now you are ready to get the confusion matrix using the confusion_matrix() function. Just pass it the target classes (y_train_5) and the predicted classes (y_train_pred) "
      ]
    },
    {
      "cell_type": "code",
      "metadata": {
        "colab": {
          "base_uri": "https://localhost:8080/"
        },
        "id": "ph9VGpuKcUfC",
        "outputId": "124c2ffc-680b-4067-fe9e-ba88d534e8fe"
      },
      "source": [
        "from sklearn.metrics import confusion_matrix\n",
        "confusion_matrix(y_train_5, y_train_pred)"
      ],
      "execution_count": 37,
      "outputs": [
        {
          "output_type": "execute_result",
          "data": {
            "text/plain": [
              "array([[53790,   789],\n",
              "       [ 1434,  3987]])"
            ]
          },
          "metadata": {
            "tags": []
          },
          "execution_count": 37
        }
      ]
    },
    {
      "cell_type": "markdown",
      "metadata": {
        "id": "iijh-0JTcqSg"
      },
      "source": [
        ""
      ]
    }
  ]
}