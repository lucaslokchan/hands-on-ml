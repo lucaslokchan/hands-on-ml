{
  "nbformat": 4,
  "nbformat_minor": 0,
  "metadata": {
    "colab": {
      "name": "7.Ensemble Learning and Random Forests.ipynb",
      "provenance": [],
      "authorship_tag": "ABX9TyMOQbah8PGl1BfQg54SU5D8"
    },
    "kernelspec": {
      "name": "python3",
      "display_name": "Python 3"
    },
    "language_info": {
      "name": "python"
    }
  },
  "cells": [
    {
      "cell_type": "markdown",
      "metadata": {
        "id": "MdgHtCOXIENM"
      },
      "source": [
        "# Voting Classifier"
      ]
    }
  ]
}