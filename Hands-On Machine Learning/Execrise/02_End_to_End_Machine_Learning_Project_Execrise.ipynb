{
  "nbformat": 4,
  "nbformat_minor": 0,
  "metadata": {
    "colab": {
      "name": "Chapter 2 Execries.ipynb",
      "provenance": [],
      "authorship_tag": "ABX9TyPiI5PrUeXjtjgCFomWbTCA"
    },
    "kernelspec": {
      "display_name": "Python 3",
      "name": "python3"
    },
    "language_info": {
      "name": "python"
    }
  },
  "cells": [
    {
      "cell_type": "markdown",
      "metadata": {
        "id": "FZOC1odJT13I"
      },
      "source": [
        "# Using this chapter’s housing dataset:"
      ]
    },
    {
      "cell_type": "markdown",
      "metadata": {
        "id": "vdG6mO81Q1aI"
      },
      "source": [
        "## Preparing Data"
      ]
    },
    {
      "cell_type": "markdown",
      "metadata": {
        "id": "3CAR-wPN9FHu"
      },
      "source": [
        "Read the Data with Pandas"
      ]
    },
    {
      "cell_type": "code",
      "metadata": {
        "id": "FRu0vqQ88HvW"
      },
      "source": [
        "import pandas as pd\n",
        "\n",
        "housing_csv = 'https://github.com/lucaslokchan/ml-journal/raw/master/Learning%20Notes/Chapter%202:%20End-to-End%20Machine%20Learning%20Project/housing.csv'\n",
        "housing = pd.read_csv(housing_csv)"
      ],
      "execution_count": 1,
      "outputs": []
    },
    {
      "cell_type": "code",
      "metadata": {
        "colab": {
          "base_uri": "https://localhost:8080/",
          "height": 308
        },
        "id": "c1yqdBsXINLH",
        "outputId": "7a1cd1c7-d248-4f54-a61a-f99419bd3b92"
      },
      "source": [
        "housing.describe()"
      ],
      "execution_count": 2,
      "outputs": [
        {
          "output_type": "execute_result",
          "data": {
            "text/html": [
              "<div>\n",
              "<style scoped>\n",
              "    .dataframe tbody tr th:only-of-type {\n",
              "        vertical-align: middle;\n",
              "    }\n",
              "\n",
              "    .dataframe tbody tr th {\n",
              "        vertical-align: top;\n",
              "    }\n",
              "\n",
              "    .dataframe thead th {\n",
              "        text-align: right;\n",
              "    }\n",
              "</style>\n",
              "<table border=\"1\" class=\"dataframe\">\n",
              "  <thead>\n",
              "    <tr style=\"text-align: right;\">\n",
              "      <th></th>\n",
              "      <th>longitude</th>\n",
              "      <th>latitude</th>\n",
              "      <th>housing_median_age</th>\n",
              "      <th>total_rooms</th>\n",
              "      <th>total_bedrooms</th>\n",
              "      <th>population</th>\n",
              "      <th>households</th>\n",
              "      <th>median_income</th>\n",
              "      <th>median_house_value</th>\n",
              "    </tr>\n",
              "  </thead>\n",
              "  <tbody>\n",
              "    <tr>\n",
              "      <th>count</th>\n",
              "      <td>20640.000000</td>\n",
              "      <td>20640.000000</td>\n",
              "      <td>20640.000000</td>\n",
              "      <td>20640.000000</td>\n",
              "      <td>20433.000000</td>\n",
              "      <td>20640.000000</td>\n",
              "      <td>20640.000000</td>\n",
              "      <td>20640.000000</td>\n",
              "      <td>20640.000000</td>\n",
              "    </tr>\n",
              "    <tr>\n",
              "      <th>mean</th>\n",
              "      <td>-119.569704</td>\n",
              "      <td>35.631861</td>\n",
              "      <td>28.639486</td>\n",
              "      <td>2635.763081</td>\n",
              "      <td>537.870553</td>\n",
              "      <td>1425.476744</td>\n",
              "      <td>499.539680</td>\n",
              "      <td>3.870671</td>\n",
              "      <td>206855.816909</td>\n",
              "    </tr>\n",
              "    <tr>\n",
              "      <th>std</th>\n",
              "      <td>2.003532</td>\n",
              "      <td>2.135952</td>\n",
              "      <td>12.585558</td>\n",
              "      <td>2181.615252</td>\n",
              "      <td>421.385070</td>\n",
              "      <td>1132.462122</td>\n",
              "      <td>382.329753</td>\n",
              "      <td>1.899822</td>\n",
              "      <td>115395.615874</td>\n",
              "    </tr>\n",
              "    <tr>\n",
              "      <th>min</th>\n",
              "      <td>-124.350000</td>\n",
              "      <td>32.540000</td>\n",
              "      <td>1.000000</td>\n",
              "      <td>2.000000</td>\n",
              "      <td>1.000000</td>\n",
              "      <td>3.000000</td>\n",
              "      <td>1.000000</td>\n",
              "      <td>0.499900</td>\n",
              "      <td>14999.000000</td>\n",
              "    </tr>\n",
              "    <tr>\n",
              "      <th>25%</th>\n",
              "      <td>-121.800000</td>\n",
              "      <td>33.930000</td>\n",
              "      <td>18.000000</td>\n",
              "      <td>1447.750000</td>\n",
              "      <td>296.000000</td>\n",
              "      <td>787.000000</td>\n",
              "      <td>280.000000</td>\n",
              "      <td>2.563400</td>\n",
              "      <td>119600.000000</td>\n",
              "    </tr>\n",
              "    <tr>\n",
              "      <th>50%</th>\n",
              "      <td>-118.490000</td>\n",
              "      <td>34.260000</td>\n",
              "      <td>29.000000</td>\n",
              "      <td>2127.000000</td>\n",
              "      <td>435.000000</td>\n",
              "      <td>1166.000000</td>\n",
              "      <td>409.000000</td>\n",
              "      <td>3.534800</td>\n",
              "      <td>179700.000000</td>\n",
              "    </tr>\n",
              "    <tr>\n",
              "      <th>75%</th>\n",
              "      <td>-118.010000</td>\n",
              "      <td>37.710000</td>\n",
              "      <td>37.000000</td>\n",
              "      <td>3148.000000</td>\n",
              "      <td>647.000000</td>\n",
              "      <td>1725.000000</td>\n",
              "      <td>605.000000</td>\n",
              "      <td>4.743250</td>\n",
              "      <td>264725.000000</td>\n",
              "    </tr>\n",
              "    <tr>\n",
              "      <th>max</th>\n",
              "      <td>-114.310000</td>\n",
              "      <td>41.950000</td>\n",
              "      <td>52.000000</td>\n",
              "      <td>39320.000000</td>\n",
              "      <td>6445.000000</td>\n",
              "      <td>35682.000000</td>\n",
              "      <td>6082.000000</td>\n",
              "      <td>15.000100</td>\n",
              "      <td>500001.000000</td>\n",
              "    </tr>\n",
              "  </tbody>\n",
              "</table>\n",
              "</div>"
            ],
            "text/plain": [
              "          longitude      latitude  ...  median_income  median_house_value\n",
              "count  20640.000000  20640.000000  ...   20640.000000        20640.000000\n",
              "mean    -119.569704     35.631861  ...       3.870671       206855.816909\n",
              "std        2.003532      2.135952  ...       1.899822       115395.615874\n",
              "min     -124.350000     32.540000  ...       0.499900        14999.000000\n",
              "25%     -121.800000     33.930000  ...       2.563400       119600.000000\n",
              "50%     -118.490000     34.260000  ...       3.534800       179700.000000\n",
              "75%     -118.010000     37.710000  ...       4.743250       264725.000000\n",
              "max     -114.310000     41.950000  ...      15.000100       500001.000000\n",
              "\n",
              "[8 rows x 9 columns]"
            ]
          },
          "metadata": {
            "tags": []
          },
          "execution_count": 2
        }
      ]
    },
    {
      "cell_type": "markdown",
      "metadata": {
        "id": "h8I0DqNFI6Iv"
      },
      "source": [
        "Divide Median Income Into 5 Categories"
      ]
    },
    {
      "cell_type": "code",
      "metadata": {
        "colab": {
          "base_uri": "https://localhost:8080/",
          "height": 283
        },
        "id": "AXM2_WgZEOv3",
        "outputId": "3de0aec7-a0d9-412f-91ed-7b3537be7278"
      },
      "source": [
        "import numpy as np\n",
        "housing['median_income'].hist()\n",
        "housing['income_cat'] = np.ceil(housing['median_income'] / 1.5)\n",
        "housing['income_cat'].where(housing['income_cat'] < 5, 5.0, inplace=True)\n",
        "housing['income_cat'].hist()"
      ],
      "execution_count": 3,
      "outputs": [
        {
          "output_type": "execute_result",
          "data": {
            "text/plain": [
              "<matplotlib.axes._subplots.AxesSubplot at 0x7fc77676c650>"
            ]
          },
          "metadata": {
            "tags": []
          },
          "execution_count": 3
        },
        {
          "output_type": "display_data",
          "data": {
            "image/png": "[encoded data removed]",
            "text/plain": [
              "<Figure size 432x288 with 1 Axes>"
            ]
          },
          "metadata": {
            "tags": [],
            "needs_background": "light"
          }
        }
      ]
    },
    {
      "cell_type": "markdown",
      "metadata": {
        "id": "bHJ-uWQUKNY_"
      },
      "source": [
        "Perform Stratified Sampling Based on the Income Category"
      ]
    },
    {
      "cell_type": "code",
      "metadata": {
        "id": "NyacT0CQKNG3"
      },
      "source": [
        "from sklearn.model_selection import StratifiedShuffleSplit\n",
        "\n",
        "split = StratifiedShuffleSplit(n_splits=1, test_size=0.2, random_state=3)\n",
        "\n",
        "for train_index, test_index in split.split(housing, housing['income_cat']):\n",
        "  strat_train_set = housing.loc[train_index]\n",
        "  strat_test_set = housing.loc[test_index]"
      ],
      "execution_count": 4,
      "outputs": []
    },
    {
      "cell_type": "markdown",
      "metadata": {
        "id": "40UbmvUnSGSY"
      },
      "source": [
        "Prepare the data for your Machine Learning algorithms"
      ]
    },
    {
      "cell_type": "code",
      "metadata": {
        "id": "nopf-rr2RZY4"
      },
      "source": [
        "housing = strat_train_set.copy()\n",
        "housing_labels =strat_train_set['median_house_value'].copy()"
      ],
      "execution_count": 5,
      "outputs": []
    },
    {
      "cell_type": "markdown",
      "metadata": {
        "id": "IPjGee0DNy3X"
      },
      "source": [
        "Get Rid of ocean_proximity (Non-Numerical Attribute) Since the Median can Only be Computer on Numerical Attributes"
      ]
    },
    {
      "cell_type": "code",
      "metadata": {
        "id": "f429aw0WNtnB"
      },
      "source": [
        "housing_num = housing.drop('ocean_proximity', axis=1)"
      ],
      "execution_count": 6,
      "outputs": []
    },
    {
      "cell_type": "markdown",
      "metadata": {
        "id": "05tFpjBeMAPn"
      },
      "source": [
        "Data Cleaning Pipeline\n",
        "*   Transform Number Attributes \n",
        "*   Convert ocean_proximity with OneHotEncoder\n",
        "\n"
      ]
    },
    {
      "cell_type": "code",
      "metadata": {
        "id": "GrkbaJtdMAgH"
      },
      "source": [
        "from sklearn.pipeline import Pipeline\n",
        "from sklearn.impute import SimpleImputer\n",
        "from sklearn.pipeline import FeatureUnion\n",
        "from sklearn.preprocessing import OneHotEncoder\n",
        "from sklearn.preprocessing import StandardScaler\n",
        "from sklearn.compose import ColumnTransformer\n",
        "\n",
        "num_attribs = list(housing_num)\n",
        "cat_attribs = ['ocean_proximity']\n",
        "\n",
        "num_pipeline = Pipeline([\n",
        "        ('imputer', SimpleImputer(strategy='median')),    \n",
        "        ('std_scaler', StandardScaler()),  \n",
        "])\n",
        "\n",
        "full_pipeline = ColumnTransformer([\n",
        "          ('num', num_pipeline, num_attribs),\n",
        "          ('cat', OneHotEncoder(), cat_attribs),\n",
        "])"
      ],
      "execution_count": 7,
      "outputs": []
    },
    {
      "cell_type": "code",
      "metadata": {
        "colab": {
          "base_uri": "https://localhost:8080/"
        },
        "id": "BzSgWnbCPpDw",
        "outputId": "20e52f4f-4aa0-4b0b-9e85-41712bbe1c3c"
      },
      "source": [
        "housing_prepared = full_pipeline.fit_transform(housing)\n",
        "housing_prepared\n",
        "housing_prepared.shape"
      ],
      "execution_count": 8,
      "outputs": [
        {
          "output_type": "execute_result",
          "data": {
            "text/plain": [
              "(16512, 15)"
            ]
          },
          "metadata": {
            "tags": []
          },
          "execution_count": 8
        }
      ]
    },
    {
      "cell_type": "markdown",
      "metadata": {
        "id": "m348_sSgT6jQ"
      },
      "source": [
        "## 1. Try a Support Vector Machine regressor (sklearn.svm.SVR), with various hyperparameters such as kernel=\"linear\" (with various values for the C hyperparameter) or kernel=\"rbf\" (with various values for the C and gamma hyperparameters). Don’t worry about what these hyperparameters mean for now. How does the best SVR predictor perform? "
      ]
    },
    {
      "cell_type": "markdown",
      "metadata": {
        "id": "aSmc1vn7dsQN"
      },
      "source": [
        "### Default Hyperparameter"
      ]
    },
    {
      "cell_type": "code",
      "metadata": {
        "colab": {
          "base_uri": "https://localhost:8080/"
        },
        "id": "J1ONLZ9jT_Lw",
        "outputId": "8acaf9aa-870e-418e-95d1-348c61d78f1d"
      },
      "source": [
        "from sklearn.svm import SVR\n",
        "\n",
        "sv_reg = SVR()\n",
        "sv_reg.fit(housing_prepared, housing_labels)"
      ],
      "execution_count": 9,
      "outputs": [
        {
          "output_type": "execute_result",
          "data": {
            "text/plain": [
              "SVR(C=1.0, cache_size=200, coef0=0.0, degree=3, epsilon=0.1, gamma='scale',\n",
              "    kernel='rbf', max_iter=-1, shrinking=True, tol=0.001, verbose=False)"
            ]
          },
          "metadata": {
            "tags": []
          },
          "execution_count": 9
        }
      ]
    },
    {
      "cell_type": "markdown",
      "metadata": {
        "id": "if0ji3vcSe4H"
      },
      "source": [
        "Measure the regression model’s RMSE"
      ]
    },
    {
      "cell_type": "code",
      "metadata": {
        "colab": {
          "base_uri": "https://localhost:8080/"
        },
        "id": "25tesq3ISmui",
        "outputId": "a1b2c934-89d7-4953-98c3-e1de6869fcee"
      },
      "source": [
        "from sklearn.metrics import mean_squared_error\n",
        "housing_predictions = sv_reg.predict(housing_prepared)\n",
        "sv_mse = mean_squared_error(housing_labels, housing_predictions)\n",
        "sv_rmse = np.sqrt(sv_mse)\n",
        "sv_rmse"
      ],
      "execution_count": 10,
      "outputs": [
        {
          "output_type": "execute_result",
          "data": {
            "text/plain": [
              "117881.41045362344"
            ]
          },
          "metadata": {
            "tags": []
          },
          "execution_count": 10
        }
      ]
    },
    {
      "cell_type": "markdown",
      "metadata": {
        "id": "ICLCZLkkbger"
      },
      "source": [
        "Validation Using Cross-Validation"
      ]
    },
    {
      "cell_type": "code",
      "metadata": {
        "id": "9xruUNhwbups"
      },
      "source": [
        "from sklearn.model_selection import cross_val_score\n",
        "scores = cross_val_score(sv_reg, housing_prepared, housing_labels,\n",
        "                         scoring='neg_mean_squared_error', cv=10)\n",
        "sv_rmse_scores = np.sqrt(-scores)"
      ],
      "execution_count": 11,
      "outputs": []
    },
    {
      "cell_type": "code",
      "metadata": {
        "colab": {
          "base_uri": "https://localhost:8080/"
        },
        "id": "J-4x7d2BcZan",
        "outputId": "d1f8bdcc-8c7d-4aa3-aebe-bf321e82736a"
      },
      "source": [
        "def display_scores(scores):\n",
        "  print('Scores:', scores)\n",
        "  print('Mean:', scores.mean())\n",
        "  print('Standard Deviation:', scores.std())\n",
        "\n",
        "display_scores(sv_rmse_scores)"
      ],
      "execution_count": 12,
      "outputs": [
        {
          "output_type": "stream",
          "text": [
            "Scores: [114175.48176847 117265.95163209 117967.06783805 117659.91195841\n",
            " 115592.35589696 119279.27149088 117308.84460724 117369.57159962\n",
            " 125171.39575631 117772.48058512]\n",
            "Mean: 117956.23331331594\n",
            "Standard Deviation: 2739.5703948157843\n"
          ],
          "name": "stdout"
        }
      ]
    },
    {
      "cell_type": "markdown",
      "metadata": {
        "id": "3NYrdvNnd0od"
      },
      "source": [
        "### Different Parameters"
      ]
    },
    {
      "cell_type": "code",
      "metadata": {
        "colab": {
          "base_uri": "https://localhost:8080/"
        },
        "id": "NDJkRxacjP4R",
        "outputId": "11f07fbc-1647-4325-c8c1-0fd3e9832c0a"
      },
      "source": [
        "sv_reg_1 = SVR(kernel='sigmoid', degree=5, gamma='auto', coef0=0.212, \n",
        "               tol=0.5e-3, C=2, epsilon=1.2, shrinking=False, cache_size=200, \n",
        "               verbose=True, max_iter=-1)\n",
        "\n",
        "sv_reg_1.fit(housing_prepared, housing_labels)"
      ],
      "execution_count": 13,
      "outputs": [
        {
          "output_type": "stream",
          "text": [
            "[LibSVM]"
          ],
          "name": "stdout"
        },
        {
          "output_type": "execute_result",
          "data": {
            "text/plain": [
              "SVR(C=2, cache_size=200, coef0=0.212, degree=5, epsilon=1.2, gamma='auto',\n",
              "    kernel='sigmoid', max_iter=-1, shrinking=False, tol=0.0005, verbose=True)"
            ]
          },
          "metadata": {
            "tags": []
          },
          "execution_count": 13
        }
      ]
    },
    {
      "cell_type": "markdown",
      "metadata": {
        "id": "jR9ob9O-lgQq"
      },
      "source": [
        "Validation Using Cross-Validation"
      ]
    },
    {
      "cell_type": "code",
      "metadata": {
        "colab": {
          "base_uri": "https://localhost:8080/"
        },
        "id": "KS2t47AVliL9",
        "outputId": "c54d5026-0078-4da3-91b0-4876508cd071"
      },
      "source": [
        "scores = cross_val_score(sv_reg_1, housing_prepared, housing_labels,\n",
        "                         scoring='neg_mean_squared_error', cv=10)\n",
        "sv_rmse_scores = np.sqrt(-scores)\n",
        "display_scores(sv_rmse_scores)"
      ],
      "execution_count": 14,
      "outputs": [
        {
          "output_type": "stream",
          "text": [
            "[LibSVM][LibSVM][LibSVM][LibSVM][LibSVM][LibSVM][LibSVM][LibSVM][LibSVM][LibSVM]Scores: [112296.90079922 115257.77068768 116063.6483537  115744.49336784\n",
            " 113671.56557168 117290.01565228 115349.69155477 115450.63088488\n",
            " 123049.79417059 115752.11002813]\n",
            "Mean: 115992.66210707746\n",
            "Standard Deviation: 2681.4948518063034\n"
          ],
          "name": "stdout"
        }
      ]
    },
    {
      "cell_type": "markdown",
      "metadata": {
        "id": "W2xIPrYzUdYg"
      },
      "source": [
        "## 2. Try replacing GridSearchCV with RandomizedSearchCV "
      ]
    },
    {
      "cell_type": "markdown",
      "metadata": {
        "id": "5GhOgRv81XNi"
      },
      "source": [
        "Orginial Code Snippet\n",
        "\n",
        "\n",
        "\n",
        "```\n",
        "from sklearn.model_selection import GridSearchCV\n",
        "\n",
        "param_grid = [\n",
        "              {'n_estimators': [3, 10, 30], 'max_features': [2, 4, 6, 8]},\n",
        "              {'bootstrap': [False], 'n_estimators': [3, 10], 'max_features': [2, 3, 4]}\n",
        "]\n",
        "\n",
        "forest_reg = RandomForestRegressor()\n",
        "\n",
        "grid_search = GridSearchCV(forest_reg, param_grid, cv=5,\n",
        "                           scoring='neg_mean_squared_error')\n",
        "\n",
        "grid_search.fit(housing_prepared, housing_labels)\n",
        "```\n",
        "\n"
      ]
    },
    {
      "cell_type": "code",
      "metadata": {
        "colab": {
          "base_uri": "https://localhost:8080/"
        },
        "id": "db_JQ-b2Uh6H",
        "outputId": "3e436796-040e-495f-c895-759758248ecc"
      },
      "source": [
        "from sklearn.model_selection import RandomizedSearchCV\n",
        "\n",
        "c_values = np.linspace(0, 10, 6)\n",
        "epsilon_values = np.linspace(0.1, 1.0, 6)\n",
        "\n",
        "param_grid = [\n",
        "              {'kernel': ['rbf', 'sigmoid'], 'degree': [1, 2, 3]},\n",
        "              {'C': c_values, 'epsilon': epsilon_values}\n",
        "]\n",
        "\n",
        "sv_reg = SVR()\n",
        "\n",
        "rand_search = RandomizedSearchCV(sv_reg, param_grid, cv=5,\n",
        "                                 scoring='neg_mean_squared_error')\n",
        "\n",
        "rand_search.fit(housing_prepared, housing_labels)"
      ],
      "execution_count": 31,
      "outputs": [
        {
          "output_type": "stream",
          "text": [
            "/usr/local/lib/python3.7/dist-packages/sklearn/model_selection/_validation.py:536: FitFailedWarning: Estimator fit failed. The score on this train-test partition for these parameters will be set to nan. Details: \n",
            "ValueError: C <= 0\n",
            "\n",
            "  FitFailedWarning)\n",
            "/usr/local/lib/python3.7/dist-packages/sklearn/model_selection/_validation.py:536: FitFailedWarning: Estimator fit failed. The score on this train-test partition for these parameters will be set to nan. Details: \n",
            "ValueError: C <= 0\n",
            "\n",
            "  FitFailedWarning)\n",
            "/usr/local/lib/python3.7/dist-packages/sklearn/model_selection/_validation.py:536: FitFailedWarning: Estimator fit failed. The score on this train-test partition for these parameters will be set to nan. Details: \n",
            "ValueError: C <= 0\n",
            "\n",
            "  FitFailedWarning)\n",
            "/usr/local/lib/python3.7/dist-packages/sklearn/model_selection/_validation.py:536: FitFailedWarning: Estimator fit failed. The score on this train-test partition for these parameters will be set to nan. Details: \n",
            "ValueError: C <= 0\n",
            "\n",
            "  FitFailedWarning)\n",
            "/usr/local/lib/python3.7/dist-packages/sklearn/model_selection/_validation.py:536: FitFailedWarning: Estimator fit failed. The score on this train-test partition for these parameters will be set to nan. Details: \n",
            "ValueError: C <= 0\n",
            "\n",
            "  FitFailedWarning)\n"
          ],
          "name": "stderr"
        },
        {
          "output_type": "execute_result",
          "data": {
            "text/plain": [
              "RandomizedSearchCV(cv=5, error_score=nan,\n",
              "                   estimator=SVR(C=1.0, cache_size=200, coef0=0.0, degree=3,\n",
              "                                 epsilon=0.1, gamma='scale', kernel='rbf',\n",
              "                                 max_iter=-1, shrinking=True, tol=0.001,\n",
              "                                 verbose=False),\n",
              "                   iid='deprecated', n_iter=10, n_jobs=None,\n",
              "                   param_distributions=[{'degree': [1, 2, 3],\n",
              "                                         'kernel': ['rbf', 'sigmoid']},\n",
              "                                        {'C': array([ 0.,  2.,  4.,  6.,  8., 10.]),\n",
              "                                         'epsilon': array([0.1 , 0.28, 0.46, 0.64, 0.82, 1.  ])}],\n",
              "                   pre_dispatch='2*n_jobs', random_state=None, refit=True,\n",
              "                   return_train_score=False, scoring='neg_mean_squared_error',\n",
              "                   verbose=0)"
            ]
          },
          "metadata": {
            "tags": []
          },
          "execution_count": 31
        }
      ]
    },
    {
      "cell_type": "markdown",
      "metadata": {
        "id": "ds-wVebi2tN8"
      },
      "source": [
        "Show Best Parameters"
      ]
    },
    {
      "cell_type": "code",
      "metadata": {
        "id": "OqA_JYFQ2ysM",
        "colab": {
          "base_uri": "https://localhost:8080/"
        },
        "outputId": "8044471b-9003-4074-8ce6-7c2833fac053"
      },
      "source": [
        "rand_search.best_params_"
      ],
      "execution_count": 32,
      "outputs": [
        {
          "output_type": "execute_result",
          "data": {
            "text/plain": [
              "{'C': 10.0, 'epsilon': 0.1}"
            ]
          },
          "metadata": {
            "tags": []
          },
          "execution_count": 32
        }
      ]
    },
    {
      "cell_type": "markdown",
      "metadata": {
        "id": "bnJ1ezhV0Nnt"
      },
      "source": [
        "Show Best Estimator"
      ]
    },
    {
      "cell_type": "code",
      "metadata": {
        "colab": {
          "base_uri": "https://localhost:8080/"
        },
        "id": "XfwG4k8G0Qq8",
        "outputId": "b0fd9f80-981b-4f38-cc68-f50d149e0ed0"
      },
      "source": [
        "rand_search.best_estimator_"
      ],
      "execution_count": 33,
      "outputs": [
        {
          "output_type": "execute_result",
          "data": {
            "text/plain": [
              "SVR(C=10.0, cache_size=200, coef0=0.0, degree=3, epsilon=0.1, gamma='scale',\n",
              "    kernel='rbf', max_iter=-1, shrinking=True, tol=0.001, verbose=False)"
            ]
          },
          "metadata": {
            "tags": []
          },
          "execution_count": 33
        }
      ]
    },
    {
      "cell_type": "markdown",
      "metadata": {
        "id": "nchhsCu5UiQn"
      },
      "source": [
        "## 3. Try adding a transformer in the preparation pipeline to select only the most important attributes."
      ]
    },
    {
      "cell_type": "code",
      "metadata": {
        "id": "FaSBKJQwUlMQ"
      },
      "source": [
        ""
      ],
      "execution_count": null,
      "outputs": []
    },
    {
      "cell_type": "markdown",
      "metadata": {
        "id": "ugbRZqVvUlaf"
      },
      "source": [
        "## 4. Try creating a single pipeline that does the full data preparation plus the final prediction."
      ]
    },
    {
      "cell_type": "code",
      "metadata": {
        "id": "tUd525AWUnlf"
      },
      "source": [
        ""
      ],
      "execution_count": null,
      "outputs": []
    },
    {
      "cell_type": "markdown",
      "metadata": {
        "id": "c3ZlZTS3Un3_"
      },
      "source": [
        "## 5. Automatically explore some preparation options using GridSearchCV"
      ]
    },
    {
      "cell_type": "code",
      "metadata": {
        "id": "I0AFie8fUrEH"
      },
      "source": [
        ""
      ],
      "execution_count": null,
      "outputs": []
    }
  ]
}