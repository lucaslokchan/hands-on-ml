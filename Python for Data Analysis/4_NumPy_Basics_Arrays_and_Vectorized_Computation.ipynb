{
  "nbformat": 4,
  "nbformat_minor": 0,
  "metadata": {
    "colab": {
      "name": "4. NumPy Basics Arrays and Vectorized Computation.ipynb",
      "provenance": [],
      "collapsed_sections": [],
      "authorship_tag": "ABX9TyNdKW4sXlL3TltNTtHhZxfv"
    },
    "kernelspec": {
      "name": "python3",
      "display_name": "Python 3"
    },
    "language_info": {
      "name": "python"
    }
  },
  "cells": [
    {
      "cell_type": "markdown",
      "metadata": {
        "id": "7v4369REC1uE"
      },
      "source": [
        "To give you an idea of the performance difference, consider a NumPy array of one million integers, and the equivalent Python list:"
      ]
    },
    {
      "cell_type": "code",
      "metadata": {
        "id": "8mDCCOzXBcJu"
      },
      "source": [
        "import numpy as np\n",
        "my_arr = np.arange(1000000)\n",
        "my_list = list(range(1000000))"
      ],
      "execution_count": 1,
      "outputs": []
    },
    {
      "cell_type": "markdown",
      "metadata": {
        "id": "WvQtTJUuCmhu"
      },
      "source": [
        "Now let’s multiply each sequence by 2:"
      ]
    },
    {
      "cell_type": "code",
      "metadata": {
        "colab": {
          "base_uri": "https://localhost:8080/"
        },
        "id": "EKp3inzYCm1a",
        "outputId": "dc1a8d92-abff-4b7e-a1da-b9abefc539a7"
      },
      "source": [
        "%time for _ in range(10): my_arr2 = my_arr * 2"
      ],
      "execution_count": 2,
      "outputs": [
        {
          "output_type": "stream",
          "name": "stdout",
          "text": [
            "CPU times: user 15.7 ms, sys: 8.75 ms, total: 24.5 ms\n",
            "Wall time: 28.9 ms\n"
          ]
        }
      ]
    },
    {
      "cell_type": "code",
      "metadata": {
        "colab": {
          "base_uri": "https://localhost:8080/"
        },
        "id": "GimS9hZtCrlU",
        "outputId": "08e2421c-a352-450c-b730-0a05f4e0f22b"
      },
      "source": [
        "%time for _ in range(10): my_list2 = [x * 2 for x in my_list]"
      ],
      "execution_count": 3,
      "outputs": [
        {
          "output_type": "stream",
          "name": "stdout",
          "text": [
            "CPU times: user 1.22 s, sys: 244 ms, total: 1.47 s\n",
            "Wall time: 1.52 s\n"
          ]
        }
      ]
    },
    {
      "cell_type": "markdown",
      "metadata": {
        "id": "vnAxhZ0QC3xI"
      },
      "source": [
        "# 4.1 The NumPy ndarray: A Multidimensional Array Object"
      ]
    },
    {
      "cell_type": "markdown",
      "metadata": {
        "id": "doIgoxKiC6JK"
      },
      "source": [
        "One of the key features of NumPy is its **N-dimensional** array object, or ndarray, which is a fast, flexible container for large datasets in Python. Arrays enable you to perform mathematical operations on whole blocks of data using similar syntax to the equivalent operations between scalar elements"
      ]
    },
    {
      "cell_type": "code",
      "metadata": {
        "colab": {
          "base_uri": "https://localhost:8080/"
        },
        "id": "wljyA63lC_nf",
        "outputId": "7aac8c54-6aad-447d-b99c-fce5d88afd9a"
      },
      "source": [
        "data = np.random.randn(2, 3)\n",
        "data"
      ],
      "execution_count": 4,
      "outputs": [
        {
          "output_type": "execute_result",
          "data": {
            "text/plain": [
              "array([[ 0.66840567, -0.28923228,  1.73246125],\n",
              "       [ 1.22556321,  0.17500255, -0.62117952]])"
            ]
          },
          "metadata": {},
          "execution_count": 4
        }
      ]
    },
    {
      "cell_type": "markdown",
      "metadata": {
        "id": "fbXIE3QFDO_K"
      },
      "source": [
        "I then write mathematical operations with data:"
      ]
    },
    {
      "cell_type": "code",
      "metadata": {
        "colab": {
          "base_uri": "https://localhost:8080/"
        },
        "id": "kAYPnc7ODCNp",
        "outputId": "5816e18d-ee6a-4d0f-b6a1-4a14261dace7"
      },
      "source": [
        "data * 10"
      ],
      "execution_count": 5,
      "outputs": [
        {
          "output_type": "execute_result",
          "data": {
            "text/plain": [
              "array([[ 6.68405673, -2.89232278, 17.32461251],\n",
              "       [12.25563209,  1.75002547, -6.21179518]])"
            ]
          },
          "metadata": {},
          "execution_count": 5
        }
      ]
    },
    {
      "cell_type": "code",
      "metadata": {
        "colab": {
          "base_uri": "https://localhost:8080/"
        },
        "id": "MIq-jfLSDSLm",
        "outputId": "0996540f-e208-429e-dba6-0515735df6ad"
      },
      "source": [
        "data + data"
      ],
      "execution_count": 6,
      "outputs": [
        {
          "output_type": "execute_result",
          "data": {
            "text/plain": [
              "array([[ 1.33681135, -0.57846456,  3.4649225 ],\n",
              "       [ 2.45112642,  0.35000509, -1.24235904]])"
            ]
          },
          "metadata": {},
          "execution_count": 6
        }
      ]
    },
    {
      "cell_type": "markdown",
      "metadata": {
        "id": "n5E5sYTMDUf7"
      },
      "source": [
        "An ndarray is a generic multidimensional container for homogeneous data; that is, **all of the elements must be the same type**\n",
        "\n",
        "Every array has a shape, a tuple indicating the size of each dimension, and a dtype, an object describing the data type of the array:"
      ]
    },
    {
      "cell_type": "code",
      "metadata": {
        "colab": {
          "base_uri": "https://localhost:8080/"
        },
        "id": "4Q-wPvwIDe1f",
        "outputId": "083fbb40-0605-493f-d179-a847d72626d0"
      },
      "source": [
        "data.shape"
      ],
      "execution_count": 7,
      "outputs": [
        {
          "output_type": "execute_result",
          "data": {
            "text/plain": [
              "(2, 3)"
            ]
          },
          "metadata": {},
          "execution_count": 7
        }
      ]
    },
    {
      "cell_type": "code",
      "metadata": {
        "colab": {
          "base_uri": "https://localhost:8080/"
        },
        "id": "_bFkVxNRDgUU",
        "outputId": "0cd462aa-5070-4b1e-c868-83e96c4cfdba"
      },
      "source": [
        "data.dtype"
      ],
      "execution_count": 8,
      "outputs": [
        {
          "output_type": "execute_result",
          "data": {
            "text/plain": [
              "dtype('float64')"
            ]
          },
          "metadata": {},
          "execution_count": 8
        }
      ]
    },
    {
      "cell_type": "markdown",
      "metadata": {
        "id": "OWDt1XeMDj8k"
      },
      "source": [
        "## Creating ndarrays"
      ]
    },
    {
      "cell_type": "markdown",
      "metadata": {
        "id": "Y5GeKQ9UDspz"
      },
      "source": [
        "The easiest way to create an array is to use the array function\n",
        "\n",
        "This accepts any sequence-like object (including other arrays) and produces a new NumPy array con taining the passed data\n",
        "\n",
        "For example, a list is a good candidate for conversion:"
      ]
    },
    {
      "cell_type": "code",
      "metadata": {
        "colab": {
          "base_uri": "https://localhost:8080/"
        },
        "id": "-MoAL8eIDp85",
        "outputId": "80406bcc-a8ec-4ff2-c8aa-187febf75899"
      },
      "source": [
        "data1 = [6, 7.5, 8, 0, 1]\n",
        "arr1 = np.array(data1)\n",
        "arr1"
      ],
      "execution_count": 9,
      "outputs": [
        {
          "output_type": "execute_result",
          "data": {
            "text/plain": [
              "array([6. , 7.5, 8. , 0. , 1. ])"
            ]
          },
          "metadata": {},
          "execution_count": 9
        }
      ]
    },
    {
      "cell_type": "markdown",
      "metadata": {
        "id": "aJAyOqZaD-Gz"
      },
      "source": [
        "Nested sequences, like a list of equal-length lists, will be converted into a multidimen sional array:"
      ]
    },
    {
      "cell_type": "code",
      "metadata": {
        "colab": {
          "base_uri": "https://localhost:8080/"
        },
        "id": "6DOgpSDtD7J1",
        "outputId": "bdbcf318-7900-4e83-f605-0f29e817de23"
      },
      "source": [
        "data2 = [[1, 2, 3, 4], [5, 6, 7, 8]]\n",
        "arr2 = np.array(data2)\n",
        "arr2"
      ],
      "execution_count": 10,
      "outputs": [
        {
          "output_type": "execute_result",
          "data": {
            "text/plain": [
              "array([[1, 2, 3, 4],\n",
              "       [5, 6, 7, 8]])"
            ]
          },
          "metadata": {},
          "execution_count": 10
        }
      ]
    },
    {
      "cell_type": "markdown",
      "metadata": {
        "id": "k0KvUSBxEHMJ"
      },
      "source": [
        "Since data2 was a list of lists, the NumPy array arr2 has two dimensions with shape inferred from the data\n",
        "\n",
        "We can confirm this by inspecting the ndim and shape attributes:"
      ]
    },
    {
      "cell_type": "code",
      "metadata": {
        "colab": {
          "base_uri": "https://localhost:8080/"
        },
        "id": "LAfpLnoPEKAI",
        "outputId": "3002aa1d-624c-438c-a936-8d30717aa3a5"
      },
      "source": [
        "arr2.ndim"
      ],
      "execution_count": 11,
      "outputs": [
        {
          "output_type": "execute_result",
          "data": {
            "text/plain": [
              "2"
            ]
          },
          "metadata": {},
          "execution_count": 11
        }
      ]
    },
    {
      "cell_type": "code",
      "metadata": {
        "colab": {
          "base_uri": "https://localhost:8080/"
        },
        "id": "4KfX3CnUEbhT",
        "outputId": "d296aa1e-f402-4e3c-9d86-9bdb55d5ad4a"
      },
      "source": [
        "arr2.shape"
      ],
      "execution_count": 12,
      "outputs": [
        {
          "output_type": "execute_result",
          "data": {
            "text/plain": [
              "(2, 4)"
            ]
          },
          "metadata": {},
          "execution_count": 12
        }
      ]
    },
    {
      "cell_type": "markdown",
      "metadata": {
        "id": "g02IrEwSEdKw"
      },
      "source": [
        "Unless explicitly specified (more on this later), np.array tries to infer a good data type for the array that it creates\n",
        "\n",
        "The data type is stored in a special dtype metadata object; for example, in the previous two examples we have:"
      ]
    },
    {
      "cell_type": "code",
      "metadata": {
        "colab": {
          "base_uri": "https://localhost:8080/"
        },
        "id": "qvsWMuJcEnDF",
        "outputId": "6ca838c7-7271-4174-8db3-b44c4d6b0a41"
      },
      "source": [
        "arr1.dtype"
      ],
      "execution_count": 13,
      "outputs": [
        {
          "output_type": "execute_result",
          "data": {
            "text/plain": [
              "dtype('float64')"
            ]
          },
          "metadata": {},
          "execution_count": 13
        }
      ]
    },
    {
      "cell_type": "code",
      "metadata": {
        "colab": {
          "base_uri": "https://localhost:8080/"
        },
        "id": "jacvd8RzEoeU",
        "outputId": "7e3ce652-689c-46ee-9e93-6b2438890b1b"
      },
      "source": [
        "arr2.dtype"
      ],
      "execution_count": 14,
      "outputs": [
        {
          "output_type": "execute_result",
          "data": {
            "text/plain": [
              "dtype('int64')"
            ]
          },
          "metadata": {},
          "execution_count": 14
        }
      ]
    },
    {
      "cell_type": "markdown",
      "metadata": {
        "id": "i1Qr9BU0EqEf"
      },
      "source": [
        "zeros and ones create arrays of 0s or 1s, respectively, with a given length or shape. empty creates an array without initializing its values to any particular value"
      ]
    },
    {
      "cell_type": "code",
      "metadata": {
        "colab": {
          "base_uri": "https://localhost:8080/"
        },
        "id": "pSoeJC-0Ez4D",
        "outputId": "41b780e7-671d-4d7b-95f8-cd3447583b02"
      },
      "source": [
        "np.zeros(10)"
      ],
      "execution_count": 15,
      "outputs": [
        {
          "output_type": "execute_result",
          "data": {
            "text/plain": [
              "array([0., 0., 0., 0., 0., 0., 0., 0., 0., 0.])"
            ]
          },
          "metadata": {},
          "execution_count": 15
        }
      ]
    },
    {
      "cell_type": "code",
      "metadata": {
        "colab": {
          "base_uri": "https://localhost:8080/"
        },
        "id": "QDAguzYbE3ID",
        "outputId": "88c69617-fd22-4cfb-b0d1-238be1cf388e"
      },
      "source": [
        "np.zeros((3, 6))"
      ],
      "execution_count": 16,
      "outputs": [
        {
          "output_type": "execute_result",
          "data": {
            "text/plain": [
              "array([[0., 0., 0., 0., 0., 0.],\n",
              "       [0., 0., 0., 0., 0., 0.],\n",
              "       [0., 0., 0., 0., 0., 0.]])"
            ]
          },
          "metadata": {},
          "execution_count": 16
        }
      ]
    },
    {
      "cell_type": "markdown",
      "metadata": {
        "id": "910KmbuxFTPv"
      },
      "source": [
        "It’s not safe to assume that np.empty will return an array of all zeros. In some cases, it may return uninitialized “garbage” values"
      ]
    },
    {
      "cell_type": "code",
      "metadata": {
        "colab": {
          "base_uri": "https://localhost:8080/"
        },
        "id": "jSMKZenhE5nC",
        "outputId": "bc5eb8fa-41a2-40bd-c161-7b8994315f7f"
      },
      "source": [
        "np.empty((2, 3, 2))"
      ],
      "execution_count": 17,
      "outputs": [
        {
          "output_type": "execute_result",
          "data": {
            "text/plain": [
              "array([[[4.66209781e-310, 0.00000000e+000],\n",
              "        [0.00000000e+000, 0.00000000e+000],\n",
              "        [0.00000000e+000, 0.00000000e+000]],\n",
              "\n",
              "       [[0.00000000e+000, 0.00000000e+000],\n",
              "        [0.00000000e+000, 0.00000000e+000],\n",
              "        [0.00000000e+000, 0.00000000e+000]]])"
            ]
          },
          "metadata": {},
          "execution_count": 17
        }
      ]
    },
    {
      "cell_type": "markdown",
      "metadata": {
        "id": "fLju0sLSFY1C"
      },
      "source": [
        "arange is an array-valued version of the built-in Python range function:"
      ]
    },
    {
      "cell_type": "code",
      "metadata": {
        "colab": {
          "base_uri": "https://localhost:8080/"
        },
        "id": "FlCfiGgsFV9h",
        "outputId": "08ad1b90-bd05-4c77-a810-40b0e1256b92"
      },
      "source": [
        "np.arange(15)"
      ],
      "execution_count": 18,
      "outputs": [
        {
          "output_type": "execute_result",
          "data": {
            "text/plain": [
              "array([ 0,  1,  2,  3,  4,  5,  6,  7,  8,  9, 10, 11, 12, 13, 14])"
            ]
          },
          "metadata": {},
          "execution_count": 18
        }
      ]
    },
    {
      "cell_type": "markdown",
      "metadata": {
        "id": "qTIwOpY7Fj4I"
      },
      "source": [
        "See Table 4-1 for a short list of standard array creation functions. Since NumPy is focused on numerical computing, the data type, if not specified, will in many cases be float64"
      ]
    },
    {
      "cell_type": "markdown",
      "metadata": {
        "id": "OX_45azkFpU-"
      },
      "source": [
        "Table 4-1. Array creation functions\n",
        "<p align='center'>\n",
        "<img src='data:image/png;base64,iVBORw0KGgoAAAANSUhEUgAAAooAAAE8CAYAAABHD5B5AAAgAElEQVR4AeydBXgVR/v2B3ePJyRACAkkwd3d3aG4uxe3QrECxV1L8UJxbYtrlIQkJMSJJxB3+33X7p6EBNJCafu97//tnutKzp6VkWfumbkfmVmB+lEloEpAlYAqAVUCqgRUCagSUCWQhwREHufUU6oEVAmoElAloEpAlYAqAVUCqgRQiaIKAlUCqgRUCagSUCWgSkCVgCqBPCWQTRS9x8/EwaA6jlXqqH+qDFQMqBhQMaBiQMWAigEVA/8yDNiWNCIzPS0XYcwmil4jp2BXvgoOhpbqnyoDFQMqBlQMqBhQMaBiQMXAvwwDz/JXIDMjI2+i6D1mGvbaZjia1FT/VBmoGFAxoGJAxYCKARUDKgb+ZRh4XkiHzEyVKKrA/5cBX1V+VOVPxYCKARUDKgZUDHwaAypRVAmSSpJVDKgYUDGgYkDFgIoBFQN5YkAliiow8gSGqmV9WstSZaTKSMWAigEVAyoG/tcx8IVE0RoHrUrYFNHleWEdzZ8+dnpWfzPpsMbBWPmTGsKhogV2xfWxLWOKg5H135yXCvbcYK+OXSlDbApLbayLTTFD7Mqb4VDRGod/hFxLmDLBppgRdro1Ptm2WbhwMK6Jo3F17EroY1taxUXuNlQxrcpDxYCKARUDKgb+Gga+gChKE7o5TgtOk56ecxFMJgF9LP9GsmiNg4EF9vo1FLJY0QJ7rf6ER6YRf2EtzmYWKln8RwibBCiJJHbE744XSvhqBulhXgSvnoiDVlVZ7n8vWdRgavkNMpO98Rva+g/JokPFGtjrWiikVVIeSncnNCSVhJtbcTZXcaEOin9tUFTlp8pPxYCKARUD7zHwZUSxQjWclvwss8T0EHei7zwh3ukR3u0ssdf/O6yK1jgY1sChbg98N5/Cf8FQ7CpUxs5gEtFAwp09uFhZqkTxHyOKFtgV606wt7RvUiwxt28S5R0vt3f0/jk46imWxb+vI1lhX74WbjueQUYwQZN7YqdTPW+rokQSq7TEY+ZmAvau5qW+MbYVRhKZCklPjuJWxwp7Q9Xa/Pe1zfvBQk1TlYWKARUDKgb+fRj4cqK4+LxMHGK2j+CJqIBNSWPZ+mevXUlxU+rUwNGwOnaljbApYYKDUQ3syxphU7oS9mVNsC1uiG2pStgbWCqEwNgKB92qiruzmAE2Qgv7pTflPCLXDeKJ0MVeyxj7el1wsqiFva5kabTCXqsytiUMsSlRUSYXkqXLQdcUmxJG2Jatgl0pI2yKG2JXwRzZTfmPkav/JfBIRLEbwZ6pEG3H66YmPKs6nqhkIPwxnu0bYK9viYO+maa9DLEtV1W28DmaWOGgXRnb4gbYFNe0iRQ+YFQd+3JSuxtgU8pE3nbJtqQhtmVNsStdEVsJE1r1cW7bDns9U+zLmyhtWkHTviVNFAKoXZGndRaRBKQ+28uLfKWxLWuEXZ3OOFnVxk67umKBlsqQhQvpnIQLvaryOTnPLFyUr6biQu0TeSslqlxUuagYUDGgYoC/TBRj907kefFK2OtbYK9bD4/Z50mM9SN4ZAtsLDoTeM2DDN9rOOnXwfsnF5Iubcd982niXvsQ9+thXGvWxV6/OvZlzXDoOo/Q+y6kBngQee8BCSESM4GMhFjSXp7BuebXRIUGEnVkJS/NqmFXzhSXGQeIdvMhyfUp3v2bYVvEENvBm0j0cCNk/SLeXHcgxdeDoAUDsStdVSUFnwX6HEQx1gnvbjWxzWeI+7VI4B2Bo/thV9oQh4bTCHnkRmqIL+Hb5+BYoSL2xc1wnLSb+DfhpPo7ETilD/Y6ptiatOD15gvE+YaQ9PRn3CdPJfypD9E75uF97ilvv1uI595bpLg+wa93B1wWnyPR/QE+U7/lnfNrEp79hHNFHWyajiHc4a2Mi8zURNIjnfDvsIJ3/v5En1yPi4U5dmWNcZ60hygXb5Je2eA7og22hQ2x67uKeHcvwjZ8jd9lO5J9PQj5djS2JU1VXHwWLv6XlCG1LqplSMWAigEVA5+Dgb9MFONPLuWFdWtcW7TDQas2nqtt5Un87YxWPKvek1AP6acrztq18XuaKF8jMZAE7xj5OPX+KuxKVcF5+C6Uq1HE2zwm9MejBD8JlO9Jdrch/MfVOFp8i0Qdk+/v5qWRHk4zb5IJpLg6ESf5pAnEr4c1z4YdlM9DCsk+b0iTbiKEgKGNsZMsneqk+AkZfEgUa8uLRZwWPJLbI2L+V9hp9UGijbz14J1tgHJ+UR/sBm5HCl1N9XzCu6e/4t+7E3Z6TfB/ECffk+rnRfStQ7h+NZ2Yt5CZKLVoJlHbl+J1wxeIIWh4V1y+fyLfT1o8SQER8nGa3W4cLTvhc8Jejp1Mf+tN5K2jvGq0RsZOqt1RXCvr4zDijNz+qa9fEhcuuc+jCBhQm2f9t8plgzSS/d+QmiolG0fgmKYqLtQ+8Yk+oU4o6ripYkDFwL8TA19OFBed05AxZT6HZF7rmuGx/Kl8PmJqS55Z9CDURaINL3DSqoXvQynOLY6AbrWxqTGZaIkZRvyMrXYdfG+8U0jCqPY8zaeDbX5dHJZdkxN/t2YwT0VZbPSXykQx6betOJWtg7+7FELngGdjU54NPi7fG71xEjaDdshlSH64B8eCxrgcdZPoJOFLhmBbwVydED5JCvIgiiUNcJ57X2mPWYNwmHsLSCJ4bEseiJ5y7GjS5T28/vaC0v7LO/JUlMO2jBGOLbcoruInB3ihVxGbgjo8bzebmDApuUhC5gzEXrc+HhckoviWwKGdcdn4QM4rausInpXtRsirJEh7jU8rI57UXCCnl/xgN04FivGs9EwSpBZ+up+XOjXxeRYHqe74tLHgaY+9cjqx++dg03s9Em1MdTyGUxEjXu6wka+9XTMC2/IqLtRJ4N85Cajtrra7igEVA3+EgS8niovPyZNs4u19eH41Fd9pE3HSqsnrlX9AFB9JzNCb11WtsGv4FW9DJWPPJeyMexAumadCruBsaom99B7F8ma8WHNbziPy+7HYljbE1miZQhR/3cQLvWFEZkL6q595VdOQ54ZLSQESL63BcdJOmazEn16Bg9DlxdZnSFak8OXDVELwSZIodZg8iGJxPZzX2MuEO3TECDzOesmWwCQXG6Kv2CkEzOFHXEesIE7SDZL8Cf12Cg7ldXmxVnoujfC5w3HQMlNiBTvNkS2KhF3Dqag2tsVq8fqifw6i+FBu+/AlnXkurHj9s59MKgNHN+ZpAwUHyU8P4VJBl+cV5sgWxZQnu3E2GsjbSMh4cxv3uoY805mrXLuzjRfjNsjlTLq2XsHF2l/lPN5tGINtuWqqAvFZ2FAH1D8aUNVrKj5UDKgY+F/DwF8gispiltjd43hW2Ag77arYadfD85tnikVpcnOemXcj5KVkw9FYFDVE0dPcGvtGw3knWZQiL2JvMpB30uoEnzM4VbVUXjiekyhu/pAobuSF0Xgk53Way1leWRpgU36BQiJvbuDF9N1yGRLOfIOD0Mdpu2Q5SiN82VcqUfwsMvAhUayJTf6sGMUQ/Hv05/XVICl6lCTvV8S4uhLr6sLbUxt4WdkEhwHriZPjCFIJn9cNpx0u0lp1QiYPxl5aPCItKpGIomREDviZF0WMsCtVJ2+iuLQrz0V13M96yyuwgye24GkDxbKc/EQiijq5iKJTpZFEJkK673XcaxrwrJRibUx9tBunKd8pRPH6BhyEAU4b7miI4miVKH4WLtQJ4H9tAlDro2JaxYCKgU9h4K8Txf1TsClrhqOxJfY69Xi97JFM0iIXtOVJ5b6ESYYnHBXXs0wUfchNFC9jZ9CMIMk7jB/eHZrwXFotW6LSe4vixlE8L6SNraHGovjb9ziVa0eIFLoWcg+PuoY87bBbnvRjd83GdojielaJ4pd2gBxEMcYezxamPK80SSbmBN/FvXYNnPe7KqECE9rzVBTnmRQaUMwEB/1q2BYsg23dOURLlkXHjTh+pYQpJJxbg6OOsbzi3ab9bIUoBl7AqejvE8W33/bmacHWvLGJhgwffLuY8azxClkpSHl6EOcyZXhWdrZiNXy6D2edVgR4ZkCUHV5NjXnSfKMcl5hwfAl2fddpiOJ3KlFUiaFqQVYxoGJAxYCKgc/AwN9IFK2w17bGbcpJpDUCGd6/EvzDE3liBoffJ4rR17AtXQ33NfeVBQqvfyNo/Sa8urTFbsIpmfyluN7lzYRe2Jks0cQobsdZ1xi3gxILTSXy0Dbe3JbcllEEDW/B88F7VYviZzT+72sRElHsTvDrZEgN5u2RI0S4SotRMojYMA5HLUPsWm6QXf3pHvcIXPkNfivW49m5FU4D5hK4dj1+G44rcYRXFmBvPJiIKKkpo3h35BABS2bh1Hc60RLR/z2i+J0SD5nm/ZSQ47/ImEp3OcZLQwNsKs0gRlqgFONFxObp2Jss0MQoHsTFyJiXGx1k3EQf34X/FWk1VRKhk9ryvPcmmTQmXVeJ4u+3/ZcqF+pzqkxVDKgYUDHwv4iBLyeKa5T4rsQzcxSLoom0SbYF9rWGEChZfyRaEeBOtLtEMAJ5qVcP/1fS2Ri8LWtj33y8vAACnmJXrjL2lbvic8pRJnjSXZFbZ2BXpjNBXpLrGtKdt+Fovlqe6NNfHMXVzAS7ar14YyP5L5XPu53TcSyrj82Us/KJlNubcBQGOB/1lH9HSrFo6qKFz9CgqmNXvCuBEvfO/gQTuGQEjkYW2BvWwL68Fa/WXpfJoHJLBmELRuKy5KrmbS6Q5n0dj3aNsatQDefB64mSyaIUSGqD++xFyOugU+9oLIr18LovLUmBkHE9shezJPq90ZTAD68u9bHXMce+TC3cDkhxj9LnJa4NN8gKRIbnT7jVqIStcQfePJJXysh3RP2wAMdy+tiMOSz/Tn+2S7YoOu9WCGXM7kmq6/kvKRbq5PC/ODmodVJxrWJAxYCEgS8jitIGylqVsSmmj628YbHmTRjSeUNzZZPtInrYlDRC2lTZppgx9vLm29JxRWWxioE5tiX0sSlRCYeKVjhIBKSsMTZF9bApaoCdVjX5nPy+4SKa9zsbVMW2iF72u54lYipv6F1UH5tiBthmvYtYp4pSNmkTaGkj7/JSulKaFvJmzCr4PwV+6f3ayruen0vtKMm3uJGmTaxxlN+/bYl9hUrYFtd/f13bHHt5s23lnLyhuvwKRmkzdVNsSxgo7Sttnq0lbX6tj03JSpr3eVsqG7JLmCpSg1e7pAVIEDavDU+lDd2LV8ReT/M6RynMQW5TPWxKGMsbdNsW1cO2dBXl9YIf4kLCgZG1shG7lH5Zad9EKxwqmMi4kFbCS++OVnHxKVyo11WMqBhQMaBi4N+GgS8gihJIJCLx/i+X0HKcz3nPp44V8vE+zU/d/7vXpTdw5CzDH5VVtaL8ATnKuy2y2zqnjD9x/CFecrWP9KzcDln5SYSxZjZRjFjWE9vyCsGXnlPyz7o37+88saTi4g/aWh34s3GtjgkqTlQMqBhQMZALA19IFNWJRZ1Y/ikMWGFftjbux6RNMiFyfT+ZKKry/qfkraarYkvFgIoBFQMqBn4fAypRVDWHXJrDf76zWMuhCI6m9XGq3ogXVaTfWZbE3wfyf77catnUNlAxoGJAxYCKgf89DKhEUSWK/2VEUepkEjmU9tOsoZJEFZ//hfj835sI1MldbVMVAyoGfg8DKlFUJ2J1IlYxoGJAxYCKARUDKgZUDOSJgT8kil4jJmNbxgR7fQv1T5WBigEVAyoGVAyoGFAxoGLgX4aBZ6IcmRkZ8rqBrH8i68B//gpe1muDa7PO6p8qAxUDKgZUDKgYUDGgYkDFwL8MAy/MG5KZLr1q7f0nmyi+P6UeqRJQJaBKQJWAKgFVAqoEVAmoEgCVKKooUCWgSkCVgCoBVQKqBFQJqBLIUwIqUcxTLOpJVQKqBFQJqBJQJaBKQJWAKgGVKKoYyCGBdILdnnH14jku33YkMneYQo77/hOHKfi/sMPe+/37vv//lyKDoGe/8Jt9WPY7rv/OMiQEumPn7Ecmqbg/uou9u1LXcA9bnrqGyu8+/zvz+9NpxQdw89YDApTXdP/px/9nH0gO5/4vd/CI+q/qMP+D4s4gxM2Zlx7/yTHgy8Qa4WnHreevSMq9RuDLEvubnkqLeMWvjz1JyiO9OD87bv3iTmIe1/7sqczUdzjcfYhbYPyffRRI4PWz57wM/vSzmQmh2Ny6xKWrL4jJ/IKsUt7h9Ow5/tGpX/DwX38k1O0R92x8SP7rSf3tKahE8W8X6f/dBB/vmUbtStWo3agezVrNxe7vGCW+RBwJ8R93ljRfltQ3o+qkn74kxc96Jj7+UwNEDHuqCUTDH/nUsJWSnPJZeb6/KYq9MwbQb+U1IJjRWgVoNO66fPnI4EqU67yLiPc3f3SUkppC5mcMjhlpSaR96WT1YhNClGGj05cm8FGx/0+fiI/TDOl+ZykqBBNux/yfrs8/UXgJl38fWjJ5vm8OrQd9i9/vdtUM4pPT/omq/IU0Mzk/sz7CYjie/6kxNY/SBx7pgyg2ipfZDZRIrGbYsl1RDyHG4JrHc3/2VErwNZrnK8/QbY5/9lFIdGSkljYtN9v88bOpAeyc0hPTSjXo0nMdr75AZ0v1/4mGZXVZfDPoj/P6h64eG6pL4ZoL8cmCb0Y8SV9Qj3+ieCpR/Cek+n8wzVTH7ylVoDKLf3pJUnoqCTFxZOH1/2d1Aq58Q7Uaiwj/KNN03vn74hMW99GVv3wiw5nh9axY9uxTprIkfmhYiNLtf/oDTTudx1tGU3virj8lv2S/i/Rv2Y1z3tKoHcLUqlp0mPWLnEZ8qA+egdG/M+HGcGDaQEat/+2TYrj57Vf0mvIj0Z+883ducN2FECbsdPud6/+a0285MroFzb5/qtQ48DL6Bcsw58F/EQv4j7dFHIemD2Tkul//3pJEPWNAk75sffjxCEGCOwt79+Lrn7z+3jz/htSuL2mHaDQZ3/8ic1FGbDAunqHKuOJ9lhbmPbmlGRxefNcGUWgGf4ck08J/oWv5Kkw48CUDRwphXl68ifxjwUXbbMesTG222ErqdMbvjJWfaMiMeN54evE24T/Dzn6aaIFui9WESK+zvbWchq0W8/o/U5SPBKUSxY9E8m88EcPOJqXRH3kzz8qnRgXx8uUrAiKzJsJMosPCiYxLIibEF1cPP6I1/TgmyJc3YVmEK50wb09C4zRoT3rLaxc3/MOz7HHpvAsN5W10DCE+Hrh7O3FyQgOE6MSvwUGExuY0G6TzLiyYUFnlzSQyNJzohGSiAr1x83yTrQlnJscQEhRBUvw7PF95EBr7nu7GBPvyJiQO2fCWFouXtz9xqRnE2O6goBAMOPiMkLcxyvVckkghxM+XkEQ/DjYsTJkO5xR3TVIM/q/deOnmSbBGAJnvXFnctQqi8WTsX/khZZ+e8A7fV664uHv/7iDkvHccDVpu0RDkIA1R/FV2NyeEBxL6NstBlEKgpxvOr7yJSoN4nzsMstSi1rCtOLqFkVNiOauQEevDvFYVMGi1gHsvgkkmnbdv/AmNUhouLTYML/8QJINCenwEb4JjSIgOxd3Nm+gs42geRDE22BuXV95EJmebJXJmm+s4JTYCbw83nF96Epnlg0uLxdcnjLjYMNy9AohLiMLPL4LYqCBcvQJly3JCRCCv3Vx4+TqABLnxUgj2f0NEvAZXaXH4eQWSBbNcmeb4kZn4Fq9XbngERGafTYsOxTc0hphQPzz9w0n7yCqbSMBrN155B2e76JJ8f6FbxYKUGnOAsHdxZPhdwahweeb8Fkp8kBev/d/mnqgy4/FxdcErMEpzPpN3wQGER0fx5tUrgmI/nA1SCPX1wNnZg7D4HPgN8ublKz9icjVyOu/eePLKJ5zE+HcEhUhWzXR5cg3UYD8jPhRPnzC5bZWKJxHw+hUe/hHZykzSuwgiohNJiQzE1c1T08+yxQTJUfi6ueLhHaax9mcQ5u2Om1cwiXk0fZzPXQZbaVFz2DacPF7j/tqPiCwgZSYR7OtLVGqmnN+byCTiIvx59fqNpn2z8k0n2NONVz6hJGe3SxKXxnSiycIrWTdlfwc9PUh9LW06rThPUECMpm4Zsnxc3H2Iep9I9jPSQUpcDlxmVUbGZSRp6bH4ebzCMzAq1zPKj0wSIsKIiEshKcIf11deudpLIiwSrnz9gjm3uD2iyRT8pL6UkUCwz2tcnF3xj8gxFvr5Ex4fS6CHFyExKSS8DSTwbQxhvp74RCRCUhS+r1/h/PI1YZq2jQ97g1doliU7jYgAf4Ky5JyrxApOXF75Z8s4LTacgKBYMknm5bHxshK45b4/MSnJOG5qjygyA6f4OPzcPQnJDToSI/xxcfUkIotUpScSEhxKTOxbvFxe8zYHr5OIYrcKZkzdb09EkC/eb95pwmiSefPai7dZ40tKND4+QWQlKRc/M5Ww4CDeJWXKcgsKe0dqahw+bm54B0Rq0knkxupBFC7RmG2/2ROqGSqT3gXi6uJBuDJoAKmE+vjzLjYSbzdfIhPjCfMLJComAo+X/sQlJxD6JkQesyGZUN8QElMk8vgKj4C3uUN/UqLw8fAkOCqGt/4+hEvly/nJTCMm/A0uLi689gnj94fHNN698cYvMo6Tky0xaL2GN8lJXP66HqJCH87bBRL1Lgxv35DsPpAWG4K3fxSZmckE+IaTlJZAgOdr/EJjc5aAzIQI3FxcCYjMmjtyXf5TP1Si+KfE9T96c9JjWokCDLn69qMKxr84yYC2Tahqbo5p07GccZZUznhW96mHlnkvhnZvQdnCRakxbAvBwImB+hSuvUnWiuAxtYRg0k0ppsiNuV3bYmVmgZn1Vxx3lga3YKa3rUZxwxb06NyZDp1bYaVXHCFKYdG6G9/cDHhfnhgnepiVwWCm5JqNYm7HOhjW6sugTo0oU7gEtcfulvOPfbCOKqI03QYNpJZRWfTqjeKajzSzZrK2lqBCw33IEU4vNyJEEdZcu8OcgfURQlDWpC5D15z/iHA83ToC7XKG1OrUmbplBQZdL8iTUNCVjXRqUZdqVY0xqD+ee2HgdmIK5QoLRHEt6jYZyCX/WOx/XEnX2vWwMNGnRpf5PA9/P/lnVfCHKQ1pvOSx5meghijekX9/U0Og1+IISaRzY+kgqlevjplVZ3baeXP163YUyy8oqmVEzVqLeJ2VYK7vTBx3jKF0QUGBUrpUrTaNJ2GODCxZhHbz78l3Om7pjCjTnPux4HWgH0JYM3BgDyoXK0GNgd/jKY2D7rtzWRTjn++iUe2aVDO3oNbwrQR+XK1cpXh+dDZNGtbHQluXqp2X4Sw1i5xmGVp26EnrSZuwub4IIcrTtmNXmk3ZSUBGHGfmdKdhA2t0tfVoN+sKaSmvGGJYmqoLf5HTf/vrcoRozvW85vKsEryzZ0nvZlhbW2JSuR6rf1EsUs5r2yKKm9OhRy/Gf/szucMMIzk5px/WllZUNbOm6zcS9pI5ubKv7GoWFarQeeRqHO2vYKFVihodR9K3hRmigDHjTmucdml+7J42hJrVzKlm0Y0NlyUbTSRTLAQFa7aiVeOeHHDIOcCnc3PDcKxqWGNWuS5f35TsC+BxbgPdGtfHopo13WbvxV8zudr+uJBa2jpUbdiNFlUNqNJ6I0m40UkIqm50lp8NPtwBITryUOYk8VxYMIjaVtaYmTVk4g/28j23Z/WmslFzxg7sjG7polSoPYWHgUomqW/uMbtfa6rqVqR+x/k4JaTjvG8uDa1rYV6tDoM3XCZLNZQTI5MLs9souNSuSqMmTdEuWQLrYSfkkI301wepJgzZ6RnF/SmmiIodGNK3GWWLlqHV9HOatJJ4tHEStWtYY25Wj5E7fs1W4AJPT6JAm2+VrLL/h7BlkCX5haCkYWW69T9KGPDi8CKa16mNuUV1Woz9nlexH7Na2x/mKLjU0cO041KcpGp7SFivyuBxo2lmroPIV4WVH1kx4zk3vB0m1Towrl9btEoWRafx1zhqcOhxcS1NTHSoat2J1uZlEW1mEZABsa/OMqZZY+pVN0HHsCnbbaWG8WF6PkHppl3p3Gosx+z9ONa3AsKwEe3b9mLxRU+Cr6+gRaMGVDcwRK/eZByTU/l1en2E1nhkBMU8oVVpQ/ofeZUtFeUglWfHV9G+di3MjWvQb84FJL+M/bJaCDGJp153mdBcDyHyU9G8I0sPPsVmW2+EMKP3qAHULFeColYTcdFgLtHxCJ2aNcDMwhzr/mtxkxo/6AotDIti1LI9HdtP4Gbgezmnhd+hr2FpLDoOo3+LahQpbMX8M+7AK5oKQaedSl+J+HkiIn837ucMQQ25Q40ShWi1xx18T1PTzJA2I4bTvIoWhYpbs+iiFwRepl75YghRHGPTqky5HkzSy/OMbd8Ea3MLGvWZzxM5TXtaCkGlNl1o3Wo+9+zPUlsILDt0oXmrb3h4ZwtlRCnmP5TmpjvytfbDRtGuliGiQGUWnMgaXSNY36MGFfSq075La3SEoO/lnIWWpqiXbJreH6uaVlSsUIMhG2/kGa5kf3weVuV0qNK0B00rlcGi53oeXdpGY5MiCFGaqtYjObhzjjwmfvdCGWDvzDRD1NtHdPgN9PPr07r/SNpUN6aYdmu2PAmVmzz9zR1mD+qIeY1qVGs9np9e/tHg+AFc8vj52UQx+NEe+jZrRPMWzWncexZ33uTUgqOxuXGMVeOH0L5FC5o3bUHfadt4pTFjx/rZcn73Kvr16ECLFs1o3HQAG8+7Kh0/OYSzq8fQvllTmrVqz9gNlwjVaMzpUS6sGz+Brde9s4ue6n2Fwd2m5QZT9lX14Isk4HuSUkKPdY4521TSfN+wvH1Nqs/4GXjHngEN0B60Szbt7xpjgdDuxnWvGPx/WY1xMUu+t08k7NI0yhoNxUYyPnpup7jozMMkcFrRhmLtt5JIEmeGN0V3zEkgjhV9DRF6g3DSeJRtlndEiKG8kcPt/oYAACAASURBVCryfqyBeDeGNaqC1VLJxZrAmsGmCIP+PAyKxePiInSL1mOfWxrpL7ZjJArSa8MvxMa6MqpaOVrMuSGLZUcbLap1Oqa4XuWJQJctLkD0ZcqJAkz57YPOLj0VeYPqRbQYf+Y1yX5XaF9SoNvlvGxVSQ0PJFjSViMe09usMi03PgcS2TeqLqLLN8TJSmYm0aGhSIa7ZP9LtNUyYeJRKdOcn3TW96jMoNNyrYHcRHFTs/JY9fmZ5LALaAlTDvlIIoghTho3knyY2bwyLedcyLZ45Uz5/XE62/pXwrz3dsKkcmW6MrKiAX1XPZFvcd03GFGlO5L3PfDkMIQwYunP7qSFX8FKFGPChTDwPSATxV0e0iNujDcxYPDZEIi+R1uDeiy/m4c78H0BiHsbRJg0J6bcpabIz4hLERB4mkJCUGfhfeVO160yae/xvV32k28D/OWJLeXhUoRowIXwZB5Ma4BouVm+x3H9YMq3XaZMltlP5T54tK4jujUWyrFLb34YitAfj+QI89k9ACF0WPU4yyrz/rm4hysoKdpx7R0kPt9KyYK1OCPxtvRXjLUqjd7i28rNAdeoUkpQZfxPRKeHcWKYBaLyEjk8wffoZIpXH4cf8HzTcKp0XMJbYllSU1C00UxycUQptaQHNBElmHv3LaRH8U6yzEQ8oI9FE2Ze9IWQ63SwasGGu+8g+Sk9dbUZvOsZackOdC0isOi3n3S8GCgEDXcrhCH8VH9EkYHYZ0Kmwwa0inbjlwQIPj+DfDrjkNTD56slOVRiw5NA4t3P00zbhAH7Xsp9dMfIphi1X45LaAxx8THEup/GsnhDDvtnEP98G6aVe3P5jYZFZIkvyYfZLSrTYvYF+cyTTf0wajwXfyD80lyMq0xCogrPv66LKNiYQy/eEn1/NUVFVXZL+PY8SMX8Tfk5CiJ/W4W20SCeaMaIVPvN5NObSGBWXprv1De36VS5MkP3O8ln0v0v0qR8LZb+Ggyhd+lqWYvhh5RrOR+NextIqIzLe9QWBRgmYT3otKwMNFxwm7j0APZ11UM02fkBxpK5OasTQlhw6FUkUQ5HsCphwsTzAZDhxoS65rRbeIn4KFdmNy2BaDkTWUwpUYQES3iLZ1vbChh1P0EmYazQK4gwmYuzZtw7M9gQodWZ8z7KuJwcGUhQdAak2dKtgKDDUV+SHDZSSLTmkVSh18cwNezCab8c5jwJrkG36GFVm6XXg+DdVZqVtWCXTyLu37dFFJ2Lr1SSu8soKKz5WdFLcN7UVSaKGx+Fk+57HishGHhFKrMf8+ub02n7C0h2YIhVIyb95Aex9+mpJTAYsvsDpQHSwu/SVz8fhgO3EpoQxbnZbSluOQ5P4GAfUywHnJY9IY9WtECr/RFy9cSIxzQ31qfXD94QepU2pQRVx/9Icmoou7+qS/EWS5AokM+JmZQs05af/KW6h7GmTwu6LJQUu3DmNq9Kv00Slt3pIgTGnbehRCE+wFoI6o07obSrx34qChNW2UjM96ls5Kg17gghafGcmliTojXmIzGRmKsTyFegG1cCY/E+Pk0er8b+8kFAT1o8b4IjZI5jt2MEJQx78WvYB5p0sgP9K5Shx8YHJKc4M6SCoFLHDUhUz3lLewpUnMALWQPzZ1jZfHQ5KLVULJssS9L0YADE3sVaW6A79AeiknzZ1r0a+VptkaF9Zlp3qg+Rwp/i2Tm8La2nnvmDcKmcvSHv488migE3NjNt+WYOH9zBnN6WiLJ90SjlMvgky5FZp/F8u3Unu7d/x9odJ/DWtPj5hc0Rparz1axV7D2wm/XL13PyrqdCFGP8OLF1GWu272P/pq+po6NL4+mnFLCl+jOvtQnlhh3MLv2rXYMQojMfTrXZN6gHf14CHofJL/TY6JTbfJ7ud4H65axZfkchUL4nplCg6BC8yGDXiHroDNyhuLMibtGhtCkzTgdC2HkalDdlp2c6IT90J5/1btIIYHJVY7rsVyYun6MjEdpTSSCRpd0sMZ54PLvMdqukgfcrubNkn5QOchHFeFb2scZo9CH5lnT/8zQvasHim1FkvtiKnqjBVmfZfMLt5R3RabZYXgiyu532B0RRh82SMpt4nTIiP9MefBz/GHltIkL0w04WTTJHGxSidIfcMYqZYc8ZX6ssYqxEfuHw2LqIzqs/cgPHe16hm6khnVd+GLcVykSd/Mx4oJQ5L6Jo2fs8mSlPaSqKM/SoxlolZZYRyJzmlWg570q2xUUuRB7/dg+shFnvXfLASroLI36HKPofG46o2J+nGiV0Yxs96gy/SrLnYZlM7JEmcrftFBFN+EXmByFstDTE4puHeeSax6m4x/TIJ2i9zBFCTlFY6LJBGselj+MGhKiONC98+Il/sp2ioiBzbFLIeLAUUXCgPHAfHtKZDgs+dkW+fz6SJYaC2itslVNxVzEQJVj3OgX/fZLlZLRMWt7fLx2lcHukOaLpNo3LyYNRJQWNT0oxUH6Mty6FztK7yiOBlzEoWJpZDxWy5HVwMEIMwZs09vZvgtmEU/J9bx9+h4Fhb+4khLLYSos2k29+hBFpMutXrgBt197NdnUFXl+JfuUe3JIYXbofE5o3pM8WJ5Ier6ZE+TZck0z5wKEhJlTutvt3iOJgJPvis+n1EO12KTqY70mKCWsuxoDjqj6IimNkeZLmzegmplgvuw9xv9C6QhW+vpKlxIDr9iEIs6nK4qq3D2isX4d51z6gbZlBzGtZieZzLstli3q8CQvT9khOiwer2lC59xm5fg9nW1HYaL3GA/GGUaUFbY6+xPn7PgjLRYp8gm9QtXhNNthoLK9+xykqeiKpZbk+YXfpXKkSXx1WxhnPoxMoptMXO5lnxXKgjyWFBu3N9UiuH3GP6VVA0GKJPYSepojQycblyw2tEYVnyuTm/TPJ3JzaBmE2SyE3CU50r2FMy+3O4HUIy9LW7Hyp2FqvL22HaDzlgxjFd+wdXYMy1ksIk4hiBUGFJe8VpBMDTNCrv0cm8u/zlMYrB6boCcxGSvhzoF0hXZa8SOPdxbmYtJqK7wd8JPjCPAwq9eOhvBouhEnWBgz9wQWn7R0QRebIRDH18UoKCCsua6IyXnzXVo5RVLqhHzNLCCp95wrBpzHJ35Cj0hhAFAfbW6I/9TIkP6BTWVOm/pBldXtfYtn1XL4KEw9KqgFyqI9ZiSYc8QXvw6OoVGs6/iSxq1EpWh/8oOPnIooXaVqsOouuKmzWdu0AhOEwpNYOOTuH4qXaclEyI0fdpLWhOcvuKta141NaUrXPYZkodhaC9ockiirJ8TeqiyKMu6p0oDSXvTmI4mOsRCFGX1auef8wDGE0EIf0VC53q0DxAVeVNOJuYygEo279nsUuE/tD4ykv6nHQLafnADLsNlKkcH3OStoTcG6COXotvpUt4e7bO5DfaCKuGqPZyTFWVO13DjLtaZnPnF2S5hlxC7NS5Rh/U8k7/MoMhOiFQ5wPY+rUY9Q+xaNgs/4rKjaame2FUHL7c/8/myjmTtaX3gUFA37SDB4RFzAV5Zj3+OOJVnru1MwmlGq/iveRQblTy/nL+/gkylUfiJ1Gps47hiEKd8dGBn8E27qaU2LYDzkfUY//qgQirmEhSjPncVYMopJgxNOtmIpa7LBX2jX0l+WUEY248S6JPaPqozdgm0zoM0Ku0b60KdNPSKNHOLNb12fMoXsc62JEo2OhkPCI5qZlEMXLo6ejg76RPvr11pFEPEu6WVFlwo+aGmRis1KxKGrmvvc1+4AoruhjTcVRigKR7H2WZsWq5yCK1dnsqGh4Nlv6IMz740oGe9rrfEwUJY0j/hplRD6m3suly8p5O6xtjcg/TTNBxHO0YUFKdzgnT2CpHj8zoEkNdHSNKCsE+SedlZ85OKYOovOq7Jgw/zt76degKuWNKlJUlKLXGsWl/L5yIYwrK5iVLf+PLYo1up+UNcLIX1ZRroCgxvAteEq8MjOA2c1NaDHnUjaxeJ9u7qOdA0ww67VTcb3/IVEcJhPFx5pl1kdGVMKk+w4inA8hRGX2+0Pk5a8pI7nrdfXQ1tbD0FCXrgde5M7wg1+ev+yhR43KGFc1pqgoQOcVjhAqEUV9NmWZURzXI4QlP2ZH0adyf+9UrEwqYWqiixBFmfVYCvx8RJNCVdn2/CUTO3Zn/iVp5Py9j4Psim12MGsSk6wF+Rh23R/PQ33l1Z0Ktcj5fCjf19ZBDMxSYgJYrZOPonMkC+wbJliVRGexZgFRgGYxy32l/3gckIjiUDzSIpgrxavmK4Gerg56+nroW8/GMSWUhZYVaD3pRp5W4MDf1mFdqBhGHVbJVrNXeydSTgjK6Oiio6uDgX4Dll30xUsi9MaDeKYxhB/4I6JYdChuGQkc6WCOEMXQ09NBR18fQ/1O3IsH+5V9ECajFZwnejCysSm1Vj6GF1vQKWTFjpdZY3sCV6Z2IL/Ih46+Ljp6uhjqt2Dbkw+syekBzGlhQvPZFxVSGm3DgNqtWf3Aic1tDOl7SiGW92ZZUshwvcY6GMMyHUHDCWc5NrkdQhRET18XbT09DPXa8IOrZnzylwhuD57lbC6pK4TcoVMlE4YeUhZN3F3QFWEyTrMgI5ErIxsjzL7+aEcFr9/20rNGFUxMJVzmp+NSBw1R1OU7DaQd17VCFJn1MVGc0gZhPkuZ26Id6FbdmFY7X5JyazHFijTnpI9i3buqWczyJgPSg5+wvH9j9I2rYFAqP4aNVhIuEcXyggrLNcoMcLy/Cbr1d8vEQapqiM2PDKxdDePKxpQWglojFPyd61QO09UPubVkFF3H/5gdd5olHpvt3WWrVwUJP9ra6Ju1Z/01Txy3SnGIClFMebiCAsKSi5rooxcblMUsSo/xZmZxQeXNL4l6vpHKhQUltHTQ0dHFyFCPRpseQcI9OpWpypSjChnMylv6zl7Msl9RcBPdj1O/cA2W/xYLfsdoUqMVl5xu0S1fXQ592I0/IIpNilVn4WUlJOnZ6v4Iw+EyUQw6M5vipdpwIRwyXfZSTQgKVdBBV0cLXX1LRsq7SSghGe2OaMaBxF9lojj2qmJf/JgoFmTkJSUvj8NDEcZDeBkbwAptgfY3DkoVo2/lTRTTQ7m4dhIW2tpUNCyNEM04+gFRDDg9GlGhG3clcguclRezKETRbVt78hlN4KXGOPzm/BzMa0/D7s5mCuhMksk9ITeoWrI8E68rjZbwZDWFhTXH7e4zuHIBeb7V1dVBX18PyylbCNGkpeT25/5/NlF8a3uWyT3a0qh+fZq1a4ZOoSL0PqZh/xEXMRNlmH7ro+ldLs3pWU0p0XoxfnnFVKZHcHv7Ivq0aUrdBo1oXF0PYTaUx1kbIQVeoVFhfabcjoS4x3Q0qcm40xqN4M/VVb37dyXgwZiSgpprck/08S5HsSpSi++eKKQr8PJ8iosu2KSlsntkPXQ/JIrHpXbJ5Ni0AfQaPoe+xeuwQ+r48U9ooa9Hr6PSdJxJSnISScnpkBnKwq6WVP5SojjygFwjiShKmuaSLItivhpscVJI38P1PSlef7Lsyt7VRgvzTscV1/PrPbLLcfMniKLXgT6I/GM120Qk8mOjQpTpdEmOKZpStzKNVkiDdTzruldBjD4hlyeLKMrKYMhv9DWzYtB2iWBEMKe5KR2WK7F175sjhq+tSzP6atZkmxdRPJG9Wjna7hhtjCvRcZMU0xjKnC8iii8ZbqhPv9XKyl23/UOyXc+yRdF4AE81BGRPXxNq9DtJrIdiUdznBwm/LSK/aMo9qU+npZCclEhSSm6L9Pv6Sa7y5/Q20GXAVmkiTGdecUGrpVlEUbJma/xtMlGswTFNF894uQf90lZseBwPmfepIAow7b5kpYljT3MDasxbRZ9BQznnldfgklUCX8YUEjTaqvFDpN7FXBRg9vNIfKX2FaNlN3TW3cp3DCc6GCG6ZnkzfJhXXmC8WfK7+zM+D6I4+55iPfI4IHk9huJFNAs6WGI6Q1EgUlKSSZL3u3jLbIvytJ50PU+iKOWf5HOZPrplaLj2CV6np1NSqzu/hCVBeqosa0laAafHIwx6cU8Dm0PDKmssip70F4JGe5VJO+LMQETRIbiSwplOFRFd9smKTppcHklumTxe1hthPFqJcc0iiisegfchzPKZsck2y2KSwm+z2iBMp8sLr9JTUkhKTPg4WD8HUVQMXOFs7tOdIfOXMaxsQw5rCMHdWZYUNvxO4woMZ7aWoOm6u1yZ1hRhvVQmdXI5ExPIhpfrHgoVH/FRPG42UTyoEEX7jYMQhl/hIsMynjNDaiNarc3dzEm29DXQof/3kn0ynQUlBc0XvSeKGz6HKFabmZso7nhJps0G9Is34PBrhdxeX9oB0XiqLLNjI2tRveM62Q3vvKkVJSwXZxPF8ss+IIr1sohiAGMMStBKY8XeZZ4P0yE3ZRL+9vQwRKWZjBk5nGn7c4/hUmWddg8kv9lXPA6RFKxUkpIUy/cLmfz+EVGcrpGxNzMkorjJhQTnreiKBgoBzkwjOSkJaShPD7tJxzKmTDnye0SxKpM07RL38hA1SzZgq308pLsxqm1npsyfRBmjD4m4NGTmdD1fRCKKC7KJYj+E0QdEUSJdUgxsvsqseiDxkXS5jMo2M060F4J2hz8kiorSkidRvKgYwxSiOBjnxDA2GQvKz1NCdoi5jVEeFkWPYzMpb9CN60EZJL/YgYWozQHX3BbF6BtzEaXbcUNDm85NqY6uxqL4IVFM9T1P5waNmDm1M/qjjykYDrpO1ZIVmHJTMcFF3V1MQdGGW77P6W9kzsSDUpiFMt8mJn1gZs7dCz756/OIYshV6lbQo+XEzVy7b4Or/SmaFMlHzx9l+zP8BaL4cPswyus2Ys6O8zi8sOXU4h4UqDrwPVEkllODzSg24DRhzjuoWq0b1z4VNf/Jaqs3fCiBB3PrIHS+wibnfBv1hPZGVRl6UrGN23/bDWExnXgy2D687sdE8UelA7r9OIfqQiDEQORwNoJZZ10KrSkfEKS0YBbkIooZPF3cGiFGyTFpucqYl0UxL6LovB0DYcKaR0qnPDq8DtV67JGte0f7VcS43QHFouAq7Qmox/cSd4i5SGGRjzmKfzlXttiukRd2nJVJUyQrK+dDq8cVooPPYCSM2S5XOZql7Qw1RDGDPcOsED02yum8+20F+qI+Z2Wt0Y8JdU3osOJD1zNsG1ydDtuz/K95E8Wc9s6b41pSuo8ULxrKjEZGtF2clWYytj/Mp+2yU7lCPKXCbO1lgHn/Q4o7L9OLCTWM6CqRAcBlRw+EaQ85RjHgx2EIrTZcl8ucwhSTQrT51gn8JYuiCbsla1/gacqIcmzWDAFyIvK/BB7tn0mrlVJc6/tPhq1kKazIEVlBj2VcfkHrzyCKbtvaIXQmyzF+JFylhMjP9HuKdcv3yEDZUmLVZyXeGmNTrNc1JvWYx02/LDe+VIYM9nXWxniARPAB352y1fLnd+C3p+fvEEVw2dwJUWGeQgKSH1FHFGf6Y4mivWaYeVH0vtU4P4MUi2JuojhYtmRdHdsA0XCVkm/2/whmfYIoSrd6bmiJqLsTf6+jmJaoxz6lM2Wnkuy0E8N8ldnpqhD075qUwrTHblIIZVJRQb21CmEKOdgdUWwIEoXw/L4Touy0D0I7Mni09GOiaC2RknRH+uhr0Wvze5eoFNsoRAc5vezCfHiQ5s/0Rka0XvS+zzvtmUalooLiWl8rLm7g3qyaCP2ZGqufDY1FISY9iiH8zBiE6C2TqQ+Tjv51EcLq64/GiPSg27Q1NGb0SWVyj7izmnJF23JdHgoimN+iOjXmfhCiYC+FOhhyUH4knokFBS0W/zWi2GLbC3h7lWblzFh4UzHLn5xmjWg6myiCGCIEPTYpmtCjpQ0pYfUZRDHiFEIU4Fu5SVNZaywwHXJD8VpEXkRPGm/N23BIoyDnlFnkw7UYFLbmmBTiluOjWEkVoph4V1pEVpNfNaGmTrJFMTdRNNngKociVC+ky+z7OScKSA258QdE8Td6VNCi7xZlH8WQ8zMpa9iFX2UFJ4kTU7tQXLIAjlIUqhxF/NNE8WeJdCU+p7ehEWOOZLslNEm++GtEseJAHFIzuTuuIvnqHVLmkagr8mKWUbezFCkpq3gOjqyJ6LJOzjf+0VpMJKL4gUUR/+NUEtqssVP8y3s7lEe/9VrZguy8sSX5jGco456USmoA83sbIUQh+h/WKLxBN7EoU5D2xxSLqPu2nojyM4nhLTOaVaPuoqw5QVP9v/D1WUQx4aG0qrAax7PDUKKYWFrQ6ehftyjuG1IVvXZrNTEqEHJxAVpmvXkgBe1mfd4cx1BoUdeqAW3GHvpogMi6Tf3+KxLwZnL10hTTa86UJYtYOG8L7pngumckpav3Ysu+dbSybMbsM9JslcL6/tUp1WOj3BbpQZdoVsCACZrYoHT/a7SsIBBDNJqPhHOHbRjkN2XYil0c2rWFAw8kxhDK7LZV0B0pxY8on8iH69EW2gz4Zj9Pc5qg41wYYK2H6de35IDeRV1MqTB4t0yGEl+foI4wYd7Vd2S67KGqEGi1GM6qrwdQrlgV1j5SBmvPUxMQ+fUYOG8l0zqbIgrpsN5B0rSCmFJeUKbxJH589PoD100YS+uUpVTd4SydPZRyhQTl2kkB+r7MrF+Jqr2WcHTPIqwLCcQIxYXutGMsxQqaMmXdCdx9HjPUyoz6IzdwfNNYtKUYmRXvJ8+sev/yTQ9qDTqjCQR/wziD4rSYrCyWWFu3CFU6nyI69DGrvtvG4d3LaFixAdOOSbNGOsdmt6JgxSbM33KPjExvhtaxpMO6B1lJZ38/3NKXAuUsGLn0HNImQecWtkWUr8fctavpaZoPYd4NKXok8PRImYA17DWTZSMbk1+nL79J4+CrbQihrSwAIp1HC1sjKvVi/f6DbFu7HweJv8XY0828Oj12vCcWcgGS7RigX4b6Y9ZzdocSAN56gS0E/SCv7lvjoFlIZbdadm8f8lDIT6bbPgzy6TBizX52zpCUCMGk3zSB4yEn5Qmm9+on2aT4wcr+VLCcjEfueYxYu9001LFixuYdzGhuTL2FinxcpW1AxFCyKHq2sKSDpOcMMTSi6/wtrB3XhjLNl2vGnniujKqPKNuSzT89IcrzMuVFQab8ppBTt91S3GNP5GUT/hdpqV2JDtO/4/CBXey7JtG1CKaaFKHR6MsfB5gnO7JhzloO7l9LBx0tBh6XJrsYDo9uRgWrPuw8eoQte87gFiZNLhGs6VYNLesBrFs5lmKSO7L/bjkw/9d5DRBF6zFr9VL6mhREFBvAE8n1lOnAkIplqDV0OYcO7WLVPmXV+4P5nRFaQ5RYzQQ3BtUyoMpcaTEAPNs2gqJCj97Tl7J5x1mC4vz5tqUJFTtMZ+/h/azfe5Xwj/b/SOT4nDYUrNiYOd/dVCbV12eoVkxgsvr95skP50k7DhSlzYQFTGxjQjGLZcpCNtyZU0ubKj0XsP/QXtbsvalZSJLBkyU9MJ+hxH3maq9UPxZ3q05Byx4cuCBZtkLY0q0B1n0XsufbcZjXHcQl3w+AkeLAQIMy1B29jrM7psr4avG1DQT9KO++sFpaAQTYfdMQISZrFN+sXJO4OrYxwmiSEkcYZUNbEy3qrpOc4kkcmdSSwsbtWL56Fg2knRCaKwT9+NhaaNUYzv5TO+lcRFDKahEhBLOoqKDogiyHeiZHumtTqsY2zdwYzPiKRTHrv4KTe+ZTSghMB1zVWKRjmasl0Gn9DT4aopdVQuU7jO8HNca43jC2HT7EnoOn8EyDF6sbIcRUxWr49iY1SxaixlfruOcVgv2G5ggxQXbrSorRRCG5xZUV8vbr+5DPsB0r9xxi13f7eRSaBmHXaFnIgLEa93LO/FNDfqG7kUCYtGH+8jk0NK5Cj9W3FYVVivi9sAhtUZQ52Ysecjwddp96WqXpJIWNBP1EbWHCrPOK4eLRsm6IcgPl9QoBx6cg8jfmtGY7gEdbR1CxYmPmbz3I/j0H+MVFGpwcaS4ETfdpAk3ib2IiBF9dUBSLVKcdVBDaLJVXTd2nihAMOqeYvt329kOU78YDaRwMPYuJ0GPYqr1smaCMSWNv517M4nHya/S0arFgz48s6ieFe9TlwMvc90iEcmtfC8pV68W3KyejKwQmLb+R8Z9hs558ohRdZu7HWbM12s3lnRGiEeffaAIXg25Ry6ggolQ75i+dTJWSxgw9opDIgCsrMdKxZPzaPRzatY+LT7w+GZqUQ+ofHX4WUZQmxbU9rdEyb0yH7r3p37sZJfJrMe6sxpwQelZm1WOuKP78D3P5YYIVou4svBXPTK7LIY920ta8EhZNO9C7d0+a19BDWI7D7oNtDC6MNpOtGav+Q7um5yr0/+qPBC/OrJ/LoO6dGbLwEN5yTEMCjw4vpUOPoWy8/FKzYCKF2wdXM3fvr/IEkBHtzObpizn5VLNkLjmIg6uW8f3t3OamcJszzPiqBx36T2DnA6lzxnFu2woWHtNsXCzLNZr7B5bQfcgULnrnGNSTgzm4ZhErLkjkKJlLu1Yy//ADuTyp4basn7KMi69SSbHfSsV8Joz7diXDhwxnR64yRHBh/Uy6D57LGbtnHFsyl2uaVzyE2x1nfLfBrDvp8AFRlFY+27F63HCmbb6Gx6PdzPjuuUJMgp+ydHh/Jm/8gZ82L2XmD5p6JPpzevVE+vVbw+s0iHt1hemDB7J49wUOfb+RnZdyLEbRYCniwRbaNxyLrWz9iObE4tl8f1oZ0G6tn8mK3XYkRL5k0+yhdOg5lBXHn2STjJRgOzZNH0L3mRd5G3KZjg0786NrVkxZDrDGeXJo8WjafbVD3kqISFd2fT2GbmPWcOf5DbZs2I5XOvgcG4HQacHK1UsY0msqVz005rqgO4wZu4A7wcrkKSkMt3YtYkinLgycsAmXBEh2PkLThn24qInNypE7EU7nmTN0WZezCgAAIABJREFUJPP3XeL8jqVsPO8L0c+ZNHYuN6V9Q6SP/w2+GrucJ/LSbOWUy/mNDBs0gd1XrrJr+hSOu2vKE3OV6sKQjY5Z1sMYvhvZge4rfskmjkoKyv/Xt3Yypnc/Jn93JXuSCvp1B2PHHlHkkfNmzXGyz23mDenN8Lm7cYnOqreEiResHz+QCQt+IjTMhYWTZ3DGXQkCCnmwj7Ej9pI1GqYHPGbpuD507D2MVeek2KYEzi6bxcYfnbPjWLOzTvJk49QhdOw0iAU7f33vms6M4Nc9S+jQoRsj5u3H5Z3CCNLfOrJpxmgmrj/F6sFmmHXbquzFmfCK72cNY9D0zdg53mDh1D14ZZGIdw5snDGMTh36M3WbEi/rdXEXoxYcUSyNKSEcXruYFeez6HMCThe2M6h3T0bNOoCnnE4gh5aOp1PHPoxbdY4PF3RK9UkJsWPzjCF0nnhSqUfQJSoVs2Kzk6b9JIvinNoUKDeadWvn0XfECp5G5DAQpHizY+4IOnXsy8T1VxSimOnH4o69mHXq46hSKc+4V7f5elgPxmx4rrRxwmt2zf6KPsOXcsM9p9UnW+JEOP+s4HLvJc7vXMZ3P/lAtA2Tx87hxhulzf2vf8fYyaez4wWVp1NxObGJr5aeVrY+SfBn+7IFrL+pMaAk+vLj4jEM+novTx9fZMP2HwmX9KG4V+xeOJ6vZm/n1qX9LPjmZ2KI4dKsscySVrbLn0ye7VnA3G/vZq8Cjve+xZKRI5n5/RmuHFjO0n1OGhynsbxOSVosfpQn7uXkkgL4+fu59OrWhVGrT8hvtgm+uZGxk89k18n3+nZ69hjNvgdveHNnK+MmndRYnsM5NXUs869mBRCm8uTkOoZ27Ez/sWt4FJQK8a5smbGY4481c4CmFtJXeqQL23bu4b7tLeYN7M+07TeJ0OiF0vWw2yvQ1u3JvbwWMcR6smHBPHZKMbDRDqybsoxzL5SYGO+rexjz9SG570bZnGbqtE3YvdOQKBJxurCNQb270W/kam57SWNEIN8PH8vmR8oiF1LcWDZkMkedlIzTA+8xf/RCrshjlycrBk/ksKOSV8ijA4yavwdPjffY7/Y2RvQZz54dKzAUJZhxT3Mhu95x2Jz4lv59Z3D44jm+WbqdB4F5EKBoF3bMHcOwRafwsL/M2vUXiZAhl8D1TdPpMnAZv/kr/eXhygEYNPla3mJJziboBhYV9OizajvLR41g/s7fNIYG6WomQc9PM7lHN3oNns2pJwGfXOyYXfQ8Dj6TKErW1CDuXTrFgYMHOXTgIKduP8df3rtBGhGCuH78Zxyydrr8IKM3jr9x/q5z7o00s+/J4O1rG84eP8rBgwc5fPwsN2y8PnonpteBwRQ3nYzj+zEmOwX1QJVAlgRin2xEV1iyw/2vxWRkpff/7TvelSldu7D8sqLdfmm+Tgfn0rHHxt8lPp+TrrsUuG0yCLscPP1znpPuefT9dLoO2a0smPnch77wPrt17Sla71uNBQoy3j1idLPWHHD+dw4SR76qROUuWz5wK3+hcP+Bx55/N4hydebkwqYUo1ik4qbPWugoFSn+xVHadBrNr8H/x/r3PyDP7CS9DqAn6nDIMwf7yr74334Qw+4hrag56uB7pei/vcg5y/fuFEVEZaRtHv/RT5oLY5vWZtDWrL12JUeYFKNYnim/5UFA/+bCfD5R/Jsz/pzkEt+5c+PkcU7vnE2V/JVZ9qtmGebnPKze86+UQMzDdZQVVdhgl5d6+t8tEpcTC2g/aRNv/8J4HxfsT1hCDqvMF1TZbf8AhHYP7metrfnsNDKJDn7D/2PvrOOqSt4/PhhYgCJSKoIipYiBrZiI3WJ399rdubp261prd3cXdnfT3Y3U+/c651yQctWN3+53vfcPuPeciWc+M+fMZ56YCfrbeVocL/dNQEsUY+GTz4QhMc4fT6+0npzfLPh/IuHatkYUrv8LvmkUn/+Whr07OgUTXRtGSxskp/lcGGKB0JudSvbT3MriawzbJvSg97xLmbX+WaT+ES5FvT9Jx0ICu9TN+v+3Wn1+dgv09R3Y/jyjRu5f3I6wu6xce4g7988zu7EJOarP+ZsXxkEsbVcOXdshPEhrvfY8jkmOvPQ6rgqb/hsh+1cTxYjXR+hV3pQilduy8XrWEdV/Izbqov8HEYh6voe2dXuy7+3/0IvnX4az+6k51OwwnadZW+r+eWmTPVnRsRcTd2ZtfvznBfxnJDgxuxOdx+8n+F9HFJPYM70z3Val+N99xufhqt44Oe9MNX9+vqP+9nUEkni+ZTyNhm38ssn564X8gylCmNesFguUDR7/QTm+s+qwmzhXLIGpWXmaDVqT6mLynaV8e/LIi7Sx7KkK/kmTLfA2XZu2ZHHKhrdpbv3VX//VRPGvbqy6PDUCagT+CwgkE5f5UOb/QsP+u21ISnGQ/O828Z9oWdKnP2F++CcEzlBn4p/ctiVDcf/Rn4modjT6x9qnJor/GPTqitUIqBFQI6BGQI2AGgE1Av9uBNRE8d/dP2rp1AioEVAjoEZAjYAaATUC/xgCaqL4j0GvrliNgBoBNQJqBNQIqBFQI/DvRkBNFP/d/aOWTo2AGgE1AmoE1AioEVAj8I8hoCaK/xj06oplBPyvU8/amp77pd32/VnWrgkt5iuH3WdCKOY+vU3LMe1WFhHNnqexNTRjwtUs7mUq6O+78Hz7CGrXn0jKftdvj82hglEOhM0kZVPeDFXHPFiLqXkHbv3tW8pkqFg6otnzHE1tyvLTwfQbo2dO+e+98nDDUOo0ncG7vwy/+ziIAvQ6opz+8H0tj+LguC40Grw1y77+vrL+aOo4zvWzp0DZxd+8N+G31fSWIYUKUHVlyibc35Yrq1RB56aiU6IOB7I+RiQ1S8itdZTXEejVG8HDoO8J5U5gYV1Tavc4nHo+emqh6i9qBNQIfDcCaqL43ZCpM/ylCPhdopyeHm12SCcShLBz7FCG/Jp5Gw25zujnTGvWkRUPpV32k/G6c4xNl1T7snkcxUgjH0Mv/LNE8d2xhfQauFw5SstrP7a589Nt1SnuPcmaeEQ/20ezFuN4+PfvmZqp2xI9TlJDvyi9d0tEMYlXV09y4l7WcmbK/C+58PLAPHoPW4vbnyCKnvfPcejEC+WYOW5TWgja7ks5IeN7GhrDxaUTGTD3aJoTEr4n/++ljeX1+Z3sffi1/UE/cbKDGaLo7N8litGeD9hz7DKB0d9KwF7TXQgsFkpHEP65T9DJkQhtO3a+TzlFI4vyvA9SWuSm++brvHjnRuTvJM2cO5HpZfNQptVe5VSTOB/OHN7PQ68/sIN85sLVV9QI/HAIqIniD9fl/7IG+1/B3tCQdvKZtt8jmz9jy2iiPeWmksn3BEVz5mf4pZTj3L6nrL8nbfTp4QhjZ57+PcX/+VJDL1O3sBn9D0iHyvvQp0wxmixUznP984X/75TwSwmBafcbKoHvYScEnY59927jf3ODn1FbCOqe+vp2KJe7WyJM5/J722A+WtwMUaYXXt8s9Rt6ZROUWvbnj6CIuzQBUaACuz983iw9oxjh58cjRBNSDo3LeP/3fycxq4I25druUwj7+1UIYcSmb2/s7xevvqtG4AdDQE0Uf7AO/73mXljQFSvd4jSfeEi1gWsYh4f2ps/i9UxrXIv2Y89lMqmF31mPfSED6g/aJB9eH+6ylDq1+nNNnmeTWd+jHr3XuPB89xgcxu7i6MqeWFjVZc451RSgIorOuyVNlgeTu7ek87oUjWIyb08tpnZhI+ybL+D1++u0qOnImns+bJvQECEEIqcOZRuO5s7945jn0WXM9TBcd4yjRtf5eMvKkhC2julFx4XnMzX98uKelC5ogF3bFYTyiR3TRjNuyW6W96tPcft+nH73mXTGvDlO1+olMar1E6/SztUJb1jQrS5F8tgy4ZQHz7cOpWa/5Tw+uwQz3ewIkQP9wkUxLmxEw+4pprAINreuQPfd7wi4vYKqFgORTn9+sm4u43/Zw7mFvdAvXJp+666mnkkMgeye0AJT67YsWTWd9r0m8zztLv3SCdgfTtO1ljX5C1jReuzuTH2VAoDP1dU4FLfCedQ4yhe2ZNSp52zvYi7jmS2vFlbWo5gycQBdZxxRjtWKecf0rl2Ze9ITn/MLaNRhGbtWDKekYSWWXEpztmuiG/M7V8agVDPW3VMRrWRvNvdqT79f76dUn+7/h3PLcTQxpqzjNJ5LWqNPTxhWzwpju1ZsvK2cyfrJ8xIDB45i98lNNLYyw2nCbvxUh89cXN4Xh74rSFEWvT42h2pm5tQesZOUbop9fZAW5voUtevEzntpTzEIYHun+uSWxlG2fORzGs+7sJtUEwLH6UsY4miHecNxPE6j7Q15sJnmpcwp12mhfF5uusYkhfHr+M40m3FEvnxq0QRGzt3P1gltMTKryqzDKpIVfoNBtbqyZe9ampa2pNWMo6rzfD1YWNOeFpuVdOHX5lG+6k889v7A2PbllfGe15gaPX/hQ8ajvJM+MKFFJew7DGFSvcLkMF8gk6S3p5bRtGRRDEvWYNr+x/J5r/5npihliZxo5bVg+ZNYgu/voKu9FQYGlgxef52MxcMb+mhmo+TEjfzcoyYGZXpz+xMkvtxF8xr9OOOlkL43v42mUoefsyCpoRyf14WSFu1YNKsHOY0qs+eD0kN+N1bR0Noc+x7LZS1o8PVVOBYQsow6RewZueYGt478TDUDfUzKNWXZBeUs5bBb63Cs1o1DHyVNYTQbh7eg66wzMvZz7HUo3/Eo0d4nsSmiJZeVJ58ZbVdcT9dl6h9qBNQIfB0BNVH8OkY/RIr7c+qhUXwI5x+cor+pLjVn35Vfvlub2CJEbiacymySjHb5mXy56rDr/i0m16lI9ZHHgFd0NTGm5aJH4L2ZAsKe/QHJfFjdWn5ZO4xez28z2iCENYek2SjkqqxRdN7jCUmvaWtXBOtJCqm7uaoXufWqMnfXcS5cccH/5VH0RW5GXo8F38s4W2ih1+9XAkLCiXc9TjHNAoy+FUucy8/oi2rs9EiGmCe0sa1Mr03P0/Xjx03OCK1unHx8n0OnJXNaDMt6Wciah6Fr9zG/vS2a1j24K5Gx0Cs0s7Fk8PbLnJzigCi3QHVe7St6Wmhj0nouR48e5IpHAhen1kCUG8qrkBiuLW6F0G/AjnveuB8egBB1OSupeZJvUlsUYuqzREJPDEeI6twB7s1pL2NUa9xGjqwaQAFRjDFHJdzj2Te0Lvo2HdlzYjOOmgJRrisZTylM+niGVftv8vb2NuxzaNJgvUQ/038i76zCJLsp/VfvZXGvKgiRj5EnvUh4e5xmVkWoPWobnj5BXFvcnpwlOvA4DpLc9lG1ZGVWvkjA92BPpR/7LeXoqt4IYcbi+5LdN5yFjkUoPXIvt/aMQmg25o5E1CMf0bmcLjoDDqQXhGTuru9PPt1KzNh2lPMXr+Hrc5sO+ka0XnqBG9tGUsikPntcE8H7JE4ScTDvyN5Da6hdqBC1x52Qyzs4sjLZK4/CPRlCL8/GxqA+210uM9k+LxUXvATvA1hqlmbSoTvcvXmVJ25pj/hLJibiIYMNBeatN/DAXxqQD6gqBPnsOrP19EH6W2qiV22Fcn5yyGFKixLMO3Odtc6WFOr4W/o2JQUxrYU1hp3Xydf3ji6HEPnp8vMeds9ogchmyRIJq0/nKSXVUakPuw6tonJ2Qc1Z0gjwYFA2gdFMRasbfKQXQtThkjQGX+/BVkq37Dq+AYHEpTulMYBVToXJXmsyezZNw0JLwmoRUq88P3uCMzeecWvHCIw1zZl/IxCSAtg4uCaidBuO3XlFaGIi7vcvcfzUbV7cWE0pkYc+2zKeevOW/jkFolAdFu7Zx4wG+gibWXgE3aauYTE67pDIWwyb2jpg0WtbelykM8B/aU1Bw9qsPrSDzmYCYerAAU/Adyc2ohRLL1xnaZMimAw8Li15uL7IGSFqsP+tL2GRvtzYf5grj55zakF78uSrxn5viL4wlXyiDGteSC2NZHo9Y0p3U+qeW1GHcs4H5YXOm70jEZomTD/2CK+QP+GjkKlV6gtqBH4MBNRE8cfo56+08gUd8gqa7Q+S0wXt7YLI3R93Etjd3AZRdEoazVZKUSFsbFUW0zFK4EnMqXFolx8iT6h3l/eiZIOeLOhkiemQy3KGV8ubIUQbHsq/PtJXX1BxgyfE3KSioSEyUUx+S8eKxSk38zokPqZNCTPar36UUiF4HcYomzZjbkqzpAeDyuZHf7JSPl7HZdPziGufIPY2DYuWY9SpAPDcT7VyDfjtZXrfxUsjypCj0oY0WrcolnQrQ44m8xQtmvdBqhYoxaxrobzb0g0Tu1kqrc9VSgtbdgeA/9b2iDydSUtBz0ypRc6Kw5G8/gL29UYUbo2LzE3uYi8KMu1+ArxdgWbOdjIWgcdGoCHqIOnbHs5pi8jdlidyi13pVdWcSjOvQfx9WhQrwYCdStDJ5Vl1ELadePA7tsX9DfQQdTaR/jyMaA4OdCBXzVkKph6HqaZtzMCDkk3uHT3LFafFglvyvejHGyhlUo9tbhB6ZirlbbvyKB589vRE6NXjtKzsS2JUiVxUG+dCovuvFBSOKLmDGKRjSJ/zCuZxQQGEZ/Qxi3hIR0tTWi25l9q/XvuGIvK0Q9GnuTKojClVFz+EkLPU0y5Cn22KP+qtBW3IXXYAEoU+Mb4meWtORNJf/tqsGGXHq8bLtWEIkyncvbaEgrmdOJu++1PrlAjG7CICm96XVNfuUVbyUdz4Tv7tuaMTwrgTj5Lg2aTyaDQ6qqRzXYXQaMdn6aUFQDCz2tph0mOjnGbvyMqIaiNVR3w9pJ1+UXquewPxFyglctNnn4ec7t78BuQvNRbvRE9GaQlM5yptCD3eHyEcuSxxm4S7VMopaHQkgxpZKuH1RvIKEzbIp5wmsLuFGcJsXgat3gu6WBan1XwXuc7r85oi7PvyLv0AkVS6TKtpQqVeezJoFRXTs+U4lYnebxtawpi1L3zY3soO0xEnATd616hLvy1pnwipOn8GmeWl4Rxp8QkBB/og9CpzNCSB2z/ZotVepe1//TMiZ0+5/wMODkaIhqpnQc6m/Ak6i0OBkgw9FkjijdkUzGnP+leSRjGKWY1MKd97p5xOJopt9ynP98NfELnM2fj2W/0x09Sn/qpGQI0AaqKoHgTgthttYcCchypj3YO5CFGRUwER7G9mjXBcmRml6Jf0r25GziJladqkITWsdRCiGbIuxPcKrSvrIYQtB1S+98+XNUGI/ioSEMW2KjnJ0+aMPAFWzkAUK8y9DW83YK5ly/K0bMgjhShKcn5kQBkdCk1QTTKeClEcLs+qIaysX4LSM68QeWkeNar043EGopDw7jdKijxU678GV3myjGFRl/IU7rBS1sQQ8YCOViXpsfUBJ4bbIrIXp5ZTYxrXLoUQ2sx/5sWRVqaIFum1JylEUdKveO/qiTBuyVXZ2hnP5Ip6NF76CNe93cnhsFQ27/scTkMUZ7VBmPbijYR23Dt6VTfHduoVcP0Nq7zWLLynMMM7S9ogSnXIkije/W0qrR3KUVRTkMtujYrcqrovwYtxjW0pMWSvcsH7DLVlH0VPyYZIdztTms67ptwLv09bmyoMP+bPo2WdsG22Ti7LfWcPhHFrbihrCjZ3MsOq9Vru7/0JIXSp1KAxTZyqUUAI7DZl1kKrJCHq+Xqs81mx4E5KcEYc54fVRliMQOmqYDbUNUU4b4fIC9TNZ8VoVYCJ+4GR6GrW40IUnJ7oQF6HKYThzWBtQXbzKjg1aUxtGy1E3q48CvrI9PoWaFk5c/BVZoMqhDKjsMC65znVYuiu7KPY4ZBC4jz39EYYtOJeVDBbaxgg9O3k8htUNEYIG46qcJDblYEo7v6pOjqO0/CVhmvMPToYF6XLkhcQdwEboc2gs4rZ3u/IMIShI9f93zJWJwuiKJm+425SMYfA6UBgCoSp/72PSFrperJWGhI429VC9lGU1yfJvhxZMIRKZYqTQ2jRcv4VOd/l2Y0R5XvxGZIwrmyYiGP1MuQTOane77cMEcMKUbRZmhL1fF820Xc86YX7lo6ydjEo6ioNajZm/aMMK5j4a1QSOehzTFIhQtjZcQjdypz092RlWW2EcQUZU8cK+ghRlYvx4Ldf0sA3kBdQcqYEV9aM6oh96aLyOBt0yJcklznfRhTv/ozQLM66F3FyUeo/agTUCHwfAmqi+H14/TdTv96EhjBkUUrUxZNFCFGKfe7BHGhujaizLHO7Q+7TtIwJVr1+4cq5Uxw7foxjpx8qWojYV/SvUUB2Rk9xfVeIYj8Ug1Yse2vmIlftQyQl3KNKRqI47y7cmY9u9nKsf/nZT5BvIYqqYJa36zqQw2ERx9cMw9F5S4ZJT2mO/4MdtDIrQMEmi0kmiWXdymPUfoXiAB/5mC62xemw8Qrb2hRD13ooO0+f5vjRY5y6cpugGE+WlymI6HEwHTZfJopwfkZLKrVdyHrnGtRZLJkawTMjUTTpoZDpuLf0rGaO3fRr8HgZBqIUy54oFOqWZNLOgig+Xd0NHcO2bLt7k18bGZLDdlV6ohj3kcH1LLEcocic7HWGWsZSMEsWRJEwtrevTsVZR9k9tCoNFim6YNftElFsxXUVX9nWozglWi3g3PIuZBe1WX3yHCePHef4iWPc9fzyxBx2fT6FRGmWP0th8NEc7VkNUWqcQtQJ4zdHc0SDdSREX6BePitG7lU0qp5HxqIvqnMyFM5MqkXeWlOJSHhJCyGwGbqO0+dOcvTYcS7deKqQzmQPVnSrTC7dmmx9mtb0LPVA1kSxvbxdE3js7oUwbMPDME/mF8lNzjYLOHPhFMeOHefMGRf80sZjZCKK1dCuNxUfKU3MXdobm9Bl6Uv4pBDFgWdkFSByFHDBKpz1esUYbYHpPCWyOPSERJYcufwVovhhZ1+EcFJp6+M506UkooTkoxjOKueaWDYaw/UHF+lqZ0qj2YoGPpUoyv6Xkewd1Rybat05cPsB0xqaUb7H1vRjBxVRXJLyknhMHSFoc8AffLdhkKM5u0+uoVn9vjzKqPSMOI2FyE3/00p7Q0+PRRSswmnP10zUzU7+Lss4fV7C9BjnLtyVNaEeexWiKC88Y54zoboNlfutwOXaTnlx03e/D0k3ZqOb054NrxUfxdlf0iiqiWK6d5T6hxqB70VATRS/F7H/YvpPt6ihkZte55RJO+rMYESODrwinj1NrLImiskeTK1pQbGRivN4WlgebBxBrcYt6Gqah2rzFA3Ey+VNEaK7HLQBfswsLii29D3E3qJSBqJYfrYLhJ7EQbsY406mCVX0TKtR/EAfW20MpqQ3PQ+/pNIaue2giLDFtn4t+mzN6G+VRlr3PRgJGza/DWd97woUaLNUMdcGnaeBUVmmng/g1tw66FaYK5s3P+dM5uogW4T1zHTbkPweUQy6voz6BsYUE7VZ90iR0+MrRLHM1MsQeJQqWqZMPq8EYtxZ3AJRumN6jWLSQ5oKQcOjig/WubZFyFZ6ZYbJPpT1Xaqi20qlIfY+hYO+CQMkopjwgq5lTGm5UDEeS+303jeS7BWqUr+KPSufKYzo4/buCMOmXFZp0ubV0KfKwIsE3pmJhqjPjUzWvUTCfD7w5GNa1Rsk+J6grrYxIw5/1jq+WdMJodcNRZfnzeSKRTCfcR1Cz1JXqwTD9ihb1jxf14M8tj14K5meJziQt+YkgolmpmUO7CenMwZ/7i7imV3fhkp99iuuBal3QphmICjVRzWOUDSK6YiiQSvuxsdztm0hcrZQAlVSs6f98h1EsZTIx8ATCnF6s6ET+S2H4JbgxYQCAtOZivNBxIn+CA0VUYxxoVx2QeNjGVkYxN79hZyiDIflxzeJ4x1Kks1qEe/fb6RkripskxV5HgyoVBynWYqJ/dLMhgj7fnyUvDj8juGgU4IpsgMtLG5ZHLvuWzKMHRVRnKvaHifyBEWFFjMeSh3uxpiiRShZpg6de+/MYlH2jo7aOWi7VvGZDT35E6JgZY6HhnOwoQ663c6lRVH+7rpbMrs7yaZnn4PDySmaIhvkI11oaFqc3nu9Sb4zH4Mc5fj1jTQ245jjJJmed8n505meb8+TTc+b3qVz7MxUp/qCGgE1AlkjoCaKWePyg12NZmdLU3RbbiYoyYd1TUtQtP0h+eW7vaFl1kSRZJ4v64jI05CznlHEhvnhHiSRFE/GOFak6/rH+B3uh8jdRTYffVzTDiEKMfrwK9wvScEmRVgmcYTQa5+DWVQ+imVnSOaxYOY3sUSn7GBuvPPE1y+YBLdjFM6uwxgXaWLwZVZlPbK1XEFIQhJ4nsREU9oeJ0VD5cE4E4HQqcLOdyqTeppeDXrzAq+oT/hfXECufPU4FxDDrwNsEXnqsvuRJ1dXdEXfrCVn/SDu8UqK5rdi8pGXfIoPx/ODj2ymTHyyjEJCmx7rXfD0cCUwCS5Mry37KGY2PUs2t3v0tJBk6shj1ZZuXyOKpSdJk6gPY2tYU7nfDsKTAlnQxABRvhsP01r4Ep/QSltg+/NdkiMfMMAqB9lsV6vMuJ8b/nrzQDRyVWPPSw8uLu9OLpGXIUckMu7GoOpmlOq7Hp9AlRbX7xR2eQTZCo/mhWqOddstBbMUYuivtwh5s43iohBjz0jm40c00deizpyLhH2Kxvetq1J34gemNK5Jw58V37hUSZL9WdTSGm3bflx+7Ymfvz+hr/dSIacFs10CiXi0GZvClVh4OwL8z9C4kKBQmyV4+j5hTE1ryvX5TY7gPTpO8lEcLwcXPVrWggKGrTnyJoT4KB8++kbxKdSXD95BxIe+oJ9DGRrOvJgaDa3IEsvKavko5LCUZ+ES6bkr+yimJ4rNuR4hxSBNJLsoy9p7fsTHBPDWLTi1OfKXbyWKCZflOux6rsE14CXD7bQpPUAK4khmdzM9stnP4akVRCyMAAAgAElEQVT/GzZ0tEJoNOCKrPV7hnNugeX0y4TGxqRvQ+w9WhfMQcVpl/B9dZimxgJhtQy3D79hLUoy+bwXEU83U1kjF03mKabn+8s7ks3QkYNP/YjwPoNjXgO6rLrPp5AbtNAW2PfZloEovqVvdkH2UkO45OrOxakOCLNhqTsAuEysiBB5GbBTou8ZP8ls7FwK/cpjeejrxpJGBgjjGhzyg+hzEgmsxuZHASRE+/POXSHCaYmi/5Ex5BYV2PExAvfTsykudOi7zxP8D1Mtnz7dVl/H6/k+amYXVB6ouFWkEEV5Ofb2V3SFNiMPPiUsXk0WM/aO+rcaga8hoCaKX0PoR7kf5EI328JkEzqUrDOKR/LkFMRq+wII29lfQMGHPRM6oZdbIPIY02rVTXxOjEYndw0UF69HVBYCpyU3eLy+I0IUp3o1a4TQotrow0qZ3mcoJgT1N32AhOc4mebF6Cdp0oSI16cY7KBs22JsP5L79/aQSwj6nleIjM+xqegKQeFqs3j76gh5haC7ZI9UfU72Nie39Ww56CHlmvI/nsvTWpJHCDQLlKDdLxekaAFW9K1EDqOy1CpZUPY/G7v7kWqboBgurx2GnZ4O2UR2HLpvRtp5EBK5urwvxlI0qNCh6673XJ5YDmHajVcJ4PprC4RGTc6kKEWTA5na3JqCndei6Ofgww6JeNkibdpxc3RtRM4WPJF4bfRzWpbUptBAJVrY79ZWnIrmIYeuAy1rFkNU6Jwp6tntyFQKixyYVnemYw3J92tBOm2nLHKCBxv71pDlbdFrKOXzWdBti+IgcG/zcPJJmFRdodIKuTE2v8BwuMpvEXDd3QchDKlhb4OGtI3MxGOpQRMBLuupZ2FIbqGBVrEuSiCC/xnsjOqy+llm/8DId2cZXsdSjqLWt+nH7chkXPdPpnjubOTRs6P38nOy9i/e4wSNjQpgWdUBIylauMJAzn9QNKc7+lkhrAbwVg74cGPNQEf0tHLJZLbP9lf43ttEAyMtsmnkoozzTG77piCvjATpr++F6ehJW+Q0mkFk9HVMpPG4VQlm+bCxlRyVrlhNEzg0pS2mBfLIY7jyiAzaxUR/Rtc1QrO54qqxsYcFouxw3CUf2IjrOGrkpMnMhxB/mQpCYFa9Cvq5BPkrD8FFpXCNf75Rfh6EUXXGDW+FhqjECZUb54tVnWWsqvbYmLo9UEorwq4vlbHRLduBcX3LIgrNJIJYjkxrQw6RCwfn3pTLX4ia46SgE4h3O0cn8xwIUZKjgcncWT+QQtlyY92wB00sDLFotYr0NPgxziI3jj+NxcEkN0KrPGtVPrNSeeHSnqG5qnHQLZNKWa4v8v0pOpfSRuSxZfDkvpQyNGXdK4m0xbBrbHOK5Jcw1ab+NCU47t1GaQeA8si7pMa7sm5AHblPG3foRBFRkLZyRH8Ue8bWlzEp6dSXrtXKUK7NevmZHV9MULjOVtX4D2BBQyN5zPffnnknAFlA9R81AmoEvoiAmih+ERr1jb8SgRfLmyA0BvNHzrv4Y3J4MtFKhzobFb+2r5cRxaKuFSjSeZ2KHH49x3enCL1Nh/JVGbU7K63Lt5d2b1knDKqN5oNM5r8933enDDxFOQ1zVqgOv5Hyf5B8FIu2424a19HfK/ftzrFU7jInA+n4vRyZ78W6HaGOlg3jjyj0PHOK/7ErYaewFvkZdjklkOd/TP4sxL02qQZ6tTZnYXbOIrH6khoBNQL/UwioieL/VHf97wqrBLP0VQWz/N3tCOfa7JaIgqrAkG+qLlKOejZ0Xp5my5xvyviNiWLYNrQaZlVHIm/79o25lGRJhAf5EijtMZPgxojqRSg7cGcms/J3Ffm1xDHvWNK+IrkaLEmX8oPko2jckmuZg2/TpVN+xHF3+zb2nPxzxFgmivksGblX2Wg5i4r+ty6FSkRRi5Rglv8t4TNKm0TAtYUUE6Ysfa0262ZER/1bjcB/AQE1Ufwv9OL/QBsezq2GEM78+ZNiv95YrwsLKGdShulnv+cAsDBmNCtGtgbzCPsb5rvoC+MQOrVZf/ePaJFiObe0D1amxTAvakX11mO46P7liOKvI/S1FMncXtofM+PW7HudPkr49fqWiBy1OafEYfx+QcnJsh/h7yf6+t2o97uxEwXps+V3gpK+Xsy/J0XQQQpJxwSmCeT59wj3fZIke12gUblS1J6WOajt+0pSp1YjoEbg34qAmij+W3vmPyZXUmwYfv4Rf59ZNw1e0d4fePrO87tJSkx4MIHhiu9bmuL+mq++Dzj/edO67y7zU1QI3p7uuHv4EZXZze67y/v9DMn4u73i9bvMpDYpLgK/wDASsnZF+/1i/+jd5E+EBgQR+elvYPB/VKY/lS+eYN8AIuP/P0H8UwJ/OXO0H3eeviP6P9CULzdSfUeNwI+NgJoo/tj9r269GgE1AmoE1AioEVAjoEbgiwioieIXoVHfUCOgRkCNgBoBNQJqBNQI/NgIqInij93/6tarEVAjoEZAjYAaATUCagS+iICaKH4RGvUNNQJqBNQIqBFQI6BGQI3Aj42Amij+2P2vbr0aATUCagTUCKgRUCOgRuCLCKiJ4hehUd9QI6BGQI2AGgE1AmoE1Aj82AioieKP3f/q1qsRUCOgRkCNgBoBNQJqBL6IgJoofhGaH/FGEgHvHnPp3CkuXHtJuHTm8L/mE4/3y2c89/h8lvO/RrQ/Kkh8OC/u3eW13999Ft/XBQxxe4LL44/E/h1bFSaGce/aVV6H/KsG1NdB+c4UyXFBvHj8FL+olHYmEfjhEedPnuVpgHTgc9afKJ+XXLv3hsiUbFkn+8LVT3g+f8oLr/Qbo38h8V92OTH4PS4P3PjD274nRvHiwV2eeEX8ZTIpBSUT9NSFG08C/l/2bP024RNwe3aXx+8Dv3tv128rX51KjcDfi4CaKP69+P5PlX574ygqlbCgVHlbKlUfwd2/ae/pr4ISE02maTXRlckVLbAYuP+r2f9ogujo+C9mTYqO5g/N418sEZK8z1GjgA5Nlz/4nVT/P7f2DyuDsO7Hy+/lG8lRxHxtA/DgkxQUgkaHvuncvz/V4KTomL+8n75VoMgXv2KnV4L51wLkLD7X1tKoVEksrSow+ULmtifGKTTr9oJ6iIItuJE5yderjn/LKGtTSo85+fW0fyhF1v3rtaklIm8fnv/RhUXwbWoV1qb09Kt/SKovZ4pkW3mBKL3x7z3i8ssCZL6T7MNP9jpYd9vGP78kzCye+ooaga8hoCaKX0PoB7mf8GQFBXOaMXbHAyI/xREZHMaXadPfB4rXqXnYlZ+CMtWmrScev7eveOkZlvbiX/M96Tl9a9gz83ZUFuXFs3tAE5ynuvz12oDAazQtbkqnDU+zqPf/99LxCQ7kqjqK97HfXm/CwxVUqvwTT76WJ/ISJYWg/anMJ718e21fSxnPzv5N6DD95l/fT1+rWnU/+VMwb56/IkBeYCWyso0Ntq3X4peQSEK6VUYA81o1YYzqSMLHK1shSnbl/veSdLneT/i8fskrn79aMwcJj9dSpdIQHmTRv4khbtx76vHHNYphD2hWqhjVF976RnS/Ndkn9tfNi2aNnfxT69zMkgYxub4pVQbt++N4ZS5UfUWNwP8bAmqi+P8G9b+5okjW19bFoPPxLM01SVFBfPzoRmDkZ+oYFRpGVFwCMcG+uHn6pWqVooN8CQhN0QcmE+rjRUiMSu0QH47nRzf8w1MMVklEhIQSERNDiI8nnn7vODRUOhO6KTfDQgmNTju7JhEZHkpYrHItIiSMmPgEogK9cfMKQHUZ4qMJCQonIS4SL3dPQtPYUqOD/QgIVs16STH4+PjLptZPTzegKZ29u+MJYZEx6YhGcuwTeucRWDhv41VYZOrRdbGhvrh+8CAspSlpuzf5E4F+0nGFCQR5uePpH5Ye16RYAnz88Ht3nqYli6cSRemYPk93V1zd/D6bgBOj8PULJ1bqA68gEpI/EeIfRHRMGO7vfYklmZhQf9xdP+LmE6LSpiUT4eeNfyp+CQT6+BL+ufvSSit/Pz7Rgbw1RvPSLwwfLx8iUtImROLpE0icqgsj/X0IjJBUiLHcX9YAodGAA08DiMpKrZgQia9PMHidxlJD0CGVKCYT4uOOq6eCfyZhkuMJDQ3lU+Ingrzd8fQLy6Al/ESgl7uMR4pCS+qnXrkFlu23p+untGUnRAXj6fYRj6AUvU4S4X6euLr5EpNyBJ0ks38UCZ8i8HL3JixOuSEdQentHZo6NuLDA/AKyrCwSIxVxh6QEHSHLiYFqNl7eybXgmjvM9QRAqcJx/FMgkdr2iAsu3HTMwJ/Ly/CYlOEUaSPjwjA7aNnqixp2wRJRISFEi7LGU9waDgJSZ8I8HDH2z88ddx9igwlODyWuIhA3D38UTVLkpRAT29CVR2cEBWEb2AkSXzi0aomCFGHPU8CicygbU+KDSco+DMViwry5v1HdwIjMj8QibEReLt/5KOHL+GfVG1TEcUaC2/LzQkJDiU2NgKvjx6fx2lMCB8/uhMck/IeSCY61B8P149y36dcVfBIItTPj5BEX/bU1SKPw05CicM/OIVAJxMVEoh/eEbWm0xMWAAeblKZgamL46ToUHwjEyA2GA9XT4KyPDczkbCgcOISE+Vx5O4dRErzVD1HqK8P/kGuTHYqQdXB+xRLSVw4vp5ufPjopeo3ICkWP99Q4j6F4+HpS3RiAuF+AUTGRuHrJo3DJOIjg+Tx+9EzAGWIJBISEEBoCj5JcQT6BhL1/3q+ZvrRqP7130RATRT/m/36fa2Ku0kdkY0Ox4My5Yt5vp/OjlUoalqc4jX6c+iFpPaIZFarihiWbkuXJtXIm00Tu56r8AO2tzNEs/xi+TvcpKwQ9DsllfuGiS3rYWlSHHO7bux9EQl4M7SuJdqmtWlarw41alXGQi83QuTFrEp9ppzy+CxP+BOal9TB+CfJxBbK6AYVMK3YgY6OFciTPS8VB2yQ6wy/Np8SogAtOzlTyiAfxpX7cdZNIjbJzLUT6FVah9zKZ78ghCZzT1xgSMuyCCHQMi5N2+l7iUidgfzZ2bsp2kKQPZ8xRdtM40UceF1ZRbNytpQ0MqGc47jMmiDvk5jntaZxt/44li6MyF6YtmuVCZF4N9YMaETBfEZUrN8AfQ0jem55KROvk0v6UdauFCbahlTtuw53qfX3pyNEQRo0bEjFAWvx9jxIaSEo79SQCuXH8iDYg3UDHLGzNUdb14Tui+/I+Kwop4FotlPBz2s3eYUuC56nJyCfwYWTU2sj9CrSp0tLDPPkwKLtQt5IsF0fiRDF2fFBSh3C6FwCo47H+XBvA3XN8yBELgoXa8KCw2/TFgcEMqeZFfkLWtG4QR3yCUHns9Kk/Ylbq0dQ1tIS0+LWOI3ZRkAq3koRyaEuNCtVgLLtu9GwbBGyCRP6rHVRJtlkf3ZP6UhpKwsMitjQc6mEayh7+qj6SctI7qcnYZLwnz+hj3fSupw1RQ0LYtJ3t3zjyq8TcbCxpISRBc2GbUIebbfHI4QZHbs6Y6mthWGNUUiwhZyUcCjFaZkbhbHZQQ+Ndls/VyChc3EKGqIwS165c7RnVXIKQe78hhSxn6L0pZzajQV1yqIhBPkKFqHEoG1c39QZkdOc9u3bYKmnScEqQ7nkp4AS8fIAHSqXw6JocWxqTeZjuhqlSu9Qt7AWFlNvQNh5HKwNqdG1O3Us9Mmew5Lh2xS3hpPjqiLy1KBT6/roaeSn1tCteMvDwQUzIai/5Z1csssUO4R+D06d2kRj63zyM2Js2oh5e6Ux+vlza0IphBgky/Nh32xql7PBpGQ5+i85l8Hkm8zTjSOxt7OgsLExJvWm4iYVE/lQ1ig6LH0EwaepUTgvxes5UtehJ2ekF4nHafq3qIVJcVOsm47niqe0cglgw6AGlJXGuo4BzrOvpmoNn28egqGOPtb1GlJNX2DUaBcX1rZH6LTkkZQ14R29SpekwoQznxshfwtj69CGlCtTkvwFDGg64TTSyHm9rDnCvB6DejehuGYOspXozK2M7tExb+hayY7SdbvTpqYNmtnz4zB2N4rNI4ITC3phmk8XqzrNKaVXkLojDsrE/dW+sVQpXwYzXX1MHEbxSFpXu25DiAI4NGpJ1fbjuePtQhshMKnXFIdKfdn/NpBTk1tS3s4CPT0jqvTZQXyyB4NtDTDou1duSfidJehkr8imt58JfIbGqn+qEfhDCHwzUfS9tYmuTnVp2NCJ+p0ncM0r/dvd/fImBnZqgZOTE42bd2PF0Vepfma+d3bR17kZDZwa0MJ5Iqdfp3ni4iN46XKU5ZP606RxIxo1qI/joKW8ilR0BYnhPty9sIdpA9rh1LARjRzr4DTxgGqlnIjryTW0a+SEk1Nj2g+ezzVv1Yo26h0Lh/dnxhnXz8BE32dAu77sfZ1BE/A5xY/5zW03OsKIeY/S9ylJnsxsaIfVkH3yxL+yTUWMOq2Vlr+s7mONKNiIo6+D+XB6OkXz2LLsUSx+hwdTwKQr96R31ftV5BMNuRoDz2Y5krv2L0QQyc7OVTHuu0cmnNPbFEHot+OByux2Z5oTQnRWJtakNMQm6iVdq5TAdspFIJq5Hc0RBq247B7KywNj0c9jz4ZXiSQ+XkFRkY1mc08TEvKEriULUHusMjmsrFsIy4bblBf5mzUIYchSiQWEHkVXZGdwFn5k4MdYfUG5/udU/kU+DCiWB6efbwJeTKxgQPURl1I1EfIA8r9KDTMNcjktxv9TEEdGOSC0eiIZXj33jKZAgdrsfhPAiwMTKCK06b7lhZwtyNeToDiIf72RIsKYmbdj4PVymcS2WHxPGZuRpyglBJUH7lZNyJ/w8/CQJ0z3nd0RWi24FgNBOzoh8g2VJ/KYS5MQWt3ISOXSDvZT06ojcpRn2UVXgl7vpoqWMYN3ecDDWQhRkUMyiwpnRhGBda/z8vPns9MZkacdLmke55Qyg08OQUM4cuhjMK92DJfb0O1SLLhvo4SwZe2rOOJf7aZskXJMueCTkk35H/WQ7kUFeo1n8T48gqPj65HXojMPYiD86hxMitRj1+sYEl+spYiwZOVLaaYNZIyeoPyA81n4gb2mp2kB7H86gHdYEJ7BCSS830NNk9JMOeNBUsB5Ghcpycj93vBCWkAIuq68RXTQJZrmy0n9VW8hwYWqGgUZdVt6L72ie4my9N6bnraFu/yMgSjNimeSxtKHYZb61B96MgNxkpr4mFZCg3aLFBL3fF1rhDBnxuFXfAq+SHWNbLRdJY2JeJbUL0rF8ZeAt4worEOz/b7psQp/RJsyplRZcA9ib9JKX1C43TL8ooLYPqA6ecsPlp+lG3MdENntWHLRFb+7yyme05Tpl6QR+Rh7IWi7V6Zv3Pu5FjlLDJPHStD+zgjNllyTPQbSPIvAgzk1EVqT8P70hvYWVnTcJLlPxBISEpFB+wsRnu/xiYWkN7spmd2YEZcj4NOTz0Qx8irN9QSGHVer+i6Q1R0csBkgvSM8GdfAgdbzLsvtDvBwRVpiRpwcghB1OSH5qMRepbKOLh23PCPq4wmaFBQUdDpEoNcuzDWrs0XqpqBL1CtVlzmXM+BHIgFuHwlPhugLYxCiGkdDwHtHH4TIx6iTHsR5nMYpt6DG6vRkmTg3RjQ2Rph042lIBPd+7UfevHU47AtJL3+jop4lYw69IvDFDioLDWqNOCjPiXFBbniEJkLsdWqLbLTY6Q2BJzDSFBTrf0ImqtLCuqMQFKw2h/eqHg9yfUdwIsTdmkc2UYpt3vE8kN6X5SfJKd5uHEThakP5mOE1nn7AqH+pEfh+BL6ZKHocn0+f0bNYuXw+/RuWRMOgM1eDlQqjbv9C4ezF6TB6LitXLWJM375MX3xRfqClFB+vrGfk8KksW7OUwQ1s0S7WhP3vFPNPnOcZWhfTwaRaa8bP/oVl86cxcMZmPqpCAH0vLqBkLh2qdhjIzJ+XsGTWGHrOS3HcjuPelgWMnjyPFYtn0aV6UYRBHzxlsXxZUjk/os66VFQSr49GiLLsT6OoSr35I395vYlswohFT9JPBknuR6lcsAyTLyiaxg/bB5Itbxc+ksSq7hXQd16hLAYCz9JAx5yf9nqB7z4q6Jqz9kMyATtbIWykNN4MtShGk60KaffZ1QdhNIwYYpjStBRF+29PRf/+rIYI0UWlkUy9DOmIYhQz2thSuOcmOUGi+0Fq5rZm0tlQkh8vw0jYsPSJshg4M7kBRg5TkIbqmvr6GYiiAYul+TjmFPlFNoZek6agjJ9QJugJyg68rJgdvbeRRxRn/RsFq3sLnchrM5b3aV/O/pepaKRP293KQPM5LBGlejwD9gysQ6GWS5SFTsh1mppl9lFM9D5ENaFJj81u8GYJQtiwLYWTBB/DSugwRFa7pJc1+PQURLbCLHsl8aadGAo79oXAy5n1ydNWIvhf/kimZ82qI/koew3EMK9FaeyHHiHmzhyERgai2POcXFDwvg6IXM7cy2jNI5ZDjlpotjuiVBh1iRJC0P1aKO4r2yIM+6LEbfgy096QwhPOphcs6h4djYvSefFD+brPwdHky1ebY2FweVJlDKv8ohof3vQy0qbVoudSJzKhoKD8oKuqReTnIj+5TEWImpxKQ2hfbupFfqsuKm1wHAta21F56DESHv6MEOU4oLxEODmoNLoV1iCFV22ukR/TWU8k9SKlijZll2uKi4VSl0IUS7H8ifRuC+InCz3qDz+XfhEhJ30la4ucl0ojAhQfxS7cl4dfFOOs8lNz0CVIuIatMOEXZR3B1cElydXicOoCXM6cjihep7FuCQZueSPfevNrP7LrNcclAW7Mqkt2+6G8kdfRAYwsXwyn8TeAZ1TKQBRzFB+KpF+MPNoNkbMVt7JQUMlEMd9EfPFhVFlTbAbskuv83T++F3EsKLBd/RaSnqchihdxyl+CIdsVrSZ+F6lXtAqTzssMlYs/NcW46UIVgVJqSLy9CCF0mCt1/Y1xCNFYbqdErvfWzkuuWgeAd3Qzs6THfk+SH6+kfOXWXFBparOSM/nharKL3Ex5Eovfru4I0RrFe9ifn0vkIdegDNrIOFeG1LPCfMRhubjoZxspJexY8TSBj1t6kd+mJ/JQIJTJdYvJpuf0hvnn9JfwGOICoSfQE3mZqFoPwguchaDiMlXnpxX41Q4KC0FPaQV+72eyazSV3y3HhrfFoe9vWYy3tJnV39UIfD8C30wU0xftSsvsgvb7lbfpizVNyFagD7e/yRnblf62lnRael8u8pPHUerms2LsEf/0Vah++Z6fTn5RQ2XyyTLJ54vhF7EShZirig0IPiZN0NU4IdsCkrjQtwTZK2/KYoX/uYgf8lvACaxEfsbcTD/jB95ahrkoy8oHCoHyOz+N/KIKp4NjWduzIkbOy2UNQJLvSRx1zBm2U2Iz/oysXZE+m6+yo2lRKv3mCzEu1CyZH5EzH/l1dNAtpIuu7WxiiGJyU1tKDEghisncnaFoFDPomDIRxemty2DSc6PcXXEf9lEjjw2TznwmikseKwage0tbI6za8YIk1joaZCaK0kQTdZL8QoMhV7IawMGMk4jigEsyUYy/OAqRvTrHvZSR8n5bN4Rxc65I5rKUj/9l7A0NaL9L0dK4HxyKEPV5RAzTmtlglkKMA67SpLgZnX6VhICnRxZRz8wI/cIFEUKf/qlE0ZadsukXCD6GpUQUz6o0I0nBnFjUm+IGRhTWz4coYM7SpxJrDWaEmSZd9txiad36dF37KEW6LP9LwSy5q45CWb/Fs7pPJfTbrybk+ixEtsxEUaLJgXvbI3K1406Ky19qya5MKCDQnqgyt4dflINZel1052Lf6gjbSSqtUwhb6pZA1F2RmlP+EnWXDsYmdP5FmTU99o0iX766nIyOZF29Qlg02IbC+SIYX7oA1bqdSCWK5QZeTkcopPKeLpHG1JBUzYx07ei4auSoMlLV3iTWD6iEbutlhLjMRYgKHJDt/nBH0rAVH4xEvcL2diCbxc/cPjcHq8ajcEu7OADSE8VAhlvoUW/Y2SwCGF7QWgjaLXkiN/eRKpjlntyoMMbaFKDW4Mskvt8oazdza+dHR0ub/IX0aTjoXKq5Vc6cjiheU4jiJmmlAC/X9UlHFHPaD+WVvH6KYm4zU8r0ksjdUypnQRQl7XPE4a6IHC1xycIAIxPFPGMVM/K7/VQ3EuSpNpzL7unfIZIcoQ+2UMuiMAX1Cskm97Lr30NyeqLYQKckQ7cpOu+Ip79RXU8gcmuho5OfggULYDl6m6xhvbx6EBZGRhQx0EHkMuLn17G4rm2BEL14Lbc6hn1yMIviXnChdykKDjzI882jqdd4AX7p18KyK8S1DcOwKVwYY4P8iGw6aYhiWx7LZXozXyKKAzMTxcF1rbEacUhOFfZ4PTaiLKuexHJ2ck1y1RyHq8wMA5lc34wqg/bL497//k462BXHwEifXEJQZehNCDtBQaHDtPspXrcvaCcRxVWftZiPdo+nXLEiGBroyuOi+wWp8Ps45i3B3JvvmNKuCX03K+8SWSD1HzUCfxEC30wUQx4dYVT7ptSqUYN6TethrJmLVttUs1fEY8Y0LkMxi7I4NBvAljNPSPtuCX5xgmn921G3RnVq1a1FkVxmdP9ZmUTiPY9RT9uC4btUq8kMDfO9MIOCogoH0k7EqWmS8L6zjwEdm+FQvSaNHKuQU1oR3lO9wRPv4qiVi5ZbJEL7hm75c+C0QzXDp5ah/gKv6ZlPUHa+MnGlIBL5fAu2mmX55aZCuryOjSevaMSd+HjW9LDHMCNR3CEZSZL4bUg7WvYYg3O+ciyTlIiRN6lpbETLrdJLL4nY2BiiYxMg2Y8JTUpTPIU48Z1EscevsqgSUayex4bJKURRoxRLnyik7/rPLchjP1A2v62uWwirhjsU0/PbtQhhwOLvIIryK/yRpHGqgMpSx4sNzgiz7gGZxzIAACAASURBVKmmc1mgVKKoaFBTiOITkljawZ6iPRSCS+B1mpqb0WXLe/A5RO0i1gzfJVESVzqJHHTb6AZvJY1iaXam2J9URHHwGYVKexwbT5FiddnyLAkCdipteqLoLY6MqoV1g1HUqN6NtQ8U7UxK32b8LxHFPNVH80HWHsWxrGtFrHvvJMJFIoqVOSyvCSOYVVRg3fOcTJq/TBT9WWKuQb5hV5RqIi5jIQQ9rvjxcEJ9hMXIVBPjqppFEF12pBcnS6JYhxORCezrWgKzOhsUP1OJDJfUpf7I67I7wviCgqyI4ofN7RCiB2l1M9d/bkru8oORXWWJZ2UPe8y7bSHq7vw0pna4NrUqWhbTkHsyYCfFRQ3G9u2N89CtmTQ3f4oomnflrooojrEpgMPgy+C5jWyiBMseRUNyPLExMcTGpUQZqSDLgigO2KSQi/REsR6aFYfzWib1YUyrW5wag04BT2TTc7v9CjN+sLAOkkbx24jimM/kO/Qxg6sWw7L9CnzTEujQ6zQ0KkTbzdIAdqdriZyUWvU6C6JozpBtiiY0+tVO7LVsmXpKkilRbrekuw29Pp8ihlVYeS8OEk7JvsxzXyYQtLeb7K6i6AfiOFhPiXqW8kScGkW2okOYNLY7bSZdzGQWj3u0iqK6diy8EQXJF9ESuZiYqlFsoyKKXgpRzEKjOLiuFZY/HZQ7I+yRQhRXPvnEnQVNyFtlBIq7YBBTGhSn6hBJw+5Db5P81J8mmdKTWWQqKD3QRUUUtZl6Lz1RtF+pGrW+BzDRNGHCWck2cherbIJOZySf31h2OZlhPvYXenZowbpHWS120z9e6l9qBL4XgW8jin5nqGZUmOo957D/9GXuXt9MpVzZaLk9xR4mOQuH8urmCVZM7Y+tcVGajj6krPoTHtLBIC9l205k1+mLXDm9kQaFzek8/88TxYin23EoZk69IQs4dukGLgfmUlRoMTmFKALnRlQiT40V+LzeRgFRnVNZWRe/F7X/YPrLP9khCvfgQVrbSIgL9YuWpKvKhPpgbnOE5VCkmMgV3SpkJorbFY3Ai99GyQEXQrRXrfK9mWurjcGwC+mRS/BhfDqimMStSXUQomeq20JqhgymZ1mjmBVRfLoCY2HGXBcl2vG3HhWwbL5G1upsbWuCaf1fFQ3Pi8UIYcQSiSiGHyGX0GBU6mo+tVbZgX5kPkGF4SrtWPwlbEROJt1SgDo1xBbdysvTm8qzJIp1kWj4lYlO5Cjzk0JW/U5Rp4ABPXZ5EXykP8KwjuzPKZkDm4rsdP9doqhoFA8PsUG36lylvPeK3+Vi1X41/qcnU0AIROX+pMwfQY/20K3ZLJ5n4BsnJ0mavp48k6/7M8SuGM3m3Ye3KxDCkh3eEibhjNEXlOp5XiaKfttbInJ3SUfAFOSSuD7cBmG9WOlH/wPyPordrkYRcXwYQqOVyl/yHd1KFqXOCsXEnIp6lkSxNkeC4fmqFuS2GqEK6nhOPQ0Neh6QhAtjZB5BxZ/uphaT+uXZUoQozNI0TNH7+DiM9OtwWraBhzGmcnEaTrsJzxYihClrFc7ChgZ6GLU/qtIK+jGkkJBdAUZuSr+okur6dqL4hKZScM9aZaEtm54zEMWa/aVn5QX1pXSHVT4+qQ1K8+UbiaLL7NoI6648kofte9oXMaDDGqmRH2kgBC03Kdah21OrkNNc8VEM3eeMyOksj9s0NcpfFY3iGFIU3dJFvwMjMTF35k4acSOvSmZ/W87Lud7Quoig1Ko3v0sUCb1Lc/PiOK1J02HSszOlEpo2E5RnLXQPQuRhlsQOX0j9W4qd8p5aESwuo0memjuVxUj4eSqJnIhitkw7n1nb8PCX2oiiw5VApqgj5BCaTPpTRNGO5Y/jCTw2Al29epyV12e+DLMpQPWRp8FXkfsX+VUZyxQDge2g3yOKCukP2u2MyNEB+Vf8ZYpJuzScVvTqwQf6IUQ2bBx/QmVIydhd6t9qBP4UAt9EFKOuSQ+7FbtT7YHhDNQRNNyqvCaSokM+b4EivXp+64LQqcxh6f3tuhFNocPMVPuUP2NqlaPdLCkYAP6MRvHttoHkELW5kKK+TLpP1Rx6jL+dZhb0O0ZVXU3sypqRt+WyPwXWfzpz8it6lsiHVjFHxsybw6wpq3mbDI+WdUKrtDO/7liOY+mqDNouMatPLHC2Qaf5IpkIJHofo2aOwvTfrJi84j8ep6auQDhvSYUs9tYC9IQl/RZuZc+Wdfx2Uxocfoysb45Rj82p6QIvz0ZXGNJj0Xbue6QxY0U+x9nOGPNxkj9bBJOalESv41rZHy3m3U4qCDPGnggm+fla2cxpULcvi2b0oFCuYsy4pEwQr7f1QmQ3oef0BYxqbI7IYciCh1KMowd9tAV6dUay/+6HTKbLQwPLkEPXkWn7bssEae+QWhSvMphtW2ZRsYA18++kbMGhaobveUpra9HiN+X5cN0jvcirIsUjJ7/eQ+WCRtQeOJspXaWtgDTp9tt78NpP9UKFaTl1E7vnd0CI3PRY/wFeSRpMc7YqHBwCD2EictD3hKIZdzs4gkJatkzYuIdFXW1kjeKChyqnsrDLNBGCsoN3q4hONPt61ka71qz05kvg2KQqCJEfp37TmNazNgam7TglP++vaCQEZo1GsHRGb9lUVqrraUWb9n49QuSk8ZhNPMp4Moj3HoyFJo7DZzK2lb1sKmt7WnpQXzHStgQ1h69kw7TOFKnQi5uhGeyBkbdolV+PtnMVcu62aygaGpXZJXGZkCu0LWtByylrWDuqAYYVpvBapcE60L80OXUbMG3fLaLTBT1Hs7Z1CTQK1GT0rDnM3C2RvA+MaVCVat3ms31hP0pZtOKkNExkoiiwqTeY+WPakDObHZvefFaRHRlmjihUh30f0q6olH4PvTobLVGCXx5Kq1F/BhbNQ/X+J0kzilUDJJp5jsYY2Diz9IoHj1c0QxRx5pZMsEIYbqZJxW5H5bF975dWaOvVY+avu9i2biUX3D/LIhcW9oAmJQ0oO/sWRF+mbi5jeq5TzI/PVnZF5HXi6ie4vbCeHJzh1G86kzrao2XZExfVJgdrmxuhWbQJs5fOoJ62IK/5EGUjbffNZBc5cRr1Kw/cFauCqgHcnVYRoTGKDzE+7N68lh37t9G7ellq9dmucgtQpQy+SN0COtQe8ys7lwyUFwwlV7yGxCc0KK5PpQX3IfwsDjkK00+lCZWsDk/X9yNXwUrM2ryX7Ru2cdU1ipArsymkac6I1btZO6iSTBQn35He9QFMty+IdsW+zJ3cGwNNQe4q21WLzShWVsqLRok+3MvwmEoSxt5bjH62ogxavpMNw2shhAZjH0Tj/Zv0DDZFCTfyYKaRQPRO8Y1XtS32A32rFcNk0P+xdxZQVWxvG98q2FwDRcEAUVGRsrtFsTDAQuzu7u4u7ADsVuxWSkUUC7sTg1QQkZDft2bmkOJV773/74bDWnrmzOx8dj37ed89Rzl1HOa3HCNRnNk+EfDpGl0tC1PMZjALRtvLJ+CrD5R8GV/SQS8TFl3nc8B5jDyezHt4QogbmUUGRl9M6Lj+NBOC0os0flSvtqIncuA4ZyMu45rJ46n1YY2VIOIIuYSg5sATafS1hBZTP1UE/jgCP0QUiX/MVJuS6JrWoKldWzq0rYtOutx03amY1m4sa0Fuk0o0aNaKti0bU87MiubDdmoc1oNY3LoChY0q0rRVG1q3rIeBVhF6LVf8jz4/20NFoUcPV8XDJHVVXh0dLZ/w2paWxTj4MkMbl6OIRU1atW1Pu8aVSCdyMetqysnUbWxV+RUjg/cnU0BTZ6R+h4/32Ty1H83q1qD54FU8lFe4j3isGkHVei2Ysfe6TJTgM0dWjqef03F5YvoSdo3ZPYax0Vuzk/j8kpXjRzL7aIK9VAH37YUt9GxZl6qNHVl4VvLfi2DH/NEMcZZMhwl/YZxZPpw6zbuy+0GyJTbqFSsnDWXMLmkRjGLv4jEMWq0cMIl+e5GpXUey+1Y00VeWUjhdYbpOHkcrWzsWHElehkB2Te1FHdt+bL54nvXD+3PgibKpeOfrgmMdW6ZsuPyVSTE+6BKTOjbBdvImgqWuFfeSrRO6U6dWR9afT9w9JVQA3t9mQr++OJ1XXhse5LsBh6Yz5AMCUqCQS1to18SOhTs92b5wKevOKGa/px5r6dioLRNd3VgzfRyrT7+F10dp6TCacwliSMQVRrTsgeuNBFNyJN5rxtCkeW/WHdnLrD4DOfRMc8ji82XsixVlQIJbx+eH9GtgTXdnxfMqqcBwecdSZq08ycGlQ2jUdBCH7yatqi89V9KlflMGLjmM955ZjFx+TYNRPKcW9qV244Hs9k8mI2kSfnFyCW2atmexxyVOjOvKoiuaHd2Ha4xr25CmHafg/ixhl5esNFGPWdZ/ECsOK0Q7+OIWunefjk+Q0lZhNw/Qv00DGvRawONk50niA32ZKLXTpE0EJbsvp/wlgO0zB2BbvRYt5yqHceLeXWZu15bUbzGGsy80ES5PR4hiDJs2CYdGjiw/pXFW1BTv1MQ65Kkxi5cppxj5aeT9g/RzHM3x5xKJ/MCm4X2YtfHGV/1JCvz+7iGG2NvQZpUXL92X4zB8JY9lKCLZNqoX09Zd1Rxa+YzP5um0aVSbanZDcH+dYJrUFCjyGYvHDGHyoccQfZd5vYbi7KFMlq9Or6NTn4Wy6uc5vT4ZSzRl6ui+2NoO4+STpLEV+/ocE7u1pEX/Jfie382ooS680Oy1PZwGUdumL9uvpvzZmCf7p+HQfSfvPr9l55y+1K1dm47TdvAsjYMvkbfc6GzTmGErtrBhWDfGnXqN9EaFBaMGM+3oU/h0izk9hrEhYf6QqxbLg5OrsK9anYZ2w3C7IbHaL1xynYitbTdWHjnA3B492fVIQ9jDrzHZ0Y6uU3dz18uJrpO8NJsj2NJSn8IOBxO/a5BL/Li2dRotmnVm6YH9LOzRnW3Pogk7vwoH+yWKDyYhHBjajS4uqVTkmEBcZ45kxCZFxY58doZRHcZy+IHitPvpyWmGtW3BwMXH8NzrygLn87LpO/zefobYtabvvK3scRrF2PV34eNVejv0YPfjhPZ9ydL2Dkw4oSi9UmEfHJhPm6btmL19Dyt6d2LZ9YSxc4GyQocx51KS+cQKqhcqAn8SgR8jilIm4S84sdOFpU5OLFvqhPNBLx4HKZNN5Ou7HN7hgpOTE0uXLGfPmZu8TzaRfvn4Eu99W1jp5ITTshVs3HaK++8UG/CXyJec2LoP3ydJC1PyOn16fZ3t647wLGleS/6Y2NAnHNu+lqVLpbRXscXtJC8Sxo8m5KON/TEq3h6f4IRBmCIJ9ct/CIHwC/PJJ8xYliAz/Yfq9rNVebxjEEbG7TmrWePDb22jhbUDRxNYwM8m+CuEvzRF9lE8lJIXaWr+kPYFctNxXdqb2n8yPCcn1SJjhaGKr+U/uaB/ddneHqBshiJMS+FT81dn8vem99SlDcJ4uHzg6u8tiZr7fxWBHyeK/zIE4oIfc/bUUdw2TqGMQUF6bEi1G/yX1Uct7o8h8OHcbHKJosz9zuGNH0vt3xsq/MZGyqbXxn6N4uMk1eTTh5c8f5mgRP576/Y/LbnPBPnw0A7FWJKU1afHrOlkgigxNlEZTnr4z786PrYKwrw3t36hsw4x7y4ywioXOVus11hC/vnt9HMljOP56Xnoi9wMc1fVxJ/DTg39Mwj8Z4li1KOjtKppgn7heiw4mdz8+DPwqGH/bQh8vLGFJpXbsfXeL7QiftVInzk9ojG2CxU/4K8eqze+jcCt9ZhU7MSZVB4FMTc2ULLWQPlXWr4d+Z/75OLavlTvsoAnqawt/9wS//mSPT44m2ZdZ2jeq/vn0/vnpfCO9d260XuxOs7/eW3z3yrRf5Yo/reaSa2NisDPIRAXmdpJ7+fiq6FTIfAl+ps+bqlCql//IQjExyTzf/qHlOmvLsbnWNWd6q/GVE3vawRUovg1JuodFQEVARUBFQEVARUBFQEVAUAlimo3UBFQEVARUBFQEVARUBFQEUgTAZUopgmLelNFQEVARUBFQEVARUBFQEVAJYpqH1ARUBFQEVARUBFQEVARUBFIEwGVKKYJi3pTRUBFQEVARUBFQEVARUBFQCWKah9QEVARUBFQEVARUBFQEVARSBMBlSimCYt6U0VARUBFQEVARUBFQEVARUAlimofUBFQEVARUBFQEVARUBFQEUgTAZUopgnLr3czKjSQkPCYFBX/EhNJ6PsI5Fe6xkQSHPSe6PgUQf7AlzjCw0II+xT7B+ICcZ94Fxj6U+WIi4og5P0nOb+o8FBCwr/xw+FflSiOiJBQPsb86Up/lfLfeeNL1HsCgz4q7fp3FuQ/knfcpw8EBob/PT8TFx/D+7D3fIr9e/uoNH8Ep5o/vt+8MYS+CeD123B+6tXY8dEEBwYRKUf6wsfQMCKi1RdPfx9vNYSKwB9DQCWKfwy3/1isUGbpCbRq7yQyWc3ubOrDb4Vt8YmEV9t6y7+B6/wgIlmIn7j8EqssBmF+1C+kQ+GRx34icrKgF8YghAHO9390YYzl/IxGCJP+fCCKKY0KodVoHhHJosd9+cYy9fEiLTLo0GLzf+snIC9PKY8QHbiZDNYfu/zC57+AkMR9+S8t6l/wGVcdIRrw4MdA/EtDxTzcTak8pRl57MUfSjc2+g9u2FLkFspsaf6omXL+SBEk9Ze4AFxHtsYgsw5WtWZy/xtDMHU0+fvDTQghGCz9cl38Ndrr6NJg5Y00gybcjP78MxkkxFI/VQRUBCQEVKKo9gPgA0tN06Hf8mCKnykLf34Ft0PnkH5u/tXeEehkrcH2p4oy9zOwhV7fRefWs7gjRYq8ib1VEcpMc/+ZJJLC+s1ACHO2P0m69ftX8QTf8Wbn0etS5sxrZ4l++xVyPeOCLjK+21j23g5NO4m4EM7tdsP72X/rB3JvLGiASN+X+2nXOu27YTeY0qUfm/z/OBZRr7wY1Xk8hx6Fp53Hv/Tu1dnNEKINT/+G8sd/fMnxA8e58eZnx+Unzq8cQYu5R/+CUoezTJo/mqecP34v4XdnZmPwWwWWXHhKVEQEKW0ZvxcTeLabnEKHCZelcB+46LYfj0fSLJXG35fnLOphxwzvsDQeqrdUBFQEfgQBlSj+CEr/+TBpE8Xk1X6xZ7iGKP6o2TYp9kPnrgjRGImqEXOHNlbGVJjzB3/IXiaKVux7nZT+j1+FM6etQhQlHSXq1gpMhAlLriTXUX88tX9rSJkoag3i+c9U4NE2jNMXZNbln1rSU+QQ5jsfI2HG2nv/rd+hvruw5d9GFFMA/FNfQpjZsCDCYcNPxUo7cCxrLTL8FFG8s6IrGQza8/s6YNq5JRLFSz+gTEd5UEQI2p38WSL9jbzV2yoCvyACP0wUP4c8xcf9LB4eHrhfvElYCotFHOHBATy4dhlvDw883D3wuf6ICE2Yz6HPuXTeE3d3d7wv3CLoU5LdL+ZDADev+uLt5YWX1zmuPw76yl8lNjyAK95eeHp5cf6KP88CU6oawc9u4nHmLOev3CPkj69jv2DzJ1Q5LaIYj/eEhoh0DfCNhXf7R6KTtSb7guHtvt5op7Niw93PwENGW5uRVWTGqPYE7qfiAK9Pz8VMCNlUJHT0aL1oF451S1CwXlc6VMiDEHp0WHVOU5Ao/LZPp2KejKTPXonJO2+RoptJoa7OQQh9OvTsQrFMAlGiC34Sd325G20h6HTkg+TIyFGHggjRC8lQ7mZfCpGnN1HEsqCdFQaOzsR/vEDdhHIJQcFhJxPASPp8cQBdIWi+8w1E+VLVoBwtB4ykjkEGhMhPp7U+SWGTXcXFRBLy+oncZz08PXA/48W1FxrFIz6aN4/98fRwx8PjHFfuBCSpKfExhAY8xOf8Oby8vPD0ucrTUAnj5H+RPLx2EU9PTzy9LnL/+Tuikq2Xse9fctXHizNnfHgSnDquko7/oqYIUYNe/ZuhIwT5G85HQo2Aw+QXgkYbFW3MY4AFQrTmafwtellkVtpQZKZyE1feJBYpmqP9bdA1KId91dKUa7IZSbsJODofS90saOWyYNj2mxB2iprJ8LaY4YX3NBuEVhOuSmM20IOaOTNjvcif2CuLKCKy0rBxVXTzDML3/n7Km5fAcXhvSqQXiIzlmXtKKWPQ9e20MSuAlhCU77mPlN0vhmu7plIltw7phKBkiylclYWls1iJTLQf0p8yulLfNGXR2XeJNUq4uD6tFqJsJ8Z1qyann7HcMF5qHsY+cKNpiVwIPQsaVimMSNeRV9Lm4+4RetUqglZ6QXpjW5zPK+nOrJQOYdmQKkXN6bP9GCPKaJO7ug3musWZ7B3MG08n6urnJoMQGNYdxoXwL9xbIJm0O3JLzvMtU3II9Cb6JRRP/gy9vJR8Ih/jPT8SdmgsZtnKMKSPHdkkrIt34PA9ZRN0Z894rAx+Q4g8dNl+i6PTG2jaU6BrZMMeyXId7E3/RmYIkQXLLkt5LEX99JC5bcuQI4uEezFGb7uT6Ivpv2EA+bQykr92Y+roCoztDqewSMgFfO3JsGZWCJGBAnVHcD4QPnrPVMqn6Q/tDgQlq1M0Z526UiBXVjlOjYGbeZWsf8sBNYrixKtSmU9imE5Qb+1D4C2bx9qTS1uQxbglOz3dcahlmNhvLTstIuDn97nJyqZeqgj8mgj8MFF8uG0AJkYmlC9nRp5culTq4syrBLePj750NS2KsWEJTM2tsDI3pWLL0fhpxv+9/RMpX9KUMhWsMNLJT0WHOfjLKxN4LrBFCG3yFTLGsJAumfNUZvKeJO+p8Nv76VzTnDy5C1DMuADZtbTI1c5Z01rR3Nw6lnKlS1Pa3BKTIkWxsJ3L11P+r9m4P17rtIgiXJ7bHqHfjhvxGqKo04DjATfpb1wI+9WyIRmvYRX4zWYNQVH3GFOyEHVWJbWdkn8Mfks7kFk0wkvi92E36VhdF5HfkevvXuM2pj4ihz3+kth4czOVStZi0YVAnuwdgWnJ1px6m2qVuDZPnvhtxrjx4tV5uhlmwnyQJ4SexjBjDgadlVa3eNz7l0XkGom0LpzoVQNRejSSl6REFPXbr5QJ6GvveZQSJZnr/oL4pL1LEmxvTmKaU5cuh4Ih5jZtKuog9DtzI+gVe0bWReRsjf9XG5M4rm+eTA0TE0wKF8eiQjlMDU1otshbSTf6KYv7NqeEmSVWpYqjl7M0ndZo1NXQq/SsXRiROS8mxY3IlSMHuSx6ci1xX/SOjQOtyZ0rHwZFjCmcIwtZitpyUMNe4l6eoVP50pS0KIN50aIUtbLF5crXZvWbi6Qxp8vA7dd4dXk9piIDHY9+gHBPLHXz0GG3RHng4vi6CNGVEIkvXFlH8SxGTD7zVibiSXDF4TXFHiFyMvq4piCv3KiQsRQL/N/z/MBY9Is74BsFb85Mp5iwYKmvlEY8l2a2RhToyG2piUMv0tLEkLbr7sO9NRgKQbXhe5RN46sjNMop+K3xTJ6+vc+c5qb8VnsS74ljnrUR5brvJSwmmHtPpJIm//tC4JMHPH75no8vj1E/Z24cV0n99iplJULWfBb+b56y3L4oWc0m8ihVV7u7sh1CZKbXluu8uboJCyFouTdYJiSzGpcir50TL56eZ1ANPYRwVEhk6CtuPXhGTEwwc5uXoHCzpUha1qp6WRH5GrLjoZRJJGPMBKJUR2Q4pWER8JgHjwOJi7pB6zwZsZlxGQI2kkOUwvmZNDi8qCaMmHUrCXmpph/812Oe3py5vtFEec0grxDUm7iH18+8aFdMj0oDDgLPaaolaLf1ATEfnvMkJB6inzDB2gjRboUGsEBW2pWn1IC9RIddpLVFZXpsug185tHtW4TExOC3sDEiTwd8pN1XjBdls+ag7arzPD+3ChMhKGp/KBVRfMuSVmUp0GEt0dHPmWFThqI9Nsr5+cx1IH3+Vpx9G0HKU1VxvHl8iwfvPvHl8SbyiByMPpNqRk9OFD94U0E/P+13v+DDsYkYFG3EoScfCH/7iCBp8L89hHE6Qdt9Ut9M1cDJu4p6rSKgIvBNBH6YKMaGBxGkHDODgD2UFNkZ7aXx+wjcRxGhhePma3yMjebTxw+EhL4n4SBaTGQYoe8VdSPy8X7qFjBh8E5pBwh7h1dBu3w//F6G8+n9c9Z0KIew6M99aQGOe8GEppYUtJnGvXfviY54wtpGJohyM+S4H3xXYaZfnlkemgXq5SGqiyw4HpEmc/XvxxH4EaI4mjx6VRg30oYC9eZqFKUbtMqak0HSzl4S9RbURdRclWqxgHtru5BRNOGKFCjqFm3KFKbERMVHMcRzJnqiMm6BcHNZV4pbT9GoQldobl6Oae5J2pWcid9MhCjJpsfyN24taYSW8UiePDlN0cw/ShRXyCpexLVlmIqSLLn0Df+lwORE8RYtzAtgPl1RP0Pcp6MrKrMnVfEghjPDGiJ07bgQ+IHPn6OICAsmOCJB64ohNDiUKHmTFY3v4naI3zoqZuCgc1QppIf1Qm/ioz8Rdm8f9YTAykkh5Q/XdkFLuzKu/m/48PETYWcnIkQJXOSzNgFMKW+AVf99KNTwM2sdS6Jbbz4vU62PNxY0RKTvzl0Zwmg22+Tht1ZHINqHMl8RxS4yUeT+VkwyGzFLOtmU4i8Or/G2iDydEn0e761yRJiM1oS6QRWDqsy98onoKwtlorjmtmIGvDjdPm2ieHslBqIYc32Vdol6tp862Y0ZuENiTHBjoQOioAO3iWZ+gwIUb7ctSZVNUbbkX14zsFIhqg08DFzBSqSjwy7lAMiLLR0R+q3wTi5sAXeWt0KIdhpF7zUT9QS6k69B2HGsfivFJG/F19JvRhOEaItSuqQ8T02oh7DqiuROu6JOHorbuMj+vhDM0JI5qd7rUCoFVIk7zboApe1dpRFFp9yZaX8gGB6vRCt9SzRDLTGTFETRfQq50pVj/QNlMEGR9QAAIABJREFU97K2Z3nyNl8sE8VmQtDMJblX6jumNzJCdHBR0go4TLkcVVmjcbQ82qUuRl02JeYjXcR5TUFoF2O9VCGPgYh0rbgoZxXBApP0GLRI5aP4+gTV85sx4oi0MYD767uRLndnmVDfdeqMyN+ai6m7U4oc79JICJrMTVXrtIjinheEn5iAnl51tiVviIgzsunZ4bhGmUiRvvpFRUBF4EcQ+GGiKC2AT3yPsWHdenYdc6WhTjqabNSs1kH7KS5yMvhM4Dfy/MzzGx5sW78W181raF7ClHYzL8ph3UZWI1uNMTzXKDNvjoxDT1Ri9xv48mgjZdMZM+lUwmocyS47C0TF2XLco4OtSV+wPk7OLqxds5YNW5fRKZ9A29YtzQn4G4VTb3/jMEsKRfHIJIw0pqImrpqTJM92UzCzQKTXQltLi/RCkKPcCtn0mBzU26s7k1E05pJ0U3OYpex0TznIO89Z5BcV2fsqhv1jqslqoba2NloZBEK7IvNOKupWYnqyj6IFOzQLWtD+foi8tnhePkJxibT+kKKoEMUPV5bKiuIimZBEsqxvxURznIHFcG4/9MRKN49GUbxJc7PCVNb4Vr49Mw1dUYmdqYoHsbiPaoww7iObIhPLnfwiJhCfIztY67yJTQs6k07UQ6afoeepXlgfW+d7mtCx7G+Uk3RlJdIQwviyucncY29SSv4LEKIUmyW+83At2iIPnec4s3H9Gta6bGJ+r+oI3Zq4PU1pwFcOs/RPPKXrPdICrYLzCQy9SLk8qRVFhSjG391M8UyGzDif+iBKHF7jmiGK9ECZDT5xsG892dSrnVEbLS3JtGvI3EuRRF2eTzFhzip/5eT8N4nirRXoixLMv6KY6yWiWDtbCYbuUhr92nwHRP42+MVK+45N1MihRY7KQ7iZBumIfnmOCS0sSa8luQtoU2/4EQ1RTE8HN4UoPt3UEZG/BZ6ppq87yyXfw07KISxeMDlvenJPukS4/1IKifK4PlBwvTZHOcwi+3zGvWb/TEdyaWeUzciiioRLPCvq5KVk460aohjEkJK5qdPnmKx4Sw0aG3iNuY5VyJxJW+6DFRzWyUqkWx9LSndz44pLJ7I0W5LU9pqrFETx7GRyZaqIywNJSotndY8K6DabI7tfPNozgNxCi3LdnRXiz1umNTRCOCjWmRCfZZj/JhDptNDSjOWsfbbIuVzdNg5TvRxkTCcQec1Y/zyau3OqI7KM0hzgCWd56fRf+SgGX3KimLBk6WWlvd+enMRvojLHPsL9ZZ0Q+ey4kLo7ST391n66lC1I5ozpECIb9jMvJ5q75QJ9RRTz0XqrxA5DWdNVOtGfnynHlbblwymZKLY/+rWy/hWY6g0VARWBNBH4MaIY95jJthZk1SlC5dr1aWRdgcwiE3ZbNIRBJoo5GHgirRMGgSy2MyeXriEVatXDum55fhMGdJ4v0wYkopi1+iieaHyNXxwYQ35RhT1v4cvDDZRNV5Tp7gkzeAS77CwRFefIlXHtWQWRqRDWNg2pX68udetZ06CRNX2m+yROwGnWWr2ZCoEfUBQPjSOfKIy9Q3W083XmkmQBC9hDbpGbUR7BEBXB+/fv+RAemXJSB9IiimWmechlkIhiPlGJvQEx7BlWkxzWE3gYHElk+AfCwsL5HJtKDpOJoiUazsCbPT0Q+h244n8M4yw5GeKudCSPAb9nek5FFC8qJsvoiDBCw8J4HxbGh08x8PoUpXMlmJ4Volhx9nm53AlEcVdAKigTiGKRXl8pTFLIkEtbaFpCn/zFy1DPpgE1rPIhRG1kb0eZKOan6TrJ5Cf9fWJvw1xolZfMdSGMrZCb7P0OaJ4BGqK4RRLUL85ES2TGonYjbOrXo27dutSv34AWQ6Zw4W2Cj4gSVSGKA1A0fXAfYEomq3WER1ygjG5eOu5RKuUrKWLiB4miYXeUlwhFcbh7FYTJUIL5QsSH9zKekp4adG5OCqLoM9UOUbATd6S+FOZLyxJGiulZJoomzPdLUhRrZzNhyE5lvrkqEUX9Nvgq/AOCfBleLhfZ6y3XEDENRJF3GVHDjCq9XYkijoUtilOxv4SfRlHcpxzneSIRRf2WeCVMM5roClHsiNIazzVE8TKf7q/BSJRl3R1FJb4+RzLlt5dV9tPT7MhdrhuXQ+GBqyPCrIOMs0wUG21JQRRr9zmqqO/xb5jT3Aor+4Wy28yObiaYtFwh+42+3j8Sc1NHxjVsSKvFCb68SV3gK6KYsQLO9yWi+IXV3RWiGKxp/rDrrlTL9huVZ0ib9DCmJyOKYReXUkRY4eT7lthPEXx4H8bHOAg4MYlChSqzVH5HlgsivSFrn8fxbLk1IvMQTR+KYKXZ10Txw431mGpZssBHIfwBR8aSTdTFKw7uOX2DKL4/h51RYWynSxaHj/RJJ2g8PaVfZsJhFtlHUTY958N+s0a0IAb/rX1JL4oxzy8aPrurRDGpu6hXKgJ/CIEfIoqfz02RzX2bNRZeaRLql1PQOIWi+A2i+MSZbCIzk84nbPc/Ma5WGVrPUA4CpEUU84kq7JbWqk/+dDY3oFR3V413yXvW2RRHVFKIot9iB7SLdeertfoPQfErR5KIYnoK2B9PAUIKRVE6zJLThtNvruGYPwe2TpLh8hEdMgvqbUxQfFNET/xyc3kHtISt8t6+z7c1r8dJThQryibcO6s6ktOkEzdT8prEdOSLK7MQwoiVGtHtwvhKZLFaRFjoBSyzZKHzaWmRhNN9yiByjZIX4q99FBWi+P7SQkxEKVZcT+ibKbPibXLT819BFKPY1acSosyAJD/aR6vQEfWTKYopieIeiSiWc5V99bxH1URkteOy5oxKtMcE+d2WmyQxJewQFkKXibJ9P1U9Un31X2CDSN9Oc+I0nEVWWhQYcQW++FEjbw6a7VA2fBfG1k4kil9uu2KsbcSCqynVSengkKwoJhJFeODcBaFl99Wp6rceMygiLHF5qDTwtcXtSZenjWLajfClhXEh2q1/AD9LFKX63ZiNEPU5m0yhCr+1Dsv0JiySCANRTK5vSKUBf4YopiPneD/46E6l3EXoe1SxVZ8bLx0McSSAUIZXK0odjVuF3+LmCDNHmUB/iyjKVDPoKLUz6DHioJLeSnsjSrRcobgQvDlC85zpEaIqSy6kso2n9lGUFMW0iGKyvdbdufURJecQTwRTrQshuiiqIW+OUz5nEQYcT6m87elbGr2ac5TDTneWINIXZpW0I/AZixB1OCmT9VAmFhIUTPV6LYI8qVuwJN13KwvHjQX2CKM+sqJ5a0nHNBXFD+4T0cpqxi55SgmknWR6/imiqHT2MWbZqDr1GsS6U1AIOp9V5oVUQ0H9qiKgIvADCPwQUeTdQdn522rAak66e3Pp4haqCEEDF40mEbgPQ5GZvsfSoGyfL2GdVVCy9QwOu3vjccKVBgaFsZumOPDvGVqRDBWH8UizVj/bN4JcohzbNbbop8dmU1gyb2bMhk62zLJJS9Scr1Qt7CLdTHQQeWozcYUzrq6rmNJ7EpeUjf4PVF8NoiDwgSUmgswVJnPkojenTxzD98Fb/Oa3lX3trn6Bt3uHkjFDFfaGgv/8hogC7bkUBY+XNEZoNcTZ8ya3z5/g3NOvSdfb09PJJQozfKs7AY8uYW9ekNKTzshZvz07jVzCki2SpSjgGPX0C1J1gAsPH93kvM8VAlPP71ckQiAwaTKFg/vmYyay0Uk6lcxrJhXTQlQex+FDK6mlLxBZFaJ4rGtlRPFhxBDLHHtTcts7yYpz7IuD1MqRB+shq/B7nnhiJKlTvD5Gsaw6OO4PhOgbNDbJT5npyqGUNycnoSPKsv1lysMFio+iNaKA4puWlJh0Fc915z5kFsUYus6N8xe82b/YASGq4SU9DvGmYv7cNFydcCAokp11syLM1yCX7tM1Blnllk+D6uhkI6PkCpDJio2a94H7TKmPEL9hO3gW65xdWLpgBsv33P1K4fWfL/nUCWqNdma/Uw+EKIqLPHTfMK98LkTp/hw+5kzjYhJB6YLs8Rt4lqp5slFm8HpuPwpM9mYCydRuIx/yeZAAxXtPmmXXosKI7dy+d51jHtdlvD893EWlbPloMno9t4O/8P7CYgoJXRwW72X71JbyqfV2Lg/A3wldYcTsSwppiXq6l6raRgzYplTUb3ZruV9eiorixsHdXLx7k+39yyNKT0bxhlNQj31zmkb58lF37D5uuS+SD1xUHiQd7riMqRC02a04sz12bYfI3RT3VGcmbi2VToe307yY/Bnjcwgyj5A2uBE4tyyOKNqN/YfXULewZF535B1fWNXOgpyVhuB314c+FgJh0ZGHfMGp+m8Y19+occsIZIBxNqp2P6xYPqL86Vw0D2W7u3DPfxtlhKBU65UotPANE+tkRBRywC8ZCU7oV++vr6GEKMFMn898OjWerMKStfckVf0LyztbotNoDh+/vObAxuPcuefOcCtdig6RNoRf2NelLCKPLcevPeATkRzoXxlh1I7D/vfwc/fiYSRcX9YCrd/qsNX3Bhu7l0RoG7FMPlBzi/rpBOY9VrB/RR+5Pxk1P5DKkhOO25CaZKg0lKu3TuFgbkr9Gcq4vzq/HSKXLec+JHQapUYxj7dgki47jms8uHtAerm+wHaab8o+/HQnWUQmxkpC43sPLHPnotXmR8S+8uP48Us8ueKCefrfGHFSUjIf01FLkK/Dcnyfvvn6LQoJQKqfKgIqAt9E4MeIonT27dEJetS3IG++/Ojr6WHediyHbmgOjYS607JkbeZdSGW70WQb+ew0Y5pVxVAvH/n1C1OhZn92+ym7zLNLulO9+1JeagjBa49lNCzTlZOvk7G9+BAunDqGzzUfljQogai1IFmFQtk9uycWevnQ1y+EWf0R3NP4OyYLpF7+LgIf2dOhGoWNDSlUoAD5cmaj/Oxz3Ns7lfI2Y7kXB8Fnl1Czeg9OSCtxzHUG1KrNmF3Kb1H4rh1MBWNdshSpxcrLqU+eShm/59i8LhQ0tGDOaT+mdmlJh7Xy23IJ9nOmgVknjiYcoX99nvH25cmW24C6w515kZq/3V5DxVpLObJzImX0TOm9yjepZsGnsTfWx6rxGPZtm0aV5mvkhevCjB6YtHYihhg2jXPAZtwu2f9LUsOu75qMVf482O9IMF0lJUeQD63r1GOKZyjEPGRY26Z0dpXfBkmw71rqle7CyXcpFzrJR/Hy0sGY2c78htIdzd0jC6lvVAg9/fzoG1jRstsSZI+qsOt0b9qQIfs0zI8oTg+oQyVHN4Uoaor2+NIZTnpe48GhkQhRhu3JnPefHVuCbZXS6Ovno3DRJjidepZykZUOFTj3pca8oxyc1Rp9wzrMOZNoKoBQb7pZGmJaezA7t8+jss18hSgCb04swrxgIWynXEjmAxzLleVDMW82jRfJoYi5zcjGFuhkL0CFjst5LataMVzZMo7SeXXpdFCaK2LxWT+EYgWL0WvuVuYOHMr0vY+Jf7gTm7Kt2HhbOYDwOcCdXjVasfCEUs67m8ZTzmY897+Es61PPQpn16Vk45HcSN1XJK+169toalmcOj3nMXd0X/rMPSs5Q+BQtAITzijK6cvDkzBvOIIrqbru450jKGs1SWNSf81q6wrUWnpN0wqvWdqxOsaV++N2eA11ms1FTi3iNvPbVMKgUmdWOE3ArstEnhLHzt71sRt0BIXrhbLQri69Zp1LJFaRDw7RoWppyraZyqqZg+g4cofmUFIUCx2rYNZzSzLMk/poxIP9tKvYlg03PxN1aTV1qnRi/zNpMo1jz7RO1Bu+lS/RjxhYuwTZdYrQsJ+LxkdRAsePcTYlKVZmFNdllfozZ5f1pUT2HBS2bMt2f4loRbB/fCsKmdRj5obl9Gxgy9YHiqQd+/QA9pam1B60kfM7h2Iz8PRXB9mksb9/Ukuy6hWn5yrvxA3G3S0TKddgFNeT/0SSplpPjs+nRhFzWk5cw9x+dgxe7Z+yDweconbZWqySjBrhV+lk05DxJwN477uWuqaFyJrVgpmHNU7MUjUvraRyHkPajT+kwT8JP/VKRUBF4PsI/DBR/H5S/4MQXz5x5+oFfG4+J/xjBE+91lAtX0FslicjB/+DbNUkVQT+iQhEPr3MaR9/Aj9E8OHNTZa1MiGTxbTEd/v9E8uslulPIvDmBE1KWDJx/0+9Hv1PZqpGVxFQEVARSELgn00UYwLZPLYx0ilYbe2MZM1eHNvRLjxNYxeaVCX1SkXgv4nA6+OzKV8gMyKDNiJrLopU7MyRx2nIaP/N6v96tYp5xvRmRchXayZPk6u1vx4Sao1VBFQE/kYE/tlEMRkw8Wm+ETlZAPVSReAXQUAdC79GQ4efGIW2xUCuad4I8WvUWq2lioCKwD8NgX8NUfynAaeWR0VARUBF4H+KQGyE/A7E/2keauIqAioCKgLfQUAlit8BSH2sIqAioCKgIqAioCKgIvCrIqASxV+15dV6qwioCKgIqAioCKgIqAh8BwGVKH4HIPWxioCKgIqAioCKgIqAisCvioBKFH/VllfrrSKgIqAioCKgIqAioCLwHQRUovgdgNTHKgIqAioCKgIqAioCKgK/KgIqUfxVW16tt4qAioCKgIqAioCKgIrAdxBQieJ3AFIfqwioCKgIqAioCKgIqAj8qgioRPFXbXm13ioCKgIqAioCKgIqAioC30FAJYrfAejXePyZI4OsyaKTlSzauSjdfDx3/syvQcQFMLddJYqNPvBrwPeHa/mZSxtHUCi7oHj/k8R8J51HOwZhmL8fD4Bg9zmUyt0az4i0IwVdcqVGwcK0nupDbNpBfv7u+7O0Lt6QDY/SSPHBFowMq+J6L+6n0n20fRCG+v2581Oxvh/4xa4BlGy6gtffD/oXhbiBXW5Derg9+4vS+98mc96pC4WbjuLBN/qPnHvwUYrnL86cy78X6H9bzn9a6p9DX3DJ4zRnznrgdeEyTwN/bqL8/PYeF87fIOz/pWIBOFU1wXTK+f+X3P5wJkEXaVm5Ir33PP7DSfybI366uQHLgtXZ+Q/+OXeVKP6be9hfVvb3LC4myNVwI88jHrGluwUipz3eH/5gBl9eMLJaHkSXLX8wgV8j2sM9w8mta8WMPWfwvxf43UrfXdsaIVpyGwg8MpwMohLHw1NFi3nLusH10cn9G0IIqg50/+uIYogHHSu0YtMDhdJ+CrjG/n1XkZfK2ysQIj+L/b+kKlCqr7FhXDm6n8vvlPt3Vyt1up4q2J/9+mzXCCq2X0PA/9tvJF+mghA02vTozxb9/yX+6cnWCLNO3E7df5LnHrhL7kMjzim/Jx76yJcjR28RlTzML3YdcnUrzSwLkCenNkJkovO+tFb3KOZWzYLI78iFoOQbp3hO9y6IyDiep38Wt+hgzp0+xs2A32uNF0zJJ9Duf/rP5vaXx499/5hDW9wJlVJ+5065vLlp6nL/L8/n35DgJ78lZBUGrPsH82SVKP4betL/vIwfWGqaHoNWR5DX1c+nMBYZ6Hkk6A/mHMrEugak7779D8b/NaIdGlMH3aYLFcx/oMr317dHiNay+hZ0bBSZRTVOphZ7YsM4732OV4QwJY+g3AAPki9VP5DNDwc51iQbovw+JfzDtQhRmJUPvxP9kQvZhD5bgjXR5Dq15d+/RPhRRQha7HrzHQD+GY/Pz26CKNOVu6n7T/LiRR5CS2gx2kfZGKwpk55czU8lD/ELX/tiKbLQ88irNDD4wNJmxSlkM5Tzb1PaCbxHmJM+/wxepBHrp27dd5I3Zutf/l6sl0wvqE3WQWd/L9Df8uz+ouYI0ZHPUu7h56lskA+7rX8alb+lLn8607urySUMcXnyp1P6nyWgEsX/GbT/poQlopgO/ZYHlYHLXZpKi97eZ4R4Lqbx4OVsntOd5t2WEADEPtxLp1pWlGs+mvPvktGQdxcYaluTNl0n0rZcPjL32wfxdxjboiNLjyuTwKUNo6nbfxGvEjbCYbdwGtiMUmZVmO6usIeYe7tpaGJCs0GuPIv+GsfXPq44WJfHyLgmo5x9lACB3rRtMp/zNw7SvXY5qrafwe00FsGoN9dwGtAc0xImNBzqzAONovLwwBzadJ/DstGtMR20Da9dM+k9cgnze1lTceoZQp6cYGij6pQwNmfgGi/kaI93Ub9eP7w0pCfo9CTqtFovY5Si1F9esHWsHcbm1sw9pFCiB1v7kCW9QGTJRQGDxhx7mzzGR44v6k+tMiUoUrMbRx8rIPwQUUxMJpShOimJ4tsLa2ldzRTjmr3wfpdc+QtjcdvGjFh9TSGVoT6MdujCoWfKInd+zVDaj95H6KOj1LfuxPFX4Zyf1RtjIRAZ9CjSYiiHDy4gU8YijFzjTK9GVanZfQXvE8uiXES+OEu/mgaySpXHsCJ9p53m8oauaIvmrNsxjyZlq9F1YfJFLZqL64ZgUrIKY7ZfJXmJE5OOe8G6fk0oYzOCrS7T6dTPBUmbvbW6F0067uD21W3YWY/maqQUI44bqwZRo6+rJnoIR+d0xdTMmkWnNCbje65YN3fm7OFFWJexos3kA4pimpih5iL6EUt6NcDQtDrjdtwE/KkpBLWmrGR82zpYNR+Hv5yn5Cfgx5h2dTAyLkebERt5LVfkM+cWTmb4KjeOzuhI2Vod2eKnkVmlLEKuMr11VcxrDcb9VUqyIZcg5BrTuzbEsIgVdoPWa8ZJLL4r5zJ93RFOL+pFCfPajNp6OQm3T0/ZNNqOSrWHMrVfPdJX6JEmUbyxcxJ1K9vh5DQBHaHDlEsv8RjbgXxSe2fSp2i7ASyZ1ZUmnXZqTKgf2dejPj23X+fiyhmMWOXGYalONTux5UqyOhHEwWkdKWnemGXuCQwnkMV92zH90Pd2GKkb4G/+HnGcUt8kit8u219CFJ8eokKJPPI40jWwopvLdQi7zDQHG8yNTLEd5YqC+iuFKA7xkmZtDo9xoMn4g5rCBeI22QETi2as9JJmdeXv9bk12MtzRG8upNIJIp6cYbx9PUoZlcJhxl4SHt9Y2YvWzt4cmNMJq2I1mXk4OeMJZ+2AJhSzsGbC3ltyJk8Pz6d6RoEQWTCu0YTpm7dRs0QRmsxyZU7HOlRoMYZzb5Im/rgXJ+lRzYzq7Rdw471iIri1axod+s5n8bAWlBq4M6H48md04CVmdLTBokgpGg9Zk+h+8mjbKBqNWsfKUY44TN2Ex7L+tJrszJwerXBcdJb3t93oalOJIsbV6Lf4jJxW6CUXmluP0cwf8dxZN4Sa/VxSbu7jwzg8vy81rEwoUqsn7q+UNfH5nok0XnyS8xuHUrl4FXosldoh6c9/+xRqVLRhzJS+ZBfGuP5pmTkp7b/66oeJ4peXHvSqWZz00mShW5GlJ5Nq5e/cD/1MUsMr/4rbTuZKSFJR4yQy0KMu2bUEIl0phqz3ItGqGRfCaafeGGbLqImvg/UUNyL/30xGSeX8da8URbFg65MKBP6LSSeMWP44jtdbesjtYjZ4By+l7V/YIcppFWag8xE2DK2LKD1IGYjR/vQvrUfxtlNZNaUTBkKQcchhiPKkbqYCdF+neKEdGVcLYdGFR9I88N6PbpbGmDUfw6btGzjkHwH3XSmUvRJLj51gdL0q1B606yvT6WufLSzbfhqf3ZPIKfIw1uczBB7FMLtAGLRh2SYnbAtmQDRf91WTfnx6me3btnPO5wgOpnko3227bEq7vVra4QoaDNmGxPuOTKiAENlpPe0I0nof4H+arRsO4uuxBnORng4bJBPjRdncaLdXmZaPOxYgQ7sjKRW8uJfMs62Eqf1sPPfPw8qkAtNOvYLgW4xqXgqdKr3Yf9qPdym4QARnNizDzcuLTQPLI3R7y+bmZxscvq8oJtY4OJEoyrzkzW5KigKM3HKCwy67uZlAYjTh13UoQaGGS2VTULT3JITIwbBDiloyu24+Kg7xJP6RpBrqs+zOF/hwhekWWmS0nMKpx6/5eGWNjJ9++QG4bp5HpfQC44kXE0sjXcTHhuO3eTDZRH7G7LzEi6AQ7mxQ+pdlz8VsXtibzCIrIzwU9n55oT06lQdx/MRKKpaozsRjqf3/vrDO0YI8ll3Z4DyJgkKgV2EiEgXxHlQCkW8uz18dpqhWMWZcknYmQcyvbY7xQMl3Nh63IS2wbDyWUwfmU7GoJUuuRsPNWXI9TJuMZdPasRQSgvqr7qaoB/HPmFK9BJY9luF9+jinfKS58CZ1hSBTieYs3bqeTsUzoVd9BTL/DzjDrDX78TntSp38epSb5imnd6hvPTkv20mrmdW5IiJvU85Ine/TbfrUrkrzCVvZO6MtxUv2xS+1ifi1B/PWuOFzZjONjfQxGX5YTvPUqGZymvVHLmPtRDuyCFNmeUlL+ie29q9NHlN71qyfSWVpvq7Rn3upNlMfLy+koMhP73nLGVnfEJEuB5MuhvMl7CIDCwn06szD/dkb3h4ZiBA1OSbP81exFTkZcuEtnkMbyvk3T6iTXlNOB0mTeQTb+zTBssUUzuydQdniFVl9VWqTq9SSMB55Og2Tdhiug5uQX1taV/JiN2lXIjmBF4yoUAhtzZojqdn91p1HMZIrzfXs3DpaJhCqan05cCuB2kDkMy8mtCorl1Ua9+ly1sHZ7/vuH4kd4RtE8cHmAeSS1jmpXIUbsyOVE6hCFGeSoEOemdqC3Hlt2H5L47X48QFr+9mQS15PDemz4jQhqdfCmDDOr+uD0DJg5Oaz3HsbxefAS2xeth0fn53Y5RRYjpX8EoOZWSgjOUZfIPLOOoroVWPVDanBw9ncvSGW9jM4u2sKZUpUxfl2LLzbTcn0BRmz9SSHnHdzO2Ezr6l08GMvNq/aja/PFupnEtSaeUl+cn6oJUJkxnbcctaOaIQQJVknOVJL+dgXQ9duASf3zqOkjiWTvYORxs+GLuUQogEHHj7hze1T1CudFZG5Psu2u9DFMiei4lQl1xdHqF2sCkPVUfNqAAAgAElEQVSdD+HUpS7lbBfKc5TfovoIoU3jkTtJxinlOJ+CLrNx6VbOX9yDQ15ByaHu8v2bcxrI7VJv6lHCicdzUGmEyEp7J3d54x9+fReLt5zEZ/8s9EV2BnhEwut9FMlgwEh5TgrFqa4VRfvtVcqW8H/ce05vXM5+b29c+5gj9IfIFpLHKyS3GkH5PgtxmdmZdCIrEy/KGirvT04kiyjJ8OWr6VPTCCHysekfLKj+GFGMuoR9gSwUbjaFg57u7JntQEZRgHFHFRlkfycjhF4vdnpdwNdzJ03yCwyar5J39tKAHl25CKUbT8Dz3guuH5qJSY58dFp3VYb5wY6B5NUtz5IT13jx5AEXj+/j4LlbRKUeHAmNon7+DxAIZ7m5NlnKDGb5qok0KFWQ6oMPyUrE001dEaI8pzUbvKuTKiNM5iqKWqQ75iIbo29AxLExZNK25pzcbi/oXzknGfrth+hz2OQwpq/rPbncxydZIyr0kidKv4VNyV60MzeUsQNEsqNzFfJ02y2HjXafjF6ZrtxM2lymqvtHphQQFB7iAxFnMM6cnlb7ZK8Xnq5qgxDtSbXEp4jvM6cxGSy6IZ2/uL+mFUK/Hsc0AsjB0RUR5p2TVKFkMRfbGFCymTNSsTY0MaBoH0kFC2BwDh06nUq58n64vh5T3cqsui0xwS+s6VgZQ4c1cmpbB1Yhd+PZip9OsvRTXL7bIi+SC+/H8maL4x8iilJ6MR6jEOmbIHHqtP5uu3RHv3QHbsbBtcV15Twdx0n1ektnvRwM8YqEJxIZNGS5DOoX9tbOTOaaexTF6r5EInMwzlcZuJcGlUIUnJ24m0/IM/bmKnKJImzSrJQP1nVAiNoo7vZvGVkoHfkmX4H4a9gWKMdoD6Xx93VrRNne2xKSUT4/nqS0yMxYb4X17nEsQq5yE2VF98IIc7QKLCCcQMaWykulZXcg9iqNS1RjpCTfhp2lfsmqzPNTyruyYy2sx3mD/1yEKMJajS18u20B9KqvkzcPiZmHnKN63mL0cUtSYuAKVSUfRSdlQxSytysiZ4tEtTkh7plu5ohik+WvJ/rXRmTvppCfiAs00C9G150v+HByIiZlHDUHfO7SpnQJJpxJITknJCd/XhhcBZF3sNwOXmOaIDK3Q9bn4u/R2sKI6vOvwMez1M1XlBEHlOM9R0ZXQpRLrSjGsdk2H3mb7lA2O8/XIURGxlyQ2iCGpSXTYdjmuCbvS1QTuRjlEw3P1pElXROuAO4D6ySr03ka5C9K5+3PIego1UxqsUJzaml+m5o0nqCox1GhAYR9NcY/cayfJSJXI5zcTuO1bxFlc2pj1XcfygjzobQQVJu0lXO+F3Bb2o1MQp/RborPYMDZOZgaWNDD6TjPX95lZc/qZDduj+dbqb3fMMm6NMUaTefqo2c8vHOJAxsOcO1NyrGbAuTUX75BFD8Fv+Lhoye4L+tKpmzV2fwwOXUFiShmLLSQICI5NMEegwLtOfkyYZcYxpSaRhSrM4JTt55xx2M55jlz0nLRhSRVOKEcV+chMhXDOQ0h1ndKFTIWHs87QphXJDs5Brgwv0sDmk84IseOfryHisXqJvrEzWhRi1bzrxBxbhwiY3N8vzFHJGQtfR7qVxpdi1mycnlxpCVCbyiKd+5drKUN97bX8G4nusIIV9kbI579bYwQjTbIyfhPlwhlZ0WRDj1HtYI6lF8iKfMQsK03QtjIc/fFWW0o2GS2fJ8X2yhn0ZCDQXBjaSOEYVM0RijleRr/+8+rRbo8Q5E0zrsLrBFa9lzWmCbODjIjncEQ+XBgyqifWV5KkL2j5NsZyqwyBbGaK81JN2luVpvhB5JEspTxgNeuCGHAysdxvHKW1iAbfOVAbxmZV6A/VfLGDmN+pfzo9lAOe0Z6zyK7KIjL7yT7VT7/zzd+iCg+39oDkaEpPsqcKhdxZfOCFGy8QlYGj/QoTq7SyxMXvMcbOiAMGnJGWrP9ZpBeWLHW9xVhIUGEvnvM3DZlMWi5UFZqnh0cR4HclozaoDHn/T8DoGYnIRDOCouMiHy16DJkNIt3nJPbRnrycEMn+QDFDRmoYFaV+Q2tjm4a2B7QO4vAav0trs1ugSjSR0MMAhhX2wDtPm7fIIq9ZaVleZOClLbbkqQuf37CiHolyGhYmU6ODjSpUlDedZ5OlJ812RKB+9qJODSuSn4hKN3xLHw8g2HGnAz1UE4hPnSR1Dc70jok8fbSLvo7NMdcTwtRzoFr0XB/tT2iWEf8NBt7t1HVyVZ9DE8TDzVGcWXPQjq1rEf+TFpY2C2TTav3Vrchr+UM3r0+SRFRnUOplJ+Hmwegk6sBRwKlwROP+2gbhPlAJCFmc/9K5LKZzpuEdSKhelLId34sGtEVmwrFEOmyM/56FG+3dvxDRFGeF2Pv4GiUBb16Qzj1LJWcKPWAG2spV7w2u9++xaWJOS169sWh+xKiP5ymUoYaHJbsyA9WKkRRXuw/s6NGJjJVVxRZ7qySfRSXa4iA39SKiGxj5Qk6WbX4dNWJHMn8ce6vk/wu26JZIphtmIWsQzyIfb2PinlzUaJWczo6tKK8jkA0mZ88Kbg8C6FVnt2a8wQnx5Qjh9X4JKJoMEcmeJdGVyRzgw0EP99OmQp2HAmEz9eWYyYyYGbdkg7tWlI0uw5leu4h6spshCjHPs3ufkc7I/JaLteY8hKy/8jJcc1Il9OMyQfuaRbxK7KPou12RfUMPTgA8Vs9jmu45JOTq+jZvA5meQUix1hZPTvVpybCdIRCfOKeMKBSAYwne3B3dRuEVkFsWrWjbcuaZBb56OX69ZYnwGsDvVvUxUpfINL3k9U075GNEMX7Ku4PH2/TpmwRys66BDeXUiiTBStvKWTIY0ZaPorP6JdFYDZXGe2EuKEt+ShekJhDJAtNBIXsDmncUz4zo0Zeas324+XBfqQvP1M2x53snapOFQwwnORJ/DUnSoiMWNm0okNbWwwzZ6d87x1pqIgajF8fpKTIQv+ziQOQoP0D0dapwV65bS5jIQSOhxJM2yGMLJufKv2UuWlls4IY2SzmblAowcEhPLvoTPncpgw/KEUOZV5LcwpU68/JWwnxE9r2Bz+/QRQTYgcdHkeOLFXZ/CjlWDs/uhxCpxV9erWhTN0heAUkG/z3JL/DoizxfkFYaBChIa9Y2bUyetZTeJWKSMf5zkZkNGb17SRW98Tdhf4OTTDNr03u0sN5QQiLTPMhdPNjWLkNR18pC3jAqZkUE5kp29iODm2aUVBbhyqDD8GXhzgWyUo+66GcfpGEe0KdpPnr3vHV9G5rQ9FcWhSsMkne8F8caUGG/LM1KultWghB9Q2PCPUYI6vOCXYF/wWNEBkVC9T1qZK610EZV0GeVDbIj91m5TTHy/1DSS9q4/cFXHtVIb1uaezbOdCyvqQAlmHN/XiuL21GOrOe3PhqbVBK+8x7IwM7NMWsQCZ0jPsiyRR3F9ZFaA/REFo4PdCUTIXnJ9vMRnNh4zQcm1bHMIPAwGa/PLavT6tFhhqrCX57kIoVW7HrydfYxL72Zd6wLtiUM0Zo5WHmnc+8crFHiC6aDd9LpuRLR/bRkgp7k0ZGBWiwRjHFf76+nJzJ5sQkvP85Vz9AFKM52c0UoTdJs5NTCn9RavSSPWSJ9VhPE3KUXJwI+Bu3AYg8lTgcDC+cFZOeLMUnmgkEovIAlI3Ue7xcxlBOJ50sA9catDbRb+yfA9N/vSQfcJIPsxz6ysyrEEVbrskQvGKGYTa0ex/VAPKUYdkEhjO9ODvGBmEyWKO8vGJsbX0NUfTWKIqKRHNCOm1ZoQ/viGOKWVYqOhxIJKWE36RdZSMMmo1i786tbNy0kY07PAlM9TaWQ6MbYWjqyKbzxxhhKCjmmEAUczDorLKDfyAfkrBHs+QlNuDLU/OxMKvMkBWH2T6hIaJ0G67FaIiisQO+GpcJt1HVyFJtJI81c4Lnwq6YmzVmyWFvpjcthIntUrmuX+6up7KxNdu2TSZD6RGJm6WEDG8u70K63M04pUn3wkRbRIGuSNxmy7eI4qcbdKtiTJWey7l2ciGZRBYm3PjjRDHBizTyuTtD6xkiDBy4lsqsJLkBtKlly4KD22mn05b9Pruo5zgcr0OjyGQ4UzGh3pFONhuikMG0iGIhnJS5j8uTKyB0vj7dmTZRbK1ppwBmGmZBZ7gHEffXYZqhEI5TV7N9yyY2bdrIzgspTxRHHB+MyFKLY5p34BwfVSYlUdSfhSRmxJ8bi8jWjb1bplK3yWiZRAUfn0AeUYAuc9eydctGNm7cgcfdELg0XV6Mdmus3NvbGqJXZkUqoii1bgSnFjiQVasA/TdL5bpJNSFotlXxzwrZ3x+Rw5qzHyDq7DTyZKvBzH2HWNveFJFzlOz3KBPFksMVdT7+BcOr5iHb0IN4zaqPMG7EgnWb2bxpAxu3HebGi5QrYpj7bAroVGHKroO49qiA0OqdRBSNeyuL9sdbtClThPJzrsD5afyWoTzr7ivExV1SdL46zHKL1kJguUxDSoP3KodZ0iSK4D27JRZN57O5V33KTVLcVo5KRLFUsjpV0SXTkCNEnZ4sK8l9Fq5j22YJ7514+L/4WinTDJyP52ciRHH2J3+PzJPNFBZ6jD0nYXEFSyFot1ezSyCcGY2NsOoqqc4f6Z9g/k2+5giB3QrFkvXppQ8LetaSTYPZC9Rm2p7rKf3OEgbwtz4jjstENu3DLBDgNhqdzNW+IooXx1VVzNIiB23X+6dIPXCntBFMcuFKvLbszK2UzU8SUVQY5NNDEylvWIHRm06zY0RFMhcbwkuJKJrlR4hsaBlUZLpm1/Jk22ByiGL0X7yerZs3sklqi1vKjubTszMMqlMYYeDIzVTz7s0tQylTrAZTdnmyrkdpdMtOkMeSQhQTDujcornkq7vpAQEH+iFEfRTE4d6qFvIBFmkluPEVUcxHiw2KPPrCbQjpRV0ux0Yxu40Z2at0w2XTFnkO2LjjDK/jwXdBY4RpN66ldoQGXp2aSYVCZRjmepJ946uRwaCXzFMUojgwUUGUiWKhORqCK/XnthgY27PO/RjTzLXI3WCfbDXi+jyyZe3I3j3/x955QFWRbGu4FBURkCQoBhRURMGMijnnnHPOmMacc85ZR8ecc845ixkQAREVFRURFCTH763uPoSD6Dj33TtX7/RZC06f7uqqvf+qrvpr713VC6jTZBi+X/WdLnSpUIhqzmtxOyd5JAyZ7RXDW5kodkXpEt8wNWcGso+/BzF3ZGLcfIsyJkY9Wqk1edZqFD/Jjx8gilIFt0NkTXKFKJLv6lkE8+rzZLeJZFFMTRTfHXRGmFfk+Ef4ctKZDCYd5RirP9M58vk1RkiNtFAf3NJYZogO5pn3cz5HpzJr/lmG6vUfRCBlMUuaiavGophEFOM41zk/osYGZc+/+Ac0zCjoeC2M91t7kdGsncbV+44x1XOSaaBkUbxJQ1MbBmo6gfPTJKLYXx7AD/QvSp7aC1MNwu+ZXc8ei35JFst0xI+5KC+iGKnY81lZJAMFOl3UWBT/hCgmBDKpXlEcpdmzNMP8vT3Crs13ieILacIe7UITs5z026EE4G/tYoNNk2WaeClfBtbJT74iBSgxRck3tdSBV+dhbVKZXa8kupbI/oFVMWqiuFK2OqdvUfTd2AZh0UtxH8acJIvIwsR/A1FU5PKjv6U+5VZoD1KSO2RVt/Y0rVIBk8bStkavGdiwNbUq5aH0EmlDHkDeAieJKEaxq1ImslY/oEwuvH5HiD8nihH3l5NdFGCbZi2DYlFMTRSzoj/8GoSeo5ypPZOva7vuFEE0/71WoSsKs95L8SWdHV0a49LK4CW7ni3nyPGKcJfGGfPgWKohPceflQlBpNcmShs7sMw1xSIj53p32g8SRUWGR0tbY1xyEIFRSqydFlE0acSdgBeMziUoskYhNHeHOyGMRilEcWB1hPVvygQ85jEd7IrQdosvr7f2wti+Nxq1tFRWfrxgtHUG8s5WpkFuU+sgMvaV85EtimmIYtnZd+DDPspmt2XOTSU049KMeogyvdIsZglloUMmbAYpMV0ESdvjZNZYFMNZWFBg1f50cgxu2P211DbNTWHdGiy6Js2E4jg1II1ORWxptekZ+GygmEkZ1nlr/H6ptAp5+4aAj2HapPHFbnIKU2YoM1Q5dcTlSehmLYnSlSgWxRSiGMqMBvkp3UsiiolMLWlK5ZFJtqxUhX11mMCdvdMorGNIxVmpF1J9lVD7RMR5HERW+ifFqmhf5e2xsRhlq8zuV9ps6/qokuhZzeP65WUUzZyDFktS9jiMvTYGodOIe2nySu9n3O1ZiCyF2CDHAkYz0kaHChp9n66si06BoTJRXFBAjxyTr3NxbivMncbIE76w+8uxNSnPZt9vjaUv6WWhR8U1qa3Y7+ltqUvD2Uq/cWNyebKXnPBNolhlkx/4rkZXlOCk5hG+NswR4bBUfv4eTJZiDLspE+uga/Kq59REMYOoKRPMw0OknSEWfQXBrQUNv0EUI5hcTJeSzjfke95sbIKwUAxa3yWK8TcoKwQ9ryjtc7dTFrLXOaBZyPaE7gZmFC1Wh94jjn5lBXdf0ZgMVoOQ55ZRR+VFOt8iiobjJIviGwYXz4PDNEXGmIfL/zeIIkFnqWJkSPUxe3F//gzX43MoIEzoq9kz7Fiv9IiiE0ekOKQEN9rm1adY51mcv++Bj9djbt2+x7MApfW897jErsM3eP4ukC/hQVyY05rMWepwOo0/7qY0yxbGOG94+Ndmfl81MfXE1wikEMU0w2Yaogihl8djKOpw+H0sgafGI/RqcFVil093UDRDbpwPe/H2xh+U1ReIQUcAP/qWzY99vy0EffBgbDUTRKVB8vYQ706NxVSvIKN23OHDx3d8ionFZ203hG5tzr+LIjY8iLcfQ7XrO/KCvGih097nEHqVelkFRZJdz39GFD8wrUEhCrddRWhCBOs6WyMcOuD6HYuiTBSjXGhuYEizOTdIxJce0sDfcqUmBjeeXSMc5fi84cfSLraAxKCbdLIrTpultyH0Hp0ci9N2mbJSe/PA8um6np9tbI3I1pjz7+MIOjZCDhSf/P8lip9f4vU+Aj7dpKNBLtruTRsQk8j9lf2xFAKnNZL/OJb9PSS9BAuSxgstopjA2c55EAWm4yF5zzwk1/OfE0W8t2IuTBh9RmKK8TyVQwS0iaLeUImoBDOniQMmTRcSGBfPlw8BBIWnbZ1etDbLSt2514FXjCyWDQunqfLgpU0Uo1hRKaMs35STGoYa9YxRVe0o030tH6JiCQkOIEQa0+9N/3OiGB3C89fviE6I5PiY5hSuOpWwBDd51XNaoujy1pfhtjpYjDoPCS+YWTc3wnCM4noeKrnfCrHm0TueHpqEuUlFNntLjXEnFcwK0m/jHWLjowgKeE94Kg8liS8YUTwbhv2loPo3LGpugxD9Zct8ekSx9AxpQHrBYEcbSvfZQsB7V5yLS16dAV8tZnm4uDHCqA2n/N5za0Yj2Ro14ZZkQolnUy0jDMov5kmYph6iHtPPTlq534xrsuUvhlNDNDq5vefpwQnkMKnIJmlVRKwXg8vbUq7fJj7HxvE5KIAQ2bjpz/ASBXDe+EibKBLM5uZ5EaWHc9bNm+dup+laMgfWbdZrnrs7suv5a6K4XZ7Eeu0aSC7jEgxffYLH3t54ut7l+iMvwqQ6lhaDnNvPuXs+fAgOJezVTXqWzIlRr21fd43fPPOcjqYCp6E78Xjhye0zLqkW2kCI6zrsDfLivOEyPp6u3L/7XO7Hbowqjo6lEhIR474BB2Mruqy8rViueEnXvLoUbD2ZU3fceer1hDsud/B6k9ZqAoleazESxow5JlnhvjAun6BIp71yTO7KernIWmSEQhTz65J9zE3w30cxI1tGXQqEBE8GlLGlwqBtfImL49PHD4RIVRzyCq8AqY+4Tju9nHQ4pHlWZAze0ddUUH7QCaKlGE9HQ8zKTfkmUay0XrKsP6GDlQkNf/eEL/foYWVJ9VUK8/dc1R4hanFNWrXqf4VKeXJpWRQziOpIND/oxGTMDRxZfuMVCTFfCAhUXDO3v0kUw5lSSIcCrXbymSD+aJYPnXwD/tyiGHtdbk+NNnpD2G06mAvM6x9K3vHgYPd88oKTsUe+7uPdJKJo1oorH2IJPDhIHgvmfMOiaDhG6fuvjqyCyN2TR5/esXeUxG3M2ZJkHP9mm/vvXfghi6Iknv/FVVTNb0YGyTSuY0nPBWc0brZEdrcyQpjNlN1pUtpXO6QA9cLs1LzB4d29XfSsUSTZrK5jXo91t5T9xp7sG42tvgF6WbKip6+HiW1dxm27+RVrvzmrhnx/3eHHvrr234Pvf6XkT8w2F2SsvifFDaxR7cnqZghRRX5olVNh7BzagFzZjcldsCqjdidFAUZya1Uf9ISgaMve9CqeFdFV2Ybk3uah6AuBYclm9G1dimyOHfCQ5gmJHzk4rQNWWXTJlNWcvvukmUUAu8d1xtLUgGzmNjSbd/Ird/jpKU0xzWKBU6te1C2UEZOGx0n4fEIuu/tJxRfhsbyB3BGlnZ2/urya6rkMMSrRlJ5NiyLy1+NWBLgvro0wbMg1zcLHnf3tEEX6aQbSeG6scyaPvglFG/SkddEc5K42i7ca44j7mu7oZKnDqXepR/OktpHAi9NLqVUwJ0bmtjQe9jtP5X4/kZUdbRDlxvAmrSsjwk2OV8uSozjdhnQghxA4u4Txen0ThKgtx12+PzRAXl14NB3Xi1JyAL2EIH+XM7IFKPLGAgrkMCCbqSWFG8/iZVrTMRB6exG6woQZd5RJ3NP1UmfulGLheCS5VfSY56pR3HuDTCyz1BrK7VPzZEI7+4Fy7cZwa4RIcfMkoSEtJFjXrbTcmXZbc5dHf0jtq46mDD/G6QlEF2ULj4QX5xjQyBHTLAaYW9Vl5fWvlwV6HZmKg6kBZhWb0cDOiNxOStzUpb6WCJ2UGMl786ohMlfm+JsUK0rgg330qeFAVkNjLO3bscMjElzGyIRyq7IahI319BB558sDYrIOH+4wslUpjE0MMbFrwaqLku/7LkWkxRWaVTABu6U+sCynAiHsykIKZtPHukJr2tfKjcgwWLb+nR/SAKFfkFqVC5MhswXNZh3TPH9R3NkxnaqFc2NoYkqJTjNw04QuJMnw8coySpgYkq9MczrWl7DuJsfMnu9XAWHQQYkNDX1InXz65BlxWr7N7/wyyplkIpt9IwZ2qoxp6dY8SO3alVJFPGFY5VyIrNa0nzCSShkEvTVBwsHX5mAmBFnrj8ZTdoV+YU7bohi0WKSJM47m1CBtnZrPPp68Evn9nR30qFoUXUNjcpfozD4pvi7qDKWEHVtT76iSpGToI4bWKoa+tI2U0MW+xUTuBmraHlflnRXqJ29wHszocnrka/m7IktiMGeWD6FMbgPNuJMJm26LeSOFkkS/ZGnPsmTS1SNrtmwYGFpQotFozvp882FKkkjr++76vphrXMUFHEfikSSalCo+gJ3DlVW20sraBsMPyDhc6meJyDCWpL2VX58YRTZhRN8tinU42P0g/esUQyejFIol0DGunrJ1k1bp75hZw0LeS1GKu/x4eT4OpsbkdWpDv7oFESY98U14zyTpeeophQVEsqF1AUReJTzow+1tdK1sh66BMXlKdePwsygibs1X+ggTSwo3mc1rbWMongfGY2tsTIHqnehRKR9ZCwyRNw6/oqXTQ6oKQeGFStRxxN21FLc0QteiABV7rlJ2zpD0eH+BDjb6iFwVWHP8IMWz6VB9teK5eL5TWkBpzwUZz2BOLRyMfR4zspnlofrITXI7vza1AsK8FS5pngspa/9LCyhpZkzu8i0Z2NAWodteDm1xnSatzu6mcQUncqKrOUJ3UvLm5zcXdyVHFlPKNulBs+IZEGW2JYfbeW9sj7BowBlNnKdWVXy+ywDH3OhalKLHsHYYC8Goh+G8WCEtCmwqL/KSJmrDpbbST9l2hy/3GeKUD6FfjD7O3TGQdpPQLKDTyvsn+fHDRFGRN5G42FjiUvpazekEElI/JCSSkJA2ESTExyn3x2slli4QGxtLTGxsslsjLT5BbjupWaosk0//xLQ7rdC/0u/EBNKpMtmNEx//dV3Gx0QTmxT8lkrPxLjYZGKndVdCHDFJ6RO1roB0LTqG1MUkxEYTFR1DXPpCIZUTq2lGSbklajXCRNKTWxE1nugk4ZNlSdtmE7/GIz6WGE3nmXwbcHhkU0q1WS4vUEkFhfZhYhzR0Wl63m9irtwaGxOrWFOTC9PWKSE1YNqlKb8S4lNZYxOJjYkmOkmB9NJLtZ320UwCV5M+Ie2zmxhHTJxSsQla+CeQNmnqIuNiYpL7ES09EhLSWJYgNjqK6JjYr86n5KcIeW6sIznLL1PiKeU+KCWFdJQMo9bpRGKiFVySVI1PLfg36ighLpbo6Git/ioxXhvv+NRtN0FqO0oJyv9oxU1rP1omNmlxl0WU2kxUNDFxaSolSX4Je81DkKJbIqnLlZ6JJL2UPOOT5fgGIHKyuNiktprmfulZTXp2Yr3pW9GRnmuSJotRnOpfHfE9nUgkWq5Ppc182NWZLLW3fTVBTVJR+k6IjyU2HQy08VYab2rIlTwSiYuLIzYuTqt/ka7FS31ITAyxmvabuswfPk5Uxq5vPYqJCXHExsalartpx0pJkFji0mSQPFamo3dq2eJjYlP0Sq89SO031Q1xSXUnn0uqizhNG/mBPkKq/6R2nNywtHVK1Op3pAqM/Ua/k0hMch+n3c60+gRJ1vhYoqKlMSep0LT9dSolpcPUWCQDoP1sSLtQaHVZ0n2pxpXUben4sHJYNdr61d6wqUuV+mv5k/wwpykvvb4t+TlLndPPd/wXieJ/R4HXh8dQwKQgw/f+xJT7vwONWup/GQH/68sokqsUc6+m7NH2XxbpH1V82Md3hMqcxuD3slcAACAASURBVIueeQypNu5q8kTl5wYiilPSqme7Ecpilp9b2HSki+Pk1Abkc+jFvWTPqEQU/4pOMVxdMJg/PNMxb6dT4t9xKvjuJjq3aEOnzp3pnOqvU8f2dOk9nkv+yazj7xBHLeO/jkAiQdelfRVtWfvsn1v3vwRRjAp8gY9/cm/0X286qgAqAjICMXdoaZCXRlPPJLsoVGT+TgQSOTS2LnaFi+NQujgVGk/mwS/TTURwqFMJhHnf71ui/044/0JZUTdmkNGoHAsupn5lYQSHOv4VneKJ+cnG3i/PLjF/6nTmzpvHvFR/c+fMYv7irXh8SrJo/QWw1KS/LAIJL09Q1a4wjeZLcdD/3M8vQRT/udWjav5zI/CWs/vvJMdg/dyy/m9K9yXgBY8fPeKRpy+f0651+clVjgh8g5ffR23X8E8uc7J4b26x/+7XexBGfPiFdUpWTj1QEdAgEPKckzceJy9q+afiohLFf2rNq3qrCKgIqAioCKgIqAioCPwJAipR/BOA1MsqAioCKgIqAioCKgIqAv9UBFSi+E+teVVvFQEVARUBFQEVARUBFYE/QUAlin8CkHpZRUBFQEVARUBFQEVAReCfisAvTRRjo8MJCQkhNDSUkC/hyfvq/VhlxhMRGswX9ZWAPwbXX0oVxZPrpznyUNpAW/38NxGI/ujDmQPb2XjSQ2s/NW2Z4nly8QRXH7zX2hdQO83P/+vLy7scPHuPTz/PbivfBi32E3cvnOWOr/JKvW8ljP3gwaETl/APV1fbfgsj9byKgIrAfxaBX5goRnNzxXDK5SuAnUNpmvSexaN0dmmPf3eT2ZNmcsE3zb4Zb07TqHZLtnsl7QL9nwX6H5V7/EuGltZDdFDezPKP0v1nUjbSi8lNS2JdwpHK/bYp7+dOLV98ONFy8w9jaF5BsdbSK8B+3c/DZQ0Rxo259vVi3J9PqcAbNMhlTJ05yvtevyVg4BHplWDWbPJOYb9xkRHfIf3fykk9ryKgIqAi8K8h8AsTRQgPeMVTLx+OTq2HyNmMy+kMEG4rasuvQmox9ar2QPlkDULkYJH7T7aR179Wjz/ZXe+YUMOSjL13/2Ry/bPECTo9BkPzWhx9lfSWjRT9H2/qR4UGc+R3bkuv9xpnb0TFHsf4xXaYSVEIePx7W0SBDtz9a29i08rjb/sRep92dvlpufTOd4sMPTsGYVSKXfI738KYVrM8vVcqr0f77o3qRRUBFQEVgX8TAr80UUzC4NWOHojcLZPf05t0XvkO5PSBw/iEpnHdeK1HiDws9UhzXvvmf8ivGN56PCUgPIzXnm64+rxLtljEfnqDx8tAgv29cXvyWnl5ffxnvB/d476HH5Gp4UuM5KXnY/y87jOyeh4y9d0r4/fyiTdvPysWkfAPL3Hz9Sc2+b4YAp57cOfOA/xCNIQm7hNuLrd5/DwwxRUaH8YLjwfcvOXKu/A0VuDEeELfv+DBXRfuPXrG52+GE8TwxtuV2/efEBilESDuC95P3hEZ+4Vnrvd55O2vTZbiQ/C854KrT0CqiUYkrzwfcevWI16FpFh6lMaSQFigH4/u3eHOfS+Ck8qJ+oD7kzcEvffFxeMVMXFf8PPyJTDwFfduehGWGE/wK2/u37nN3SevNPt2xfHe0w3vYE0ZiRH4uD8hQAt0Talf3vPorgtuLz4qdRcfzKZhlRD5GrLl7GMCw1PIYkL4Gxa3L4CudSf2Xn1ODF+YVNKESl334vvGl4ePfAjRem11FK88H+Li6kv6HtBEQt/64HLbhSevguU6iw8LxOOBC7fvu/MqWHrBrvRarWhe+77hU0QErz0e8tDztYJ16Gvu33nIi6AIJZ3mf9h7X+64POSN8uoVrWvyj6hA3Fxucc/thfz+9yfSu6lt2nPJ2x+PRw/xC0qhvREfX+N234XbDz15F6bBIj4cH6/XhEaG4uv2kCdJ2CWVFB/K0wd3eOT9Tmn3Sec13wlRn3jqfp9btx/yzF9++TEkRODr/ZbwmHBeuN3noacfEannotGf8HFzw9P9Am2K2dBqWfpEMSzAF1cPf3wOj0KYlmXfyxiiXx6jihBUHLAVF/dHPHJ3xz9ck3n8ZzzcfPgSH88nX1/ehEbw0fcxD5/4kZREFjshFO/v6JRGRfWnioCKgIoAf4EoRnDn6BbmTprE9DUHeRWegt5nnxtsXDGH6dOnM3XKTLZfeKI92BLPi1uHWThzMtPnbOGBv/aAEPL8FusWzmbK5MlMmrmIvTd9UwhCSjHfPPLd0vVrohj+iq1rFzJ52kwWLdnM+bsp5EfO6Cui+In9S2azVR44NUUlBHFz3+/MmDiOuVvO81Yz3n1TkF/2ggedhcCqQSdaVnUgW5Y8DDv4UtbGe3VbRJY81GrZhgGzDhGZEMTanvUoVcYRe7sSNJt9RqN1GOdndcTSIj+Vq9anqIEg67DjEHERJ2FM59WKFeToyHKIQh3wkptAOKcWOFOumB2Fi5Vi5DHJJPyc+d1bUbpEKYoVbcKCE75ANPsnt6N4yXIUL1aR2TfSmIwi/dkxszeVqlamaE5rqg/ZiL8W0VFEvL60F6VLOeJQzJ7irZYQKJ1+c5icGa2p274nDcoVIktmS1r9fle5IdaPVYM64ViyNPZ29Ziy000+f2ZORxxKOFLSviIjj6d593hsMEcXD6Ry1So45LKiXLcVykvn74xHiOzUqtuUehP3EvhiF3ZCUKJOQ2rUmcvT0FescW5M1WplyZ2zAJ1kl+RnlhcXiJYHlE2Z/baQSeRh1TNFvKT/Ma+vMrpDXUo4lqFw8fpMP/yU0Ad/UMpKH5HJBLviLVhzI+UNGi8OTsfOQgeha4F9qf6cfh/AXCc9slrXokOb2uTKlJ1qw3cTqOEgFxd1xbFcOYoWKUaDqeeSJxFJ5b86v4ZWlR0pXa4sbYdvk9+1/Gr/NKpXq0CJYjbkdnTG5TMQ9YTWJe2wqdCednXKYmxqS/sRkxjRvyPFLbJjUqwn519EydkG3NxO99pVKF+6BOWbDudaQGq2BYS7Mb5FHUrYl6Jc/eFcDYBnWzsjRF6at21PeRsjDBy6cfy1QgqvLuhN1WoVsCtoRb6a0wiSSnl/hoIGuXGs35kGZW0xNHVi0mnZdAdxb1g/ojsVSpXBoUgtxm26+9WrAb/cXUOdqlUpV6wIBrnrc0SC+NNVSpkXpkKTrjSpVBT9LObUmnNWgSrmJSt61ydXDhsq1a2DuchBh1X3kmBM/v7ktpOWxfOQr0gtmle0QeSryrFXr9jVvT56QmBcoCy1mtTCJqOg7BRNW703BSGqci3kPYuL5MHEsSmdG1Qgh0Euak05qeQd91rWqXypMhS3q824Tfe+0ilZCPVARUBFQEVAg8APEsUoToxthL6+NZVq18AhlwG5Kozkjma8PjvcUe6gKzdoTOOaxdEVuRiw/nHyGwfurHXGPq8Djbv2pnUVeyztW7DXU4mG+vJkL21L21Kmfjv69u5Bs9o16LrgCF/SjAvfq7F0ieKnJyyaPJTu3ZqTU2Sm/vDz2lYBmSjmZYWPlHMEB5zLk6NcDw66yUOI1OOzsndV8tlWo2uf7lS2taJ4m7k8TUWQvyfTr3XNh/66AoPKs/GKDuPalMoIiyEywXm9vS9C6DH+qlJf4ReGk1mnJVfCIermfLLoOHJMagfPtmOfuRBTLr8jzOsQtS0FOoOPQcwNGhjZMHCztwzJmSl1EeX64pcIny/PwcasFLNPehMZ+YWI+Fi81nQlo8NQJPvMrTkdyN9sHsHvT1IuiyWz74VBYiif0hL2hBiCPgbJ9fvxykxyZi3Batc0ZPLzSQplyse06yEQeYMmmXVpeyoEQi5Twlxg0XUnEYRwbFhFhJkzEq95vXMoJvY98UkEj/UDKFRjFO8i7lJd6DL8ipQijE8Raa2bcXwO+ojEg+O8/sBK5GPWvUjwWCCHQHTZ4Kk0jYAD2ApBzdHHNZOqGIIDlbd0+G3vijBuyfVICNrRFmE4HImOfjnzG8KsP35ajSuGwxOaY1V3EtJraB+s6IqlQ2ceRIPH2taIwl1wCUw23ybfeWpMWUxKjcNHNrpFM6VUBgzKD+XOx3he7h9Epmyl2fVCKvQE9nr2rH4cB8/XYaFTg+NJj4iUW8IHpjatgNOwg3LeEZ9C5Ule9Me3BEkcLeA8Vczz0naHRMBe0a9GDkTJkQQTzfnZLcgoLBh5/Dlxr89SN09+mq98CHxkWtMqNJlyTn4Ox1S3pdXcO8n9iVTQ6129EZl7yG00JjxMLttrYzuEKMysk88h9i61MwqaLnygyBXgL7cpnm7GVJgz5wkQcgMnqwwYtlpPWOIHNnUpjSg+SU7/9sBYBcdIeLbzN+wq9uF+miaVGP4B/xCpo3rOqHyZsJp0F+JdqV8kC6LOQr4QwaUZTRBZ28lyvjswFnPTaux8+pk3lxdgK/Rp9xVRTGBth2LYNljA69hI9jmXQOR0Yp88b3tBOyFoNkfR6czQsuSsvFbWy29tA0SpNcQSztqKeRHZO3ErLJonm3rJBFK6I+DwWHLZd+ahRqciFfvwQGMIlZVW/6kIqAioCKSDwA8RxbiHS8gm8rHgvjLbBz+6WOpQYfgFOctjPQtiVHSFYqEBTo0uT4aifXCTBvSA/dhmyMvMK0mjy0cm1rOnVP9dcsd/f2VHDO268/D/0WGlSxSTlX2Dc8GcNB5zWXv27P0HGTIUYJmLN2vblcG43DBNvJZyo9+O7ujk6Mx1iQ9In6Az1LawZvAuhfBozv6PfPnQN7OgyEIPRZ/Xm8gqCrHhNQTs7okQzXGXr0RxuLEFGZrs1OjtQbvMgganA/Ff3wWRq5tiPSOACTVzk3nA4W8Qxf5Ixpd9/YuTt84SPiajGMDsemUo7Ky4rF8cn4BRrvbc/HifjrmNqD/7fBpLdfKNmoM4npyYQiGRm3FHtC19Hw90Qeh01+iRwN4WuTFtcgIir1HU0JR+Z5SKfiURENEEL2BLl6rYdForu5zfXltM/jyNOPnhKQPzZabC2KN/svAjFr/bqygpDOm/8w14zkWI0hx4oxH1zR5shDljrqRoL1+JD+PRhgGIrDasfirxpD3kEvbsCYrn/vCKmPXepa10rB9DnWxpNOWKfD7aZwdljRxZ8TgOnw3tEIU6cy+pDae689zYshiVHM8LeUIWyTgHIyr1PK48I8+3YCXyMv1hBCFHOiP0B/FIevSjb9NEZKLH+dSMKYxdA2tjXmYAabk5xBLidYKmeTKQc7L0rtTX9KxYEPsJ52VJXu0dirGoxXlp8pX4in5VC1Ns3HkIPUf1XIUYf0ZiqnH80bcyhZqv1XoncviteWQRxVh+N2XV8ON1bRHWHbkn9yUxTHTIToVuR2XSLheYGEXQ3a0UFYI6h79A+A1KW1jQYZ+yOv/zxUkyqZKo6t7+dbBuvUSesH64uwa7vNVZ75FeJ5VAePBD5pTNRJaKu4jHnVoFctPwD6kFQcDp8eiJqtyIgUO/1cG88XwlrCDsIe2LFkgnRtGb5hkFnbZLukPYubEI49KaGMXXtBeCpvNc5WvBZ8aR27INDxKiOVDbCIeV0j2fWFnaAtFxn5yGzxdwyJCdCbc/cWRIPazbLCEsAT7cWYNtnur84ZmeTsqt6n8VARUBFQEJgR8givFcH10RYTqWlC4Zrsyojq7DUJkYnO5ri1HRZfLgL2X68fgwhGk5jgZC0L6usrWxVc/+9O7Zg769elAtvy6i0nACEiHx3RUGVrUnr101Bk1dxfnH/qliwX6skr5PFF8ywNqCRmmJ4tNNZMmQkWwiMznKjpUtNimlRbO5rhnCvCY9nfvRs0dPevdoQ16RlWojjv0lt3hKnj/zkUIUbRcoAxCfjqMvBEPvhvNhr2SRaMYjWXx/ZubXJ1N/jSuLF4zQF+SffY2L4xogbIdpSJ8/46tbfocoDuADCcwoZUD5TqkG8rAn9Kxuhciag4LWBbAuaINNubF4JoD/uTmUzGpI3rrT8f/KQPaZ86tH45TfGjt7K4QoxOSjr7UAvzutEkJ3FBrHIucH26NXYDGBQdexz25K35MKYXu+XSHGnolfmNTCFpHJGBtJFhtrbMoO5cZnCL2zkorZDcldZSzuijErVVkR3Ng8hWoFC1K0uA2ZRC6G7PZPJor7k8yBrxWiOOpygHJvtD/bp3SkcIGilLS1QJgVY80TSdFgnAtko/eea8yqUJN+OyT2mOoTdps2ZrnprLGcxfgfo2a2Qow68oGnG9sjCnXibjq7AZwdUwajkuPwlT2zymIWp+5H5Vg/nm7CSlgx63EQ7rOqyhZlq4LWWFlZY1euAnNd0qyNDn7A6AbWCPMq/H5LmRB+ebCZ6g62FCpsi5EQ5JlxSyaKPSSiOPa0rMDzXYMxEjU5I/HO2Of0qVIYh0mXwXuDbG3Vz50f6wJWWNs40nfWEdnKm6J5LDcXdUZP5KD1zKPy+7a9/mgnL2ZxkfWNkMmvU/fjsqvc+/BUHG2LULRoIXSEoOHRsBSiuFuplMj7i8kqrNj/OoyFXYohMhphXSCp7gdy6oW2OyH8xRm6lXfA1q4IVlkExtX2kZBEFNcpky7/E2PIKqpzIyKSBe2Kk7vL70r/9ukubdNbzBJ6koIiK31PvZNV/XR6dKrFLK9ki2LTuRKVlZrGeeoXLMbaGxfomNme5VKUBoGskImiZiFZ5H2qZxNU3fKI5T1LKDolt+eBnPbT1knJWP2vIqAioCKQgsAPEMU4ro0oj8gxTmtGf3VmTbI4DEGaw8pE0W4pStcG7w46I8wrcjIY3mxuichQgmEzF7Fg7mxmzZ7DvLlzWXbsVnKQd3zoS85vWUivFtWwtS1LxwUn5I4/RczvH/ls7ozI3YrraYwzyl3P6ZffnMZj01oUN5IpoxG12nSkrK0Tvde5pCokjFWO2chs25lZyxYxd/YsZs+Zzdy5qzju4qflAkt10y98qCGKizWrKd/vQV9YsNgngYA9EnFKIoqf2VjBmEydFDcjPKWPnqDcNh/c57dAFOjHWxmFt0ysmUchitHXqJ/dBuctCsE5O60eolx/OY5tRT0LSrTdRTLXivShf+Ui2I4+LucSGxtDdFR0Mt6RL47SzDgrFeZrBkoN4gGXF1I0txPLbn6CqAvUFhaMOaJNFJ+vb4rI4ixbCiGRY90KYeS0nciwaxQzNKXvCaXx+GqIojeRzGxekgL9tsmlxEmyRMckx+fFvT1HlwKm2A7XxJ9pZPni+gflcpdg8knJdOhBK6FH350pRHGfFlHMwchLClH03jEQy8LNOSQ9UH7rEDpWrPJQAi33DqmMQ53BlHbsxnbvNAN7lCe9i9rQepZExCD65X4qGZZk9o0wnsoWxb9CFI8o1i4NUZzpHsKz5TXkSeJTibPGxxITE01sGm+7ovon9v5WBT07Z9xe36Vd/pw0+0OK6/jAMEdTck66lkwUi6UhiqdTE8WJl8BvG3YZrZkpx1UmEhsTTUxsXHI70EAtf3nsn0xhk5LMvfoZ3y0dEQXak5ooVux9DkLPU8IwL8PkOvakpr6g9qFQDVHMSed9Slv5cnMWmYUj1yLiWN7Rkbzd1hGTCPFxsURHR5OgNUH5wLzyOSjY94jcJs43MyeLU4pFscHvyrOkEMVq3IxOYGPviuRqu0Kxiofcp10x668tigm3qSR06HFQkSn07LhvE0UCGNusJm37DsTQoidKUEOAQhS7aCyKX65TLktm+p55ydpuFRSdpKrU6JRuVaYGWD1WEVAR+Mcj8ANEEcIvT0YIO3Ylbz8Tx6giOhTpdlDuJE/0LoxROkTxqORf9FmFmSjERsWT8qeAP93WD31Rkf2vUlYs/tlN7w85I8wacT2ZcaS+w5/BDpY0GJdmvzI5RjE/a58lEHhuLnmFCUOPJlFdeLSgPiLP0DTxYKnz/V869qFfFoHNgMuKUjfHIkRDbiaC/47uqYgiuM6qjMgzHdn5GHYWa2HEDC8IOzseXVGNS7KF6iV9HPXJMPAwJDykeV5remxQiOKpsZUR5fvLhPLmjKqIgt1xS67qcPZ0cEA4zfsmuJ5TSiLKbdSaSFydVR/h0F2xCgcdpIKwYGwaosjDWQjhxGnZGBbKdCuB9WxPqXFTxCAtUWwqE8qLw6ohSozRjm1NJdnLZXUQhedoWbo8pC1a8jXknoyDC3WEHv2+SxSVh2p7Vyty1lqqWPTcFyB08rPaQ1nt/PbYGNkqJyoM0cQUphKCT8xpVRr7vooFKfzqTCzNnTj8AbzXt0EUTJ8onvzNAaMy01BKj5K3x3Hqnpoo5mPq/Uh4MBEhqnEx3WcrtRyS1/MQJbPYsWjLDPSFNYfkSJXX9ClugMXkHyOK9uPOQYIrLfPlpecGOYA4TSFpfwYxpHI5Wqxw49mWzl8RxSoDzvH6/FCEqIWy7OMe5bMI6hySXM83KWeZlTLLFYr1fF0HRJbuckjB1fH1yVh0sNbkWKvkz2fJJwRdJI86cKCOEbqpXM/aRLEq1xPh3twWZC7USwlxCblEA1MzWq3QLEZJzjyQwYUNqDFWydh/RweESVn2yKbw57QQglbLUnA5P6M9BkIgGq7Q5BDACkdLhKPm9/NNZBOFkXixyyRJpyFa7TW5WPVARUBFQEXgGwj8EFGUFnvs7lMOkaUwjdq3oYqVHjoFenBZE3Z4oFNudKzmk/Qejjd7eiP0SrLvpTIFPz6hhuy+Kl6rBV06tKZ2oz5svq6kdlnfhwIFa9FvxFgmTxhKw+KFKNByFq/S7jryDQXk0x/PU19XkKtcA9q3qEHTCVe1rA8nZzUhQ7a8NGjRhhbte3BYmqw/lfZRNGa+EnwHXmvIKDLTcfV9TSyjP+MqmCL0ClCnZTs6tG5O434TufX2f3EO/gznbBkRJg70GNafMroCp0X3ZWh9JHeeqEvy2syYu7SxzEuj32Yxrk15LJuvUKxsMU8ZU8kKg3IdGO3cBmtp8OonxRrGsKZfBUSOCoyaPIoauQXCqQ/PJHL4+Sbdbc0wc2jG8LFj2HT3CwQcp1qO/NQaMIvlS+ez/Lg7sZ9vM3PwJJYvGksFAzMGndU2HQffWUd5SxtajF/Jgv6V5W2PxhxQVm2nNJtwlrYoRMEmvzF3dBuM83RFXsP87gR5MmSh6xGFMvls6ogQNZG1D7xIc5tCOHWawIrlC1l6wIX46MfMGjCBpUsmUTOnJR22axanaAqKeLqH2nnyUXfoIlaObowQRvTd6gePpyFEEXYmTZj8tpNT6DH4nDI58Ts8mjzGRXGev4aJza0RmfOxzE2JCU4IOkfDjIIq4xRLa4pOytHHG6twdChHv1kL6FLdkeYTFNfuI2kDastW3NKGS77p/akxZNYxpb7zBt4QzNhCmSnR/oASz+f5O2bClDFXpWCTaGbVzINl5R7MX7mYeTN3asXyEhPEyU2zmbFsGcOalqVIvZUER3gxwD4nRdpPYdXcgVgJQfYJV4GXdChpSYHfFD18tvYhk3DiuFRMzDO6lMlN/qFHZPnuru1HgXxlGDx7GUsWr+KUq7YSfmc3M232IhaO6UB++2bs8QOvdS0Q5s25IScNY7i1DiU7n4Tom1QzMqbawHksG9+GLEJQ7YBkUbxF5cLZEJmdGDyiNwWN8tNmndLuCbxOB/silGkzihUrFrN0z8U0b3z5zJr61hhW6M+a5ZOxMxRkLLOd2MSHVDQ3ovpKJYzj9eFhCFGGs1J/9u48zaxzU6SpMyM7VkEIXVovTe3JUOrz8db+mBpY03nUKBoXyIrIVYqtT5V+Z227ghjmqsHwHbflxEG3llJE6NI5OSQhgFWVCyGEGS0G/0ZDG2MM265VMv6o6FQ2WadLaXRSkqn/VQRUBFQEUiPwg0RRuiWEsxvm0L9TR3pMWINXqgB5912zGDfnimJlklK67WfIxKW4BSctXY7D58I2Rjj3oWvX7gwet577b5UtckKeX2fd1JH06tyFzt16MHblMfy+tW9aasnTHL922cXYAd3p0G4wO26lbAUiJ4t+w+GFE+jZqT2D5u9H3oHj422GDZ3C5Xcp/qR7W6YxdMY+Xift3hMfwPnN8xjYuztdu/dm/B9neBeRkj6NCL/wTx/662Uk94DFLJoyhEELDiUv1Ai8s4Oh/f8gaQ2GpOSXp6eZ2LsrztO38yL1CuTgR8wZ0IMJW8/x4OAqph1QVmfGvX/I0tH96TlpAzeuHWbpuj0EaCYCEf4urB7rTMfO/dikCaZL8L/NVOdOtO7qzNIz3hDmzbJRfWjVpi+ztt7WmgQooEvtawP9Ow3hjxPnWb94Gcdc0wnMC3nC6gl9aOc8i8uvFBJGiCezxoxnzxPFZPbx3i6G9luXrG9CwAMWjupJq859mXv4EcS+Ye3YfrRq05up6y+nLJRIVft+N7YztNtglh86x/bli9grLbh4f57eQxemvD3o00NmDJzIEZ+keL8IXLbNoXvfiey/dIqVk2dy5Z1sloSQKzSxsWPMkSS/darC5MME/K5upXeXDkzYdC35OfS/tpEhM7dpbWWVfGdiEMeXjKRNn2U8iQrn7MLxLN3hrsTPfXBh2qCpnHyuMSOG+7J73ii6tGrPqIXHla1lkjJKCOP2vgX07tSWruPW4alZ55Lof4NxPboy+Y8DHF40iRlnJJPYJ3YuncncYwq5/vjgAOOGrMJTakPxQexePos5R5M2k47iycl19OrSge7Oi7j8XHvRRZD7Kab06EzHPmPY46K4aQNubWbw9C0oYXcxHJ83jqU7lFjB4Ht7GdqjP4v3n2DvxKGsfhwLn6/hmDcPDaesYvGQgUxeezEZO0m9xA+urBjfl1YdezNr7y3Sbt9J6GOWDR/A8Hk7uLR/IWOW3SeBt6yaPoXfbyoTgM8exxjVdznemu2aQp+cZHivvqw+eo/T27ay41LSzCEJUOk7nJubZ9C130yu+rqza+ECXD4oRDHC7wqzB/Wg3/pL8g1f7q+kSL5aNt65LQAAIABJREFU7Hya9CAGsNIxL6LRRDYsGkm/yRvxTrWHbOKHRyxP1um29h6LqUVQj1UEVARUBDQI/AWi+PdjFvTcHVf3x3h4eGj9PXZ3w/PZG8VN9/eL9T9YohKjaLfkf3FF969fXa6ru2JVtE/ydlS/vkY/iQYfLsurnjsd1Cwo+knE+nExEtg5sC7FWiySFwYq9yXFKCbFEf94bmpKFQEVARWB9BD4qYni5j4F5b3nMmbMSOo/IW0Obb9IsxVLemqp5/4aAt50lzCdrVgA/9q9aur/JAKBVxfKcaBDDilWs/9kWf+4vAMuUNTQkJbbk9bC/1oI3FnRDXOj0qzR2v/oHYuLGiJabf+1lFGlVRFQEfhpEfipieJPi9r/nGD+rGjRiH4Hfs0B83+uOpIViubS+Nb02KzZ3zL5vHrwb0HgsxtDO3dmvvRal1/u84WN3Rsw5VyaMBs+cWxoFxovkGJC1Y+KgIqAisD/HwGVKP7/MVRzUBH4jyGQEJXOuwj/Y6WpGf9KCCREa2JYfyWhVVlVBFQEfjkEVKL4y1WZKrCKgIqAioCKgIqAioCKwN+DgEoU/x6c1VJUBFQEVARUBFQEVARUBH45BFSi+MtVmSqwioCKgIqAioCKgIqAisDfg4BKFP8enNVSVARUBFQEVARUBFQEVAR+OQRUovjLVZkqsIqAioCKgIqAioCKgIrA34OAShT/HpzVUlQEVARUBFQEVARUBFQEfjkEVKL4y1WZKrCKgIqAioCKgIqAioCKwN+DgEoU/x6c1VJUBFQEVARUBFQEVARUBH45BFSi+MtV2X9C4GBm5xBkqLaHiFTZe+0YiLF1C1wi4c3OvghRlA0+YalS/FMOE9jnXAJRsBPPUgP006r/iQu/L2LsuAlMnTKDtcceEJ34tbCJ0SG8eP6az9EJ2he/eLNp4Wou+XzSPv8XfwWeGYMQuZhzL/gv3gmJCekI/Jdz+f4NUa5rMBR6jLn0+fsJ016NcqVHjpzUXv6//8rLxBBXpjQqLL9K1XHBbS0kgh9tpnquDAhhQNP5V7SufetHwM4OiKxdefyvVm9iAv/qrckyRXjSqaAeJZwPkqblJydRD1QEVARSEFCJYgoW/+CjUJYXy4Bli6NEp0Ih0PUYcxbt5C3w7tAoDLJVZffLyFQp/jmHJ8bXQlRwxi/qV9A5mNOTR9KxfUtsDXUwb7OM0HRG14fre8sEoP22J1pKxXmsxUQYM/rKB63zf/XHp6uzMM9YnBXuoT9+a8J7ts+fwt7H//kJSYznVgrp5mfWrS8/Lp+UMu49h+bNZ+NN6cn43/5cmV4HM6vOnHB7hn9w6t7Bl25WptSacxbfS/OxENYs9f5z2vXFdR/DZxzg/Z8nTQNsPI/2r2bplodafVSaRD/2M8oX5wr5qTX+1I+lV1OpCPzDEVCJ4j+8ASjqa4hiy2Pf7IRfHRiJ4T+YKF6aWg/hNIhXqcfKX6DtrOlVjpztVpAe7XpzbT0tK7dk5S1twpPgvQkrkY9JNz7+vzSUiaJOKX73/QvZJF7EUAhGuf2Fe/7VpP77KKJXgFm300PnX830f+u+dXVzUqrD6a+USrw7FSFqc16GLoT5JfWwnXDnq3T/zhPzrASFerv8G7IM4LfK1ipR/DcgqWbxz0Dgh4lifFQEEZGRREZGERMbR1xcDPFprBQJsdFERESS/htIE4mJjiIyMpKIyChi09ycEBtDVFT0N1wBiUTLZUcSGfV1uf+MqvpPapkeUUzk3qJu6Fp3xS0eAg6PlonigQ8Qc3cBhc2d2OQeDkSwdXBtjIQRVfpv4Xu2o8TYaCKjoon/SpVEYmOiiY6KIjom/dZDfAyREZGk/3rb+OT2ERUVm34b8j9H27J5EEKXQjVG4xIsmTSiOOrcmZbDlrCyRwWEMKLepENIWkmfqJcXGVojHwa5m9KjaUkyVBv6baIYH0tUZPptPyEulujoKKKiY9LRXSopkciICKK+oXtslPTcKc9e7F9yyYaxqFPpdIhiIjESlrGxxMV9XRvpEcWEmCiiYrTTSuekZ/kbNcana3PJk6kgzjNHUCqbDnmbLcBTJhbxLK6RmzKt9ijtxX0FWYyK8vupI9QpkUO2cgqhR7nBmwlL3ce4LkEve1sWLRpGgczGlO+7WRMq4c/CMsWpNnQsLW3L0GPBPSCGzQNrYCyyULTpHPySLVhfuLKkFwbChPpd2pMjkw2LXSPx3zYEw7ytuSB5yaO8GFjZjiYzLygNgQhub5tAmWwC/XzdueZ5m4Z2NrTb8Rz8DlGjWTtWbJ6JfQaBiX13TjxLslBGcWudM6aZTKg1cCR1y1ZlwsEXmjyTvhK5OL8r+bMLhL4tvVbfki+8Pz2d/BXaMGFoE0pV7cOOxQMwr9STCX1qUrrBFN6Ev2N1r5oYCUE269osvfkRPl+iWcHSjN77TM7jzbFJFLFvydUQiPTYSXMHCzkUoOeep0mFJ39/8jxKjzI5EcKGcbslC3Mcpzs4aOpCIAzacTk4paY9FtZA5J4uexukTK6OKUu2QksIAvxOzKWojkA3T2M239G2SrstaYiu4QgkFF5t7Uv2drPYM681JiIjtm2XkjQ18b+xgQZ5siIMy7P4xA3WtZCeT6H8lerFNSkqIvwxM1uWREdY0mvFTUWXoIfM6VJRTpezaGf2ugdqdEzg2elFOBnoYN1sELXt89Ng0plk/dUDFQEVgW8j8INE8RMrK+ZCZDXA1NwUXfmBzcy4W0kz8U/sndyWgpY50MuUCfMSrVh/6VVyLInr3olUL2VLVn19DLNnI4OwoufSG8qAHunH9gntyZs5s/xwGxdvx/orfskSh/ucYVRzR3R19cluoIvQsaD7jsfJ19WDfwcC6RFFuDuvPcKiHa4J8OHIaAwN6nDmox+Ty+Sh2jSlY348rw46Jafh7X+Lnjnz0HJ7OuajuPccmdsX62xSPFNGDK3rMfeUjyL454cMqZtfrvssmaSBICvWTWYnDxgQz6NtYymZPyd6WXTRzVGciTvck8lJmPdBWpbMj7GeHtkNMpMhazEmnX33NSgfH3Lgijeh72/T284ci74H5TSnh9ZHiEz0336NW9tHYiwKMPGSNNy9ZWYDe6ybzODe7Z3UzyEQNUfw+iuLYiinF/ejiJG+rEMmq7rMPeROrJx7ImfmNJXPS3pLA51ekXbsvB+QLN8n1wMMbFiKzJmyom+Uh2q9V/EiKQ7yixcrBjfHIlMmDIz00RE62A47lnzvnx98iyi608VQn6z6mWSZSsy8ppVVElGcfFOJ3XPfO4b8ZsXouVozGMf4s2d2b4qZGKKrnw2z4q1Ydem5Vh7Sj083F5BfCOy7L+HBg6M0ymOI0/DjcrqFTkbYNdqJTKncFiOEJSsfx4DfdvRFJgYef0FUTIx2nm7LZHkdOq7g9pXfcRCCZlv9gY8sKiWRoNJs8VGQvzvWEWE/GfcPHsypkg+bbkp9v90zTE634fY9VvethBCmLPOIwX9TP4RxI85LRDHai16l81FnikIU767rjallNRYcc8Hz8SM++N2kcl4Lmm19Ae+OUVNfIMoP5+GTKwx0tMSs6SKkCIVXJyeTJ5cj807eY9ewsgiRhwlHUvq2JOWeXTnBA/8gnu0fihDF2B8CoRdnYSkENkOPysne7x1ERiGotvCu5rZPXD14hTehbzk8uDwie0+CCGdKveKUHKroemlqe+zrzSeW93TILqi//DYfXz/i/qukqZCSVeLH67QuUoi2S67wzm0TZQ0LMfPse+AzUxxNsG+4jmehUakmOTGc6VoQnTJ/JE+qnqyuT6YCI7h3az0WoiwbHgfw0seTV4HaoSqu82sgxCCZKL7ZNVDWqfKUYzy6uIqiIgONt72Ej2dwMi/B4N1uBL3xxPuNNM68ZJSlwK7zAfxjJcKawPJmhSnRfTtvXxzASeRl6sM4iH3JsYsP+PT5JUvaliJLpYlInDLWex+VzK1pt/QM1zb0kwl24+nnkqpA/VYRUBH4DgI/SBTjCQ0M5MOnEEKen6ZV3uyU7Lo9Oc7EdXkHchRqw+6Hb4mN/cy+EXUwte7GNWm8BXYOKYOw7cDxBy8JDv7Aa19f3gQpo6HLms6YWFRl0dG7vHx2n6XdK2Fo05Ubcvx7OFv6VMOk5nhehUTyJfg9Pg9v4+qfNGP/jmbqpb+AQPpE8d78jgjLDrglSkRxLGbm1Zi/oCv5SvzGE9nS40U3E0N6K0YQXs6uRqbGm1MNKJIIiTzeMIAsBmVYdOo+L589YOPwOogs9bgv5fHxCqVymlF3/hkC/P14cm4ZdkLQZJ80UEHQ+RnkM3Nk3kVfwqJCeXZoJLqiFOufStataNZV1seg3Vb8oyL5EvQW90cueLz7fiDhpX4lEbnHy3KeH1QLYd5ftoQQ5UpjOyvqrfGAdwcob1aMOTdCZDkOj6qIqDj4K4vih4tTyJG1ECM2XubFG192jm+CWY6abHNXJlFr+5RBr/JQbnm+5IXHRYZXsEK/3jyFIH24Ts/yJag5ehvB0TF8dN1LHSNL6q96KJfpubITwqQZt4MjiQj9yGvve1x4nEIy5UTf/fctohhD0McgPvtcoH6RfFScr6lATV4KUbRhgXswfofGYpm/GjNOpVjCLizuSv7indl1z5+4iDfsHF4Pfds+eGhzAj5dm42FsGPxAwWL67ObkL3sQNkKtayKGcWa7FJwcF+KyJCXFZKhK/Ik2UQmRtxKk5kkm+sShLBihaci6Lk+RcjiuJ5YvrDMwQSdBts1GjymrX4GmuxXOqCwU4MRGdvjTRRrm9hj2GGbnC7OYwM2Ga1Y6BqN/5YB6Jg15YLEKmK86eOYn/ozrgLvGVgsF/WmpyLTwTeolM+SlttfwvvDVNKzZthhibDC3ZktEQV7I9HBHX3LU6jFKsXq6b+bUsKC0YdfaWRM5yv8EnYZM9D9cgRR12dgIuzZqWTLi519EKIi15Itoyn3R9+cjo4ozvkYuDOjFTnqTCOaOJZ3rUn9sZcBX+oKQdfD6UygpCnRiTHkylOPs7LxL5Y5DYvg1P+IXMDiSiYUb743mRAqpUZxoI4ROqXXKfUHeKysR0br/lw6tRADnRqc+oZrwW1hbYTOEF4Cb3ZLOlVBaX1BLHAwItugMyQGHKZEDkemX0m9CCqUqZaCYr0vKQaI2Es4ZLBivQafAy0tKTpeux37ru9GpixNuJcIT9Z2x8SuO49lo6gv/RwsqT3xa5d6CqrqkYqAikASAj9IFJOSx3P0t+oIq26k2I18cc6egaKjD+Lp7YH7Y2/uHJ1OAZ18TLukDPZ7f6uEYe0pvPuqk/vEyBJmVP7tdIq78O0pKua0oc9exUJxfVEnMmSwZczWK991ayZJqH7/Kwj8AFE8MUW2DklWseZ7NL2z/xEKZc1ABn0TcuTQWJpzzpFn8MlSxLxmTL1iFBu4L/kU0Xeok1HQ4MAnCL+JY85ctN/zWnM9iq1OmclS97DEGthcyxrd+jPx8PXG1fUxL56doJoQ1F+mWJWvDi+D0K3CvAN3tFZspxSWcvRo42DsDDKRQbKIG4+TrT4XnGsi7EYg08GQBzQumo8aqx4Te2UaJnoV2f5CIZ0nJ9ROJ0Yxnk0t8pO7wcaUthn9hO4lbag7U1kFur5vOcyaLUi+7r2hJ5kzNORuIrze/RsWOSqx5sJ9PB8/xuvpbRbVzoUou0B+Hj6fm4GeMKLDrP08TzLep6jzA0ffIoqaW8PdaV48P07zNJZCzekEn60UkVy/9SpgXrQlx1+msuwlvmBQcUsqDdjII88nuHt4cGvPBEyFHUsfagupxCiWYJWHct53izO6pg24FhfNimo5viaK3kDYMfSEDr9dT2cy6LpIXnm/RfGs4rOuEcKsPy8IYYW9MZn6aqytfnvJLkyYel/jKneXLJH27Hz4mJ7lC1JmlkL6Yr23UyirNQsfRaVLFBvMugmhZyiV0ZyR51MR9I/XUxHFQzjpFmPCCSXO02VGG0S+nvjymcnl81Bj0GnZ+p0QcJiqwpxR6RHFiEeMalicbDqKa7Xt+TCib0zHSFTihIYrvdjZCyEa8yhVrcd47aZpMXN0Mkr3WXM8AiKvzcY0dyfuRb5kaJ1SDD2qPFcXplZHiBz0WP11HOHVOfXJWLw/jzWQbxpYAbMGc+XnSSKKDs12Kc9HctnRnGhvRaYyG5IJ5JM1DdDJM5bX8R9Y0tAaka0i6+99vZpcmyhKi6kaaXQKYIm9KaK7ZEGNYufAaghhztRzSeT2E5NzCYr2PK9MRD0V63I2YzPMcxjLluZ8rU7IEkY/2IijkQ46suerFffiYP9vVTCqP50P0hgU94LBFQuoMYrJ9akeqAh8H4G/RBQfru+BXvZKbH+WauAIvUhR6YE0MCGHiRGGhoYYmxhjbFWfpecUQiERRf0aE9JZMfqUlkLQerF7ipRhrjSzz0eFuUmDVyKvrv1B7VySazoLds0mcvm1tusk5Wb16F9D4AeI4vGJ5BYmVKxakIw2I5DHar/dGAhTRpz2I+TDW974+xMQGJJC+iVhQl3pXCI/TebdSCWaPxONBcZT3SD6NuVy5qTNjqSpRyT7auihW2W/ZHOgf5nciIzZMDc1JruhIdmzG2Gapzh9Fz1Itlze3TSWCvn0ECIbtQcsw/1z6sA2qdh4XOc2Qhh14UZkFA8mVEcYDkeyWclE0fY35CEt5L5MFGuu9iD28lSM/5QoBjPeXODQ53KKzgkfGNekGPn77pD1/aNfOUybzOWjhrP4bO2HvqiLSzzcXtRaHuCMzEwxyp4dw+zGmFkYk6/i8uSBOfbFebo7Wcou+xwObdhyN2ngTAXnNw/DWNixFDnbr0x3MQshD2lib4VTWovisx2yW1fo6pG9eCeNdV9TSNQNmknPu54JpiZGZDfMjrGZKcaG5VlzX9uMlEQUV6YiikYWTXAhmuVVzLBvuluR6/EyxaL4Q0TRDm2iOICXGqKo00uxgvFyD4bChGn3NTNT9+WyS3fHfXd6lLOhbHpEcXN/MuZIsSj2dSxAg/9j7yzAssjeNn4AFVRsDBQkTEBQQkRF7FZEsbtr7Vh77e521+7uFru7EDFQQgRERQGR5vddM/OSxrq77vd3d+e9LmXemTl1nzPn3Od+nmfeqZchdB8lhQHDzyb7ukkqeEaiaMHIg8pcd3WSO6JoV3wIZbiFATX6HVOIYvAenD9HFONu08AwK84TL0DcHZyyCtyOh2uIYkUOaKwyClGsT/ILeeI8l1JUFGHc2VfEeS5GX5RA2ncRfZU6htWYtGUV7S3qcljZq8udF+AxhSJCj4bL0sy3kn/h1Dpo2/TiQRqimLfetK8QRXgwpwaiwGiSt3cnB9mQo/xykjXA45Pc0NUuycyzaSoAfEoUk9sULBNFrY57Ukaz34Gx6Atdum+URIMPsqKYQhSvT5LJ/69XA3kTHEhgUDARMdEE7BmOlrBnW8BHAvcMJa+oy9U42DGwskoUU5BVD1QE/hgC304Ug49Q1bAY3VZn9A/0oZ9xZiouTZ4yPq3Ati8SxQ9MrFKYsl23kUw9E322YZOnJEMPf5pfdMBFhlcyRNhMSfFRU0qL44HHHvacepiSz6e1UM98GQGJKGpT2P1Iil+pdG960/NwcuZpwEm/8zTIlZdOm15IBidcM2vjtltaob7wSQhmmpsNRVr9mnrDOw/shDYdT0ZD5EUcMhDFbVX10HWWFMgY1rkWI3tbiTT+/icm+DKtzbQp1WFDelUz8SFdDARlflPG1JXBFRD6XyaKVRfdhxdbsM9jxYxLXzc97+pqSZ7Ks0jRmyKv0qy4Ke4LFOVGUhTTEsXH63qQXdThciK82DmEAuZNuZQ+RuTzDY16xqZ+Dojsbtz7RJn/fBIp0GhJJynqebHGZzLDfeF3aW5tSoXZUvBH6kcyPZuKYky5cI/dQ6qib+7GVq9khe8ZfW2K0Xjm74clK6ZnC+bfVTZ2F6a4kt9pkIzVsjoFKd1wo6zq4jkXoW3EYokohu8ls8jE8OvJM0JqvZJNz4u9lXOn+1mi6yC5OoQz3yIXKUQx8R5uulq47lZoi2J6bol34gcWNShNzraKiTqt6Tl4az+y5qrPSbmZT+luW5R6su/mM9oX0MdtXjJFk/wh0pqeJUUxI1GUFMUEljW3xKLNWqWNIZIfXf5PTM9RHoMQ0sZBalLSVcpl+haiGM+ZPlYI87nKBuXmLHRFcXbKkSDvWNekEkVLWFCt8twUIpeM4p3xVRAWU1MUbun8y/1DyW9YlxMyF45jWoNSOPVUCNvsirk/oygCtyYjhAtH5B1WGNNtclJ2YhqMiGJi7XI499+Xbuz9EaIo1W13T3tMai4lhih+kTZlPSV3AIk3HqSQyMO0O6kBNvCWBQ3MEG3Xy7f4b+qDvvSsJcC9RW3JbdmFB7ILqw89rQ2pOVo1PStgqv+rCHwdgW8kihGscSuOrkln9t/zwefxQzwfPOTla8Wz3297b7RFPlqMXs7hk6c4un8Xu/deVFQaYOtAJ7K6jMTvM25H3jsGkV/PjC4zt3DWYyvdHIzIYTsIL3ltieDgusXMWL6Pu499eO59lrGVCiAsfklVcKT2hRynpqRyFGrL6ZDPLDBfx0C9SjiLLLTIU2Mxd148x/uBJ/6h4dya00YJZpF8FPcMJZtuFfa/hwsjK6JTZpCsKl4f5oAw7I6HTyivfe7hFfJJtAf++8eRS6cwnWZt5dyJbfSvbYbI107245J8FG3zG9AsJQgmiq1VspCp4mb5VT0Jd5ZiJLJQqfMMdh0/yamTB9ny2z4CZLIUwYGBQ1l04Bye3j74PbtIl5KZMHFbk6JsKJ3rz9gyuui220hY6A36lM+J0BsqL+Aevasiig9MURTrlypMZZkU+DHA0QRj9zl43txF/VwC4TKYgAzuj5F3l2Kuk4v6w1Zw5vIJRjUoSVajZhzxlVakJFZ0syNXg6mEasjgozXd0RM1OSvBFHmHfpLPokljfjt0kjOnj7Ft6TouB0sXk/DevpKpc1Zz1fMpz57fZ/sQKZqzQYqq9PsDN4kzk5qQKWdllu4/zp6dWzlyI63CE8Sc2uYIyx6cuuzBuq2HeCRx/idrMJLUqquKyXhzPyfymbiy95nSt9dX9ia/rhFuw5dx+vwZju/ZxMpjtzJs3iDs4gwKCYFl10Xcv3uQRmb5qD9Z8pmDU6OdEAUbs+vGbdZ2tUHomrNYfp3jDWyloI2pRwl4H5Vu48L9RbICW6HbGu5dX4eddhZab5Uo+mtmldRHq7PkriB94jjTzxZhO4lHbx8zy8UEM821R8s7IIQ92+/dZ0UvCc8czL4XT/zd5ZTUKUTXVRe4sX0YRYSgwVTFfWDv4EpoZa/C4uM3eeL9mPDAy1Q2KkgTOZhlN46ZSzLigKIoXpnQFFGkA5K75cO13clXpAbbH77h6pIWCGHMmIzBLLemyUEuc64E8XTXz7K5tNnxCKIvTEBfOLJPEwb8bGMXhKib0vf3plRHaLXk4ptg9g+RAkQKs0tzb9D23jJOVWYlG6pDuOhxj7D3j5lftygF2m/T4KT8SQg6iat5CdosusTbhxvkYJaJx5Ro5RmOObFotDlF4U5N6EPrIllxGrmbO3tHkTVzRfa9hYTgJ9x+HEDYMw8alrGg5eL0pu67M6V695ODWQI2p21TMHMsciE67SUx6Q3373sTEenLgMrG2PZXAqB+rZkbfdtxnPeXNm+xTC6fi0K1p3EnOIygx/cJiQpnWzc7RKm+BEe9ZGEHK4Sox6V4iL23GsvsRej461mubOhLNiGoN/54anPUIxUBFYEvIvBtRPH9KcrI/jNaZMqko/h4ZclH200aZyFJWzowg9rm+eUJSojcNBuzJyVyddtgZ3LWGINvcjRnuupEc2fXFJzySaZDgWXLqVx7qVmNEyM4vXII5XLoKflmzk0593GcD8yQUdIT+lsJhG4d9r34lKikK0798hkE3rPcXl/GWFtbikwWFB3lwe0VXdExaoO0aQ/eO5zcOaqyXRISXx/GJW8Rem2QbYWs7V+Pglklc2Qppp5PY6JLKSmeZyeWUNVQcR8oWWsYpwI0fRh8hvKFC9MyZSx9YFt1fbI5b04xl4Z77qRteTOyyD5HAlv3uTyVhYT37B3dHuMcmtdmiDzUH7wcz7CMpmdI9D9CI5Oc5C3jztDuVRFFRsv+VSf61kRYDFaIZdgNGlmZ4jJXeVfbh8f7aVk8G1nKtmXu5G7YNf6Jp5/xevA9vYwGxZSxX7DGUI4/VlRIibD82rMC+RtP55USjIv32p7kFHU5k+zO986LVSOakVPTtiwFa7H1kVRIEo8PL8HNKp8y9oUeRR3asz5NxHQKvF87ePeAqc3Lynlo5XRh3impA1M/Cb7H6VA2r3w9b7nenJN419N1mAkTxl3Q9GVCINMalSZ7pVG8kKGNw+vQQhom1007N5XH7fmEKL46PYd6lm7MGdeFrNqZqTpwAwGafVzi60t0szVA6FozZNlMmpQ0Y85d5bm/OMudLCILbhNPpFOjkH0NDajrWhtDkZOKfTdrrr9ktlVedLtpTM9y80KY7mZNJpED+3YLUWicdOEdB0fVRwgjBkyeRU1jZ2bK71EMZ++EZnIUbvUeU+lbrx4tJ2iIRLQf64c2Rk9LkL1IO07dv0itYsY02+ADgbuplM2KUQcUXK9MaoEw6YSn3N9v2DHaFT2Rn/rdW2GmVZQRezNGPcdz5Bc3cujko+GgobjlFrgdDePD+YnkFZXZr+kCn03d0RINuZncdUn+TGtZDu1cNvQf0o08woadybK29zKEKMVvydNzwh3czXPIbxQoXm0Ytz/z9vWgK2uobyRtoGyZst9b49YRz4xK+bBpsiW9Qq+pQ6TnZmqZZ0XksmfyUSXYKej8Mmoa6CG08tBw1BYCM2ys7s6ujZbuACRjsv+WtG0KYq51fnS77ycq5AQdSivj3rHrQh6uNf7HAAAgAElEQVRoHqfI+6ux1RNkqTcKP2kcvb/N5FYV0Jd8NIs1YK/UBe9uMq5+CbRyO/PTgNbkLtSaM7JHRCKe20ZRWFsH566zGdm6Ge6jDqa4ryTDqv5VEVAR+BSBbyOKn6b7gc7E8vzaMcZ3aEKLgWv5xD3tB6qpWhUVge+CQFIC0R8iiIiM5MOHD2n+RRIZGUFUrIaVfpfCfqBM5GAWK7alfzXfD1TBr1QlbC8OOc2YfjXZi+8r9/7FS7dnNSRb2RmfJXd/MWs1uYqAisB/EIF/AVEMZLZrDRoPWc2zDELjf7A/1Sb/BxBIeH2PMe0qUqK0FTY2Nmn+WVGyeEX6zzr7uxHg/0iYZKJYijWaV3D+6G2IDg/m6SN/YpJiODiqFvombVNeGfb31D2JoPMLsMhmzqgz/0Q2/fegouaqIqAi8NcQ+BcQxUQi34Z/Yvb6a7CoqVUEfmAE4j/wzOsml69c5dq1a2n+XeXK5Zs88csQef4DN+UPVe2a9LNxuVn44Jujef5Q9t/75te31lApt+IWYWjXktVX/mbyFuFF1xrW2A3eqQb1fe/OVPNTEfgPI/AvIIr/4d5Tm64ioCKgIpCMQGI8kVGfcaJNvq7+VRFQEVAR+BMIqETxT4CmJlERUBFQEVARUBFQEVAR+C8goBLF/0Ivq21UEVARUBFQEVARUBFQEfgTCKhE8U+ApiZREVARUBFQEVARUBFQEfgvIKASxf9CL6ttVBFQEVARUBFQEVARUBH4Ewj8e4lifBShL/3x8/fHz8+fV+EZfuXhd8CKj3iFf0Cw8vNbv3OvellFQEVARUBFQEVARUBF4N+IwL+XKAadppplHuUXKTKXps/sy+l/5UHuzRj2jG6Pe+81BKd7R3ESJ4a5YOGyjJf/xl5X26QioCKgIqAioCKgIqAi8A0I/HuJYkrj3zLA3IC6w059ShSTvOlhIBAl23AmOP1vRO/pYEb2EnNVopiCo3qgIqAioCKgIqAioCLwX0PgP0AUn9PLrAANfj7z2ZdyJ755ivfzT39Wa1+XEuQqPZ+g/9qIUNurIqAioCKgIqAioCKgIqBB4BuJYiS7OtfCzqkyVVyqUatufRq0bM2aB6m/mRfjd5qxXZrgaF+ZnxYd410aiCP8rrNr6USaNqyFc+VKODq5M2uXF8m/rxDh48GY1o2pXLU2g1ac5n1SmsRE82DfXOpVcaaylLZOB5ZdlH79/Vs/nyeK/gemU71KZWrWrkvdQQu4GxafLsOMRNF3/1Tc3Udy1i/1hbYh17bQpVENKlV1Y8bee58qlulyVL+oCKgIqAioCKgIqAioCPyzEPhGohjF9W1rWLxiFZs2L6GblS5C1GL3C4XRJTzbjpNBDqp0m8yGtbOoYZyHMi1+S1Hjdo2ojMhhQfshU/ht9XJmTZjJ1rM+MlLvbq/EMW9eLOp2ZfTPnSmdNTsWHX/T/KB9AlcWdKaAUXl+nr+Sdb8uZEzf7kw7/uwPoPx5ovj6jgerV61kQpvyiJy12R+Y3vQsEcXcVksJByJOT6aQsGHigYfEaEr23j6U4oWK027sElbN6k+pHEY0n342hfz+gQqqt6oIqAioCKgIqAioCKgI/JAIfCNRTK3762OTyJXZguUPkhW4MObY5cCw24EURS3yykyMdMuw9LZEs2DbwIrkqDVJQ/5S84JEFjYxxdh1MZGa0zF3lmKiZ8m0y5I5OIpV3auTr8YvvPiYNt0fOf48UUzOIXDrQLLmqsPBoHTRLOzvVppcJUeydukQiuStzOoHaYnkfVxzZqf5snvJ2XB1Vkv0zNpzJ1VwTLmmHqgIqAioCKgIqAioCKgI/BMR+ENEMfbpXuqYGFN7ysnUtsZcpoqWIEuxcjiVt8PWzh5bq0IIkYeBu57L920fVIns1UbjF52aTDl6RussWrjNuJ164f0NGpYqSrV5N+RzHx4fpX+jypgYlaBWu4Gs9PAmIfXubzj6OlF8srYvup8hikd6W8kR00IY0m2H0o6Uwp6vQ18ICpVxoLy9HXYO9lgW1kEIJ3a/TEsoU1KoByoCKgIqAioCKgIqAioC/zgE/gBR/Mj8ppYY1ZmGX1qm9vEiFYWg8mwPHnvd5tq1a1y/fp0bdx4REq6ojtu+SBQD6JA7C42n3koFLuI69cyNqbc4DXlMiOTRlYPM6O+OaT5T6s+7kHr/7x750MPYgMajzpPO9VGT7vGqXmTOVY8jockek8qFA91Lk82oEyP61CZT1qrsf5WmoCcrySay0X/LJbzu3ZTbfOPmDW7ceU5EstCa5nb1UEVARUBFQEVARUBFQEXgn4jANxPFxyvbkTlrHQ4EKIQqMSGBJJl5xXOwV1my2o3m9jsNg0yMJzYm1ZT7ZaIIh8ZUJYdFJ875S4Ex0Vxa2oWcuWqyx0/xBnz/9jVvIlJVutP97RGiM6+/Ge23/FLNDNtOG3kbn8THiLd8SK0aL46Oo2Cu8qy6/wbiPhIRrpS7v0sJ8pRZgVTy45XtEaIiv915ryk1iGEOhth1X0uya2NiXCxxiZ+jot9cUfVGFQEVARUBFQEVARUBFYEfCoFvI4rxN6guBCKzBfWbNaNxg/rUatyS2R6a6OP31+nhYIKBgTllbe0oW8aeNkPWpQSzrO9ZBmE3iGepQdIpIMQHX2JwXTsMjSywLVeMvAbW9Fx2QTEvJ75h5ciWlDK1pVajRtSr44JVMTtaLruUkv5bDq6t+4mC+nkobWmNTY2mbPZKZYoJb24wrGpJshUsQTkbR7r+sl8OWNndsgDCcDrJ8dUHhlVCR78aq26EykWGXl1Nw5JGFCxcCgcHO6xLV2boqospfprfUi/1HhUBFQEVARUBFQEVARWBHxmBbyOKcSEc3rGdLVs2sX7dWtauWcPK9Zs5+zwitW3RQVw9upeNa9eybsMOLj4ISiFNL+6eZs9ZT6LSW3dT0iaE+3NuzzbWrt+Ex90Xad53mMC7Fw/w2LmFtWtWs3rDNk7cfC6rfCmJv+UgMZz7J/ezfvUqthy/wasMgTFRLz3Zs3UD6zbs5MrjN3KOQTeOsu/Yk9Sf8IsJ5Pj2XVx6olyXbop5+5TTu7aydu06Nm07xF3/ZMXxWyql3qMioCKgIqAioCKgIqAi8GMj8G1E8QdsQ2y4Dye2bmbrjh3sSPtv+3a27NjHzWdKxPUPWHW1SioCKgIqAioCKgIqAioC/wgE/rFEMcLnAN1tilLCsgxlyqT5Z1maYvbVGXs88B/RAWolVQRUBFQEVARUBFQEVAR+VAT+sUTxRwVUrZeKgIqAioCKgIqAioCKwL8FAZUo/lt6Um2HioCKgIqAioCKgIqAisB3RkAlit8ZUDU7FQEVARUBFQEVARUBFYF/CwIqUfy39KTaDhUBFQEVARUBFQEVARWB74yAShS/M6BqdioCKgIqAioCKgIqAioC/xYEVKL4b+lJtR0qAioCKgIqAioCKgIqAt8ZAZUofmdA1exUBFQEVARUBFQEVARUBP4tCKhE8d/Sk2o7VARUBFQEVARUBFQEVAS+MwIqUfzOgKrZqQioCKgIqAioCKgIqAj8WxBQieK/pSe/Uzuiw4LxeeLNk+eviEn6Tpmq2WRAIJ7Xvr4ERcRnOP9Xvibw1t+XQDnPJCIC/fF7G/1XMvxK2kQiXoXwKjzmK/eol74XAhFvgngRGvG9skufT9JH/J778T42/el/17cE3gYG8Ord/2K8JvE++AWhHz73rMcT6utLcOTnrv1IPZBAmDS3hMd9/0olxRAaEMhbDQbhr4MJfa/0U3hwAC9Do/hvLkNxhPr68foHGRsqUfz+Q/8fm+ODPVOpWdocQ6P8mFv15MqH79OUpNjY/+jD/iX87lFfCIyn3v7SDX/i/EPaCEHOsXeAEMbnEYjWu/5EPl9OkhCXoFyMf8aIsuaUGrDvyzerV74TAuFMdjVFu9ZU3mng//aMY4hL/J27g9YjhGDAub+JiKYpPvF/Ng88o30uQYUeh/ldqhj9kT8Mc5o2fnoYQO8igorT0z7r0cTK7Oc21YSg5Jx7nyb7oc5401kIso688t1rFRdyjCoiBy3n3gXeMdzFBLv+B+VyxhYXFKm2hrDvXuo/IcMbuAhB/em3f4i184cgionhvhxZtZTTAX/DjuWfMCZ+gDomPF6LWY6idFvgQdC7d7wKCOav61EfWNWnA2PWPvghBvsPALOmCgqpK7fwwXes0lN6ZxGYz/AC3jC7uD6Zex76TvnHc3v9GFzHbkB5Qj/y6PxpzjwI+U75q9l8GYEPzO9gR4HmC4j88k2fXPE/Oot23Rfj+3tT6usdCJGFMVejPsnj+514x4penZmw2fv7ZfmHcgqgr7kB9Yac1IzfzyVOwnvDzzTqvpfvtD/WFBKN58mDXPYJl79H31lN06YT8JIVXC/chMBp+f8Kl8/h8LlzPgzIJjCecutzF//SuYQ3Z2icz4xuyz3lfB5dPsWFB6/l42nlc2Httg0Fub9UzD8w8X1chRatFym4/K8b8EMQRZ6sx1THhAXSGqd+/gcIxLG9mTE5663/8mKUlMjviROfVtwXdyGoPf7aJ7v0v2RO+EuJP63lJ2eSMrQ0McP3TxJ85UTS5yqrEEW7pY+/kvCPXvo7iWI4yzuUQdT+hY9/tFrq/ekQ+NxoSHfDJ18komiPYeslf2jjdnqMA5nNB+D1e7u9d3vR/tuJ4kOaCEHj6Tc/mQc+ae7fcuJbiOIHdtTOiSiz/G8lJr6rGyF0W3BNfpAe0kwIKq96+k2t/uxU8k0p/+pNyUQxrSr6J/L8TANSiOKy+xkyTCSZKKZo3X/84cmQ5z/p60PchTZt/olEMfTJLU4e2s/+k9cJTdHwY3jhdZ1DB49w8c5TXvk/4OihY9zxfafplRh8713j9NGjHDl8iBNXH/IuzS73te9tti/8ibwiPz2W7OfMicPs23MBv/AESHjPvYuX8H6ZZi/9IZCzHlcI+Vf71Pw/D+jYq9QUgmb7lJ1cSumh53A0LEq56o0pZ+fMhAtvIOg4LSuVIHO2fNj3WM4LqR8SX7NjQisK5c9FZlGAxr/sJ5pAZpUvLpu1tLQzIWpNQMr9xfmVuFoZk0UY0HqCxyeTss+qDoiS9Rk7oAF5hUC7WHvOvtL48IReZULHqmTRy0rxxmO5/g5CtrVDCCcOBSm1nlZeF6Mm25D1kcdLyCYKsOB+enrz8tRS6toYkklPj/wVenPKPw5ibuFmpotJjbqUNXZm3qEtVDfNi03D2tgUq88e/3CurxqObe7c6Onq49BxPoEkscEtH1o2cwiWi/ekkhC02xcMrzxo51waHe2cWHdZzMt0C7Y37bUFBVx70NqpMEIYMPp4KERdo2o2XSrNl8zH8Ob4zwhRkTMpz5rSxutrfqKkkQGZRBbKtJqHj2wr8/mMonhYSeB/kgGNHNDJnB2jqoPw8Emeet9zatEQyhXJjjCwZvqlUEJPzKFCsbzo6GanSLVh3I2Ea0uay/0ohDb5iriw+eoN3IrloMiwU/DhNC5WRtTr3ZMK+XUQwoJRu5IV5ETu75qIdVYd8ljWpbJZIUq6LeatUivN//doKXSp3m8YDSxyIUQ2eq5KVloTubN6GBb5c6NfqDyjDjwn9s4csok8TLik5LJ3QHmy2/6Mv4TB+5NUzqpPt81P0pVw8xcnhFVLBnWsgp4QFG+9gJObx1LeUBehbcWsy6809yfis2sSZaTy8pdjwIYb8vlF7RzJb9WabvVtESIXjUeuYMOCgZTKIhBFm7Lj7nslfeIb9s/oTLECORF5yjB88yP5/M2fbRD5nWlQw4XWw0bRLpOgyMhrSppnSxCiKKu/yBWiWNjVgezWjRnQzAkhdKgxapesenktro/IUpPTsrDrRz2JdEy4xMMdg8ilI+Q+09F2YcHFDMpv7FMmNCiOjo4pzdxqoaWdm3HXpEGWwNl5vShukJOsBpa0X3peqWOa/yM912FpUYo2g7tjoSsQeuWZceKZckeMPxvHtMIoTzayGLkw9aA/EMCEMkXlumjrZELUmZLOlBh1rC9ClKVr5yby81686WyeJ+/Lou/Tr6oV+bSzUsCiHceCEiHqFjVNS1KxRV9qm+ojsjsx9biPXP79+S3luWCf1NyYB7QyzYr94KOyK0a/YvllRVG68fnekVibFCSz0KOwy8/4JMVxZlw7CggJMx0yWzdilWcUxNxlQLUy5M6cC/OqY3iawSa9sVtphFV/nklzYNw9mhbKg+tMZcw8WNoKPYNmeIVdp6oQ2Cx/QJDHZIrnVvolUxZnFu3bQxsdLQrWbY+bgzQP5GD4Dt80aGsOX13i52ZO6GTSI1seJ8btfyhfuLuoJxYFKzOkW2N0hCBbuZ6cD4Z3B3ohhB17ApT0i+rnJn+DDSSvyHx8Si8bQ4x77pBviLy1lHzCmoWekTzeOohSRvnJJHSxbDaTJ3KbnyuK4lSJzIUy0UAgXLfIaSNOj5SfifXyBPiOI7P7UVxfjzxFG7DwuDIu3tzbQquypuTQzoptp62kXbqTiWL3FZKq6k9bfUH57sfkvGc45sLGfQ/wmhEldCnccaei9j4/QGN7UzJnL4Bjn1WEfsHFMyLQC49jRzh++joB71NJR9yHV3hdPsfxo0c4cuQ4F274EJWBhCa89+fcoX0cOH6OB4HJ86WCJ8Tjc+s8hw8e4tChgxy9cI+w1Ow1N4VxdFZvSmXXR1cvD1V+Wok0fAk9SQ2rItTq1YOKBTMhREl+3q4hyYmhbBxSlyxaubFr7kpxkYuOi/9hiuKjveOxMbPAoYIjluYmlG0ynlsSfrFXqVswBzlLOuJoWQ77ijVwsi+BWeWuHA0E4i/JJCRzHhMsrYpToKAxFdrP5F6YMhtcXvUTZS1M0BGZMLN3prqLE+WsO7D90UeIukfrYnkoNXBvcg8RuKMPQpTheLqFN+WyevBnEAjYQV5RiKm3M8yEYTdpUi4zwrw/ylITzFSXUlScfJ6E0NPULV6BIQf85AXG/9kTgj8k8dJjPHkzWbHsvkTVntFS8rOYcElRoqI96eZQmg7Lb8H7I9hrmzDzTnoS5797GFmFwH3VHd48PUxjg6xYT5Z8Y2LY1q8exs0WEhPvz4g6lWgy7RK8P4yVdgEmXJXy8aWpEBRwnoi0RL3b3xu9IgPwztCsqMAnPHz5noSQy7S2MqfyhLPAE7qbCTI7D+eRNDTfnqKxgSBH41koNCCRoCdPCQyL4fXtldjmMGfMiTeEHh5EjkLNuSg9CyHrMBDVOBnxgT1NzMnWcROJRBEY/DqDr5g37YUgR/khnPd/wfnJNRB5O+GZGMve1iXQclsn9+KtKc3QqzbxExUmLOAhj0M+Quh+SgpduuwPBfw+JYq9jwPhLGhqj1GHVSQmvmRWI3tMOv4m5/9s1xiMClRk1uH7vAoJICQino8B3niHRhHne5RaRibUWyz5DoWztKMtot4vhEsTaoQXbezNKDfpEsRfp0UhQY5a43gU8oKVncuT3a4vjyXeEXKc+samtF54jmDvrZQT0iKwPsPm4DE9MgkylenPuRcvOT+1NkKnBdekPvBZRwkdB9b5fcRny0/oF+/Ls2gvOhcvRuflivlhuosWonhLLr2DpAfLsClYid1+6Tv8wQI3hMjPiINPCb44XyYERu5z8Hr1mIX1CyMc5ijj03c7NtpWLPOJJmD/SAoWa8/dmCS2D7ZF6FZg1dVAHmzvTy4hsO+3nsCQ+/QqU4BynTfLal/oyYmYm1Rn44P3vD4zkfxZndj2Op7Hc+oiRCF+Oa2Q2ytjKqJrOZc3Erfd0wVhOALNmv6ZpzeKJd2tELpVWHvVjwe7R1JUvxxLbkfju6kDwrgFl6WMeCn7qNafoqg+HqMroG8xiHvvM6yAgOeKluTM15SDj305PbG+vNBPvJsIDxdQQDiy4dlHQk9OQS+rE9KeJ+3n47O91MwhMGg2j+A3T5nhakmOGr/Iz4j3xv4UtWrO8RcxeK3rTSFjV47JHNxTfi7dZlxTNnBpMow/PxppA9Jq9ile+eyivLYuzdc8l+/w6FyMzHV+5VViKJvalaVAndUk4kunSnkQhp15+Mafld0qkcVmkLxRe7aqF5nzNuC4BHP8E3qVN6HOeOnZDiGZKEqcIjr4IQ9eRMK701TT0qb+GomcfWBb3XxksVuG9DRBLId6WFOoxUbexz3m52IFqbk6/QbEf89QChrX4bi0Aw7cho0QOPZX/IL3DqlBGXfpOX4qq6kuK5W0T1a6InK25pLseOdFCyEwcB7FleAgTo10ROj35G5G0hEdwi2vABISw9jUx4VMtoORYH2+eSD6Iistl5zl7dMjNDAuTN3JlyDmPBWz5mWIhwTEa3oX0afVtrQjLBaPoXXQqvSL7BL0fOMgjOy68yAGPgY94lFwFLw+hKXIQofd0swfwEDJ9CwTxXfMs8yNdidlTf54aSqZREn2RUDEiYkUNGvKqZBILs3uQKlqw3kJLKpvjE2HHYQlhPPUT3kGkodAeqIYRN9iBag3VOozmOGYh/Ltd/Ng109kM+6I4snpyzhHU1zm3CQ+6BguRR0ZdzLDIJVQPzaXWmVMKGhWArOCBTBz7skRH8WpwGvjUAyFNoWKlaK0WVFy6pvhOtcjuUpEeu+hRWUHrMo6YG9jgWGpBqy9l0yzY7i1qAdm5lbYOVXG2cEK83IN2ZsWXjmnWAIePCLkQywBp2Zils2a2VfCIfo6bQwF+jXG4BUcyJrujmQr24tHCRB6ajyFC1Zg4VkfHm4biBDZ6bLkn0QU/bZhoW/B6OPJHfKIVgWzU2/WfYg/RylhxJyHkdz6pQ7CeghhcU/oZm9Np6WPIOYEpYUenXd5E5sYR/DdbVQ1NKTexBMpfmvvbi7HWMeU2Tek1Tae6OholE1CNHv7OyOKJxOVGI70skeUG5/SqerBd0DAexVCFGTOvQyLSth16pUqhMPs60ohzzZjouXMfo3CtbWBPSUGKY7HKbUI3omjyE0/eWIKpa0QNJymKGRxN+djXqgeFzQT4RTHXNSend6c4b97AEJU4rKc4TuWVyyMaLkV8KJ5qUoMO6rs7u5NaUfx+jOJJYS+Nka0Wu4D77aTQxhTzK2VvFjcmeZMrpZ70+1gU+qpyX9aw2Jot/pVJoodjQ1pNlkpOf7lYWrnMqPP+vSLg5ws6jLNihXFbd4deHuQCvlLseBhAvGneiKKTCaMJPY0M0HUmv8FnyjF9Fx2tmYnGXmAQiIbkx7EE7GnByJPP16TxCr3GlQZ+TU/wwA66gqcRkgqxgv6ZvBR1P3pJERfoKqhNUMPK8+uz7oe6OTpiB+xLGxli0X7NV9w8A9kiFNBMvdQVIfV3ewQDaYo7gcfHtAqhShewdXAhC4rFOL2bF1vsuStz8lICDv8M/kNa3FcJgvxTKtjhE2HNZ8Qxa6ZBKWmahz6789ECGt2hsLjGfUQTguVLos/h2nWimx+HsaStlVwHiCNuyf00s2GlpkbS+5GE3pgKKalRmgU1tSe9pxfH6HVDdnQH3+DSroCl62Ki/zjhY0RojsSNXm2uCWi1DhNwts4FKjIojth7BzohH79yYoi82IrjsKQcQoDYtNPFchTd7JMlI4MtcfIZa6GaDyihUE+um9/wv0FtRBZ+5MsGsZcHId+NjckTfFqr5Lk6asoKKk1Tnv0gfkdbcnjNlchs3EP6VSuNO5LPfHd3OlTojhZ8SO7NMGJbBbDeKrsx9Nk+IF5Npko3v+Mci50K0JkZYp3JJ4SUbGepjFxe9E6h6DW9uQ5X7n947OdVM5agqF7JRUAbs1oiTDugPSUrO5gjXWrDUo933lQI685Iw5Jne8nEyL3uRnNixB75mdE5grslRgFsLG5GUZ1JLXKm4a6WWh5WOPbd1ZSrhpzM9SXjg4mlB6n1D/iylwKCWd2h0LAut6/SxTTc7A3TDAVGLdTSMKBBvnIbLdaqX/Cderp5mOUxh3Kb1pFRI216Z6V6Ge7qGxWgfm3Y3njMZocWgYYd53EW5KY3dyKurOlRf4JjYWgym+KuvxyQ1NEjnbckRc4L5lAOy1SFEKujUUIR/a+ULD43P/ey9qio1Wfq0kQsOEn9LLX4ZC8UYhkYjNrTLuuByIZVaU49eSxcI6ywoL10n4+zSfo0M9kytpc7rcjw9wo12pJBt/MF3TPLnAYclXehAz6KlEsxdH3cOCnupTqLs3V0nS0DZuSDTn0Po4VTQpTpOGqDPkrt32NKM6qlB8b577UtKvF0ENKA5IeryW/qMxpJTlrXcpQZmzyN83JaE96lCxChV5reRkZQ0TARX6yM8Gw4xr5htuz2yAMmuARGE5C7BtOTG+KEPW5LEmdMQ/pX8We8oMlJVP6hLGxjSXZqi5CXnk+XsZJZKLDkWQrQizvXgXx1RdYvDpC1YImdNrwTBbWmuU3puNi5Vnw39QP3Tx1OPURTgx3oJDzLM38IQU8atP2n2R6vj29ASKTM5NWLGP+nDksWraE1tY5MHRZwMd3FyijU5SFfuA7twnCdgRxvGFoZVtaz/KEmJNYiBz0OZFq/rgwqRGidGck0VD6xHmtxkjblAWe6ZUA6Vr0/d8oKkqw4EESxN2npZUlDZZ8f6dapSb/0f9D9mMu8jLmevpplLBr1C1pTI2FCpkLPj4ZE8ncpKWNlpa2bO4wGiuZdsDHYxl1jHKiI5njhAlDtkgPdoiscjTQOEH7b+2iMUHpoCWZeXRN6DQrvd+S/+7+CFENaXqSdsPLnYxkohgXdow6hRWzjba2Unau9nNlIrahdy0q9drF/d+aYTJiG2N/6siE07dYUr4AbQ9/Jmbu/R0mt3ZECC20pXq0Xwk8pqORES2nKiXHBx6mVs4S9N+UvLzD+/t76FTBWG6/tNtrMV9a6t8yvIYdnVZf5XjvkphOVEgxHy7TtIAgk3E79jxM3o3KjQKSg1mSnXLv4CQETaRFOfoIJbXKsvGeJx1cGs6dzuEAACAASURBVDP6yKerxtuH++lsZ4xeFsnUq03N4VI9AjMQxRzoDfDgg88aSomyzL+uEOyQkxPII5zZ9+IhfcyNaTFFSpvm8/Yq/WtbyPlK0bDafXbKF1d2sUXUn6Rs4CLTE0XJGb27hig+Wd2bLLnryxPfzdn10LPpjZe8kY9hRiNTrNt/hijqCErN0ZCIOwpR3B0Yxp7W5RXzqY42WjpaCGHJ1oBE7s/tjGWjmby6Pp/SVr8wo3tvhvx6k+MTq2E98HTKBjS5Vffn10No9UJeqqOvUTGLoMZOeXXFa5FCFKXReqh71dTytKWxVprld8LYMbASeepPlRXAeN/NVBBFGHtM8XXY0NeJXHUmy4vgTMdcWLluUxYUXjGopAF1RxzjytxaiGzD0BhoIfEGDQ0MmHHpOqOMrBh8Mr3Kklxv5a8SzFKw+ULFfzjhJYPrWlBq+BF8NnX+IlG8MN6JbKWH8DjDIw2esl+c/TKFuPB6p2zun3HHl/VViiKaKmq2NJ6mFtYhS/9T6arz8dkOKmUtzYh9ioRyY1pLRJGOPOI1w4rnpnrfE8rmKOYO7QoXpsU0aa72lYliszmSOp3+E3NmOCJzZQ4ovJNT48qT03Ysfg93k0PkZvIdzeb14TKEKM7KK3fpUqEYthMV1Sn+yRZKZzVmyvUPBG3o+ztE8ZS80YkNPMuAKsXJlll6fgRWbU/IldpfPy+ZbFcqquezTeSRzPda2mhraaGlJTCpsU7Tt5o2xDyhV6Wq9Nh4nwNjq9Jg2nJqNu7P0ZC79DUzQRnSD2mYhii+WOeG0G/LLdn++kAJZpHNrtKu4ReEsGeXZA5J93nPuUU/kV8IMskuBU25JhPFvujmrsfhUAmjd4xvao1R51VyypMTm1POfQkvz4xGFB77qWIdfo4K2S2Zc82HCe516LpCUa7ePz5ENwcTsmqwqTpIsua8ZPBXiGJmYcGhoHBmtCmtPD/a2mhLz0/OpuyT+vXFARoWyoKuZSfOh6S3E3+NKC6orifnJ3K34IqGKwQeHEsBCQPt1DWo5BTNpkeD2VuPMeTSK8cW31ThI2B7P3RELaQttdf8dohCrbmhyTPp8XqKCmPmeSURc3MJFlmNaTFyJovnz2XuwkVM6Sq5nFTntOzPFMXxIdUQ2crRY8JKLni//MTik9x1725spJGFAUKeu3LTbfNzmSg2zW9Kl8XKxvjZ+n7o5qrLmbiPzK+YhzKNt2viBO7T5J8VzBLL6b6Sb4wpjdq0pGkTV1xdXWnarB1jF5+Bd2ex1DZmvk8Cz5Z1waD6JGIIYVAlW9rM8YRYiSjq0/uoZsso7UIlRl+kFTc14WUSGSyiZcKC+5/MarJSMqlSIYoOO03ss/VYGVVjrbLyJPeH+vcvI+BFWz2B/bxk4qLJUEMUqy24KZ8IPT2JPMKBbc+jSIj+QGREOFHxEOW1iUpFyjBA9sm6javISd9N0myXnii+2NodUbAhR55HER/9gYiICD7GpJ84FKJYFeVFDKEsdyoiE8WE98dxyV2awVsfQkK0XHb4B8XbxWvtz9Rr2pPJzo6MvhTMoZF9GTh4FDUy12FfRo6WEMD0JmUp2HIpkMQaSSlzl44VothiilJyMlHst1FRFBNDztCqRClcZ0mTUhD9nIrTYPpFGZc9w9vQoOMIfspfgjF30mx2EnyY2MSaPPYDuafwNA2wGqK4WKMkcA07Ieh6RCIMYUyxKYjLL9No2LwzB/wzOCgmPqSjeUFqjpLMyomMzS2oMOQLRLH/SeJebscmS1lmSrZZaco/Mpqcoi6nwp4zwKooTcZf0NRJsrY94WdnM0r22y2rEjMaF0Ori+KL9HtEsdsKxa/w8epeZMmjEMU78xqhbdWNu7IoFMOMxl8hirM1iuKdGQhhw+6gCA42t0BUmi4v3FGREUSEv5eJ6ruL8yjXsCe/Tq6P9cwbPFwziLpjpjCtWgn6emTscJCJokgmildlolh9h+KP67WokawoSkTxeBdHRKlhMhmQy4uQfKMTWdvbkTz1p6QQRUdRmLFHFaK4vm8FctWZJE/uyxsYUrrhBo2rwkv6mhfAbdoFrs+TFMWhKJ50Etwfmd68Ao16jqS4cRs8NOJEakekPVKCWQq1WKQoMvH+9KtRBufJ5/DZ0BFRtCVXZJ4ZJKv39TWK4peJ4jO6ZhaUm6sxab3ZhZbIynTPIPY3NkfUV9wSJH+x0QUFBSYoPnfJNVKIYil+1tjarmuI4mMimFChEM49Dymq28cbtChUlE7yGP8dopjFmUOa5eHYMDvy2c/mzcsTGItcjLqmmR/uzZd9GXfc86KzYzHsJ5+TqxTzcD3FdSxY9CCWwHW9yZS3ISckPBKe0svRNL3peaiUJpIRVnkp22OnvMCvtsmEcQtF0U1HFH23kkMUYOzFdxAbRUREOJGRGf2dotjVqzmuY2YyyaEy6x76MKFmB2YsnUzVvF24Llfd8/eJ4nLNPHBFIooO7E5HFBPxXNoZkbMR0j7+1d6h5BF1uJQoKYp90c1Vj0OvJEIUJhNF404KUXx1YjqOtVqxYEAFjIYopDq5D5W/r1hob0b5qUvo6VqHRbILkC/diuWn2ghp85/IpPwC+/6ShSUtUQxjTuncaHfZL2fz8co0JKJ4ODiSaU3LYdx1JR9j4/gQGUF4+IdUi0r4PSZWK0Lm8tPk5yi5Ll8jinOcc1G4TBNqFjWj2hRlnnp1bAxZRQUOvIon/qO0hoQTLi1CaT4h+weilbs8u/1T5fSgQyPIKqpwJh68F7RDFGzJVU3oQ4znKoy1TVn0KIn3p6ZQQuhiW68J7k3dcHVtgluzZnTqNouHMlGUCorn0uYZtKtWFmMTcyq1nsKdDKHZcb77qZm/GN03SWKZJy0sitFu7VOIu0rT/CZ0kV164Nn6n2SieDo2nt+k+aPBBo3FRXLX+IdFPQdLKo9WIz6r40V4UErLiFkPEuHtc254BkGiPwPSEcXcDLqYHJASz69ty5G71kRCNf2Y+HgzhTMZM/3TDafc/e/2D0Dkqsf4gW0pW3cMfp/wyShOLJ7A+OWnPytvpxlD6uFnEUjiaPfSiBL9eJCG5/D+uqwoJhNF/HZjpmPMhFupD6CU3f3lLRHmTZA5UvxZakhEcbM0272UlYQms5WJMMFzKUbaJfntUepOL2N1PksUm2+WTThtrEpQWxPokTZd2K01NHQshKFw5ZLkUbN7Ei4GOgjzcekmJSlNot9B7POYMtRDGo/xLGpl8TtEUVEUA4+OpaCozH55UX9MZxsTGkxXJi//g9OoaJBZNl+kX1Yh6dFaShi6sNI7LVNUiGKZ0Ro1L3AlmYU5qzRM4vqMWgiRE7u2U/HPuDY9XIy2KMgy2Y3rA/31BE5DP0cU9cnS9yQk3qJu0VJ03KaYbu7PbY4w780bEljW1ppCjeenPjNPN2KsZcp8+W0d7xhb0wghE8Uklne0QbjOVGCP+lRRzEgUT0TC28NDyJPPhQOy9TKOqbWKYNPxC4piOqJYhu0h8HyJGyJnD40pJk2PvzxDXRcnSpubMFkSIh+uxdLeEGPdepz4lCd+A1HsJpM4vzUdEVrNZL+q1NISWd3r94jiRNksfX5SNfI4jNOkv0lNPX0GeATiNb96BqIIl+Z2IJ+kZlcem2KKD7m6mX691mUYs1Es7GSNdl1FtZR8nNzMLOiz4wUhe3sjDBtyXl6kXsi+cMnq/dnR9mS3GsWnenQMK2rlxch9l+JG4LdCVhSnPIzGV1JeDX9WTOxx13DJnI3Ox9OvgJ8niu1ltXZ73wqYNV6sKHLBu7HPYcKk89ID80RWzlot/jTKP/bsCDmgaIPilsji6gaYd5A2QQH0yC6oskGxRL3b1wOh3YHHH/zoVN4Qg0FKoNZbj3Ho69XnXAy83DGQHPo1OSZX2YceNkWoI/sfa3wUf74sK/b6QjBG3pfEM7eEoKhMFJPYXSMHmctv1CjS93HPJKi3KdUSljomUo+erB9MmQrFcCo0RHZfuDymDcXy6WHqrgQcwf10RNFvVUNEzs4oL8R5qHk9zteIYghTaxkhOiobNv+Nvcn+VaK4Uql/8HmaVDVGW2Rl0Jm0c09q3b3nNkLoG2BbtQ+3JBLk+xvaIh+L5HkoiiE5BQ7piKIEWhQrnXKj7aZYGmIvTCKzKMXhCPAYXA3diuNSyWFqUcrRowUIUYW0Q+prRHGGY14qdNyP186+CP0myA5Q/lspJIow+9OhlFJa7PPtlNcryvADqeLUsaE1EcUHyM/a/XmfIYqSUCXpJP57cMxnw7CzGrkxJdcvHERcpGkWgdPwS+mUxScbeqIrGiicKfIyDU1NabfW5wtEsQ4nPsDF8S7ktB+pUX8lE7cO7f5ZwSwvmOCcH5HDnl5jZ7Jw4TzGjx3BHmkNjTqBqTBgyu005CH2Gb3tLXGffg/iz8pqSf4KbZi6aAljOlZCS5gw8lCKIQai79HZJBtZHbuycMUCxnYdwbaH8jZZ0zvBjLDQlv3oui1T1K203Zb0Yg8O0qSbrSH7A76xg9NmoB5DxAVqZRfkt+vE0m1b2fjbbgKCblHbrACV5iSbJ8PZ1c1WdhvYfeU6p/cdx/sDvD03A+Ns5gzZcp7DMyV/jzz026CwnomO+hR06Mema9KSFcqEmsUwqjKMI9ducPb4ER6FpSeNftt7y5G+EuGDVyy2NUA0VHxLrs1pjchdmZWnr3PphAfXnsrObxB2m3a2WogSP8uTVKzXZmyyCHIO+Ix/X+Q9upUpTLH2i7l9ZiUueQXCfZnsE9U6vwFNJiglx704gItuUXqvU2akj95bcchRlOZzjnBhfX/ZDNRwhkIUk4JO0dBMIFzmaEZSGOd37+fM1WusGVwP4/I9uJMuqMCL1tJ4NajG9HVrGeyUg1yua1MIQ+LdObLJpemEcxpf3TQDNPIsFTNlos7k3dw9ICkQgsqyeSiAHkJQZIqkFL1munFmRFdlMT0+ug6Z7Xpy9sp+Wpa1ofEsRY154TEVE5GL6gMXcuDYCTzvnKS5UV7KD9nMtYPzKCe5GXRWFqgL45sgsjmx5MAlwt5408KmMJbjLkDcRerqF6bjEsV07P1rV0TWmhySBLuIG7SyMMF54DpunpxPScnZv0fyjjm5Td50EALT6RqT/c0psolxnUQcok5TSy8LLiM2ce36ObYfvqlZhIKYWdMEIWogO0VEXqNuQYGwmK1R85LzVv7enV0DIbogL8cfL2MvYbZFCVnwnCcFmrRXrn24hHvuLNgPXMe1GxfYffQm0kuhVnYrR9aaE2TCGvdsA+VEPkYcUmyla3rYoldtrBzsFeO9ESfz0vRb48GBqa7kNP8JSWd9MLkCQmtAio+iVKu3N5ZiLQXFjJNIkfQJY1UdS7I1XK75nvznAwu6lJSDYXrM28yCHi7kL9mOC9L0+Hw9xYQW9UetZNccKfpf0Gii8qwGbOuK0CnJiJWnCYpOr7gE7R+ItjBl2Mr1TKhpLBPFMTcSIPwIlTMb0nPtKQ5MbY4o2iGNCqrUJ+rpVhy0zBi8S9l4XJ3YFJGvBfeT4O2FeVgVd2DCnvOs6eeCUcWxPJE39ZGMsdOnSMWBbL6aPqo3/sIYud7lW05l+7I+6Akz5txSVPSnS9wR+Tuw9+Ih+lgYUXmy5BbiQ0eX/LKJdtnerbS3NaVYu1/l5+Sj9xYq6OemyuBf2Ta7AzmFoN4kSU0LppdRDmoMlI59cdUV2A7exK1jc+Tn2MxdmScezpY2aNVZcOKOrCp7zmuEyFqHZUevcPX4bs76Zty1QeKTbZjrCbJ1OiADFHZ0lNwe1x3Jvp13qS0EFZZpyOC1iQiRjz7LzvIh6prsv2i7WBPlf0lKa812BVrNAIji6NAaiIJunL57iZ8bGCFEXS4ngt+aHgi9GuwPkdbet4xpWJICbVdo5oxQ5reSTMGVuZpmaU4eVfLfZ7/JdbXtqHl3ZOwlKutoUWP8Lu4ckOopqPCTZDUJpJ+OpC4rUpHXvIZyVPX0bVsZUccMIQzZI3FRr7VYZjWi1fRd3Lp+jmOXvYgnkctbVnPi2mXW9amAsB4nB+Ik1yP+9Ul5/ui0RGJpgfQwykmNgYrP4ZSyepRylYKDfGitJyg3Xhrb0Wxvb4Gw7sO+q9c5tecYDz/5WaEPbO1XGZ1cVgyYuoBJPWuSRRSixxYF55szWiByN+VyhLL2RN/7lQKiELNkx9EYTkyUgt9y0KjfZBYsXsSMkX2YdEyz5Xp/Cbc6bZi4eD17jxxi78qRmAltmifvdDQNe399GaY6pvRdd4Zj8zsgbU7arfeBmMs0zFmIdvMVd66nq3si9Kpy4DXEe66gZKa8tJi8lhX9KyKEHh0WaCwtyYD9j/7+gfcoRnN04SBqOFhRopgZ9m3Hc0F6FqJv0b6qO5vTek3HBbGgbzcmSSpG9Ck52tG6SXNcKlhh7dCBzTeVSTpdm0MuMbihA+bFSuJQqxf7H6W3xwRt64Io2IRTn0kqTbJzGhVBGDTlZAYfiHRlqF++jkD4PRb2dsXatDC2rWfw5OVTRnVswYCdaV8IG82hWd2xNSyCVZXeHJUnzyTu7xiPU4lKDFy8nnF9ejLviGI/ifDaSTsnC2yHb1Z2unH+rBvZktKmhti1m8L11+lnseCzC3CxHiAvsFK/7u3tTqUxRzT1TuDRoZlULFyEknbN+e1sso3mHTtH96H9Qo2JJfop4zr0YN6Z5Mk6fbMTX56jf7UyVOw6mWVjeuI2eS8k+TO1uTu/bFAmk/jQywyu35YFx1PD2YIv/UYta2s6/vIr4/v3Y9ymZH/EezSxtsF9ZfJDHcaJuT9hXtSU8nWGc9JX42ORUo1nTK/dhXVnj9OvrgP2bWZqoso1N4TswkqYMudOxnTK9ZDLv+FmVwH3Mb+xfGR7+i6UyOEr5tV0pvUmiWG9Y2vbetSYrQTmQARHp7enoHk5+q28nI58vry2gfYOFpjaN2KlZyS89KCdgwW1+89kycC2NJqtITIfHrOwe3VKW/XlzquXTOvVmm7r7kOcJyMbt2LmPmXj539oDjUbDufyW0Wajn52lK7VymDXaQxdqplTvsvG9H5e+DOjujPttyjKLY83Y+/ckWMvNBuId9cZ0qg8hQtZUGvgFk3UbCIPVw2mYs+Nml38B47+1JjW6zULbgrOyoHP9uE4V52NvP5Ge9GnpiMDTyvS4/OdI3GuMp0U+hLnzSi3ChQ2LEW13hJ5T+Lo3N40HK68XiQ+6AS9Kjdj5VXFdH10Xm8aDF3Law0XC7myhobli2PZ7Be8NV4DT9b3w7n2UjRueHKlYv12UdnIgRlnNZudd1eoZ1mNsSc173lKacMHtkwZz/TVh1jctQaWlftyzCfZBpbEzXVDqGhSjk5zDrFjXj+GrdSYlAlhZZ/aGFp34+iLTzfPV5f3oZxNHeZevcGq1rVZcl8hQdGPdtKsbHHsXUdyKdnkk1IXiA48Td/a7Vl+XlHaHm4cj3OzSRpCCL4nFuBSpigVey7DLw0/Dbu3lVaOFtiPUoKjkrOMPTcKoVWS3gO6UaFkVaYfTX6mlTuOTmmLpZEdHWZpxmGkJ63Kl8Sm01D6uJSjZqfFPE1pXjyee6biZFGaztO2s2rKeMavljT+N8xv48qwJTflOSjKewftnRxpMGABayZ1pNXYi5oNSAAT3R0p3ag/FzRC4pVVw3ApY0J+64ZsfJBsFUuuvWTifs7UZu6MO5Pcj5dpUbUjRzVfJZIzwsmZfvLbIaR0cewY1gijMu3Yd+86E6pWo88+zeh7sBprlx6czThtJYWwZ4w7JWzbMn/5TJq4T0Ty0go5No9aDYZx+a00h4azZkxnmk87qHm+o9nT0Zns9ealqWzGQ19GVXVh3KnUAkOvr6KZvSPNRq1gxZj29JorzWmhLK7jTIv1Gr9W6Xvv2pR0bMGaPVvpWrM3pzSu4PHPT9CjtjWFipWjw/xjxBPP7iGuWBYqin3TkdzMoPgnvL8tzx+z9klP52vmtW7CsKUKidrUqwGdx5ySgxGDDo7Bsd447sriaDQ7J3agnKExVlX7cSrwUwIvuXdc3zAGe6tSlKvcjpWXUufxR1sn4eI2Hi/NO3Finh2iebWWbHuS+uKe4Isbca9sSckSJTAt78qSK5oB8fEFh1aMoJKJGSVKFMOkQhMWHkrGJS2+SfifXICTpR19pq5gaJc+zDgSALEPGOPakum7ki1V86nVYAgXNROIr8d8qls60XflWXYtHMr4LV+RTtMW9zcf/wGi+Cdr8v4IpUUuBl74/KL3tVzjY98T6OtH0OOT9ChnQaMJ5z4ja0dwesUEGrrUou+co0rE2tcyVa+pCHxnBIKPTcGiVDMO+GbwJ/yT5dyY60re8uNT3yf3J/P5sZIl8YtTUWoMOfGVKPQfq8Z/Z20uz+9IqUoDNAsfhJycR8UGg7n3GS7yd9bjf523HMyi68KJ9LrAl6sVcZ8W5cywm6YEnX35xv/4lTfnaWZbgT5bMvid/8dhUZv/5xD4+4ni613kEYJWe9Lp6d9U27d31uCSWSAy5aden1UZfIeSswhmedfOjF1/KcV0l3xF/asi8HcjEOt7hEYlDKk6Yn+6V2f8uXITCDwzkwKiAD+f/daV88+V9P+SKjac+5fO4PnyNY/3jSavKMbMc581Cfy/VOdHKeTN9d+wypSLnhuSlYgk3gY8wPNxqrLzo9T1765HzKmhCFHhM++h+0LJ4XdpWsaIMr+kj8b+wt3/0dNBzG5hh4HjUB7+cX3mP4qZ2uyvIfD3E8Wvla5eUxH4hyNwZZ475u1WZwhA+JONSvDhF6fa9PjtC1FdfzLb/1mymADmt7OTX6CexaIh61J+AeV/VqMfoOBI1rtb0nDBZ0MDf4D6/f9WIfriZLKZNuFYatzB1ysQ4UXPOhWpM1d548DXb/5vXv0/9s4CrKqkj8Oj2N2Fgo2EgajYunbHGmt35+La3Yrd3d3doGCBCIgFSCsKBiDd8X7POfeCXMTaXb/V3cPz6D33njkT78yZ+c1/Kt55B7WL9uD6G8353/9NGkqq/w4CilD8Oygqfvx3CcSF/41DqUlERKdedv7fxfpvTnlcaMqkun9zMpW0/WME4oj6e2bB/GMpUAL+sQgoQvHHyg8lNgoBhYBCQCGgEFAIKAR+GAKKUPxhskKJiEJAIaAQUAgoBBQCCoEfi4AiFH+s/FBioxBQCCgEFAIKAYWAQuCHIaAIxR8mK5SIKAQUAgoBhYBCQCGgEPixCChC8cfKDyU2CgGFgEJAIaAQUAgoBH4YAv9eoRjqzfGda1hivoyVq7dxxf65xokUyTkQExpE4PtI9fmeyb+C/72T7NxvTeqDBD/cVa4UAgoBhYBCQCGgEFAI/PsJ/BBCMSnmPa737uAR/DduDRL8lBlj+9KqVV1yiUy0MrNM51SXl0woJxC6A7F/n/oouSSOdSuK0DbXOHbr318clBQqBBQCCgGFgEJAIaAQ+EDghxCKsW5HqFNMn5VOH85a/BDFv3r1nt8rFqXNZKt0LIpB7BjahHpDV+ERobk56ZmBFchbaTVpT179q7FRnlcIKAQUAgoBhYBCQCHwsxD4IYRivMtOtDOUZt13OZbSm+FlinxCKH46mxSh+Gk2yh2FgEJAIaAQUAgoBP4bBL5aKIa5nqa7SRlyCIEQRfht/mneSozinOhVIRdCaFGsfAO6t69PJiEo3X6u6sD7RAd+zSs9o/6XW5+hqy4ToB7pPT+3Wcq9DJmzkEU621mYsN4hDEJtaVUgOyZTrqTkRuDFCQihzbHAlJ++cJG+UHTZMogcmTKows7emFO+mlvZq4TiGlUaecfS1gYUqNCHK96qwzOTgpzZNK41+bNmQYjMGLSfhpVn2Bfi8gPfdt5MNiHIkDkrubKp8ip3rTl4xaviHOx6kd+bVya7nD9FaDtxJx5hKitsQogra0e3o3LJ3AiRQc5/UbYH1u/i5IeTAh6yZkRLssplICPlWkzByjf5ENIonA7Ow0RbKkPq/MjTE/cfGJUSNYWAQkAhoBBQCPxXCHydUHxvTYdy5Wg56ywvgkMJenqQqlny0n/vC4izpoIowbzbnpwfVRtRYQRuL6zoZGjAqAMvIPoaeiIjXTZZ4uHjzvXdk9HNXYqBW+1lxomRgXhYLEdbS4d5lj6EBrzmpa8fofJ0xTD2DK6FMJ1JiOw6DutJjRC6ZiTLjC9nVPpCMTY0kLcB77i9uh+ZC7TmvL9K1CT7JwnFQtW2ERTnyaIOphg0W4RzSqBR7BxUm4pNxmPhHkCY330mNtCnfJd1P+/il7hgmXtgyDse7R5CBqHPnKsvVDgSnjFEvxS/jNyOW2A4/k6HaKSrTacVt1W58uo8jXPkpfmUw3i8fMObl148dPEhUu4MhLB3TGNylO/KyXuPcb53khE1dMjewFy1gMjnFFWzlmf0ISciI97j99wZqzP31PmdnBvKp0JAIaAQUAgoBBQC/wSBrxKK3nv6ITK148wzbzxcXPB+9YxZjYtQpt1uEsNvY6ilw3pf8F3TGVFjOokEM7G+Mb+ZP4YYS/RFHkZbBqjTl8ixUfXJUX8ir9TaLMF1F6UySkPPmvMEpQf8Lkwnm6jNedmC+AKzepUwmPrBwvhlaOkLxeTnvPeNIVveFh8JxfND9dHK25QmjRpSf8gWAlJHLcySWiIbfTZb4+HphrunK2cXdCZT/nZYBaVeFJMcyk/0GWBJ83wFabPSMSXS0TdnIDJUZ5OVM57uz/B85sSirlXJ32o+74HE1xdplqcCZkd8Up5Jvoh7fY1W2hUZesA1+Sei7i4mg9DjhPRwuC3dS+aiVMcZ3PH6iS2yKalTLhQCCgGFgEJAIfDvIfAVQjEWy2G15CHa3Plykz1bNrJnz072bPlp2HcHUUE3ZaG42isRjxWdESZTieYtZnWN6bniCcRKQjEXIy77pVB7tKoPokhX7MJVP0U/2YZ2Bl3WYYUeIAAAIABJREFUPNa06sl3E1wYWi4fxisegf8pqhUxZcU9SWF87Z8Xw0oXpm26i1nAfddIsuZt+ZFQvDTCUDUsnU2XX80tNQNz2STfy5w7D7lzZid79hzkypUVUbAnV998jwU5msF/t29Rz/ijng6F26/XCMJ9aztV/ufNQ04p76X0Zs1EoR7zeJ0kCcVLNMtTjrH73TSek76EPtlCFVGWpbeTOwrAq5PkEzmZYacW1aHOrBrehAxCkLNEXcx22n7kj/KDQkAhoBBQCCgEFAL/fwJfIRTBY1sfRM4hvE4vfuGW6GUoyQqXBCJdrNh1XBpSfsl4DaGYl3E3g1OePj66ATnrTOSlWhfGu+xBW0uXFY9Tm+1SnOOz9TdE6aHsWTMKg0ZjcY36cO/LVy8YXak4babcStep54Ex5MjfgstpNkw8O7AiRaqu54H9HhoVKUGzOVeJTPYh6ArGWQszyy75h3/H5/UFnShh1I87H7JKTljY9clkydEG2/Szh1g/yaKYvlBMeGtNh9IV6L39UQqkUMtZCFGFC6r5BCm/QzhOByeRRWRmkr3mnNFUjpRLhYBCQCGgEFAIKAT+TwS+SigSZUdX7VyUambG/os3uHPnFhdOHcLuDRBhSUVRgiUPU6mIOB/G1K5Kj+VPIM6KqkJQbeByLGzsOL/VjFJZC9F9070PSQy+Q/M8WdEfuoV7Dnc4t/MINq/U5kbJVaIjnQtqIbKUpuu8a+lsc/PBq4+voljTXY/cNYZzzvoul04f4L7/h/0aA+6to0JWbQauOcUdy8tcufZYnjt3bkA58lRah6yZnp/GtEBh2sxNFotx7B9Wgxz56jB9xxlsbG5x5eQpLB28+eDzxzH5oX95cQI9rRy0mXsWz5cv8HR3w/25P1Gy0c+bkfo5yWPaj+1nLbC5bcWpUxew91Qpyli/CzTNVZYx+56lk8RwTkxtReZCjdlwwZpb5zfTsXRB8rXdKLtN8L3DyvWbuGz7hBe+vjy7ak4eIRh+M0WWp+On8pNCQCGgEFAIKAQUAv8PAl8nFIH4N7ZMaldVXhkrr2Cu1IkjHtIcs6voiALMd1Qvj5ViHePJMONKdF70UBaKJkJQoHxZsmlJq2lLMWTtNdJO5fO9uhKj7OqV0dlrsd7unUb63bf+ishiwj7nbzInyn68dzlOR92cqqFko26c8UwVV95zaWF3tOQVubnotsBCFnunepUks645L9WxeHNjHsVEIYbtVVvGov04tXQQFeQ0CUSG0ozdZffTCkWXDS1VfJJXpwtBoVrDuKceMY55fR/z/g1VK5olNwVbseOe1FOAGN8z1MtUgqE7P7G/UZQvJxf1Ja/sdzZMB67jmWq1ElFe15nYwSgl7MwFDOgx/+xPy1FdXJQPhYBCQCGgEFAI/CsIfLVQ/NOpDblEJZGPCbbfPncvKTGOqIgoEmP92dSrLiZ9jxCaHJGkeKIjo4iOjv7oX1RUFHHxP/mikuR0Kp8KAYWAQkAhoBBQCCgE/iEC318oBp6iqBD0PqPeauUbEhrsdoahdYwwqGpE1XpjsUk1py3M+wIjaxtR3bQ2tWun+mdak2oN2rLoarIt8BsCVJwqBBQCCgGFgEJAIaAQUAikEPj+QjHhPQ5WNngGp7OiOSUa6V/Eh/tjb3GRCzfseKkeqkx2GR/hj8O1C1y+eo1r11L9u3qVSxbWPH0bnexU+VQIKAQUAgoBhYBCQCGgEPgTBL6/UPwTkVIeUQgoBBQCCgGFgEJAIaAQ+OcJKELxn88DJQYKAYWAQkAhoBBQCCgEfkgCilD8IbNFiZRCQCGgEFAIKAQUAgqBf56AIhT/+TxQYqAQUAgoBBQCCgGFgELghySgCMUfMluUSCkEFAIKAYWAQkAhoBD45wkoQvGfzwMlBgoBhYBCQCGgEFAIKAR+SAKKUPwhs0WJlEJAIaAQUAgoBBQCCoF/noAiFP/5PFBioBBQCCgEFAIKAYXAz0Qg6WeK7F+LqyIU/xq/f8nTifjaXGTb9i1s2rCNw1cdifxLKYvEyeIkB+89/0u+/BceDvayY9/Wdey7+ZJP1TvxAc6cPHAB1/ffvmn95xhG+j/hssU9AmI/FfLnnv4T9xLCsL16lgtOfn/i4X/gkbjXnN6/n7v+n+Meg7P1Wfbfdv8HIvjpIN89teLsTU/SOzj1+Z0znLjkRsynH//knXAfB44cvc4ryeP3rpw8cB6Xv1guXzld48jVB4QnfDLYf8GNOJ7fvMjOK0//ZFqisL94ivu+EV/9fMJ7N47tO4OXVJlHvuLqBSs8Qz5Xlr/a6887jH/D9f1HsPMO+8hdQqgnd+z8SQj34NLD5PYhAf8nVmzfsokNmw9yyzlQfu7d0+scvGhHaBLEvbrPnuM3eP2XztEI5vqe/Vh6fRyvjyKazg9Rz++yadsJ/ALc2bFiCw5v/9UFVoPAnxKKwf4+uHu95muKXFLoK1yfueHp6YHbMy/CNNqkRN56uuLm7oGHuxs+fiknOWtEUvnyvQmEsbFqRkSeRgwa0ZfGRno0m3iSVCcmflsEEnwYVz07oseeb3vuP+Y6yuM8PesaoV+3IYNX3yNttRMfFymLx5Cb88gmSrL4/vu/lZDb4bEU0G7Jlddf8yb/DUGHO9PNqDAlx575Gzz7P3gReIG8QtDpXNCnA0v0Z1bjQog2qz+4iY0mOlGjovtw7/90dWFsZYTJEl4lh5cQQoSczYnsbpuPLOVX4p987xs+3XYORghTTryFOLvFZBPFWWD3GT5f4ffxsVURRiN5Fv4Vjr+zk8SQkE+2a9K99IT3Z6MUHYlK2wSzp6kuQn/WZ51/+qYnHbILOm52/rSTNHci7JaRQeRnkw/gtpfiOY1YbBOQxtVXfI2LIToh8Sscqp2EXqW2EPTZ6vLRM7YrO9J9owNOq8fQasFV+b7z8fk0MqpKg7bt+KVpV5Yed5V/t5xVG6Hbh8exEHi8HyJjXS6lFOiPvP6KH+wxFYKamz6O11c8zL2lfdBrPJPnN2ciRC/s/0xP62sC+gHdfJtQjHRnUeeqZBQCIf0r+QubHFXq/1Npe3/5D5Vb+ZnmXNeoDN4zo4ZWyv3iv6sKzqf8Un7/XgRCWaufAe0uF1VWrXtLEEKbFQ//7JvwmumNi5Nx8OHvFeF/hb9WizqQx3Q8XunotMPjW9Ny1GG50Yq5t4yiwpA1j7/emvA1gJLiowgODif+axz/HW6i3BhQpxyGU6/8Hb59fz8iLNGVGrwrwZ8J6z3mHcohum+R3by3WU/Vsv2w1qjnPvP4d7qVEBVKUKjq/Y2/O5dipQbjpM7oQ7/pUsRkM39G3nkdGEf2PM04FwiJD1ZTTFRihePn+Hw5gWen1Cd7nYl4/rVhjC8H9AUX9+e2QrvJ/nTFoMP8tpRouPubrLD+VxZSRmcYKhtiBIc7VkaYLvlCLD59OyI4iIhvsP7HP9pIfqHLdm/JzwSCg0OITtsb/XRw8p1gh+3UKteTi+++4DD17eibtBA5Gb43rZX9KQMKm7Lf5RnjmvbE/KakHV4xvq4BTaZeTu2DfH1zcXMyVh6OSwIEnx2JKNASy9cfOfuGHx7STAia7kobr6/xIoxlQzvSb4cjDxbXx2Deg6956F/j5puE4vnJjchSsju31YY/Pw933oV+XR8r3nYhuUUdLqZrpkpgi2F+Mgz4SSwN/5rsT05IKGsNMlC88zl1JfmMtkLQ5qA3RPpy3+Ulb7weYuvooeodx77D6Y4V1vefEZa6o5kYhqvDPVycbDBrWILMw47KFdQzeyd8AlT96pCXrtg88SYmxeASha/zfa5fv4V7oFoxxbzF1tICO2e/dCvtmOCXONpYc83iDm5+6mGEuPc43vchIiaQR3dvcsfJS92TT06j6jMxNhSfx3Zct7TknotfSjwi33ri9MQH32f2WDx6RfAbT566vcDn8V2sXANIiA7gqe1tLK5Z4fxK/QJE+mNj+5RgdQMcH+SGzf0X6TQmcbx+Zs+1GzZ4B6oa77jXDxjTohy5TAdx9KID71NV4GFet+hjnI9Sv5hxxsoXf5tVaGsZYm7tzBPb29i7v9EQd9GB3tjcsMbB89OdtqTQF9y5cRu3Fy957PiUtzEQF/Ach4fexJCI76P7uLxQs0wMwfm+PS9CVQmL9HfhluUtnviqX97ESNweexEYGYab3U1u2jkTFJ2SoRrAo955YWNlgfUDHxIjPBlcryJVpp7ivccDrO89ITBKXYCS4gnydeWWlSVWtx/zLlL1e2LIC+ydfAl67ckdK1t8gjTrm/BXT7lpeQvnl+mNRiQQ/MqN29aW3LjpxNsINeRwX+47+hMS5IONtTVOXpqSKTbIh/s2D3n7+BilPyUUEyPwcLrHY8f7zG5bHtFrBxDKyQktySyMWHLGEptbVtx56kWEOolBz11xcn8LiaG4OjjzNtAfxzu3eOijaSlOCH+Fw01rbJxffTQdISbACzt7l5QyF/TCHRcvdb7Hh+Dy4DF+kXEEez/hiXsQMZF+nJ1eG5GhHmvPOhGYEMmRXuUoZryKxy/duH3jHq/C08u7eEL83Ll19RrWto94rWb3NUIx4uUTbB/4qctoIm8e2fLgVQRJcSF4ONlgYWmFg8fbFMtdslD0ioHEIE9sHrirh6Hj8LC5yzO/ZAUZx/NHNljeduJNcrkBpPy6ZWnJLQcPQuLSpiVGfubq9Vu4vgpR80wiwPMBNyxt8FYPm0f42zHXKBOi9HjOPHbBP+xD9yni9X3mV82KKDWa04+d8QtTlaMw36fcsrDmQTrvXWLkcw4OqYsQNdlw4x4vQt5ytEs1RN2FBAV7cvumHd7vU3fE43njeh8La4cU/zVeJCJxtrHHOzQR4t5y/74v4RH+ONy+ic2TlxpOo956YmvryOOr5hQQZdgpWRTjA3hy34WAlPc0kSCfJ3JePPQOgaQoXjjf5+rVG9x//EJVdyYEcHZae3IIPWYeushDvyhVOHGBOFpfx+aR2p069NhgX+zuOuDsdpZWIs9HQjHgzCiya0/F1nYDerX7cCc8Ee/zi6meoyjt/9jDbdu73L59G7tnL2Qfb31JKMaH4ezohLe6TkiKfIO9zVNCEiE+7DWPbW5haWGNi1+YOt+ThaKn7P8LO1seqMtWQrA3NrYuSHhVfxJvK27au6nauMjHzBkxFJs3rsys0oNryUUy2fm//PObhOLmngYYDz/1p5D4XZpGTlGXS+nV5/izXC8vWoPO/Sm/lYf+KoEPQlGWarHX0RPZGG/znpe7eyMyFaXRrz0xW3GBmMQ3rOnVhBp1GmBiVJVWcy6oAw/l0uyuFCtegcaNW6KXQ5Bt/HmIvE4dkZ8+m1T96rN/1EJU6Mkz+UUL4+zCoVQ3rEzl6qZMuSB1W92Y16MjpqZ1qWrQhoWnPh4m8Do/jxbNWtCwsh4FK/XkhqRfXp0gryhFs679aVPXgGyZitFtu+NHYMLcLJjWvy3NmppSQqcGU/c/kd08WNNWtqI2a9mJvtttOD6jHkJUpEWLDow59pjn9/cxsGlzmtc1oGS5lux2jgW/vWQVmZlmq6rwHWcaICqs5K1GqLE47JlJ0zr1qVfHhBodJ3EnIAnfczMolT8LokBpapn253rKiFAS99cNpVgOQfaiFanbeBF3b29ET2hh0rkXHUzLky1vLZZdVFWmSW/uMql1fRrUr4ehfiO2O6cziSf8AWaNq1GifE1aNDJBiAKsdo7l2cquiEwtuZcQzZJ6+SjdeS+SISzJbQdlRXFWOMVAmDUdqtaivmktKur35ZI0vTDSiTb6elSo3Z0uLWpRKEd+ak44hLoZSUl9jPdVRjWpSa0GdWnYdgbuoS8Z3bwsWjrNGdyjGUVzF8R47F7VFIdYfw4tHs4vzZtjXKosdYduQQoq4sIIhChJh27dqKldmGJ1f8cuubP56iLt1XGrYNCfG29TanlVHOLecXLFaJo0b46JThlq9F2L1GZyWxrlKEuXXj1paFCUjPlrs/lJcs3/gvGm2hQvX5tOzeqQWQgGXEsOMDlpEVxf0pdSJcrSsHFrjPIKMgw+CG8t6FMmP0LkxaRFO9o0KI/IU5s9LhKZcMw7mqDX9yCEXMJIGgLr8Bsta5Qlb7F6bEyZVvCCBe3rUbd+Awwr1GDeDU0TyqtLU8gl9Nn8VLIux7Cqa0UKtF6GJPEjn26hYp6KbHz2hj1t8pKr8loe2h/ht5oFESI/1eoO5eADH04OrIDIaUyXPr9SJU9WSndYjoem/gbecmzWKFrUb0D1crpU67tWtkD6Hhr/RYuix6ZWCNGbxzIuL4ZnEtTc4knUs3OM7dmGxg2qU7xcE5ZdlE1dnFNbFH2BZxvbInK1xEp+iXzkDmu9qbayT0/3jMW4Vj1qmlTFoO82pNyO97nC0Pa/YFynIS37zOCWX6oeF9HYrhtDrRp1qNuoNVO235bFq9/N9bQyqUN9E2Mq152OF/Bw1yxMcwhEtorU7T+Zc27JeR6D/e7Z1M0pEFnLU7f/JM57x5Loc5JWlWvI70Wlss3Z+SjZvaqMBD44QNeSuWXuJq27svzGE473rYfIZsiAwV0xKJSPorWm4SXr0USeHphPy/qNqF+zBk2GLOPZR9Po7sqdllZH/MFrI0KUokOvfjQzKSO/HzNvqzs7gdb0qlKRkvp1aNagiuxu/xuIsjMnvyjLCgfVqMSjQ3NoWK0KFSvXZtBia6Lf32V8n840qG+KTnETRh1yhnc3GFCuEELkwqBOQ8adkOqcF6wa+hu1TetibNCcabsdVAkOecTMjiYULluDVh3qkV0UZ9z+1Ja7JF5aHWbfpSe8eHqD/cftpLeb9a0rklNkpoRBfdq3b0uVggJh0BO3JLhn3uLzFsVwR34tkhfjxary4X/2d4RohuTz8+tb6N+0OU3r6KNTqT0HXKQ6+inNJYviHmlupDeDhCDnNMk1BBzvjRAmXJazMZzL03tjYtqQWlVq0G35FeIS3vLw3nOSIl9i4ZA8t1KV9P/C/18nFL1PY1KtEvmyCLRyFUOvkh6ly1VnxGonmdGdpb1o0/cYyW2d89EpNOizGLdUhV0Rij9ycZKEohal+96Vql7Oj6mKKDBAruhfHRiGEDmZfVclA8KujkUrUzfuxED8/ZVkzWjMackg4raHSpkqsuBOADGe52lRUpBxzDmIvUOrvGUZufuZDODK7OaImkORXrWg6/PRLVid5RZexMZGEpMUh/P6XmSsOkHu0dov60XJVjPTCC+ICw8gSNZDLvTMLqi90QNCLamQW1BuzAXiCOP86FqIouM/ejYxOoL3Yaq0HBtbi4INZslztdy2d0YIXZZYqcZYLs2ogchZi32PVBVrXGQooeFS0xTGH/q5qDX8EhDMRB0tTFdJc2qi2FI1B1XWp64cIemNFe3KVWPYfleI92RU42q0nHddZrF7VG0KtF6If2rDgnwnkqXty1C1zy5ZuEU6rKaUyEmv9XdIIIg5jUuh132HzMhidjMqNF2LlAW3p9akUMtDaA5Qx3NvRnOE7hB8SMR+yxAyiyJs9kjEe/NAMhTpgn0COKz8lRI1/5CFVOA5MwrpDMeNBK70LkOR4RZypb6rZXkqzJPKiBf96uZHGE+TFz05bhmIVtYWWAZrWnNuL21HIZMpPJd+joiBaC+GNy6KMJ5EEEk83D6YLFmaciVA4ioNjQXL8zTDbJdRIqsBG10TiLOeJAvbiSfcIe4eLbNo0Xq91HmI40jnUuiOs5LzZEuDUhgsUVX6KW9aUjyhwcGyVTrOZSu6GUqzxDEGnBYgRDZG7Zf8ecFEvaxUGHhRDvvd0T6IzF2xeh+P/9kp8rSY/lc1RUCsx1Fq5q7IxAvPSXh5nV8rCETvnXKwHgfHkF804apU972/Q5vSJpidlCw+3gxtUIuhe70g/oYsFBtOOkM4YaxoWYxSbbbKgtnvcH/ylJ4sixfvzR3QMjAntZ044Y0lrbWNMDsuySpfRlUUCP3BPEsE/9OTMDDsh5SqI911KGG6FWlQOOBwN0T237inLhjHeukgtLtw3icOPLeRVXq/bdOOlcfz/rWUSxB005wSGWuw1yeRt8fNvigUeb6T3MKIvVKyQ85TWuizXdIY8eEERUjKKJyVv1VDp9tG2ap4cVoDeehZSpHXrp4InW7clRP9ip5C0HaJ1Mm0pXGecsyzi4Og81QSlTkUAI5zOpCj/mSZXWJ0GDEfDIEQdJv6RSoy9rw0GzOJqChJRL5nYuUCtFkn+fmSCaXy0kGacEksJ1sXJIvJdll0p5Qh9ft4un1RMlfdhMrOEc7OhrkpNuIyScRxdWwNchivllmnfu7xht5kFh1QSakwjnavgRBNuBUJIffWU0yUYYljLITeoZNBPczOvYKIu3SqVo+ZZ9OKEXuMhaD72Xfgu08uly3M75HIO3a1KUzG+jtlEXxrVC2E/iReEcvd1ZL4Kc7e1xDntJ6yojpbXePh1RmaFCtHv213iYuLISI8BhIi8Jcr1VjOjm6EqDxRrkd8z0yimKjP8Zeq0R6vfaPJV2WoXE882zWacg1GI9nnnu7sT77yXbjmG4v/lelkFQUYqyEUU5P5cB377jodCpdjyGZVh916UVuE8QC5/H9RKBLB6d6VEe23yx7endaO3C0Wy9dxEaGERUql9x1jKualodkNqRtCyxSh+JJx2QWlFqqGkIPPD0eIptyUOkxP1lNYqymW8RB515wixbpzR7NS/ZCA/8jV1wnFYE+uXjhMH5MilG48loNnL3D61FlsnryRMZ3qq0PWMstlC4D0g82yFogyvbBPNaKiCMUfuUSFsblaNrnyyZhBi0L1R5M87chzbz+E6IzqNY7iRItCZOyYPPfQhZ6ZBc3Ov8F3cy9E8QGo7FxvmNFEm8wjTn9CKA5HspMcGmxAqZbrUs2V8md+s2qUH7aPxIRInhyfSM4CHbBK1eFIoRgbxmuvqwwqJijX6zpEXEc3Sz7MbqlMI957pEryVx6mPJD6Ip6wQG82DTBBGHXjQSy4bemKKN8XR7XF+/Tk+uRoMJUXqUVcfBQhvg4MMy2EXvu1coNya2Z9ijTcTny8Ew0z6LFJZSRJCezlhRkUy9+I069VIuqy2S9kbjRDbiD3jzYlf6uFvE3duMlPxrKsvS6V++yWrXRR8hxFI9Y9VQncoxPqkrPxHMIIZYK2FqYLrAhOiOXZvgGIXAN4lNqomODDxJplqDBdEnuQ8GwPulpl2PgsQS0Uf0UyiEbZr8JAtz6nA8Fycg3K9JAsxU40zZSHAad9iI8PwmpmXUSl5cTwnN4mZag2/6bs5/u7y9EWJuzx0Jxs+fzkH5TIW4M1t9RDY9HuDKhTHqMZqriE2EuNlzEbU829jIsM5v6J6ZQTxZl2KZBo64mIXE24pp4jdbRfBUo22kl8jD31tfIz7Nxz4uMDsZhUHWG0Op1GHiQ/H11ehL4owJhjfvBwAULLlHPq1RyHuulStMZWIknkUI0M5BgsiU9J3N5Id46i67ZBZC3aDSc5S4NZ1rF8yhxF78NjySt+UQlFglje3hSTiZfh/SVa6tdkj9SqRl2lksjDaAtVol4eGUr2kt1wjI9gb/3cFBxxlsD4GAItpskWEo3yn+jPnHb1aTr7Jvido3cBPQqU680+r3hsl3Sleoc9suA90KUUJWptkcXL+6PdEFm7Y68uF4d+K02xGlvkzoWUxzWEoPPhNAVXRYDo4Dc4nJiFdgZtZt0OJfDUhC8LRV4wML/g11NviLo5GVFwOJIIVP3FEej7gAUdKiLq/y6L4MvTG35WKHZY6Uzw3ckI0RGLN9EkhNgxLIOg2dlA3l+YSv6Ctdhoq2l5lcNK8GRazbKU7rk2xYhBwHEKilIsve1PQuIbtncuTsGuF2XnZ1sXIFP1Hens+BDD2fZF0Kq8WXUvxAI9kQezu6q6Jsl2FkI04lqq9k7y0GVjH7REe1RSJFw1R7GOuQpDoDXGhYvQ94w/0bcXU1L7F/Y/9SfqtROD61Sn2SzVO6JyLP2fWijuJoPQYYOq782jBbURuWcTyEsG65ei9irVSEr8400UEKXZ7ZcsFE3Y6Z7Is829yWPQn8fJRvSUQBJ5/9qZ/aNM5brTDXhzfgpFRD1OynjD2NijHmW6r+F9ZATuVxejXbQ5Z4Ji2dmtLEbdDqhGFeJu0yrdOYopAaVcJAZZ06FQGYZsUY043VzcFlGt/1cKRQg4NwaRdSAviWBBq0a0XaSqk+QA4qMI9LrLAJPCGP22Wx6tavVZodgcG6nWm9kMYWiGX1I8IY8PUkpLn6X3/9tK8euEojpbV3Ysg/GAgylzS5Jz+8ygCuSttDplFZ3dqraISgN4kGqOsyIUk2n9iJ+hrDPUokjbgx8qVHU0PfZIQrEDKtvxKxaUzkmm4aqKVbKSTMgpKL3oFtentkJUHK9+/hVTGxX/jFAcwVsSmV8tF7V6nf1QMYc7M6ChDiK3NpUNDTA0MsSw4UweqfRRCrgXN7fSqWplqpmaoJNBYNjfSi0U8zL+huqFdt/ZEyG68CjlKdVFrJ8tcwe2pJxeDYzL5EKY9OZhslAs2ws7dWV/enI9stebpNpaQqow7Y8wpKkJeiZ1KJcnG1W6bJAFbsSthVQo14eb1zeQudAAuXedOsgnGwaQoUB7LNQjQ3dndURoD5ItqgdkobiAjxcdR2MuCcXeu2Q2KqFowOqHKsV8aHwdcjVdQDSutBOCDCUqYGhQiUoGVfl14BrcUwvFYHvaVtLhl9Uqu0bMkx2UyqgpFO9KDUaEI92qNWT2NVsWm5Sg95VweHcG7ZyZyaerj5G+PoZVjGjS/wQJeNHLpAxVZqsso+9uLaWEqMFeT02hKFlcj0xrTZYc2vRef0+2gA2qWw6DKaqJ60H31lBGVGeLs6TGQ7i0xoza5fUxMdUjkyjL7KtBRN+ciMjZWDXkDVycWJX8tefx0vUUxbJrUaC0Pob6+hhUMaLV4FNprKnd1CkbAAAgAElEQVShWG6aQr0K+pjUNiSr0GbCCX94OB+RoSanVL0a9nXRoVjtncTxmum5BAXmqofTgq+h89EcxQRuTmuH0B2MynYcwJL2ZVOEotehMbJQTF7/8mhlV3K0NOf5rWXU0xsrT8wn7DKVRC5GXFZtExR4cQIif00uv3RletGs8nQEI0N99AwMadpqCg802qh4rKZ2Rq/fNlxPTaF2tw2Yd+nF5OMP2TW0Oh02qKZq7Pv1g1AMOtJVFop26vdIXsxSfaPa2m5PdSHockQelE9VdMOw3fg7VSoZUM24omyZmm8TTtBXCUU4PrIGRn32c2F6W0qNOS77G+1lgVnXxpStZIJB8cyIppJlGb4kFDuveYCz3PHLQTkjQ/T1jahc1ZApkmmOUM7M7EROoc3A9XfS5D8keV+knX4ecpsM4aJ3AjivlDvE2hUMMahUCYNqtRi66D6QyBlJKBpv/8gPiOaMLBQ3qe4920UGUZhlyZXL07UIUYbNLppTH55u6C0LRZVsC1MvZlFZvHhjSdXCRRlwzg//Q+MpKAQl9fQxMNDHyKgZcw6n7eKmFoq75CHlNSpthcNcU0T+ufiFOtFApxgddqlWDUc9WE/+NEJxl3s05yfVJ3/TObxK/bqGPWFxr9ZUqmhAtTLSkHkPuS57fW4yRURdlVBMfMXEDhUQ2YpiaGiAgZEBRvWn8CAukFkGeajT/7xqbmOEFc2/UigmBFrRvmAZBqdYFNt8k1Ak+DIGwoCNNnfp3qgDy26rOl/+tgcY+IsJejVMKZMrOyZ9931ZKGZogV1sPKd7SUI5L4aVDdE3NKSKYSeOuae2GKR6Tf4jl98gFKNY0laXKn12q83vHwidGVheEYofcPyEV9LQc0ZK/HpBY5GElBBNoRjCrtr5yNTzpDqNbgzOJqh1wIMnyzojSg9TW5X9mfGL2qIYc4uWucsyao+qWb02tyWi5nAkW/T6lkWp0u2gPLwqexjtwYh6elSYrJr3mBAfT1xsnHoicjLW5/Qvlp2mC6S+H2wz1KJ0ikUxL+OSheIOSSh2TSMUozk8oTU6LWbwPAG8JWtppS44xaktipJQVAu6ZKHoLYuul0z7xYDGow/Lw5jHhlSgbNs1KlEcak1nY0MGjGhHkd6bkyOZ8ul91Iz8+Ztx/q1kfkrCclJzhImZbPlSWRTTF4pL0xOKTh+EYu4mC4jiOb8JQZNNqi0zEuPjiIuPk+dupUQg/DHdjXSpseSO/FOs8y500lgU78ijjgEs6dKR/mZTaJ29McckDoGX0ZUsJ3dUpof4+DjipbYw4im/fSQUa7LvI6EoBZmA+9HxZM1YnQNPnjG6UYWPhOJ290QibVaiX6IO6++FQKw1zUVhpl5WC8VcTbmqGrzg1HBDtOtvJvzNVUplKMhUW0n9JCHFLS5O0zQbbLeBaiWqs+SGNCnmAR1EbkYff52uUCxuuoMYac5UOUGe36XhdWlE+3q6i1kcV/Qgg3YvnsoWxSANi2JaoRj7YAMFivVhwfze1Ox5TGVxCblEJZGbURaqRPmfHE0W7XbYhfuzpJSg1FRV2U6Uyn9crGZ+SoNpV+ai23osy6Y3ocsRD5zX9qf23IXMrFWFlQ9VDPakIxTvf04oHtUUisH3VqMtqrJbGgF9dxXTwmWZeSv0q4Wix6HxGBv+xoBqrRhzyEPuCKzuXR/d7mtlQ4P1otaIOuM+sih67PgNofsbtvJ76E9vaXui1Y/xOTUAkaEXD6Xyl5RAfFws8ammIzqfnELRbFVYbpN6oF6VjYS5MrlZRSr03kGkyxaENBT+TOKURHxcHPEysmhOtfqMUGwnWRTVQvHNWYqLgsy4ry5vDosQogan0uw3lK5QrJVKKBYqyoDz/gSdMiNPgZZcfC2JkUQ5bXGJmqJT06IoCcWSaAjFfHN5F+tOlwolabJJNTs09tFGeTFLaoviLvd4bi9sTY56E/BJ0T5RWJg1RlSZLAv3FzsGkEl0QrIoaghF3jKzfVV0h0miCxITpPIpxTOBxY2KYtLrmKrTH33rqy2Kf1ko8poFBkUwnTadDr8O4IY0iyDRiwn1DWkx8ZRsXd/brwKVuqW1KL5gdBaBzhKVIA+5OBKRoQW2CWA5qDqi6hy5LUyS0xhDvGpASF2g/nsff4tQPD+sAnkNNqTMpbFf0/4ji+KrC5PJIep9YrWQH0vL5ybTUGnel/L3/yfwYTFLSt2hjoSmUIQny35BFJuJ3G97fwEdUZCl7tKaldnkEHW5LGmKJDcGVMtOhpGnIdGJzjpl6L1FJWbOTqiNqDVC3t/NbmlTROme2KUscIrkZN9qCJP5n0bw9ohsEZgl14VRLCotKNM7eej5C0Ix7jlja2vTYOo12X9H2fLd7bNC0UcaXQq9QgORk/EnVb3VTR20Kdd+rYoBoZj3Ko0QmWi7wf6jeIc776NqAROW20utdAwrutSg0uD9srs9o2qRv1V6QjGKRa20qdL/gOxOtT2OAatTC8Vf5sjzsja1KEz5bkc/svJ/iEgAm1qURnSUVuVCrON6igsdNrp9GHpO3sXA1rwvxaVtrIrNVO+/95yphQTlF6hNF8mehj35BqEoPeRDX5GNfsfvMr6JXhqhaMJuj0QerW6HqNQLSVIQcJKaojDTrgQRc2syQsuAHfIwWyzTDbNTZYI0ed2P3/MKKi9XWU+So5b68+GGXxG67XGU2vMYSxqI3Iz5lFCstVUW745TqiDKLFbVZV67ySoE/dLMUXxnvYSiGWtyUDYIvmR8g3yIHtvkoD32jyCnaIJ18osU/4QhOkUQmXLQX55XKJWny+iLTPRRb9NhPa0e+avNkztPt343IFPVj+e7pU4XvpeoZSDNE6/BAWlfuSebyZdPULTEGB7JVqIkUgvFgIMdEVl7qReXQLoWRQ2hmMj9+S3lBSny7EyfY1TJpcOs22FfLRRjvA/TUN4SrTGHvBNli3Xn8iXpvEFVls5MrIuoO15DKEoG3oBTIxGFmmIhj0a5y9uZdFzuAi+3k0GUZ6faCqzBQ/7izyCDUvTamqasqh2+2DuKUkZD8Yt+SBPJSnxS3fNI8SiCY01yoWWy9yNhDpGcbJGPjFV3yMJDKs9jcksLdFSR8d3WEZFzjDxcmuId8HhNd3m4XGXjVW+PoyEUpaHn1+B1EKM8VVj80TzR1L6ltSimEYp5ZvOOaLY1LUHmTiohF3RlBtmFNnv8k4eeq7PdLZH3V6dRQKsK2+UFHlIYvoytmpvsf6iGu5+s7CJPN5KEot/pCRQQ9Tgvj7Qkcc2sCUJf1dFNHbvzk+uRx3SKqt7wO0hZqSO0T3O+dmr3ydd/XSiC7ZzacptQo8cauU5Oen2SWqIAUy+rhodWttFGP/XQ826pU/SehTqCYqNUncLX+6WpSs24nQhvjg1FiDbyXN/keP7XP/8WofjqxGBEptrsdXonW38sFrZA6PXDIdWcjSinzRQW5Vh+P4C40He8fBdMQopKj+RMdx1EzaW8Sool8MUrgtJs+PR0R28yiGJMPSEVX+Xv7yUQzHJdQe6WJz5aufpsWzeEaE6KBIpzpFdpXVqMnIFZJ1NKd9uksvjFeTDzl3LkqvYr40d0o6LUSAw9Ii862DaqHqJgdcZMMaOpjkDUHoyH1JCG3GNo5WIU0m/NyPHj2WYbCu8u00K7HI0GzWDJ4nksP2WXxsoZyNSqBdFpNob15mYUFgLdrldlMVdQZGSYvIoAXDd1kl92zd2u4rm6uCfFdRowc906ehplQOh1xiEanNe1RRTtzF31iqyj44wR1cbiIRvTgljZowalTPqyZss8qglB2TYrUU87xHaVxMiE/aql3GmyJoQTZp2oWLsXi2cPpXqtXznkrBpL3DLAkEwNZ+Knmuqk8ZzVqu5kzV+OrpPO4GO/nDxCl6UOqkUVe4dXQZhO4lUSxDzeRp3iOrQZMZNl82ez4aK0hlPzL9JxM+XzVKTn3GX80ckYIQqyxSMB97U9EDlaYxWssl7EPN1LGSEos1gailP9xdovp5BWRXpNWsDC2TPZLU3ijHpCh0qFKTdZte/pm+vzyCMM2OGmmRC3s4sYM2MBs4e1pEDJITwN9KF/9eLojlftbvDujjmFRSU2uMST4LyPBqXK0nr8MpaMbIQQJZhy/h2xd6fLjYBR476M/rUGmYp0TJmvGHZzAUWy6tNnygIWzJzB/oeai04iXI/QXKc0zUYuZvnvreV0jzr0EhxmIIQBR+RpeUnsaFOA3IZrVUOxIVeolFEL4y7DGNrelGxC0O1CqopMwpLwnMXtDcmu35bfx/bCUCrrv22SgcV6nqJx0aJUaT+c4/Kc0iRujqyCyNRGtTpfchV2TV6YkNOoBWNHd6VwpiJMuqZeKx9iRbMi+WnQdzLmC2ayYH/aIUjJA3+WGudA5PxD1TDH2PFLRkG+flfVIieR7a3ykyc5Tf6HySkE1XsuxTEkiAOdi5BDb5U8T1haJKInbYW1X7VliJwISVc778O4QBk6TF7BwsGN5cU/02+F8u7IKESGupx8Ky1mW0pOUZJF99Vm+OSHpc8EPybWlt71P/CTi1cIB39vTWG91ixdv4w2utK9MXLDfm6CCaLqGFWdEHCNFpkFZRr1Z/ooaYFZZlrPUpXH40Nqkc+wE9MXL2b6H+vl+dBPzm1j5vSFzBneDr0qXbn8KpWZMeARq5fOYaH5bFpWMabLTNX+nY4belGiWF1Gz1nM/DnzueyjaohenxolW+q6LdjLswC1tVCdptdnxsq7InSdvwd3aTGK5WyKFmjAH7Mm01jbgIlXP54jGfFkL8a5ClG733SsnvtxtE15hNEclY/+VyifLQedD0mzN2M4NaktxSo2Yab5cmYv3YHjq7SLi2zlOrW91NHxlqyi+TF/qIr3vWlGCKFaiBZnvxYdrSI0GzSeXo0qyWV+px9E26+gqNBjjbw3rj9Le1ZDFK3BkHET2XD8DrfXDiB30frMXr2a7rWllc6dVELp5UVa65RAr3l/jrrGQfAtfjPQp1a3CSxdugDzwzflNiPG/RjNihfBuPMIhneqLk9VGLZdJZFTF4u01/HvLGiatTC916jKueXsxogK3WVr5u359RFl+/E4DgJPDERkboB6toamN09XyXVEz3XqdyXRj8VdTNCtPZB1G2fJC8f0ukkdZWe581J7i2py57MtkpDX4bfxE+hpLKW5Ptdk7D7MaVga3abDWLh4AZNWnEl37rNmJP7d375BKEYwq0EedDpuUk+CTgUm6iljTUuSs4A2FQ0MKJY9E8VaTONpiqVI0gveLOlVHZG1KOXLl6PuH7sISfUuRthvRD9bDvKWLk/ZEr+w3kFlvUkO5ZKZtNRf0MLsnGoeRPIN5fNvIBCDzZoZLDngkkaUQaDjcaZO2J+yUEkKLMLTkoXjRjJp2THNxR7BT1j9xxgWHrHm0fkdmJ9Tvbjxbx+zZc4Exizazz3bi2zee4p3ak0R9dqRnfMmMXS4GQfVk1qT/B1YOnEY/UdMYrOFS5qhZ4h+dZfVkycyf8cFrI6vZeURD4j1ZNms+Zz3UnkcYH+EqRMPqhvDVIhiX3N5w2yGT9uA5fVTrN10iFfxEGB3iCkrjuKrHp5zvryV2VsuE6SexxP37hGb501i8qoTWF/Yx/p9d1KGzO1X9qNUjXG4pZ4bmCpI4vy5uH4GQ0Yv5LL6eCpp2MvhzCYW7L6Belu21E+QGOrJYfNJ9J1ykjdv7DCfvoY76uXRDy9sZt4OC0LUbeLbRxeZP3EUAwZO4bhj8t4DGt7hd2svI8ZOYcP6SRQRRuzwTCDc/hTTFx3kefLeapE+bF20jDOumquHnt86yKzxQ+k7di6XPCIg8R2HNyxnnYVKXET43GTJpI08CEzVSEs7Ft07zLQxg+lvthQLT6kGDuHElhWsuaLq7EX63mX5lA3Yyat5kvC+dYA/hk1hz9WbHNi0BQvPeCKuT0Rkq86CDeuZPGoW55+mmvgsrZK12s+McUPoO24+Ft6qIfIPKU/C1/YoU0ZMZvsla45s2cQ5aRsT/xuMn7GJZK8eHDRnySa7lLlpr232M3nsdA49dMVm3RwOPVMXig8eQ6gLm6eNY/ZeSx5d3c/yk9IcTOkvBperuxg7cgyHXFVl0eZ3Q7Qa7/wwFzfkMkYiGx0XrGPOZDPWnnfVsGKFe91k1Yzx9Os7ji2W6S0yScDr1Fpm7FfNHJYsXndXTGejQzKbJBwPpE5TEvf2LWbwGHNu+YXy9PhKFm+wVZffV2wYN5WDj9OIYZJ4bX+MMSMms+/cFTaZb+K6TzSRTy8ye95OXCMh0e8Oi6et5nby/npqAqqPOGyPb2H1sfsf6pQIH06aT2Lsoj1YnDvAil0XZOZuV7cxe8ullHfNy3o3U4b+zrpzD7A9t50915LNiIFc2baQMQMGM37eYbkd8r9/hmnjhjF05GKuu6ducKSK6iXnt81nyOChzN5pyduUfkw0D85u5o+RAxk8bR1OQcnDvIEcNZ/EqAXbcEm9samcoECOr5jMqPlbeKpG5XB0JaMH/sH6C+lbMaV8eXhuEyPHTOHSixCeHVnP75vUC6XCPVm/cBFHHyfnWQj2x9bQr99gJiw6hGua/UKljanXj5vKYZcICHZg+lRz7qqNoq8sNzF13tWURYHeFtsZPX4hNxwfsHPRVhxDIMHfhhVTNnAv+TjK8Bec3zKPQUPGsPaM9D6GcXPHAkZPXs/lq8eZu/iEbOGWdhdwu76P8cNGsFe9mC7p3SM2zB5D/+G/s+a8U8q+sX4OJ5k6agr7b7thfXovp+6rOz8a5ULzS2KkF/sWLufUPVVivK32MnX9cTktvjd3MWPtaaRdr6JczvLHgt14alZNKs9i3Nk0fT6XvT9M5o1984ANsycybd1prp/dx6bD0rzjAHZPnMZOh+Q68i0Hlk5izKxNODy+zarZe1SdFcnXOF/2LZ7IgP6jmLn1RkrdoBn7/863bxCKibx4bMN9l9dq87smpLhgH2ytrnHp0iWuWtzE+UUAH+19Gv6KO5cvcv7KdRy8VNbHD74k8eqJDRcuXOSa9QNeR2o2Orw9S81CRRi0S7X+9sNzypVC4J8k4MmwOvp0WnZbo7H/J2P0ubAT7c3JLeqT1kj2uWf+yXuhl8YjcjXlenJ7+k9G5s+EHXSDxllKMt4qlRALVs1RHHPjZ03UnwGhPKMQUAj8rAS+QSj+c0l8eW4qRURmWi60/NAr/+eio4SsEFATeM2KDlXIV9mMR2lHin4gRpFPLrNs/U7Ond5JH2M9Kg3YlW5n7weKckpUgs9Jk8xrc07z8ImU+z/yRXygA5PrliRvqxWanYj359AVGRl4/idM1I8MXImbQkAh8F0I/BRCMczzHtZOf+k08O8CT/H0P04gypbh9UZzQ3OWxA8HRTohZVy7Zpg2bsWIled4l8ZY/8NFOFWEIh/spl2/eTxIZxpcKmc/5OX7p6eZMG6uPPSnEcGIB5i16892p58wURoJUb4oBBQC/wUCP4VQ/C9khJLGn5FAIrGp5tn+jClQ4vwdCSRPffuOQSheKwQUAgqB701AEYrfm7Div0JAIaAQUAgoBBQCCoGflIAiFH/SjFOirRBQCCgEFAIKAYWAQuB7E1CE4vcmrPivEFAIKAQUAgoBhYBC4CcloAjFnzTjlGgrBBQCCgGFgEJAIaAQ+N4E/uNCMYmklNNhvjfqn8X/WLztLrFl3Qb2nLyBx9sPm5imn4JY7hxcz5r1m9i6dTOHrDQ3CA57acPuVWvYsHkLu/Yc5XE6R7Gm7y8Q/oILh7ezbv1GNm/dj+XDl+lu6xIfHUF4RMpuuinevX1wkYNHb6ccLZly4ztd3JlUGZF/Dpqn5n6nwP60t68wr5gL0e/Un/bhZ34w7O5CtERpDn98kMbfmyzHFfLpFKsfpbNZ998b0jf5FuF+heGNy8iHFwhRmy1O0mk2AUxvb0DJAXuk030ZVbYAzcZdS9lI+UsBBF+fhhCGnP7y/spf8ur73Y97w8k5XckiBMUGXPjkkZehd5dRWFTE3P5nXpGexO5RNcn5y0xefuoQgO9H+pt9jnE5gF62Uky/nrwRdnpeRLK4TUkMemxH2X00PT7f97dvFIoxOF/ZzYTBvenecxCT1hzB+f3HDXTqKEc67qJ1u0707teH3r2W8CT5DFTZUQSHJ/ekY9ee9OvXmz/2pXdcVWrfUl/H8vDYagZ26kyP3v2ZsHAnrponeKkch/lw7cIV3AI1ApaO4mDKuD8446EsW/1ANYhjMzuRNXdJ6vzSmJqV9GhktofQz26nEsm+sa2o19BUdU5wrxMfvAMC7++nX826NDQujhCFWfv0G5T5+ydMGtaNBg2NySoy0jzdxus1kysKhO4A7N+nXmaaxIkeRRHFlqjPLdaI1rd9SQzC8sABLj/w/+xzNpOrIArMlY8W+6zD//PNMK9brFt2Tn1ygz/L9XIj+p/+P8fixwguwnYxWqIMR7+3qHGSjhUrwdonP1BLHWZHz1JFqDV6F+4+z7hz9yFv5ei9Y0YHQ0oNlM4IfsvocgVpPt7yk2IqbU6GWklHIhpx9nPtfNqH/s/fXQ6OpWCJBmy2cMDbN9Xm54Dn7dPsP2cnH0UXabucwkKP5Y4/txzZO7oWuZrMTvd40P8z+i8GF/fsIHrZSzHT6nPiPJolbUth2HOnfJxe0ruH7NlzkKfv1EdnfTEUxcFfIfBNQtH7/AIMCpWh/ajZrDGfQa/h0zjv+vkXKubFbRYuW8asAdLB3SZc0BBzMdgcXs/qVTNpnlkg+p35hrQk4nv3IltWrmFip0qIYh24kfacd8B9d1fVOZAr7TStUU83yOdlLnuUWlx8Q/D/QqfR3qeoW7ACQ/e5qlMXR0hY5EdH6KWf9Bi2Vi1Exv6fsFS93I0QZdj85eM/0/E+lAl6RWn1x/V0Gq8gtg6oR83+S3EN0xSh5wdXJHfFVXxe3qUT3Ec/3ae5yMPYk5+ryMB2ajVEofk/nFB8PLcxIsN4dT6+Y2WlvGgNufxRKv8TPzxeSVZRjmPfe+9L942IDCVZp9kz/kcRJzzbiY6ow6k0J92R+JaZnSqjO2g/8I4xFQrTwuzrhSL356MlqnDuW0YL/s8kLkxrQsEOq9INddOvpdHveVC+l+SwkqLCkLUun+0dp+vPj/TjvrGm5G2x8OewvvmdxihXaWZZf75+XdWpNJV775It3XGWZogCplh+acDrR8qUnzgu3yQUdww0RrfDWs1zDzXb5k+iCLGaQ25Rl0tpKyn5iVDWGeQn06Bzn3z+czf8jw5ClOjMrfQqf9/LjBwwjpNpN7d13SYf8r76Wyxcn4vEv+Be3NMtVBbV2On+lZmqkebXrDTI92mh+HT9XxCKzxlZtsgnhKJGJDS+/D1C0YX+2TPJnY0MQiC67CAy4AYj6lQgu8iC6ZD1vFC3KSqhuBCpGHps6kPhmtNRDcRHYrtxMFoZ89F58aWUM6KfHptGtaJZEaV/5V6a9yI24CHL+tUjbxZBsaaTuC0dSA1cm9aC+ktPsWFEPbKLUkw+4ZEqzV5Mb1sJkVufobsd5d8fbTOjjBRvIchQ0ph5N+6zrkYJtDrOwnxYA3IVqMnclLN0peH+B4yvV5pcZduxy05ldrNaNYhGnSYysaMh+YccSxUeJEZ4smlkMwrnyEBO4/5c8VaNMDxa3plyvRcypWsDWkzfyekprak1dAHDG5vQYoE1BN5mbEN9comsGHZfJIvrAMsFlC81gIdy3y2eu9NbodNru0Z40rnZu8a3pkRuLTJW7MxZd/VIgfNWKujP5NTxhVQtlJuy7RbL+aB6OI5L83+jeNGqDB3/G5lERY6nsX6FuRyjXbcRHDy9AsOcOWkwYT9v5Hx9yczuTRg4axqNCuky01ZKXwJO+yZRPHtWKvVcgWvKqTxhnJvflWIFGjB75iCy5izLBukYXfetFNBpzgl5TkI4u1uUpebQayln1r+/t5WWBgUR+dpx1jcBEr1Z3ceUrFp6zL/4PCX9ryyWoZdRUMBwIBfSnGuc9OIqnWWrfSHq9V//Ueco3OM47XOoykHWXLnJlSs3+XJmo8w0qc4NZ9YnhWIC93aMo1yuAtQduz/VyVgxHJvYlmIlTRkzvjMZRXXOpxGKkS9tmN21Otkza1H+14U4qnd6dz5ghvEvY5jRpw45em7j8tYxNO86iQnt9Cg27hxvnh2nh5EOmUUO2s85hVwKXXdSVqc15/xUOF6fHIK28bKPO2VRrqzpVwuRsxzjdtvLjp9u6aIeapfSb8SRlANxErg6oU6qe724fGMj5bVKM2LxdBoWyYt+79W4pxwhnoTD3glUzFOQGsN2pGKRkkUQ/oTF3aoiMhem1woLpNJyf+s4DAplRhSpyR+HHsuOA26spsaghVw+PIVyWfLT9I8TJPKSCfVKkqt8e/Y4pmrMYjzY2LcmGfPWZPEl1fnqqUKUL28s741ORi20G85CKjFHJjQgb93+rDLrRLY8FTDb56Q+czuCEzN+pXS+zAjtJuy0V1lXfQ6Np3yvlZxc34di+SsxbLd0NnLyXxiW5j3QylyYHqssZMtr8h3VZzzn5/5GuQKZEMUbsNZanUm+p6lc1oxLN7fRWDsvReuNxynlXUng2bEZlMxZgs4jh6KTsxxzb2paeiW/Q5+doZ9RcUq1nciQFuWpMeQwEc57kOtiuV7TZsCieXTRr8Fy6VBrwP/iHEyaTOSRwzGMKw3l4MlV1ClWknrD9mhoF/9r5pTTykqNHmvw+oEM/yqmP9b/XycUowOxv2/BUNMiVGw9Cwub+9y5Y4vLC5WcD33+BKenb1MOf49864HD0+dEpTLW+V2aRs5PCsX/sXcecD21/R+/SCKkNM1CSyRuMlPKyN7c9pZN9t7ZM3vdyt5kJVtWlD1CViIhkqLN+/865/ya8tw8j+f+P8/9/Lxe+Z3f71znOtf1udbn+/l+r3Mkd/z6TN4AACAASURBVFhBNP5JovjYu8u3RDHpI3euX+HC5WvcfxjKm/dZesI3RDGZkKCL3H7+IcPrtpKICLnFRf+zXL4Xljax/2c14a8oTQq+AytkmDCVBUVY12WvtLh9OkAhIWizWxV99zmQRrly4jL6TAas/nqieG91dznmSCJBIo8ju0Mzx4OlEkWF7nzAs4UtBYq35uAj1WwVE8KGkU0pqKHU16bFJM5leLF8KrJv7m/FQRSk+4qLvIlN5vPb2xw/dIXId1forCewGnhcTho4tgIaRecR+vII1XXLMPGcNPF94eyM5uSqNJynL8/Tyq4CXf94QNLNheiLcqwLekrwifOkrV2qmya8e8qZk6d4ERXO3EZF0K0+UyY+x93MEUKXXqt9ObO8C0IUw/OedNFLxpXXwXKED6HXvLARRXGXLfQP+LhVRmh353aSREJe4Fm5OEJYM93nLDtH10aKVbsoZZF4nZ7FzGi96hK3tw2laJlWXPwE52ZJi2k+uq/IuHgoBU2JfcWFY0d59CacrX1sEGbDkajr3em1ECIHnb0VCflwN1OEMGLkIaUPxUfd5dj+S7x+d52hJQRFevmR/N6P0sKQ8Zcld9ILJtiVw3HuJRUiysfXhCgCjh7iXsQrjo6xR+j24rpE6O5JhoigRH0PTvtvwVVLYOJ+Qb4obF1HhHBi/YkjjHYxkzHLKg5/vLuFGloCUWEQF85641jIkNqTTwOvGWohEEau7HqqWASBy7ujY9mGk49CWNKuMiUbzUXinXfWtKOgTk3WHDvM2JoS8bNmlQzGXISwxEvm9LEssRLoN/aR58uUwPnoCj36/XGMC34BvCYGz5ZlsevqxfM7f2ApzFn2BLjigRD27Hj0ipvXb/EiKst8Fn4Ob7+7vHvii6teHmynKXVPBy+J4L3jMBEVWREUwZe3dxjuYITo6AXEZUMUT8mXPtzUD3OzdpwKucH4StpUnqoYIE+WNkPkasCmEwcYXM1EJmBZ3x8e9zKYE2cuEPE2hJFVDTBrtlJ2Gz5Y31JuqxaSwQAcm2SPEAXps/aW/P3tw0BOnb5NVMRJHITAdb4UknSfRkJQf5M0Ur7i09yIAgP85fRp/yWGMKq6DXa9NxN+dwc1za0YsP0+fHnPom6/oesymuvP3hKXwQ7+EhPKuPrFsWm1kJB3KURdX05pISjVcioXgvZTXzsn9n32y56M0D3ulC7SgqMPbjKjWj7KTricdmv5IOUpo6uUpmy/TUSGP+LWzadyG4cc24X/41fc29pf7gd7YyHm7FyKC4FeG08CTq3EXi+nfG7ZqUt4diyLMO7EA6mcX58zw6USlQbv4OXFJdiVqsyKwMyEKnKn1L/bcyo0lPOX78mes52jJUxNcFvhx+mV3RDCjDkXJSafwtUje7gWFs6VhQ0QoikXvsLLzb3lNqk8cgt+6wahKYoy77ZEc5M4Nq4+uWtN5lnocRpY/0afTXcz15sv3Di8k8Dnr7i6vBVCOHNcogZhezHILchp7Y7vhQP0Li0Qrorh9+7weHIIc+b7nWVRl8py+8+4mMU7+SGQjpZFsO+3lrPbR1NQCKq7bZXJ97XVXRDGVfEKCieZFwwsbUDdsUp/ODqqJsVcN/IpdA/aQlCg8hiO+K2hioag2vzrctmjj00gp1Z9/J49YLarPXZuiqKcpWLqryoEfowoPt6HY/WKGGvnQFPXlAqVfqNs+ZoMWaaAvquNPsJ4JmGqTM/NqIUwasXlDBbmX04U3wbSv10dbMuXlgdAvaHH5Q6W1vIqorhE9rJ+5fqqnhQuZs+0Aw9VhDeewwt6U8HcGju7MhQtXpbWE3cQ8TcNiYiPfsd1n8mYCyumHblD5Otwnr9UTaqfjlFG5KXPEdVrFBNu0aloEdp6BKTBKQXB/9WKYkJ0JBFvIji/pBtaevU5EK6oWamFOtTLikK2q3mf8pxFvzti5TCJW2nKXSKb+zpg7tCXI/ci+BAWwLCaVli0Xsq7DAuJnFfsSeqKggzeka7upN7jyNAK6JadKis41yZWJrehO9NHdsC+12rFsIi9QUebagw4oLhVLkxoz2/dvAk7MhLNgi0JSLOwU3P89vOZd1dE8UZciPvKyf7WaFtOU8Vd3qKaELTa9xaerUFb2LFHXkOS2deyKLma7ZYzuzyyJiLvIJUbKoIFZfXI2Vg1MT7bTD5hwtJnEHtsInlNe6pI6yNalHNmiv9HLs92QpTryo2Yb8uW8ZekMxMR+Sqx9+0X7s+sgcjfj9RIg71dSpPfZmraHJHxuisetdAsPoYIophja0ClpQ8gIQCnUs6qxS1j6gzHdxfLKvUaiYA9kIhiERYogg3nBtqgaeHJZ94x0VoPy0kK4Yw9PRlNUfIb13NM8CYqaZZkxBFFyTk5oSGa1cYSRThDLHRxHHpYMYpSwhlXryK1x/rJBfngPxtTozoc/RSFh20e7Eco5Icr0xAaJVghlS1Y2thiwyaJ8BHLsrI5MG7pKx8vqVoIg56H0ysV7YudtiVeKlFmtYsBDp53eO3njhCt0vBMv+Dbo4OtSiAqLvpG8Xp/cS6FRRW2yVZJFB4NSyI6SxtYsiOKZ+SMPaob4TxfZrgkHOqDprkHH3mFexEtflukhKh8ODKcHH/ieg6Y05ictl25lwwh69sgirhyQiWaHRpXHVGhF3ezcSMublQU66ZrZRVrWxszzLpJuIfRv4AubmczG4bR11ZjY1idtfcV1de7Z02Ktlsm12Pr4OroNvQgMuvYJoWFzc2w7ewluzQTgxZRWJRmzmWls28fZI9B/VkywV3iUoRqM1Q9+tRgRJGxKo+Bqg1ibtHW0orGi741qOQUCeew1RB0PPWZpIA5GIlybJKn1HdMqlcU0WqDnCzafxZGojp7I+HLvQ3YmDdmvyyWJTGhiQtt52ecd+HePEdE8RlkjLzaPMQe4TAauRslXaalXjF6rlYNDlVxebOd3EIPj7tJvN7RUzamlJwjmFiuAKaTr8CX6zQ3rcq4s8rcenxwc8p3V8qZmk2mz/f70RPajAr4AhHScS76+SsG1oPFjRGaA3hFChtalSd309XypSn3vLDKVZTJWRTF10fHYaTnyEE5diiJaQ6GlO/iJc+rb/cPQJjU4ogqrmjXUBfKNVspE/r5tQ2pu/wRvN5JHpGPkSq4rk+sjjCdQQyJrG9aHovx5+X7x/uNpUD5frISm6ku6i9pCPwYUfyaTHLiW6Y3NKN8xzVExKUQ//kT8YmKZHigpwUFrRenuTuuLGqMsO7O9QwGwl9OFL8kkxCfQGLcXXqZGdNkzJk0xVOuvUwUS/LHswQueLRGt4gLPk/TrfQP/tMx0ndhzRVlNosMXIGdflmmH/v7vnP6Y5AnZYQNy7Iygli//0iimNqLQ7cORVunLj5ZiKJvv3JoFKxPQ9c61Oi8mBcZSX6cPzWEFh1WnuVp6BOePHvEkVlt0dJvzKlIZWJLzZ/oY7gIHQZuTXX7fOX69ik4VyiNdg5BsaoTZBfYramSiiapT44sDVSIYcJjH+oWz4t2EUsq2pXFRDrvMpW4uIf0KZMXjfJdOPgsvd+l3VPSsgK8aVXTTrbKhaUrJ2O/yERRx2oJyqbdm9QWgsa7Q4k42E9WB26oMrgxywmhLZEvuDyiBiLPAFn1glcssC5Izl6qMI+n28kv9JhzL5HgRZ3IJ3JjXr485a2KIkQeeu15yeU5dcljP4yQbBZy6XbRt3bTpW5lCufXQJhUZFN4Mg9mVkMUmJTmGtzTxRx922WZFrN7+2dSv5IFOpoC/TJDCZGEwRnVyVXbm4gnGylTtRNn3mVwS6jqFvfwEH0aVqW4rhZCx4yFkqL6cKmsyPwhZQL4D7dFs9gC3scEUc3IiA67FM02LnAOubOJUYwJ9qaihi3TTirj/eH6nmhptuBqUhhDLUxoPNpfifGMvkTroiXptlRBOi5kG1W0K7H0zDGaCkEThQ3CLU85RlFar7Ijiiatj8HXQGoV0KPrgfSdNV8DZ8p9qJiVLRUqlCGvENj0lJTNhwy00UOrXDcOP07zhaoQUT6urBlKLcuiFMwhEKXmkSkcXIo+PDcbE2HPZlnUfct0V7PvE8Xh0iL6gjZSyIKJBeUr2FFKTyCK9OfB03OUzafHgBPKHWLPTSbnd4hi2Mnl1K1kjV5OgajckesJELKuHaJUJwJV68OBMbXIV3M0T9J432fOrnTH3qYEGkJg13oZkv0jGUz6ZScTHuZLUeGEX5ZhE+I9AG09V3zfKn3Gf3xjhFU/uc9tHVSNgg2mZ2PoJzCvqSnlOq6X3ZLxV6QYRRsW3lQsyh3DapDfZSqfCKN7Lmlsm8tYWBgIRIFOBGYaEyncXNlHHjftll5I3zWe+JDZ3ethXkRfbtumRz+SdHkOhqIqu+WB/JpJdYshum+RG/Kt/yyMhT07I+DNoQmy8ljEuhx2ZUshhAZOY49kandiTmOfU2DaaCLXVGLjpsHV0K03jdcSFJ8DaWdSgk4LFDWY8LMMb1WLkob5ETm0GXM9nrc7eyBECxRNNwGfZibkrLmByNeHqGWshU5xKyrY2WAkzV+uM7+NW4+8xNh2TpQy0pHr2Nc/EV7vo6DQQSVCE7y8GUL04WlyOH2qmVN24gm5HskhO7DJJkYxYEFjNMr25pbM2ZOYJxH6Thtkohixpx/CuCYHwpS2Dtk2GIuKXXmWcI9OWsWYLYmeL7agJYyZq+LHkT69EDlbcT3yGQMdTBE6xalYoTzmRpJHqTEqdDJjq/4mI/BjRFFOmsjcpmbYdd2Yyc8vnfLpaf6fRxTTGliJb2s0OgtRfLiB3DnzUtq0FCXs+nEl06yaws52JchZqicrt23B6w8vvNbMppq+PnXGHM3gbk27yd/i4P3lRViLMixRxa2kVSr2KNYiL25HVTLHdxTFBWV0ydn9O5tZ7kgLeUlWp+6TScv8Rw5C6VfSkAYjT2ezmQUebRxEnmyIot8AW4W45SpG60VZ3FQha+RzGtr5yKuVG83cuckjuR7zteRweJYd8mlEUZaEuLjgd8xLN2HznbecnlSdAuXGyErZzSk1EcIYM0ML6oxRiNjn4M1UyVuSXksPc/fmNQKDArn2SEUMPj9kaWc7hEZ9LmcWQ3l2dAaWFlWZvC+Ex/sGIgo7cSKNKKZu0LmBkxA03fOMF7t7ZZjo4dY8F0Qud7lcV7Ijij1UG8eebiO/0GfevXiCpIW1cCsOX7vOtaBAgoJuygvNiSlO5K48hAfZqJ/vLy+nYulyDNxwnfcXZyK0rdj4KpUoTkh7VNCeLqUpZOupIrhwc31PShetw9qgV1xbXJ9cxfsie9BDPNHN04a1i0ZTv+NM3mdRgOKDt1KtlDldl18i7t4q2Z29UBJ5ZKJowTopJhA4O8wWzRILifwQQEUDQ7rsVfpu3JV/RBTLMfWE0jYhXr3JK5pwOeE57pbGNBylCrP44E9zQ1N6LFeW1PjHO6mWtwILj+ynrshBs22q8IxbS9KJ4r358uNjNsvd5xPLy+WkcJtjEHcWC209+vmluxI/nxiJyFmeRUeCuHU1kMCrN3j0MlUGf8OC1uXQMm7I3kys/St3FrZEGHbmyPMnHOxkgSg565uNDD9FFEdIrut71BKCmjP2c/P2NQIDrxL89A0pL45QQkuXIacV1S3Gf1K2RPHO1mEUsXRh+alnBK5sj7BurSKKbRElO3BZVe0DYxzIW30kj2WimMDu4Q2xrNwDv9APbOhSmtKNFytGTtgunEvXYOkyd3LXmJxOxFRTSPDaPmgWaoSfSja8MKkZwrS3rJD/HFEsw4LrCubb3WtQoM504r7co6EQVJ68lxsyFoHcfRBK7Ld2DJHnl2KhpYXLRMl9/5z+vxlRfuB23j0/TfU8goZHokmWiWIVdsmKWAQT6xRDdJV2ncMbmShWYfdrCNs4gLx5q7Hk2CVuXgsiKPA6j958K+1/jbyEe43iaNoOlo2zHe7V0ak7hQiZKF6hrXEJungGQ/wl6pc0ponHcRKf70ZHaDE6A1FUnjuSyKGWhdH4bQ3Pn2+lgqY5Q9af4M6NqwQFBXL9sUoKVuFOwjUamelTZ9IR4p4foIjIQZ80oliASUHKIL63TCKKbjxNDKNr5ZKUnyIZQJAcsj1bonh2Zl1y2PbljjzvJDKvWXZEUTHqE58ewLFqK7z3zaGYdi9kbvh0I7mFEXOVocr7Q30QGk0JeB5MaztTyg/dQMidG/KcHHj9seIBSq2T+jMTAj9BFOOY3diU8p29SJ22UnOSiKJumaVpakF2iuLLI2PQ/m6MYjhzLXTQSFU5UjP+wc9HXp2VGMUsAerK5U9wMzOkcTZEUTNHLopb2WFt15qlZzK6FT+y1FYToVMOF9e61HZyorZzbVxc2jFrx7X/PaKYcplaIjfddjxXtcgDuhUvmsX1/JZlFXXJ2fk7O9fvr0YIU1YqXqwfbNnUZC8YbG2C6yiVWy/1Z9Xnk21Dyadbl8MZQh2kU4d6W2Ng68nVy39Qo1BhGsw4kb64fPCjgqY+EwOzZJbd16ij1BY6DN0tzeof6WOgQQMPxUy9NLU6+cqOlgnZtQm/kdd0IYEnZqJr4KKU58NFGpUsQ5ctmZ8vmX6bJ3TPp4HL1oxKdTJL29lg3UGKH4Oog5KbxfG7RLHRjlfwcAkawp4j8hqSgm/n0uRwVhaeC0OqIvIOUY3bCEVRzEQUCzH7PrzZ2Z9cuq3JGoHkO9Hxu0Rxd39bTJznKRt0bs5FaFn+AFGMYUSJnFQfcUWuX8iy+uQs5sYdWfF9QKd8+SletBb9PU5/M9ZOT3Igf4XxygaHlxsQwoDvEcVcxRbwkXAGWRSi4lwlTObz+enkFqWycT1vpFIuS8YdUyaRS1JcabVRvJOuN1eIorwkJYXi7mhLPTl+ET4GLKS0vjMHo14y1lQDh8kqP9e12QiN4iyXFM4QT4SwYIPMIePxLJsTk1aSC/Ul/UzzUm56hk74YhP6oiQrVYQ3vZ+kHoXS27YszWZliEH8covWGgKHvYq8dbqLBcJ05r9GFIdJYy2eYUVz4DgjVadWlSHlNh0M8uK4VjGcYo6P+db1/OUNE+pZU3WY4lYPXt0OYfWPieITyT6Lv0Tjgkb026oowF6dSlKy0WKlvXnO0IZmFCpahMrTJNd95n/vLy3ColB1vB9LG7++sKNvLQxazJcTbRr4fUVxTqPilO+yUTZCE2RFMQtRdJ7CRz4z0TwXVX5owoDQzW6YlO3Cmb1jZJeuv8yVrlNNS9Dg8I8QRUVR/Hx5ISX1arIl4/KUudrp396foGJeGzwuvMNnVM1viGKP1Q8I294RYdBTVu+JP0I+kYtRMlGUXM/1Ubb/vGNRJR0MJwXAZ3+cTMow8FC66p1+Q+Xo/d5uCK12yryRdFL2mvT+LlHsjRTt79mkHDodN8oZfHmwGWut4kw+m24wSSfC9gxG16QBx+VbJzOzTmHKd1YUxfBdfRCFHTma6m9PesZo1zqUK2VAwQ4qseLxJrREQSaqIgHuL6yDMJpGDB+Z6ViaooMzhHxkrZT6eyYEfglRvDzdAWE6Mi1e4/by5girbmR8FNXb09MpIKril63XJJJV9gXR6HggU+F+9MvLXX0Rxs04n5XByhmEMdCmMI3HZZhYpd/vryWHNCHfieTc4l7o56vE6uvpltq5sTXJU35u2g7VHy3Lf3O6dwELsRLW3yqKfMbDoRD5K/Vj34WrBPl74aJjSJtplzK4IJI5N6wSQr8DPteucmLrfq68zCBBJZ6nqhDUmrSX61ePs3pbQIZr/wy1eJa2s0an6gCOXAzk5OGdXH2Vbsq/C1yGVZ5i9Fp2kCvnTnLq9D0578O9LChg6aksmE92U7mQCc1nnlLt2ktmU59K5DdwYtpGX4ICAzh16DBnb4RmDlGQihYXRKtC+XEdvZ+IlFeMKpkLm05beZ/0iJFWudH7bbxCFMdXQBjP4R3PGGBeiLKjJYtZiYUU5foS/DGO92GhhEcnkPT6LleffSDumQ81hT7DLmYcGF/w6mGLQdVRhHz6xKYe5ojidTglKYr9rClguVAV5nEDRynYf7MUHXyfziX1qLM4iLiXR6mTz4jOPgr5vLNECjCvi+8rqX+Hs9imIDm6qwj9k23kE7rMkKzuqGPULWhI0wWniI37wOMnL2Qc/SY5olkpe0XRd3Rl8pn34EpkDCcn1kIUKMdmWVGsisg/XqUofmVP59LolUt1mScwxUaT4k3WE5H4lJnVdMhTemDaM1a3/G4gE6s5/qmrQHr/uDy3PrmMWnM6/CPXFzVD5CzCIklRfCAp1uase6CkPTusHBqFpbaAy6OrI4y6cO7JbRZ3sJNjGfdkMSpigrfioCMo2GoJ4aFn6WxdmlrjpUcIvaJ/KUXNVvadJ+I7ow0G1QZw5/0HdgxxwdRlotweJ8dUJ0+Jjvg9CGZd61IIbQtWSAr617NYSSECi8/y/OoGbIXArLXiPgye1RCR056lp+8SEvycRCIYaVMQm46refzxE5FPHxARD5/DHhIcHsXHBwdxsq5Iv62y/qoC5j69jAVFx54mPiqQPuXyIExnf+t69p+Fiaic5nqe5mqa7npuXo4SqY/HMTegvruymeX8zPoUKtKKffci+fw+lIdhEhlN5lQ/W4TpAC4+ucGsZhZyDOahTOv8O+Y0s6J4ozlEfI5kQVNDRLn23JBdz20RZu0JUD0NRVIU81QfgUwUE2/QVl+HuuP9iIu/QSttgVXLVBHiK3vH1pCNgzFHUyPi0/sG0VfpY1eO+lOOk/DmDC3Kl6XLGsWh6D2gKgVdp2Xjev7Kuu5lKVh9KJeexvHx6mJMhDULrisupu3u1clfe6JMVK8vaYauYWN23XlDXFQo90OzLDgJUdx7EEJU/CcOjGqMZY0J3D0/Fy1hypJrUUQc90BH6ge+kut5NgaSezlNUSyariienYmxqMxWqYrxt+hboRTleqwmOiGOF89DeR+TMYYG3gXfICTqExFnF2No4MiWJ5/ZO1xSQlWK4qfLtDEuQfdV93l9uC8ihwN7HkfzdIsbQuRWXM+7+pNTCDqsDSTk1HxKCFOmXZUk3ihWd66MRpURhMTEEfk8lPAPGecqKbZ5MEJUZOuDD4TuGprJ9awjMiqKTRGiB1IAT8jKzghRnUOPn7JttCtCFGDahQyxatI2mucHcSpkSIu5x3gcsBIzSdHttUmOvf1wejI6OUyZdvAmUTIcKfhPleY5QYf9qnnj8RY5NMiqwx88CDlG+2IFqDxNMU4freqC0HBkX0gUsZFhhIRn6rwZOpX6UELgJ4jiZzzqF6ZM+/XfTEApd5eRXwgc+s5iy65djJWea2jZBVWYloJ02AGstTSp2H8h21bPYYrXUT5m6O/XZki7L6syw3sji4ZNZ9/DH2+45IfrKSEEdYctYvO66YxZkTHaIIFVna0RJVxZuNaLpQvmcEbqRw8lhctQUSOkMCK54/7G6msqshh1ilqagoIV2jF31R94rV3O7GXrua2Kf/k7dp83/h4YCxNmXcziWpDi0EIO0LFsQcWVK8WpiArMOKBalVPBiLlCZ+s8ShqNSiwNzJzPzTW9ySdfKyjgsvAbtSg1m+w+393eimthDSVvi6bsCsnwoPSv7/GZ3EJVttw0m3RUVgf2/W6IMPSQSZyU56vjE9AVOvT0Vj3Y/fMztk3pIPcdObZQFKbfmkvfEkWSObmgHbmEwGCMH4k311CpkBb5yrZkUHM78pkOlCe/S0PNEDnHyq6uN1ukidBOdh/xKZhlg1zl60XeCsw68YIIv/HoS3FbohCV+3pn3mglbXN44ktXm4IIncr079cAXcPfOBCVyOFOxgij1DpdwU4Iqq1S/PmJd7dQxTgHQrMwDSf6pLvpoy7S1TIvIr8d3vcesKCE9JifHQrMD/+QcRsdoLhwIgM30siykPybbtWRPEiGIyMrIMx7cidTeIZyedKbCwyuaozIY0OvoW0x0SrCimfx3BpvjRDuinJBCluaF0IUm5W2uzvq6jpqGudBy6IR7u3tyanbiWuq9eeaZ1NE6c5czu6xajG3GONUDKFpTrcRXSgm8jBFErzuzJEJhOcdpVzH+hRDaE1QBag/YqxTEZl8Dp80HANREm9VELySGmKCt1BD1wj7+s7yXGbcYAq35CnoCZ30clGjv196G8U+ZFlvBxmjonVHciJ1F/2Hm4xyknYAl6Tvwmm46Bdg+lUlkO7YRBc5vVm9wYz6vRTajttVBkska/vVRkseF9XZ+iSR5FA/+jpKu9sFwrwZB1+lEH5oGjZyfylIneHehKXF8yk1iLmyEoscAv0KLenZqDjCcMo3byR6dWIiWsKCtSFSW79idHUdRPNVQAzDXYpRoO1a2ZDobqBB1d5HlPomPMdrWCN0pPg8YUTfzaox/+UBAyoURGjaMn7qEPSEDTuy8Pr3t3fSwlRLVsP7da5B/lKu8i76u56uiIKN8VdNDzsH2iLK9Et7zFDwvsmUzqOBfrUu9HAyp7iTBy9VduH9Nb3Jq9OA46pH7aS2X+rnu6AttLDILxsDbafvJUKeJr6ysosVovqYbN9U8ubyGn7LJ8UcDuJm4AK0RWGmqzqfV28bxG/uPJXUzpQINo9sgq70zF+hS0+v1K1aqru/v8V4ae0TglyWbfG+LKnTiewY4owQeands5fsyq+2N5K4s5PQEJZslJ00LxhWWRvRco2cUfixCWgKC9aHKAtk9P1DDKqt9Adty84cfJiRoCZzY2k3pf/kNaXDwpNyHut7WiPsRypx2R/P4apZgOYzpXXxLXOamCNyFKHtsF6yAeN26RNvd/WVY3dd6paXy+owen/6c4ejbjK3h5McLyry2zPvhCq8IhV03rOwpZXcP5oP7iUbQm2PfYYX22Qshl9U5pYbc50QojXK7BvOJjfpaQq6dB46Gjsta8Yey9KB+MKt7WMpKgSFaw1iTId6VGrqKcerkviEPlHLNAAAIABJREFUafWklzjoMumkona+9h2DlqiKb+o89Xgz+TV1qeLiLKuc+rUm8CxNX4jCb3Zv9OUnXujRcJ4SL5lWJfVBJgR+gijG8cfgRrSb4CPvAMuUiyQTn1yEq11JjIyNMTWvivtKP95kIIJS+tig9TiYGKJbvCztF/kRnyn+KJr1A+qgp2eAuX03fELS1b2s98ru+909E6luboxOPhvG7g7JrFbF3mNuu1oU0S2AdevpXJPG2fN9VLBzZfOjtJ7DgRH1Kd94JvdSO1r8Q1a5t8CiuAmGJsWpNXglD6MzFTq7oqh/+2EEUkhMSCAxMYmkpAx/iYkkJiSSnKLG+oeh/NskTMazqTlV+x9LJ7p/Qd2UzSx2zAnIEp/6F9xbfYsfRSCBDW51qdHL65s4+R/NQZ0uewQeSY+YE23SvILZp/pP/jWBI8Nc0W+5KH3tfyTFKJqwJCuv/U+uxn9o2X6CKP71NfgUGU74qwhev36d6S8iIpzXkR/+0oXkr6/93/+Osc/9GOpUmeqOTjg5ZfhzdKBqnebMPq7EKf39kVDXUEEgnpBdA8iX24G9/+53MWeBXCGKZZly/C++cZZyqL9+H4EHB6dgalSVpVcyuyi/f4X6zI8ioBDFZmSJRv3Ry//f0z3xnUM5E3tmnsgQ6y0TRSNmK0/w/38v439zAf6jieLGvtaIHLnR1tbO9JdbU2BRaWHajsr/5gb4Xy57SuwLLvrsYu9+H3x8Mvzt38+eA75cC88cC/O/jNX/Qt2TgzdTwtCSIfu+t/Hn34fCh5srKC6MGXZQbZz8+1D+F3KOO0ddUZiOywKzCQ35F/JVXyojcG9FE4RwIMsjxP9L0AnBzVqX+pMOZN5oe2+l7PoedyVDmNJ/SY3+04r5H00Uv6Ykk5SUTHJy1r8kkpPVbsn/tM6kLo8agX8JgbjX3AlLjfv4l3L65y5WTyn/HG5/yVXRBN9Sq73/Tqi//tf2/2RePXyczasF4et/b6X+nU3903n/RxPFn66N+gI1AmoE1AioEVAjoEZAjYAagV+GgJoo/jIo1RmpEVAjoEZAjYAaATUCagT+XgioieLfqz3VtVEjoEZAjYAaATUCagTUCPwyBNRE8ZdBqc5IjYAaATUCagTUCKgRUCPw90JATRT/Xu2pro0aATUCagTUCKgRUCOgRuCXIaAmir8MSnVGagTUCKgRUCOgRkCNgBqBvxcCaqL492pPdW3UCKgRUCOgRkCNgBoBNQK/DAE1UfxlUKozUiOgRkCNgBoBNQJqBNQI/L0QUBPFv1d7/ou1ieb8xtl0/705XQat4VHcv5jd/8jlXz4E4zl+MhuvKC+nh2TurZ9E//VXfgECsWwb0psFB56Q+lbyR8f/YMIiH95neZf619cX8Bi5nLvSu8wz/ot/xKyBvVl2Izbjr//08YOj3ixce4KY1AL90zn9+gu/Rt3Fc/ZyTj39mbrG4OO1gO03IlUFisHfeyY93FbyOAvGv77E2eSY9I4dS6YyZef1bE7+5E8Jz1gwuCcLr0lvOXrLHo/ZbL6a2k9/Mq9flDz5pT/j3Cbi+/TTL8pRySb6/hEm9p3FhYjs3tf9gWMrxtKmaR923s46QH6mGJ8IWDqFHotP/8xFP5g2hUMe7sz+4zrxP3jFDyWLe4H36hUcffwzY+KHclYn+h9B4H+PKKZE8Try105Qf4++ksTG3lXQLlSRniNHMnLQYoJ/0ZuPYt9Hk/L3ACnbWqS8OI6LiUC081adT+BwcxNEc69s0//cj2/pLQR6zh48U4F4xqMFhvYjeJplNUm8OosCwo6tT7Og/fEMVkJQe+c/TxCS4z/xOUF6dUMK+93rUrTaWEITlZqkJH7ic1yWe/5cJX8y9VeiY2NIyeZNEgkPdmBtaMvYn3hPeHLIVlxLtefEeyD6Ei2t8sqv/hKiEef/QmMpJjpWqVP8U3pXL06xvtt/EpdsksdeopIQ2G+TKnebTnqG1Ft+M5uEf91PCdc90RNGTLqQSsx/zb3D/SZiKKxYdTfmmwzPzO2MtVVDhvWsh14BF3aHfZPkB394xzrHYoiq834w/c8kS2SMeQ5sWuzI/Cq6n8ki27QxbB/SgQ5j9v+t5+Fsq67+8Zcg8Lcgiq8ODUYITQZvf/AnoJynhBDU8X70J+l+9HQKse/DeRGVnQULz7y7IER+Jvhn9xL7r3x694bXbz+RzXr3owX4ZemerW+D0GrE2V/6BrUPdNYQ1Jr0/7sw/TKQvpPRl/DTNC+fCyEqcFom10n4/V4K8fuWLFd8ITYmloTvcKqkuE98issqYUUxLK9AaFdg0fm3cn7n57XH1HEcz7PvdlnuCSRfplIuQYN9/9zC/HJbF4RhDU5n041f7+6J0KvKsahvb/vv+SWa8Q7FqNhv/y/LflefspSdcU3J79F2Bmy4TMju4RQSrvj/RUTx5FgHxG/9kOgcX8MY5GKFlfsvqOOXGzjmEdTa8c8bCb8MaFVGibdXUVSUZMZluba/LPsP/jMxExVZfz+LcvbhGFXyGzDipEIg5zjoU7bXgWxf+fbnhYnC29USUXvJnyf96RQpTC6fH/uOB375+6yTgjdiXaMLJyO/M/n8dFnVF/wvIfC3IIqhPiMxNrJn6o77f0K6gvhNCFrvfPZr2jj+AaPqmVPN83Y2+X0heHVfipmVZ+qZ7BboaJY4l6XeAF8kp9D/779XTDbXxHpsllfCx79it/ce/IMusHrBfPYHKxPw7cNrGTd5Ab53VYvP13geX/Jh9tTxTJy+nqsvpNX1ExeWj6GkEJRy6IL7hpPIOu6X95zf6smY8Uu5EZmN7zL+DZf3r2PEyPEsXu9H2KfsJ7aIG74smDKGySsO8kZO8pUXF3cyafpyjl86j5eXr6x4fX54Bs+lOwmJleh4LGd2rGXH2ccy3JH3T7Ni7lRGjp6H303Ve2Sj77Fs8R4CA32Zs8SLG5ES80sh+Lg3U8fNZf/VV9801ZcXx2lQ3Z5K5Y2puyZUPn8sW6L4gT2z3Rm55tw3eZDwkNn93Vh58mmWc+8YbiwwsapF1wl75HMXF3TIligmPDuDh+dOUr2uMY/PsWKOJ0f3raO8pqBRGlFM4Y7vOsZNWoDvnddynjGPAvDZfZonN44zc/JU1vjeVPplZBAda5dCFDCjXb+pHA35QMiZ7aw4eJ2Utzfp5lIakc+UtgM88Dl7iq3L1nHljSI1Rt87zsoNvrzOqHzGhLBqiS+Pw2/jNceDRVsvIqW+f3ANk6cv58SjVMaZRPjtUyybPIGJM1dwMlgZQze3TsDWKC9F7Fswcvx+Xn16yf4duzgf4Ifn9OWcu3eDrYs3ce3NF97fOMjyP3x5I5P3aI55r2Z/UHiWOeIBvfRLMftWZvn8sXdvtEX9DETxC6+DDjBuxFgWbD7D6/hvzbvE8CusnT2F6St8eCGT+GQe+h7kSNAj7kljZsoiDtwMz9K+8O7GDlzLGyGKVGLgmEVcD3vGiAblsBm0hkt7VjF5nhfXXmbwgsS/4MjqWUycvZWH0d+WQ7pB3PMAVs5dzME9G6iqJai9WyJlEWxZtYqDwZLrNY4H/ruZPmkc0+Zs5darDLNQSiRnvBcxxXM/QRcO4rUzgBjVbaIfnWGZx2Q81vmpVK94buzYxfF7z7m6y5NxM5ZzPERFAJM/cufkNiZPGIvHwl0Ev1U6QtJ3iWIsQYe8mTZyDB4r93A/SmmTz08vsvLwZcIfnmLBuCms2hOozCUykomEXt6Hx+wVbFs7glKiMn9kIYqfzk4hXwEXjqqG+JnpdTGoPAFJVEx8epYFY0Yx3XM/Tz5mNdKAmCfsXjGTcQu280I+/SELUYzl5uE/GD1mAhv87qbN5c/Pb8dj3Ey2+j+RS/kqwIeF632RpxPiCTy4h30Xlbki8e0tNqzczTM+4VFJl0otVnBk/3qmz1jHtYgMZYp/wcG1cxg3bxP3P0oNksLDI3vYdjKA0xuWsGLrLVkxjHtylnljJ7J6/7V0nJLu0dO6AVOOfTt/fdMh1T+oEciCwN+CKMp1+po9ochc38dU+5VEkZe0NhJU3KIoPZnvpXxLkd112Z2BGQaCikN/QRxS9tn/+K+xZ6gk8tP/dBaXzbtLuFjqIbSq4O65kzufkonY645ZldYM6NsCs6punHiVAl/f4bNyEgPGTKBHbVuKOY/l/qePXFozjtJCULpWV4atOylbyUfn9KKaU0fcu9TF5rfx3M2qir25yKRRoxg1ejA1SlvhMulAWmxeaoVib26kabmKdBg8hIFu85D04fenF1CmqCX1O/WkbkU9hKjH8Rh4tbUfQlRh+3Opf4TRr2IhKg7YLWd1b58HvQaPYVSH2mgXacwBifc+20xOISheth0TvI8jrS2vjk3DzrohA93aUrJQE05mCXH68tIPZ6sGzJg/gFLFJiBRr9Mds1MUIerObjqUc2Tq0Zep1ZE/vQc6UNVtBSExWftxJINMclDbfTjlGw/j3hcIXNQxW6IYdbAvQthzQOYi9+lmoYeFYxs61atMDiFodkCRBF/udqdkldb079uKklV6c+o9RB6ZQAmRg4oNu9CjbU0KaJZh8r4w+BBE19qlZaL4+4ApHA15y7ru5dCsN5MP4dfpXc8Skb8Evw+cyf5z26mbS5uuGxRl/+zUOhQsO54nGdY6QvdgmEsb0wptcOvWHGMDc+q1bESTjr1oXL4ImiZucnvCR06unsMI9zH0bVaJouU7cS46ibvbJmJnko+i9i0YM3kfT18cp56xQFjVZfq6o9w8t4xSojQzAz7z6cp8SmjasCQoEZ5sxDK3FfPPZVHWXu+gtGjFhYxlBB5uyEwU355eiK1tbXqPHMXIWX/wIKu6+vU23cpY0aDHIDo42WLbT3Eb7+vqjLYoTLOuvWlSrSRa+q058SozKX1/dQuN7IwRRSszeOwCAp89Y1xLc4SwpdfQATiaG6LXYAqh8mXvWD24PY5Ne9O3mSMOzT0Jy9pleMjA8saY1WxNpwZVySUE9Q7EQuxZyuTTpuEGyVCKYMui8QweN5H2VaywaOaRFpN8dGZ7ShSrSpfu7SgsBMUcpvJc6qXvTtLKqiyt+w6iRaXSOM+4JDEpVteyQauAFe169KKOrQm5TPrwUEr/+RFrZ49j6LixtKhgSbnOS5Boyte7q7+jKIbi2Xcgo8YMpYlVYYq1XyuPjddHp6Kvo4mFa0d6tqqFTp7SDNgj34GoS6uobGZBrXbdaPCbIUI4sOlBZkXxsVdHNEr04bZKHX60qRfalp0IuHGQhpZVadd/GP1GLiUoI1mW7xzDsh7VqdbWje6u5SnTywdIYEsDS4TzUjnF5SUDqFSlCUNHD2fGksOKIhy8lrLFHHHr3wUbY1d2hKYQvnswufM6c0Syd1KeMaCaESY9N8t5vPAZiX6RepxPimdhDQ2Eri0dB/anXulCFGvgQYiq3Jv7V6NCs170alaF4i3X8ZWv7GlfHSHy0bz/PA5ffQ9vj1HPqhadB/TFydKZ0TuD5XtI7bS9WRWc551XfVd/qBH4cQR+nCh+usvUtvYUFJIbrCzT9t1TxTu8ZELJnJj1OSorA9KtE8P2UDO/GaN8FHXka/R9VvSth46mQGiUZYTXRbJQkh8vccaU4adxlixxqUzChC7Tz5Nlvif27m5aVzCW0xQrY0k+UYAOGRTF4H0zqGamK58v19aDwLRJ/BObBzuil1vKW/orSONx23mlIjZP9k6S476UcxpoakhpctNs3V2IPEUrc03lupz5aOqlTGqpRX95fC62hhqqfHOSSyOnfFx2zh34cpOWJXSxnx+YmhzCN5NPGDP7yi9BLT3f1KOHXmgIE+bfyqJORF2laVlNcnTdpqT8fJmGepaMuyyli2J8tSo0X6py2aXm9WY3NsKIsRL74B2dhaDpHJXiGnEQp+Jl8LwjJY6lu0leeh78VmFJzerukvYIo3bczNKoZ6bXR9d+Mmn0PDmUUc7lKON+UL700rxWCFGHU3HwZs8wtAs4s/elpF6GM6yWKbWG+2SJ1XnJ7zkEjstC4O1+dKSF1fuFqhhh9CuRn3a7FWawrXZBzFPro0rxJfwoToUdWRJ4nTF2Zky98Ybz3S2zcT0rF3x9sgvngvYsuSZ1piROjHKiUPOlZKaOqsx5i5teDlp7HWN8jXqM9o3g7oqulMjG9fzxqDsinzOSh+3l2qYInb7Kgv14E8ZC0ORgLHy5ShN9S0ZfkFhHNJNqVqXlqvsknpuOnijJdH9pJUtibktrSnVYI4/p0E1dEaUac16G4Ctr+thTqMlseQy/3N4DYdqAM7IQmMjCVpWo7qa4TJc0KYHD+AuZFbwXhzDNK3BaJ6n6XznQrSxCtENezkK3YyyMmBaYUYIEPvrjalQat02SSfCBsc6lcBp5WAYo5dVRXAvmw3nGWfl73J112IjyzA2QxkoUC1tW5bdhmzk0tialOu1KU3xS0SVoJqLIaFJbO/X3NKIoF+UTO9uWR7RYlXr6m8+QZfURJhORe/PzTRQS5ni/TMR/sDNCNFPq9+40NYyL0X5z5vlAyuzgWGeE00iFaKS8wN21BKLBAvk+UWdnUjSHPRufQfyVRdjZNMBPFu0u0aiUFbMup6qwSrGerG+LyNOZe9LX0F2UEgKXfR/h80XsTYxpvTlz6M3X20sxy2XJwuufIf4UNTTyM+SwIr/NqKRN8TpzkXrF+TG/kb/ycuS7BS9CiGr4vfvIzqZlEIUGKOPx2Q6KSPGHARkUSolOnp2OcZ5KeEsC24O1FPsT13PM8dEIUZ0LcvPPprAwZOJ5Kc9YVjW2QLgul1XRWa0qYtZViQV+4NUbTWGPVxaieHm2I5olBxGsiql9vr0POcwdmD+uMcJwzHfXovgAD4wLtkKe7lIOU1LYc/DtR3Y3sUa4SPd/S9/qFXCdHaAAL///hrkV8mO/QulRJ7tYYTjiFHzwo5rub0w79xHeHaOZrkDYDkcaUudndKJi47nyWJtZKTfFXefLBiq3F5NflGCp1JDhaykknDghrz/nqCjKsenlZ072q4UQTZRxTgL7u5RHv5cy/h4ubkfuOlPT1sSrk+ti2H9nhrKqD9UI/BgCP0YUE27Rt5IZFm0XEvDoGcGHp2Mo9BiyVxkMN+fVQRj05rpqfn+xeyB5dR05IK984YytUZIyDcZz9v5zrh+cgXkBY7qt/wVKWuJHnj9+yIM7h2lhZESz8f6ZCUD0SWrlzkm59nPxPXeGAwt6IIQWHXYqkv+z3e6Y6JVn4s5LhL+4xYR6JTGoMJI7sgUXwaBSebBuNBPf85c46j2RkhoFaKqyyJLiInkRtBsXA4HVpEO8Cg3h7u1bPHqbACmxPHvwgJcP98oKZu31mWMnE6Lf8erVBXrrC6zb/cGtsCcE377F43Dpxgkc7miFsJiqLBqS7b9Fmvg7EqSyLH+saX8i1eNN5BMmzPuGKF7B1dKU+ituyZnFBi3FRMOCQct3cGjvWnqaapOnt2riSYni5ikfFk/4HSNhzODNEhF4TQchaOShkMnoY2PIrWHD2JXbOXTYG9fCeXAcdzFzm0l3ig3l8OaVjGxeBiEaciazQMC784spp2dK58VHlUn+zQnqFC7LsF1Kuz7f7Y6+qM2Jz98niorTO5Enl4+zZdVYKuYU1HC/DJH7KCCMmJcaTRCxCwOhS8c5mzl0aBtjnfOTy3FbJsKhEMUazL0ST9CSDjj2XMHOHuXRaJ81RjG9TZKDvalTvgmD+nXEouksecFIP5vx6C1uOoJm+1/wdkd3dJqs5Ny6vlg4jSM0ixqrEMW6nIuNZXctXXJ1VMW4xQVQOZegyZEYeZEuqmnOgGXbOLR3Hb1LFkC7/0FSLsxAV7sGm+UdKl9Y2asy+s3mIkH/yKsTwqwBp2UxLiWNKErC6rPNXRHF63FM5dYLWNQJc8dRRBNGd11dxlzMYty8OEhRTT1Gn1fYv//Aigj9sUo7Rvhimrcg/f1SiU8cDy4dZfm0XpjmMaDt8htAJKOcTHFw3y8rzcnhh3EpYMXwHYpR+vHmWpkozrmo5BF9zhNzy0IY5C/HuqxefUmJPtgbYT6brKG5aURRNebC9o9DN685k3bfzia2LYq15XORt/cxVcPdpa2GwHX3Q84NcUbYjlVizqKDqGdRFGfPLMYVKewb6YhwcCdCssGSnjPIpQw2wyUFCz7dWUc5Ycvi60k8WN2RfCa1mbdhN7s2zaKCfjF6/pGqGkmpY9hetzCi6UalLAnXcMojcNobnYEoKqEXJL7l2vF9zBraAB1RmhmnovkSNBOtfDVUczfsGVCGwk5ziSGaKUYCi6lXlXy5LG+SGXDqIbsk4tRwjfJ7xFFK5dOjz5F3qvtHEHB4B9PcnMgrbFl6LR5C1n2fKMa94Oz+jczo64QQpfCRhNDzHhiI6uyVoyTi2NuuIqLiLEn3pYO5Bd2WK/PTO/9ZlM4mRjFwngu5MxFFNzRKNsb3rBe22iXouPAorzOLvHLZr86pjSjQkqU7fTi8YzrmIicjLz1jf3MbhPMyOc3xSW3QKe7M+osqU+PDSSrkzE/DKRs5dHAHM1sVR5gvIplIhlX5jSYr7vLx9BI62dalcOFunHj3iXVuTWg2wV/Ob6pdAap0OoA8tMO2U0oYMz4omsgdbWUvycIdPhzeNVsOoepyMowzbjURFScrWMffo3tZU6w7zeTIod0sHeyIEL+rFHp4tKI1oqlEcNX/1Aj8HAI/RBTDd/VD5GjA4ZcfiY58y6fE18yobYxlKy9lgg31xkQYMfWcorr4DK5E0dqLkdaVL1dmoCHsWBsYTvSHd3x4+5S57X6jaMuFfCe85udqIKd+hltJY5pmIYoPV7ZFaLVHmUakhMGK63mXxGBfM6pobqxHHOFtzAfeRcXy+PgMzPKVZUmQtARGMsTCANdhygCW4kHW96pIngbT+ZAqvH0JpoWxwG5NZgs9vQLBNJR2m67/VkGQYvgmGgns+qXmn35V4sVp5JAtRum3OHbUK4hO+8PfEqr0S/61o+iTVBCa9DieZbmMkohicWovURa28KOTKSwK4dy+Oz26dadnz+6M8bkPvGGdeyeqVW/B0FGdKS5MGLJNclZlJopPNkmbe4xoKF3ftQvd+47B69izTK7llPCzuDk5U+/33vRrXgEhGuOfITxLqWgCl7xHUsbYgCqD9hD16jC18pRh3EFFk3u6fTB6qURxdzaK4ghFeTy3fDDV7erRf8JQquUSOIwIVBFFfTyuqeIn73giRB6qt+xGz27d6NazFx7rbqSp51J5FKJYnRnnYiFkBy2bt8XDzYE8Xf/xrtUtnUwRQodhx/9R3JBCFBtulbSq89TXqcv0mSOo7zKOp9kRxfz1uBD5ikXm+cnV31eBK+Y8FTUETY9+JP78LIqIQji165bWhuOOPCX25GR0tarh/Viy9pJZ3qMShi3myzFOjzZIRNGV0/JCnYUoSm0qEcVXyqCIClhCucoduHRnC+VEY05ncdMjE8WCDDsjMbCvnOlfAaE3SiHK4YcxzaPLoBMSPY3Bd3pPqjg0pu+QXlgXMOb3FdKmqHSiKHlck2SiaMGQLcoYTCeKqji5j4E0MhMIvbGKSpNlpChEcc6fEkWpPAFrBlE4d2GaTz2UJX0oE/Rzkn9kqlsvhD65BLaLLnJ8WB1EmZHK406irlDXvCh1l2U1klPYKxHFmu7IMMpE0QrLIUpMasytNdjksGPprQT8PWoj8lnQqlN3unfrSvf+0/HJ9LibcBaUNUB0Uhlwn6/goJWZKLbZJhlUoSzu04Zqjm0YNrQVBsKCWedieHeoP8KgCWdUcv2OPpYUrj2fzzyjuxCUWSy7A4Ab1BaCFlsD2CYRp7oqAhJ+hFL5CtH/RDQkPcCjU3Nq1m3P0L4N0RF2LLue8H2imPiQKY2qUb1FL9y710YICw5+SiWKVdghD+9P7GpbAVF5LnCZxjqmuK1ViPLrU9Oz3czyaEMHRLEe3FDNI/fWd6VgmR5y2Mvzw3OoaGhA5e5LvzG8fPuWQeSqQLuePenapRtuoyZy8kUEOyVinLqZJe4p3qMaol3QmtF7nsPLPejnzkP5Jl3p3V2aL7ozcq4Sk+zXtxal3Pfiv6IPraZsY0YNV6b4XmLC7w6yp0DqmtJmlsrt9yqGaOgWSorCTLn5lntzJOJchja9etGta3d6DR6Gz5NIjvWsjig3XplDIy9Sx9oIoypNcevZne7S39BNaYJDyIo25GytIvRZxoH6qxqBf4TADxDFRE71l+IgUl2w6Z/69pN4IsfHRDGqshFVBkgLUzR9CwlcligTyqPVTbO9VlQZQFiWhe4fFfQfnwuhl2lWopjA0S7miGIzZFVEuV61mWXPa/hyHpts6iSEASP2SmHO7xhqoU/dwcdVpCCZXe41EbVG8DZ1D0b8LZoaCWxXSmQpu3+3qC8RxT+yI4pRjNUXlHc7leYaSM/hCd0K5aDaXGkCvIZDDi36nvqGLaUn/5ePwhhRSGA2QnL0ZPiXRhQVFSE6YD66wh4fZV9BWsKIE9MoVaQmWx9JZCGQxkKHAVskohhBeyFoPEtSgiT1ZgjCsDFnVGJDWgZpB5/xHeiAqDJJ/uX17qHoinqczqIopiZPvLGCIsKMSQf308K0HENViuKLPcMxkIjiJ3i9cyhaBepwQCY5bxhVuySOo/0g+QpOWgUYdFA68ZXJ+gL7YVe+JYphm9ASxVn8vSbOQBSnnZbIyRumdXOmWCENcnVXYiFTy5vx89qS9pg1GMPebbOxLVib7d/ligpRbCD5HYFjAyuS06Ak1RtP+2Zhy6Qo1i5Irt/3KbdMuIJ9qqJ4Zyn6wh5pCGT8F3FoHAW/QxRD/uiIMGvIWbndv2RSFJ9u7IwoUZ8TqflFXqJRxYYMGNgM7crLvlVK/5Qo6jHU/zM88KasblU8b0ruxhC62JWiladEsN4y0tGUWsMOyMVXFMXsiKKiKIbWy0LAAAAScElEQVTtm0TlqhZYapgx93Z2spEHopA7ihadjkhWRTH1zDPfSRTVrYRnUMZO/BHvSppodfdTJbtLy5yCJgeecF5SFH+AKO4ZUQtRa5hsXJMsKYrfEkXPm0nc9myJdqXBPFK5UVPLlf4Zww5XE0Qj1aOakm5QW3L1pyqKhU3osPs5UYdGU9isEccka/7DARxEMaadiSX+3DhE/tocVvXHPf2tKew4l498YlZRQemJQapbBWAnBEPPPVZcsZmIoj5DzkTxYqMbhSzbc1WyCZ54UVFYsuQfEMWQtW0QuqpwiXtLySssMiiKWYhipTlpimJXlaL4/tzsbBXFxMtz0MlTFR9VnU5Ncca46oy0cIMPNzZSRa8M7rsyG/yXplRFq5SHHHOcju8HNmaz6/nS/BbkN+/O9btHsMqhx+igVDUh/crX+4aSp/ZQJoysw8SAt9zxaIj1sFEMcWyEj7TkoOx6zkwUTZh0LZpwr0aI/COUWNG0LD9zoEvVdKL46SatzYvhtDKVzKcllOe4gJE1MBiqmhMynlIfqxH4EwR+gCjCnYUtELrDM7nbsub7eJs7pha/439qIYaiDr4q79Hr/X0Reh2VGJ2sF2X6Hs/zhw95HftNZHamVNl/eUTvkiY0n3Qx0+m7S1sicnXmbtqvN6ksbWbZLc0YwbTJK2jqkzmWJi0pEQzJRBST2DG0BsJxFGmbdRNu08pQIorZEUEpp9uyoujilY3Piw9MKCwRxewf3PpoYxcKmPXAZ/MIRIEuWSaI9FL+qqNX+/vLFvxsv6ckf00h4XMiRAXRwEpSFFXupk9XaVpCH+fFKtdZkuI+vL36d0TR+nKc2tfHG7AQugzeKi297+iiIXAe668oKu+O45xXj96b5egpSIonKZV0SxX5GsGM+sXTYsEuzG2JEPU5m4Ujp8THEifPw9dpLXQZcuIe81vYYtxhnRxf5zPGRXbTSNz685WFlMpdhvkB7+G9P82NCuA88bT07CI57tTjqrTi3qVpDkH14dkQRSIYbiKwHX1ScQelJHzzeJtURXHqSWWjRNjeiRSRjJDO2RDFhDC2j2+OUTPP9PH08TCOuo4sPplZXVXaNpUoqtyFL7bIccImzWeqdtam94DUGMUTH+H9Dkm9bY7EuT75zyWvFCsqyTPcpoWZIY4LVA8DV7Xh94iixNGfbO6OMHbioPzgxi+sVcUoSmLh8+09EQYO7H2c2kif2eMmqR+COlsUhTe9hPDniqIewy7EEu07Ch1Rlb0SpC8O4aJvQBvZ9fyesS5mVHTbLKudyRFHqFPgW6I497JU8sf0qeFA3x23OTakIoUqzVNiCDMWKHI35qIxssCZ4fesRDHhc5ys2nyJ8KWe1W9MP5E5tvbltg4IbTfFe3F1Ppo5q+L38QtnpBiyHyCKB8c4Iyq6ESJNR//X3pmA13ilD/zTh6GWDkrHVkQtIfbEOmQq/kosWdpSRi1VqjpqqXaGbk8pVbTPFP3XVGeoNk3SSGSRyL6QxRXZ5SaySCIkQciG3JvcJL95vu+7N7KZ0aEzWuc+j+fG/b5zznt+55zvvOe873u+6ku8Ob2JoiiN5PN4PXUpXzG0kzk7wlW2tdX6ZudJFritVMZNyE24HSMvDCSme1aopueePVj8Yx4pf7VHMl9EarV8dOROekt92SofJKkLY2KbJ3jdQx6/ej4a9wRPT/9U8VFM2DWdTgM/QHYzNIS+g9TOjrjKW7jMHNRkR7EbG0OvEvHBNKSxa5QAlst+m+kmmbPvroqiHv8/9kPqvU3Zrb3ktk4xPXvfbUdxzHZFsfpy8TienL1L6Qsnd8qbEuP4tomPIoZk5vfsit1eWcnN5eU+XXH46hx11KiL9FspvDB2Ai9/0/gYr5qEz2jbxoID8ar7hEE516rMqCjuVXqLvlL1t7oZvQfz39oQWnadwxPa03mxuxpxXFuF3rQ+KfRlWMcO9By+hFj5t/R9yjjpb/O10d+6uoUdxd+xJeY23HCmrdSbnUaXCoOSaSXeL6uKojpr6ghcMRppxLvG/GrQ1z9gS/iH7RQc9pkU/QadXfwpCPwbAvekKFIciHXnLkx98yBRSVoyMs4TrzlF5o0GSl3ZWVZaDaVXt3Z0n+d0ZxLUxfNC7w4MX/IJofFass5r0WjiyL5imlhUCUuCP1QmM+s3vZqYdf5NDZTLN9g6w4x+c7dzNiOLpNgY8uVVbLE/kzp1wHrD9yRm5lGc6aYEoDg4q7szmp1zaf3Es+z2iCQtI4PUpDjiE7OMPkj3oChylS/G/Za203eSlJdLelwEEaajIRS5rvOOWSv6LTpISl4GZwI1ygPXVCOnhWa0GbWRkLQLZKVGExZndPSSb6jQMH9IW9q368wz61pQOEyZPLDvUr55bTr9ug/ActJ4nnV8j+Scs/yhZyfGNnDWLvT5GAvzscyY44Cj40b8LlVBYRivjDfH3HoxG9+QlbvurPxG3YLzensqHVr3wuZj1dwb/uVaLC0mMsvRngVrPiKysKGmCBe9t2PRexC2SzawZPYQJOn/kK1YDT9a17eZNdeOWdZWDJzyoRIEUhzyOaOf6oPlrAXYTuql+DYq6Sq1bJ4xiHY9RrP4laWMerwrU9fJvnvl7Jo9lD4j5rB+0+v0biMr7aegyBlJeox3NaanO1wO3cPkQWOYNs+eOY5LcM24c02Wy5DvzZh2FvzZz6g8lMQwr5uENMd0ALdJ+lsE7F/L5MW7yG2cBaXxh3h+8iIORzfdWizij5LE5K9Nfq43+LO5hDTpL+Qa/edMuZd4rUKSxuIli1GnZcXonnQf9gcWLn2R4ZLE711Ue6LchsOHWjJjtgMOjhs5UVBLsdcGxbR14Lw8LqvYM38grW22KmYrQ64383p2pGt/B3xyyjm41JxW1h8ok1Fdvi/2vTrS5em5OKepi66sI6tpJQ3AtT7ayCShPE8fpb0k8VqgXE4tgUvMkKQ3UPbnLnoogUQr/CtAl8RbtuPpP86ejX9aRE+pHXP2qEED4XuX80THrlguPMy10gAmSN151einV3J2H72lfmyPuUWB9yb6DpiL/1WoObefXlIfPjyhbN00ECiD1d3M2JbQOGIq9auFSrCGvCstB1CE/P/7ONg/z0yrsUxb8ikKpga5QBabpgzHymYOsyZPwm57qLKL4/nSCKSeb6hKQ3Ek47t1YPzu5m/suRL2BaM7dWKA1WoSrxawekIPnnr1B6WE0rgvlDptVc5jLcXlvSWMGjmFeS8+z5LNX5Jqcuk0yVOVztpJ/egyeAoLli1gjCQx1rkEKsIZ3K4ttt/mwEU/5o8ewnCbV9iwaiaSZMZmdVsLn20LMHtmPC+++QYT20s8M/NTNdCq7DSvjhvG5OfsmG5lycrD8hiv4MC4J5HG71FLzz9GF6kVy/1LIM2V2RaDsZy9irVLZX+5YezR3ALtfjpIXdhyqnEHqdYeYWyPAUyev5p1jlbKc8StHMpC36W1NIQjyrZvBd/NNEMy+4tS3o3og1j368uwqc+z0HEiUuvfcyBZdYEy4ZC/Yw9vYkRfCyaOGsk4208Uv71LPp/x0lx75tlMwMJ2E6dMkYr1Ccs4tGYGQ0c9i72DHSvWH6GUW/x98u+QrOQDt8s4svVV7F6wZ8IoS17c4qu0c22mM1PNhjPV1o45di/xZf15kRfZ/JQ8dg+pRwvpT2IhSVgZfbhlxXxTP4lBc35QrWBZ/6CL9BvWBqsLUPe3bBkyYip29vYsWrGPq1Tj4WiO1Gf9HavU1TCWThiPpc1s7BwX8I6L0c1Bl8wi83nsiW5iDqqvq/hDELg7gXtTFGUj4ulvsR/Zh7ZKdK9Ea/NZHDlnjF4x5p/23Z9oJbXl3SYO7AVnvmep9WBaPaZG97Z5aiZfN5kQSwI2K6urfuN3kttYd7i79A2uXAjew+hOav4dRy/Gzzgf5Ifsx8asO20lSTkmQnp8JB+HGCdjQyGHNzkwoMPjypEocmTz3I1OqvmHSyzrLDFmqbfxdUp6Di0fgmSxmvrAaEWfO4hlV/mwZTmiuzOz9jeeBHKOf0D/x1Rzfft+y9RIRKPcpSlHsO7ZQU0rtcX2o6hGfogxf5WjdwewW/NfGtx1FWRoQjnm6syx8BRu6m4SfyoMTW5jR7NCbTSeTj9w9HgUl2+qjVWen4SPmw+a8zkka6JJNZ77VlORz8nj7hw7Y9wRQ0dOQjhHXZw4Fp5IcTP3gyouJ4bx47Fw0rO0hIUl0nA9IqMrv5iAr7sLTp6hZN4w2eBqKEw5hZd/JCEHXuNJaRonrqvmn5uFWk4ccyc8MZfc9BTi01Q7qaE0m1Avb0LiM8lOPEWMthSqrxDoG0x24ypzLUODj7sz33uGkN94jQP6Yk6HxJB53SRLNTlRIfgmNFH66vRczMqgoKzBAqtBH76Wm8mFwibBH1RxLtCX2Mt3tMLCtCgCz2SiazJODMVpeAVokOOp5E/VlVR8PbyJvXSNgphANEUm+aAoLeZOG96GmusZBPnHcPm2nGkdeclRBMflGA/+raFQG4m70wlyyg0UamMIOnvBODnVUqiNwt3Jl8wSVaAMWckauLblt0vorhLqH0jaDfXeG6mRHA9KV8vRXyMsIAjtdZWPvjgDP49jRCZlkqjRkJirrhjqKq9xNsgT5xNpVFFKbGAE2gJVSTVU5HPKL5K8ijpKs2IJi85Qd4IpJy4ogLic5kqE/9sTGLLJ5F+osrt1OYUA31jUKtVQnBXPMTcXjnpHkV/ecvtVF58n0MMNn4hzqmJIHddSTuN1Ml31Iasu40xEKGfymnQuuci6SrJjg/nROYziagPnY08SoVUXjvIYkut0odSozNZUkB4TiIuzC36n02np+L+a6+fxc/dCk3eFIk0AMUUGqC0lOiSEhEL1uV2SE4en63His3OJi9aQedX4PK8pJT7EB2+NloOrhmNms7fe/HrzcjJ+R4/iG51h9C02cOlMBN5nlAN0QH+N8IAgUo1tWJypweNHP5KyL6CJjCWvrBZuXyLUN5zsssbKuYxB6WeeQWizzhNyIoqrtVBTkk2wT7TxxIkaihIiORZpMhPXcS09Bnf3YLKKrpIQm0R+RZNVmNKkt8mIDsDFNYA84/itLEon0M0VV88g0oqaDmq1H2C4QXL4CVydnAnSyOOhjsJYub6y1mogNykCdxcnPMKSKG3QLcpy4vHzcOF79wAy6p9RdVyJDSY4zdQH9aQF+5FwzcShjszIQKISr6hsdQWE+4Rw3pS+rpzUyADcnJzxPZmuuEQVJ0fjeaqxRavmRjZBXq44uR1Hk6OuIm4n/A2rmWs4++ACA4yAxNejQOCeFUUVRh3VVXp0ukp01Q1GhXKxlrgDy2g3doNR0WqOT02rQ18lD7cmn5vJrJnUh+d2xza/1uTWu/631oBeV9lgu910Zw1Veh06nR5Ds4JlC0Y1ep3xeoPJt9ZQTU2D/1NroNrQ8Adj/nVyuTp0+qpmZiDljppqdDod+hbTqrJVVuqND16TzLUEfTSfMbM+JN/0HDFdEt//kkC+23olmMXvegtt9S9Tiov3S6C2MBwHs5Es/vudELL7zfPnTm/IdGKGmSOBSsjxz13aLyl/A1uGdsTy9RMP9t3DvyQEvwpZK3BZs5iXNnkaF36/ikqJSvwXCfxERbEFyW7GsXn5MhbYTaPvM7PZF93YnNBCimY/lcR9y4ynn8TmPf9GO2rNbnwEftBfCGfLuuW8MMuaQaNnczi56Q7TIwDhPquYeWQlj0lWeKmvbLnP3ETyeyZQm89H0/sycN62Zqb1e87jf3JjFd4Hd7A3SHVJ+Z+I8NAUquP4zlUsXbOR9cufo//gRfgWiAXXQ9M8/4EgtWVp7N39CRHyrrL4CAL/AYH7VxT1F/lu1w627fobweca+Nj9BGEM5VfIuNDETPcT0v+abq25ruXQ/k/YuuMbonOaOOf9mir6M9alPPMkX3/hQV4Lr1n7GYsVWVdf5ofdnxHd0qF0gs4vhEANqQGH2fH++7z3+SESC5r5hvxC6iHEFAQEgQdF4P4VxQclichHEBAEBAFBQBAQBAQBQeChIiAUxYeqOYQwgoAgIAgIAoKAICAIPDwEhKL48LSFkEQQEAQEAUFAEBAEBIGHioBQFB+q5hDCCAKCgCAgCAgCgoAg8PAQqFcUc15/i4Snh5M0yFL8EwxEHxB9QPQB0QdEHxB9QPSBR6gPxPcw58p3rs001HpFsdkV8YMgIAgIAoKAICAICAKCwCNNQCiKj3Tzi8oLAoKAICAICAKCgCBwdwJCUbw7G3FFEBAEBAFBQBAQBASBR5rAPwExRHYohc3L8AAAAABJRU5ErkJggg=='>\n",
        "</p>"
      ]
    },
    {
      "cell_type": "markdown",
      "metadata": {
        "id": "3vBZrYmFGHZc"
      },
      "source": [
        "## Data Types for ndarrays"
      ]
    },
    {
      "cell_type": "markdown",
      "metadata": {
        "id": "VZA7DN4RGKCT"
      },
      "source": [
        "The data type or dtype is a special object containing **the information (or metadata, data about data) the ndarray needs to interpret a chunk of memory as a particular type of data**:"
      ]
    },
    {
      "cell_type": "code",
      "metadata": {
        "id": "ph0jQmU6GNG3"
      },
      "source": [
        "arr1 = np.array([1, 2, 3], dtype=np.float64)\n",
        "arr2 = np.array([1, 2, 3], dtype=np.int32)"
      ],
      "execution_count": 19,
      "outputs": []
    },
    {
      "cell_type": "code",
      "metadata": {
        "colab": {
          "base_uri": "https://localhost:8080/"
        },
        "id": "nS5SD52YGaSE",
        "outputId": "faeaae2c-a2f4-4e8f-aac7-6055d320c006"
      },
      "source": [
        "arr1.dtype"
      ],
      "execution_count": 20,
      "outputs": [
        {
          "output_type": "execute_result",
          "data": {
            "text/plain": [
              "dtype('float64')"
            ]
          },
          "metadata": {},
          "execution_count": 20
        }
      ]
    },
    {
      "cell_type": "code",
      "metadata": {
        "colab": {
          "base_uri": "https://localhost:8080/"
        },
        "id": "uz-iu0YQGgS8",
        "outputId": "b3946302-bb7b-49a9-9282-647bf227b8a2"
      },
      "source": [
        "arr2.dtype"
      ],
      "execution_count": 21,
      "outputs": [
        {
          "output_type": "execute_result",
          "data": {
            "text/plain": [
              "dtype('int32')"
            ]
          },
          "metadata": {},
          "execution_count": 21
        }
      ]
    },
    {
      "cell_type": "markdown",
      "metadata": {
        "id": "iWIhCFXBGvL1"
      },
      "source": [
        "See Table 4-2 for a full listing of NumPy’s supported data types"
      ]
    },
    {
      "cell_type": "markdown",
      "metadata": {
        "id": "s9RPNKNNGvjM"
      },
      "source": [
        "Table 4-2. NumPy data types\n",
        "<p align='center'>\n",
        "<img src='data:image/png;base64,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'>\n",
        "</p>"
      ]
    },
    {
      "cell_type": "markdown",
      "metadata": {
        "id": "kgYT32DkHFJ6"
      },
      "source": [
        "You can explicitly convert or cast an array from one dtype to another using ndarray’ astype method:"
      ]
    },
    {
      "cell_type": "code",
      "metadata": {
        "id": "84qwIuDdGcne"
      },
      "source": [
        "arr = np.array([1, 2, 3, 4, 5])"
      ],
      "execution_count": 22,
      "outputs": []
    },
    {
      "cell_type": "code",
      "metadata": {
        "colab": {
          "base_uri": "https://localhost:8080/"
        },
        "id": "UNhXj9o6HKr1",
        "outputId": "d64929d0-2d84-4404-f1c5-d5b1ad4c6687"
      },
      "source": [
        "arr.dtype"
      ],
      "execution_count": 23,
      "outputs": [
        {
          "output_type": "execute_result",
          "data": {
            "text/plain": [
              "dtype('int64')"
            ]
          },
          "metadata": {},
          "execution_count": 23
        }
      ]
    },
    {
      "cell_type": "code",
      "metadata": {
        "id": "j3X63f1VHMBB"
      },
      "source": [
        "float_arr = arr.astype(np.float64)"
      ],
      "execution_count": 24,
      "outputs": []
    },
    {
      "cell_type": "code",
      "metadata": {
        "colab": {
          "base_uri": "https://localhost:8080/"
        },
        "id": "k-71qGc-HPUT",
        "outputId": "4573bc22-1633-4bb1-e4ee-fbbdeb972a97"
      },
      "source": [
        "float_arr.dtype"
      ],
      "execution_count": 25,
      "outputs": [
        {
          "output_type": "execute_result",
          "data": {
            "text/plain": [
              "dtype('float64')"
            ]
          },
          "metadata": {},
          "execution_count": 25
        }
      ]
    },
    {
      "cell_type": "markdown",
      "metadata": {
        "id": "-jCY9y7eHT5r"
      },
      "source": [
        "In this example, integers were cast to floating point. **If I cast some floating-point numbers to be of integer dtype, the decimal part will be truncated:**"
      ]
    },
    {
      "cell_type": "code",
      "metadata": {
        "id": "q4ynpYpZHXsc"
      },
      "source": [
        "arr = np.array([3.7, -1.2, -2.6, 0.5, 12.9, 10.1])"
      ],
      "execution_count": 26,
      "outputs": []
    },
    {
      "cell_type": "code",
      "metadata": {
        "colab": {
          "base_uri": "https://localhost:8080/"
        },
        "id": "_L2kfL2eHbUM",
        "outputId": "f8ac0b04-a404-4a7d-8e77-2b4a941ee5c6"
      },
      "source": [
        "arr"
      ],
      "execution_count": 27,
      "outputs": [
        {
          "output_type": "execute_result",
          "data": {
            "text/plain": [
              "array([ 3.7, -1.2, -2.6,  0.5, 12.9, 10.1])"
            ]
          },
          "metadata": {},
          "execution_count": 27
        }
      ]
    },
    {
      "cell_type": "code",
      "metadata": {
        "colab": {
          "base_uri": "https://localhost:8080/"
        },
        "id": "YvNf8u2pHcHz",
        "outputId": "ace04633-840e-492b-a6a0-6e83a2765334"
      },
      "source": [
        "arr.astype(np.int32)"
      ],
      "execution_count": 28,
      "outputs": [
        {
          "output_type": "execute_result",
          "data": {
            "text/plain": [
              "array([ 3, -1, -2,  0, 12, 10], dtype=int32)"
            ]
          },
          "metadata": {},
          "execution_count": 28
        }
      ]
    },
    {
      "cell_type": "markdown",
      "metadata": {
        "id": "YRSCkm6BHfhR"
      },
      "source": [
        "If you have an array of **strings** representing numbers, you can use astype to convert them to **numeric** form:"
      ]
    },
    {
      "cell_type": "code",
      "metadata": {
        "id": "Y-xzRwdHHjCF"
      },
      "source": [
        "numeric_strings = np.array(['1.25', '-9.6', '42'], dtype=np.string_)"
      ],
      "execution_count": 29,
      "outputs": []
    },
    {
      "cell_type": "code",
      "metadata": {
        "colab": {
          "base_uri": "https://localhost:8080/"
        },
        "id": "9zopZLUAHurQ",
        "outputId": "4c037d70-2cc4-47b2-c86f-b35e0ba4df1c"
      },
      "source": [
        "numeric_strings.astype(float)"
      ],
      "execution_count": 30,
      "outputs": [
        {
          "output_type": "execute_result",
          "data": {
            "text/plain": [
              "array([ 1.25, -9.6 , 42.  ])"
            ]
          },
          "metadata": {},
          "execution_count": 30
        }
      ]
    },
    {
      "cell_type": "markdown",
      "metadata": {
        "id": "xqL0knsUJhIy"
      },
      "source": [
        "If casting were to fail for some reason (like a string that cannot be converted to float64), a ValueError will be raised\n",
        "\n",
        "Here I was a bit lazy and wrote float instead of np .float64; **NumPy aliases the Python types to its own equivalent data dtypes**"
      ]
    },
    {
      "cell_type": "code",
      "metadata": {
        "id": "CmJSOSFPJrh8"
      },
      "source": [
        "int_array = np.arange(10)"
      ],
      "execution_count": 31,
      "outputs": []
    },
    {
      "cell_type": "code",
      "metadata": {
        "id": "xdDooslyJtzg"
      },
      "source": [
        "calibers = np.array([.22, .270, .357, .380, .44, .50], dtype=np.float64)"
      ],
      "execution_count": 32,
      "outputs": []
    },
    {
      "cell_type": "code",
      "metadata": {
        "colab": {
          "base_uri": "https://localhost:8080/"
        },
        "id": "yX3gFbmRJ1jN",
        "outputId": "f8238fbd-81f6-4568-d1dc-0f5084ac43c9"
      },
      "source": [
        "int_array.astype(calibers.dtype)"
      ],
      "execution_count": 33,
      "outputs": [
        {
          "output_type": "execute_result",
          "data": {
            "text/plain": [
              "array([0., 1., 2., 3., 4., 5., 6., 7., 8., 9.])"
            ]
          },
          "metadata": {},
          "execution_count": 33
        }
      ]
    },
    {
      "cell_type": "markdown",
      "metadata": {
        "id": "1FmWWdI-J80r"
      },
      "source": [
        "There are shorthand type code strings you can also use to refer to a dtype:"
      ]
    },
    {
      "cell_type": "code",
      "metadata": {
        "id": "0U-CZ7tgKAki"
      },
      "source": [
        "empty_uint32 = np.empty(8, dtype='u4')"
      ],
      "execution_count": 34,
      "outputs": []
    },
    {
      "cell_type": "code",
      "metadata": {
        "colab": {
          "base_uri": "https://localhost:8080/"
        },
        "id": "Gr34FVMDKFFE",
        "outputId": "946638a5-fd94-4214-eb85-7fbfc9bc2437"
      },
      "source": [
        "empty_uint32"
      ],
      "execution_count": 35,
      "outputs": [
        {
          "output_type": "execute_result",
          "data": {
            "text/plain": [
              "array([         0, 1075314688,          0, 1075707904,          0,\n",
              "       1075838976,          0, 1072693248], dtype=uint32)"
            ]
          },
          "metadata": {},
          "execution_count": 35
        }
      ]
    },
    {
      "cell_type": "markdown",
      "metadata": {
        "id": "DuL0Q8ZHKQ_d"
      },
      "source": [
        "Calling astype always creates a new array (a copy of the data), even if the new dtype is the same as the old dtype"
      ]
    },
    {
      "cell_type": "markdown",
      "metadata": {
        "id": "4UQUdDMYKSNK"
      },
      "source": [
        "## Arithmetic with NumPy Arrays"
      ]
    },
    {
      "cell_type": "markdown",
      "metadata": {
        "id": "uRMG9Wy7eJyR"
      },
      "source": [
        "Arrays are important because they enable you to **express batch operations on data without writing any for loops. NumPy users call this vectorization**\n",
        "\n",
        "Any arithmetic operations between equal-size arrays applies the operation element-wise:"
      ]
    },
    {
      "cell_type": "code",
      "metadata": {
        "id": "XwsPN__KedxO"
      },
      "source": [
        "arr = np.array([[1., 2., 3.], [4., 5., 6.]])"
      ],
      "execution_count": 36,
      "outputs": []
    },
    {
      "cell_type": "code",
      "metadata": {
        "colab": {
          "base_uri": "https://localhost:8080/"
        },
        "id": "XvSY6vvYeirL",
        "outputId": "b68331e6-7eb6-4e08-f877-9e1af3a4f3e2"
      },
      "source": [
        "arr"
      ],
      "execution_count": 37,
      "outputs": [
        {
          "output_type": "execute_result",
          "data": {
            "text/plain": [
              "array([[1., 2., 3.],\n",
              "       [4., 5., 6.]])"
            ]
          },
          "metadata": {},
          "execution_count": 37
        }
      ]
    },
    {
      "cell_type": "code",
      "metadata": {
        "colab": {
          "base_uri": "https://localhost:8080/"
        },
        "id": "je3Wzc-aejqC",
        "outputId": "ba515211-4d45-4831-964b-a351093be4f9"
      },
      "source": [
        "arr * arr"
      ],
      "execution_count": 38,
      "outputs": [
        {
          "output_type": "execute_result",
          "data": {
            "text/plain": [
              "array([[ 1.,  4.,  9.],\n",
              "       [16., 25., 36.]])"
            ]
          },
          "metadata": {},
          "execution_count": 38
        }
      ]
    },
    {
      "cell_type": "code",
      "metadata": {
        "colab": {
          "base_uri": "https://localhost:8080/"
        },
        "id": "-s9l4uX-elS8",
        "outputId": "0ddbd710-39bf-44b0-e846-e3f0ea574418"
      },
      "source": [
        "arr - arr"
      ],
      "execution_count": 39,
      "outputs": [
        {
          "output_type": "execute_result",
          "data": {
            "text/plain": [
              "array([[0., 0., 0.],\n",
              "       [0., 0., 0.]])"
            ]
          },
          "metadata": {},
          "execution_count": 39
        }
      ]
    },
    {
      "cell_type": "markdown",
      "metadata": {
        "id": "rwFoJvajem4f"
      },
      "source": [
        "Arithmetic operations with scalars propagate the scalar argument to each element in the array:"
      ]
    },
    {
      "cell_type": "code",
      "metadata": {
        "colab": {
          "base_uri": "https://localhost:8080/"
        },
        "id": "heis1Neoesyf",
        "outputId": "75ad2001-befa-4043-dbc3-924d5ee657c5"
      },
      "source": [
        "1 / arr"
      ],
      "execution_count": 40,
      "outputs": [
        {
          "output_type": "execute_result",
          "data": {
            "text/plain": [
              "array([[1.        , 0.5       , 0.33333333],\n",
              "       [0.25      , 0.2       , 0.16666667]])"
            ]
          },
          "metadata": {},
          "execution_count": 40
        }
      ]
    },
    {
      "cell_type": "code",
      "metadata": {
        "colab": {
          "base_uri": "https://localhost:8080/"
        },
        "id": "Zsi7ED4eevXl",
        "outputId": "0c873a63-5fe5-4012-800f-7cc8700ba988"
      },
      "source": [
        "arr ** 0.5"
      ],
      "execution_count": 41,
      "outputs": [
        {
          "output_type": "execute_result",
          "data": {
            "text/plain": [
              "array([[1.        , 1.41421356, 1.73205081],\n",
              "       [2.        , 2.23606798, 2.44948974]])"
            ]
          },
          "metadata": {},
          "execution_count": 41
        }
      ]
    },
    {
      "cell_type": "markdown",
      "metadata": {
        "id": "1XStoQLcew6F"
      },
      "source": [
        "Comparisons between arrays of the same size yield boolean arrays:"
      ]
    },
    {
      "cell_type": "code",
      "metadata": {
        "id": "B94yt6a3eyjT"
      },
      "source": [
        "arr2 = np.array([[0., 4., 1.], [7., 2., 12.]])"
      ],
      "execution_count": 42,
      "outputs": []
    },
    {
      "cell_type": "code",
      "metadata": {
        "colab": {
          "base_uri": "https://localhost:8080/"
        },
        "id": "94j9h3gde0cE",
        "outputId": "7db86507-dd06-49d6-db10-b20ddc1b7c99"
      },
      "source": [
        "arr2"
      ],
      "execution_count": 43,
      "outputs": [
        {
          "output_type": "execute_result",
          "data": {
            "text/plain": [
              "array([[ 0.,  4.,  1.],\n",
              "       [ 7.,  2., 12.]])"
            ]
          },
          "metadata": {},
          "execution_count": 43
        }
      ]
    },
    {
      "cell_type": "code",
      "metadata": {
        "colab": {
          "base_uri": "https://localhost:8080/"
        },
        "id": "RQ_lJZ5Ge1nQ",
        "outputId": "6ae6044e-0e5d-4d50-fbca-082cdbe67c8c"
      },
      "source": [
        "arr2 > arr"
      ],
      "execution_count": 44,
      "outputs": [
        {
          "output_type": "execute_result",
          "data": {
            "text/plain": [
              "array([[False,  True, False],\n",
              "       [ True, False,  True]])"
            ]
          },
          "metadata": {},
          "execution_count": 44
        }
      ]
    },
    {
      "cell_type": "markdown",
      "metadata": {
        "id": "yX5w5F29e6Cl"
      },
      "source": [
        "Operations between differently sized arrays is called broadcasting"
      ]
    },
    {
      "cell_type": "markdown",
      "metadata": {
        "id": "myyK-qzMe6vN"
      },
      "source": [
        "## Basic Indexing and Slicing"
      ]
    },
    {
      "cell_type": "markdown",
      "metadata": {
        "id": "Ux805aYUfK1R"
      },
      "source": [
        "There are many ways you may want to select a subset of your data or individual elements\n",
        "\n",
        "One-dimensional arrays are simple; on the surface they act similarly to Python lists:"
      ]
    },
    {
      "cell_type": "code",
      "metadata": {
        "id": "Nl-F2658fRHg"
      },
      "source": [
        "arr = np.arange(10)"
      ],
      "execution_count": 45,
      "outputs": []
    },
    {
      "cell_type": "code",
      "metadata": {
        "colab": {
          "base_uri": "https://localhost:8080/"
        },
        "id": "yx3YyfHegGib",
        "outputId": "406c4bcd-881d-4487-c342-2a2e0a73c995"
      },
      "source": [
        "arr"
      ],
      "execution_count": 46,
      "outputs": [
        {
          "output_type": "execute_result",
          "data": {
            "text/plain": [
              "array([0, 1, 2, 3, 4, 5, 6, 7, 8, 9])"
            ]
          },
          "metadata": {},
          "execution_count": 46
        }
      ]
    },
    {
      "cell_type": "code",
      "metadata": {
        "colab": {
          "base_uri": "https://localhost:8080/"
        },
        "id": "XqaIWpCwgHfE",
        "outputId": "ce3996a9-7f76-4863-e155-646b1129bd6e"
      },
      "source": [
        "arr[5]"
      ],
      "execution_count": 47,
      "outputs": [
        {
          "output_type": "execute_result",
          "data": {
            "text/plain": [
              "5"
            ]
          },
          "metadata": {},
          "execution_count": 47
        }
      ]
    },
    {
      "cell_type": "code",
      "metadata": {
        "colab": {
          "base_uri": "https://localhost:8080/"
        },
        "id": "LgC1cSldgIfU",
        "outputId": "1d5ecece-a03c-4908-90ef-f9d5ce41069e"
      },
      "source": [
        "arr[5:8]"
      ],
      "execution_count": 48,
      "outputs": [
        {
          "output_type": "execute_result",
          "data": {
            "text/plain": [
              "array([5, 6, 7])"
            ]
          },
          "metadata": {},
          "execution_count": 48
        }
      ]
    },
    {
      "cell_type": "code",
      "metadata": {
        "id": "GBUc0HqggKkg"
      },
      "source": [
        "arr[5:8] = 12"
      ],
      "execution_count": 49,
      "outputs": []
    },
    {
      "cell_type": "code",
      "metadata": {
        "colab": {
          "base_uri": "https://localhost:8080/"
        },
        "id": "r8VpLRFtgMvA",
        "outputId": "5a76c0ec-8167-4142-d757-5430cdc434c2"
      },
      "source": [
        "arr"
      ],
      "execution_count": 50,
      "outputs": [
        {
          "output_type": "execute_result",
          "data": {
            "text/plain": [
              "array([ 0,  1,  2,  3,  4, 12, 12, 12,  8,  9])"
            ]
          },
          "metadata": {},
          "execution_count": 50
        }
      ]
    },
    {
      "cell_type": "markdown",
      "metadata": {
        "id": "iG6yJQQwgOYt"
      },
      "source": [
        "If you assign a scalar value to a slice, as in arr[5:8] = 12, the value is propageted (or broadcasted) to the entire selection\n",
        "\n",
        "An important first distinction from Python’s built-in lists is that array slices are views on the original array. This means that **the data is not copied, and any modifications to the view will be reflected in the source array**\n",
        "\n",
        "To give an example of this, I first create a slice of arr:"
      ]
    },
    {
      "cell_type": "code",
      "metadata": {
        "id": "IXWeUWT7grVP"
      },
      "source": [
        "arr_slice = arr[5:8]"
      ],
      "execution_count": 51,
      "outputs": []
    },
    {
      "cell_type": "code",
      "metadata": {
        "colab": {
          "base_uri": "https://localhost:8080/"
        },
        "id": "4UKnYMV-gtWT",
        "outputId": "d5a3a725-8e4c-4d9b-8194-ef8a59d8cc58"
      },
      "source": [
        "arr_slice"
      ],
      "execution_count": 52,
      "outputs": [
        {
          "output_type": "execute_result",
          "data": {
            "text/plain": [
              "array([12, 12, 12])"
            ]
          },
          "metadata": {},
          "execution_count": 52
        }
      ]
    },
    {
      "cell_type": "markdown",
      "metadata": {
        "id": "uSZcH0higvhu"
      },
      "source": [
        "Now, when I change values in arr_slice, the mutations are reflected in the original array arr:"
      ]
    },
    {
      "cell_type": "code",
      "metadata": {
        "id": "nrp8oNNVgujm"
      },
      "source": [
        "arr_slice[1] = 12345"
      ],
      "execution_count": 53,
      "outputs": []
    },
    {
      "cell_type": "code",
      "metadata": {
        "colab": {
          "base_uri": "https://localhost:8080/"
        },
        "id": "2kpUdWuLg3b8",
        "outputId": "e15aa5a9-a8c3-47e6-d5fa-d5c31b2216e1"
      },
      "source": [
        "arr"
      ],
      "execution_count": 54,
      "outputs": [
        {
          "output_type": "execute_result",
          "data": {
            "text/plain": [
              "array([    0,     1,     2,     3,     4,    12, 12345,    12,     8,\n",
              "           9])"
            ]
          },
          "metadata": {},
          "execution_count": 54
        }
      ]
    },
    {
      "cell_type": "markdown",
      "metadata": {
        "id": "1pPcesyvg7mO"
      },
      "source": [
        "The “bare” slice [:] will assign to all values in an array:"
      ]
    },
    {
      "cell_type": "code",
      "metadata": {
        "id": "JKbPP2-6g_tx"
      },
      "source": [
        "arr_slice[:] = 64"
      ],
      "execution_count": 55,
      "outputs": []
    },
    {
      "cell_type": "code",
      "metadata": {
        "colab": {
          "base_uri": "https://localhost:8080/"
        },
        "id": "RMclwuSZhCGW",
        "outputId": "910e2e1e-06ef-402f-b144-a9c1abb8b1b5"
      },
      "source": [
        "arr"
      ],
      "execution_count": 56,
      "outputs": [
        {
          "output_type": "execute_result",
          "data": {
            "text/plain": [
              "array([ 0,  1,  2,  3,  4, 64, 64, 64,  8,  9])"
            ]
          },
          "metadata": {},
          "execution_count": 56
        }
      ]
    },
    {
      "cell_type": "markdown",
      "metadata": {
        "id": "g7DPixVvhI7s"
      },
      "source": [
        "If you want a copy of a slice of an ndarray instead of a view, you will need to explicitly copy the array"
      ]
    },
    {
      "cell_type": "code",
      "metadata": {
        "colab": {
          "base_uri": "https://localhost:8080/"
        },
        "id": "JgQpBXDWhNu-",
        "outputId": "e0efdef2-6cc5-4eab-eb98-2b4f421984de"
      },
      "source": [
        "arr[5:8].copy()"
      ],
      "execution_count": 57,
      "outputs": [
        {
          "output_type": "execute_result",
          "data": {
            "text/plain": [
              "array([64, 64, 64])"
            ]
          },
          "metadata": {},
          "execution_count": 57
        }
      ]
    },
    {
      "cell_type": "markdown",
      "metadata": {
        "id": "U8X_lUzbhRJr"
      },
      "source": [
        "With higher dimensional arrays, you have many more options\n",
        "\n",
        "In a two-dimensional array, the elements at each index are no longer scalars but rather one-dimensional arrays:"
      ]
    },
    {
      "cell_type": "code",
      "metadata": {
        "id": "rDqgENLGhZpb"
      },
      "source": [
        "arr2d = np.array([[1, 2, 3], [4, 5, 6], [7, 8, 9]])"
      ],
      "execution_count": 58,
      "outputs": []
    },
    {
      "cell_type": "code",
      "metadata": {
        "colab": {
          "base_uri": "https://localhost:8080/"
        },
        "id": "1nV-yg-ihcY6",
        "outputId": "6ba59d0c-160d-4d13-cb63-6a2362df01a3"
      },
      "source": [
        "arr2d[2]"
      ],
      "execution_count": 59,
      "outputs": [
        {
          "output_type": "execute_result",
          "data": {
            "text/plain": [
              "array([7, 8, 9])"
            ]
          },
          "metadata": {},
          "execution_count": 59
        }
      ]
    },
    {
      "cell_type": "markdown",
      "metadata": {
        "id": "jm736kZ1hfg4"
      },
      "source": [
        "Thus, individual elements can be accessed recursively\n",
        "\n",
        "But that is a bit too much work, so you can pass a comma-separated list of indices to select individual elements. So these are equivalent\n",
        "\n"
      ]
    },
    {
      "cell_type": "code",
      "metadata": {
        "colab": {
          "base_uri": "https://localhost:8080/"
        },
        "id": "wqSfA6K1hnx4",
        "outputId": "d6a270b3-bc50-42f5-e5a5-846a0b494dd7"
      },
      "source": [
        "arr2d[0][2]"
      ],
      "execution_count": 60,
      "outputs": [
        {
          "output_type": "execute_result",
          "data": {
            "text/plain": [
              "3"
            ]
          },
          "metadata": {},
          "execution_count": 60
        }
      ]
    },
    {
      "cell_type": "code",
      "metadata": {
        "colab": {
          "base_uri": "https://localhost:8080/"
        },
        "id": "H9GR8RTVhwj5",
        "outputId": "0e3e0372-8f71-4ecb-b1e1-29c0735b036e"
      },
      "source": [
        "arr2d[0, 2]"
      ],
      "execution_count": 61,
      "outputs": [
        {
          "output_type": "execute_result",
          "data": {
            "text/plain": [
              "3"
            ]
          },
          "metadata": {},
          "execution_count": 61
        }
      ]
    },
    {
      "cell_type": "markdown",
      "metadata": {
        "id": "Gzp4smNCh0l7"
      },
      "source": [
        "See Figure 4-1 for an illustration of indexing on a two-dimensional array"
      ]
    },
    {
      "cell_type": "markdown",
      "metadata": {
        "id": "pFG3KNApiAN7"
      },
      "source": [
        "<p align='center'>\n",
        "<img src='data:image/png;base64,iVBORw0KGgoAAAANSUhEUgAAAVYAAAExCAYAAAAnXophAAAgAElEQVR4AeydB3xcV53vr9WrbVkuieOW7iQOZTckBMjCLrC0Bd4Cy3tbKI+yZGEfmwUSQuiEBEhIhYRUkk1CeseO4ziWbcmSRtObRqPpvfemav3e539GZzL22lHGWntmpHP1+eveufXc/z33e3/3f8qVIAbhAeGBE/ZAPp8vbZvJZNj09PQ0ZmdnS/PfbCKdTrPFyWTyiNVmZmaO+C1+1JcHpPpKrkit8EBteiAQCJQSFovF2HQikSjNe7MJAvHU1BRbJZvNsnGhUHizTcSyGveAAGuNXyCRvNr2gMfjweHDh1kiHQ4HQqEQmyZYvtWB9sEHDlZSspOTk3y2GNeZBwRY6+yCieTWngd+97vfwev1soSFw2E2pld5HhpYKMXlEBZKdSFv1cdyAdb6uE4ilTXqgR07dmDFihWQJAkckARVmua/3yzpXO0SkLVaLWQyGf70pz/BYDCUYP1m24tltekBAdbavC4iVXXiAQLq+vXrGVgpFMALrSKRyFs6A3rddzqd+PCHP4zm5ma2H9rnzp0739L2YqXa9IAAa21eF5GqOvHAwYMHGQw/85nPsBRbrdaKUv7lL3+5BGYCKrfnn3++ov2IlWvLAwKstXU9RGrq1ANzc3NHpJxqBExMTBwx71g/HnvsMQbTlpYWXHrppWhra2O/X3jhhWOtLubViQcEWOvkQolknpgHjq4fGgwG2Y50Oh2uvPJKXHbZZTjnnHNw9dVXw2azsWUUG6U45zXXXIOf/exnePjhh9l8Koz6zne+w+bRfKoi9a1vfQu//vWv8Z//+Z+gKle8/unAwAC+8IUvYOPGjQyYr776KnidVaqOxeu/EoCfeOIJVtD1y1/+sqRYX3zxxVJtgxM7c7FVNT0gwFpN74tjn3QPlBcOcQU5MjKC3t7eEsTWrl1bmqYYKcVHVSoV2tvb0dDQgJ6eHpbOPXv2sPU6OjrwyCOPMPCtWbOmtC3FWGm44447sG3bNjaflGhTUxOuuOIKtoynh364XC42T6/Xs/GvfvUrtk1jYyNeeuklNk/8q08PCLDW53UTqa7QA7yEnlfep1jmb3/7WxiNRnzgAx8AhyuN+bBq1arSqznN+8u//MsSRPk6PCZKY1K8pFpXr17N1tuwYQPuvfdefPKTn4Tb7QaFC3jhFlevtJ9cLsd2d91117HtCObPPPMMP4QY16EHBFjr8KKJJL91D5TXJeWKlbdyor3QK3k8HkdXVxdIXRIgaYhGo+AKlRQrhQo4RO++++5SSykqyadtaZnJZAJV8Of7ueiii0rr0T5TqRQzmuaAZweb//fNb36zBNannnqqfJGYrjMPCLDW2QUTya3cAzzuyeOafA+kCkmFEjgJjKQwOVhpHWpFxWHK66pSzJTUr8/nY7uh13y+DtU9paG7u5vNW7duHej1nq9bDnTeEKA8TRSvpTADgVkUXjFX1u0/Ada6vXQi4W/VA6RI+UDxUyowIpW5ZcuWEhTLY660Ln9V/4//+I/SOhRz/fznP196naf1CKoE5pUrV4IKxKheKlW94vvr7OzEpk2bSvujbcrVKgcszacCMA5lqm7Fwwa0TAz15QEB1vq6XiK1FXqgXCXysMDFF19cguWPfvQjBj0CLX+lL+9Q5ac//SkIjgRQAjGPwfJ2/DSfCptIuSqVSpY6v9+Pa6+9ls2n5aRCCco0lPcBQIVXHJ6UTqqFwKtbEVh56KLCUxar14AHBFhr4CKIJJw8DxC4eCiAYEgFSFQ4RAAjdciVKVeKBEE+0HYERjIeJiDIUvNTvl8OY1qHFCsf6BWfagAQdCkOS6/3pJx5fdfyEABtQ2n78Y9/XAIrVc/i6/J9inH9eECAtX6ulUjpCXiAK0teK4B2wWFJMVD+Kl7+6s6hd9ttt5Vezan+K0GXtqXWUnwgJUrzCNYEQz7w+rPf/e532XIKFdDAwwAWi4WvWirQorADgZj298orr5SWi4n684AAa/1dM5HiCjzAX7U5LGlTqkZF8GptbQWVxF9++eXsN80j4wOBl34T7GigaeoXgGKqvOkqzSMVS4qX5tFxaB6HME2TEXh5WILD/uj+Wq+//noWUqD1n3vuOZ4MMa5DD7yRi+ow8SLJwgMLeYDDjNbjqvWuu+46Aqb0mk/xU3plJ0jS8NBDDzEgEuSoUImGD33oQ6WQwFVXXcVe9Wk5r15FoQAePuD1YknRkhpWq9VHxFd5YwJan2K/lDaq0sX3RS2/eHrZwcW/uvKAAGtdXS6R2Eo9wOOrtF25aqUmo9Qw4CMf+QgUCgX27dsHehX/zW9+ww5x0003sWl6ledwpj5XqYCJCrx++MMfsvVoOW1HVaW4En388cdZowCqykVx0/JaCbQRQbZ8oO0IolRgRYVetG9Sv+WttMrXF9O17wEB1tq/RiKFi/QAvXLzgiDeyolgSfN4TQE6BJXC8w6raT0q2OIwLoccbUsNCHiYgeBN8wiOPGbLj1O+Hc3j8KXGAnzg+6HftC9+TFErgHuo/sYCrPV3zUSKK/QABxVtVj7Nd0NQ5LUDCI788yh8Of0mAHM48/kEyXL48Vd3KriibcrhSdO8JgFtT78JorQ9hzDfLx+X75vPE+P68IAAa31cJ5HKE/RAeSiAAFo+mM3mEkTL1yOFW640y7eh1lgcoOXzCY5Uf5WGcnhzRVy+Tflyvg+CLq1Dirc8LXy5GNeXBwRY6+t6idSegAcIkgQ+/spNr/HHGo5WjgRAghyH4tEKkhTr0bDmoQACMFe4/PWfjnksaFK6jt43rVe+3bHSK+bVrgcEWGv32oiUCQ8ID9SpBwRY6/TCiWQLDwgP1K4HBFhr99qIlAkPCA/UqQcEWOv0wolkCw8ID9SuBwRYa/faiJQJDwgP1KkHBFjr9MKJZAsPCA/UrgcEWGv32oiUCQ8ID9SpBwRY6/TCiWQLDwgP1K4HBFhr99qIlAkPCA/UqQcEWOv0wolkCw8ID9SuBwRYa/faiJQJDwgP1KkHBFjr9MKJZAsPCA/UrgcEWGv32oiUCQ8ID9SpBwRY6/TCiWQLDwgP1K4HBFhr99qIlAkPCA/UqQcEWOv0wolkCw8ID9SuBwRYa/fa1EzKeOfNlCD6MJ7FYsFPfvITlj7e0344HD4ivUd/2vmIhUvsB/8EC3VMzb8YQKdI0+UdYfMOs2n9oz//ssRc8pZPh3cuTh9SpDxFH3XkPjv6I4xveac1sKIAaw1chFpPAu/d3ufzsU9Cb968ufRp6B07dpR6xaf1uNX6Of1Ppe9YECAf0MPniSeeKPlp5cqV+PrXv34EUPlD6X8qLfW4n02bNpV8xKfb2tqY7+rxfHiaBVi5J8T4mB7weDxsPn1sb/369aWboKenpzT985//nK3DFRn94J8lOeZOl9BMDlauWskHL7zwAjZs2MD8c/rpp7PxqlWr2Gez+amTf4RqBbZu3Yqzzz67lJfIXx0dHey30Wjk7qq7sQBr3V2yU59g+sY9ZfKGhgaW4T/96U+zRNANwGHLIcG/08RBc+pTe2qPSGGS8ocIfatqfHyc+Wnt2rU477zz2PSKFSvwve99j317i15/yx9CpzbFtXW0F198EXv37mWJIr9cdNFFzF+SJOFzn/tcbSW2gtQIsFbgrOW86t/93d+xDN/S0gKDwcC+JrplyxZw5cpB6na7mZv4h/uWk8+4eqVz/uEPfwi73Y7bb78dvb29aG1tZfO4P8g/y9FH/PzLx/RgogcShUboobRu3TqW10477bTy1epqWoC1ri7XqU9sLBZj6ooURGdnJ8vwPBVf+MIX2G9SZg888EDpS6PlhV183aU65nDkhXUEB4qxksqn4dZbb2U+Iv9dc801S9UNizovXkhFbz2kWslXFGelMEG9DgKs9XrlTmG6CRYUI6QMT8Zffe+44w72m4D7yU9+sqTAyiFzCpNZlUNxpU4xaD6UK1dSrO3t7Sxu+Mtf/pJ90pqHAnjYhG+3HMeUt3hYhPxx/fXXszy1evVqfPazn61blwiw1u2lOzUJ57FTrlapRgANpEofeeSRUkHDl7/8ZTafK1z6QcptOQwcrnSuXK0TLMh3XLFSjJUK+bjCpXXLp5eDn451jvwhRFXTyHcUk6bYfWNjIyKRyLE2qYt5Aqx1cZmql0hSp6QqSKk2NTUx5coVBr3+0/w1a9bgiiuuKCWSgMFVbWnmMp24+eabQXFp8tP3v//9I7xAcUUxvPEA5tXTmpubsX379iPqBNebnwRY6+2KneL0ckCWVx8iJUavbY8//jjOP/98Bg3+2kYNBbjK5ertFCe5pg530003sQcSgfUHP/gBK6QhlUb+E6EAIBAIsOtFipVqmJCyp7cjHnetqYtZQWIEWCtw1nJdlStWXoGbK9avfe1rDKoEjUcffZS5h8NUvOYWcwuFAkiBUVU1irHSQP4UwxseoPBRd3c3y0sUBrj77rvfWFinUwKsdXrhTlWyeVNVgicZwTWZTLLDv+9972PzqGCLWhpx4NLCaDR6qpJY08e55ZZbSg8f3gyYHj7LJf680MXJ5/O44YYbQC3TqJDvyiuvLMWp69lHAqwLXXmxnEGSXmkJrFS16tprr2Wqq6urC9RShhSZ3+9nnuJt5UmVCWUG3HvvvQwY5Ltf/OIXzEcUXqH4Kg+zLOcsZjKZSg+e97znPSVX1HPBFZ2EAGvpUoqJY3mA4MgLWbhqpcKYbdu2lV7f/uVf/oVtSrHDcqXKtzvWfpfLvBtvvJGVcJPvqNGAGI70AMVU6WFN/qFGFDSmBgL0sCYFW6+DAGu9XrlTmG5ekEC1AKgaDAcs3QDUqoi3tipXGQKqxQv005/+lL3m0qsuFV5RGIVef8k/vKrRKbyUNXcoyku81gTVOuF5iyBLcel6HQRY6/XKneJ083jXnj178PGPfxwXXnghqOUVrwEQCoVKKaLCCDEUPTA4OIgvfvGL+Kd/+ic8++yzwi1HeYAKQKkO9De+8Q3Q9De/+U3WCxj1BEa/63UQYK3XKzefborTCRM+EHng5OSBE8WDAOuJek5sJzwgPCA8cBwPCLAexzFitvCA8IDwwIl6QID1RD13irZb6BXvFCVDHEZ4YFl64ETvPwHWGs8uJ3pha/y0RPKEB+rCAyd6/wmw1vjl5RXtjzde6MKL5SenUEP4dXn49Xj3HZ9/PHwIsB7PMzUyn1/A442pTb4w4QORB05OHjjefcfnHw8TAqzH80yNzOcX8HhjqmguTPhA5IGTkweOd9/x+cfDhADr8TxziuZPASCjnjlLfR7NzQKHZ4DZGSCXA2ZmMZ3MsJVms9NIBdPAJHB4AshNTSxrm8glQM6IBN2YLKQATCORCGN6uoA5zKIwmUdhcgL5Se6nSeSmppCdt3r338RkDmR0nsVzpHObRmZqhtnE4Tnkp6YwMzeDVCqKiVwcc5NJzBWimE4Hl3XeoWt/ODdv+QnM5icwk5/AdKFokxMTiETDmMNh9pfOpzGFaUxjBhNzUygcnvxvnZUTcOntQYD1FAH0eIdZCKzTyQRmUimk/CHMpAqYTBSQ8KeQDufhsYVgd7uWtenUMqTiAYT8Dvg9doRDHrhdNrg9dlgsY3C6HXC4XcyKvnLD5vbA5ilavfvP5baDjJ+nzeOG1eOF1eNjpjWNYcxqRSgShM/rRNjvRCLkhM+mQ8g5uqzzDl37gL1ofrsLfocLPocLXocLHqcLbqcLwaAfLrcTTo8TyWwS3pAX4WQUqYk0ZjD73zrTEWA9HulO8fxpprGAWQBz/NikWOdmmGrtam1GkyShUZKwQqJ2+s2QpDa0dqyF1NgNqaV9WduqVV1YsaLYpWFzazNaO9oh0e8VEtafcQYk6r2/pRVSS1uZnzogtc5bvfuvuRkSWekc6by6StbQ1QOpvRvNnV1Fv1BnJ80Sy1OrOpvKfLI881FDUwfesHY0NJG1zVsrulb1YHXvOnzpq19FIpNBOp/F9NwsIok4ktk06++BFCofqFCT4CoUK/dIlcblYKVQAF2YYhhgGpidZjcAgfWsLVvR2U6dARfBKkkdYNbQDGk523w/sc2txQ48Gpqb0LGyCJGm9nZIDQ2QGhohNTSV+akFUuO81bvvVqyARFY6RzqvtjJrhdTQUlze2IDOrnaccfpalq86WqQynyzTfCTRZ3O40b1FRnmJrBHNbXSfNWDLmWfB7nLB4rAjmc0gFItiYmaa9R1Lnemw+3b+/hVgrRJMyw9LMGVAnb8oc4cPY+7wNA7PTjGj3n62nn0W+oaGoBwbh9rqgsEXhcYbhc6fgNYZXNamNo1j3O3Fw089A6mpFb2btmH/iBq2YAxKsx06hw86hx9aZ4D5SeMMQuMMlaze/WdweEFG50nnSOemdoahckaYGQMpqOwBaO0+GBweHJApcN/DD2NVTw+6V69a1nmHrr2a+auYH1hecAShcwRgcPhhtPtw3S9+jZW9p+Ps8y+GwWTFkEwFm9UFp9OLfG6SfZeLOigimPKBICsUK/dGlcYcrAyu1KHK7GEG1NmZSZARWDecsRG+WAzuaAJahwcqhw99egv6TU4YvdFlbQrDKByBEF7Zf5Aps9PPOg++ZBah7CQOaU0wecIY9YZh9EaYnwzeKAzeWMnq3X9jniDIRj3Fc6Rz03vj0PkSRfPEMDLuhtbuhTeRgdXrx56+PqzsWY3e9euWdd6ha69n/irmB/o96onC5IlgzBOG2R3Cv3/vOkhSK3o3bMaB/mEo1QaMmawYN9vh94dK3UCWhwMIJQKsVQJq6bAUWJ23YuCbqo1MYXp6EhME1gYJ7evWwp1OQ+n2od/qgiaew3A4BX12FipvalmbO1nAsMmOR156FVJTF1Zv2w6lPQCNKwJLrACNJw6NJwG1N1nmpzSU3qLVu/+0nhjI3jjHNBTeDBTeLDNbDlB6khga98PgS2B41IZnd7/O1P3azdvKfLI889GwPwMymT8NuS8FhS8FtTcBrScOvTuG7/30N5DaerBmwzbc98CfsG/fIAb75bCPu5GK59hHD6nrTKruVj4IsJZ7oxrTxwDr9MwUpgis0xOQmhshdXcxsMqdbgy7/DAXZtHvjeKgJwqNL72szegJQ23zYo9MA6l1FQOrOZSGxh2B2hWFzpeE1peClvvJn4GaWRZqf7bufaf3JUBWPM80OyeVPweVP89MHchj2B6BwhmBMzUNnTOInfsHWYz5jHPOr/vzX2z+HwnmQCYPZqEMZKDyp1l+0fuSMHrjuPK7P0Zz93qcdf47cPc9/4WBAQX2vnoAOpUJLpsP1PcwfY6o/HtvhBEB1mrA9OhjzsOV4qszM9OYnJpAvlBAqpCD1NiA1nXrMRqKQh9NYcgXxXA4i/5gFgPhHBS+5W2jwTTktgCe2z8CqWkVurZeCEMgA41vXoH50lD5MlD6smW+ykPuK1q9+0/tJYWVKjvHPEb8BYz4J5gNe3LQhKcwbI9BH8hA7Yrgyd37ITW2Y82Wc6AOTkAVKEDpy0HuzULuyUDOFe8yyFuDwQmQDQUKkAXykPtzUPoy0HhT0HkSuOb6WyGt6ML6M87FPfc9iscefQYH9h2CclgDt92LYDCIRCLBPg5J4QCKr4oY69GAq9ZvAdYy6FX2oBBgFWBdzMNxIbBe/YtbGFjXbjwbf7jnv/DIfz2Fvr39UAyp4LK6BVirxcxKjksxVq5Y6RPJ6XyeVRNqX3saxoIJjIazGPEkMRIsYNBPT9mpEwbSYjJjLW17LLCSMntDsZJaFYp1IcVK15QpVi8pVlL35Qq/soddLeWPhdIi80+CjBQ+vcWQcld7M9B6kjB44rj65zdBaujAmtO24Pd334+HHnoUe/fsxfChQdgtVgHWSgBXrXUFWCu/gQVY/2cUqwDrccD6syJYV6/fhDt+dw8euP8hvPrKqxjsH4DVPC7AWi1YLnRcXnZF67FaAfT1zslJVvE4l5tglZe71myE1ZeCJVCA2pGGxjsNhXsGSu8si61RDHG52lggCaXNh+f7hiE1daN7y3ZQ3U2dN8FKyilWxuKQpVhrUb2SMiGrd79pqQTbS7Uejoyz8hiyzJOBLjQBmT0CQyANrTOEp3fvg9TYit4tZ0EbyENDhV2k6r1pKDwpKDzzNSaWQ77yTEDNrACtJwedJwO9OwmjOw6TO4Lv/+xXrBrf6nUbcNudd+Ce++7Brl0v42D/PpjNBgHWhQBXreUCrIt7KAiwCrAu6uG4AFh/8IvflMB66x234w/3/gE7d74kwFotYL7V4/IGAgRYrlinJycxkS+gkC0q1lWrz4DTk4bdNwG9LQujawY6xyy0rrmiGuOqbBmOzYE4VFYPXuwbYvVYV205D6OBJKv4zep4knL1JpmVK1d+M7J5dew3nTcGMlKtpM5VvjSrAcEVudydgj6Ux4g9hFF/EjpnAM+8spc1ZV23eRt0gSy0VP2MalF4kiWrd7+81fTrXQUYmOVgdGUw6krB5ErA5IrC7ArhR7/8NWsO3LN+LW698xb84b7f48+7nsPBgddgtuiEYn2roDvV6wmwzr+qnyDcBFgFWN8qRI+13kJg/ckNpFgb0bN+HW6989YSWPsHXsO4VYD1VPPyhI5XLLyaweR8jDWbK0Ba0YzO3tNh8SdhDuagdCWh8k9A5p2E3Dc9r06yy3ZsCqagsPnx/H4ZpKaV6N56QTGW6E1C7UkeFV/lfnqjkIzqt9azlatxUuGsEIrq6PoLzCjGqg1NYtgeZX6hvgSe2t3HOmnp3XI2NME81AGKsVJLrQyLrypYqzQei65v/yx0bRW+CZApvQWovTloWI2AFPSeBIzuKH5w/c2QGtqwev1G3Hbn73HPffdj165dGDh4AOPmMaFYT4h0p3gjAdbKb2IB1jfCHAKslecfAdZTDLlqHE6AtfIbQ4BVgHUhVfpmywVYq0G6U3xMAVYB1jeDwLGWiVBA5Xmm3I8CrKcYctU4nABr5TeJUKxCsZaDstJpAdZqkO4UH1OAVYC1UjAIxVp5nin3sQDrKYZcNQ4nwFr5TSIUq1Cs5aCsdFqAtRqkO8XHFGAVYK0UDEKxVp5nyn0swHqKIVeNwwmwVn6TCMUqFGs5KCudFmCtBulO8TEFWAVYKwWDUKyV55lyHwuwnmLIVeNwAqyV3yRCsQrFWg7KSqcFWKtBulN8TAFWAdZKwSAUa+V5ptzHAqynGHLVOJwAa+U3iVCsQrGWg7LSaQHWapDuFB9TgFWAtVIwCMVaeZ4p97EA6ymGXDUOJ8Ba+U0iFKtQrOWgrHRagLUapDvFxxRgFWCtFAxCsVaeZ8p9LMB6iiFXyeEymQxb/fnnn8eaNWuwZcsWfOhDH4LL5WLz0+k04vF4aZfU3yoN9B3y8qEaYNX78xiPTGO3zIRRbwre1AwGNGPQ2jwY90URnwYOaowYsbihcodx0OyBLlLAoDsBTWwSWl+Kfate741DNuaCLZKG2R/FAaUO1mAM4fwM9quMcKamcMDohNqXgTF+GAdscci89FXMxd0Yi1WsC4FpxEvfxspi0BqGKwuoHUEc0psRzk9Da3UhmJ9hXzBQWtyITQOvDmvgycxA74lCYQtA541j2OKHMwvs1dhYj/3D9ggOWUIYjU7B4PDC6PTB5IuwfmX7R13QBXMYSwKHHMlSv6r0DSvqa5W6BlR76btnRaXKx9SJczW6DRwKpsFNFkyBbCSQhCKQgNIfh8wZxJDVC7nDD4M/BqM/CpXdB7Xdi1FfBGpfumjeNOs7l76CQOdU/JZXHAcNdoSngCGTEwZPBEqrB7ZoBmqbF1qHf9H5R4C1nEA1NE1wJCBed911WL9+PVpbWyFJErPVq1fD5/MdkdpUKgUyGvL5/BHLqgHWgbEg1M4kYocB2ZgXfUoTznrbpbjo0ivwj1//Fp7dsx/hiVkY/TGoPRGMxScw7I5BHshiyJPEaCSPl/pVSICgE8CgwYJL/+ajuPjy92PHu6/AzoPDcCUKsMYKGBz3YdAWhjo4gYP2BPRxLPrGONlgVQYK0EensX/UA6UzCuoo2hnPQWNx4tHn/wypswfb3vYufOsHP8PQqB3RacAez0PlCGJwzM0eOiO2IPuwoTk+hUPjAQzZwsxfL8tMuPGOu3HO2y/B2e98N+589FkYAhnIHFH0W8LQxw7XPVgNEfrsSxSPvtKH7q3nYfW28/HUngMMquZgfEGwujOzuO+ZnbjoPR9Ez7btePsVH8bXv3sd6MsRllBy0flHgPUIBNXOj5mZGZaYdevWMZiuWLECl156KZtuampiynVqagpzc/RVK4CmjzdUA6w6Xw46dxqHjB4oxgOQGrshNXZCamyH1LoS7/3op+BO5qF2BjA47oZ3Gtg/7oMpA6Zadf40TKEMXlOMwpmYYICQutawHuqlxjbsuPz92DWgYGrMFKYvgmahj87goC0BZXBq0TfGyQbrAUsEpuQchqxhKJ0RjEey8KYn8f9+8BOc+453QWrqQHPvRmYf+z9fwojZhVdlOoyHM0gCGI8VoHCE0W9ywxDKse9LGcIF3HD/U+g5/xK0rNkw76sO/PyO+5hSI8U64k5h2J2pebDKAmmQjQTSkAdSUPhTUPqTUPkS0PjiGBz34J/+/XvsC7pSY1cxb7WsxP/99+9CYXIsCNbXlKPFbZu62DfNKG92nn4m3vux/4WRMcei848A6/FoVAPzb7nllpJCffzxx1mKSLW2tbWx+dlstpRKDliaUT6fflcDrGORaSjtcXizgNS4GmvP2oHu08/EJ/73F5gaI3A8/MJOKO0+DFm8sGUP48C4H5YCcMgVZ6GA0WAa1lgen//6tyE1djDYfOmbV2H1prMYoD/z5StxaNQJS3yKgVUTmsSQO1sXoYA+cxhjKUDpTjLVaYlkMaAzY81mOrc2dG3chjPffikDxvpzd0Bh8cAUSDDFOmB0MLCq3DEYghnsHDHBkpyFIwdIa7ZBau7Fqo1b2X627PgL3P7wUyxsMBqdhEuFh7YAACAASURBVDE2Czo2/8RKrYYCFgKr2h2BtOo0BsUtOy7BGdvfwXzV1nsGfMmJBcFqCqax7R3vwef/9T/wr1f/GOvO2TH/4O+AO7H4UJIAawlNtTfR0tKC9vZ2BlGeuu3bt7PftCwUCrHZpG4pdEAx1omJCb5qaVwNsFoo3ql14cWDGkgrNzLFuqtfDrMvUgRrZw8+9S9fgSWWwVg0C6UnhiFXFLr4NPbbQhiyBCCz+EBRZqmpCw2rN2DHu/8KtlAc7/voJyG1dKFl7RnQeaLQ+ZLYP+rFgfEw1OEZZrUeY6VQwGj8MHs9l9tDLBRw1yNPQWrrhtTcgeQs4MtMQ2pfzc7/e9ffDFssB4OX4olJKBwhyO1huHLAAaMbCnccxsgEPvD5r+K62/+I+x9/BlLHKkhtq/DbBx+Hzp/CsC0CmSsJTWiq5sGqZF+FpS/DpqGieLvvjRip3hPHdb/5ffEtqKELofQMnME0JKkTktSBx5/dtSBY92nGMWx2YyyYAgXQil/j7YTUuQY/v+1uoVhL9FhiE/Rq39zcDAIoqdRAIIBEIoGrrroK3d3dbN5DDz3E4qk8bFCuWsvdUQ2w9o/6EZwArr6RboDVaF6zGfEpQD5qw6bz3wapuxdS9xqYgglYEgX0jTqhCmSgDOVZKIDipq7MLHbLdOg4nVRcBx548nm4YhnccMfdaFt3BlMYOncUo+Echh1RHLREoInMYtC1+A/WnexQgMyThdKfYwAYDWVh9Cfwlau+z1Rma+9pOKgehckXm1dRnbjg3R+AIzEBtTMEUlvGQJoV2slsIQRnALkzxsCpC+ahDeQwqKVX3Xbmt5vuexRjkQKGbBEMu5LQRWfqHqzv+/g/MLCe+473YFefDM/8+XWcvvUCNu9b/3ndgmD1F8DCL9ZoDvuURhzQjDFf05vC7Q8+JsBaDpClND09PY21a9cygG7evLl0ar/73e/YPILtt7/97dJ8migUCsjlcqVCLL6wGmA1hiYht0Tx91+5ioGVYqyKMRcc4RTO3PGXxVhrUzsUNi8MwRSrFaAOZqEI5aAKF0AxVnMkh8d29c3HwDqwd1gFSyCK12Xq4vaNnXhlWAtLfBKjsSnIvVmmVvvGo4u+MU42WA9Yohh2JkGv55R+ip1e/refnI+LtkHvDMAWyWDDuTsgta1G89pNGPXH0W+wYcTqgy1ZrA3Rb/LAlQcMoTyG5wuv9mjs+K9nX4LU0gmpowd3PPIMtFQiHsjCEJvBIXui5sFarKFAtRTS0HpT0HroC6dJGNz0ldM4tlzwLkgrSGB0oTADpAsoKdb3XPGRBcFKD6cnXz0IV2oKencY9z31EprW0JtVB16TaRadf0QogNOnxsb0at/Q0MAUKxVW0UA1AW6++WasXLkSVDPgs5/9LJvPawEcrwCrGmDtNwVgCk7gr//+ywysTT2boDS74Yik8N6PfJLFS6X2lTD4ojBFstAEUpD7khj2piAPZDBsDULvS+CZ14dKoYADKgMGNEbsG1FDau5E67pNePD53VC5YlB6UpC509DF5uqi8Erhz0PuoZLtNAbNXqjsAZx3yXvR1nsag6stnEK/dgxrtp1fVK1NXQysOncE5nAWKmex0Ms3CexWmKHyJKF0JyBzxBhAd+4/xEIKBIpb/vgE1O4YFO4kdOFJDCwBsK7buqMEVrMjDKszMg/WTmzacsGCYB02e1iNleExJ4zeKDpO38b8vO6sC+CILa6qHoWhBFhrDKg8ORQ/7ezsREdHB6hGAH/dv+2220qK9V//9V/56qxWAKlcGgik5UM1wKrxZDAaKOD9n/4CpA4qoe5GOH8YGqsbl3/4E0U11dTO6h/6p4An+mTotwWhT8ywcAAp1qExN14Z1hUVa1cvdh4YgtHpx36FFlLbSkgtK/HHF15l8cMRZxzDrhQUwUmM+AqLVhwnW7FqwtN4WW5hBU4UK+3XW/GOKz5UjIs2tsHkjbB6rKs2n4vOjWdCau6G0uaD1h2BbNyLfqMD5mgBxmAW+41uGMMFUK2A1/UuWFJzeO7VffPqtwN3PvIMzLEJVgNh0BGH0l+oe8W6/syLGVgb2tfC5o7B6oqiua2XxVi3X/QuVq95PDkLU3QSMnsEA2Yfi6UOmn0wR/KsLrAtlmex7R/8+vZSyOXh53eJeqzl8FiK07ze6saNG0und+211zLgUr3W22+/nRVa8YIrDt9kkirkvDFUA6z7tC7oPVl84f/9iCnW1rVbYHAGITfZWH1UVu2qqYM1END6YqBiOFseDKx/1thgCGYxZPbg+f0jkDrXQmrpxjOv9sEeTuDF1/vRvn4Tuxn6NGYYg6T8MkyxKgKTdRFjpVAA1Qo4ZAnCFM6xUMD2d71vXmW2YXjUyuq1rtx0DjvPDee9DSPjbqaybPEJ+AqAKzsHpSsGuSPKADIamYTKm2aNDnYdGCxCunMN7nnyJej9KVbPleK69VDdaqFQwBnn/UVRsTaugjuQZnClwqvW9rX45Kf/CRp/BvsMVBWtAGcO2Kd34IDRhf16O5TOMBT2IAITwOCoYz7U1InTzrsYBncI44H4oh/MQrG+wZ+amqISfgIrvfbTmLew+sd//Ef2m8IEw8PDR6SZF17xFlh8YTXASrUC3Gng3677NVZtvnBesc7B6Aqg+3SqCtSOd/zVB/G6yoAhiwfDjhB2aSwsvmrKzGE8PgWtO4ohsxvSKlK8Hbj6F7+GNRjH9352AxpXr2fAofqfFD+kQhuKsRJYD9VJ4ZVnGnhNSzd6BFTd6h+++k2m5JtXr4M3PYFQ4TA7x7VnX4jP/N9/Y+GCfeoxFmN9/oCcbXfI7MNouMAUq9wZhzUN7DO48OgLO0uK9dY/PsHCDdQyi2BOBWe1Xt1qoVoBf/sPX4LUtBJSQxfCmdlSrYA1G87Ejb+9ixXgGcIT6Df7WZiEpAYV4Gk8ceh8CVYASAWBvWddxMC64byLEZ6Yw36lQdRj5eBYquOzzjqLQXTTpk2wWq2scIogS7UFaByNRo84dVKuHK7lC6oBVlNkGgprDHvkZkjt69HSuwW33vcITO5QsbpVYzseev7PrB6rIZjE9vd/DGsvvhzX3PkQXlSOQ+mKQuUIITSFYuZv7sI7rvgg+tUGvOdvP8HAfO5fvgfj4Sxk1ALJT3EtAsYEs1qvbjWaBA6YQ9CHCqzalNLmx1Ov7Csq1uYOvNh3CH1KA3q2nsfg+vy+QejcYXa+57/7b3D2pR/AcwcUrFqaMZyHPphjkKbXX7krgSGdCVJrF6TWbtz71MssDj3ijEEfmcbe0UDdg/WG3/2RPazb125Bv2IUu+nNpoEaCnThpVcOsDgztUTbdukHIbX04vHXhtGnt+OAwQFneobFqd/2/o+ygkGqzqeyehlYqeVVdHLxLfeEYi0nUA1NU0GUVqsFFVwRRD/2sY+xOCpNk1122WUstQRNDlQKBfA4a/mpVAOsT+5VIDEHGP1ZbL34PewmYK1bNmyeL9Fvx2syNeRWN+SOAKSW1ZDa1+LpIQMLB1BfARpXBNT08MtXXctKt0nlUpNWqkBP07c9+CdWYX7YEmChgBFPBsPePFTh6UW/yp30GGtkGi/KzLCm5+DOAXKLlzWnvOCSy4vn19mDlZvOZlBt6t3IGgiYQ2kc0I4XlVrTKuwaMULvT2PYGoKZ6v8aPcwPVNPg+df2lxQr1WPVeBJQepKsGe0hR+3XCliogYAhkIS0ckPxbaazF1Ir1dldjYbudfAmCizEcuMDT0NqXgOpdyvo4ROYBlSuKEZsAdz/3G5IHb3z8fu1WHvWhSzcRG9GX/vODxadfwRYywlUQ9NUZ5UGDlIqxOLTvb292LVrF1tONQJ4mIAn/2i4VgOsTmqaOhrAQb0LgTy1vupmGb9x1Tq0rDkNdz3yJFJzgCc7jR/dfg8D68ZL3g9NdBKvm/0wRfKsVgC1rKLqMB/6zD/Ov/63oXHVWrz7w5+AJzWBEYuXqTEKBQw5qVZBDvLAxKJvjJMNVnVoEkpfDnt1DnjywMi4h8X2HntxF4pw7WBQpYfR03sOQDbmZC2vPvwPX0TD2i247OOfw3hsAtbkDPbpnbCl51gnK1SIR+r93seeQvva09G+YQtue+jJ+ZoTSegjU9BGar8e60Jg1fkTKDZL7YLUsgoSwbWpC4NaM8Y8EVYouOWSv2Fg/eyVV6PP4GQ1Tahqm9odxae//E3WpLV783mlGCv5un39Znzw7//PovOPACunUQ2O/X4/SxVBlV7/N2zYwOD61a9+9YjU8upWfCYp2PKhGmCV2+OIHwYUtggG9A4EsnP449Mv4/vX/4bVDFBZnFDbPNivHUP75nMZWG98+BkYU4cZXCl2SIqVmm9Sw91D+nE8vXsffvybW7FnUI5HXtiFCL2y2QMsxqoPF9BvjUIVmq6LwitlYAKOArBTPsZajpFipV6VYhOzeHlfP/747Mt4Ytc+aOx+jAUScKeoXrAHPWdeyBTr068Psfqv5tgkhqwh1rsVKVUqvJK74rAFY6z11d2PPQ3ZuAdjkTwoFDBoj2PImar5UADv2YrGx+rdSh/JQO4MYsDkwN1PvoAHn9sJrTPACp+M3jDr5Yua9q48553MN1SARaqdqp31aa0sb9328FN4Yb8MN971IF7oG8QL+w5h9yEFHn1ptwBrOUCW0jRvmsqVq16vx2OPPXbEq34wGDzilHk3g0fMrFJfASpXijUQGKXWRbYwRqnQwO6HK5phBVC2cAJ6VwA6TxjS2k2Q1mwCnQ2FAgzJWSicUdgSkxiP5PDifhkryHEnchjSjbG6sLEpQGnxsJZIVI+VwLrfHIQhCfQ7Ft870clWrPsovhqZhik2xTpIGfUnoLH7oDLbWdeBBlcQcrMTJl8URm8EWmcQWmeIqawN2/8Czsws9mos0PlSMEUncMDkgcKVYDFbqtOrs7lhcgdgDSdZjQMqtKHerRTebF20vFoIrCpfDK7CYVbwORpMYCyUhHzcBVcyD9mYg9XnldZsxRnv+CvWcEJJTX6DWcisAdaiT+OOsDCS0ReDPZaDjvzr8LPCK3928aEkoViPptAS/F0NxbpQ4RG9ko6ngZdkY7jm1gfx83ufwCFrBPYcWNd2C21/spcvFqyLTZ/MmYAlDRw0BzFkj2E8Bdzx5G5c+bPb8KLMtGhFtVD6qt0f60LpW2j5v//yd7jm1gfwusEDpS8DuTuFseQcBu2xk+47SpsA6xIE6dGnVItgHXElYYgUu/fbZ/TikC3KQDsan8W+Ud8pyfxvdnNWG6yvGz0wxWdZpynDzgQLGxwcD+H5QSOsmcWXWr/ZudOyegfrAXMAu9V2WDKAITqNQVsU2mCBPaTU/mIn4wv5YDHLBViPptAS/F2LYKWmlQpvBkpvBsboNEyJw9CGioVOpyLjL3TTVBus/eMhmFNz0IUmmIInnxhj08xHY8nDJ/3BU+9gdU0C5DN6CGkCeRwcD0Llz0FF/fbOP9AXygOLWS7AugRBevQp1SJYuRobsIRBr71DjjgOmINs2pycO+ngWOimqTZYtaECe+Cwtv3WCPpMPii8aQaHU6Ho6x2sck8a+01+FgIgmJLqJ8WqD0+yh/lC13+xywVYj6bQEvxdi2AddsaZYiVFpo9MMlVBCpZuCFKxi83Yi92+2mClMAm9vhJMyT8UI1QH8gy2BInFnt9C29c/WFPstV/hSbOQCj2o1IEcdOEJHBgLnHT/CbAuQZAefUq1CFZSqZTJ6fWWXtVIVdBvCgcwuC7yY4ALgWOh5dUGKylVpuBdyWLsOTbD/ESvsafiVbbewUoPbE2wAIrlj8ZmoPIVVetY4jAO2SICrEdDQvyu3AO1CFaCA3tFc8RZRh+0R9lNQHEwuikWAt/JXl5tsJI6JbVFKp4eNppgHjJXgr3Skt9O9vnXO1jJd/TA7reEmP/oQU5xVnsep+SNSCjWyjlVd1vUIlipYIG+GEpVrAiyFHOlD90NWCMMsCcbHAvtv9pgHXLEWK0JAixVEZJ7UgyypOZJzS6U/sUur3ewUhUrUqoEVIrZE2j7Rn2sMGuYuk48yW9EAqx1h8nKE1yLYD3ZGXux+682WBeb/sVuX/9gPfmq/s18LMBaOafqbgsB1spvMgHWJKvLqvamoPJloPDlQF905d0NyjwUopjEsD0KQyDNOox+ancf6/ild8vZLHRBhUUU26RwRjGsURsFk28GxP+pZQKsdYfJyhMswCrAWikwhGKtPM+U+1iAtXJO1d0WAqyV3yRCsQrFWg7KSqcFWOsOk5UnWIBVgLVSMAjFWnmeKfexAGvlnKq7LQRYK79JhGIVirUclJVOC7DWHSYrT7AAqwBrpWAQirXyPFPuYwHWyjlVd1sIsFZ+kwjFKhRrOSgrnRZgrTtMVpjgOYCBdXYak1MTKBRyyOZzkBokdPaugyUQgTmUgNIdhiqQhsyfhjyQKXUbx5XLchuPB2JQW914qe8Q+0Ls6i3nwuSPw+CNQueJQueNQeuNs06q3/BNClQ9ieyNeUVA1dtvvScKMt38ORarXaVZ1StW/cqdgCGUg9wWZH7RO/149pXXIDU0Yf3mrdAHMtD50+zrDmrWc38cNKZe/OvNFyeSXlkgB7KRAH3gMgOFn3xH+SLB8s41N9zC8lX3hi24+c57cNf9D+GlXa9hf/8wxsZtoE7sqZN76vCef9OOPhQqVXj7i9VPlgcEWE/oRhZgFWA9EaDybQRYTxbQamW/JwhWlY+esMvX6DtTSqsXL/QNsc+hrNxyPoyBFHReUl3xeVgX1WnRTxmm5vgrY737TutNlNS4mror9FGPYznWUIAaC4y409CFChixh5lf6NMxT+9+HVJjC9ZuORPaQI591FBN23lToM/FkNE3uZgt8bwlC2RBNkKfZfenofSnoPbR20scem8MbyjWzfjtnX/AXfc9hJd37cH+/iGMma1CsdYKP4+bDgHWE3pACLAKsC7m4SjAelwiLZEFFYM1BXmAvtnzhjpZjtOjwTTktgCe3T8CqWk1OrdeBH0gCw0prflmnkV1yv2UP6LJZ737jFRquVKl5qwj/gnI/JPMhjw5aMJToM5iyC9qVwRP7t7P4oY9W86FOjgBVaAABTWD9WYxMm/yZZKvSKmOBDIsvkpqVUVq1UcPqxj0ngi+/8ubITW0YeX6Tbjlzj/g7vv+iD/vehUH+gdhNluEYq15/AqwntBDQoBVgHUxD0cB1pon4yITeIJg5Z1tLNcxfSp5xBbCM/sVkJp70LF1B3RB6lSk+J0uUqvFG6/YMcmIv8AUHak6snr3G50nK/2f73yFq9Vh/xTIBj0FqMMzGHTQJ09yoE+QP7H7IKTGTqzech5UwSkoA5PMDyO+PGTeHDOalvsKde+fha9vGgp/ihmpVTVXq94ojJ4wrv3lTZAaWrF6/UbceudduOe+B7Br5yvoPzgAs9ksFOsisXfyNxdgPaGbWIBVgHVheL7ZA0KA9eTDrZpHOA5Ym9pa0bqqB2Z/CAZfBGOxHPrG3DBl57BL54TSn1/WpnKEWYz1uQNyFmPt2HwBtL40tFTP1xWH2p+d/+pnbt5PBSj8b1i9+49iyWT8POnc5P5JjATmzVfAkCsFmTOOfpMHztQ0nnud6vy2o3fbeSy+Sj4gVT/iyZSM4q1k9e6fBdMfSEEVSELlT0LjT0Dri0Pvi8LojcDkDeFHN1KMtRkNre249/4H8eijj2HXzp3QKFXQa7RCsVaTmW/p2McBq9S4AlJrG+LTh2HwhqFwhTDkjEAXn8JYFqzwgQoglquNBjNwZWbx0MuvM7C2b94OmS0EzwQwaA0VqxMF81AHC8WCGiqsCU6WrN79pgtkQaYJ5Ng50rkpg1NQBKeZjfgK0EVnWO/8Kk8C45EcHnr+FQbWtWeeD11kGtrwVKkQSxkoMNiqlk2eykATTDPTBVPQBxIwBuIw+WMw+yL46W9uQcvKHvSethG33HYHbr75t3j6yaeg1+pgHReFV2+JbVVd6Thg7d2wHis6OhGfOowRiwsyux+G2AT6LEEow3konNFlbWO+KJTjLjz60m5IbatwxgXvZC2RDN4Yhs0eqJxhKJ2Rko/kzhiKFoecvkBb5/5TO0IgUzrD7Fzo3EZcCchcSWZD9ihU7gTU7ijk4x6Qvx574c9o6OjC1vMvhMZHdXyTbB2FKwaFMwYaK11xKN3175+Fru+Iiz4xFIbcRaIlCJUzALXTD63DC73djat/8nNITS1Y2bMGv//973HPPffg2aeehHxoEOOjRqFYqwrNt3Lw44CVmrQSWG2hGMZCCdjSU7Bk5zDojmPQU2yuSE0Wl6tZgnEMGcaxZ1jFCmQaek6HNzsDnTvC1BkpWorDGkPZeR/lYQjloZ+3evcb9ZVAxs6TnWOefeSRPvRYtAL0wSyUjjDziSuexdM796Chsxsr2rswFp2EKTKB0TD5JQdDsGjGUB5GPm8J5y99OAN9OA1DOA1jKIXRUBJjwTjGgzFYAxH89Fc3QVrRBKmhkUH1ueeew0svPIeD+/YKsL4VrlV9nTcB6zkXvx37lRqoHD6MOILYqRrDkCeBPksAI2bXsrZhtRYmuxMvvroXDR3d6N28DYfUepjcfijH7FCYHZAzc5b8JDO7wa3e/accs4GseJ4udl7D4x4Mj3uZDZpcUNn9GDJaoDbboTVb8PCf/oTTztjITGHxQD7uhmzMiWGTA0OjdjamaZpX7/5ZKP2HLB6QDVrcGBp3YXicztkBhdkG1ZgFV/7Hd9DS0YWVq1fjpptuwh8fuB9/fuE5jBw6CJd1XCjWqoNzoQS8CVipw4zW3g2QmjogtayC1NIDadN2SK1rIbWtXt7W0IQ1p5/BOhWhQgapuR1SYysautew7zpJrd2QWleyMMEbvuqB1Matzv3X2gWJWff8OdJ5rYHU1lu0ppWQutezBgFSSycaO7vR3NEBSZLQRmOef1pWQmruhtTUVTSapnl8+VIdd6yBxKwHUvtqSO2rILVRniG/dqB15WpIKxpwznnn4oYbbsAdt92Kvbt3Qa+UY0ynEWBdiGtVX34csK5e18ug0dK7vgjW5pWQOtZBal9XBGtjWxEgy3W8QoLEbAWk5mZ0ryF/Nc6Dll7hmiE1tDDYSiUfEXy51bn/Gugcyfg50nl1sLAI1VVl0/RApuXkl6ZGdHS2YYUkYU1P1/LOO5QfWugB0g2puQtSc2fxHmuiPNFazDuNzZCkBmzZuhU33/QbPPTAfdj36isYGTgAo1ohwFp1cC6UgOOAlWKsW7dfgAGtAXpPCGpvFNpwDju1dqgiBWitrmVthjETdKMG7D2wnymLzp4emOwOFh6weHzQW+zQWR3QWp3MTxqrG+VW7/4zWGwg4+dI56a2eqCyeYtmcWPMG8aIwQS71w+t0YAHH7wfF2w/Gy1NEoxOHwysoMYDrc1dyks6mxs6u6f0u979dLz0yxx+kI3YfZDbvVDaPVDbKI84obPa8c2rvoPunjXo7OrCr391I57802N4/ukn8NrOlxF0OwRYF+JaLSwXHV2Ljq55r1tvdcy7vxOfv6487xRb5U2AOrtWegtQe3PQeDPQelLQexIwuqP4wfXFvgKo5dVtd/4e99x3P3bt2oWBgwcwbh4TYK0FcC6UBgHWym8O8QUB8QWBt/oQOtZ64gsCC1FpCSwXYBVgPdbN/2bzhGKtPM+U+1OAdQmAc6FTEGCt/CYRilUo1nJQVjotwLoQlZbAcgFWAdZKwSAUa+V5ptzHAqxLAJwLnYIAa+U3iVCsQrGWg7LSaQHWhai0BJYLsAqwVgoGoVgrzzPlPhZgXQLgXOgUBFgrv0mEYhWKtRyUlU4LsC5EpSWwXIBVgLVSMAjFWnmeKfexAOsSAOdCpyDAWvlNIhSrUKzloKx0WoB1ISotgeUCrAKslYJBKNbK80y5jwVYlwA4FzoFAdbKbxKhWIViLQdlpdMCrAtRaQksF2AVYK0UDEKxVp5nyn0swLoEwLnQKQiwVn6TCMUqFGs5KCudFmBdiEpLYLkAqwBrpWAQirXyPFPuYwHWJQDOhU5BgLXym0QoVqFYy0FZ6bQA60JUWgLLqwHWEX8OizH6Hv1irNIb4ej1qw3WkUAKizGlL4XFWLUV62LyDm2rdc+bJwfNvFG/qCpvDkrKW2X5UxbIYTiQw1DwDTs6P1T6W4B1CYBzoVMQYK0/xboYqNK2i4EqbSvAWnmeKYevAOtCVFoCy6sD1ixG/Cdu5Zm0GtNCsVY3FLCYvEPbaj1vmMaThcabhdqbhcpbBKbCl4Wc589AFrJAFsNlttg8J8C6BMC50CkIsFauPgRYBVgXA1cB1oWotASWVwOscn8GizGVL4PF2GJuCtq22mCV+1NYjNV7KGAxeYe21XqKpvFk2Pem6JtT6nmjfKWcN4UvA8Ux8upi848A6xIA50KnIMBaf4p1MVClbQVYBVgX4oJYvkgPVAOsSn8aizG1N43F2GIVR7UVq5LguBir81oBi8k7tK3Ge2wr5SlfGmpfGqrj2GLzj1Csi4RWPWwuwFp/inVRUF0CilWANYhEIoGJiQnMzs5ibm6OmXQ0cFKpFKanp9nsmZkZTE5Osg1oBv9N07QDPvD16XcymWSz6SDlA/2mffGBL6d90hCLxdi4UCiU9jE1NcXmEXBov3x7SmM+n2fLauFfOp1mPuJponMKh8MVJ60aYD047oXSm0AQQP+4D5pgGiPuKAbtQRiieWiDGagJAN4EFN44lL4EVP4kVL4km9Z6k3DlwKr99OkdSAEYHPdB5YrBGMpB6YrBkZnDS4M6jMcmofWloHLHQdvpSC37Kodp+TYnW7GOuFPQRyYh95BfUhiyx2CITOHPCgtsWWDEFYM+nIc+kofKl8IhaxCOAqD0JTHijsEzBbw8MgpdKAdHHhhyhCF3xyH3xNm2Kn8KxtgE1IEMU776aAEj7jgOWvygZQuFCqpd3YrywZsZJ+0EDgAAIABJREFU5ZsBqx+W9CzLS4O2IMbTMzgw5mF+UvuSONr4OdGY8suIPYzx+BT0vjRGbCHIbWEMjLphovy1yPxz0hQrASCTyZRgymnAoUa/CYIcmHw5n1/+m6bj8TibRdsTLMvBzNel/RHhCUQcrBxK5ZCm9Slt5QMHMAdz+bJqTJP/uK/K007TuVyuoiRVA6x0s+9UmBhUFZ44ZK4IRlxRBlWCqyaQZiClG4QZgXX+ZiLIDlkCDJB9OjvcOeD5fjWDpi01C7UnAbkjAp0vxW4Me2qWrU83C90oMlto0TfGyQbrkCMGc3IO6kAeA5YwZM4EA6rCm4bSm4EhUkDfqBtKb5IB1hidQP+4nwHWEC1AG8pikM7Tm8T+MQ97SI3GJjGemoUmkIE6kMYhWxB7DQ4csoWgjxQYUBXeBCyZuboHqyUzC3sODKR7tFaWtyhP6UJZ7FaP/zeoEmTLwTpo9iEK4IDBiUNjXvgnAFtihtmQ2b/o/HPSwMrvfA47+k2gOBqkHHy0vBx22WyW7YKDTqvV4vLLL4fBYOC7PgLaBFQCCB/oNx9ovwQq2hcHKC2LRCIltUxKmbYn+c2hzLev1jgYDJbS4vP5TlhNVwOsWn8SY/EJ6IIpmOMToN+GcJZND4x7oPLGoPbGS6byxkHG5vniMBJ4nRH4JwFzJA9fARgYdbHfrypGMRrKoE9rhSmcxVg4h+FxH3S+BKyJSSgctQ/WA2MB6EIT0AQLTLXK3SkGWBrv1bsxZA1iyBrCaGQC/WNeDNvCGHFE4MgBKk8CA2Yf9MEsjOE89o+6YUnOYr/RDaUngUPjAfSZ3DDGJmFOz2LYGcH+MS+GHBFm+wjYC8RgOYTU3hSrnUGt4OS+POT+AjMZlbqHJjFsj8IQSEPjDOGp3X2QGtvQu+VsaIJ5qAM5qHxZKLwZKDxp8IfGW1GDal8cb2av660wRrLYb3SA3mWVnhis6WkMWn2wpmeOua3GS280RXOkZjBi8cPgS8LoS0I25oXGHsaYPw1buFC7YCU4kZGy5MqLAEXz6EYPBAIlXtFvDlCaGQqFSst4aECSJHCjV2QCZzmIaR98XTomqTqax5Uu7ZBAdfXVV2PTpk1sX1/96lcZSEsHm58oT8vRy07VbwpL8HTQeV111VXYvn07PvWpT+GFF16oKBnkB34tKCSSzRUgrWhGZ+/psPiTMAfp1ToJlX8CMu8k5L7pRWcsgqcjexh/lumxf9SB0WieZXqaHzwMyF1hKD3R+RsgwUBLNwcDri8OlSsCW2IST742yABqiRUgs/ixX2dDZBbwFsDg+orMgNFgZh7EYSjsQWg9FFqo8VCAK8mAKnMlWUhAF57Ea3oXrBnAPQXY0ocxFpuE0h2HMwfIHBEYQnmYYpPoMzghd8Ugs4cxGqWHVoaB9WWZkW1nik5gND6FAWsQ/ZYANMEsTIlpBllTYgoqFip583BArYPVPVHMQxp/An1GO14YVEMfSuOQxYsRZ2hBsNKDWG4NQOeOQe+OMaga3HGQyc2+Reefk6pYy19hyyFINzcNHITHU4m0HodLd3c3g2F7e/t/gwpBg0DL1y1fgY5BoCVQXXbZZejo6GD7Wb16NZqbm9Hb28tUNC0nAJVDvXw/1Zr+yle+Ukovf7DceOONFSWnGmB15Q9DF0hgNJJh8dERRwCfu/I/0b7lfEhrN2PY5oPSFYbWF4fWH4faE4XSHYbKEy3O80Sh98bZtrbEBOzJSVz20c9g4453Yc3ZF+OJVw+CgjmvKUdBy8cjOagcIfQb7FA7w4u+MU52KEAfnoQxNoNBewwjriRMiVn2m2Kuew0eXPzXn0LrGduZKV1xHCA16opjYKz4Cjsen0af3gmdPwOVOwGFMwatL43wYQqbaHDNbfdhwzvei9Pe8T788oEnWFigz+TB60YXi8PWumLV+GJ4M6P8MmT1wpGZwaWf+Cy2XvI+nLbjXTCEUlB5IlD5YyVTl+1L641B543B6Etgz7Aeb3vv30Jq68Ul7/8EfnjjndBaAvAnZxadf04qWDk4iQIcpjTNX9PLYUtwpNd/gmz5QFCk9UmlEmT4tvQaT+Cm5WR84KEFOjaBloBJg1KpxNq1axmkenp60NLSwqY7Oztxzz33HPGaTSCq9kCK/o477gA9SOghQFBtaGjAOeecgx/96EcVJa8aYLUkJrBrRA+FK4wvfveHkDrXQmpeifYt57HxoXE35M4ggyoBmG4UhSvEbgoCrTGQhNzqx6tyA3SeGBp6N0Nq7YG0ZhOkrnU4/cJLGES17iiM/iQUtgAMvgRbl9avdcV6cDzIYoRUUX3AGmavzPTq/KF//iakDeeiccM5kJp7mEXmwKDqyAB7VBYWezYEczhk9sMcK8aUCby0/NcPPIXOrTsgrT4DUksPWrZciF/c9ziGnVGYU7MYzxwuVuOq8VDAm0GVlg2Oe/DxL32D5SXKV2QN67eyB8tuhbEEVQLsscC6W6aH1LgSjT2b2FhqWIn1Z+7AJz7/FRxSWxadf04aWLl6JOjxeCnFV7ki5OEBAiof+Ho072i48e1oXYJnOYA5TAm6BFwayqFO+3r3u9/N4NTW1ga73c7W4QpwzZo17Dftk/bF08ZmVvEfncvKlStx1lln4Rvf+AboIUBpfvDBBytKVTXAesjsgiGYBEGh59yLITV3Q1q5HlLP6Wy63+SA3EEFVHHoGVgjUDiDULnDbJ4rPY3hMRciM8C/XXc9pKZuZl/89vdL0x/63Bdgi+UhM7uhsPow6k/AEslhNEA1C2o7FPC60YvR+AxTqwRUUq77Rr2QWtdDal4LqamnZOOxKRw0ull8WedLY2g8AKUzBo0nhbHIBFOrcnsEpvAEzr7sQ8Xt1mxmYO3dcRluePBJvG50QhOkuGgWrzBw1HYoQOsjBX58e3jn68U8RflqzUY23bB+C2ypSXgKc0eCtQyuXLGGp8Ae1N/+4Q247obb0UqAXdHNHmQW7+Lzz0kDK935NpsNH/nIRxgMSHkRFAgUzzzzDAMnQYzHOzdv3oxrr72WAePJJ59k67a2tuKSSy5hanXbtm1sHu2DD1QQ9bWvfa00n/bx3e9+twRGrlYJLPzYfHsCL02ffvrpbMxVL4c7P0a1xrzknz9QKDZM6SWlTUq2kqEaYCVgmmM5DFu9WH/hX+De53bh6z/4ObsBmk7bhoOjdozY/QyqBGC150iwKqx+6DxReDIzkNrXQFp1Gt714U9hLJjGBz/3BfabYOvNHYbc4oMtXmAFKBoKL1D8tsbBOhqfZQU6e7ROWNJgBTxUkHXBX38aj/epcA4BsvM0Zs4MMGILo3/Uw8amcAF6fwYE2QGTl82zxKdhTcxg+3s/ip/c8Uc8M6CG1HUag+uvHnoalsxhViVr0B6qi1oBbwZVWjYaToPykSmSgdSyElJ7D6SONRiLZlm+OiIUcAyw9uusoLo1uwfUsIey0FkDzFcE1/seeX7R+eekgZUUq06nAylEAkJTUxMzmm5sbMTevXsZG/bs2cNecWk+xVFpePvb3w6CKq3HlSd/daf1uMo97bTT2L65klu1ahUee+yxI5jDFShtR/u86KKL2HLa77p160oqkErdeZiBj4/Y0Sn+wRU/V8/f+ta32LnSefz2t7+tKDXVAKsqlIGMqlJRFSpvEoZAFp/72ncgtW2A1NiDg1oH9K4kjP4s9uud0IdyMMYnMeAIQxOheq5UoJYAVbeSOtZC6lqLW+57GLZgDDfffT9WdPWwEmhrKIl9SiPGo3lYE9PYq7VBF8wv+sY42THWhcB/+d/8LaSGFkjN7XDF0tC7gjDQw8cWgDk2AX2oWHI95EpDEz0MQxo46MphrzUFbQp4edcAJInKJVbi3oeew7grAb01jHF/FjoXhUyoa0Bq3Ubt5rMo9vb0Rh+61S684t0mygNJKPxJKP0JqH0JaHxxFiPVOEIw+xMwOoKQGrsgrejAyt5NcHpjsDpDOBDMYZ8/DUVmDsPRSQz4s5BHpiALFKBPkKKdwMB4FBpPHkNjUVijgNSwAVLLGfjdQ7sWnX9OGljpzicA3nzzzSBo0fD5z38eGzZsYID47Gc/WypUokIkUrIEYVKZFEskgFApOIGFIEhg5fMJFKTkqCCKYPzP//zP8Hg8LI7KiUMxXQ5ISgcvtKIqW7Q9Deeee24J9nK5vKR0+T6qOV7qYJWZ/DC4UwhRCXhyFiPOKEY8cSgCaSgCKcicUVYavlNmhLR6I6SmLuw+pIA3kcXTu15jUKWqPa8MyKG0+ViBlT6QhtwZXRJg3XHpe4pgbe+GNRCDyReBLZqDxh0Fnef+UQ8Ojocw6ExhxD+BkcA0hvzTGA7MQhERYB1JzWKPO4593iRed8Wx1x7FUCAPWSCPYU8GA7Y4RqOH4UgDBt8k7npsD6TObZBWbMCgLljbYOVAJTDy+qMETALo+vXrS9y67bbbsGLFCgbTL33pS2xMBUy8wIvGPJRAqpQGKsyifZHdddddpQIsgiYto4G/1vv9fqZ+aV2qrsSHd77zney45QqaL6v2eKmD9aDGgd1DRgwYPdAHsuinepnRAix5oN8ehMwVh8aXxUtDekhNq1hc9dUhFWzBOHYPyIpgbe3G/U+9CHu8gOFxL6vnORafZvUuF1KECy2vtmI9a8c7IbV1QepcDaM7iDF/DLZYEazUwsycmIEpcRjWPGBMAkPeAhThw1DFgD57Gi+98oZivefh5zBGKtUWhrluFGuafUGBOpRRsD4TqCVVmWJ1hjDmT8DgDBUVa0MHutduhsMXg8UVwlAoiz53FLJIHqYCYMjMwZg+DG10ksWyzYlZaL0ZaFxp7BwwQureAqltI9p6z4UtOFW7YOVQpIIiDkAqJCLVyas5lcOLgMnXo1f7jRs3soIkrjp5iX5XVxcruKJScwIiAZr2d+aZZ5bvjk3zbQnwtG8KRxBY+fwdO3YwJUz7kclkpe3563dpRhUmljpYSbF60oArPYfgDHBwzIt9Jjfk/iSMySnoIxMYtITw0M4D8yXcq7BnWI1BnQl7h5WQWrogNXXg8Z174UxOQu2KsBZX5vkCoYXAudDyaoP17Iv/Ak0reyG1djGwmnxR6Nxhdp7GYBZKD7W4CmDAHsegK4N9ljhGgjMwZMCU63IH63Akj6FwFq87wuhzRrDL6MJuo4uBVRsq/P/23gRMjqvK8w3Xor1Ku+QFyysYcENPG2h4QL8ZhmFmejDz+tFDQ8/A0N000G+6eUA3QzMDjW0W23hf8CbbsiyMbVm2ZFu7Sqq9Kiv3fd8zIyL3fa/tP9+5WVFKG0vldFWRWa7I7zuKqMyMyHuPbvzixLnnngNVII0+nRd8CXjm8AC4jh248gOfwi8fOABfbLp9wUpw0uv187AkeJFPVPKV0iO8NGFE3KJH9CuuuIJ9n6xXydqUfKwERsmqlThHbgYJxjQJRYCVvk/wlB756fv0PbJ6KTpAgv6ePXvmLWGfzzcfByuBV/qdVmzf7WAd0HrgT03jyKAOumCaBb5b0zUMukWMBRIwJydhidfwxJGz2Hzdh8F19WLU7IbG6WeP/1z3RnCdGzBickHjjcCRqEBFVm6kBFq9tBA4F/q81WC94aOfBLdpG+ujJ56HI0LhZzxs0QJo8spbAPRiiflGNWIF48ECRgN5Zrkq+AqOnBypz3J39OLRZ1+BNZiurywSCzAE0jCE6z7Wem7Suo+V6kCp5qTVPtZ6PtYc1FKWND7LlqlSuwzhNLT+GGxCBkZ/rB4l0rEJG3fugUdIwxGMY8AdgqcG6BN52HI1WNMVDNoDzOo1ChkEC7MYNvkwYvRi7farwXVsxhXX3wRnMAO1mVamLS6qZFl9rBL0aOafXgQsyU9KPtVG8JG/UwInQZhASy/ypRJkpNl7OqcEXfp8ZGSE+Uql36JFALR8VYoIYCeZAyt9h+JApRdZyTShRe/TCq12AKrUtnc7WBU2HolJ4OiIkc1mG8Q89NEClHwa5nQNGqEAhTfFLDOuawuLXf3pvY+Az1Vwyz0PM+Bw6zbDyidxTmeHNzsFNQXKh3Js/f1iL4xWg/UDf/zpulXeuQFCYQquWA76QBzOZBkv9atwSuuCJTEJZw4wxKdgSEwzsJ6xxxlcVztYBz08grPAwTEtjuvt4GfoRpSBOhiHNpiAN12DO14G13s5g+pl198EWyAFuz+FFEt206ZgJT8nQZQA+sUvfnF+XT9BjALeG32s/f3985bnDTfcMA87CTJkYZLPlY4l/yz9TRCUHtlpqSqFWtHnJI0vmrgiEEtgJjcDxauS31VyS5AbgRYbEOgbYd94nt/3/rsdrM+8chbhHOCMV1no0DUf/yzWX/MhfP+ex9BnC7IKrSf0fpYdq2P39ei+9Dpsv/5DeOFEP6676ZPgujbiY//u82wFDeUQcKQmMeaJQyOUoI9WF21xtBqs7/3op+txml2bEC5MgxZCmIUMFC4Bn/vLb+K6T3wOj7x8BrTQ4LjWCxXVdIrWMOLLwJ4DDp0eAdfZw4LfHz7wCsxk5flisEYK7AlBH86yfLeSxUo3osaquK22WNVCAUyY5VjP+E+5U3VzhQ41/gRbxqwPJMB1b2Z9XbfrajjEDCyhBOypAkZdAVz/yX+Daz72aTx7/CyGLG5o/RH4MhUcG1HjP/7F19G55TL2NKSy+BCMl+AVs7B6F59rYlktVrIGCV40SUSvxgknAq40yUTQo8d08queOnWKwZGWmt50003zPCNgSn5WetwnsJ45c4Z9ToAl/yn5cOk4aUUXfY+ASdtvfvOb88dTgD1ZunROauMXvvCF+d+RJtnm32jRzrsdrBpXDNZwHmO2MIZt4foqo13X4Nmz47AXZmBMTEErljHmTeB/3//k/ATWH3/uZgZVbuN2fP/WO2EIxmGhXAGxMgZsAgyxGjtupVus13/kU+DWbWHREDQ5N2r1w8SncXhIU9fVpkvx/Dk1xFlg2B1n+rJmgHP2KJTh4qoH62mDDU++drJu9ffuwDmjHdEpwBCKYdzmw/PHz9UnvTo3oaNnNzpJNu1i8l++9u1F35iXDaxkVUpxphQvKlmTZKnSvjS7T9Ym/U0W6Wc/+1lmhUp5AchnSi86l3Q8bekVDAbnrVSa0JI+v+WWW96Qs1TKV+ByufC+972PfY/aRRCmYyTLWVrJJa3iYj/S4n+o35Lb44c//CFrL91A7rjjjqZaRlY4We7k02bn/D0kYdFE8+yxnnJ/2lM1nNY48dXv/BgbL3s/uK7tGDb44YiUYAplcf+BI+DWbMPm938E+ngRinCKZVByFsFAedYcxGe//Lf1AG5agbXlMnzq8/8FA3oHAoUZtrSTguyt6VmctUdhzVLe0sU9yrXaYr3mI38CrudStjrIkShh3BFmfuQv/NU/sMD///vP/wrDDoFluzpj9MOSqLE0hGctIeZjfuHMMOjmQ0Hz9+w/CLU/CnUgDkusyKInyPKrZ8+vx7HW9UV5SOvSaotVw1MsMsn5NlGmLLKwqQqA0peo590NJNlaf27zZVh/5ftwWmODK1WG2i9izx99Alz3JvzND34MezSLIZMLVlouzSfxpb/9DrZe9X4G10t6dzNXE8XDrt+5Bzd/5a8XPX6WDax05Z88eRIf+9jHGBDo8V8CpgRBsjQ///nPM3eBBEw6jvyg0nduu+02tky18Vj6zl133TVvgdJ3Ccw04+90Ohl0JB+r5C6gNw8ePPiGcxNon332WfZ9Ao/0apxUk977fW+l9tPvUtukFWbUT9JJM69WgZVm+FXhNCgEypGo4tUhPe5/+mU8tP8ILJRGzhWFIZjG7g9+nFlhvzrwCsYCcWgiOYwFclCEChjxJFnGJ1oj/3K/Ek+9fByvD6vRp7YgUgFMQgYn1XboxSJ0kTLO2WMs/Gilg/X5UyN46vApPPri66BMxEY+A5OQw4Y9H2S6euiFY6AICFduFsMOEdbkJEuUPeqJM32ZxQzu2HsA9zzzIoasPkx4BJgjORYbrPBQ9qeVDVZjpMgyeQk14O5nDmLv4VN4+tUzcKcrMAlphErTDKpk9Q9bPRixemAIxuBNlzBq8WDY6MSB107jkd+8jGcPn8T+V07gwX0v4OmDr6NPYWxfsErp+igy4Mknn5xfwy89/kuWYSAQmGeEtHxTmtmf/wB4w2SUBEuCD1mafr+fnV+afKJt46O01BY6H/0GuQHOnTs3nzNA8sNKVutb/X5jW36f+9LSVqlNjTeAt9uOloA1koMmkseYL8aC/2m9uyNWgV0sQiiCbQ2+FFTuKFvb3nPdH7IJhmFPBGTtWrKAKlJjFqgxXmMrjXy5GRYgT3laxSrgTlUw6ghj1BUFLRFV8iX0OeJQiivfx2qOFEBWozszxSxMSvzdp/eAW7sduz74cZZC0JGqQRNMs88ppaA6kGJ5W93ZGZjiOSbuwiTMiTyGXSHoxSwoQTRVIKCqBGSx1quVStb9eeuw5RZruAzNG6QETZjyu9ZzvCp8SUz4kxjzUgKbDMzxElyUh1XMYNgZxpDFx9xHH/0PXwTVEBm2BpjLyJ2uMT815fulCAvK9UtPBLSlv81CFka2YlDSyTvbLpvFKoHgzRc/QZEswreyCiVgknug8UUTTfSSHusla47+lo5p/D7tv3kSSgLtm79Hf1MUAb3oMZleFzon+/D3/A+1m9ojtZ/0Kt0A3m5TWgHWiXAKxmSFraai4H+WNCSQBvlWjf40VM4IAukZKBwCvv5Pt+JfHn6GldSgYPDxYBKKcBna2DTUYoWtox/3xKAPpRlYdYEEy6U5aPLUy2tkZmBOTGLUn8VIIM+AvNItVnuigrMGDyzREqg0DWWxIl/0n//dD/DKsA7uzDTI8hxzRWCKFBloCbIqf5IBdszLQ+EXMO4ToArGoI9koA4lWSUHSsSy0sGqYZUWsizfrDFWxLg3Ch1bsReDKV7Ak4dP48+/9X0cGdZC6RFZNIUumMS4k4crWWFwpXGkDyah8kSY6ENJ9rfSLbavxUrQkyxQAgDBUAKXBASaZKJAfwKHZIlJ8CTwSu/R9wkOZO2Sb7XxRRYd+SHp3JQ9q3HyiT5rBDz9Dlmz9B06Fx1DwJIgT59JVm/jb7Rin9rY2Hbqv6SbZtvTCrAO+6KwZCZhTlZYVnsChJUyyrvjDK5qZxQOsQSdP8WgO+6JQhFIwJqpYdAj4ow9AVV0Cg7KmB+pML8hWWR2sjCSFZa1nmaGyVKjgO9+ewTD3gwMaUAbp9Ij78zSkI5rtY81WAVGXREYoyUWckaVA4btPE5qnAiRCyRSgMIdYX5GV7rGlrnaYkU4EmVMuEVoY2moxSSGvGGohCRcpWloxAwGXWEY48W51IFvtFi1ZBHOSastVm24irpUoA1X5qzX835XRSADfbQMR34W2kgBKj6DEV+ULYcmV9IprQdDNgGUhPSMwQ9rYhIGoYjXFFbY09OsegNVNFAGKZMV1QUrQBWmckEFmBNtvPKqEYoEBMnieisoSBM0iQRVofndF70vWZEEaLJoKTfAQi/6TWoHwfLNUG88ltwSElwb32+HfYJiY9tIl403j7fTxlaAdcgbgTFZBlkTlISF0tvZo2WWH8AZKbOJq2GjHzaxCFu8AgIrlRKx0CIBj4gJoQaFUIUxBYx6U2zAU8kRKvo2YPLCGi3AQAXjwllQ/ahhdxLG5CxMWeCsi5K/rGyw0sogKs+sE/JQ0s0nlMFZk5/5SCnRjIGVeM6wwopU+2uCIMtnYU+UofLGMB6KwFmchC1fhVpMQRNJQy2koQgmoBWpNDktoli5YJ2gAoz+FEzJGvqsAehjRYz542zM0ZJobx4swYwpUoY5WsFpvQ+0qKLPGKj744UiyB9NY8cYq7AqDuPkWvAl2CKTxY6fZXMFNFp+jZYWWZFkLdLFTvuNVi1BggDYCFF6T/LHXgzOkvuAjqVz0G80viTA0rkI5PQ5CX23EVx0jBSu1Xj873uf9Cf1W9LHm9v5dtvUCrCOBxPQxajeUYaVEaEUd2pPHEqHyPyrNoqbdEah96cw4YkxsFKRPF00jxF/DMroNM65M1AKVQx7UvBQxVYhz3yOtKRz2BZiS1hVfqpMmmNB8uYMMBGZQp+z/UuzLHThDjkibEJKJ9Rnwu2pKQZXcapuuRJYqaii2p+AyhuFyhuBmuIv/TH2ODvgDUIVTUGfykPBxzHkE6AI0cRglll1bP19A1jZjHs7WayhKrSShKvQSFYrT6vNinDmAQ09AUVLGKUnl8wkNLQqrTADc3YSptgUzllEnND62P4pQwj2DKCLVDERzEMtlDERLrDoE31iCiRKoYTxcAETwuKzoy0bWOmib1zNRHBtBKwEBel9Aolk5dIjsARRyYptBLAEbQKN5G+V4EPnIJDQi/bJHymdS3pP+m0JXNLfkq9V+rtdthLoJf1IfX277WsFWCl5BqX/00XyMMfo8b0GjTcByhHgilYwag4iWgEGyWqNlREoAycNbvZINxZMQJ8ChvwFGJKzbD08TU6dNQVY2WLrXPlrW7wEc4yqjxah5IsYcKcxHCjCsQQrZ1rtCqBCgxRCNeqOQR3Kgmo8jbmjrFCgLVFlJVkIquMugUUMeNI1BlSFi2cFFp2VaQx4ghjwhGBKF2FIFjDBJ6EWM9BFKfj+jRbrSgPrmD+NYU8CE+EsXGXAkKhg0BPBWWcYukQJQ444HGnAngb6zAJboTbqTcOcnMGIl9wkZRgoVjpWw2ggy0QdqUATq0GxyKcdumkuK1jf7oUvf295NdAKsC5kkbX7560Ga6v102ofa6v7v9jfl8G6vExri7PLYG3e3yqDNQOCa6vKXy8WbK0+XgZrW6BveRshg1UGa7OgkS3W5sdMo45lsC4v09ri7DJYm79IZItVtlgbQdnsvgzWtkDf8jZCBqsM1mbBIFuszY+ZRh3LYF1eprXF2WWwNn+RyBarbLE2grLZfRmsbYG+5W2EDFYZrM3v9iyZAAAgAElEQVSCQbZYmx8zjTqWwbq8TGuLs8tgbf4ikS1W2WJtBGWz+zJY2wJ9y9sIGawyWJsFg2yxNj9mGnUsg3V5mdYWZ5fB2vxFIlusssXaCMpm92WwtgX6lrcRMlhlsDYLBtlibX7MNOpYBuvyMq0tzi6DtfmLRLZYZYu1EZTN7stgbQv0LW8jZLDKYG0WDLLF2vyYadSxDNblZVpbnF0Ga/MXiWyxyhZrIyib3ZfB2hboW95GyGCVwdosGGSLtfkx06hjGazLy7S2OLsM1uYvEtlilS3WRlA2uy+DtS3Qt4yNmK3XC5uankS1RiVqiiiUiuC6OrBxxy64InHYo2logjGWlFpNheZiFaj44qoWKv1iErJ4/vQoKzfdc82HWEVUe3KS1bbXhPNQUwb6OT1Rhdi6lKHky/PvS5+vtK02nAWJOpxnfaG+TfAVKPgqE3V0EubULJTBLKs7RkX5Dp4eBte5ATuueT80VARSJD2UoKSs/KG6KMOrY1yNi1mMRzJQiBkoxRSrO6YREtDxMRjCEfzTL+4A17UGvZdfgTsfeggP7X0CR0+fxOD4KCx2Gys/RUn6Kak/Jeqn5P8k3DKiQj51Mxq4EFg7OKzfth0OPgqrmIDSJ0IZTmGMKlmGsuyCoItitQpV9KQy2785OQyuews2Xf0HUPoSMEZKGPcmwMDKMsUTKOp6IqBKIr23UrdaKqxHlVD5PCuFIoF1QqiCZDRQgCZSxagnwUrmaPxxvHBygIF161XvZQUgNfNgLbIyKATYOljf/eNKEclCEclgQgKrmMQ8WPmoDNZmGNaW370QWDs7sGnHLrijCTjjGWiDcVZgbjyUxngoA0OktKrFGIzBGIjVrbC1W7Htug+ByiVT7XmlNwqTWIAxUmRS11UZ+sh5Wen6M4s5VglX6if1jepFaaN1GffTGClD6Y3DGs3DHErglTOD4DrXYufV18Mcq8IUrbAxpBeL0AlF6EnE1TGutDF68ssz0UdzMESzMEXSsIgp2MQE/ufP7gDXuQZbL7sCdz/wEH79+BM4fvIkRkZHYbPJFmtbsvQNjboQWDs4bNi+k4HVFc9CF05AF8lBQRU/+SxYDSSeCtmtTrHwSZhCcbx4eghc92ZsufZG6AJxVn6bym7r+Sz0VEWVz5/XkUBlpeuy0vVGFXBJqJ+sj0IBGqHEivCxQnzBHKtuqvInYY8VYQ4n8PLpOlh37LmuAagFZt1ryPolK7hRX+/isaUSc1DNFW7UiGlohRQMQhJGPg5zOCaD9Q2QWol/XASsazZvgS0swiomoQ5EmcXKwCrkoA0kVrU4wlFYAgJePHoaXOd69F5xDbTuEJyRDAz+CPT+KPSBGIPteV0loQnU5fx7K1OP1EfWz0B0ro/UrxTUwTQTTTDNSpBrvCLsQhImXxiHjp0E19GJbZddDkM4BX0oyax8chNofDFWQZbcKytdN2+n/apgCiTqYBIaqlgciLMxY/RHYPYJ+NFtd4C7ZA127L4C99/3EB577AmcPnESiuFROK2yxdr+qL0QWDtp8monnGIMtkgKGoJEJA91pAhtvAyzkF3V4hITsIejOHTyHAPrtqveC6NfgCdOj71xWIU0LEIaZiHD9EQTXSYhB6OYZ7LS9WfjkyCp91HqWwEGsS5GsQBHsgKdPwqHmILFz+PwydMMrJdddTWDroUq9JJe+AyMfJpVkzXN6Wul62eh9usjeZAY2HigaynDxgzp1BGOy2Btf3Iu0MILgLVz7Rr07NwNOx+BMURllYMY98cxGkwxV4BksazWrdnjg8XjxyvHT4HrWofdV18PkzcIBx+D2uGDyS/A6BdhYDJnwfpj0M3JSteb2ceDhG4mzHL1S5Zr3QInC8zCp6C0eWH2hWF0unHk2DFwHRyuvu5a5kYhP7WBLHufCJ1XhM4nQu+rW8IrXT8LtZ+sexKtPwmdPwGDPw6TLwqzNwKrV8CPb7kDHLcGu3ddgQfvfQh7H3kCfcdPQjk0CrdZtlgXoFobfHwBsNIF0LFxE1R2F4ZMdryu0OOoxo7XdW4cN/lwVm1e1dKvUGJYpcX+gy+D61iDnt1XYMxggcJkx4mRCfSrjTinNuEsEzP61Bb0qa04MycrXX8DKgNIzqmNbBxQ/85obDitsTM5q3Vg2OTGiVEVhjQGDCnVePaFF8BdwmH35ZehX2fDOa0VZ0kvKhPOKE04ozKhT7U6xtUpjRMkp9UOnFHbcVZtQ7/KggGlGUNKowzWNkDj4ppwEbB2925ms7hc1wZwG7aB274H3Ibd4NbtBNe1aXVL9zpwJB3dDKzcht66rjrXgdu4lYUVcZ0bwXWRkK565qQXXBfJCtcf9ZPJhob+bQbXJUkvuHVbwW3cBm7NRnDda8F1dDCwEly5btLHCtfBYtrfvZXFP3NdW+s666Tx0wOuYyO4SzaA49Yxi/WqPdfhjp/fiYPPvYizx09i8FQfooGQHMe6OOr9Ho6+CFi5ji5s2HU5GFi7e8Gt2Qpu7Y66LGZQvRuO7ehGx4YerNu6ow7WjjXYcsVVc7BZX9fZPFQlsEpQfTeAdT3zLbOxwf4/e1h0BMX0MllLwOiZu8HUb0JrNhI0OGzaTGOpd3XDtXsbOCakpy1zcCWwbgLXsQFXXvsBBtadOy7HL279JZ59+lmcfO0oA6vsCvg9cHHRP3ERsF527XVQO9wsjjVUAbxlwFkCrLkZWMTcqpZIoQpvNIX9h15DR+8O7Lz2/Tg+ooIrmgVfnIZVTMMqZmARs0xP9bjPPExiXVa6/uxCCiRSH83Ur8j52F1bospWpvGlWVjDcbjFBJ554SWs27wFm7Zthz1ehC1WgJUmsCgmliZD53RFk1orXT8Ltd8QKYDEGCG90bWUZboknTr5BP7b3/4PdK7rwZbtu3H33fdh3779OHnsOCZGx2E1mmSLddHgW+4TXASs3Lr1iJVrcETTMEUyGPFEMOJP4JxTZKEyFC6zWkVlc8PoCeHY4Bi4tT3Ycc0NsPMJWPkExiweGINxGIIJGIKSjlLQhdLzstL1ZgrGQML6SWFToRS0oQy0oSwThSeGfqMXDgqEd4cgZEt4va+fRQVcfs219ZuNkGXRAIYQhV6lQFtDOA1jOP2uH1eacAYk2jCNiXroGenSHIzBGojgtl/dj451PejduhOPPvIEnn76GZw4egxGrQ42k0UG63JzcdHnvwBYN/TSY0kXEtUpTDj9UHh4jAficFcA3ySgDmVXtXiTJVjCSbw2pGKPvGsvvRbuVAWezCRs8RK0QcqvkIYmlGF6UtEy4FBuXla6/mhJL1vWO9dH6psylJ9f8x+cBFsg4M7OYMQWYAsEpJVX7//Ix9kKK1ptRQsCaGFAXR9ziwQoz8K7fHwp+DQUPEXYpKAKJ6EOJ6ANxaAPRmEMivjxnfewlVfdPZvx8BN78fBjj+PFQy9BrdXAbDbLYF00+Jb7BBcAa9f6deDWb0R2BqCVV9Z4HqPeKEb8SZww+aETCqtaxqxeDBmc+O3xcwysm6/+ICjRiNITwYDJBwOfY2vk9UJ+Tk9FaAkkc7LS9Wdksae0+qreT+qXRiizxCqUXOVVpRMntB52c9EG4nBEsjg6OM4m+HZd814Y2XLWMurLWWn1Xn2FGulFem+l6+hi7VdHclDTyqtIFloxA52YZiuvTHwCFj6Gf7zlFwysazdvwyN7n8IjT+zFwUMvQaPVwul0ymBdbi4u+vwXACuFW9HKK2tQgNYbZktalaEUrPkZWHOzGA/kVrU44iXYYkW8cGYM3Mbd2H7DR9mjsLcAmGIVTPjTUAQyUASyTE9jgRzqksdYIL/idaf0p0BS72eW9Y0Sr4wEi0w8VcBdAkzxGmixgNobxZGBiXp2q2s/wCxbRTCPMX8Wo74MRn3p+tafYe+928fXSCiJkXACI6EExkIxjIeimAhGoAoI0Ph5fPfWn4NbtwHrd+zEfY8/jsf27cOh145gQquGw+OWwbpo8C33CS4C1kuvuRbWkMAmr8zRLPOxjoVSGPYloYtWV7UonDybdNn32llwa7ej99oPY8gWhiM9hRFnhCUg0Ucq8zrSRmuoyyS00cn591eqHqUEMyz5Cku8UoMmOgV1dJrJWJBSJpZwzsozd8i4I4zXh1Us/Gr9riuhj9WYDlj6QKGePlA9l2uA3lupenm77VbFi1AlClDHC9DGc9DFsjDEMjBFU7BEEviHf7kV3KZedG7egp/dfTce3rsXB4+8goHRYRgs8uTVcmNxSc4vJ7qWE103m6hZriDQ/Jhp1LGc6HpJ0NXeJ5HB2vxFIlcQkCsINIKy2X0ZrO3NxCVpnQxWGazNgkG2WJsfM406lsG6JOhq75PIYG3+IpEtVtlibQRls/syWNubiUvSOhmsMlibBYNssTY/Zhp1LIN1SdDV3ieRwdr8RSJbrLLF2gjKZvdlsLY3E5ekdTJYZbA2CwbZYm1+zDTqWAbrkqCrvU8ig7X5i0S2WGWLtRGUze7LYG1vJi5J62SwymBtFgyyxdr8mGnUsQzWJUFXe59EBmvzF4lsscoWayMom92XwdreTFyS1slglcHaLBhki7X5MdOoYxmsS4Ku9j6JDNbmLxLZYpUt1kZQNrsvg7W9mbgkrZPBKoO1WTDIFmvzY6ZRxzJYlwRd7X0SGazNXySyxSpbrI2gbHZfBmt7M3FJWieDVQZrs2CQLdbmx0yjjmWwLgm62vskMlibv0hki1W2WBtB2ey+DNY2ZeLU1BRqtdpbti6fz7/l+xd6sxVgVUYrGBeKUPB5qMU8jPEizPE8jEISmmAUej7ORMcnoREyUAk5KMUCFGIRCrGMcb4KZXQaZ+wxGBPTGHJGYUtOQu2LwxItYt6i4nOgQU9Jl5VCBQqhxqTZC+HN319usFqSkxj1JNBv46EMZGCKV0E1osZ9SYy441CFIjBEU9BFMlAEk1CEs9AkJqGMTmLQX4BCmMSEMAklX4MmXIUuXIYhVIIxWIQxWICedBKkCgdpTIQymBCyUIhZKKI5qOIFKCJZTEQyUIoZaIQ0dHy6XugvlIJxruifPpyFLpxlZVXUfJHpWEVJq4UyJkJ5GKJVKLwJlhBc74/i4Ml+Vh58+57roI+UoBOp5lUBalbjKgd1mGpe5dn/15v1/ea/teEi5oWXbox0bA5qKlKYoHakoYlmMSEkcdbpx5CPhz6VgyFdOH8snectjlcJGShCCRiTRRjTRQz7BSbqWBoTYuJttfHNbW78WwbrhWjUZu8TZAm27+TVCrAOB7MY4wtQ8DmM+OIYdIYw5uFhjqbhL0wuCNYTligMGUAXn4EtC4x6kvCXAAOfgcIlrniwKqjsSSADQ7QMe2YG5ngNymC9IKE5McnAaknkYMtUoIsVMCHkMSGWMRou4ZwnuyBYx91xOLOz8JYAlZDHoDcKRaQO1eFQYsWDdcDJo98ZwrBPZBn67YUaLLkKxsJRnLA4FwTrWCCOAVcYSj4JXSIHBR+HOpqGOVuCJpaWwfpOQLMSjiEY0isej0MUxfkmx2IxTE5Ozv/9dnZaAVZTFtASIMhqofrqsQIMYhoTnhD6TU4Y+DgTyWJVk8UqFDAhFhlAxsJlGDMEhQpU4QJOG/1QB1KsmJ/GH2fWFZVSJotKQ1YxX2QW64RQA0mj9fBO9pfdYk1MsoJ7ZNURUAcdEZwxBTDoEJmFN+LwQeknazaKYbeAAXcECr4AQxqw5MGsVbJYVcxirTCLVR+qW6vGUB5nDT4oPHFoQlkoAkkoQmloqbpssowJZq3WLVYVs1gzzGLVU2nqUF1It/RU0HKLlf9di1MjUJmTIqyZKlR8CkOeMMaCEYz6RYwFRJgaLdYLHO8qzEAtpKEMJ6EMxzHkDUMlJGDNlqFP0JiSrOR3tpUt1rdDphZ8p1AovOFXZ2dn3/B3M3+0AqwDvhT6PUlWP4ugaUmWYUvSI3wcCndoQbDqksCQP49zzgT00Vq9xhSfYwX+YjNY8WAloFKhvjFPAupQDmSlOjKzsKdnYElOwZEqwJEuwposwhArQBMpQh2tQBWtQRmpuwEuBlahBuj5fP1RPVmFvTALVTSPoUAMo1SWec4VsFLBShWFDfECA+NYIAJ9PAclH8eAOwClED9vsV4ArKPeCAZdPHTRHGzZCtRiCopwDGNBESfNDhmszQBmpX1XEIT5Jnu93vn9dDo9v/92dloBVm18EuYMYM0ChmgJCl8UEx4BZjEFX64KYzjORE+PYnyG+c5UksUqlJkLQMHX/XlasQRrogZtMAUq8jdo8sAYTjFhVtW8n7WMCaHKZLEWx3JbrAp/GqpQjvlVDZEyDNEKtEKBgfacNYwJVwAKpw8THh56IQNzogpdrIrRYB79rtR8P1V8FRq+zECiDxVgCOVhJFBT2epACmp/AupgEhPBJMaCCSjILxmnJ4MsE5WYBVmAWj4L8qkaQnMSbvXkVREaXhLJaqQS2jnWVlu6Bp2YxbArjHGfCGeuBn9lFtZUEfpIquFYOsfvHm+KFaEKJaGPZFlp6hF3CKpQDM5clcn5Y6Rjm9vKFuvbIVMLvlOtVtmvEhQbJ7Gy2SwqlUpTLWoFWAc8SfTR462Vx7A7Cm2Y6qqnofLwGDK7FwTreKgEfWIWlgxwxhyCNpyDJzuN6CTmoUpwXalg1Ykl0ASWMVbFiDuG0wY/BmwCtEKRWa7h0iSskRQD66ibx5g3jvFABiqxAkOKXAH1G8iFwDrhFMGXALLu6cZ1zhaEkk/DmKm9K8A65okwqBpjeZjiBZyzeNBndmHcJ2DQ4V8QrBP+OIZdPNSh5BxYwyC4Kvwi+m3eBhg3B1QJyDJYm0LU7/fLPM/jq1/9Krq7u7Fr1y7s2LEDX/va15puRCvAakrNgEliEqZoGUYxB4uYhSOahTtRgCkcZ2IIJxkcyRJR00y2UGKzzsOeNPqdcZgSU1D607AlKhg0e2EMJWAR0jCFEkwMDK4NM9dzs9bSAH+n2+W2WGniilwAqmCWRQXQJJYzC1hT08ySNfjCMPp5WIUkHPEiDEKOwVURzMKYnGH+ZIqCUPFlaPgStOECdOE8szqNoQwsgSTU9jAUthD0oSRsiRIM0TzGgwkM+yJQilkoxRyLxiAftZbPs+MNzOotnJ8cbFFUwHlr9bzFSW2kcaLjs7DESzhn8sKZqiAyBfY0ZI3lkAXgSBAMJWv3rY93pGpQBxIwCll4c5Pw5acQLgO+XA1KjyCDtWnKrJADaILq4x//ODiOw7Zt29DZ2cn2169fj66urqZ60QqwEhQNiSkMOCL4h58/gHVXvh9cVy+uuPEj+O///w8XBKt/Ejhl5mFJzcBfBk6o7HjfJz4LrmcXevfcsOLBSqFVNGlFYk1OwZkDXp2w48///n+D2/0+cF3r8eFPfwY/e+gJjDuCcGenYYiUMB7IQsmXFwTrX37z+9h65Qew47o/xM8e2Q9rvAhdJIthrwh7YWbFg5XcG//2L/4aXO+lbEzsvvGjuH3vAXgyFQxZyOK8OFjH3CK++4v7sfMDHwXX3Qtu5x585e9/gGMKPfz5SRmsTRFmBX2ZYlX37dvHYHrdddfhU5/6FNsn0O7cuRPf+c53WG8kfytNdk1PT7P3JDeC1N1WgPWcLQJHDjg4aADXvQ1c1xYG1ku2XAqucxP+7OvfRihXw6jVD7OQg57PQeFLwZkHBgnKsUlmrR7XukETMVzXZnBdPdh6NQF6I7g1vTg6rITWK8KTrkHlT8IYq0AXqUARWPys7nJbrOQKIDeAMphhcKX4zgcPngTXvQPcpivQ3bsdXMdacGt78ZO7HsYYPcp743DlgFFfGsPeFNRCuQ7aUBbjvgTI8/7Fb/8T1l7xXnCXbGLSc+m1uOORZ+BOlaEJJqAOJzHmj0ElZFkYllqox5VSzKguXII+VK5Li32sFOUhifTUUbeqc8wq//o/3oIN76GxsBlrd18LrrOXyf1PPQ9P/PyxdI63On7IGqyPyY272Ljkemhc9uLG/+uzMPii88dIxza7lV0BEn3aeCvFrz799NPzcP3oRz/KWiyFXjVGEbQDWEe9aVhSs3BkgPV7bsRTh8/gN0fPMah2b38PsxKGDA4Ygwn4czMwCHkMOaKwpgFdpIpxP02qlOApAP/P336PXUDdu67CLfc9gnW7r2Jgvfm/fYO5BsxiDkpfnE3+GGI1Fp7V7IXw5u8vN1jpJkL+VMtc2BVNZL06YcOf/vV38b8efAY/u/uBOlg71zOdqT0RBEvAuDcJexYsWF8TqUAfrcKWmcFJnRsntU5sZxbYZlx/4x/X4dqxCb946Em4EiUofVE24aOPF1c8WI8pzNh5w0dwWmXFt354Gy7ZcgW6t1+JzVfegFGTZx7KFwKrIZzF+z7x7/DggVdw8PQouM2XMbDS8SfH9DJY25iHi2oaWaxkaUqvYrHIdsliJdmwYQPK5bL08Rv2Gye76AutsFhTAI5rfAhXgRNKO6JVIJSbxr5DxxgoyGod0tmhcYvQeGPQBTMwCCXYUoCWpygCmjXPIgayVuvWLoHUKSbx+a98HdymbeA6N8AupqHzx9iKLG0oy6xAWunzZlA2+/dyg5X8q2PeBJvAosUB9DdFB7w4qIcrDwT4GH79+NO4ZN1mcB0boLQH4UpUcM7oZ2FaylAOw26a0ErDXQIU/ji0fBr/dNfD+Nlj+3Dvg3uxZsN2cNwGPLD3N/AmClC6eOj5NPSRPFu9RNZq3SosQROmyIIKdKEq9CQttlhVAsG/CLVw3uKs+5BzLHLBGa9C7YrA6EuAAhM/92dfBXdJL3ZddSPUZj879mLHj9l4aD0xmPxJ5o+eMPvZ8TTWnjhweNHjR7ZY59HUnjvSoz5ZralUivlXyc/6oQ996A0LBaQ4V9o2ArlVYJ3w0/LFEs4ag2xSwCYWcEZpgcoeALdmM7i1WzBh9cEYSGDUGoLal4ItMQWdWMGYJ83Cj2hSZcKXqIO1ezMe/e0rcEXSeODp59CxeScDq8EfgdYXhTaYhFEssOWLBORmQfrm7y83WG3pGVBYFS3zJH8rgdWRncW4L8V8rjqzHc8dfAXcJevArd+KvgkzrGIeulCWhWQZ4zXQRNaQKwaNWMCwS4AtVcEpvQPiFDA2YUTP1svBXbIBjzzzIuwUZuWLwETxq4HEigerKZyFPz0FnScKky+Or/+PH4Lr3grukh7Y/YkFwepJTSKUm4XaKcDojYFMFALz5dd+GHc88NSix48M1vbkKYOm5DPN5XKslZ/5zGdwySWXMIv13nvvZe+RK6Dx0b9xX+paKyxWc3waZ/RBeDKAI17Da4NaOMUcvvX9H4PbuBNcxyb0K00QC4A3NQmdPw1tMIcxdwqaYAEmiuvks3h5UANu027mXz2nNmHMYMPpMTVbk86t68GpcS00HgFafxw006v0JaEJ1fMHvBmWzfy93GClCatzVp6tpyf/Ki0WoDhWsrYp/KpcmcZNN30cHd0bwV2yHga3AL4wC3qEpdAzyilgiFWgpZtJJA9FIAZzooAzJie0fAwnTg6A49aC49bhvkf3Qe8KwSak4UyWofCSD7GuIzVfgpoiC8JVaEM1aEOT0IUmW26xKmlyT7Ja5+JQJYvVSKvJbDycQgFGTxx8ahLbr3g/rrzuj8BxPXD6EuzYix1vEwpQ2sJwhLOIZGfw7e/+BJu2XcWON9l5GawSPN6tW8m/SpZrR0cHC716z3veg3A4zLpMLoJGl4Dkc23URyvAqgzk2WSKIzGN10dM7HHNmygzoHb2Xor//Jd/A6XFB1ckD1e8Ai1ZrLFJaEJF6GhhAMVsBlI4MqKfn7jq15ihdfgwoDYwsG7bcz1+89op6Ch8yC2yONcxdxR68fzjYzMwbfzucoOVrbryJlk0AMF0IpBmyVfsmVm21FWl0qN7zQZw3Bp8759vQSBRgt4Xh9qXgMqfQp85CGO8Cm2kCFU4DVOiBF8ZMMay0IsJHD58goG1a90W3P/YMwysLor5FNKgGfGVDladNwFyjg1r3TB74uC4XiZPHzgCFy19XgDMSocId6QEWygDtSWIjvW7cMm6nbjq+j9CMjcrg7URIO+mfclapdwA9PrGN76BNWvWMGv15ptvnu8qgVSCqeQCkNwC0pdaAVY9X8GoPY7Tag88qWmMmYP4T3/xN+jYtIvBddzggjeax5jJC4M/CZUrDm8WMEenoPLnoQ5koPQncFJtr8/art+K4yNKuMUETo1M1C3WTVtx8MRZOKM5TDjDcKZqGHUKMKwAsFISFsq6RHGrwy6yNmvsEd8Ur2HQLmLPldeA47rQ2b0RwUgaBmcYI0YPnPEKW6qqEwqwZ2cw5k+gz+rHuD/KguMpQH7cG8TZvmF0dqzHpp6d+PXeA3CE4nCKWYza/NAEk28Ca2XOYp2ENjQFXXCq7S3WYGYGh89MQO+MMGuVwNq1bhdyRcDtSy4IVr4ADOs8MLii+NGt982DWaV1o39InryS2PGu3ErAVCqVDKi0UODyyy9nYVUEz0aAkmUrgVU6TlJKK8BKVqctPgN9MA9HtIozEzZwHb3YuPMqfPXb34fZF4U1EIfWJUAoAhPOKLSB3BxU87DQ5EQgiaMKM7g1W9C94z04NqSAIxzF0f4RdPTQ5NU69E3oIZZnoXTzsMZKGLaFWbB7o/X5TvaX22I1xarQR8oY8yZxXOtBsAq2MIDcA/e/cBwdHWvQ1bUOd939IPx8EkYXj1BmErZIEUqyWkMZGOMVjJM/kc/AVZyGKhyHTkzBFEvh1Il+Zu2SO+Deh/bCI6Zh41Po1zvhyU2veLDqfTTplMa3v/fTeSie7FPCYA7A6YktCNZxSwjhzAyM7hg7ftd7PohP/esvYHjMjGRmRrZYJXi8G7cESLJcCagUCUCTVo3QpMksepFfleApfdboGqDPWwHWMZsf7kQRhkAc7mSJ+UgpDvXTN3+JPbprfREMmz3wZ2twJYpQu3lQltmzWhtChZm+vbIAABSJSURBVGlMOEMw8yl46Nh1W9nx//CTXyI9C3zrn29F14497D075Rd189D5o/CmKxi3B9jvvROYNh6z3GAlqFLo1NBcViuKDCA5orCB23IV69sn/vSLLJzMkyqD2mMKJ+HLVNm+O1GCN1UG5UG1iRmm01GrD85YHhY+hRcGdPWY2O4duO/542yZ7KgnzmKFyTpu7Otb7bc6KkAjJKGdE51A+SSSoLwStFLPGE4ikKnh6BD52nvAdfTgBz/9FVRmPzx8Fj4xz8YexThPOIIQSrNQusJwUoa1YBzOeAE2MYtAbpLpecPl1+OyD3wEGq+IMasPVoFyV7yzpazScfLkVRsTOZFIYM+ePQyqBFaXy4VIJMJa3JjsWgqvksAqbaWutQKsQhnsgicg0MqWyz5wExMa2ARO+txF2YlcYbw+osHWa25kg/zv/tfP2JLVYH6KQWXQ6MINH/837LNrP/JpPHe8H1f/q0+yv//gT/49TLTW2xeFL12BVcxg3OZnYJEG+DvdLjdYJZ8qZbQSZ8EmrMhvuv7qP2RA/MhnbwbpIDEFdqMYMDiZPk+M69G1cw+49dvwyG8PQ+0RWJ8d0RwcsTwDBoH1nt+8Xgf0lj247YkXGcQp8oBcDZRZayG9tDtYD54exrpdVzM30b//f7+KSG4G+SkgUQC01iAbO3Tj3n7dH7Dxt/fQMbaYhN6jMUdLo6+96VNsHNENn27g/kyV3dzp5rWQfhb6XAarRJ822/r9fnz5y1/G5s2bGVg//elP43vf+x5bcUXbH/3oR/MtfjNIpQkv6QutAOuQ2QO1R8TXvvujuo+0qxfcpp3n97t6cfvjz8KVLEHhCNU/27SLHWMRM7BFcjh0dpwN9Nseegoc+WbXbMHO9/2r+jnWbsX9z74EXSAGfSCOQG4KGm+E+VpNPGU3WpzFsdxgpVAybxEYdkZZPCuFWf3Jl75RtzI3XMb6uJWgQHrr6sWRIRWC+em6rubeGzS62QThuD3I+k86GzZ7YYvm8PKoGdzmPex8v3z6ZfZbFNZF/lyylBfST6vBKlmrtJWs1UaL9Y/+7c3zq6249bRa7VLmaiJ30/FBDQvB+82x/rr+unthFbMIFqbhz07CESvglgf2sjHVvftqcBTvSwsE5vT6Z3/99wvqZyH9yWCV6NOG23Xr1s1bq729NOvJzbsFaF9abUUglaxW6kY7gDWQn8KgyY1//Wd/iU6ysGjQbtzBtluv/QNwPbvx3VvvAsHh7qeeB7d+Oz74qc8xsFIgu8otIFSYAT3q0+P9f/jK39TP0UuhV7348v/3j7AIGQZVsj7IFUALBSim1Rlf2CJb6MJYbrD2mYJsFp9WYFFCFlreevlNn6mDdf1u9Oy5od7f9dvZ9sDRszilNONP/+s3wG25HF/61veYS8DMp3FGbWVLVlUeAQNGF/jSLO4mi3UrQeNSZrHSCi+COeUmoBjahfrf7mCVIMhyBdBy1o5erNl6JdseH1Cj3+CEdGP64R0Pwh7No09jgzGUxGmVGV/6Nq3m651zM9VvXpuuvAHc2q34k//8lQX1s5D+ZLC2IVCpSZSLleBJQr5VaZ+25HOl/AFkidJL2l6oK62wWCn8ibIyBYuz0PhisMeKcCbKTEZsAdiiBXgyNVgjeWza8wEWUvXQc0dgieTY2n/a0vdMfAZjjhDbupIV7D96Dt5MDf0GNzunNhCHLVZAn84Bd7oKXTABR7y06AtjucFKyawpTwDlDCDfap85hNAk8JrSDvKck66UHhGB/AyLPaX4U4pmrudM2IwjQxqYqYaVk2f6daeq0NFkYCAOXSBRh7Y/xSbEqJ4WAZwyaVHeV4qTXQgMLQcrn4LuTaIPp0DZzEhIFwMGN/O5G/xxhHMzEItAogqMWwLzuurceTX7/rgjDGM4Db4CNvaECjBg8rDvkR5p3IxYAwgWZsCXsaB+FtKfDNYL0agN3pdWXWUyGdYa8rlKlqlOp2PvlUql+egAimmVrNjG5rcCrCpvhKWrmyDLsziLY+NGxKYBsQZY6ZHV4oeGVkwF4gwWW6//8DxQRm2U5DnMBv3RMT1GbUH2yKsPJqH2RhhQhCowYPRA7Y3Cm5lkoKX36AKhNHkLDfyFPl9usA7YRfZYTnGr7kL9QvZXaDlvAcc0bgZH0tO4MwyCJi2A6De60Xv1jbjyDz8JV6rCAODLTbHPSS+GUAqhEpguaFUXWad0foJ3v5VnixDIp1u3Xi/uKml3sNL4mXDyMFP5GF+MpUccNfngiZdhCaVxUmlmma8++6W/YjfrPq2DjRPSp0XMgcbSkMXHxiWNn0ETuVAK7P1zeteix48M1kYCtdG+lBuAogKo7pUU10qP+Y2rqyRoUtMJstL3GrsifYeOo4iBQrEM7pJubNx+GVxCBo5IEZpABlqhgokw1RFafNq06BQwQrlAwxmWxd7IZ9Gnd8Mo5NjflDdz1MGzz2975Fk8f2YMJiGHc0YvbLES+67SE0V0GtAEkrBECjCJefTpXDDwWThTVQzbQuxczmQVKl+cLRCQfm8hcC70+XKDlU0kxao4awnjuMbNlrO+NGxgNxdaVaX0xmCO5GGJFqBwR5gO7n7mJdzx5AsYd4kYMPtZfoQRexgkZw0epgPKTUo68JXA8rxSJViasKKVXvSbVLmAFiQs1P9Wg5WSc79ZpDbRdszBM11RYclgETCLefiy0zg2boY3M4X7DxzGP9/9GI5NWODNTcOVqrHxMWjxs3HkL4DpmKpS0PnoeJU3BjeFtMUpx+3FbzwLfS6DtZFAbbZP1QKkF8FRigQg6NKEFVmw9CJYNgK1Ebz0eSvASmnZCID2eJkNZFd6EuZIATSQScZdAgMj7etCaXhzM+g3+diWyonYExUGFNpqA0l2IQ1aAuxRbtgWxIQnCnemHshOvyOdm+BLF8pCA3+hz5cbrORTpZwGZFWSW0AvllhKwEMjJjDLNZhkCx4mGFQT7MZCLoL6zSnLdEoAGLWHWTlwX36GgVXjT4BuSMOuKIMp+VMpVnbEFWN+XKqtRRNlC/Vfglirigm+Gar0t9Qm2hIYXx83wZudZkAk0Gr9Sfb3oNmPMafAxpA/P8vGlTVaZO9ZY0U2VljJGj8lus6B3qObky8/y8bZUowfGaxEnnf5qxVg1VFykRbKQuBY6PPlButCv79Y3S10/oU+lyDWKrDqw5R39XdlXi+skgDVv3prmf/eOxyDC+lnoc9lsL7LoUrdk8Ha/GOdDNbWFhN8K6jSe/PAlMG6CsjV5l1sBVjr9YnqtZRasb+QRbHQ560G62J1tlD/Fvq81RYrVZsl0ZOwWl71mlyU4Yp0Q6FjJGoSIc+qIagatq3Wn2yxtjkUl6J5MlhXnsXaajDIYG1+zDTerGSwLgW52vwcrQBr4yBbifuttlhbrbPWg7WA+YqxIaoaS1VoC6waLemmXtG3ACXlVRULmBALUDRIq/Ung7XNobgUzZPB2rz1IYO1tT5WCaq01ctgZbHqlM2OWwogyOdYGg20AqxShc1WbRdrsbQarIvV22L733KLNViEgSRUhH5OdOEiqJoslbamWlhSMusJsQiFWMR45Ly0Wn+yxbo07Grrs8hgXXkWa6vBIIO1+THTeDOTwdrWSFyaxrUCrI2DbCXut9pibbXOWg3WVvd/sb8vg3Vp2NXWZ5HB2rz1IYO1tT7WxYKt1cfLYG1rJC5N42SwymBtFjSyxdr8mGnUsQzWpWFXW59FBmvzF4lsscoWayMom92XwdrWSFyaxslglcHaLBhki7X5MdOoYxmsS8Outj6LDNbmLxLZYpUt1kZQNrsvg7Wtkbg0jZPBKoO1WTDIFmvzY6ZRxzJYl4ZdbX0WGazNXySyxSpbrI2gbHZfBmtbI3FpGieDVQZrs2CQLdbmx0yjjmWwLg272vosMlibv0hki1W2WBtB2ey+DNa2RuLSNE4GqwzWZsEgW6zNj5lGHctgXRp2tfVZZLA2f5HIFqtssTaCstl9GaxtjcSlaZwMVhmszYJBtlibHzONOpbBujTsauuzyGBt/iKRLVbZYm0EZbP7MljbGolL0zgZrDJYmwWDbLE2P2YadSyDdWnY1dZnkcHa/EUiW6yyxdoIymb3ZbC2NRIX0biZKWB2GpidAWZnWQns6uQk8uUK0qUyuO516N6yA6FMASqXHzq/AFcyjxGbB5ZoGsZQZlWLM15Av96O02ozuK5NWH/FdYhOAip3GFYxDWM4cXFZ6fpboH86fxRiBdD4RJj5FNPFy/3j87pa7eNHEy6DRBsugSofUKVZYygLUygNSzCJ/3nrr8Ct7cWWS6/EHfc+iFdePYrDr74GxYQKBoMBoigilUqhXC5jenpaLs2yCBQu7aELgbWjG9uuvAZisQp/pgBPKg9bNA21j4cjSYNgdYPVxCeh9gp4fUTDYMFtvQyOWA5mPglDKH5xqBKUVrr+FgDroNHJbjBKutFEMlB5eLxwegjc5t3o2fO+ld//Rf7/LQTWf/yX28Gt34KN2y7FP//kVuw78BxeevkwtHojfD4fIpEI0uk0KpWKDNalJeMizzZD1qpksWLOYq2hIFmsHV3YcsUevHD0JF7pG8DxMSWODI7htFqPPq0JA2rrqpZ+tQF9Ezo8cuBFdG7dhd3v/SBeOTOAPqUO/WojBjQLyErX3wL907r80HtCGDXaMWay48CR4/j5A4+A692O7m2XruqxQ9fOaY2byRmNC30aJ85qHOhX2zCgtmBIZcLffe+H2Hbpe/D+Gz+MO351N1588UUcPnwYygkFLCYjotEoMpkMAyu58uglFxNcJBOX5PCFwLpuA7jONdh65TXgeragc/tucGs2gNuyA1w3fbZplct6cF3rwfVsA9e5HtyaTdiw+8r6Pv29oKx0/b2dPta/07V1F7gNW7D96vfW9bJ2pfd9CdrftR0cExo/W8F1bgbX2QuuYxO4Drq+1oG7ZA2uuOpa/OL2O/Hyyy/j+PHj0KpVsFstiMViyGazqFarDKgyWJeEiktwErrLzflXMftGizVTLKF35y5wHV3gOkm6wXWtqUvP5vq2ez24VSybtm1H98YecB2dvyObd9JNaO3FZaXrboH+raVxQmOH9EPjh7Zdc9vuNat67LDrZs1mcEx6wa3pYTdmrntj3WjpXof1G3vQ09ODm2++GXsfexSvHT6EMydeh1mrRNDjQCKRQC6Xw+Tk5DwMZIt1XhUt3FkArHw8AZs/AIPLjZMjY3j+6HHc99Q+/OyBh/DLXz+KW2+/a1XLD378Ezz42OO4+8GHcdcDD+HhvU/ivl8/itvvuRc/+uktuPX2OxeQla6/i/fv9nvvw5333Y9f3n0P2/78V3fhzvsewB333od7H/71qh47dO385I4H5uR+/Mvt9+Gnt9+LW26/h+nltl/+CnfcdQ/uvvtuHDhwAKeOH8Xx14/g3KnjsBm1iIR8SCaTKBQKmJqamoeIDNZ5VbRwZ2YWZKkyQd1irdXIx1pCtliA0+eFzmKGzevBqEaN08NDOHLmNB58ci+ef+1V7N+/f1XLE088ht8+/xwef/xR3Hnn7Xj41w9h376n8NRTe/Hkk09g//59C8hK19/F+/fggw9g//5n8Pjjj+Gxxx7B/mdp/1E88uiv2Xa1j5+nnn0OJE/v/w2TffsP4Jn9z7Jr6tln9uO5A/tx8Le/wZFDL+Lo4Zdw5tir0CtHEA26UUxFWERAsVh8A1iJJlwLkSL/NGlgAbDSfdAV8MPkcuLM8BDOKcagMBrw2IFn8VrfGbz00kurWo4efQ0vvPBbBtdXDr+Mvr7TOPLqYTzzzD4cO/Y6Xnrp4AKy0vV38f49/8JvcfbsGRw6dBDPPXcAp06dYPo4+BJNwryyqscOXTsvHDo8Ly8eegUvHnoZB186xPRy6KWX8Mqhgzh57HWcO30CQ2dPwaAaR9hrRzToQchtZREBBFYKtWp8yWBt1EaL92lWkf6DyF9TnayhWqshnkogEo8iKIbg8ntgdligMemg0CoxqhrHcH/fKpezGO5fjKx0/S2m73TsSu//4to/MDCARhkc6MfgwDkMkfSfhXJ8BGrFKAxqBXv89zrMEPwuJIQAMjGeTVrREya5Auj6JTcAvWSwthimjT8vgZX+k2oMrpPI5LNIZlOIJGMIRsJwB72wuu0w2s3QWw0w6zWrXLQw6xcjK11/i+k7HbvS+7+49lOQf6MYDXoYDTqYSPRaWAxa2Ew6OK1G+J1WCH43kmIQuYSIYjr2O2CVrmcZrJImWr0lV+vcyiuyWqemJjE1VUWlWkK5nEehkEYmG0c8IUCMBBDmvQiF3RBDvtUtwSDExchK199i+k7HrvT+L7L94VAQjcKHgmiUUMCPcDAAIRxEVBSQjMeQy6RRLuRRLRdB1io9YdI1K1mrhBIZrK0GasPvS2CtW65TmJ6m/zB6zKigViuiXMmhWEojV0ggm4shk40im4ytbkkkkF2MrHT9LabvdOxK7/8i259OJnAxyaaTyKZTyGVSyGczKBVyDKhTtQpmpuouAIIqXbONLxmsjdpog32Ca12mMTM7iZmZKmZmaLlcCdNTBUxN5jBZy6BWTaNWTbH/aPrPXrWSL6G0GFnpultM3+nYld7/RbafJp4uJIViCeVKFaVKDaW5bblK8x8zqE0DkzNglmqjb1VCiAxWSRNtt6U7IMG1htnZCmZnypidKWFmpoiZ6fyc5DA9WV3dUpvG9GJkpetvMX2nY1d6/xfZfprPuJDUpqYxOT2D2tQMqlPTqE5OozpFUJ3FFEF1bkFPowtAwogMVkkTLdo2hLA2tIDeJbBSsFUNQBVABZgtAbNFYLYAzOaZnLdwJUt3lW2lhWvvdDv/hLBC9fZO+y0dt9L7v8j2U7Rjo1DQlCR09ZHQmqraLFCdE7oi6T2St4IqXcgyWBtw1ordhcHK/lvrYEUZQAlAcV5ksM6tCJZA0ex2kRdmy/XfbH/f/P2V3v9Ftl+CKlmfjTI1C5AQZBsBKwFV2l6IGTJYL6QZ+X1ZA7IGZA28Qw38HykZE4TYhkQrAAAAAElFTkSuQmCC'>\n",
        "</p>\n",
        "\n",
        "Figure 4-1. Indexing elements in a NumPy array"
      ]
    },
    {
      "cell_type": "markdown",
      "metadata": {
        "id": "obm5fhe_iMkB"
      },
      "source": [
        "In multidimensional arrays, if you omit later indices, the returned object will be a lower dimensional ndarray consisting of all the data along the higher dimensions\n",
        "\n",
        "So in the 2 x 2 x 3 array arr3d:"
      ]
    },
    {
      "cell_type": "code",
      "metadata": {
        "id": "rJ-ECr67jjEU"
      },
      "source": [
        "arr3d = np.array([[[1, 2, 3], [4, 5, 6]], [[7, 8, 9], [10, 11, 12]]])"
      ],
      "execution_count": 62,
      "outputs": []
    },
    {
      "cell_type": "code",
      "metadata": {
        "colab": {
          "base_uri": "https://localhost:8080/"
        },
        "id": "mtquKCzDjkuv",
        "outputId": "7b28bb3b-92fd-47d2-ec26-932fdc779c33"
      },
      "source": [
        "arr3d"
      ],
      "execution_count": 63,
      "outputs": [
        {
          "output_type": "execute_result",
          "data": {
            "text/plain": [
              "array([[[ 1,  2,  3],\n",
              "        [ 4,  5,  6]],\n",
              "\n",
              "       [[ 7,  8,  9],\n",
              "        [10, 11, 12]]])"
            ]
          },
          "metadata": {},
          "execution_count": 63
        }
      ]
    },
    {
      "cell_type": "markdown",
      "metadata": {
        "id": "wh8NWHj3jujR"
      },
      "source": [
        "arr3d[0] is a 2 x 3 array"
      ]
    },
    {
      "cell_type": "code",
      "metadata": {
        "colab": {
          "base_uri": "https://localhost:8080/"
        },
        "id": "bisYbsWFjr5G",
        "outputId": "a4d46bd4-84b7-4e7c-845a-44d0014918e4"
      },
      "source": [
        "arr3d[0]"
      ],
      "execution_count": 64,
      "outputs": [
        {
          "output_type": "execute_result",
          "data": {
            "text/plain": [
              "array([[1, 2, 3],\n",
              "       [4, 5, 6]])"
            ]
          },
          "metadata": {},
          "execution_count": 64
        }
      ]
    },
    {
      "cell_type": "markdown",
      "metadata": {
        "id": "ZLpToP68j10C"
      },
      "source": [
        "Both scalar values and arrays can be assigned to arr3d [0]:"
      ]
    },
    {
      "cell_type": "code",
      "metadata": {
        "id": "plcEhXhXj6Sb"
      },
      "source": [
        "old_values = arr3d[0].copy()"
      ],
      "execution_count": 65,
      "outputs": []
    },
    {
      "cell_type": "code",
      "metadata": {
        "id": "4Nq3H-94kBNb"
      },
      "source": [
        "arr3d[0] = 42"
      ],
      "execution_count": 66,
      "outputs": []
    },
    {
      "cell_type": "code",
      "metadata": {
        "colab": {
          "base_uri": "https://localhost:8080/"
        },
        "id": "qYW8Wi80kDF1",
        "outputId": "1ed6a633-3c3d-496c-e3b3-5c9898c29290"
      },
      "source": [
        "arr3d"
      ],
      "execution_count": 67,
      "outputs": [
        {
          "output_type": "execute_result",
          "data": {
            "text/plain": [
              "array([[[42, 42, 42],\n",
              "        [42, 42, 42]],\n",
              "\n",
              "       [[ 7,  8,  9],\n",
              "        [10, 11, 12]]])"
            ]
          },
          "metadata": {},
          "execution_count": 67
        }
      ]
    },
    {
      "cell_type": "code",
      "metadata": {
        "id": "4nliZFBYkEpe"
      },
      "source": [
        "arr3d[0] = old_values"
      ],
      "execution_count": 68,
      "outputs": []
    },
    {
      "cell_type": "code",
      "metadata": {
        "colab": {
          "base_uri": "https://localhost:8080/"
        },
        "id": "EQrziUTmkHA8",
        "outputId": "c38aff98-e4f9-4732-b833-a6a31b3deb55"
      },
      "source": [
        "arr3d"
      ],
      "execution_count": 69,
      "outputs": [
        {
          "output_type": "execute_result",
          "data": {
            "text/plain": [
              "array([[[ 1,  2,  3],\n",
              "        [ 4,  5,  6]],\n",
              "\n",
              "       [[ 7,  8,  9],\n",
              "        [10, 11, 12]]])"
            ]
          },
          "metadata": {},
          "execution_count": 69
        }
      ]
    },
    {
      "cell_type": "markdown",
      "metadata": {
        "id": "60DnBFKCkR3E"
      },
      "source": [
        "Similarly, arr3d[1, 0] gives you all of the values whose indices start with (1, 0), forming a 1-dimensional array:"
      ]
    },
    {
      "cell_type": "code",
      "metadata": {
        "colab": {
          "base_uri": "https://localhost:8080/"
        },
        "id": "Ga4s6sErkbfT",
        "outputId": "d5fe620a-cb62-4950-8757-6ba971e1081c"
      },
      "source": [
        "arr3d[1, 0]"
      ],
      "execution_count": 70,
      "outputs": [
        {
          "output_type": "execute_result",
          "data": {
            "text/plain": [
              "array([7, 8, 9])"
            ]
          },
          "metadata": {},
          "execution_count": 70
        }
      ]
    },
    {
      "cell_type": "markdown",
      "metadata": {
        "id": "NxaaymvDkg5m"
      },
      "source": [
        "This expression is the same as though we had indexed in two steps:"
      ]
    },
    {
      "cell_type": "code",
      "metadata": {
        "id": "R46eudGPkimZ"
      },
      "source": [
        "x = arr3d[1]"
      ],
      "execution_count": 71,
      "outputs": []
    },
    {
      "cell_type": "code",
      "metadata": {
        "colab": {
          "base_uri": "https://localhost:8080/"
        },
        "id": "kKk0VjaNkj8c",
        "outputId": "95eb2cee-9eda-40dc-aed3-f1b2c20280a9"
      },
      "source": [
        "x"
      ],
      "execution_count": 72,
      "outputs": [
        {
          "output_type": "execute_result",
          "data": {
            "text/plain": [
              "array([[ 7,  8,  9],\n",
              "       [10, 11, 12]])"
            ]
          },
          "metadata": {},
          "execution_count": 72
        }
      ]
    },
    {
      "cell_type": "code",
      "metadata": {
        "colab": {
          "base_uri": "https://localhost:8080/"
        },
        "id": "_Op66NQIkk-h",
        "outputId": "803b2258-d3ce-4c99-a3fa-951f2ee23ba0"
      },
      "source": [
        "x[0]"
      ],
      "execution_count": 73,
      "outputs": [
        {
          "output_type": "execute_result",
          "data": {
            "text/plain": [
              "array([7, 8, 9])"
            ]
          },
          "metadata": {},
          "execution_count": 73
        }
      ]
    },
    {
      "cell_type": "markdown",
      "metadata": {
        "id": "p9VRfcFKkqYf"
      },
      "source": [
        "### Indexing with slices"
      ]
    },
    {
      "cell_type": "markdown",
      "metadata": {
        "id": "pnL-PPRsktTV"
      },
      "source": [
        "Like one-dimensional objects such as Python lists, ndarrays can be sliced with the familiar syntax:"
      ]
    },
    {
      "cell_type": "code",
      "metadata": {
        "colab": {
          "base_uri": "https://localhost:8080/"
        },
        "id": "GOGgravvkvZh",
        "outputId": "78911997-a3fd-4f25-8f36-784427819e66"
      },
      "source": [
        "arr"
      ],
      "execution_count": 74,
      "outputs": [
        {
          "output_type": "execute_result",
          "data": {
            "text/plain": [
              "array([ 0,  1,  2,  3,  4, 64, 64, 64,  8,  9])"
            ]
          },
          "metadata": {},
          "execution_count": 74
        }
      ]
    },
    {
      "cell_type": "code",
      "metadata": {
        "colab": {
          "base_uri": "https://localhost:8080/"
        },
        "id": "LuEhTM6RkxW6",
        "outputId": "367d424e-b02c-4022-c8d3-d038467950a7"
      },
      "source": [
        "arr[1:6]"
      ],
      "execution_count": 75,
      "outputs": [
        {
          "output_type": "execute_result",
          "data": {
            "text/plain": [
              "array([ 1,  2,  3,  4, 64])"
            ]
          },
          "metadata": {},
          "execution_count": 75
        }
      ]
    },
    {
      "cell_type": "markdown",
      "metadata": {
        "id": "2dnf6zeYk0Q-"
      },
      "source": [
        "Consider the two-dimensional array from before, arr2d. Slicing this array is a bit different:"
      ]
    },
    {
      "cell_type": "code",
      "metadata": {
        "colab": {
          "base_uri": "https://localhost:8080/"
        },
        "id": "KeVnoauIk3x2",
        "outputId": "8ed3cfd9-0470-4084-9569-cd31a268410d"
      },
      "source": [
        "arr2d"
      ],
      "execution_count": 76,
      "outputs": [
        {
          "output_type": "execute_result",
          "data": {
            "text/plain": [
              "array([[1, 2, 3],\n",
              "       [4, 5, 6],\n",
              "       [7, 8, 9]])"
            ]
          },
          "metadata": {},
          "execution_count": 76
        }
      ]
    },
    {
      "cell_type": "code",
      "metadata": {
        "colab": {
          "base_uri": "https://localhost:8080/"
        },
        "id": "1COaQQIbk6Tc",
        "outputId": "93f9faa4-1602-49b6-8810-6b819b5c8871"
      },
      "source": [
        "arr2d[:2]"
      ],
      "execution_count": 84,
      "outputs": [
        {
          "output_type": "execute_result",
          "data": {
            "text/plain": [
              "array([[1, 2, 3],\n",
              "       [4, 5, 6]])"
            ]
          },
          "metadata": {},
          "execution_count": 84
        }
      ]
    },
    {
      "cell_type": "markdown",
      "metadata": {
        "id": "0Oiz1XkfljjY"
      },
      "source": [
        "As you can see, it has sliced along axis 0, the first axis\n",
        "\n",
        "A slice, therefore, selects a range of elements along an axis. It can be helpful to read the expression **arr2d[:2] as “select the first two rows of arr2d.”**"
      ]
    },
    {
      "cell_type": "markdown",
      "metadata": {
        "id": "mwENx1gpl16g"
      },
      "source": [
        "You can pass multiple slices just like you can pass multiple indexes:"
      ]
    },
    {
      "cell_type": "code",
      "metadata": {
        "colab": {
          "base_uri": "https://localhost:8080/"
        },
        "id": "evLnu-mXl4Fq",
        "outputId": "95d27e72-0575-4603-8dd9-a7b63e707526"
      },
      "source": [
        "arr2d[:2, 1:]"
      ],
      "execution_count": 85,
      "outputs": [
        {
          "output_type": "execute_result",
          "data": {
            "text/plain": [
              "array([[2, 3],\n",
              "       [5, 6]])"
            ]
          },
          "metadata": {},
          "execution_count": 85
        }
      ]
    },
    {
      "cell_type": "markdown",
      "metadata": {
        "id": "elLqB-kdl_Ai"
      },
      "source": [
        "When slicing like this, you always obtain array views of the same number of dimensions\n",
        "\n",
        "By mixing integer indexes and slices, you get lower dimensional slices\n",
        "\n",
        "For example, I can select the second row but only the first two columns like so:"
      ]
    },
    {
      "cell_type": "code",
      "metadata": {
        "colab": {
          "base_uri": "https://localhost:8080/"
        },
        "id": "o99FP1gYmy_C",
        "outputId": "277cea7c-d211-4663-e8d5-f95c95441849"
      },
      "source": [
        "arr2d[1, :2]"
      ],
      "execution_count": 86,
      "outputs": [
        {
          "output_type": "execute_result",
          "data": {
            "text/plain": [
              "array([4, 5])"
            ]
          },
          "metadata": {},
          "execution_count": 86
        }
      ]
    },
    {
      "cell_type": "markdown",
      "metadata": {
        "id": "WaFdPqhFm5lj"
      },
      "source": [
        "Similarly, I can select the third column but only the first two rows like so:"
      ]
    },
    {
      "cell_type": "code",
      "metadata": {
        "colab": {
          "base_uri": "https://localhost:8080/"
        },
        "id": "gbt2Yltsm8DE",
        "outputId": "41db329f-76b4-4f88-e8a7-f6383e8db60c"
      },
      "source": [
        "arr2d[:2, 2]"
      ],
      "execution_count": 87,
      "outputs": [
        {
          "output_type": "execute_result",
          "data": {
            "text/plain": [
              "array([3, 6])"
            ]
          },
          "metadata": {},
          "execution_count": 87
        }
      ]
    },
    {
      "cell_type": "markdown",
      "metadata": {
        "id": "6xTcMOE0nJ2P"
      },
      "source": [
        "See Figure 4-2 for an illustration. Note that **a colon by itself means to take the entire axis**, so you can slice only higher dimensional axes by doing:"
      ]
    },
    {
      "cell_type": "code",
      "metadata": {
        "colab": {
          "base_uri": "https://localhost:8080/"
        },
        "id": "XdqhN8_znQQh",
        "outputId": "559f2c11-c1ad-47a5-c129-548e0f100185"
      },
      "source": [
        "arr2d[:, :1]"
      ],
      "execution_count": 88,
      "outputs": [
        {
          "output_type": "execute_result",
          "data": {
            "text/plain": [
              "array([[1],\n",
              "       [4],\n",
              "       [7]])"
            ]
          },
          "metadata": {},
          "execution_count": 88
        }
      ]
    },
    {
      "cell_type": "markdown",
      "metadata": {
        "id": "5MmZPDSBnVwX"
      },
      "source": [
        "Of course, assigning to a slice expression assigns to the whole selection:"
      ]
    },
    {
      "cell_type": "code",
      "metadata": {
        "id": "ymi6z_e-nYtM"
      },
      "source": [
        "arr2d[:2, 1:] = 0"
      ],
      "execution_count": 90,
      "outputs": []
    },
    {
      "cell_type": "code",
      "metadata": {
        "colab": {
          "base_uri": "https://localhost:8080/"
        },
        "id": "GzQFilT3ng0G",
        "outputId": "bec49179-00ac-41bd-b3ea-d67a4a1b94a9"
      },
      "source": [
        "arr2d"
      ],
      "execution_count": 91,
      "outputs": [
        {
          "output_type": "execute_result",
          "data": {
            "text/plain": [
              "array([[1, 0, 0],\n",
              "       [4, 0, 0],\n",
              "       [7, 8, 9]])"
            ]
          },
          "metadata": {},
          "execution_count": 91
        }
      ]
    },
    {
      "cell_type": "markdown",
      "metadata": {
        "id": "y25EAkgDniP6"
      },
      "source": [
        "<p align='center'>\n",
        "<img src='data:image/png;base64,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'>\n",
        "</p>\n",
        "Figure 4-2. Two-dimensional array slicing"
      ]
    },
    {
      "cell_type": "markdown",
      "metadata": {
        "id": "tVmsT-Wgn41g"
      },
      "source": [
        "## Boolean Indexing"
      ]
    },
    {
      "cell_type": "markdown",
      "metadata": {
        "id": "IoAA7uthn7Q-"
      },
      "source": [
        "Let’s consider an example where we have some data in an array and an array of names with duplicates\n",
        "\n",
        "I’m going to use here the randn.random function in numpy to generate some random normally distributed data:"
      ]
    },
    {
      "cell_type": "code",
      "metadata": {
        "id": "ri1wRvH5n66y"
      },
      "source": [
        "names = np.array(['Bob', 'Joe', 'Will', 'Bob', 'Will', 'Joe', 'Joe'])"
      ],
      "execution_count": 92,
      "outputs": []
    },
    {
      "cell_type": "code",
      "metadata": {
        "id": "mM4il_nMoWFs"
      },
      "source": [
        "data = np.random.randn(7, 4)"
      ],
      "execution_count": 101,
      "outputs": []
    },
    {
      "cell_type": "code",
      "metadata": {
        "colab": {
          "base_uri": "https://localhost:8080/"
        },
        "id": "jrELdYcQoZRP",
        "outputId": "09d0ee36-6728-411b-c890-5aff9a4d8abc"
      },
      "source": [
        "names"
      ],
      "execution_count": 102,
      "outputs": [
        {
          "output_type": "execute_result",
          "data": {
            "text/plain": [
              "array(['Bob', 'Joe', 'Will', 'Bob', 'Will', 'Joe', 'Joe'], dtype='<U4')"
            ]
          },
          "metadata": {},
          "execution_count": 102
        }
      ]
    },
    {
      "cell_type": "code",
      "metadata": {
        "colab": {
          "base_uri": "https://localhost:8080/"
        },
        "id": "EQ-jaKU-oalU",
        "outputId": "a4ef0643-f0b1-40f0-c99c-90a937e6a170"
      },
      "source": [
        "data"
      ],
      "execution_count": 103,
      "outputs": [
        {
          "output_type": "execute_result",
          "data": {
            "text/plain": [
              "array([[-0.26788808,  0.53035547, -0.69166075, -0.39675353],\n",
              "       [-0.6871727 , -0.84520564, -0.67124613, -0.0126646 ],\n",
              "       [-1.11731035,  0.2344157 ,  1.65980218,  0.74204416],\n",
              "       [-0.19183555, -0.88762896, -0.74715829,  1.6924546 ],\n",
              "       [ 0.05080775, -0.63699565,  0.19091548,  2.10025514],\n",
              "       [ 0.12015895,  0.61720311,  0.30017032, -0.35224985],\n",
              "       [-1.1425182 , -0.34934272, -0.20889423,  0.58662319]])"
            ]
          },
          "metadata": {},
          "execution_count": 103
        }
      ]
    }
  ]
}